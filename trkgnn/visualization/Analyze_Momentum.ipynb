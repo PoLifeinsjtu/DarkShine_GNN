{
 "cells": [
  {
   "cell_type": "code",
   "execution_count": 1,
   "id": "initial_id",
   "metadata": {
    "collapsed": true,
    "ExecuteTime": {
     "end_time": "2023-11-12T15:02:11.180001Z",
     "start_time": "2023-11-12T15:02:10.149332Z"
    }
   },
   "outputs": [],
   "source": [
    "import torch\n",
    "import numpy as np\n",
    "import pandas as pd\n",
    "import uproot as up\n",
    "import awkward as ak\n",
    "import os\n",
    "\n",
    "import plotly.graph_objects as go\n",
    "from plotly.subplots import make_subplots"
   ]
  },
  {
   "cell_type": "code",
   "execution_count": 2,
   "outputs": [],
   "source": [
    "E0 = 8000\n",
    "\n",
    "tracks = []\n",
    "prefix = '/Users/avencast/Desktop/Work/GNN/c0.999'\n",
    "for lt in os.listdir(prefix):\n",
    "    if lt.endswith('lt'):\n",
    "        tmp_list = torch.load(os.path.join(prefix, lt))\n",
    "        tracks += tmp_list"
   ],
   "metadata": {
    "collapsed": false,
    "ExecuteTime": {
     "end_time": "2023-11-12T15:02:13.896850Z",
     "start_time": "2023-11-12T15:02:11.181063Z"
    }
   },
   "id": "5e188f5500ef9352"
  },
  {
   "cell_type": "code",
   "execution_count": 3,
   "outputs": [],
   "source": [
    "# Define the columns you will use (excluding 'entry' and 'subentry' which are part of the MultiIndex).\n",
    "columns = ['run_num', 'evt_num', 'rec_ID', 'rec_Pi', 'rec_Pf', 'rec_PAvg', 'rec_PStd', 'rec_Vx', 'rec_Vy', 'rec_Vz', 'rec_Charge', 'rec_ChargeQ', 'num_trk']\n",
    "\n",
    "# Initialize lists to hold the data.\n",
    "data = {col: [] for col in columns}\n",
    "index_list = []\n",
    "\n",
    "# Populate the lists with data.\n",
    "for i, evt in enumerate(tracks):\n",
    "\n",
    "    sorted_evt = sorted(evt, key=lambda trk: trk.p_avg, reverse=True)\n",
    "\n",
    "    for j, trk in enumerate(sorted_evt):\n",
    "        index_list.append((i, j))  # Append the index tuple.\n",
    "        data['run_num'].append(trk.run_num)\n",
    "        data['evt_num'].append(trk.evt_num)\n",
    "        data['num_trk'].append(trk.global_num_trk)\n",
    "        data['rec_ID'].append(-1)\n",
    "        data['rec_Pi'].append(trk.p_i * E0)\n",
    "        data['rec_Pf'].append(trk.p_f * E0)\n",
    "        data['rec_PAvg'].append(trk.p_avg * E0)\n",
    "        data['rec_PStd'].append(trk.p_std * E0)\n",
    "        data['rec_Vx'].append(trk.vertex_hit[0])\n",
    "        data['rec_Vy'].append(trk.vertex_hit[1])\n",
    "        data['rec_Vz'].append(trk.vertex_hit[2])\n",
    "        data['rec_Charge'].append(trk.c)\n",
    "        data['rec_ChargeQ'].append(trk.c_quality)\n",
    "\n",
    "# Create the MultiIndex from the accumulated index tuples.\n",
    "multi_index = pd.MultiIndex.from_tuples(index_list, names=['entry', 'subentry'])\n",
    "\n",
    "# Create the DataFrame in one go.\n",
    "df = pd.DataFrame(data, index=multi_index)\n",
    "\n",
    "df = df.sort_values(by=['run_num', 'evt_num'], ascending=[True, True])\n",
    "df.reset_index(drop=True, inplace=True)"
   ],
   "metadata": {
    "collapsed": false,
    "ExecuteTime": {
     "end_time": "2023-11-12T15:02:54.672316Z",
     "start_time": "2023-11-12T15:02:53.170110Z"
    }
   },
   "id": "428f567125d5d712"
  },
  {
   "cell_type": "code",
   "execution_count": 4,
   "outputs": [
    {
     "data": {
      "text/plain": "        run_num  evt_num  rec_ID       rec_Pi       rec_Pf     rec_PAvg  \\\n0             0        0      -1  4740.073681  4875.735283  4839.977264   \n1             0        0      -1  2957.506180  2899.734735  2941.440821   \n2             0        0      -1   258.518189   258.518189   258.518189   \n3             0        1      -1  4327.688694  4800.971508  4684.295654   \n4             0        1      -1  4327.688694  3182.059765  3494.213581   \n...         ...      ...     ...          ...          ...          ...   \n277705        4    19997      -1   402.962506   393.375993   393.890977   \n277706        4    19998      -1  1250.066996  1250.066996  1250.066996   \n277707        4    19999      -1  1961.612344  2069.119215  2005.029440   \n277708        4    19999      -1  1760.735989  1689.649820  1744.329691   \n277709        4    19999      -1   801.025808   426.067412   695.638180   \n\n          rec_PStd     rec_Vx     rec_Vy     rec_Vz  rec_Charge  rec_ChargeQ  \\\n0        71.586810  -2.505000 -20.471136  38.779999          -1            1   \n1        29.748684  -2.505000 -20.471136  38.779999          -1            1   \n2         0.000000  -4.140000 -20.905239  53.779999           0            0   \n3       208.616897 -24.840000  -6.581889  22.779999          -1            1   \n4       482.073277 -24.840000  -6.581889  22.779999          -1            0   \n...            ...        ...        ...        ...         ...          ...   \n277705    7.205838 -23.415001 -11.389974   7.780000          -1            1   \n277706    0.000000   1.215000  20.739008  38.779999           0            0   \n277707   39.818197 -43.080002   0.777081  22.779999          -1            0   \n277708   29.190240 -38.895000  -0.972536   7.780000           1            1   \n277709  192.120701 -39.555000   0.811657   7.780000           0            0   \n\n        num_trk  \n0             3  \n1             3  \n2             3  \n3             2  \n4             2  \n...         ...  \n277705        3  \n277706        3  \n277707        3  \n277708        3  \n277709        3  \n\n[277710 rows x 13 columns]",
      "text/html": "<div>\n<style scoped>\n    .dataframe tbody tr th:only-of-type {\n        vertical-align: middle;\n    }\n\n    .dataframe tbody tr th {\n        vertical-align: top;\n    }\n\n    .dataframe thead th {\n        text-align: right;\n    }\n</style>\n<table border=\"1\" class=\"dataframe\">\n  <thead>\n    <tr style=\"text-align: right;\">\n      <th></th>\n      <th>run_num</th>\n      <th>evt_num</th>\n      <th>rec_ID</th>\n      <th>rec_Pi</th>\n      <th>rec_Pf</th>\n      <th>rec_PAvg</th>\n      <th>rec_PStd</th>\n      <th>rec_Vx</th>\n      <th>rec_Vy</th>\n      <th>rec_Vz</th>\n      <th>rec_Charge</th>\n      <th>rec_ChargeQ</th>\n      <th>num_trk</th>\n    </tr>\n  </thead>\n  <tbody>\n    <tr>\n      <th>0</th>\n      <td>0</td>\n      <td>0</td>\n      <td>-1</td>\n      <td>4740.073681</td>\n      <td>4875.735283</td>\n      <td>4839.977264</td>\n      <td>71.586810</td>\n      <td>-2.505000</td>\n      <td>-20.471136</td>\n      <td>38.779999</td>\n      <td>-1</td>\n      <td>1</td>\n      <td>3</td>\n    </tr>\n    <tr>\n      <th>1</th>\n      <td>0</td>\n      <td>0</td>\n      <td>-1</td>\n      <td>2957.506180</td>\n      <td>2899.734735</td>\n      <td>2941.440821</td>\n      <td>29.748684</td>\n      <td>-2.505000</td>\n      <td>-20.471136</td>\n      <td>38.779999</td>\n      <td>-1</td>\n      <td>1</td>\n      <td>3</td>\n    </tr>\n    <tr>\n      <th>2</th>\n      <td>0</td>\n      <td>0</td>\n      <td>-1</td>\n      <td>258.518189</td>\n      <td>258.518189</td>\n      <td>258.518189</td>\n      <td>0.000000</td>\n      <td>-4.140000</td>\n      <td>-20.905239</td>\n      <td>53.779999</td>\n      <td>0</td>\n      <td>0</td>\n      <td>3</td>\n    </tr>\n    <tr>\n      <th>3</th>\n      <td>0</td>\n      <td>1</td>\n      <td>-1</td>\n      <td>4327.688694</td>\n      <td>4800.971508</td>\n      <td>4684.295654</td>\n      <td>208.616897</td>\n      <td>-24.840000</td>\n      <td>-6.581889</td>\n      <td>22.779999</td>\n      <td>-1</td>\n      <td>1</td>\n      <td>2</td>\n    </tr>\n    <tr>\n      <th>4</th>\n      <td>0</td>\n      <td>1</td>\n      <td>-1</td>\n      <td>4327.688694</td>\n      <td>3182.059765</td>\n      <td>3494.213581</td>\n      <td>482.073277</td>\n      <td>-24.840000</td>\n      <td>-6.581889</td>\n      <td>22.779999</td>\n      <td>-1</td>\n      <td>0</td>\n      <td>2</td>\n    </tr>\n    <tr>\n      <th>...</th>\n      <td>...</td>\n      <td>...</td>\n      <td>...</td>\n      <td>...</td>\n      <td>...</td>\n      <td>...</td>\n      <td>...</td>\n      <td>...</td>\n      <td>...</td>\n      <td>...</td>\n      <td>...</td>\n      <td>...</td>\n      <td>...</td>\n    </tr>\n    <tr>\n      <th>277705</th>\n      <td>4</td>\n      <td>19997</td>\n      <td>-1</td>\n      <td>402.962506</td>\n      <td>393.375993</td>\n      <td>393.890977</td>\n      <td>7.205838</td>\n      <td>-23.415001</td>\n      <td>-11.389974</td>\n      <td>7.780000</td>\n      <td>-1</td>\n      <td>1</td>\n      <td>3</td>\n    </tr>\n    <tr>\n      <th>277706</th>\n      <td>4</td>\n      <td>19998</td>\n      <td>-1</td>\n      <td>1250.066996</td>\n      <td>1250.066996</td>\n      <td>1250.066996</td>\n      <td>0.000000</td>\n      <td>1.215000</td>\n      <td>20.739008</td>\n      <td>38.779999</td>\n      <td>0</td>\n      <td>0</td>\n      <td>3</td>\n    </tr>\n    <tr>\n      <th>277707</th>\n      <td>4</td>\n      <td>19999</td>\n      <td>-1</td>\n      <td>1961.612344</td>\n      <td>2069.119215</td>\n      <td>2005.029440</td>\n      <td>39.818197</td>\n      <td>-43.080002</td>\n      <td>0.777081</td>\n      <td>22.779999</td>\n      <td>-1</td>\n      <td>0</td>\n      <td>3</td>\n    </tr>\n    <tr>\n      <th>277708</th>\n      <td>4</td>\n      <td>19999</td>\n      <td>-1</td>\n      <td>1760.735989</td>\n      <td>1689.649820</td>\n      <td>1744.329691</td>\n      <td>29.190240</td>\n      <td>-38.895000</td>\n      <td>-0.972536</td>\n      <td>7.780000</td>\n      <td>1</td>\n      <td>1</td>\n      <td>3</td>\n    </tr>\n    <tr>\n      <th>277709</th>\n      <td>4</td>\n      <td>19999</td>\n      <td>-1</td>\n      <td>801.025808</td>\n      <td>426.067412</td>\n      <td>695.638180</td>\n      <td>192.120701</td>\n      <td>-39.555000</td>\n      <td>0.811657</td>\n      <td>7.780000</td>\n      <td>0</td>\n      <td>0</td>\n      <td>3</td>\n    </tr>\n  </tbody>\n</table>\n<p>277710 rows × 13 columns</p>\n</div>"
     },
     "execution_count": 4,
     "metadata": {},
     "output_type": "execute_result"
    }
   ],
   "source": [
    "df"
   ],
   "metadata": {
    "collapsed": false,
    "ExecuteTime": {
     "end_time": "2023-11-12T15:02:54.698343Z",
     "start_time": "2023-11-12T15:02:54.665720Z"
    }
   },
   "id": "5159ec3fde676747"
  },
  {
   "cell_type": "code",
   "execution_count": 5,
   "outputs": [],
   "source": [
    "# with up.open(\"/Users/avencast/CLionProjects/darkshine-simulation/workspace/Tracker_GNN.root:truth\") as f:\n",
    "\n",
    "truth = up.concatenate([\n",
    "    \"/Users/avencast/Desktop/Work/GNN/Tracker_20.root:truth\",\n",
    "    \"/Users/avencast/Desktop/Work/GNN/Tracker_200.root:truth\",\n",
    "    \"/Users/avencast/Desktop/Work/GNN/Tracker_100.root:truth\",\n",
    "    \"/Users/avencast/Desktop/Work/GNN/Tracker_50.root:truth\",\n",
    "    \"/Users/avencast/Desktop/Work/GNN/Tracker_500.root:truth\",\n",
    "],\n",
    "    filter_name=\"/^(?:(?!tag_).)*$/i\",\n",
    "    library=\"ak\"\n",
    ")\n",
    "truth = ak.to_dataframe(truth)\n",
    "truth.sort_values(by=['run_num', 'evt_num', 'rec_E'], ascending=[True, True, False], inplace=True)\n",
    "truth.reset_index(drop=True, inplace=True)\n",
    "\n",
    "truth['rec_Charge'] = np.sign(truth['rec_ID'])"
   ],
   "metadata": {
    "collapsed": false,
    "ExecuteTime": {
     "end_time": "2023-11-12T15:03:22.241285Z",
     "start_time": "2023-11-12T15:03:21.777727Z"
    }
   },
   "id": "71c37e9e0397ec77"
  },
  {
   "cell_type": "code",
   "execution_count": 6,
   "outputs": [
    {
     "data": {
      "text/plain": "        run_num  evt_num  rec_ID        rec_E     rec_Vx     rec_Vy  \\\n0             0        0   -11.0  4693.527832  -1.971450 -20.188143   \n1             0        0    11.0  2972.704346  -1.971716 -20.193453   \n2             0        0    11.0   257.371124  -1.200308 -20.197134   \n3             0        1    11.0  4938.062988 -24.196095  -6.718469   \n4             0        1   -11.0  3033.025635 -24.196095  -6.718469   \n...         ...      ...     ...          ...        ...        ...   \n297782        4    19998    11.0  1111.764404  -1.429825  14.575148   \n297783        4    19998   -11.0   701.334473  -1.432059  14.374350   \n297784        4    19999    11.0  3467.862305 -38.790752   0.029675   \n297785        4    19999    11.0  2181.076172 -38.836823   0.006593   \n297786        4    19999   -11.0  1802.488281 -38.778221  -0.043160   \n\n           rec_Vz      rec_Px      rec_Py       rec_Pz  rec_Charge  \n0       22.877148 -154.253555   10.251737  4691.492188        -1.0  \n1       22.839268 -102.542465   -8.515394  2971.434326         1.0  \n2       -0.175000   -7.228745   -1.836229   257.773743         1.0  \n3        3.710038 -159.285721    7.503434  4935.999023         1.0  \n4        3.710038 -106.958908   -8.111062  3031.639648        -1.0  \n...           ...         ...         ...          ...         ...  \n297782   0.175000   80.792732  172.691559  1095.813232         1.0  \n297783   0.175000   49.133247 -285.283722   639.363708        -1.0  \n297784   0.010933 -343.884735  553.274597  3406.646973         1.0  \n297785   0.175000 -401.216125   47.327873  2143.853516         1.0  \n297786   0.175000  -26.256176 -223.125000  1788.947144        -1.0  \n\n[297787 rows x 11 columns]",
      "text/html": "<div>\n<style scoped>\n    .dataframe tbody tr th:only-of-type {\n        vertical-align: middle;\n    }\n\n    .dataframe tbody tr th {\n        vertical-align: top;\n    }\n\n    .dataframe thead th {\n        text-align: right;\n    }\n</style>\n<table border=\"1\" class=\"dataframe\">\n  <thead>\n    <tr style=\"text-align: right;\">\n      <th></th>\n      <th>run_num</th>\n      <th>evt_num</th>\n      <th>rec_ID</th>\n      <th>rec_E</th>\n      <th>rec_Vx</th>\n      <th>rec_Vy</th>\n      <th>rec_Vz</th>\n      <th>rec_Px</th>\n      <th>rec_Py</th>\n      <th>rec_Pz</th>\n      <th>rec_Charge</th>\n    </tr>\n  </thead>\n  <tbody>\n    <tr>\n      <th>0</th>\n      <td>0</td>\n      <td>0</td>\n      <td>-11.0</td>\n      <td>4693.527832</td>\n      <td>-1.971450</td>\n      <td>-20.188143</td>\n      <td>22.877148</td>\n      <td>-154.253555</td>\n      <td>10.251737</td>\n      <td>4691.492188</td>\n      <td>-1.0</td>\n    </tr>\n    <tr>\n      <th>1</th>\n      <td>0</td>\n      <td>0</td>\n      <td>11.0</td>\n      <td>2972.704346</td>\n      <td>-1.971716</td>\n      <td>-20.193453</td>\n      <td>22.839268</td>\n      <td>-102.542465</td>\n      <td>-8.515394</td>\n      <td>2971.434326</td>\n      <td>1.0</td>\n    </tr>\n    <tr>\n      <th>2</th>\n      <td>0</td>\n      <td>0</td>\n      <td>11.0</td>\n      <td>257.371124</td>\n      <td>-1.200308</td>\n      <td>-20.197134</td>\n      <td>-0.175000</td>\n      <td>-7.228745</td>\n      <td>-1.836229</td>\n      <td>257.773743</td>\n      <td>1.0</td>\n    </tr>\n    <tr>\n      <th>3</th>\n      <td>0</td>\n      <td>1</td>\n      <td>11.0</td>\n      <td>4938.062988</td>\n      <td>-24.196095</td>\n      <td>-6.718469</td>\n      <td>3.710038</td>\n      <td>-159.285721</td>\n      <td>7.503434</td>\n      <td>4935.999023</td>\n      <td>1.0</td>\n    </tr>\n    <tr>\n      <th>4</th>\n      <td>0</td>\n      <td>1</td>\n      <td>-11.0</td>\n      <td>3033.025635</td>\n      <td>-24.196095</td>\n      <td>-6.718469</td>\n      <td>3.710038</td>\n      <td>-106.958908</td>\n      <td>-8.111062</td>\n      <td>3031.639648</td>\n      <td>-1.0</td>\n    </tr>\n    <tr>\n      <th>...</th>\n      <td>...</td>\n      <td>...</td>\n      <td>...</td>\n      <td>...</td>\n      <td>...</td>\n      <td>...</td>\n      <td>...</td>\n      <td>...</td>\n      <td>...</td>\n      <td>...</td>\n      <td>...</td>\n    </tr>\n    <tr>\n      <th>297782</th>\n      <td>4</td>\n      <td>19998</td>\n      <td>11.0</td>\n      <td>1111.764404</td>\n      <td>-1.429825</td>\n      <td>14.575148</td>\n      <td>0.175000</td>\n      <td>80.792732</td>\n      <td>172.691559</td>\n      <td>1095.813232</td>\n      <td>1.0</td>\n    </tr>\n    <tr>\n      <th>297783</th>\n      <td>4</td>\n      <td>19998</td>\n      <td>-11.0</td>\n      <td>701.334473</td>\n      <td>-1.432059</td>\n      <td>14.374350</td>\n      <td>0.175000</td>\n      <td>49.133247</td>\n      <td>-285.283722</td>\n      <td>639.363708</td>\n      <td>-1.0</td>\n    </tr>\n    <tr>\n      <th>297784</th>\n      <td>4</td>\n      <td>19999</td>\n      <td>11.0</td>\n      <td>3467.862305</td>\n      <td>-38.790752</td>\n      <td>0.029675</td>\n      <td>0.010933</td>\n      <td>-343.884735</td>\n      <td>553.274597</td>\n      <td>3406.646973</td>\n      <td>1.0</td>\n    </tr>\n    <tr>\n      <th>297785</th>\n      <td>4</td>\n      <td>19999</td>\n      <td>11.0</td>\n      <td>2181.076172</td>\n      <td>-38.836823</td>\n      <td>0.006593</td>\n      <td>0.175000</td>\n      <td>-401.216125</td>\n      <td>47.327873</td>\n      <td>2143.853516</td>\n      <td>1.0</td>\n    </tr>\n    <tr>\n      <th>297786</th>\n      <td>4</td>\n      <td>19999</td>\n      <td>-11.0</td>\n      <td>1802.488281</td>\n      <td>-38.778221</td>\n      <td>-0.043160</td>\n      <td>0.175000</td>\n      <td>-26.256176</td>\n      <td>-223.125000</td>\n      <td>1788.947144</td>\n      <td>-1.0</td>\n    </tr>\n  </tbody>\n</table>\n<p>297787 rows × 11 columns</p>\n</div>"
     },
     "execution_count": 6,
     "metadata": {},
     "output_type": "execute_result"
    }
   ],
   "source": [
    "truth"
   ],
   "metadata": {
    "collapsed": false,
    "ExecuteTime": {
     "end_time": "2023-11-12T15:03:23.133929Z",
     "start_time": "2023-11-12T15:03:23.117082Z"
    }
   },
   "id": "6f85b1631576cd33"
  },
  {
   "cell_type": "code",
   "execution_count": 7,
   "outputs": [
    {
     "data": {
      "text/plain": "          idx1  run_num  evt_num  rec_ID_x       rec_Pi       rec_Pf  \\\n0            0        0        0        -1  4740.073681  4875.735283   \n1            0        0        0        -1  4740.073681  4875.735283   \n2            0        0        0        -1  4740.073681  4875.735283   \n3            1        0        0        -1  2957.506180  2899.734735   \n4            1        0        0        -1  2957.506180  2899.734735   \n...        ...      ...      ...       ...          ...          ...   \n839851  277708        4    19999        -1  1760.735989  1689.649820   \n839852  277708        4    19999        -1  1760.735989  1689.649820   \n839853  277709        4    19999        -1   801.025808   426.067412   \n839854  277709        4    19999        -1   801.025808   426.067412   \n839855  277709        4    19999        -1   801.025808   426.067412   \n\n           rec_PAvg    rec_PStd  rec_Vx_x   rec_Vy_x  ...    idx2  rec_ID_y  \\\n0       4839.977264   71.586810    -2.505 -20.471136  ...       0     -11.0   \n1       4839.977264   71.586810    -2.505 -20.471136  ...       1      11.0   \n2       4839.977264   71.586810    -2.505 -20.471136  ...       2      11.0   \n3       2941.440821   29.748684    -2.505 -20.471136  ...       0     -11.0   \n4       2941.440821   29.748684    -2.505 -20.471136  ...       1      11.0   \n...             ...         ...       ...        ...  ...     ...       ...   \n839851  1744.329691   29.190240   -38.895  -0.972536  ...  297785      11.0   \n839852  1744.329691   29.190240   -38.895  -0.972536  ...  297786     -11.0   \n839853   695.638180  192.120701   -39.555   0.811657  ...  297784      11.0   \n839854   695.638180  192.120701   -39.555   0.811657  ...  297785      11.0   \n839855   695.638180  192.120701   -39.555   0.811657  ...  297786     -11.0   \n\n              rec_E   rec_Vx_y   rec_Vy_y   rec_Vz_y      rec_Px      rec_Py  \\\n0       4693.527832  -1.971450 -20.188143  22.877148 -154.253555   10.251737   \n1       2972.704346  -1.971716 -20.193453  22.839268 -102.542465   -8.515394   \n2        257.371124  -1.200308 -20.197134  -0.175000   -7.228745   -1.836229   \n3       4693.527832  -1.971450 -20.188143  22.877148 -154.253555   10.251737   \n4       2972.704346  -1.971716 -20.193453  22.839268 -102.542465   -8.515394   \n...             ...        ...        ...        ...         ...         ...   \n839851  2181.076172 -38.836823   0.006593   0.175000 -401.216125   47.327873   \n839852  1802.488281 -38.778221  -0.043160   0.175000  -26.256176 -223.125000   \n839853  3467.862305 -38.790752   0.029675   0.010933 -343.884735  553.274597   \n839854  2181.076172 -38.836823   0.006593   0.175000 -401.216125   47.327873   \n839855  1802.488281 -38.778221  -0.043160   0.175000  -26.256176 -223.125000   \n\n             rec_Pz  rec_Charge_y  \n0       4691.492188          -1.0  \n1       2971.434326           1.0  \n2        257.773743           1.0  \n3       4691.492188          -1.0  \n4       2971.434326           1.0  \n...             ...           ...  \n839851  2143.853516           1.0  \n839852  1788.947144          -1.0  \n839853  3406.646973           1.0  \n839854  2143.853516           1.0  \n839855  1788.947144          -1.0  \n\n[839856 rows x 24 columns]",
      "text/html": "<div>\n<style scoped>\n    .dataframe tbody tr th:only-of-type {\n        vertical-align: middle;\n    }\n\n    .dataframe tbody tr th {\n        vertical-align: top;\n    }\n\n    .dataframe thead th {\n        text-align: right;\n    }\n</style>\n<table border=\"1\" class=\"dataframe\">\n  <thead>\n    <tr style=\"text-align: right;\">\n      <th></th>\n      <th>idx1</th>\n      <th>run_num</th>\n      <th>evt_num</th>\n      <th>rec_ID_x</th>\n      <th>rec_Pi</th>\n      <th>rec_Pf</th>\n      <th>rec_PAvg</th>\n      <th>rec_PStd</th>\n      <th>rec_Vx_x</th>\n      <th>rec_Vy_x</th>\n      <th>...</th>\n      <th>idx2</th>\n      <th>rec_ID_y</th>\n      <th>rec_E</th>\n      <th>rec_Vx_y</th>\n      <th>rec_Vy_y</th>\n      <th>rec_Vz_y</th>\n      <th>rec_Px</th>\n      <th>rec_Py</th>\n      <th>rec_Pz</th>\n      <th>rec_Charge_y</th>\n    </tr>\n  </thead>\n  <tbody>\n    <tr>\n      <th>0</th>\n      <td>0</td>\n      <td>0</td>\n      <td>0</td>\n      <td>-1</td>\n      <td>4740.073681</td>\n      <td>4875.735283</td>\n      <td>4839.977264</td>\n      <td>71.586810</td>\n      <td>-2.505</td>\n      <td>-20.471136</td>\n      <td>...</td>\n      <td>0</td>\n      <td>-11.0</td>\n      <td>4693.527832</td>\n      <td>-1.971450</td>\n      <td>-20.188143</td>\n      <td>22.877148</td>\n      <td>-154.253555</td>\n      <td>10.251737</td>\n      <td>4691.492188</td>\n      <td>-1.0</td>\n    </tr>\n    <tr>\n      <th>1</th>\n      <td>0</td>\n      <td>0</td>\n      <td>0</td>\n      <td>-1</td>\n      <td>4740.073681</td>\n      <td>4875.735283</td>\n      <td>4839.977264</td>\n      <td>71.586810</td>\n      <td>-2.505</td>\n      <td>-20.471136</td>\n      <td>...</td>\n      <td>1</td>\n      <td>11.0</td>\n      <td>2972.704346</td>\n      <td>-1.971716</td>\n      <td>-20.193453</td>\n      <td>22.839268</td>\n      <td>-102.542465</td>\n      <td>-8.515394</td>\n      <td>2971.434326</td>\n      <td>1.0</td>\n    </tr>\n    <tr>\n      <th>2</th>\n      <td>0</td>\n      <td>0</td>\n      <td>0</td>\n      <td>-1</td>\n      <td>4740.073681</td>\n      <td>4875.735283</td>\n      <td>4839.977264</td>\n      <td>71.586810</td>\n      <td>-2.505</td>\n      <td>-20.471136</td>\n      <td>...</td>\n      <td>2</td>\n      <td>11.0</td>\n      <td>257.371124</td>\n      <td>-1.200308</td>\n      <td>-20.197134</td>\n      <td>-0.175000</td>\n      <td>-7.228745</td>\n      <td>-1.836229</td>\n      <td>257.773743</td>\n      <td>1.0</td>\n    </tr>\n    <tr>\n      <th>3</th>\n      <td>1</td>\n      <td>0</td>\n      <td>0</td>\n      <td>-1</td>\n      <td>2957.506180</td>\n      <td>2899.734735</td>\n      <td>2941.440821</td>\n      <td>29.748684</td>\n      <td>-2.505</td>\n      <td>-20.471136</td>\n      <td>...</td>\n      <td>0</td>\n      <td>-11.0</td>\n      <td>4693.527832</td>\n      <td>-1.971450</td>\n      <td>-20.188143</td>\n      <td>22.877148</td>\n      <td>-154.253555</td>\n      <td>10.251737</td>\n      <td>4691.492188</td>\n      <td>-1.0</td>\n    </tr>\n    <tr>\n      <th>4</th>\n      <td>1</td>\n      <td>0</td>\n      <td>0</td>\n      <td>-1</td>\n      <td>2957.506180</td>\n      <td>2899.734735</td>\n      <td>2941.440821</td>\n      <td>29.748684</td>\n      <td>-2.505</td>\n      <td>-20.471136</td>\n      <td>...</td>\n      <td>1</td>\n      <td>11.0</td>\n      <td>2972.704346</td>\n      <td>-1.971716</td>\n      <td>-20.193453</td>\n      <td>22.839268</td>\n      <td>-102.542465</td>\n      <td>-8.515394</td>\n      <td>2971.434326</td>\n      <td>1.0</td>\n    </tr>\n    <tr>\n      <th>...</th>\n      <td>...</td>\n      <td>...</td>\n      <td>...</td>\n      <td>...</td>\n      <td>...</td>\n      <td>...</td>\n      <td>...</td>\n      <td>...</td>\n      <td>...</td>\n      <td>...</td>\n      <td>...</td>\n      <td>...</td>\n      <td>...</td>\n      <td>...</td>\n      <td>...</td>\n      <td>...</td>\n      <td>...</td>\n      <td>...</td>\n      <td>...</td>\n      <td>...</td>\n      <td>...</td>\n    </tr>\n    <tr>\n      <th>839851</th>\n      <td>277708</td>\n      <td>4</td>\n      <td>19999</td>\n      <td>-1</td>\n      <td>1760.735989</td>\n      <td>1689.649820</td>\n      <td>1744.329691</td>\n      <td>29.190240</td>\n      <td>-38.895</td>\n      <td>-0.972536</td>\n      <td>...</td>\n      <td>297785</td>\n      <td>11.0</td>\n      <td>2181.076172</td>\n      <td>-38.836823</td>\n      <td>0.006593</td>\n      <td>0.175000</td>\n      <td>-401.216125</td>\n      <td>47.327873</td>\n      <td>2143.853516</td>\n      <td>1.0</td>\n    </tr>\n    <tr>\n      <th>839852</th>\n      <td>277708</td>\n      <td>4</td>\n      <td>19999</td>\n      <td>-1</td>\n      <td>1760.735989</td>\n      <td>1689.649820</td>\n      <td>1744.329691</td>\n      <td>29.190240</td>\n      <td>-38.895</td>\n      <td>-0.972536</td>\n      <td>...</td>\n      <td>297786</td>\n      <td>-11.0</td>\n      <td>1802.488281</td>\n      <td>-38.778221</td>\n      <td>-0.043160</td>\n      <td>0.175000</td>\n      <td>-26.256176</td>\n      <td>-223.125000</td>\n      <td>1788.947144</td>\n      <td>-1.0</td>\n    </tr>\n    <tr>\n      <th>839853</th>\n      <td>277709</td>\n      <td>4</td>\n      <td>19999</td>\n      <td>-1</td>\n      <td>801.025808</td>\n      <td>426.067412</td>\n      <td>695.638180</td>\n      <td>192.120701</td>\n      <td>-39.555</td>\n      <td>0.811657</td>\n      <td>...</td>\n      <td>297784</td>\n      <td>11.0</td>\n      <td>3467.862305</td>\n      <td>-38.790752</td>\n      <td>0.029675</td>\n      <td>0.010933</td>\n      <td>-343.884735</td>\n      <td>553.274597</td>\n      <td>3406.646973</td>\n      <td>1.0</td>\n    </tr>\n    <tr>\n      <th>839854</th>\n      <td>277709</td>\n      <td>4</td>\n      <td>19999</td>\n      <td>-1</td>\n      <td>801.025808</td>\n      <td>426.067412</td>\n      <td>695.638180</td>\n      <td>192.120701</td>\n      <td>-39.555</td>\n      <td>0.811657</td>\n      <td>...</td>\n      <td>297785</td>\n      <td>11.0</td>\n      <td>2181.076172</td>\n      <td>-38.836823</td>\n      <td>0.006593</td>\n      <td>0.175000</td>\n      <td>-401.216125</td>\n      <td>47.327873</td>\n      <td>2143.853516</td>\n      <td>1.0</td>\n    </tr>\n    <tr>\n      <th>839855</th>\n      <td>277709</td>\n      <td>4</td>\n      <td>19999</td>\n      <td>-1</td>\n      <td>801.025808</td>\n      <td>426.067412</td>\n      <td>695.638180</td>\n      <td>192.120701</td>\n      <td>-39.555</td>\n      <td>0.811657</td>\n      <td>...</td>\n      <td>297786</td>\n      <td>-11.0</td>\n      <td>1802.488281</td>\n      <td>-38.778221</td>\n      <td>-0.043160</td>\n      <td>0.175000</td>\n      <td>-26.256176</td>\n      <td>-223.125000</td>\n      <td>1788.947144</td>\n      <td>-1.0</td>\n    </tr>\n  </tbody>\n</table>\n<p>839856 rows × 24 columns</p>\n</div>"
     },
     "execution_count": 7,
     "metadata": {},
     "output_type": "execute_result"
    }
   ],
   "source": [
    "# Reset the index to preserve it after the merge\n",
    "df1_reset = df.reset_index().rename(columns={'index': 'idx1'})\n",
    "df2_reset = truth.reset_index().rename(columns={'index': 'idx2'})\n",
    "\n",
    "# Perform an inner merge on 'run_num' and 'evt_num'\n",
    "common_rows = pd.merge(df1_reset, df2_reset, on=['run_num', 'evt_num'], how='inner')\n",
    "\n",
    "# The result will have 'idx1' and 'idx2' columns representing the original indices from df1 and df2\n",
    "common_indices = common_rows[['idx1', 'idx2']]\n",
    "\n",
    "common_rows"
   ],
   "metadata": {
    "collapsed": false,
    "ExecuteTime": {
     "end_time": "2023-11-12T15:03:24.441238Z",
     "start_time": "2023-11-12T15:03:24.220261Z"
    }
   },
   "id": "3b258ad883013a2d"
  },
  {
   "cell_type": "code",
   "execution_count": 61,
   "outputs": [
    {
     "data": {
      "application/vnd.plotly.v1+json": {
       "data": [
        {
         "marker": {
          "color": "#D43E33",
          "size": 14,
          "symbol": "circle"
         },
         "mode": "markers",
         "name": "Reconstructed",
         "x": [
          1.0,
          2.0,
          3.0,
          4.0,
          5.0,
          6.0,
          7.0,
          8.0,
          9.0,
          10.0
         ],
         "y": [
          787,
          5129,
          7868,
          1568,
          247,
          35,
          3,
          2,
          1,
          1
         ],
         "type": "scatter",
         "xaxis": "x",
         "yaxis": "y"
        },
        {
         "marker": {
          "color": "#5857AD",
          "size": 14,
          "symbol": "star-diamond"
         },
         "mode": "markers",
         "name": "Truth",
         "x": [
          1.0,
          2.0,
          3.0,
          4.0,
          5.0,
          6.0,
          7.0,
          8.0,
          9.0,
          10.0
         ],
         "y": [
          0,
          0,
          15642,
          0,
          0,
          0,
          0,
          0,
          0,
          0
         ],
         "type": "scatter",
         "xaxis": "x",
         "yaxis": "y"
        },
        {
         "marker": {
          "color": "rgba(0,100,80,0.4)",
          "size": 14,
          "symbol": "triangle-up"
         },
         "mode": "markers",
         "name": "Recon/Truth",
         "x": [
          1.0,
          2.0,
          3.0,
          4.0,
          5.0,
          6.0,
          7.0,
          8.0,
          9.0,
          10.0
         ],
         "y": [
          null,
          null,
          0.5030047308528321,
          null,
          null,
          null,
          null,
          null,
          null,
          null
         ],
         "type": "scatter",
         "xaxis": "x2",
         "yaxis": "y2"
        }
       ],
       "layout": {
        "template": {
         "data": {
          "histogram2dcontour": [
           {
            "type": "histogram2dcontour",
            "colorbar": {
             "outlinewidth": 0,
             "ticks": ""
            },
            "colorscale": [
             [
              0.0,
              "#0d0887"
             ],
             [
              0.1111111111111111,
              "#46039f"
             ],
             [
              0.2222222222222222,
              "#7201a8"
             ],
             [
              0.3333333333333333,
              "#9c179e"
             ],
             [
              0.4444444444444444,
              "#bd3786"
             ],
             [
              0.5555555555555556,
              "#d8576b"
             ],
             [
              0.6666666666666666,
              "#ed7953"
             ],
             [
              0.7777777777777778,
              "#fb9f3a"
             ],
             [
              0.8888888888888888,
              "#fdca26"
             ],
             [
              1.0,
              "#f0f921"
             ]
            ]
           }
          ],
          "choropleth": [
           {
            "type": "choropleth",
            "colorbar": {
             "outlinewidth": 0,
             "ticks": ""
            }
           }
          ],
          "histogram2d": [
           {
            "type": "histogram2d",
            "colorbar": {
             "outlinewidth": 0,
             "ticks": ""
            },
            "colorscale": [
             [
              0.0,
              "#0d0887"
             ],
             [
              0.1111111111111111,
              "#46039f"
             ],
             [
              0.2222222222222222,
              "#7201a8"
             ],
             [
              0.3333333333333333,
              "#9c179e"
             ],
             [
              0.4444444444444444,
              "#bd3786"
             ],
             [
              0.5555555555555556,
              "#d8576b"
             ],
             [
              0.6666666666666666,
              "#ed7953"
             ],
             [
              0.7777777777777778,
              "#fb9f3a"
             ],
             [
              0.8888888888888888,
              "#fdca26"
             ],
             [
              1.0,
              "#f0f921"
             ]
            ]
           }
          ],
          "heatmap": [
           {
            "type": "heatmap",
            "colorbar": {
             "outlinewidth": 0,
             "ticks": ""
            },
            "colorscale": [
             [
              0.0,
              "#0d0887"
             ],
             [
              0.1111111111111111,
              "#46039f"
             ],
             [
              0.2222222222222222,
              "#7201a8"
             ],
             [
              0.3333333333333333,
              "#9c179e"
             ],
             [
              0.4444444444444444,
              "#bd3786"
             ],
             [
              0.5555555555555556,
              "#d8576b"
             ],
             [
              0.6666666666666666,
              "#ed7953"
             ],
             [
              0.7777777777777778,
              "#fb9f3a"
             ],
             [
              0.8888888888888888,
              "#fdca26"
             ],
             [
              1.0,
              "#f0f921"
             ]
            ]
           }
          ],
          "heatmapgl": [
           {
            "type": "heatmapgl",
            "colorbar": {
             "outlinewidth": 0,
             "ticks": ""
            },
            "colorscale": [
             [
              0.0,
              "#0d0887"
             ],
             [
              0.1111111111111111,
              "#46039f"
             ],
             [
              0.2222222222222222,
              "#7201a8"
             ],
             [
              0.3333333333333333,
              "#9c179e"
             ],
             [
              0.4444444444444444,
              "#bd3786"
             ],
             [
              0.5555555555555556,
              "#d8576b"
             ],
             [
              0.6666666666666666,
              "#ed7953"
             ],
             [
              0.7777777777777778,
              "#fb9f3a"
             ],
             [
              0.8888888888888888,
              "#fdca26"
             ],
             [
              1.0,
              "#f0f921"
             ]
            ]
           }
          ],
          "contourcarpet": [
           {
            "type": "contourcarpet",
            "colorbar": {
             "outlinewidth": 0,
             "ticks": ""
            }
           }
          ],
          "contour": [
           {
            "type": "contour",
            "colorbar": {
             "outlinewidth": 0,
             "ticks": ""
            },
            "colorscale": [
             [
              0.0,
              "#0d0887"
             ],
             [
              0.1111111111111111,
              "#46039f"
             ],
             [
              0.2222222222222222,
              "#7201a8"
             ],
             [
              0.3333333333333333,
              "#9c179e"
             ],
             [
              0.4444444444444444,
              "#bd3786"
             ],
             [
              0.5555555555555556,
              "#d8576b"
             ],
             [
              0.6666666666666666,
              "#ed7953"
             ],
             [
              0.7777777777777778,
              "#fb9f3a"
             ],
             [
              0.8888888888888888,
              "#fdca26"
             ],
             [
              1.0,
              "#f0f921"
             ]
            ]
           }
          ],
          "surface": [
           {
            "type": "surface",
            "colorbar": {
             "outlinewidth": 0,
             "ticks": ""
            },
            "colorscale": [
             [
              0.0,
              "#0d0887"
             ],
             [
              0.1111111111111111,
              "#46039f"
             ],
             [
              0.2222222222222222,
              "#7201a8"
             ],
             [
              0.3333333333333333,
              "#9c179e"
             ],
             [
              0.4444444444444444,
              "#bd3786"
             ],
             [
              0.5555555555555556,
              "#d8576b"
             ],
             [
              0.6666666666666666,
              "#ed7953"
             ],
             [
              0.7777777777777778,
              "#fb9f3a"
             ],
             [
              0.8888888888888888,
              "#fdca26"
             ],
             [
              1.0,
              "#f0f921"
             ]
            ]
           }
          ],
          "mesh3d": [
           {
            "type": "mesh3d",
            "colorbar": {
             "outlinewidth": 0,
             "ticks": ""
            }
           }
          ],
          "scatter": [
           {
            "fillpattern": {
             "fillmode": "overlay",
             "size": 10,
             "solidity": 0.2
            },
            "type": "scatter"
           }
          ],
          "parcoords": [
           {
            "type": "parcoords",
            "line": {
             "colorbar": {
              "outlinewidth": 0,
              "ticks": ""
             }
            }
           }
          ],
          "scatterpolargl": [
           {
            "type": "scatterpolargl",
            "marker": {
             "colorbar": {
              "outlinewidth": 0,
              "ticks": ""
             }
            }
           }
          ],
          "bar": [
           {
            "error_x": {
             "color": "#2a3f5f"
            },
            "error_y": {
             "color": "#2a3f5f"
            },
            "marker": {
             "line": {
              "color": "#E5ECF6",
              "width": 0.5
             },
             "pattern": {
              "fillmode": "overlay",
              "size": 10,
              "solidity": 0.2
             }
            },
            "type": "bar"
           }
          ],
          "scattergeo": [
           {
            "type": "scattergeo",
            "marker": {
             "colorbar": {
              "outlinewidth": 0,
              "ticks": ""
             }
            }
           }
          ],
          "scatterpolar": [
           {
            "type": "scatterpolar",
            "marker": {
             "colorbar": {
              "outlinewidth": 0,
              "ticks": ""
             }
            }
           }
          ],
          "histogram": [
           {
            "marker": {
             "pattern": {
              "fillmode": "overlay",
              "size": 10,
              "solidity": 0.2
             }
            },
            "type": "histogram"
           }
          ],
          "scattergl": [
           {
            "type": "scattergl",
            "marker": {
             "colorbar": {
              "outlinewidth": 0,
              "ticks": ""
             }
            }
           }
          ],
          "scatter3d": [
           {
            "type": "scatter3d",
            "line": {
             "colorbar": {
              "outlinewidth": 0,
              "ticks": ""
             }
            },
            "marker": {
             "colorbar": {
              "outlinewidth": 0,
              "ticks": ""
             }
            }
           }
          ],
          "scattermapbox": [
           {
            "type": "scattermapbox",
            "marker": {
             "colorbar": {
              "outlinewidth": 0,
              "ticks": ""
             }
            }
           }
          ],
          "scatterternary": [
           {
            "type": "scatterternary",
            "marker": {
             "colorbar": {
              "outlinewidth": 0,
              "ticks": ""
             }
            }
           }
          ],
          "scattercarpet": [
           {
            "type": "scattercarpet",
            "marker": {
             "colorbar": {
              "outlinewidth": 0,
              "ticks": ""
             }
            }
           }
          ],
          "carpet": [
           {
            "aaxis": {
             "endlinecolor": "#2a3f5f",
             "gridcolor": "white",
             "linecolor": "white",
             "minorgridcolor": "white",
             "startlinecolor": "#2a3f5f"
            },
            "baxis": {
             "endlinecolor": "#2a3f5f",
             "gridcolor": "white",
             "linecolor": "white",
             "minorgridcolor": "white",
             "startlinecolor": "#2a3f5f"
            },
            "type": "carpet"
           }
          ],
          "table": [
           {
            "cells": {
             "fill": {
              "color": "#EBF0F8"
             },
             "line": {
              "color": "white"
             }
            },
            "header": {
             "fill": {
              "color": "#C8D4E3"
             },
             "line": {
              "color": "white"
             }
            },
            "type": "table"
           }
          ],
          "barpolar": [
           {
            "marker": {
             "line": {
              "color": "#E5ECF6",
              "width": 0.5
             },
             "pattern": {
              "fillmode": "overlay",
              "size": 10,
              "solidity": 0.2
             }
            },
            "type": "barpolar"
           }
          ],
          "pie": [
           {
            "automargin": true,
            "type": "pie"
           }
          ]
         },
         "layout": {
          "autotypenumbers": "strict",
          "colorway": [
           "#636efa",
           "#EF553B",
           "#00cc96",
           "#ab63fa",
           "#FFA15A",
           "#19d3f3",
           "#FF6692",
           "#B6E880",
           "#FF97FF",
           "#FECB52"
          ],
          "font": {
           "color": "#2a3f5f"
          },
          "hovermode": "closest",
          "hoverlabel": {
           "align": "left"
          },
          "paper_bgcolor": "white",
          "plot_bgcolor": "#E5ECF6",
          "polar": {
           "bgcolor": "#E5ECF6",
           "angularaxis": {
            "gridcolor": "white",
            "linecolor": "white",
            "ticks": ""
           },
           "radialaxis": {
            "gridcolor": "white",
            "linecolor": "white",
            "ticks": ""
           }
          },
          "ternary": {
           "bgcolor": "#E5ECF6",
           "aaxis": {
            "gridcolor": "white",
            "linecolor": "white",
            "ticks": ""
           },
           "baxis": {
            "gridcolor": "white",
            "linecolor": "white",
            "ticks": ""
           },
           "caxis": {
            "gridcolor": "white",
            "linecolor": "white",
            "ticks": ""
           }
          },
          "coloraxis": {
           "colorbar": {
            "outlinewidth": 0,
            "ticks": ""
           }
          },
          "colorscale": {
           "sequential": [
            [
             0.0,
             "#0d0887"
            ],
            [
             0.1111111111111111,
             "#46039f"
            ],
            [
             0.2222222222222222,
             "#7201a8"
            ],
            [
             0.3333333333333333,
             "#9c179e"
            ],
            [
             0.4444444444444444,
             "#bd3786"
            ],
            [
             0.5555555555555556,
             "#d8576b"
            ],
            [
             0.6666666666666666,
             "#ed7953"
            ],
            [
             0.7777777777777778,
             "#fb9f3a"
            ],
            [
             0.8888888888888888,
             "#fdca26"
            ],
            [
             1.0,
             "#f0f921"
            ]
           ],
           "sequentialminus": [
            [
             0.0,
             "#0d0887"
            ],
            [
             0.1111111111111111,
             "#46039f"
            ],
            [
             0.2222222222222222,
             "#7201a8"
            ],
            [
             0.3333333333333333,
             "#9c179e"
            ],
            [
             0.4444444444444444,
             "#bd3786"
            ],
            [
             0.5555555555555556,
             "#d8576b"
            ],
            [
             0.6666666666666666,
             "#ed7953"
            ],
            [
             0.7777777777777778,
             "#fb9f3a"
            ],
            [
             0.8888888888888888,
             "#fdca26"
            ],
            [
             1.0,
             "#f0f921"
            ]
           ],
           "diverging": [
            [
             0,
             "#8e0152"
            ],
            [
             0.1,
             "#c51b7d"
            ],
            [
             0.2,
             "#de77ae"
            ],
            [
             0.3,
             "#f1b6da"
            ],
            [
             0.4,
             "#fde0ef"
            ],
            [
             0.5,
             "#f7f7f7"
            ],
            [
             0.6,
             "#e6f5d0"
            ],
            [
             0.7,
             "#b8e186"
            ],
            [
             0.8,
             "#7fbc41"
            ],
            [
             0.9,
             "#4d9221"
            ],
            [
             1,
             "#276419"
            ]
           ]
          },
          "xaxis": {
           "gridcolor": "white",
           "linecolor": "white",
           "ticks": "",
           "title": {
            "standoff": 15
           },
           "zerolinecolor": "white",
           "automargin": true,
           "zerolinewidth": 2
          },
          "yaxis": {
           "gridcolor": "white",
           "linecolor": "white",
           "ticks": "",
           "title": {
            "standoff": 15
           },
           "zerolinecolor": "white",
           "automargin": true,
           "zerolinewidth": 2
          },
          "scene": {
           "xaxis": {
            "backgroundcolor": "#E5ECF6",
            "gridcolor": "white",
            "linecolor": "white",
            "showbackground": true,
            "ticks": "",
            "zerolinecolor": "white",
            "gridwidth": 2
           },
           "yaxis": {
            "backgroundcolor": "#E5ECF6",
            "gridcolor": "white",
            "linecolor": "white",
            "showbackground": true,
            "ticks": "",
            "zerolinecolor": "white",
            "gridwidth": 2
           },
           "zaxis": {
            "backgroundcolor": "#E5ECF6",
            "gridcolor": "white",
            "linecolor": "white",
            "showbackground": true,
            "ticks": "",
            "zerolinecolor": "white",
            "gridwidth": 2
           }
          },
          "shapedefaults": {
           "line": {
            "color": "#2a3f5f"
           }
          },
          "annotationdefaults": {
           "arrowcolor": "#2a3f5f",
           "arrowhead": 0,
           "arrowwidth": 1
          },
          "geo": {
           "bgcolor": "white",
           "landcolor": "#E5ECF6",
           "subunitcolor": "white",
           "showland": true,
           "showlakes": true,
           "lakecolor": "white"
          },
          "title": {
           "x": 0.05
          },
          "mapbox": {
           "style": "light"
          }
         }
        },
        "xaxis": {
         "anchor": "y",
         "domain": [
          0.0,
          1.0
         ],
         "matches": "x2",
         "showticklabels": false,
         "linecolor": "#666666",
         "gridcolor": "#d9d9d9",
         "zerolinecolor": "rgba(0,0,0,0)",
         "linewidth": 2,
         "showline": true,
         "showgrid": false,
         "mirror": true
        },
        "yaxis": {
         "anchor": "x",
         "domain": [
          0.25,
          1.0
         ],
         "title": {
          "text": "A.U."
         },
         "linecolor": "#666666",
         "zerolinecolor": "rgba(0,0,0,0)",
         "linewidth": 2,
         "mirror": true,
         "type": "linear",
         "range": [
          0.0,
          23463.0
         ]
        },
        "xaxis2": {
         "anchor": "y2",
         "domain": [
          0.0,
          1.0
         ],
         "title": {
          "text": "Multiplicity"
         },
         "linecolor": "#666666",
         "gridcolor": "#d9d9d9",
         "zerolinecolor": "rgba(0,0,0,0)",
         "linewidth": 2,
         "showline": true,
         "showgrid": false,
         "mirror": false
        },
        "yaxis2": {
         "anchor": "x2",
         "domain": [
          0.0,
          0.25
         ],
         "title": {
          "text": "Reco/Truth"
         },
         "linecolor": "#666666",
         "zerolinecolor": "rgba(0,0,0,0)",
         "linewidth": 2,
         "mirror": true,
         "type": "log",
         "range": [
          -1,
          1
         ]
        },
        "shapes": [
         {
          "line": {
           "color": "grey",
           "dash": "dash",
           "width": 1
          },
          "type": "line",
          "x0": 0,
          "x1": 1,
          "xref": "x2 domain",
          "y0": 1.0,
          "y1": 1.0,
          "yref": "y2"
         }
        ],
        "annotations": [
         {
          "font": {
           "family": "Cambria",
           "size": 34
          },
          "showarrow": false,
          "text": "<i><b>DarkSHINE<b><i>",
          "x": 0.05,
          "xref": "paper",
          "y": 0.97,
          "yref": "paper"
         },
         {
          "font": {
           "family": "Cambria",
           "size": 31
          },
          "showarrow": false,
          "text": "Simulation",
          "x": 0.455,
          "xref": "paper",
          "y": 0.9662999999999999,
          "yref": "paper"
         },
         {
          "showarrow": false,
          "text": "$\\Large{E^{e}_{0} = 8~\\text{GeV},~10^{6}~\\text{EOT}}$",
          "x": 0.05,
          "xref": "paper",
          "y": 0.895,
          "yref": "paper"
         }
        ],
        "legend": {
         "font": {
          "size": 14
         },
         "orientation": "v",
         "yanchor": "top",
         "y": 0.99,
         "xanchor": "right",
         "x": 0.98
        },
        "width": 800,
        "height": 800,
        "paper_bgcolor": "rgba(0,0,0,0)",
        "plot_bgcolor": "rgba(0,0,0,0)"
       },
       "config": {
        "plotlyServerURL": "https://plot.ly"
       }
      },
      "text/html": "<div>                            <div id=\"bf79809c-8e90-4324-9460-10b9414ef702\" class=\"plotly-graph-div\" style=\"height:800px; width:800px;\"></div>            <script type=\"text/javascript\">                require([\"plotly\"], function(Plotly) {                    window.PLOTLYENV=window.PLOTLYENV || {};                                    if (document.getElementById(\"bf79809c-8e90-4324-9460-10b9414ef702\")) {                    Plotly.newPlot(                        \"bf79809c-8e90-4324-9460-10b9414ef702\",                        [{\"marker\":{\"color\":\"#D43E33\",\"size\":14,\"symbol\":\"circle\"},\"mode\":\"markers\",\"name\":\"Reconstructed\",\"x\":[1.0,2.0,3.0,4.0,5.0,6.0,7.0,8.0,9.0,10.0],\"y\":[787,5129,7868,1568,247,35,3,2,1,1],\"type\":\"scatter\",\"xaxis\":\"x\",\"yaxis\":\"y\"},{\"marker\":{\"color\":\"#5857AD\",\"size\":14,\"symbol\":\"star-diamond\"},\"mode\":\"markers\",\"name\":\"Truth\",\"x\":[1.0,2.0,3.0,4.0,5.0,6.0,7.0,8.0,9.0,10.0],\"y\":[0,0,15642,0,0,0,0,0,0,0],\"type\":\"scatter\",\"xaxis\":\"x\",\"yaxis\":\"y\"},{\"marker\":{\"color\":\"rgba(0,100,80,0.4)\",\"size\":14,\"symbol\":\"triangle-up\"},\"mode\":\"markers\",\"name\":\"Recon\\u002fTruth\",\"x\":[1.0,2.0,3.0,4.0,5.0,6.0,7.0,8.0,9.0,10.0],\"y\":[null,null,0.5030047308528321,null,null,null,null,null,null,null],\"type\":\"scatter\",\"xaxis\":\"x2\",\"yaxis\":\"y2\"}],                        {\"template\":{\"data\":{\"histogram2dcontour\":[{\"type\":\"histogram2dcontour\",\"colorbar\":{\"outlinewidth\":0,\"ticks\":\"\"},\"colorscale\":[[0.0,\"#0d0887\"],[0.1111111111111111,\"#46039f\"],[0.2222222222222222,\"#7201a8\"],[0.3333333333333333,\"#9c179e\"],[0.4444444444444444,\"#bd3786\"],[0.5555555555555556,\"#d8576b\"],[0.6666666666666666,\"#ed7953\"],[0.7777777777777778,\"#fb9f3a\"],[0.8888888888888888,\"#fdca26\"],[1.0,\"#f0f921\"]]}],\"choropleth\":[{\"type\":\"choropleth\",\"colorbar\":{\"outlinewidth\":0,\"ticks\":\"\"}}],\"histogram2d\":[{\"type\":\"histogram2d\",\"colorbar\":{\"outlinewidth\":0,\"ticks\":\"\"},\"colorscale\":[[0.0,\"#0d0887\"],[0.1111111111111111,\"#46039f\"],[0.2222222222222222,\"#7201a8\"],[0.3333333333333333,\"#9c179e\"],[0.4444444444444444,\"#bd3786\"],[0.5555555555555556,\"#d8576b\"],[0.6666666666666666,\"#ed7953\"],[0.7777777777777778,\"#fb9f3a\"],[0.8888888888888888,\"#fdca26\"],[1.0,\"#f0f921\"]]}],\"heatmap\":[{\"type\":\"heatmap\",\"colorbar\":{\"outlinewidth\":0,\"ticks\":\"\"},\"colorscale\":[[0.0,\"#0d0887\"],[0.1111111111111111,\"#46039f\"],[0.2222222222222222,\"#7201a8\"],[0.3333333333333333,\"#9c179e\"],[0.4444444444444444,\"#bd3786\"],[0.5555555555555556,\"#d8576b\"],[0.6666666666666666,\"#ed7953\"],[0.7777777777777778,\"#fb9f3a\"],[0.8888888888888888,\"#fdca26\"],[1.0,\"#f0f921\"]]}],\"heatmapgl\":[{\"type\":\"heatmapgl\",\"colorbar\":{\"outlinewidth\":0,\"ticks\":\"\"},\"colorscale\":[[0.0,\"#0d0887\"],[0.1111111111111111,\"#46039f\"],[0.2222222222222222,\"#7201a8\"],[0.3333333333333333,\"#9c179e\"],[0.4444444444444444,\"#bd3786\"],[0.5555555555555556,\"#d8576b\"],[0.6666666666666666,\"#ed7953\"],[0.7777777777777778,\"#fb9f3a\"],[0.8888888888888888,\"#fdca26\"],[1.0,\"#f0f921\"]]}],\"contourcarpet\":[{\"type\":\"contourcarpet\",\"colorbar\":{\"outlinewidth\":0,\"ticks\":\"\"}}],\"contour\":[{\"type\":\"contour\",\"colorbar\":{\"outlinewidth\":0,\"ticks\":\"\"},\"colorscale\":[[0.0,\"#0d0887\"],[0.1111111111111111,\"#46039f\"],[0.2222222222222222,\"#7201a8\"],[0.3333333333333333,\"#9c179e\"],[0.4444444444444444,\"#bd3786\"],[0.5555555555555556,\"#d8576b\"],[0.6666666666666666,\"#ed7953\"],[0.7777777777777778,\"#fb9f3a\"],[0.8888888888888888,\"#fdca26\"],[1.0,\"#f0f921\"]]}],\"surface\":[{\"type\":\"surface\",\"colorbar\":{\"outlinewidth\":0,\"ticks\":\"\"},\"colorscale\":[[0.0,\"#0d0887\"],[0.1111111111111111,\"#46039f\"],[0.2222222222222222,\"#7201a8\"],[0.3333333333333333,\"#9c179e\"],[0.4444444444444444,\"#bd3786\"],[0.5555555555555556,\"#d8576b\"],[0.6666666666666666,\"#ed7953\"],[0.7777777777777778,\"#fb9f3a\"],[0.8888888888888888,\"#fdca26\"],[1.0,\"#f0f921\"]]}],\"mesh3d\":[{\"type\":\"mesh3d\",\"colorbar\":{\"outlinewidth\":0,\"ticks\":\"\"}}],\"scatter\":[{\"fillpattern\":{\"fillmode\":\"overlay\",\"size\":10,\"solidity\":0.2},\"type\":\"scatter\"}],\"parcoords\":[{\"type\":\"parcoords\",\"line\":{\"colorbar\":{\"outlinewidth\":0,\"ticks\":\"\"}}}],\"scatterpolargl\":[{\"type\":\"scatterpolargl\",\"marker\":{\"colorbar\":{\"outlinewidth\":0,\"ticks\":\"\"}}}],\"bar\":[{\"error_x\":{\"color\":\"#2a3f5f\"},\"error_y\":{\"color\":\"#2a3f5f\"},\"marker\":{\"line\":{\"color\":\"#E5ECF6\",\"width\":0.5},\"pattern\":{\"fillmode\":\"overlay\",\"size\":10,\"solidity\":0.2}},\"type\":\"bar\"}],\"scattergeo\":[{\"type\":\"scattergeo\",\"marker\":{\"colorbar\":{\"outlinewidth\":0,\"ticks\":\"\"}}}],\"scatterpolar\":[{\"type\":\"scatterpolar\",\"marker\":{\"colorbar\":{\"outlinewidth\":0,\"ticks\":\"\"}}}],\"histogram\":[{\"marker\":{\"pattern\":{\"fillmode\":\"overlay\",\"size\":10,\"solidity\":0.2}},\"type\":\"histogram\"}],\"scattergl\":[{\"type\":\"scattergl\",\"marker\":{\"colorbar\":{\"outlinewidth\":0,\"ticks\":\"\"}}}],\"scatter3d\":[{\"type\":\"scatter3d\",\"line\":{\"colorbar\":{\"outlinewidth\":0,\"ticks\":\"\"}},\"marker\":{\"colorbar\":{\"outlinewidth\":0,\"ticks\":\"\"}}}],\"scattermapbox\":[{\"type\":\"scattermapbox\",\"marker\":{\"colorbar\":{\"outlinewidth\":0,\"ticks\":\"\"}}}],\"scatterternary\":[{\"type\":\"scatterternary\",\"marker\":{\"colorbar\":{\"outlinewidth\":0,\"ticks\":\"\"}}}],\"scattercarpet\":[{\"type\":\"scattercarpet\",\"marker\":{\"colorbar\":{\"outlinewidth\":0,\"ticks\":\"\"}}}],\"carpet\":[{\"aaxis\":{\"endlinecolor\":\"#2a3f5f\",\"gridcolor\":\"white\",\"linecolor\":\"white\",\"minorgridcolor\":\"white\",\"startlinecolor\":\"#2a3f5f\"},\"baxis\":{\"endlinecolor\":\"#2a3f5f\",\"gridcolor\":\"white\",\"linecolor\":\"white\",\"minorgridcolor\":\"white\",\"startlinecolor\":\"#2a3f5f\"},\"type\":\"carpet\"}],\"table\":[{\"cells\":{\"fill\":{\"color\":\"#EBF0F8\"},\"line\":{\"color\":\"white\"}},\"header\":{\"fill\":{\"color\":\"#C8D4E3\"},\"line\":{\"color\":\"white\"}},\"type\":\"table\"}],\"barpolar\":[{\"marker\":{\"line\":{\"color\":\"#E5ECF6\",\"width\":0.5},\"pattern\":{\"fillmode\":\"overlay\",\"size\":10,\"solidity\":0.2}},\"type\":\"barpolar\"}],\"pie\":[{\"automargin\":true,\"type\":\"pie\"}]},\"layout\":{\"autotypenumbers\":\"strict\",\"colorway\":[\"#636efa\",\"#EF553B\",\"#00cc96\",\"#ab63fa\",\"#FFA15A\",\"#19d3f3\",\"#FF6692\",\"#B6E880\",\"#FF97FF\",\"#FECB52\"],\"font\":{\"color\":\"#2a3f5f\"},\"hovermode\":\"closest\",\"hoverlabel\":{\"align\":\"left\"},\"paper_bgcolor\":\"white\",\"plot_bgcolor\":\"#E5ECF6\",\"polar\":{\"bgcolor\":\"#E5ECF6\",\"angularaxis\":{\"gridcolor\":\"white\",\"linecolor\":\"white\",\"ticks\":\"\"},\"radialaxis\":{\"gridcolor\":\"white\",\"linecolor\":\"white\",\"ticks\":\"\"}},\"ternary\":{\"bgcolor\":\"#E5ECF6\",\"aaxis\":{\"gridcolor\":\"white\",\"linecolor\":\"white\",\"ticks\":\"\"},\"baxis\":{\"gridcolor\":\"white\",\"linecolor\":\"white\",\"ticks\":\"\"},\"caxis\":{\"gridcolor\":\"white\",\"linecolor\":\"white\",\"ticks\":\"\"}},\"coloraxis\":{\"colorbar\":{\"outlinewidth\":0,\"ticks\":\"\"}},\"colorscale\":{\"sequential\":[[0.0,\"#0d0887\"],[0.1111111111111111,\"#46039f\"],[0.2222222222222222,\"#7201a8\"],[0.3333333333333333,\"#9c179e\"],[0.4444444444444444,\"#bd3786\"],[0.5555555555555556,\"#d8576b\"],[0.6666666666666666,\"#ed7953\"],[0.7777777777777778,\"#fb9f3a\"],[0.8888888888888888,\"#fdca26\"],[1.0,\"#f0f921\"]],\"sequentialminus\":[[0.0,\"#0d0887\"],[0.1111111111111111,\"#46039f\"],[0.2222222222222222,\"#7201a8\"],[0.3333333333333333,\"#9c179e\"],[0.4444444444444444,\"#bd3786\"],[0.5555555555555556,\"#d8576b\"],[0.6666666666666666,\"#ed7953\"],[0.7777777777777778,\"#fb9f3a\"],[0.8888888888888888,\"#fdca26\"],[1.0,\"#f0f921\"]],\"diverging\":[[0,\"#8e0152\"],[0.1,\"#c51b7d\"],[0.2,\"#de77ae\"],[0.3,\"#f1b6da\"],[0.4,\"#fde0ef\"],[0.5,\"#f7f7f7\"],[0.6,\"#e6f5d0\"],[0.7,\"#b8e186\"],[0.8,\"#7fbc41\"],[0.9,\"#4d9221\"],[1,\"#276419\"]]},\"xaxis\":{\"gridcolor\":\"white\",\"linecolor\":\"white\",\"ticks\":\"\",\"title\":{\"standoff\":15},\"zerolinecolor\":\"white\",\"automargin\":true,\"zerolinewidth\":2},\"yaxis\":{\"gridcolor\":\"white\",\"linecolor\":\"white\",\"ticks\":\"\",\"title\":{\"standoff\":15},\"zerolinecolor\":\"white\",\"automargin\":true,\"zerolinewidth\":2},\"scene\":{\"xaxis\":{\"backgroundcolor\":\"#E5ECF6\",\"gridcolor\":\"white\",\"linecolor\":\"white\",\"showbackground\":true,\"ticks\":\"\",\"zerolinecolor\":\"white\",\"gridwidth\":2},\"yaxis\":{\"backgroundcolor\":\"#E5ECF6\",\"gridcolor\":\"white\",\"linecolor\":\"white\",\"showbackground\":true,\"ticks\":\"\",\"zerolinecolor\":\"white\",\"gridwidth\":2},\"zaxis\":{\"backgroundcolor\":\"#E5ECF6\",\"gridcolor\":\"white\",\"linecolor\":\"white\",\"showbackground\":true,\"ticks\":\"\",\"zerolinecolor\":\"white\",\"gridwidth\":2}},\"shapedefaults\":{\"line\":{\"color\":\"#2a3f5f\"}},\"annotationdefaults\":{\"arrowcolor\":\"#2a3f5f\",\"arrowhead\":0,\"arrowwidth\":1},\"geo\":{\"bgcolor\":\"white\",\"landcolor\":\"#E5ECF6\",\"subunitcolor\":\"white\",\"showland\":true,\"showlakes\":true,\"lakecolor\":\"white\"},\"title\":{\"x\":0.05},\"mapbox\":{\"style\":\"light\"}}},\"xaxis\":{\"anchor\":\"y\",\"domain\":[0.0,1.0],\"matches\":\"x2\",\"showticklabels\":false,\"linecolor\":\"#666666\",\"gridcolor\":\"#d9d9d9\",\"zerolinecolor\":\"rgba(0,0,0,0)\",\"linewidth\":2,\"showline\":true,\"showgrid\":false,\"mirror\":true},\"yaxis\":{\"anchor\":\"x\",\"domain\":[0.25,1.0],\"title\":{\"text\":\"A.U.\"},\"linecolor\":\"#666666\",\"zerolinecolor\":\"rgba(0,0,0,0)\",\"linewidth\":2,\"mirror\":true,\"type\":\"linear\",\"range\":[0.0,23463.0]},\"xaxis2\":{\"anchor\":\"y2\",\"domain\":[0.0,1.0],\"title\":{\"text\":\"Multiplicity\"},\"linecolor\":\"#666666\",\"gridcolor\":\"#d9d9d9\",\"zerolinecolor\":\"rgba(0,0,0,0)\",\"linewidth\":2,\"showline\":true,\"showgrid\":false,\"mirror\":false},\"yaxis2\":{\"anchor\":\"x2\",\"domain\":[0.0,0.25],\"title\":{\"text\":\"Reco\\u002fTruth\"},\"linecolor\":\"#666666\",\"zerolinecolor\":\"rgba(0,0,0,0)\",\"linewidth\":2,\"mirror\":true,\"type\":\"log\",\"range\":[-1,1]},\"shapes\":[{\"line\":{\"color\":\"grey\",\"dash\":\"dash\",\"width\":1},\"type\":\"line\",\"x0\":0,\"x1\":1,\"xref\":\"x2 domain\",\"y0\":1.0,\"y1\":1.0,\"yref\":\"y2\"}],\"annotations\":[{\"font\":{\"family\":\"Cambria\",\"size\":34},\"showarrow\":false,\"text\":\"\\u003ci\\u003e\\u003cb\\u003eDarkSHINE\\u003cb\\u003e\\u003ci\\u003e\",\"x\":0.05,\"xref\":\"paper\",\"y\":0.97,\"yref\":\"paper\"},{\"font\":{\"family\":\"Cambria\",\"size\":31},\"showarrow\":false,\"text\":\"Simulation\",\"x\":0.455,\"xref\":\"paper\",\"y\":0.9662999999999999,\"yref\":\"paper\"},{\"showarrow\":false,\"text\":\"$\\\\Large{E^{e}_{0} = 8~\\\\text{GeV},~10^{6}~\\\\text{EOT}}$\",\"x\":0.05,\"xref\":\"paper\",\"y\":0.895,\"yref\":\"paper\"}],\"legend\":{\"font\":{\"size\":14},\"orientation\":\"v\",\"yanchor\":\"top\",\"y\":0.99,\"xanchor\":\"right\",\"x\":0.98},\"width\":800,\"height\":800,\"paper_bgcolor\":\"rgba(0,0,0,0)\",\"plot_bgcolor\":\"rgba(0,0,0,0)\"},                        {\"responsive\": true}                    ).then(function(){\n                            \nvar gd = document.getElementById('bf79809c-8e90-4324-9460-10b9414ef702');\nvar x = new MutationObserver(function (mutations, observer) {{\n        var display = window.getComputedStyle(gd).display;\n        if (!display || display === 'none') {{\n            console.log([gd, 'removed!']);\n            Plotly.purge(gd);\n            observer.disconnect();\n        }}\n}});\n\n// Listen for the removal of the full notebook cells\nvar notebookContainer = gd.closest('#notebook-container');\nif (notebookContainer) {{\n    x.observe(notebookContainer, {childList: true});\n}}\n\n// Listen for the clearing of the current output cell\nvar outputEl = gd.closest('.output');\nif (outputEl) {{\n    x.observe(outputEl, {childList: true});\n}}\n\n                        })                };                });            </script>        </div>"
     },
     "metadata": {},
     "output_type": "display_data"
    }
   ],
   "source": [
    "def plot_multiplicity(\n",
    "        rec_bin_counts, \n",
    "        rec_bin_center, \n",
    "        truth_bin_counts, \n",
    "        truth_bin_center,\n",
    "        x_title,\n",
    "        log_y = False, \n",
    "\n",
    "):    \n",
    "\n",
    "    y_max = max(rec_bin_counts.max(), truth_bin_counts.max())\n",
    "    y_min = min(rec_bin_counts.min(), truth_bin_counts.min())\n",
    "\n",
    "    fig = make_subplots(\n",
    "        rows=2, cols=1,\n",
    "        shared_xaxes=True,\n",
    "        vertical_spacing=0.0,\n",
    "        row_heights=[0.75, 0.25],\n",
    "    )\n",
    "    fig.add_trace(\n",
    "        go.Scatter(\n",
    "            x=rec_bin_center,\n",
    "            y=rec_bin_counts,\n",
    "            name=f'Reconstructed',\n",
    "            mode='markers',\n",
    "            marker_symbol='circle',\n",
    "            marker_size=14, \n",
    "            marker_color='#D43E33',\n",
    "        ), row=1, col=1\n",
    "    )\n",
    "    fig.add_trace(\n",
    "        go.Scatter(\n",
    "            x=truth_bin_center,\n",
    "            y=truth_bin_counts,\n",
    "            name=f'Truth',\n",
    "            mode='markers',\n",
    "            marker_symbol='star-diamond',\n",
    "            marker_size=14, \n",
    "            marker_color='#5857AD',\n",
    "        ), row=1, col=1\n",
    "    )\n",
    "    fig.add_trace(\n",
    "        go.Scatter(\n",
    "            x=truth_bin_center,\n",
    "            y=rec_bin_counts/truth_bin_counts,\n",
    "            name=f'Recon/Truth',\n",
    "            mode='markers',\n",
    "            marker_symbol='triangle-up',\n",
    "            marker_size=14, \n",
    "            marker_color='rgba(0,100,80,0.4)',\n",
    "        ), row=2, col=1\n",
    "    )\n",
    "    fig.add_hline(y=1.0, line_width=1, line_dash=\"dash\", line_color=\"grey\", row=2, col=1)\n",
    "    \n",
    "    y_axis_attr = dict(linecolor=\"#666666\", zerolinecolor='rgba(0,0,0,0)', linewidth=2, mirror=True)\n",
    "    fig.update_yaxes(\n",
    "        **y_axis_attr, title_text=\"A.U.\", type=\"log\" if log_y else \"linear\", row=1, col=1,\n",
    "        range=[np.log10(y_min + 1e-6) + 0.5, np.log10(y_max) + 2.5] if log_y else [0.1 * y_min, y_max * 1.5]\n",
    "        # range=[1e-5, np.log10(y_max) + 2.5] if log_y else [0, 1]\n",
    "    )\n",
    "    fig.update_yaxes(\n",
    "        **y_axis_attr, title_text=\"Reco/Truth\", type=\"log\", row=2, col=1,\n",
    "        range=[-1, 1],\n",
    "        # range=[1e-5, np.log10(y_max) + 2.5] if log_y else [0, 1]\n",
    "    )\n",
    "    x_axis_attr = dict(\n",
    "        linecolor=\"#666666\", gridcolor='#d9d9d9', zerolinecolor='rgba(0,0,0,0)', linewidth=2,\n",
    "        showline=True, showgrid=False\n",
    "    )\n",
    "    fig.update_xaxes(**x_axis_attr, mirror=True, row=1, col=1)\n",
    "    fig.update_xaxes(**x_axis_attr, mirror=False, title_text=x_title, row=2, col=1)\n",
    "    \n",
    "    \n",
    "    # annotation\n",
    "    x_base, y_base = 0.05, 0.97\n",
    "    fig.add_annotation(\n",
    "        text=r'<i><b>DarkSHINE<b><i>', showarrow=False, xref='paper', x=x_base, yref='paper', y=y_base,\n",
    "        font=dict(size=34, family='Cambria'),\n",
    "    )\n",
    "    fig.add_annotation(\n",
    "        text=r'Simulation', showarrow=False, xref='paper', x=x_base + 0.405, yref='paper', y=y_base - 0.0037,\n",
    "        font=dict(size=31, family='Cambria'),\n",
    "    )\n",
    "\n",
    "    y_base -= 0.075\n",
    "    fig.add_annotation(\n",
    "        text=r'$\\Large{E^{e}_{0} = 8~\\text{GeV},~10^{6}~\\text{EOT}}$', showarrow=False, xref='paper', x=x_base,\n",
    "        yref='paper', y=y_base,\n",
    "    )\n",
    "\n",
    "    y_base -= 0.062\n",
    "    fig.update_layout(\n",
    "        legend=dict(\n",
    "            orientation=\"v\",\n",
    "            yanchor=\"top\",\n",
    "            y=0.99,\n",
    "            xanchor=\"right\",\n",
    "            x=0.98,\n",
    "            font=dict(size=14),\n",
    "        ),\n",
    "        width=800,\n",
    "        height=800,\n",
    "        paper_bgcolor='rgba(0,0,0,0)',\n",
    "        plot_bgcolor='rgba(0,0,0,0)',\n",
    "    )\n",
    "    \n",
    "    fig.show()\n",
    "\n",
    "\n",
    "def binning(df_in):\n",
    "    bins = np.linspace(0.5, 10.5, 11)\n",
    "    counts = df_in.groupby(['run_num', 'evt_num']).size()\n",
    "    duplicates = counts[counts > 0].reset_index(name='count')\n",
    "    duplicates['binned'] = pd.cut(duplicates['count'], bins=bins, labels=bins[:-1])\n",
    "    bin_counts = duplicates['binned'].value_counts()\n",
    "    bin_counts = bin_counts.sort_index()\n",
    "    bin_center = bins[:-1] + (bins[1:] - bins[:-1]) / 2\n",
    "\n",
    "    return bin_counts, bin_center\n",
    "\n",
    "run_num = 4\n",
    "truth_n = 3\n",
    "E_cut = 50 #300\n",
    "Std_min = 8000 #1500\n",
    "rec_bin_counts, rec_bin_center = binning(df[(df['rec_PAvg'] > E_cut) & (df['rec_PStd'] < Std_min) & (df['num_trk'] == truth_n) & (df['run_num'] == run_num)])\n",
    "# truth_bin_counts, truth_bin_center = binning(truth[truth['rec_E'] > E_cut])\n",
    "\n",
    "\n",
    "truth_bin_counts, truth_bin_center = np.array([\n",
    "    df[(df['rec_PAvg'] > E_cut) & (df['rec_PStd'] < Std_min) & (df['num_trk'] == truth_n) & (df['run_num'] == run_num)].drop_duplicates(subset=['run_num', 'evt_num']).shape[0]\n",
    "if i == truth_n-1 else 0 for i, _ in enumerate(rec_bin_counts)\n",
    "]),rec_bin_center\n",
    "\n",
    "plot_multiplicity(rec_bin_counts, rec_bin_center, truth_bin_counts, truth_bin_center, log_y=False, x_title='Multiplicity')\n",
    "\n",
    "# rec_bin_counts, rec_bin_center = binning(df[(df['rec_PAvg'] > E_cut) & (df['rec_PStd'] < Std_min)])\n",
    "# truth_bin_counts, truth_bin_center = binning(truth[truth['rec_E'] > E_cut])\n",
    "# plot_multiplicity(rec_bin_counts, rec_bin_center, truth_bin_counts, truth_bin_center, log_y=False, x_title='Multiplicity')\n",
    "\n",
    "\n",
    "# for c in [-1, 1]:\n",
    "#     rec_bin_counts, rec_bin_center = binning(df[(df['rec_PAvg'] > E_cut) & (df['rec_PStd'] < Std_min) & (df['rec_Charge'] == -c) & (df['rec_ChargeQ'] <= 1)])\n",
    "#     truth_bin_counts, truth_bin_center = binning(truth[ (truth['rec_E'] > E_cut) & (np.sign(truth['rec_ID']) == c) ])\n",
    "#     \n",
    "#     plot_multiplicity(rec_bin_counts, rec_bin_center, truth_bin_counts, truth_bin_center, log_y=False, x_title='Multiplicity')"
   ],
   "metadata": {
    "collapsed": false,
    "ExecuteTime": {
     "end_time": "2023-11-12T16:05:40.182184Z",
     "start_time": "2023-11-12T16:05:40.141129Z"
    }
   },
   "id": "4b99df05ed4e0acd"
  },
  {
   "cell_type": "code",
   "execution_count": 9,
   "outputs": [
    {
     "data": {
      "application/vnd.plotly.v1+json": {
       "data": [
        {
         "marker": {
          "color": "#D43E33",
          "size": 14,
          "symbol": "circle"
         },
         "mode": "markers",
         "name": "Reconstructed",
         "x": [
          40.4040404040404,
          121.2121212121212,
          202.02020202020202,
          282.8282828282828,
          363.6363636363636,
          444.44444444444446,
          525.2525252525252,
          606.060606060606,
          686.8686868686868,
          767.6767676767677,
          848.4848484848485,
          929.2929292929292,
          1010.1010101010099,
          1090.9090909090908,
          1171.7171717171716,
          1252.5252525252524,
          1333.3333333333333,
          1414.141414141414,
          1494.949494949495,
          1575.7575757575758,
          1656.5656565656564,
          1737.3737373737372,
          1818.181818181818,
          1898.9898989898988,
          1979.7979797979797,
          2060.6060606060605,
          2141.4141414141413,
          2222.2222222222217,
          2303.030303030303,
          2383.8383838383834,
          2464.6464646464647,
          2545.454545454545,
          2626.2626262626263,
          2707.0707070707067,
          2787.878787878788,
          2868.6868686868684,
          2949.4949494949497,
          3030.30303030303,
          3111.1111111111113,
          3191.9191919191917,
          3272.7272727272725,
          3353.5353535353534,
          3434.3434343434337,
          3515.151515151515,
          3595.9595959595954,
          3676.7676767676767,
          3757.575757575757,
          3838.3838383838383,
          3919.1919191919187,
          4000.0,
          4080.8080808080804,
          4161.616161616161,
          4242.424242424242,
          4323.232323232323,
          4404.040404040404,
          4484.848484848484,
          4565.656565656565,
          4646.464646464647,
          4727.272727272727,
          4808.080808080807,
          4888.888888888889,
          4969.69696969697,
          5050.50505050505,
          5131.313131313131,
          5212.121212121212,
          5292.929292929292,
          5373.737373737373,
          5454.545454545454,
          5535.353535353535,
          5616.161616161616,
          5696.969696969696,
          5777.777777777777,
          5858.585858585859,
          5939.393939393939,
          6020.202020202019,
          6101.010101010101,
          6181.818181818182,
          6262.626262626262,
          6343.434343434343,
          6424.242424242424,
          6505.050505050505,
          6585.858585858585,
          6666.666666666666,
          6747.474747474747,
          6828.282828282828,
          6909.090909090908,
          6989.898989898989,
          7070.707070707071,
          7151.515151515151,
          7232.323232323231,
          7313.131313131313,
          7393.939393939394,
          7474.747474747474,
          7555.555555555555,
          7636.363636363636,
          7717.171717171717,
          7797.979797979797,
          7878.787878787878,
          7959.595959595959
         ],
         "y": [
          0,
          0,
          0,
          28,
          113,
          92,
          112,
          118,
          126,
          177,
          207,
          201,
          204,
          196,
          233,
          242,
          233,
          251,
          240,
          239,
          236,
          219,
          264,
          247,
          271,
          262,
          281,
          302,
          309,
          339,
          337,
          369,
          376,
          493,
          549,
          646,
          744,
          791,
          860,
          998,
          1080,
          1153,
          1310,
          1372,
          1443,
          1486,
          1598,
          1659,
          1933,
          2063,
          2178,
          2126,
          2124,
          2065,
          2139,
          2053,
          1966,
          1948,
          2072,
          1993,
          1941,
          1843,
          1873,
          1843,
          1822,
          1712,
          1728,
          1724,
          1598,
          1693,
          1542,
          1648,
          1503,
          1481,
          1527,
          1482,
          1440,
          1367,
          1427,
          1318,
          1410,
          1384,
          1313,
          1292,
          1264,
          1223,
          1195,
          1178,
          1123,
          1067,
          1041,
          948,
          930,
          860,
          718,
          550,
          392,
          277,
          184
         ],
         "type": "scatter",
         "xaxis": "x",
         "yaxis": "y"
        },
        {
         "marker": {
          "color": "#5857AD",
          "size": 14,
          "symbol": "star-diamond"
         },
         "mode": "markers",
         "name": "Truth",
         "x": [
          40.4040404040404,
          121.2121212121212,
          202.02020202020202,
          282.8282828282828,
          363.6363636363636,
          444.44444444444446,
          525.2525252525252,
          606.060606060606,
          686.8686868686868,
          767.6767676767677,
          848.4848484848485,
          929.2929292929292,
          1010.1010101010099,
          1090.9090909090908,
          1171.7171717171716,
          1252.5252525252524,
          1333.3333333333333,
          1414.141414141414,
          1494.949494949495,
          1575.7575757575758,
          1656.5656565656564,
          1737.3737373737372,
          1818.181818181818,
          1898.9898989898988,
          1979.7979797979797,
          2060.6060606060605,
          2141.4141414141413,
          2222.2222222222217,
          2303.030303030303,
          2383.8383838383834,
          2464.6464646464647,
          2545.454545454545,
          2626.2626262626263,
          2707.0707070707067,
          2787.878787878788,
          2868.6868686868684,
          2949.4949494949497,
          3030.30303030303,
          3111.1111111111113,
          3191.9191919191917,
          3272.7272727272725,
          3353.5353535353534,
          3434.3434343434337,
          3515.151515151515,
          3595.9595959595954,
          3676.7676767676767,
          3757.575757575757,
          3838.3838383838383,
          3919.1919191919187,
          4000.0,
          4080.8080808080804,
          4161.616161616161,
          4242.424242424242,
          4323.232323232323,
          4404.040404040404,
          4484.848484848484,
          4565.656565656565,
          4646.464646464647,
          4727.272727272727,
          4808.080808080807,
          4888.888888888889,
          4969.69696969697,
          5050.50505050505,
          5131.313131313131,
          5212.121212121212,
          5292.929292929292,
          5373.737373737373,
          5454.545454545454,
          5535.353535353535,
          5616.161616161616,
          5696.969696969696,
          5777.777777777777,
          5858.585858585859,
          5939.393939393939,
          6020.202020202019,
          6101.010101010101,
          6181.818181818182,
          6262.626262626262,
          6343.434343434343,
          6424.242424242424,
          6505.050505050505,
          6585.858585858585,
          6666.666666666666,
          6747.474747474747,
          6828.282828282828,
          6909.090909090908,
          6989.898989898989,
          7070.707070707071,
          7151.515151515151,
          7232.323232323231,
          7313.131313131313,
          7393.939393939394,
          7474.747474747474,
          7555.555555555555,
          7636.363636363636,
          7717.171717171717,
          7797.979797979797,
          7878.787878787878,
          7959.595959595959
         ],
         "y": [
          0,
          0,
          0,
          2,
          12,
          12,
          13,
          26,
          33,
          46,
          49,
          60,
          63,
          56,
          69,
          70,
          89,
          78,
          97,
          96,
          107,
          118,
          117,
          126,
          131,
          144,
          174,
          164,
          199,
          235,
          250,
          230,
          334,
          348,
          453,
          562,
          670,
          751,
          811,
          907,
          958,
          1148,
          1174,
          1277,
          1373,
          1432,
          1557,
          1778,
          1915,
          2213,
          2449,
          2452,
          2310,
          2258,
          2234,
          2241,
          2137,
          2181,
          2109,
          2155,
          2003,
          2095,
          2019,
          2032,
          1977,
          1921,
          1863,
          1843,
          1833,
          1784,
          1728,
          1699,
          1752,
          1641,
          1653,
          1636,
          1571,
          1530,
          1506,
          1522,
          1450,
          1431,
          1368,
          1320,
          1292,
          1327,
          1207,
          1214,
          1021,
          1046,
          1005,
          898,
          871,
          852,
          815,
          701,
          580,
          451,
          228
         ],
         "type": "scatter",
         "xaxis": "x",
         "yaxis": "y"
        },
        {
         "marker": {
          "color": "rgba(0,100,80,0.4)",
          "size": 14,
          "symbol": "triangle-up"
         },
         "mode": "markers",
         "name": "Recon/Truth",
         "x": [
          40.4040404040404,
          121.2121212121212,
          202.02020202020202,
          282.8282828282828,
          363.6363636363636,
          444.44444444444446,
          525.2525252525252,
          606.060606060606,
          686.8686868686868,
          767.6767676767677,
          848.4848484848485,
          929.2929292929292,
          1010.1010101010099,
          1090.9090909090908,
          1171.7171717171716,
          1252.5252525252524,
          1333.3333333333333,
          1414.141414141414,
          1494.949494949495,
          1575.7575757575758,
          1656.5656565656564,
          1737.3737373737372,
          1818.181818181818,
          1898.9898989898988,
          1979.7979797979797,
          2060.6060606060605,
          2141.4141414141413,
          2222.2222222222217,
          2303.030303030303,
          2383.8383838383834,
          2464.6464646464647,
          2545.454545454545,
          2626.2626262626263,
          2707.0707070707067,
          2787.878787878788,
          2868.6868686868684,
          2949.4949494949497,
          3030.30303030303,
          3111.1111111111113,
          3191.9191919191917,
          3272.7272727272725,
          3353.5353535353534,
          3434.3434343434337,
          3515.151515151515,
          3595.9595959595954,
          3676.7676767676767,
          3757.575757575757,
          3838.3838383838383,
          3919.1919191919187,
          4000.0,
          4080.8080808080804,
          4161.616161616161,
          4242.424242424242,
          4323.232323232323,
          4404.040404040404,
          4484.848484848484,
          4565.656565656565,
          4646.464646464647,
          4727.272727272727,
          4808.080808080807,
          4888.888888888889,
          4969.69696969697,
          5050.50505050505,
          5131.313131313131,
          5212.121212121212,
          5292.929292929292,
          5373.737373737373,
          5454.545454545454,
          5535.353535353535,
          5616.161616161616,
          5696.969696969696,
          5777.777777777777,
          5858.585858585859,
          5939.393939393939,
          6020.202020202019,
          6101.010101010101,
          6181.818181818182,
          6262.626262626262,
          6343.434343434343,
          6424.242424242424,
          6505.050505050505,
          6585.858585858585,
          6666.666666666666,
          6747.474747474747,
          6828.282828282828,
          6909.090909090908,
          6989.898989898989,
          7070.707070707071,
          7151.515151515151,
          7232.323232323231,
          7313.131313131313,
          7393.939393939394,
          7474.747474747474,
          7555.555555555555,
          7636.363636363636,
          7717.171717171717,
          7797.979797979797,
          7878.787878787878,
          7959.595959595959
         ],
         "y": [
          null,
          null,
          null,
          14.0,
          9.416666666666666,
          7.666666666666667,
          8.615384615384615,
          4.538461538461538,
          3.8181818181818183,
          3.847826086956522,
          4.224489795918367,
          3.35,
          3.238095238095238,
          3.5,
          3.3768115942028984,
          3.4571428571428573,
          2.6179775280898876,
          3.217948717948718,
          2.4742268041237114,
          2.4895833333333335,
          2.205607476635514,
          1.8559322033898304,
          2.2564102564102564,
          1.9603174603174602,
          2.068702290076336,
          1.8194444444444444,
          1.6149425287356323,
          1.8414634146341464,
          1.5527638190954773,
          1.4425531914893617,
          1.348,
          1.6043478260869566,
          1.125748502994012,
          1.4166666666666667,
          1.2119205298013245,
          1.1494661921708185,
          1.1104477611940298,
          1.0532623169107855,
          1.060419235511714,
          1.1003307607497244,
          1.1273486430062631,
          1.004355400696864,
          1.1158432708688246,
          1.0743931088488645,
          1.0509832483612527,
          1.0377094972067038,
          1.0263326910725754,
          0.9330708661417323,
          1.0093994778067885,
          0.9322187076366922,
          0.8893425888117599,
          0.867047308319739,
          0.9194805194805195,
          0.9145261293179805,
          0.9574753804834378,
          0.9161088799643017,
          0.9199812821712682,
          0.8931682714351215,
          0.9824561403508771,
          0.9248259860788863,
          0.9690464303544682,
          0.8797136038186157,
          0.9276869737493809,
          0.906988188976378,
          0.9215983813859383,
          0.8912024986985945,
          0.927536231884058,
          0.9354313619099295,
          0.8717948717948718,
          0.9489910313901345,
          0.8923611111111112,
          0.9699823425544438,
          0.8578767123287672,
          0.902498476538696,
          0.9237749546279492,
          0.9058679706601467,
          0.916613621896881,
          0.8934640522875817,
          0.9475431606905711,
          0.8659658344283837,
          0.9724137931034482,
          0.9671558350803634,
          0.9597953216374269,
          0.9787878787878788,
          0.978328173374613,
          0.921627731725697,
          0.9900579950289975,
          0.9703459637561779,
          1.0999020568070519,
          1.020076481835564,
          1.035820895522388,
          1.0556792873051224,
          1.0677382319173363,
          1.0093896713615023,
          0.8809815950920246,
          0.7845934379457917,
          0.6758620689655173,
          0.614190687361419,
          0.8070175438596491
         ],
         "type": "scatter",
         "xaxis": "x2",
         "yaxis": "y2"
        }
       ],
       "layout": {
        "template": {
         "data": {
          "histogram2dcontour": [
           {
            "type": "histogram2dcontour",
            "colorbar": {
             "outlinewidth": 0,
             "ticks": ""
            },
            "colorscale": [
             [
              0.0,
              "#0d0887"
             ],
             [
              0.1111111111111111,
              "#46039f"
             ],
             [
              0.2222222222222222,
              "#7201a8"
             ],
             [
              0.3333333333333333,
              "#9c179e"
             ],
             [
              0.4444444444444444,
              "#bd3786"
             ],
             [
              0.5555555555555556,
              "#d8576b"
             ],
             [
              0.6666666666666666,
              "#ed7953"
             ],
             [
              0.7777777777777778,
              "#fb9f3a"
             ],
             [
              0.8888888888888888,
              "#fdca26"
             ],
             [
              1.0,
              "#f0f921"
             ]
            ]
           }
          ],
          "choropleth": [
           {
            "type": "choropleth",
            "colorbar": {
             "outlinewidth": 0,
             "ticks": ""
            }
           }
          ],
          "histogram2d": [
           {
            "type": "histogram2d",
            "colorbar": {
             "outlinewidth": 0,
             "ticks": ""
            },
            "colorscale": [
             [
              0.0,
              "#0d0887"
             ],
             [
              0.1111111111111111,
              "#46039f"
             ],
             [
              0.2222222222222222,
              "#7201a8"
             ],
             [
              0.3333333333333333,
              "#9c179e"
             ],
             [
              0.4444444444444444,
              "#bd3786"
             ],
             [
              0.5555555555555556,
              "#d8576b"
             ],
             [
              0.6666666666666666,
              "#ed7953"
             ],
             [
              0.7777777777777778,
              "#fb9f3a"
             ],
             [
              0.8888888888888888,
              "#fdca26"
             ],
             [
              1.0,
              "#f0f921"
             ]
            ]
           }
          ],
          "heatmap": [
           {
            "type": "heatmap",
            "colorbar": {
             "outlinewidth": 0,
             "ticks": ""
            },
            "colorscale": [
             [
              0.0,
              "#0d0887"
             ],
             [
              0.1111111111111111,
              "#46039f"
             ],
             [
              0.2222222222222222,
              "#7201a8"
             ],
             [
              0.3333333333333333,
              "#9c179e"
             ],
             [
              0.4444444444444444,
              "#bd3786"
             ],
             [
              0.5555555555555556,
              "#d8576b"
             ],
             [
              0.6666666666666666,
              "#ed7953"
             ],
             [
              0.7777777777777778,
              "#fb9f3a"
             ],
             [
              0.8888888888888888,
              "#fdca26"
             ],
             [
              1.0,
              "#f0f921"
             ]
            ]
           }
          ],
          "heatmapgl": [
           {
            "type": "heatmapgl",
            "colorbar": {
             "outlinewidth": 0,
             "ticks": ""
            },
            "colorscale": [
             [
              0.0,
              "#0d0887"
             ],
             [
              0.1111111111111111,
              "#46039f"
             ],
             [
              0.2222222222222222,
              "#7201a8"
             ],
             [
              0.3333333333333333,
              "#9c179e"
             ],
             [
              0.4444444444444444,
              "#bd3786"
             ],
             [
              0.5555555555555556,
              "#d8576b"
             ],
             [
              0.6666666666666666,
              "#ed7953"
             ],
             [
              0.7777777777777778,
              "#fb9f3a"
             ],
             [
              0.8888888888888888,
              "#fdca26"
             ],
             [
              1.0,
              "#f0f921"
             ]
            ]
           }
          ],
          "contourcarpet": [
           {
            "type": "contourcarpet",
            "colorbar": {
             "outlinewidth": 0,
             "ticks": ""
            }
           }
          ],
          "contour": [
           {
            "type": "contour",
            "colorbar": {
             "outlinewidth": 0,
             "ticks": ""
            },
            "colorscale": [
             [
              0.0,
              "#0d0887"
             ],
             [
              0.1111111111111111,
              "#46039f"
             ],
             [
              0.2222222222222222,
              "#7201a8"
             ],
             [
              0.3333333333333333,
              "#9c179e"
             ],
             [
              0.4444444444444444,
              "#bd3786"
             ],
             [
              0.5555555555555556,
              "#d8576b"
             ],
             [
              0.6666666666666666,
              "#ed7953"
             ],
             [
              0.7777777777777778,
              "#fb9f3a"
             ],
             [
              0.8888888888888888,
              "#fdca26"
             ],
             [
              1.0,
              "#f0f921"
             ]
            ]
           }
          ],
          "surface": [
           {
            "type": "surface",
            "colorbar": {
             "outlinewidth": 0,
             "ticks": ""
            },
            "colorscale": [
             [
              0.0,
              "#0d0887"
             ],
             [
              0.1111111111111111,
              "#46039f"
             ],
             [
              0.2222222222222222,
              "#7201a8"
             ],
             [
              0.3333333333333333,
              "#9c179e"
             ],
             [
              0.4444444444444444,
              "#bd3786"
             ],
             [
              0.5555555555555556,
              "#d8576b"
             ],
             [
              0.6666666666666666,
              "#ed7953"
             ],
             [
              0.7777777777777778,
              "#fb9f3a"
             ],
             [
              0.8888888888888888,
              "#fdca26"
             ],
             [
              1.0,
              "#f0f921"
             ]
            ]
           }
          ],
          "mesh3d": [
           {
            "type": "mesh3d",
            "colorbar": {
             "outlinewidth": 0,
             "ticks": ""
            }
           }
          ],
          "scatter": [
           {
            "fillpattern": {
             "fillmode": "overlay",
             "size": 10,
             "solidity": 0.2
            },
            "type": "scatter"
           }
          ],
          "parcoords": [
           {
            "type": "parcoords",
            "line": {
             "colorbar": {
              "outlinewidth": 0,
              "ticks": ""
             }
            }
           }
          ],
          "scatterpolargl": [
           {
            "type": "scatterpolargl",
            "marker": {
             "colorbar": {
              "outlinewidth": 0,
              "ticks": ""
             }
            }
           }
          ],
          "bar": [
           {
            "error_x": {
             "color": "#2a3f5f"
            },
            "error_y": {
             "color": "#2a3f5f"
            },
            "marker": {
             "line": {
              "color": "#E5ECF6",
              "width": 0.5
             },
             "pattern": {
              "fillmode": "overlay",
              "size": 10,
              "solidity": 0.2
             }
            },
            "type": "bar"
           }
          ],
          "scattergeo": [
           {
            "type": "scattergeo",
            "marker": {
             "colorbar": {
              "outlinewidth": 0,
              "ticks": ""
             }
            }
           }
          ],
          "scatterpolar": [
           {
            "type": "scatterpolar",
            "marker": {
             "colorbar": {
              "outlinewidth": 0,
              "ticks": ""
             }
            }
           }
          ],
          "histogram": [
           {
            "marker": {
             "pattern": {
              "fillmode": "overlay",
              "size": 10,
              "solidity": 0.2
             }
            },
            "type": "histogram"
           }
          ],
          "scattergl": [
           {
            "type": "scattergl",
            "marker": {
             "colorbar": {
              "outlinewidth": 0,
              "ticks": ""
             }
            }
           }
          ],
          "scatter3d": [
           {
            "type": "scatter3d",
            "line": {
             "colorbar": {
              "outlinewidth": 0,
              "ticks": ""
             }
            },
            "marker": {
             "colorbar": {
              "outlinewidth": 0,
              "ticks": ""
             }
            }
           }
          ],
          "scattermapbox": [
           {
            "type": "scattermapbox",
            "marker": {
             "colorbar": {
              "outlinewidth": 0,
              "ticks": ""
             }
            }
           }
          ],
          "scatterternary": [
           {
            "type": "scatterternary",
            "marker": {
             "colorbar": {
              "outlinewidth": 0,
              "ticks": ""
             }
            }
           }
          ],
          "scattercarpet": [
           {
            "type": "scattercarpet",
            "marker": {
             "colorbar": {
              "outlinewidth": 0,
              "ticks": ""
             }
            }
           }
          ],
          "carpet": [
           {
            "aaxis": {
             "endlinecolor": "#2a3f5f",
             "gridcolor": "white",
             "linecolor": "white",
             "minorgridcolor": "white",
             "startlinecolor": "#2a3f5f"
            },
            "baxis": {
             "endlinecolor": "#2a3f5f",
             "gridcolor": "white",
             "linecolor": "white",
             "minorgridcolor": "white",
             "startlinecolor": "#2a3f5f"
            },
            "type": "carpet"
           }
          ],
          "table": [
           {
            "cells": {
             "fill": {
              "color": "#EBF0F8"
             },
             "line": {
              "color": "white"
             }
            },
            "header": {
             "fill": {
              "color": "#C8D4E3"
             },
             "line": {
              "color": "white"
             }
            },
            "type": "table"
           }
          ],
          "barpolar": [
           {
            "marker": {
             "line": {
              "color": "#E5ECF6",
              "width": 0.5
             },
             "pattern": {
              "fillmode": "overlay",
              "size": 10,
              "solidity": 0.2
             }
            },
            "type": "barpolar"
           }
          ],
          "pie": [
           {
            "automargin": true,
            "type": "pie"
           }
          ]
         },
         "layout": {
          "autotypenumbers": "strict",
          "colorway": [
           "#636efa",
           "#EF553B",
           "#00cc96",
           "#ab63fa",
           "#FFA15A",
           "#19d3f3",
           "#FF6692",
           "#B6E880",
           "#FF97FF",
           "#FECB52"
          ],
          "font": {
           "color": "#2a3f5f"
          },
          "hovermode": "closest",
          "hoverlabel": {
           "align": "left"
          },
          "paper_bgcolor": "white",
          "plot_bgcolor": "#E5ECF6",
          "polar": {
           "bgcolor": "#E5ECF6",
           "angularaxis": {
            "gridcolor": "white",
            "linecolor": "white",
            "ticks": ""
           },
           "radialaxis": {
            "gridcolor": "white",
            "linecolor": "white",
            "ticks": ""
           }
          },
          "ternary": {
           "bgcolor": "#E5ECF6",
           "aaxis": {
            "gridcolor": "white",
            "linecolor": "white",
            "ticks": ""
           },
           "baxis": {
            "gridcolor": "white",
            "linecolor": "white",
            "ticks": ""
           },
           "caxis": {
            "gridcolor": "white",
            "linecolor": "white",
            "ticks": ""
           }
          },
          "coloraxis": {
           "colorbar": {
            "outlinewidth": 0,
            "ticks": ""
           }
          },
          "colorscale": {
           "sequential": [
            [
             0.0,
             "#0d0887"
            ],
            [
             0.1111111111111111,
             "#46039f"
            ],
            [
             0.2222222222222222,
             "#7201a8"
            ],
            [
             0.3333333333333333,
             "#9c179e"
            ],
            [
             0.4444444444444444,
             "#bd3786"
            ],
            [
             0.5555555555555556,
             "#d8576b"
            ],
            [
             0.6666666666666666,
             "#ed7953"
            ],
            [
             0.7777777777777778,
             "#fb9f3a"
            ],
            [
             0.8888888888888888,
             "#fdca26"
            ],
            [
             1.0,
             "#f0f921"
            ]
           ],
           "sequentialminus": [
            [
             0.0,
             "#0d0887"
            ],
            [
             0.1111111111111111,
             "#46039f"
            ],
            [
             0.2222222222222222,
             "#7201a8"
            ],
            [
             0.3333333333333333,
             "#9c179e"
            ],
            [
             0.4444444444444444,
             "#bd3786"
            ],
            [
             0.5555555555555556,
             "#d8576b"
            ],
            [
             0.6666666666666666,
             "#ed7953"
            ],
            [
             0.7777777777777778,
             "#fb9f3a"
            ],
            [
             0.8888888888888888,
             "#fdca26"
            ],
            [
             1.0,
             "#f0f921"
            ]
           ],
           "diverging": [
            [
             0,
             "#8e0152"
            ],
            [
             0.1,
             "#c51b7d"
            ],
            [
             0.2,
             "#de77ae"
            ],
            [
             0.3,
             "#f1b6da"
            ],
            [
             0.4,
             "#fde0ef"
            ],
            [
             0.5,
             "#f7f7f7"
            ],
            [
             0.6,
             "#e6f5d0"
            ],
            [
             0.7,
             "#b8e186"
            ],
            [
             0.8,
             "#7fbc41"
            ],
            [
             0.9,
             "#4d9221"
            ],
            [
             1,
             "#276419"
            ]
           ]
          },
          "xaxis": {
           "gridcolor": "white",
           "linecolor": "white",
           "ticks": "",
           "title": {
            "standoff": 15
           },
           "zerolinecolor": "white",
           "automargin": true,
           "zerolinewidth": 2
          },
          "yaxis": {
           "gridcolor": "white",
           "linecolor": "white",
           "ticks": "",
           "title": {
            "standoff": 15
           },
           "zerolinecolor": "white",
           "automargin": true,
           "zerolinewidth": 2
          },
          "scene": {
           "xaxis": {
            "backgroundcolor": "#E5ECF6",
            "gridcolor": "white",
            "linecolor": "white",
            "showbackground": true,
            "ticks": "",
            "zerolinecolor": "white",
            "gridwidth": 2
           },
           "yaxis": {
            "backgroundcolor": "#E5ECF6",
            "gridcolor": "white",
            "linecolor": "white",
            "showbackground": true,
            "ticks": "",
            "zerolinecolor": "white",
            "gridwidth": 2
           },
           "zaxis": {
            "backgroundcolor": "#E5ECF6",
            "gridcolor": "white",
            "linecolor": "white",
            "showbackground": true,
            "ticks": "",
            "zerolinecolor": "white",
            "gridwidth": 2
           }
          },
          "shapedefaults": {
           "line": {
            "color": "#2a3f5f"
           }
          },
          "annotationdefaults": {
           "arrowcolor": "#2a3f5f",
           "arrowhead": 0,
           "arrowwidth": 1
          },
          "geo": {
           "bgcolor": "white",
           "landcolor": "#E5ECF6",
           "subunitcolor": "white",
           "showland": true,
           "showlakes": true,
           "lakecolor": "white"
          },
          "title": {
           "x": 0.05
          },
          "mapbox": {
           "style": "light"
          }
         }
        },
        "xaxis": {
         "anchor": "y",
         "domain": [
          0.0,
          1.0
         ],
         "matches": "x2",
         "showticklabels": false,
         "linecolor": "#666666",
         "gridcolor": "#d9d9d9",
         "zerolinecolor": "rgba(0,0,0,0)",
         "linewidth": 2,
         "showline": true,
         "showgrid": false,
         "mirror": true
        },
        "yaxis": {
         "anchor": "x",
         "domain": [
          0.25,
          1.0
         ],
         "title": {
          "text": "A.U."
         },
         "linecolor": "#666666",
         "zerolinecolor": "rgba(0,0,0,0)",
         "linewidth": 2,
         "mirror": true,
         "type": "linear",
         "range": [
          0.0,
          3678.0
         ]
        },
        "xaxis2": {
         "anchor": "y2",
         "domain": [
          0.0,
          1.0
         ],
         "title": {
          "text": "$P_{1} \\text{ [MeV]}$"
         },
         "linecolor": "#666666",
         "gridcolor": "#d9d9d9",
         "zerolinecolor": "rgba(0,0,0,0)",
         "linewidth": 2,
         "showline": true,
         "showgrid": false,
         "mirror": false
        },
        "yaxis2": {
         "anchor": "x2",
         "domain": [
          0.0,
          0.25
         ],
         "title": {
          "text": "Reco/Truth"
         },
         "linecolor": "#666666",
         "zerolinecolor": "rgba(0,0,0,0)",
         "linewidth": 2,
         "mirror": true,
         "type": "log",
         "range": [
          -1,
          1
         ]
        },
        "shapes": [
         {
          "line": {
           "color": "grey",
           "dash": "dash",
           "width": 1
          },
          "type": "line",
          "x0": 0,
          "x1": 1,
          "xref": "x2 domain",
          "y0": 1.0,
          "y1": 1.0,
          "yref": "y2"
         }
        ],
        "annotations": [
         {
          "font": {
           "family": "Cambria",
           "size": 34
          },
          "showarrow": false,
          "text": "<i><b>DarkSHINE<b><i>",
          "x": 0.05,
          "xref": "paper",
          "y": 0.97,
          "yref": "paper"
         },
         {
          "font": {
           "family": "Cambria",
           "size": 31
          },
          "showarrow": false,
          "text": "Simulation",
          "x": 0.455,
          "xref": "paper",
          "y": 0.9662999999999999,
          "yref": "paper"
         },
         {
          "showarrow": false,
          "text": "$\\Large{E^{e}_{0} = 8~\\text{GeV},~10^{6}~\\text{EOT}}$",
          "x": 0.05,
          "xref": "paper",
          "y": 0.895,
          "yref": "paper"
         }
        ],
        "legend": {
         "font": {
          "size": 14
         },
         "orientation": "v",
         "yanchor": "top",
         "y": 0.99,
         "xanchor": "right",
         "x": 0.98
        },
        "width": 800,
        "height": 800,
        "paper_bgcolor": "rgba(0,0,0,0)",
        "plot_bgcolor": "rgba(0,0,0,0)"
       },
       "config": {
        "plotlyServerURL": "https://plot.ly"
       }
      },
      "text/html": "<div>                            <div id=\"0b6fba5c-c033-43ed-b1d3-253117f409e6\" class=\"plotly-graph-div\" style=\"height:800px; width:800px;\"></div>            <script type=\"text/javascript\">                require([\"plotly\"], function(Plotly) {                    window.PLOTLYENV=window.PLOTLYENV || {};                                    if (document.getElementById(\"0b6fba5c-c033-43ed-b1d3-253117f409e6\")) {                    Plotly.newPlot(                        \"0b6fba5c-c033-43ed-b1d3-253117f409e6\",                        [{\"marker\":{\"color\":\"#D43E33\",\"size\":14,\"symbol\":\"circle\"},\"mode\":\"markers\",\"name\":\"Reconstructed\",\"x\":[40.4040404040404,121.2121212121212,202.02020202020202,282.8282828282828,363.6363636363636,444.44444444444446,525.2525252525252,606.060606060606,686.8686868686868,767.6767676767677,848.4848484848485,929.2929292929292,1010.1010101010099,1090.9090909090908,1171.7171717171716,1252.5252525252524,1333.3333333333333,1414.141414141414,1494.949494949495,1575.7575757575758,1656.5656565656564,1737.3737373737372,1818.181818181818,1898.9898989898988,1979.7979797979797,2060.6060606060605,2141.4141414141413,2222.2222222222217,2303.030303030303,2383.8383838383834,2464.6464646464647,2545.454545454545,2626.2626262626263,2707.0707070707067,2787.878787878788,2868.6868686868684,2949.4949494949497,3030.30303030303,3111.1111111111113,3191.9191919191917,3272.7272727272725,3353.5353535353534,3434.3434343434337,3515.151515151515,3595.9595959595954,3676.7676767676767,3757.575757575757,3838.3838383838383,3919.1919191919187,4000.0,4080.8080808080804,4161.616161616161,4242.424242424242,4323.232323232323,4404.040404040404,4484.848484848484,4565.656565656565,4646.464646464647,4727.272727272727,4808.080808080807,4888.888888888889,4969.69696969697,5050.50505050505,5131.313131313131,5212.121212121212,5292.929292929292,5373.737373737373,5454.545454545454,5535.353535353535,5616.161616161616,5696.969696969696,5777.777777777777,5858.585858585859,5939.393939393939,6020.202020202019,6101.010101010101,6181.818181818182,6262.626262626262,6343.434343434343,6424.242424242424,6505.050505050505,6585.858585858585,6666.666666666666,6747.474747474747,6828.282828282828,6909.090909090908,6989.898989898989,7070.707070707071,7151.515151515151,7232.323232323231,7313.131313131313,7393.939393939394,7474.747474747474,7555.555555555555,7636.363636363636,7717.171717171717,7797.979797979797,7878.787878787878,7959.595959595959],\"y\":[0,0,0,28,113,92,112,118,126,177,207,201,204,196,233,242,233,251,240,239,236,219,264,247,271,262,281,302,309,339,337,369,376,493,549,646,744,791,860,998,1080,1153,1310,1372,1443,1486,1598,1659,1933,2063,2178,2126,2124,2065,2139,2053,1966,1948,2072,1993,1941,1843,1873,1843,1822,1712,1728,1724,1598,1693,1542,1648,1503,1481,1527,1482,1440,1367,1427,1318,1410,1384,1313,1292,1264,1223,1195,1178,1123,1067,1041,948,930,860,718,550,392,277,184],\"type\":\"scatter\",\"xaxis\":\"x\",\"yaxis\":\"y\"},{\"marker\":{\"color\":\"#5857AD\",\"size\":14,\"symbol\":\"star-diamond\"},\"mode\":\"markers\",\"name\":\"Truth\",\"x\":[40.4040404040404,121.2121212121212,202.02020202020202,282.8282828282828,363.6363636363636,444.44444444444446,525.2525252525252,606.060606060606,686.8686868686868,767.6767676767677,848.4848484848485,929.2929292929292,1010.1010101010099,1090.9090909090908,1171.7171717171716,1252.5252525252524,1333.3333333333333,1414.141414141414,1494.949494949495,1575.7575757575758,1656.5656565656564,1737.3737373737372,1818.181818181818,1898.9898989898988,1979.7979797979797,2060.6060606060605,2141.4141414141413,2222.2222222222217,2303.030303030303,2383.8383838383834,2464.6464646464647,2545.454545454545,2626.2626262626263,2707.0707070707067,2787.878787878788,2868.6868686868684,2949.4949494949497,3030.30303030303,3111.1111111111113,3191.9191919191917,3272.7272727272725,3353.5353535353534,3434.3434343434337,3515.151515151515,3595.9595959595954,3676.7676767676767,3757.575757575757,3838.3838383838383,3919.1919191919187,4000.0,4080.8080808080804,4161.616161616161,4242.424242424242,4323.232323232323,4404.040404040404,4484.848484848484,4565.656565656565,4646.464646464647,4727.272727272727,4808.080808080807,4888.888888888889,4969.69696969697,5050.50505050505,5131.313131313131,5212.121212121212,5292.929292929292,5373.737373737373,5454.545454545454,5535.353535353535,5616.161616161616,5696.969696969696,5777.777777777777,5858.585858585859,5939.393939393939,6020.202020202019,6101.010101010101,6181.818181818182,6262.626262626262,6343.434343434343,6424.242424242424,6505.050505050505,6585.858585858585,6666.666666666666,6747.474747474747,6828.282828282828,6909.090909090908,6989.898989898989,7070.707070707071,7151.515151515151,7232.323232323231,7313.131313131313,7393.939393939394,7474.747474747474,7555.555555555555,7636.363636363636,7717.171717171717,7797.979797979797,7878.787878787878,7959.595959595959],\"y\":[0,0,0,2,12,12,13,26,33,46,49,60,63,56,69,70,89,78,97,96,107,118,117,126,131,144,174,164,199,235,250,230,334,348,453,562,670,751,811,907,958,1148,1174,1277,1373,1432,1557,1778,1915,2213,2449,2452,2310,2258,2234,2241,2137,2181,2109,2155,2003,2095,2019,2032,1977,1921,1863,1843,1833,1784,1728,1699,1752,1641,1653,1636,1571,1530,1506,1522,1450,1431,1368,1320,1292,1327,1207,1214,1021,1046,1005,898,871,852,815,701,580,451,228],\"type\":\"scatter\",\"xaxis\":\"x\",\"yaxis\":\"y\"},{\"marker\":{\"color\":\"rgba(0,100,80,0.4)\",\"size\":14,\"symbol\":\"triangle-up\"},\"mode\":\"markers\",\"name\":\"Recon\\u002fTruth\",\"x\":[40.4040404040404,121.2121212121212,202.02020202020202,282.8282828282828,363.6363636363636,444.44444444444446,525.2525252525252,606.060606060606,686.8686868686868,767.6767676767677,848.4848484848485,929.2929292929292,1010.1010101010099,1090.9090909090908,1171.7171717171716,1252.5252525252524,1333.3333333333333,1414.141414141414,1494.949494949495,1575.7575757575758,1656.5656565656564,1737.3737373737372,1818.181818181818,1898.9898989898988,1979.7979797979797,2060.6060606060605,2141.4141414141413,2222.2222222222217,2303.030303030303,2383.8383838383834,2464.6464646464647,2545.454545454545,2626.2626262626263,2707.0707070707067,2787.878787878788,2868.6868686868684,2949.4949494949497,3030.30303030303,3111.1111111111113,3191.9191919191917,3272.7272727272725,3353.5353535353534,3434.3434343434337,3515.151515151515,3595.9595959595954,3676.7676767676767,3757.575757575757,3838.3838383838383,3919.1919191919187,4000.0,4080.8080808080804,4161.616161616161,4242.424242424242,4323.232323232323,4404.040404040404,4484.848484848484,4565.656565656565,4646.464646464647,4727.272727272727,4808.080808080807,4888.888888888889,4969.69696969697,5050.50505050505,5131.313131313131,5212.121212121212,5292.929292929292,5373.737373737373,5454.545454545454,5535.353535353535,5616.161616161616,5696.969696969696,5777.777777777777,5858.585858585859,5939.393939393939,6020.202020202019,6101.010101010101,6181.818181818182,6262.626262626262,6343.434343434343,6424.242424242424,6505.050505050505,6585.858585858585,6666.666666666666,6747.474747474747,6828.282828282828,6909.090909090908,6989.898989898989,7070.707070707071,7151.515151515151,7232.323232323231,7313.131313131313,7393.939393939394,7474.747474747474,7555.555555555555,7636.363636363636,7717.171717171717,7797.979797979797,7878.787878787878,7959.595959595959],\"y\":[null,null,null,14.0,9.416666666666666,7.666666666666667,8.615384615384615,4.538461538461538,3.8181818181818183,3.847826086956522,4.224489795918367,3.35,3.238095238095238,3.5,3.3768115942028984,3.4571428571428573,2.6179775280898876,3.217948717948718,2.4742268041237114,2.4895833333333335,2.205607476635514,1.8559322033898304,2.2564102564102564,1.9603174603174602,2.068702290076336,1.8194444444444444,1.6149425287356323,1.8414634146341464,1.5527638190954773,1.4425531914893617,1.348,1.6043478260869566,1.125748502994012,1.4166666666666667,1.2119205298013245,1.1494661921708185,1.1104477611940298,1.0532623169107855,1.060419235511714,1.1003307607497244,1.1273486430062631,1.004355400696864,1.1158432708688246,1.0743931088488645,1.0509832483612527,1.0377094972067038,1.0263326910725754,0.9330708661417323,1.0093994778067885,0.9322187076366922,0.8893425888117599,0.867047308319739,0.9194805194805195,0.9145261293179805,0.9574753804834378,0.9161088799643017,0.9199812821712682,0.8931682714351215,0.9824561403508771,0.9248259860788863,0.9690464303544682,0.8797136038186157,0.9276869737493809,0.906988188976378,0.9215983813859383,0.8912024986985945,0.927536231884058,0.9354313619099295,0.8717948717948718,0.9489910313901345,0.8923611111111112,0.9699823425544438,0.8578767123287672,0.902498476538696,0.9237749546279492,0.9058679706601467,0.916613621896881,0.8934640522875817,0.9475431606905711,0.8659658344283837,0.9724137931034482,0.9671558350803634,0.9597953216374269,0.9787878787878788,0.978328173374613,0.921627731725697,0.9900579950289975,0.9703459637561779,1.0999020568070519,1.020076481835564,1.035820895522388,1.0556792873051224,1.0677382319173363,1.0093896713615023,0.8809815950920246,0.7845934379457917,0.6758620689655173,0.614190687361419,0.8070175438596491],\"type\":\"scatter\",\"xaxis\":\"x2\",\"yaxis\":\"y2\"}],                        {\"template\":{\"data\":{\"histogram2dcontour\":[{\"type\":\"histogram2dcontour\",\"colorbar\":{\"outlinewidth\":0,\"ticks\":\"\"},\"colorscale\":[[0.0,\"#0d0887\"],[0.1111111111111111,\"#46039f\"],[0.2222222222222222,\"#7201a8\"],[0.3333333333333333,\"#9c179e\"],[0.4444444444444444,\"#bd3786\"],[0.5555555555555556,\"#d8576b\"],[0.6666666666666666,\"#ed7953\"],[0.7777777777777778,\"#fb9f3a\"],[0.8888888888888888,\"#fdca26\"],[1.0,\"#f0f921\"]]}],\"choropleth\":[{\"type\":\"choropleth\",\"colorbar\":{\"outlinewidth\":0,\"ticks\":\"\"}}],\"histogram2d\":[{\"type\":\"histogram2d\",\"colorbar\":{\"outlinewidth\":0,\"ticks\":\"\"},\"colorscale\":[[0.0,\"#0d0887\"],[0.1111111111111111,\"#46039f\"],[0.2222222222222222,\"#7201a8\"],[0.3333333333333333,\"#9c179e\"],[0.4444444444444444,\"#bd3786\"],[0.5555555555555556,\"#d8576b\"],[0.6666666666666666,\"#ed7953\"],[0.7777777777777778,\"#fb9f3a\"],[0.8888888888888888,\"#fdca26\"],[1.0,\"#f0f921\"]]}],\"heatmap\":[{\"type\":\"heatmap\",\"colorbar\":{\"outlinewidth\":0,\"ticks\":\"\"},\"colorscale\":[[0.0,\"#0d0887\"],[0.1111111111111111,\"#46039f\"],[0.2222222222222222,\"#7201a8\"],[0.3333333333333333,\"#9c179e\"],[0.4444444444444444,\"#bd3786\"],[0.5555555555555556,\"#d8576b\"],[0.6666666666666666,\"#ed7953\"],[0.7777777777777778,\"#fb9f3a\"],[0.8888888888888888,\"#fdca26\"],[1.0,\"#f0f921\"]]}],\"heatmapgl\":[{\"type\":\"heatmapgl\",\"colorbar\":{\"outlinewidth\":0,\"ticks\":\"\"},\"colorscale\":[[0.0,\"#0d0887\"],[0.1111111111111111,\"#46039f\"],[0.2222222222222222,\"#7201a8\"],[0.3333333333333333,\"#9c179e\"],[0.4444444444444444,\"#bd3786\"],[0.5555555555555556,\"#d8576b\"],[0.6666666666666666,\"#ed7953\"],[0.7777777777777778,\"#fb9f3a\"],[0.8888888888888888,\"#fdca26\"],[1.0,\"#f0f921\"]]}],\"contourcarpet\":[{\"type\":\"contourcarpet\",\"colorbar\":{\"outlinewidth\":0,\"ticks\":\"\"}}],\"contour\":[{\"type\":\"contour\",\"colorbar\":{\"outlinewidth\":0,\"ticks\":\"\"},\"colorscale\":[[0.0,\"#0d0887\"],[0.1111111111111111,\"#46039f\"],[0.2222222222222222,\"#7201a8\"],[0.3333333333333333,\"#9c179e\"],[0.4444444444444444,\"#bd3786\"],[0.5555555555555556,\"#d8576b\"],[0.6666666666666666,\"#ed7953\"],[0.7777777777777778,\"#fb9f3a\"],[0.8888888888888888,\"#fdca26\"],[1.0,\"#f0f921\"]]}],\"surface\":[{\"type\":\"surface\",\"colorbar\":{\"outlinewidth\":0,\"ticks\":\"\"},\"colorscale\":[[0.0,\"#0d0887\"],[0.1111111111111111,\"#46039f\"],[0.2222222222222222,\"#7201a8\"],[0.3333333333333333,\"#9c179e\"],[0.4444444444444444,\"#bd3786\"],[0.5555555555555556,\"#d8576b\"],[0.6666666666666666,\"#ed7953\"],[0.7777777777777778,\"#fb9f3a\"],[0.8888888888888888,\"#fdca26\"],[1.0,\"#f0f921\"]]}],\"mesh3d\":[{\"type\":\"mesh3d\",\"colorbar\":{\"outlinewidth\":0,\"ticks\":\"\"}}],\"scatter\":[{\"fillpattern\":{\"fillmode\":\"overlay\",\"size\":10,\"solidity\":0.2},\"type\":\"scatter\"}],\"parcoords\":[{\"type\":\"parcoords\",\"line\":{\"colorbar\":{\"outlinewidth\":0,\"ticks\":\"\"}}}],\"scatterpolargl\":[{\"type\":\"scatterpolargl\",\"marker\":{\"colorbar\":{\"outlinewidth\":0,\"ticks\":\"\"}}}],\"bar\":[{\"error_x\":{\"color\":\"#2a3f5f\"},\"error_y\":{\"color\":\"#2a3f5f\"},\"marker\":{\"line\":{\"color\":\"#E5ECF6\",\"width\":0.5},\"pattern\":{\"fillmode\":\"overlay\",\"size\":10,\"solidity\":0.2}},\"type\":\"bar\"}],\"scattergeo\":[{\"type\":\"scattergeo\",\"marker\":{\"colorbar\":{\"outlinewidth\":0,\"ticks\":\"\"}}}],\"scatterpolar\":[{\"type\":\"scatterpolar\",\"marker\":{\"colorbar\":{\"outlinewidth\":0,\"ticks\":\"\"}}}],\"histogram\":[{\"marker\":{\"pattern\":{\"fillmode\":\"overlay\",\"size\":10,\"solidity\":0.2}},\"type\":\"histogram\"}],\"scattergl\":[{\"type\":\"scattergl\",\"marker\":{\"colorbar\":{\"outlinewidth\":0,\"ticks\":\"\"}}}],\"scatter3d\":[{\"type\":\"scatter3d\",\"line\":{\"colorbar\":{\"outlinewidth\":0,\"ticks\":\"\"}},\"marker\":{\"colorbar\":{\"outlinewidth\":0,\"ticks\":\"\"}}}],\"scattermapbox\":[{\"type\":\"scattermapbox\",\"marker\":{\"colorbar\":{\"outlinewidth\":0,\"ticks\":\"\"}}}],\"scatterternary\":[{\"type\":\"scatterternary\",\"marker\":{\"colorbar\":{\"outlinewidth\":0,\"ticks\":\"\"}}}],\"scattercarpet\":[{\"type\":\"scattercarpet\",\"marker\":{\"colorbar\":{\"outlinewidth\":0,\"ticks\":\"\"}}}],\"carpet\":[{\"aaxis\":{\"endlinecolor\":\"#2a3f5f\",\"gridcolor\":\"white\",\"linecolor\":\"white\",\"minorgridcolor\":\"white\",\"startlinecolor\":\"#2a3f5f\"},\"baxis\":{\"endlinecolor\":\"#2a3f5f\",\"gridcolor\":\"white\",\"linecolor\":\"white\",\"minorgridcolor\":\"white\",\"startlinecolor\":\"#2a3f5f\"},\"type\":\"carpet\"}],\"table\":[{\"cells\":{\"fill\":{\"color\":\"#EBF0F8\"},\"line\":{\"color\":\"white\"}},\"header\":{\"fill\":{\"color\":\"#C8D4E3\"},\"line\":{\"color\":\"white\"}},\"type\":\"table\"}],\"barpolar\":[{\"marker\":{\"line\":{\"color\":\"#E5ECF6\",\"width\":0.5},\"pattern\":{\"fillmode\":\"overlay\",\"size\":10,\"solidity\":0.2}},\"type\":\"barpolar\"}],\"pie\":[{\"automargin\":true,\"type\":\"pie\"}]},\"layout\":{\"autotypenumbers\":\"strict\",\"colorway\":[\"#636efa\",\"#EF553B\",\"#00cc96\",\"#ab63fa\",\"#FFA15A\",\"#19d3f3\",\"#FF6692\",\"#B6E880\",\"#FF97FF\",\"#FECB52\"],\"font\":{\"color\":\"#2a3f5f\"},\"hovermode\":\"closest\",\"hoverlabel\":{\"align\":\"left\"},\"paper_bgcolor\":\"white\",\"plot_bgcolor\":\"#E5ECF6\",\"polar\":{\"bgcolor\":\"#E5ECF6\",\"angularaxis\":{\"gridcolor\":\"white\",\"linecolor\":\"white\",\"ticks\":\"\"},\"radialaxis\":{\"gridcolor\":\"white\",\"linecolor\":\"white\",\"ticks\":\"\"}},\"ternary\":{\"bgcolor\":\"#E5ECF6\",\"aaxis\":{\"gridcolor\":\"white\",\"linecolor\":\"white\",\"ticks\":\"\"},\"baxis\":{\"gridcolor\":\"white\",\"linecolor\":\"white\",\"ticks\":\"\"},\"caxis\":{\"gridcolor\":\"white\",\"linecolor\":\"white\",\"ticks\":\"\"}},\"coloraxis\":{\"colorbar\":{\"outlinewidth\":0,\"ticks\":\"\"}},\"colorscale\":{\"sequential\":[[0.0,\"#0d0887\"],[0.1111111111111111,\"#46039f\"],[0.2222222222222222,\"#7201a8\"],[0.3333333333333333,\"#9c179e\"],[0.4444444444444444,\"#bd3786\"],[0.5555555555555556,\"#d8576b\"],[0.6666666666666666,\"#ed7953\"],[0.7777777777777778,\"#fb9f3a\"],[0.8888888888888888,\"#fdca26\"],[1.0,\"#f0f921\"]],\"sequentialminus\":[[0.0,\"#0d0887\"],[0.1111111111111111,\"#46039f\"],[0.2222222222222222,\"#7201a8\"],[0.3333333333333333,\"#9c179e\"],[0.4444444444444444,\"#bd3786\"],[0.5555555555555556,\"#d8576b\"],[0.6666666666666666,\"#ed7953\"],[0.7777777777777778,\"#fb9f3a\"],[0.8888888888888888,\"#fdca26\"],[1.0,\"#f0f921\"]],\"diverging\":[[0,\"#8e0152\"],[0.1,\"#c51b7d\"],[0.2,\"#de77ae\"],[0.3,\"#f1b6da\"],[0.4,\"#fde0ef\"],[0.5,\"#f7f7f7\"],[0.6,\"#e6f5d0\"],[0.7,\"#b8e186\"],[0.8,\"#7fbc41\"],[0.9,\"#4d9221\"],[1,\"#276419\"]]},\"xaxis\":{\"gridcolor\":\"white\",\"linecolor\":\"white\",\"ticks\":\"\",\"title\":{\"standoff\":15},\"zerolinecolor\":\"white\",\"automargin\":true,\"zerolinewidth\":2},\"yaxis\":{\"gridcolor\":\"white\",\"linecolor\":\"white\",\"ticks\":\"\",\"title\":{\"standoff\":15},\"zerolinecolor\":\"white\",\"automargin\":true,\"zerolinewidth\":2},\"scene\":{\"xaxis\":{\"backgroundcolor\":\"#E5ECF6\",\"gridcolor\":\"white\",\"linecolor\":\"white\",\"showbackground\":true,\"ticks\":\"\",\"zerolinecolor\":\"white\",\"gridwidth\":2},\"yaxis\":{\"backgroundcolor\":\"#E5ECF6\",\"gridcolor\":\"white\",\"linecolor\":\"white\",\"showbackground\":true,\"ticks\":\"\",\"zerolinecolor\":\"white\",\"gridwidth\":2},\"zaxis\":{\"backgroundcolor\":\"#E5ECF6\",\"gridcolor\":\"white\",\"linecolor\":\"white\",\"showbackground\":true,\"ticks\":\"\",\"zerolinecolor\":\"white\",\"gridwidth\":2}},\"shapedefaults\":{\"line\":{\"color\":\"#2a3f5f\"}},\"annotationdefaults\":{\"arrowcolor\":\"#2a3f5f\",\"arrowhead\":0,\"arrowwidth\":1},\"geo\":{\"bgcolor\":\"white\",\"landcolor\":\"#E5ECF6\",\"subunitcolor\":\"white\",\"showland\":true,\"showlakes\":true,\"lakecolor\":\"white\"},\"title\":{\"x\":0.05},\"mapbox\":{\"style\":\"light\"}}},\"xaxis\":{\"anchor\":\"y\",\"domain\":[0.0,1.0],\"matches\":\"x2\",\"showticklabels\":false,\"linecolor\":\"#666666\",\"gridcolor\":\"#d9d9d9\",\"zerolinecolor\":\"rgba(0,0,0,0)\",\"linewidth\":2,\"showline\":true,\"showgrid\":false,\"mirror\":true},\"yaxis\":{\"anchor\":\"x\",\"domain\":[0.25,1.0],\"title\":{\"text\":\"A.U.\"},\"linecolor\":\"#666666\",\"zerolinecolor\":\"rgba(0,0,0,0)\",\"linewidth\":2,\"mirror\":true,\"type\":\"linear\",\"range\":[0.0,3678.0]},\"xaxis2\":{\"anchor\":\"y2\",\"domain\":[0.0,1.0],\"title\":{\"text\":\"$P_{1} \\\\text{ [MeV]}$\"},\"linecolor\":\"#666666\",\"gridcolor\":\"#d9d9d9\",\"zerolinecolor\":\"rgba(0,0,0,0)\",\"linewidth\":2,\"showline\":true,\"showgrid\":false,\"mirror\":false},\"yaxis2\":{\"anchor\":\"x2\",\"domain\":[0.0,0.25],\"title\":{\"text\":\"Reco\\u002fTruth\"},\"linecolor\":\"#666666\",\"zerolinecolor\":\"rgba(0,0,0,0)\",\"linewidth\":2,\"mirror\":true,\"type\":\"log\",\"range\":[-1,1]},\"shapes\":[{\"line\":{\"color\":\"grey\",\"dash\":\"dash\",\"width\":1},\"type\":\"line\",\"x0\":0,\"x1\":1,\"xref\":\"x2 domain\",\"y0\":1.0,\"y1\":1.0,\"yref\":\"y2\"}],\"annotations\":[{\"font\":{\"family\":\"Cambria\",\"size\":34},\"showarrow\":false,\"text\":\"\\u003ci\\u003e\\u003cb\\u003eDarkSHINE\\u003cb\\u003e\\u003ci\\u003e\",\"x\":0.05,\"xref\":\"paper\",\"y\":0.97,\"yref\":\"paper\"},{\"font\":{\"family\":\"Cambria\",\"size\":31},\"showarrow\":false,\"text\":\"Simulation\",\"x\":0.455,\"xref\":\"paper\",\"y\":0.9662999999999999,\"yref\":\"paper\"},{\"showarrow\":false,\"text\":\"$\\\\Large{E^{e}_{0} = 8~\\\\text{GeV},~10^{6}~\\\\text{EOT}}$\",\"x\":0.05,\"xref\":\"paper\",\"y\":0.895,\"yref\":\"paper\"}],\"legend\":{\"font\":{\"size\":14},\"orientation\":\"v\",\"yanchor\":\"top\",\"y\":0.99,\"xanchor\":\"right\",\"x\":0.98},\"width\":800,\"height\":800,\"paper_bgcolor\":\"rgba(0,0,0,0)\",\"plot_bgcolor\":\"rgba(0,0,0,0)\"},                        {\"responsive\": true}                    ).then(function(){\n                            \nvar gd = document.getElementById('0b6fba5c-c033-43ed-b1d3-253117f409e6');\nvar x = new MutationObserver(function (mutations, observer) {{\n        var display = window.getComputedStyle(gd).display;\n        if (!display || display === 'none') {{\n            console.log([gd, 'removed!']);\n            Plotly.purge(gd);\n            observer.disconnect();\n        }}\n}});\n\n// Listen for the removal of the full notebook cells\nvar notebookContainer = gd.closest('#notebook-container');\nif (notebookContainer) {{\n    x.observe(notebookContainer, {childList: true});\n}}\n\n// Listen for the clearing of the current output cell\nvar outputEl = gd.closest('.output');\nif (outputEl) {{\n    x.observe(outputEl, {childList: true});\n}}\n\n                        })                };                });            </script>        </div>"
     },
     "metadata": {},
     "output_type": "display_data"
    },
    {
     "data": {
      "application/vnd.plotly.v1+json": {
       "data": [
        {
         "marker": {
          "color": "#D43E33",
          "size": 14,
          "symbol": "circle"
         },
         "mode": "markers",
         "name": "Reconstructed",
         "x": [
          40.4040404040404,
          121.2121212121212,
          202.02020202020202,
          282.8282828282828,
          363.6363636363636,
          444.44444444444446,
          525.2525252525252,
          606.060606060606,
          686.8686868686868,
          767.6767676767677,
          848.4848484848485,
          929.2929292929292,
          1010.1010101010099,
          1090.9090909090908,
          1171.7171717171716,
          1252.5252525252524,
          1333.3333333333333,
          1414.141414141414,
          1494.949494949495,
          1575.7575757575758,
          1656.5656565656564,
          1737.3737373737372,
          1818.181818181818,
          1898.9898989898988,
          1979.7979797979797,
          2060.6060606060605,
          2141.4141414141413,
          2222.2222222222217,
          2303.030303030303,
          2383.8383838383834,
          2464.6464646464647,
          2545.454545454545,
          2626.2626262626263,
          2707.0707070707067,
          2787.878787878788,
          2868.6868686868684,
          2949.4949494949497,
          3030.30303030303,
          3111.1111111111113,
          3191.9191919191917,
          3272.7272727272725,
          3353.5353535353534,
          3434.3434343434337,
          3515.151515151515,
          3595.9595959595954,
          3676.7676767676767,
          3757.575757575757,
          3838.3838383838383,
          3919.1919191919187,
          4000.0,
          4080.8080808080804,
          4161.616161616161,
          4242.424242424242,
          4323.232323232323,
          4404.040404040404,
          4484.848484848484,
          4565.656565656565,
          4646.464646464647,
          4727.272727272727,
          4808.080808080807,
          4888.888888888889,
          4969.69696969697,
          5050.50505050505,
          5131.313131313131,
          5212.121212121212,
          5292.929292929292,
          5373.737373737373,
          5454.545454545454,
          5535.353535353535,
          5616.161616161616,
          5696.969696969696,
          5777.777777777777,
          5858.585858585859,
          5939.393939393939,
          6020.202020202019,
          6101.010101010101,
          6181.818181818182,
          6262.626262626262,
          6343.434343434343,
          6424.242424242424,
          6505.050505050505,
          6585.858585858585,
          6666.666666666666,
          6747.474747474747,
          6828.282828282828,
          6909.090909090908,
          6989.898989898989,
          7070.707070707071,
          7151.515151515151,
          7232.323232323231,
          7313.131313131313,
          7393.939393939394,
          7474.747474747474,
          7555.555555555555,
          7636.363636363636,
          7717.171717171717,
          7797.979797979797,
          7878.787878787878,
          7959.595959595959
         ],
         "y": [
          0,
          0,
          0,
          459,
          1723,
          1724,
          1643,
          1766,
          2036,
          2096,
          2062,
          2034,
          1951,
          2081,
          2104,
          2220,
          2200,
          2205,
          2227,
          2057,
          1989,
          2042,
          2114,
          2225,
          2307,
          2308,
          2345,
          2377,
          2432,
          2469,
          2546,
          2279,
          2252,
          2179,
          2135,
          2079,
          1827,
          1782,
          1778,
          1656,
          1566,
          1519,
          1399,
          1399,
          1125,
          1064,
          937,
          742,
          592,
          420,
          237,
          217,
          178,
          158,
          146,
          150,
          140,
          146,
          133,
          154,
          143,
          127,
          138,
          98,
          123,
          116,
          117,
          106,
          108,
          81,
          99,
          95,
          99,
          93,
          98,
          96,
          79,
          96,
          79,
          94,
          65,
          79,
          84,
          88,
          67,
          80,
          61,
          53,
          55,
          59,
          48,
          34,
          41,
          34,
          28,
          14,
          11,
          4,
          3
         ],
         "type": "scatter",
         "xaxis": "x",
         "yaxis": "y"
        },
        {
         "marker": {
          "color": "#5857AD",
          "size": 14,
          "symbol": "star-diamond"
         },
         "mode": "markers",
         "name": "Truth",
         "x": [
          40.4040404040404,
          121.2121212121212,
          202.02020202020202,
          282.8282828282828,
          363.6363636363636,
          444.44444444444446,
          525.2525252525252,
          606.060606060606,
          686.8686868686868,
          767.6767676767677,
          848.4848484848485,
          929.2929292929292,
          1010.1010101010099,
          1090.9090909090908,
          1171.7171717171716,
          1252.5252525252524,
          1333.3333333333333,
          1414.141414141414,
          1494.949494949495,
          1575.7575757575758,
          1656.5656565656564,
          1737.3737373737372,
          1818.181818181818,
          1898.9898989898988,
          1979.7979797979797,
          2060.6060606060605,
          2141.4141414141413,
          2222.2222222222217,
          2303.030303030303,
          2383.8383838383834,
          2464.6464646464647,
          2545.454545454545,
          2626.2626262626263,
          2707.0707070707067,
          2787.878787878788,
          2868.6868686868684,
          2949.4949494949497,
          3030.30303030303,
          3111.1111111111113,
          3191.9191919191917,
          3272.7272727272725,
          3353.5353535353534,
          3434.3434343434337,
          3515.151515151515,
          3595.9595959595954,
          3676.7676767676767,
          3757.575757575757,
          3838.3838383838383,
          3919.1919191919187,
          4000.0,
          4080.8080808080804,
          4161.616161616161,
          4242.424242424242,
          4323.232323232323,
          4404.040404040404,
          4484.848484848484,
          4565.656565656565,
          4646.464646464647,
          4727.272727272727,
          4808.080808080807,
          4888.888888888889,
          4969.69696969697,
          5050.50505050505,
          5131.313131313131,
          5212.121212121212,
          5292.929292929292,
          5373.737373737373,
          5454.545454545454,
          5535.353535353535,
          5616.161616161616,
          5696.969696969696,
          5777.777777777777,
          5858.585858585859,
          5939.393939393939,
          6020.202020202019,
          6101.010101010101,
          6181.818181818182,
          6262.626262626262,
          6343.434343434343,
          6424.242424242424,
          6505.050505050505,
          6585.858585858585,
          6666.666666666666,
          6747.474747474747,
          6828.282828282828,
          6909.090909090908,
          6989.898989898989,
          7070.707070707071,
          7151.515151515151,
          7232.323232323231,
          7313.131313131313,
          7393.939393939394,
          7474.747474747474,
          7555.555555555555,
          7636.363636363636,
          7717.171717171717,
          7797.979797979797,
          7878.787878787878,
          7959.595959595959
         ],
         "y": [
          0,
          0,
          0,
          440,
          1608,
          1657,
          1802,
          1885,
          2006,
          2046,
          2106,
          2241,
          2241,
          2263,
          2310,
          2353,
          2382,
          2455,
          2438,
          2592,
          2559,
          2536,
          2585,
          2666,
          2540,
          2682,
          2717,
          2661,
          2743,
          2719,
          2817,
          2768,
          2650,
          2596,
          2403,
          2331,
          2220,
          2070,
          1971,
          1841,
          1715,
          1601,
          1436,
          1370,
          1191,
          1075,
          970,
          784,
          497,
          96,
          0,
          0,
          0,
          0,
          0,
          0,
          0,
          0,
          0,
          0,
          0,
          0,
          0,
          0,
          0,
          0,
          0,
          0,
          0,
          0,
          0,
          0,
          0,
          0,
          0,
          0,
          0,
          0,
          0,
          0,
          0,
          0,
          0,
          0,
          0,
          0,
          0,
          0,
          0,
          0,
          0,
          0,
          0,
          0,
          0,
          0,
          0,
          0,
          0
         ],
         "type": "scatter",
         "xaxis": "x",
         "yaxis": "y"
        },
        {
         "marker": {
          "color": "rgba(0,100,80,0.4)",
          "size": 14,
          "symbol": "triangle-up"
         },
         "mode": "markers",
         "name": "Recon/Truth",
         "x": [
          40.4040404040404,
          121.2121212121212,
          202.02020202020202,
          282.8282828282828,
          363.6363636363636,
          444.44444444444446,
          525.2525252525252,
          606.060606060606,
          686.8686868686868,
          767.6767676767677,
          848.4848484848485,
          929.2929292929292,
          1010.1010101010099,
          1090.9090909090908,
          1171.7171717171716,
          1252.5252525252524,
          1333.3333333333333,
          1414.141414141414,
          1494.949494949495,
          1575.7575757575758,
          1656.5656565656564,
          1737.3737373737372,
          1818.181818181818,
          1898.9898989898988,
          1979.7979797979797,
          2060.6060606060605,
          2141.4141414141413,
          2222.2222222222217,
          2303.030303030303,
          2383.8383838383834,
          2464.6464646464647,
          2545.454545454545,
          2626.2626262626263,
          2707.0707070707067,
          2787.878787878788,
          2868.6868686868684,
          2949.4949494949497,
          3030.30303030303,
          3111.1111111111113,
          3191.9191919191917,
          3272.7272727272725,
          3353.5353535353534,
          3434.3434343434337,
          3515.151515151515,
          3595.9595959595954,
          3676.7676767676767,
          3757.575757575757,
          3838.3838383838383,
          3919.1919191919187,
          4000.0,
          4080.8080808080804,
          4161.616161616161,
          4242.424242424242,
          4323.232323232323,
          4404.040404040404,
          4484.848484848484,
          4565.656565656565,
          4646.464646464647,
          4727.272727272727,
          4808.080808080807,
          4888.888888888889,
          4969.69696969697,
          5050.50505050505,
          5131.313131313131,
          5212.121212121212,
          5292.929292929292,
          5373.737373737373,
          5454.545454545454,
          5535.353535353535,
          5616.161616161616,
          5696.969696969696,
          5777.777777777777,
          5858.585858585859,
          5939.393939393939,
          6020.202020202019,
          6101.010101010101,
          6181.818181818182,
          6262.626262626262,
          6343.434343434343,
          6424.242424242424,
          6505.050505050505,
          6585.858585858585,
          6666.666666666666,
          6747.474747474747,
          6828.282828282828,
          6909.090909090908,
          6989.898989898989,
          7070.707070707071,
          7151.515151515151,
          7232.323232323231,
          7313.131313131313,
          7393.939393939394,
          7474.747474747474,
          7555.555555555555,
          7636.363636363636,
          7717.171717171717,
          7797.979797979797,
          7878.787878787878,
          7959.595959595959
         ],
         "y": [
          null,
          null,
          null,
          1.0431818181818182,
          1.0715174129353233,
          1.04043452021726,
          0.9117647058823529,
          0.9368700265251989,
          1.0149551345962113,
          1.024437927663734,
          0.9791073124406457,
          0.9076305220883534,
          0.8705934850513164,
          0.9195757843570481,
          0.9108225108225109,
          0.9434764130896728,
          0.9235936188077246,
          0.8981670061099797,
          0.9134536505332239,
          0.7935956790123457,
          0.7772567409144197,
          0.805205047318612,
          0.8177949709864604,
          0.8345836459114778,
          0.908267716535433,
          0.8605518269947801,
          0.8630842841369157,
          0.8932732055618189,
          0.8866204885162231,
          0.9080544317763883,
          0.903798367057153,
          0.8233381502890174,
          0.849811320754717,
          0.8393682588597843,
          0.8884727424053267,
          0.8918918918918919,
          0.822972972972973,
          0.8608695652173913,
          0.9020801623541349,
          0.8995111352525801,
          0.9131195335276968,
          0.9487820112429731,
          0.974233983286908,
          1.0211678832116788,
          0.9445843828715366,
          0.9897674418604652,
          0.965979381443299,
          0.9464285714285714,
          1.1911468812877264,
          4.375,
          null,
          null,
          null,
          null,
          null,
          null,
          null,
          null,
          null,
          null,
          null,
          null,
          null,
          null,
          null,
          null,
          null,
          null,
          null,
          null,
          null,
          null,
          null,
          null,
          null,
          null,
          null,
          null,
          null,
          null,
          null,
          null,
          null,
          null,
          null,
          null,
          null,
          null,
          null,
          null,
          null,
          null,
          null,
          null,
          null,
          null,
          null,
          null,
          null
         ],
         "type": "scatter",
         "xaxis": "x2",
         "yaxis": "y2"
        }
       ],
       "layout": {
        "template": {
         "data": {
          "histogram2dcontour": [
           {
            "type": "histogram2dcontour",
            "colorbar": {
             "outlinewidth": 0,
             "ticks": ""
            },
            "colorscale": [
             [
              0.0,
              "#0d0887"
             ],
             [
              0.1111111111111111,
              "#46039f"
             ],
             [
              0.2222222222222222,
              "#7201a8"
             ],
             [
              0.3333333333333333,
              "#9c179e"
             ],
             [
              0.4444444444444444,
              "#bd3786"
             ],
             [
              0.5555555555555556,
              "#d8576b"
             ],
             [
              0.6666666666666666,
              "#ed7953"
             ],
             [
              0.7777777777777778,
              "#fb9f3a"
             ],
             [
              0.8888888888888888,
              "#fdca26"
             ],
             [
              1.0,
              "#f0f921"
             ]
            ]
           }
          ],
          "choropleth": [
           {
            "type": "choropleth",
            "colorbar": {
             "outlinewidth": 0,
             "ticks": ""
            }
           }
          ],
          "histogram2d": [
           {
            "type": "histogram2d",
            "colorbar": {
             "outlinewidth": 0,
             "ticks": ""
            },
            "colorscale": [
             [
              0.0,
              "#0d0887"
             ],
             [
              0.1111111111111111,
              "#46039f"
             ],
             [
              0.2222222222222222,
              "#7201a8"
             ],
             [
              0.3333333333333333,
              "#9c179e"
             ],
             [
              0.4444444444444444,
              "#bd3786"
             ],
             [
              0.5555555555555556,
              "#d8576b"
             ],
             [
              0.6666666666666666,
              "#ed7953"
             ],
             [
              0.7777777777777778,
              "#fb9f3a"
             ],
             [
              0.8888888888888888,
              "#fdca26"
             ],
             [
              1.0,
              "#f0f921"
             ]
            ]
           }
          ],
          "heatmap": [
           {
            "type": "heatmap",
            "colorbar": {
             "outlinewidth": 0,
             "ticks": ""
            },
            "colorscale": [
             [
              0.0,
              "#0d0887"
             ],
             [
              0.1111111111111111,
              "#46039f"
             ],
             [
              0.2222222222222222,
              "#7201a8"
             ],
             [
              0.3333333333333333,
              "#9c179e"
             ],
             [
              0.4444444444444444,
              "#bd3786"
             ],
             [
              0.5555555555555556,
              "#d8576b"
             ],
             [
              0.6666666666666666,
              "#ed7953"
             ],
             [
              0.7777777777777778,
              "#fb9f3a"
             ],
             [
              0.8888888888888888,
              "#fdca26"
             ],
             [
              1.0,
              "#f0f921"
             ]
            ]
           }
          ],
          "heatmapgl": [
           {
            "type": "heatmapgl",
            "colorbar": {
             "outlinewidth": 0,
             "ticks": ""
            },
            "colorscale": [
             [
              0.0,
              "#0d0887"
             ],
             [
              0.1111111111111111,
              "#46039f"
             ],
             [
              0.2222222222222222,
              "#7201a8"
             ],
             [
              0.3333333333333333,
              "#9c179e"
             ],
             [
              0.4444444444444444,
              "#bd3786"
             ],
             [
              0.5555555555555556,
              "#d8576b"
             ],
             [
              0.6666666666666666,
              "#ed7953"
             ],
             [
              0.7777777777777778,
              "#fb9f3a"
             ],
             [
              0.8888888888888888,
              "#fdca26"
             ],
             [
              1.0,
              "#f0f921"
             ]
            ]
           }
          ],
          "contourcarpet": [
           {
            "type": "contourcarpet",
            "colorbar": {
             "outlinewidth": 0,
             "ticks": ""
            }
           }
          ],
          "contour": [
           {
            "type": "contour",
            "colorbar": {
             "outlinewidth": 0,
             "ticks": ""
            },
            "colorscale": [
             [
              0.0,
              "#0d0887"
             ],
             [
              0.1111111111111111,
              "#46039f"
             ],
             [
              0.2222222222222222,
              "#7201a8"
             ],
             [
              0.3333333333333333,
              "#9c179e"
             ],
             [
              0.4444444444444444,
              "#bd3786"
             ],
             [
              0.5555555555555556,
              "#d8576b"
             ],
             [
              0.6666666666666666,
              "#ed7953"
             ],
             [
              0.7777777777777778,
              "#fb9f3a"
             ],
             [
              0.8888888888888888,
              "#fdca26"
             ],
             [
              1.0,
              "#f0f921"
             ]
            ]
           }
          ],
          "surface": [
           {
            "type": "surface",
            "colorbar": {
             "outlinewidth": 0,
             "ticks": ""
            },
            "colorscale": [
             [
              0.0,
              "#0d0887"
             ],
             [
              0.1111111111111111,
              "#46039f"
             ],
             [
              0.2222222222222222,
              "#7201a8"
             ],
             [
              0.3333333333333333,
              "#9c179e"
             ],
             [
              0.4444444444444444,
              "#bd3786"
             ],
             [
              0.5555555555555556,
              "#d8576b"
             ],
             [
              0.6666666666666666,
              "#ed7953"
             ],
             [
              0.7777777777777778,
              "#fb9f3a"
             ],
             [
              0.8888888888888888,
              "#fdca26"
             ],
             [
              1.0,
              "#f0f921"
             ]
            ]
           }
          ],
          "mesh3d": [
           {
            "type": "mesh3d",
            "colorbar": {
             "outlinewidth": 0,
             "ticks": ""
            }
           }
          ],
          "scatter": [
           {
            "fillpattern": {
             "fillmode": "overlay",
             "size": 10,
             "solidity": 0.2
            },
            "type": "scatter"
           }
          ],
          "parcoords": [
           {
            "type": "parcoords",
            "line": {
             "colorbar": {
              "outlinewidth": 0,
              "ticks": ""
             }
            }
           }
          ],
          "scatterpolargl": [
           {
            "type": "scatterpolargl",
            "marker": {
             "colorbar": {
              "outlinewidth": 0,
              "ticks": ""
             }
            }
           }
          ],
          "bar": [
           {
            "error_x": {
             "color": "#2a3f5f"
            },
            "error_y": {
             "color": "#2a3f5f"
            },
            "marker": {
             "line": {
              "color": "#E5ECF6",
              "width": 0.5
             },
             "pattern": {
              "fillmode": "overlay",
              "size": 10,
              "solidity": 0.2
             }
            },
            "type": "bar"
           }
          ],
          "scattergeo": [
           {
            "type": "scattergeo",
            "marker": {
             "colorbar": {
              "outlinewidth": 0,
              "ticks": ""
             }
            }
           }
          ],
          "scatterpolar": [
           {
            "type": "scatterpolar",
            "marker": {
             "colorbar": {
              "outlinewidth": 0,
              "ticks": ""
             }
            }
           }
          ],
          "histogram": [
           {
            "marker": {
             "pattern": {
              "fillmode": "overlay",
              "size": 10,
              "solidity": 0.2
             }
            },
            "type": "histogram"
           }
          ],
          "scattergl": [
           {
            "type": "scattergl",
            "marker": {
             "colorbar": {
              "outlinewidth": 0,
              "ticks": ""
             }
            }
           }
          ],
          "scatter3d": [
           {
            "type": "scatter3d",
            "line": {
             "colorbar": {
              "outlinewidth": 0,
              "ticks": ""
             }
            },
            "marker": {
             "colorbar": {
              "outlinewidth": 0,
              "ticks": ""
             }
            }
           }
          ],
          "scattermapbox": [
           {
            "type": "scattermapbox",
            "marker": {
             "colorbar": {
              "outlinewidth": 0,
              "ticks": ""
             }
            }
           }
          ],
          "scatterternary": [
           {
            "type": "scatterternary",
            "marker": {
             "colorbar": {
              "outlinewidth": 0,
              "ticks": ""
             }
            }
           }
          ],
          "scattercarpet": [
           {
            "type": "scattercarpet",
            "marker": {
             "colorbar": {
              "outlinewidth": 0,
              "ticks": ""
             }
            }
           }
          ],
          "carpet": [
           {
            "aaxis": {
             "endlinecolor": "#2a3f5f",
             "gridcolor": "white",
             "linecolor": "white",
             "minorgridcolor": "white",
             "startlinecolor": "#2a3f5f"
            },
            "baxis": {
             "endlinecolor": "#2a3f5f",
             "gridcolor": "white",
             "linecolor": "white",
             "minorgridcolor": "white",
             "startlinecolor": "#2a3f5f"
            },
            "type": "carpet"
           }
          ],
          "table": [
           {
            "cells": {
             "fill": {
              "color": "#EBF0F8"
             },
             "line": {
              "color": "white"
             }
            },
            "header": {
             "fill": {
              "color": "#C8D4E3"
             },
             "line": {
              "color": "white"
             }
            },
            "type": "table"
           }
          ],
          "barpolar": [
           {
            "marker": {
             "line": {
              "color": "#E5ECF6",
              "width": 0.5
             },
             "pattern": {
              "fillmode": "overlay",
              "size": 10,
              "solidity": 0.2
             }
            },
            "type": "barpolar"
           }
          ],
          "pie": [
           {
            "automargin": true,
            "type": "pie"
           }
          ]
         },
         "layout": {
          "autotypenumbers": "strict",
          "colorway": [
           "#636efa",
           "#EF553B",
           "#00cc96",
           "#ab63fa",
           "#FFA15A",
           "#19d3f3",
           "#FF6692",
           "#B6E880",
           "#FF97FF",
           "#FECB52"
          ],
          "font": {
           "color": "#2a3f5f"
          },
          "hovermode": "closest",
          "hoverlabel": {
           "align": "left"
          },
          "paper_bgcolor": "white",
          "plot_bgcolor": "#E5ECF6",
          "polar": {
           "bgcolor": "#E5ECF6",
           "angularaxis": {
            "gridcolor": "white",
            "linecolor": "white",
            "ticks": ""
           },
           "radialaxis": {
            "gridcolor": "white",
            "linecolor": "white",
            "ticks": ""
           }
          },
          "ternary": {
           "bgcolor": "#E5ECF6",
           "aaxis": {
            "gridcolor": "white",
            "linecolor": "white",
            "ticks": ""
           },
           "baxis": {
            "gridcolor": "white",
            "linecolor": "white",
            "ticks": ""
           },
           "caxis": {
            "gridcolor": "white",
            "linecolor": "white",
            "ticks": ""
           }
          },
          "coloraxis": {
           "colorbar": {
            "outlinewidth": 0,
            "ticks": ""
           }
          },
          "colorscale": {
           "sequential": [
            [
             0.0,
             "#0d0887"
            ],
            [
             0.1111111111111111,
             "#46039f"
            ],
            [
             0.2222222222222222,
             "#7201a8"
            ],
            [
             0.3333333333333333,
             "#9c179e"
            ],
            [
             0.4444444444444444,
             "#bd3786"
            ],
            [
             0.5555555555555556,
             "#d8576b"
            ],
            [
             0.6666666666666666,
             "#ed7953"
            ],
            [
             0.7777777777777778,
             "#fb9f3a"
            ],
            [
             0.8888888888888888,
             "#fdca26"
            ],
            [
             1.0,
             "#f0f921"
            ]
           ],
           "sequentialminus": [
            [
             0.0,
             "#0d0887"
            ],
            [
             0.1111111111111111,
             "#46039f"
            ],
            [
             0.2222222222222222,
             "#7201a8"
            ],
            [
             0.3333333333333333,
             "#9c179e"
            ],
            [
             0.4444444444444444,
             "#bd3786"
            ],
            [
             0.5555555555555556,
             "#d8576b"
            ],
            [
             0.6666666666666666,
             "#ed7953"
            ],
            [
             0.7777777777777778,
             "#fb9f3a"
            ],
            [
             0.8888888888888888,
             "#fdca26"
            ],
            [
             1.0,
             "#f0f921"
            ]
           ],
           "diverging": [
            [
             0,
             "#8e0152"
            ],
            [
             0.1,
             "#c51b7d"
            ],
            [
             0.2,
             "#de77ae"
            ],
            [
             0.3,
             "#f1b6da"
            ],
            [
             0.4,
             "#fde0ef"
            ],
            [
             0.5,
             "#f7f7f7"
            ],
            [
             0.6,
             "#e6f5d0"
            ],
            [
             0.7,
             "#b8e186"
            ],
            [
             0.8,
             "#7fbc41"
            ],
            [
             0.9,
             "#4d9221"
            ],
            [
             1,
             "#276419"
            ]
           ]
          },
          "xaxis": {
           "gridcolor": "white",
           "linecolor": "white",
           "ticks": "",
           "title": {
            "standoff": 15
           },
           "zerolinecolor": "white",
           "automargin": true,
           "zerolinewidth": 2
          },
          "yaxis": {
           "gridcolor": "white",
           "linecolor": "white",
           "ticks": "",
           "title": {
            "standoff": 15
           },
           "zerolinecolor": "white",
           "automargin": true,
           "zerolinewidth": 2
          },
          "scene": {
           "xaxis": {
            "backgroundcolor": "#E5ECF6",
            "gridcolor": "white",
            "linecolor": "white",
            "showbackground": true,
            "ticks": "",
            "zerolinecolor": "white",
            "gridwidth": 2
           },
           "yaxis": {
            "backgroundcolor": "#E5ECF6",
            "gridcolor": "white",
            "linecolor": "white",
            "showbackground": true,
            "ticks": "",
            "zerolinecolor": "white",
            "gridwidth": 2
           },
           "zaxis": {
            "backgroundcolor": "#E5ECF6",
            "gridcolor": "white",
            "linecolor": "white",
            "showbackground": true,
            "ticks": "",
            "zerolinecolor": "white",
            "gridwidth": 2
           }
          },
          "shapedefaults": {
           "line": {
            "color": "#2a3f5f"
           }
          },
          "annotationdefaults": {
           "arrowcolor": "#2a3f5f",
           "arrowhead": 0,
           "arrowwidth": 1
          },
          "geo": {
           "bgcolor": "white",
           "landcolor": "#E5ECF6",
           "subunitcolor": "white",
           "showland": true,
           "showlakes": true,
           "lakecolor": "white"
          },
          "title": {
           "x": 0.05
          },
          "mapbox": {
           "style": "light"
          }
         }
        },
        "xaxis": {
         "anchor": "y",
         "domain": [
          0.0,
          1.0
         ],
         "matches": "x2",
         "showticklabels": false,
         "linecolor": "#666666",
         "gridcolor": "#d9d9d9",
         "zerolinecolor": "rgba(0,0,0,0)",
         "linewidth": 2,
         "showline": true,
         "showgrid": false,
         "mirror": true
        },
        "yaxis": {
         "anchor": "x",
         "domain": [
          0.25,
          1.0
         ],
         "title": {
          "text": "A.U."
         },
         "linecolor": "#666666",
         "zerolinecolor": "rgba(0,0,0,0)",
         "linewidth": 2,
         "mirror": true,
         "type": "linear",
         "range": [
          0.0,
          4225.5
         ]
        },
        "xaxis2": {
         "anchor": "y2",
         "domain": [
          0.0,
          1.0
         ],
         "title": {
          "text": "$P_{2} \\text{ [MeV]}$"
         },
         "linecolor": "#666666",
         "gridcolor": "#d9d9d9",
         "zerolinecolor": "rgba(0,0,0,0)",
         "linewidth": 2,
         "showline": true,
         "showgrid": false,
         "mirror": false
        },
        "yaxis2": {
         "anchor": "x2",
         "domain": [
          0.0,
          0.25
         ],
         "title": {
          "text": "Reco/Truth"
         },
         "linecolor": "#666666",
         "zerolinecolor": "rgba(0,0,0,0)",
         "linewidth": 2,
         "mirror": true,
         "type": "log",
         "range": [
          -1,
          1
         ]
        },
        "shapes": [
         {
          "line": {
           "color": "grey",
           "dash": "dash",
           "width": 1
          },
          "type": "line",
          "x0": 0,
          "x1": 1,
          "xref": "x2 domain",
          "y0": 1.0,
          "y1": 1.0,
          "yref": "y2"
         }
        ],
        "annotations": [
         {
          "font": {
           "family": "Cambria",
           "size": 34
          },
          "showarrow": false,
          "text": "<i><b>DarkSHINE<b><i>",
          "x": 0.05,
          "xref": "paper",
          "y": 0.97,
          "yref": "paper"
         },
         {
          "font": {
           "family": "Cambria",
           "size": 31
          },
          "showarrow": false,
          "text": "Simulation",
          "x": 0.455,
          "xref": "paper",
          "y": 0.9662999999999999,
          "yref": "paper"
         },
         {
          "showarrow": false,
          "text": "$\\Large{E^{e}_{0} = 8~\\text{GeV},~10^{6}~\\text{EOT}}$",
          "x": 0.05,
          "xref": "paper",
          "y": 0.895,
          "yref": "paper"
         }
        ],
        "legend": {
         "font": {
          "size": 14
         },
         "orientation": "v",
         "yanchor": "top",
         "y": 0.99,
         "xanchor": "right",
         "x": 0.98
        },
        "width": 800,
        "height": 800,
        "paper_bgcolor": "rgba(0,0,0,0)",
        "plot_bgcolor": "rgba(0,0,0,0)"
       },
       "config": {
        "plotlyServerURL": "https://plot.ly"
       }
      },
      "text/html": "<div>                            <div id=\"318f1daa-b3f0-4742-ace8-b6b77e43c309\" class=\"plotly-graph-div\" style=\"height:800px; width:800px;\"></div>            <script type=\"text/javascript\">                require([\"plotly\"], function(Plotly) {                    window.PLOTLYENV=window.PLOTLYENV || {};                                    if (document.getElementById(\"318f1daa-b3f0-4742-ace8-b6b77e43c309\")) {                    Plotly.newPlot(                        \"318f1daa-b3f0-4742-ace8-b6b77e43c309\",                        [{\"marker\":{\"color\":\"#D43E33\",\"size\":14,\"symbol\":\"circle\"},\"mode\":\"markers\",\"name\":\"Reconstructed\",\"x\":[40.4040404040404,121.2121212121212,202.02020202020202,282.8282828282828,363.6363636363636,444.44444444444446,525.2525252525252,606.060606060606,686.8686868686868,767.6767676767677,848.4848484848485,929.2929292929292,1010.1010101010099,1090.9090909090908,1171.7171717171716,1252.5252525252524,1333.3333333333333,1414.141414141414,1494.949494949495,1575.7575757575758,1656.5656565656564,1737.3737373737372,1818.181818181818,1898.9898989898988,1979.7979797979797,2060.6060606060605,2141.4141414141413,2222.2222222222217,2303.030303030303,2383.8383838383834,2464.6464646464647,2545.454545454545,2626.2626262626263,2707.0707070707067,2787.878787878788,2868.6868686868684,2949.4949494949497,3030.30303030303,3111.1111111111113,3191.9191919191917,3272.7272727272725,3353.5353535353534,3434.3434343434337,3515.151515151515,3595.9595959595954,3676.7676767676767,3757.575757575757,3838.3838383838383,3919.1919191919187,4000.0,4080.8080808080804,4161.616161616161,4242.424242424242,4323.232323232323,4404.040404040404,4484.848484848484,4565.656565656565,4646.464646464647,4727.272727272727,4808.080808080807,4888.888888888889,4969.69696969697,5050.50505050505,5131.313131313131,5212.121212121212,5292.929292929292,5373.737373737373,5454.545454545454,5535.353535353535,5616.161616161616,5696.969696969696,5777.777777777777,5858.585858585859,5939.393939393939,6020.202020202019,6101.010101010101,6181.818181818182,6262.626262626262,6343.434343434343,6424.242424242424,6505.050505050505,6585.858585858585,6666.666666666666,6747.474747474747,6828.282828282828,6909.090909090908,6989.898989898989,7070.707070707071,7151.515151515151,7232.323232323231,7313.131313131313,7393.939393939394,7474.747474747474,7555.555555555555,7636.363636363636,7717.171717171717,7797.979797979797,7878.787878787878,7959.595959595959],\"y\":[0,0,0,459,1723,1724,1643,1766,2036,2096,2062,2034,1951,2081,2104,2220,2200,2205,2227,2057,1989,2042,2114,2225,2307,2308,2345,2377,2432,2469,2546,2279,2252,2179,2135,2079,1827,1782,1778,1656,1566,1519,1399,1399,1125,1064,937,742,592,420,237,217,178,158,146,150,140,146,133,154,143,127,138,98,123,116,117,106,108,81,99,95,99,93,98,96,79,96,79,94,65,79,84,88,67,80,61,53,55,59,48,34,41,34,28,14,11,4,3],\"type\":\"scatter\",\"xaxis\":\"x\",\"yaxis\":\"y\"},{\"marker\":{\"color\":\"#5857AD\",\"size\":14,\"symbol\":\"star-diamond\"},\"mode\":\"markers\",\"name\":\"Truth\",\"x\":[40.4040404040404,121.2121212121212,202.02020202020202,282.8282828282828,363.6363636363636,444.44444444444446,525.2525252525252,606.060606060606,686.8686868686868,767.6767676767677,848.4848484848485,929.2929292929292,1010.1010101010099,1090.9090909090908,1171.7171717171716,1252.5252525252524,1333.3333333333333,1414.141414141414,1494.949494949495,1575.7575757575758,1656.5656565656564,1737.3737373737372,1818.181818181818,1898.9898989898988,1979.7979797979797,2060.6060606060605,2141.4141414141413,2222.2222222222217,2303.030303030303,2383.8383838383834,2464.6464646464647,2545.454545454545,2626.2626262626263,2707.0707070707067,2787.878787878788,2868.6868686868684,2949.4949494949497,3030.30303030303,3111.1111111111113,3191.9191919191917,3272.7272727272725,3353.5353535353534,3434.3434343434337,3515.151515151515,3595.9595959595954,3676.7676767676767,3757.575757575757,3838.3838383838383,3919.1919191919187,4000.0,4080.8080808080804,4161.616161616161,4242.424242424242,4323.232323232323,4404.040404040404,4484.848484848484,4565.656565656565,4646.464646464647,4727.272727272727,4808.080808080807,4888.888888888889,4969.69696969697,5050.50505050505,5131.313131313131,5212.121212121212,5292.929292929292,5373.737373737373,5454.545454545454,5535.353535353535,5616.161616161616,5696.969696969696,5777.777777777777,5858.585858585859,5939.393939393939,6020.202020202019,6101.010101010101,6181.818181818182,6262.626262626262,6343.434343434343,6424.242424242424,6505.050505050505,6585.858585858585,6666.666666666666,6747.474747474747,6828.282828282828,6909.090909090908,6989.898989898989,7070.707070707071,7151.515151515151,7232.323232323231,7313.131313131313,7393.939393939394,7474.747474747474,7555.555555555555,7636.363636363636,7717.171717171717,7797.979797979797,7878.787878787878,7959.595959595959],\"y\":[0,0,0,440,1608,1657,1802,1885,2006,2046,2106,2241,2241,2263,2310,2353,2382,2455,2438,2592,2559,2536,2585,2666,2540,2682,2717,2661,2743,2719,2817,2768,2650,2596,2403,2331,2220,2070,1971,1841,1715,1601,1436,1370,1191,1075,970,784,497,96,0,0,0,0,0,0,0,0,0,0,0,0,0,0,0,0,0,0,0,0,0,0,0,0,0,0,0,0,0,0,0,0,0,0,0,0,0,0,0,0,0,0,0,0,0,0,0,0,0],\"type\":\"scatter\",\"xaxis\":\"x\",\"yaxis\":\"y\"},{\"marker\":{\"color\":\"rgba(0,100,80,0.4)\",\"size\":14,\"symbol\":\"triangle-up\"},\"mode\":\"markers\",\"name\":\"Recon\\u002fTruth\",\"x\":[40.4040404040404,121.2121212121212,202.02020202020202,282.8282828282828,363.6363636363636,444.44444444444446,525.2525252525252,606.060606060606,686.8686868686868,767.6767676767677,848.4848484848485,929.2929292929292,1010.1010101010099,1090.9090909090908,1171.7171717171716,1252.5252525252524,1333.3333333333333,1414.141414141414,1494.949494949495,1575.7575757575758,1656.5656565656564,1737.3737373737372,1818.181818181818,1898.9898989898988,1979.7979797979797,2060.6060606060605,2141.4141414141413,2222.2222222222217,2303.030303030303,2383.8383838383834,2464.6464646464647,2545.454545454545,2626.2626262626263,2707.0707070707067,2787.878787878788,2868.6868686868684,2949.4949494949497,3030.30303030303,3111.1111111111113,3191.9191919191917,3272.7272727272725,3353.5353535353534,3434.3434343434337,3515.151515151515,3595.9595959595954,3676.7676767676767,3757.575757575757,3838.3838383838383,3919.1919191919187,4000.0,4080.8080808080804,4161.616161616161,4242.424242424242,4323.232323232323,4404.040404040404,4484.848484848484,4565.656565656565,4646.464646464647,4727.272727272727,4808.080808080807,4888.888888888889,4969.69696969697,5050.50505050505,5131.313131313131,5212.121212121212,5292.929292929292,5373.737373737373,5454.545454545454,5535.353535353535,5616.161616161616,5696.969696969696,5777.777777777777,5858.585858585859,5939.393939393939,6020.202020202019,6101.010101010101,6181.818181818182,6262.626262626262,6343.434343434343,6424.242424242424,6505.050505050505,6585.858585858585,6666.666666666666,6747.474747474747,6828.282828282828,6909.090909090908,6989.898989898989,7070.707070707071,7151.515151515151,7232.323232323231,7313.131313131313,7393.939393939394,7474.747474747474,7555.555555555555,7636.363636363636,7717.171717171717,7797.979797979797,7878.787878787878,7959.595959595959],\"y\":[null,null,null,1.0431818181818182,1.0715174129353233,1.04043452021726,0.9117647058823529,0.9368700265251989,1.0149551345962113,1.024437927663734,0.9791073124406457,0.9076305220883534,0.8705934850513164,0.9195757843570481,0.9108225108225109,0.9434764130896728,0.9235936188077246,0.8981670061099797,0.9134536505332239,0.7935956790123457,0.7772567409144197,0.805205047318612,0.8177949709864604,0.8345836459114778,0.908267716535433,0.8605518269947801,0.8630842841369157,0.8932732055618189,0.8866204885162231,0.9080544317763883,0.903798367057153,0.8233381502890174,0.849811320754717,0.8393682588597843,0.8884727424053267,0.8918918918918919,0.822972972972973,0.8608695652173913,0.9020801623541349,0.8995111352525801,0.9131195335276968,0.9487820112429731,0.974233983286908,1.0211678832116788,0.9445843828715366,0.9897674418604652,0.965979381443299,0.9464285714285714,1.1911468812877264,4.375,null,null,null,null,null,null,null,null,null,null,null,null,null,null,null,null,null,null,null,null,null,null,null,null,null,null,null,null,null,null,null,null,null,null,null,null,null,null,null,null,null,null,null,null,null,null,null,null,null],\"type\":\"scatter\",\"xaxis\":\"x2\",\"yaxis\":\"y2\"}],                        {\"template\":{\"data\":{\"histogram2dcontour\":[{\"type\":\"histogram2dcontour\",\"colorbar\":{\"outlinewidth\":0,\"ticks\":\"\"},\"colorscale\":[[0.0,\"#0d0887\"],[0.1111111111111111,\"#46039f\"],[0.2222222222222222,\"#7201a8\"],[0.3333333333333333,\"#9c179e\"],[0.4444444444444444,\"#bd3786\"],[0.5555555555555556,\"#d8576b\"],[0.6666666666666666,\"#ed7953\"],[0.7777777777777778,\"#fb9f3a\"],[0.8888888888888888,\"#fdca26\"],[1.0,\"#f0f921\"]]}],\"choropleth\":[{\"type\":\"choropleth\",\"colorbar\":{\"outlinewidth\":0,\"ticks\":\"\"}}],\"histogram2d\":[{\"type\":\"histogram2d\",\"colorbar\":{\"outlinewidth\":0,\"ticks\":\"\"},\"colorscale\":[[0.0,\"#0d0887\"],[0.1111111111111111,\"#46039f\"],[0.2222222222222222,\"#7201a8\"],[0.3333333333333333,\"#9c179e\"],[0.4444444444444444,\"#bd3786\"],[0.5555555555555556,\"#d8576b\"],[0.6666666666666666,\"#ed7953\"],[0.7777777777777778,\"#fb9f3a\"],[0.8888888888888888,\"#fdca26\"],[1.0,\"#f0f921\"]]}],\"heatmap\":[{\"type\":\"heatmap\",\"colorbar\":{\"outlinewidth\":0,\"ticks\":\"\"},\"colorscale\":[[0.0,\"#0d0887\"],[0.1111111111111111,\"#46039f\"],[0.2222222222222222,\"#7201a8\"],[0.3333333333333333,\"#9c179e\"],[0.4444444444444444,\"#bd3786\"],[0.5555555555555556,\"#d8576b\"],[0.6666666666666666,\"#ed7953\"],[0.7777777777777778,\"#fb9f3a\"],[0.8888888888888888,\"#fdca26\"],[1.0,\"#f0f921\"]]}],\"heatmapgl\":[{\"type\":\"heatmapgl\",\"colorbar\":{\"outlinewidth\":0,\"ticks\":\"\"},\"colorscale\":[[0.0,\"#0d0887\"],[0.1111111111111111,\"#46039f\"],[0.2222222222222222,\"#7201a8\"],[0.3333333333333333,\"#9c179e\"],[0.4444444444444444,\"#bd3786\"],[0.5555555555555556,\"#d8576b\"],[0.6666666666666666,\"#ed7953\"],[0.7777777777777778,\"#fb9f3a\"],[0.8888888888888888,\"#fdca26\"],[1.0,\"#f0f921\"]]}],\"contourcarpet\":[{\"type\":\"contourcarpet\",\"colorbar\":{\"outlinewidth\":0,\"ticks\":\"\"}}],\"contour\":[{\"type\":\"contour\",\"colorbar\":{\"outlinewidth\":0,\"ticks\":\"\"},\"colorscale\":[[0.0,\"#0d0887\"],[0.1111111111111111,\"#46039f\"],[0.2222222222222222,\"#7201a8\"],[0.3333333333333333,\"#9c179e\"],[0.4444444444444444,\"#bd3786\"],[0.5555555555555556,\"#d8576b\"],[0.6666666666666666,\"#ed7953\"],[0.7777777777777778,\"#fb9f3a\"],[0.8888888888888888,\"#fdca26\"],[1.0,\"#f0f921\"]]}],\"surface\":[{\"type\":\"surface\",\"colorbar\":{\"outlinewidth\":0,\"ticks\":\"\"},\"colorscale\":[[0.0,\"#0d0887\"],[0.1111111111111111,\"#46039f\"],[0.2222222222222222,\"#7201a8\"],[0.3333333333333333,\"#9c179e\"],[0.4444444444444444,\"#bd3786\"],[0.5555555555555556,\"#d8576b\"],[0.6666666666666666,\"#ed7953\"],[0.7777777777777778,\"#fb9f3a\"],[0.8888888888888888,\"#fdca26\"],[1.0,\"#f0f921\"]]}],\"mesh3d\":[{\"type\":\"mesh3d\",\"colorbar\":{\"outlinewidth\":0,\"ticks\":\"\"}}],\"scatter\":[{\"fillpattern\":{\"fillmode\":\"overlay\",\"size\":10,\"solidity\":0.2},\"type\":\"scatter\"}],\"parcoords\":[{\"type\":\"parcoords\",\"line\":{\"colorbar\":{\"outlinewidth\":0,\"ticks\":\"\"}}}],\"scatterpolargl\":[{\"type\":\"scatterpolargl\",\"marker\":{\"colorbar\":{\"outlinewidth\":0,\"ticks\":\"\"}}}],\"bar\":[{\"error_x\":{\"color\":\"#2a3f5f\"},\"error_y\":{\"color\":\"#2a3f5f\"},\"marker\":{\"line\":{\"color\":\"#E5ECF6\",\"width\":0.5},\"pattern\":{\"fillmode\":\"overlay\",\"size\":10,\"solidity\":0.2}},\"type\":\"bar\"}],\"scattergeo\":[{\"type\":\"scattergeo\",\"marker\":{\"colorbar\":{\"outlinewidth\":0,\"ticks\":\"\"}}}],\"scatterpolar\":[{\"type\":\"scatterpolar\",\"marker\":{\"colorbar\":{\"outlinewidth\":0,\"ticks\":\"\"}}}],\"histogram\":[{\"marker\":{\"pattern\":{\"fillmode\":\"overlay\",\"size\":10,\"solidity\":0.2}},\"type\":\"histogram\"}],\"scattergl\":[{\"type\":\"scattergl\",\"marker\":{\"colorbar\":{\"outlinewidth\":0,\"ticks\":\"\"}}}],\"scatter3d\":[{\"type\":\"scatter3d\",\"line\":{\"colorbar\":{\"outlinewidth\":0,\"ticks\":\"\"}},\"marker\":{\"colorbar\":{\"outlinewidth\":0,\"ticks\":\"\"}}}],\"scattermapbox\":[{\"type\":\"scattermapbox\",\"marker\":{\"colorbar\":{\"outlinewidth\":0,\"ticks\":\"\"}}}],\"scatterternary\":[{\"type\":\"scatterternary\",\"marker\":{\"colorbar\":{\"outlinewidth\":0,\"ticks\":\"\"}}}],\"scattercarpet\":[{\"type\":\"scattercarpet\",\"marker\":{\"colorbar\":{\"outlinewidth\":0,\"ticks\":\"\"}}}],\"carpet\":[{\"aaxis\":{\"endlinecolor\":\"#2a3f5f\",\"gridcolor\":\"white\",\"linecolor\":\"white\",\"minorgridcolor\":\"white\",\"startlinecolor\":\"#2a3f5f\"},\"baxis\":{\"endlinecolor\":\"#2a3f5f\",\"gridcolor\":\"white\",\"linecolor\":\"white\",\"minorgridcolor\":\"white\",\"startlinecolor\":\"#2a3f5f\"},\"type\":\"carpet\"}],\"table\":[{\"cells\":{\"fill\":{\"color\":\"#EBF0F8\"},\"line\":{\"color\":\"white\"}},\"header\":{\"fill\":{\"color\":\"#C8D4E3\"},\"line\":{\"color\":\"white\"}},\"type\":\"table\"}],\"barpolar\":[{\"marker\":{\"line\":{\"color\":\"#E5ECF6\",\"width\":0.5},\"pattern\":{\"fillmode\":\"overlay\",\"size\":10,\"solidity\":0.2}},\"type\":\"barpolar\"}],\"pie\":[{\"automargin\":true,\"type\":\"pie\"}]},\"layout\":{\"autotypenumbers\":\"strict\",\"colorway\":[\"#636efa\",\"#EF553B\",\"#00cc96\",\"#ab63fa\",\"#FFA15A\",\"#19d3f3\",\"#FF6692\",\"#B6E880\",\"#FF97FF\",\"#FECB52\"],\"font\":{\"color\":\"#2a3f5f\"},\"hovermode\":\"closest\",\"hoverlabel\":{\"align\":\"left\"},\"paper_bgcolor\":\"white\",\"plot_bgcolor\":\"#E5ECF6\",\"polar\":{\"bgcolor\":\"#E5ECF6\",\"angularaxis\":{\"gridcolor\":\"white\",\"linecolor\":\"white\",\"ticks\":\"\"},\"radialaxis\":{\"gridcolor\":\"white\",\"linecolor\":\"white\",\"ticks\":\"\"}},\"ternary\":{\"bgcolor\":\"#E5ECF6\",\"aaxis\":{\"gridcolor\":\"white\",\"linecolor\":\"white\",\"ticks\":\"\"},\"baxis\":{\"gridcolor\":\"white\",\"linecolor\":\"white\",\"ticks\":\"\"},\"caxis\":{\"gridcolor\":\"white\",\"linecolor\":\"white\",\"ticks\":\"\"}},\"coloraxis\":{\"colorbar\":{\"outlinewidth\":0,\"ticks\":\"\"}},\"colorscale\":{\"sequential\":[[0.0,\"#0d0887\"],[0.1111111111111111,\"#46039f\"],[0.2222222222222222,\"#7201a8\"],[0.3333333333333333,\"#9c179e\"],[0.4444444444444444,\"#bd3786\"],[0.5555555555555556,\"#d8576b\"],[0.6666666666666666,\"#ed7953\"],[0.7777777777777778,\"#fb9f3a\"],[0.8888888888888888,\"#fdca26\"],[1.0,\"#f0f921\"]],\"sequentialminus\":[[0.0,\"#0d0887\"],[0.1111111111111111,\"#46039f\"],[0.2222222222222222,\"#7201a8\"],[0.3333333333333333,\"#9c179e\"],[0.4444444444444444,\"#bd3786\"],[0.5555555555555556,\"#d8576b\"],[0.6666666666666666,\"#ed7953\"],[0.7777777777777778,\"#fb9f3a\"],[0.8888888888888888,\"#fdca26\"],[1.0,\"#f0f921\"]],\"diverging\":[[0,\"#8e0152\"],[0.1,\"#c51b7d\"],[0.2,\"#de77ae\"],[0.3,\"#f1b6da\"],[0.4,\"#fde0ef\"],[0.5,\"#f7f7f7\"],[0.6,\"#e6f5d0\"],[0.7,\"#b8e186\"],[0.8,\"#7fbc41\"],[0.9,\"#4d9221\"],[1,\"#276419\"]]},\"xaxis\":{\"gridcolor\":\"white\",\"linecolor\":\"white\",\"ticks\":\"\",\"title\":{\"standoff\":15},\"zerolinecolor\":\"white\",\"automargin\":true,\"zerolinewidth\":2},\"yaxis\":{\"gridcolor\":\"white\",\"linecolor\":\"white\",\"ticks\":\"\",\"title\":{\"standoff\":15},\"zerolinecolor\":\"white\",\"automargin\":true,\"zerolinewidth\":2},\"scene\":{\"xaxis\":{\"backgroundcolor\":\"#E5ECF6\",\"gridcolor\":\"white\",\"linecolor\":\"white\",\"showbackground\":true,\"ticks\":\"\",\"zerolinecolor\":\"white\",\"gridwidth\":2},\"yaxis\":{\"backgroundcolor\":\"#E5ECF6\",\"gridcolor\":\"white\",\"linecolor\":\"white\",\"showbackground\":true,\"ticks\":\"\",\"zerolinecolor\":\"white\",\"gridwidth\":2},\"zaxis\":{\"backgroundcolor\":\"#E5ECF6\",\"gridcolor\":\"white\",\"linecolor\":\"white\",\"showbackground\":true,\"ticks\":\"\",\"zerolinecolor\":\"white\",\"gridwidth\":2}},\"shapedefaults\":{\"line\":{\"color\":\"#2a3f5f\"}},\"annotationdefaults\":{\"arrowcolor\":\"#2a3f5f\",\"arrowhead\":0,\"arrowwidth\":1},\"geo\":{\"bgcolor\":\"white\",\"landcolor\":\"#E5ECF6\",\"subunitcolor\":\"white\",\"showland\":true,\"showlakes\":true,\"lakecolor\":\"white\"},\"title\":{\"x\":0.05},\"mapbox\":{\"style\":\"light\"}}},\"xaxis\":{\"anchor\":\"y\",\"domain\":[0.0,1.0],\"matches\":\"x2\",\"showticklabels\":false,\"linecolor\":\"#666666\",\"gridcolor\":\"#d9d9d9\",\"zerolinecolor\":\"rgba(0,0,0,0)\",\"linewidth\":2,\"showline\":true,\"showgrid\":false,\"mirror\":true},\"yaxis\":{\"anchor\":\"x\",\"domain\":[0.25,1.0],\"title\":{\"text\":\"A.U.\"},\"linecolor\":\"#666666\",\"zerolinecolor\":\"rgba(0,0,0,0)\",\"linewidth\":2,\"mirror\":true,\"type\":\"linear\",\"range\":[0.0,4225.5]},\"xaxis2\":{\"anchor\":\"y2\",\"domain\":[0.0,1.0],\"title\":{\"text\":\"$P_{2} \\\\text{ [MeV]}$\"},\"linecolor\":\"#666666\",\"gridcolor\":\"#d9d9d9\",\"zerolinecolor\":\"rgba(0,0,0,0)\",\"linewidth\":2,\"showline\":true,\"showgrid\":false,\"mirror\":false},\"yaxis2\":{\"anchor\":\"x2\",\"domain\":[0.0,0.25],\"title\":{\"text\":\"Reco\\u002fTruth\"},\"linecolor\":\"#666666\",\"zerolinecolor\":\"rgba(0,0,0,0)\",\"linewidth\":2,\"mirror\":true,\"type\":\"log\",\"range\":[-1,1]},\"shapes\":[{\"line\":{\"color\":\"grey\",\"dash\":\"dash\",\"width\":1},\"type\":\"line\",\"x0\":0,\"x1\":1,\"xref\":\"x2 domain\",\"y0\":1.0,\"y1\":1.0,\"yref\":\"y2\"}],\"annotations\":[{\"font\":{\"family\":\"Cambria\",\"size\":34},\"showarrow\":false,\"text\":\"\\u003ci\\u003e\\u003cb\\u003eDarkSHINE\\u003cb\\u003e\\u003ci\\u003e\",\"x\":0.05,\"xref\":\"paper\",\"y\":0.97,\"yref\":\"paper\"},{\"font\":{\"family\":\"Cambria\",\"size\":31},\"showarrow\":false,\"text\":\"Simulation\",\"x\":0.455,\"xref\":\"paper\",\"y\":0.9662999999999999,\"yref\":\"paper\"},{\"showarrow\":false,\"text\":\"$\\\\Large{E^{e}_{0} = 8~\\\\text{GeV},~10^{6}~\\\\text{EOT}}$\",\"x\":0.05,\"xref\":\"paper\",\"y\":0.895,\"yref\":\"paper\"}],\"legend\":{\"font\":{\"size\":14},\"orientation\":\"v\",\"yanchor\":\"top\",\"y\":0.99,\"xanchor\":\"right\",\"x\":0.98},\"width\":800,\"height\":800,\"paper_bgcolor\":\"rgba(0,0,0,0)\",\"plot_bgcolor\":\"rgba(0,0,0,0)\"},                        {\"responsive\": true}                    ).then(function(){\n                            \nvar gd = document.getElementById('318f1daa-b3f0-4742-ace8-b6b77e43c309');\nvar x = new MutationObserver(function (mutations, observer) {{\n        var display = window.getComputedStyle(gd).display;\n        if (!display || display === 'none') {{\n            console.log([gd, 'removed!']);\n            Plotly.purge(gd);\n            observer.disconnect();\n        }}\n}});\n\n// Listen for the removal of the full notebook cells\nvar notebookContainer = gd.closest('#notebook-container');\nif (notebookContainer) {{\n    x.observe(notebookContainer, {childList: true});\n}}\n\n// Listen for the clearing of the current output cell\nvar outputEl = gd.closest('.output');\nif (outputEl) {{\n    x.observe(outputEl, {childList: true});\n}}\n\n                        })                };                });            </script>        </div>"
     },
     "metadata": {},
     "output_type": "display_data"
    },
    {
     "data": {
      "application/vnd.plotly.v1+json": {
       "data": [
        {
         "marker": {
          "color": "#D43E33",
          "size": 14,
          "symbol": "circle"
         },
         "mode": "markers",
         "name": "Reconstructed",
         "x": [
          40.4040404040404,
          121.2121212121212,
          202.02020202020202,
          282.8282828282828,
          363.6363636363636,
          444.44444444444446,
          525.2525252525252,
          606.060606060606,
          686.8686868686868,
          767.6767676767677,
          848.4848484848485,
          929.2929292929292,
          1010.1010101010099,
          1090.9090909090908,
          1171.7171717171716,
          1252.5252525252524,
          1333.3333333333333,
          1414.141414141414,
          1494.949494949495,
          1575.7575757575758,
          1656.5656565656564,
          1737.3737373737372,
          1818.181818181818,
          1898.9898989898988,
          1979.7979797979797,
          2060.6060606060605,
          2141.4141414141413,
          2222.2222222222217,
          2303.030303030303,
          2383.8383838383834,
          2464.6464646464647,
          2545.454545454545,
          2626.2626262626263,
          2707.0707070707067,
          2787.878787878788,
          2868.6868686868684,
          2949.4949494949497,
          3030.30303030303,
          3111.1111111111113,
          3191.9191919191917,
          3272.7272727272725,
          3353.5353535353534,
          3434.3434343434337,
          3515.151515151515,
          3595.9595959595954,
          3676.7676767676767,
          3757.575757575757,
          3838.3838383838383,
          3919.1919191919187,
          4000.0,
          4080.8080808080804,
          4161.616161616161,
          4242.424242424242,
          4323.232323232323,
          4404.040404040404,
          4484.848484848484,
          4565.656565656565,
          4646.464646464647,
          4727.272727272727,
          4808.080808080807,
          4888.888888888889,
          4969.69696969697,
          5050.50505050505,
          5131.313131313131,
          5212.121212121212,
          5292.929292929292,
          5373.737373737373,
          5454.545454545454,
          5535.353535353535,
          5616.161616161616,
          5696.969696969696,
          5777.777777777777,
          5858.585858585859,
          5939.393939393939,
          6020.202020202019,
          6101.010101010101,
          6181.818181818182,
          6262.626262626262,
          6343.434343434343,
          6424.242424242424,
          6505.050505050505,
          6585.858585858585,
          6666.666666666666,
          6747.474747474747,
          6828.282828282828,
          6909.090909090908,
          6989.898989898989,
          7070.707070707071,
          7151.515151515151,
          7232.323232323231,
          7313.131313131313,
          7393.939393939394,
          7474.747474747474,
          7555.555555555555,
          7636.363636363636,
          7717.171717171717,
          7797.979797979797,
          7878.787878787878,
          7959.595959595959
         ],
         "y": [
          0,
          0,
          0,
          1165,
          3828,
          3408,
          2739,
          2646,
          2561,
          2459,
          2204,
          1946,
          1732,
          1635,
          1562,
          1476,
          1508,
          1320,
          1158,
          1079,
          937,
          883,
          824,
          820,
          747,
          762,
          657,
          573,
          559,
          503,
          401,
          399,
          341,
          311,
          275,
          272,
          201,
          208,
          204,
          199,
          189,
          212,
          171,
          127,
          123,
          140,
          71,
          72,
          37,
          21,
          13,
          2,
          6,
          6,
          6,
          4,
          3,
          3,
          0,
          2,
          2,
          1,
          0,
          4,
          4,
          3,
          3,
          0,
          1,
          3,
          1,
          1,
          1,
          2,
          1,
          0,
          1,
          2,
          0,
          2,
          1,
          1,
          0,
          1,
          1,
          1,
          0,
          0,
          1,
          0,
          0,
          0,
          2,
          1,
          0,
          0,
          0,
          0,
          0
         ],
         "type": "scatter",
         "xaxis": "x",
         "yaxis": "y"
        },
        {
         "marker": {
          "color": "#5857AD",
          "size": 14,
          "symbol": "star-diamond"
         },
         "mode": "markers",
         "name": "Truth",
         "x": [
          40.4040404040404,
          121.2121212121212,
          202.02020202020202,
          282.8282828282828,
          363.6363636363636,
          444.44444444444446,
          525.2525252525252,
          606.060606060606,
          686.8686868686868,
          767.6767676767677,
          848.4848484848485,
          929.2929292929292,
          1010.1010101010099,
          1090.9090909090908,
          1171.7171717171716,
          1252.5252525252524,
          1333.3333333333333,
          1414.141414141414,
          1494.949494949495,
          1575.7575757575758,
          1656.5656565656564,
          1737.3737373737372,
          1818.181818181818,
          1898.9898989898988,
          1979.7979797979797,
          2060.6060606060605,
          2141.4141414141413,
          2222.2222222222217,
          2303.030303030303,
          2383.8383838383834,
          2464.6464646464647,
          2545.454545454545,
          2626.2626262626263,
          2707.0707070707067,
          2787.878787878788,
          2868.6868686868684,
          2949.4949494949497,
          3030.30303030303,
          3111.1111111111113,
          3191.9191919191917,
          3272.7272727272725,
          3353.5353535353534,
          3434.3434343434337,
          3515.151515151515,
          3595.9595959595954,
          3676.7676767676767,
          3757.575757575757,
          3838.3838383838383,
          3919.1919191919187,
          4000.0,
          4080.8080808080804,
          4161.616161616161,
          4242.424242424242,
          4323.232323232323,
          4404.040404040404,
          4484.848484848484,
          4565.656565656565,
          4646.464646464647,
          4727.272727272727,
          4808.080808080807,
          4888.888888888889,
          4969.69696969697,
          5050.50505050505,
          5131.313131313131,
          5212.121212121212,
          5292.929292929292,
          5373.737373737373,
          5454.545454545454,
          5535.353535353535,
          5616.161616161616,
          5696.969696969696,
          5777.777777777777,
          5858.585858585859,
          5939.393939393939,
          6020.202020202019,
          6101.010101010101,
          6181.818181818182,
          6262.626262626262,
          6343.434343434343,
          6424.242424242424,
          6505.050505050505,
          6585.858585858585,
          6666.666666666666,
          6747.474747474747,
          6828.282828282828,
          6909.090909090908,
          6989.898989898989,
          7070.707070707071,
          7151.515151515151,
          7232.323232323231,
          7313.131313131313,
          7393.939393939394,
          7474.747474747474,
          7555.555555555555,
          7636.363636363636,
          7717.171717171717,
          7797.979797979797,
          7878.787878787878,
          7959.595959595959
         ],
         "y": [
          0,
          0,
          0,
          1601,
          5072,
          4466,
          3821,
          3481,
          3028,
          2824,
          2612,
          2380,
          2120,
          1907,
          1773,
          1619,
          1506,
          1333,
          1250,
          1072,
          977,
          926,
          789,
          653,
          567,
          496,
          401,
          347,
          262,
          183,
          109,
          69,
          15,
          0,
          0,
          1,
          0,
          0,
          0,
          0,
          0,
          0,
          0,
          0,
          0,
          0,
          0,
          0,
          0,
          0,
          0,
          0,
          0,
          0,
          0,
          0,
          0,
          0,
          0,
          0,
          0,
          0,
          0,
          0,
          0,
          0,
          0,
          0,
          0,
          0,
          0,
          0,
          0,
          0,
          0,
          0,
          0,
          0,
          0,
          0,
          0,
          0,
          0,
          0,
          0,
          0,
          0,
          0,
          0,
          0,
          0,
          0,
          0,
          0,
          0,
          0,
          0,
          0,
          0
         ],
         "type": "scatter",
         "xaxis": "x",
         "yaxis": "y"
        },
        {
         "marker": {
          "color": "rgba(0,100,80,0.4)",
          "size": 14,
          "symbol": "triangle-up"
         },
         "mode": "markers",
         "name": "Recon/Truth",
         "x": [
          40.4040404040404,
          121.2121212121212,
          202.02020202020202,
          282.8282828282828,
          363.6363636363636,
          444.44444444444446,
          525.2525252525252,
          606.060606060606,
          686.8686868686868,
          767.6767676767677,
          848.4848484848485,
          929.2929292929292,
          1010.1010101010099,
          1090.9090909090908,
          1171.7171717171716,
          1252.5252525252524,
          1333.3333333333333,
          1414.141414141414,
          1494.949494949495,
          1575.7575757575758,
          1656.5656565656564,
          1737.3737373737372,
          1818.181818181818,
          1898.9898989898988,
          1979.7979797979797,
          2060.6060606060605,
          2141.4141414141413,
          2222.2222222222217,
          2303.030303030303,
          2383.8383838383834,
          2464.6464646464647,
          2545.454545454545,
          2626.2626262626263,
          2707.0707070707067,
          2787.878787878788,
          2868.6868686868684,
          2949.4949494949497,
          3030.30303030303,
          3111.1111111111113,
          3191.9191919191917,
          3272.7272727272725,
          3353.5353535353534,
          3434.3434343434337,
          3515.151515151515,
          3595.9595959595954,
          3676.7676767676767,
          3757.575757575757,
          3838.3838383838383,
          3919.1919191919187,
          4000.0,
          4080.8080808080804,
          4161.616161616161,
          4242.424242424242,
          4323.232323232323,
          4404.040404040404,
          4484.848484848484,
          4565.656565656565,
          4646.464646464647,
          4727.272727272727,
          4808.080808080807,
          4888.888888888889,
          4969.69696969697,
          5050.50505050505,
          5131.313131313131,
          5212.121212121212,
          5292.929292929292,
          5373.737373737373,
          5454.545454545454,
          5535.353535353535,
          5616.161616161616,
          5696.969696969696,
          5777.777777777777,
          5858.585858585859,
          5939.393939393939,
          6020.202020202019,
          6101.010101010101,
          6181.818181818182,
          6262.626262626262,
          6343.434343434343,
          6424.242424242424,
          6505.050505050505,
          6585.858585858585,
          6666.666666666666,
          6747.474747474747,
          6828.282828282828,
          6909.090909090908,
          6989.898989898989,
          7070.707070707071,
          7151.515151515151,
          7232.323232323231,
          7313.131313131313,
          7393.939393939394,
          7474.747474747474,
          7555.555555555555,
          7636.363636363636,
          7717.171717171717,
          7797.979797979797,
          7878.787878787878,
          7959.595959595959
         ],
         "y": [
          null,
          null,
          null,
          0.7276702061211743,
          0.7547318611987381,
          0.7630989699955217,
          0.7168280554828579,
          0.7601264004596381,
          0.8457727873183619,
          0.8707507082152974,
          0.8437978560490046,
          0.8176470588235294,
          0.8169811320754717,
          0.8573675930781332,
          0.8809926677946982,
          0.9116738727609636,
          1.00132802124834,
          0.9902475618904726,
          0.9264,
          1.0065298507462686,
          0.9590583418628454,
          0.9535637149028078,
          1.044359949302915,
          1.2557427258805514,
          1.3174603174603174,
          1.5362903225806452,
          1.6384039900249376,
          1.6512968299711817,
          2.133587786259542,
          2.748633879781421,
          3.6788990825688073,
          5.782608695652174,
          22.733333333333334,
          null,
          null,
          272.0,
          null,
          null,
          null,
          null,
          null,
          null,
          null,
          null,
          null,
          null,
          null,
          null,
          null,
          null,
          null,
          null,
          null,
          null,
          null,
          null,
          null,
          null,
          null,
          null,
          null,
          null,
          null,
          null,
          null,
          null,
          null,
          null,
          null,
          null,
          null,
          null,
          null,
          null,
          null,
          null,
          null,
          null,
          null,
          null,
          null,
          null,
          null,
          null,
          null,
          null,
          null,
          null,
          null,
          null,
          null,
          null,
          null,
          null,
          null,
          null,
          null,
          null,
          null
         ],
         "type": "scatter",
         "xaxis": "x2",
         "yaxis": "y2"
        }
       ],
       "layout": {
        "template": {
         "data": {
          "histogram2dcontour": [
           {
            "type": "histogram2dcontour",
            "colorbar": {
             "outlinewidth": 0,
             "ticks": ""
            },
            "colorscale": [
             [
              0.0,
              "#0d0887"
             ],
             [
              0.1111111111111111,
              "#46039f"
             ],
             [
              0.2222222222222222,
              "#7201a8"
             ],
             [
              0.3333333333333333,
              "#9c179e"
             ],
             [
              0.4444444444444444,
              "#bd3786"
             ],
             [
              0.5555555555555556,
              "#d8576b"
             ],
             [
              0.6666666666666666,
              "#ed7953"
             ],
             [
              0.7777777777777778,
              "#fb9f3a"
             ],
             [
              0.8888888888888888,
              "#fdca26"
             ],
             [
              1.0,
              "#f0f921"
             ]
            ]
           }
          ],
          "choropleth": [
           {
            "type": "choropleth",
            "colorbar": {
             "outlinewidth": 0,
             "ticks": ""
            }
           }
          ],
          "histogram2d": [
           {
            "type": "histogram2d",
            "colorbar": {
             "outlinewidth": 0,
             "ticks": ""
            },
            "colorscale": [
             [
              0.0,
              "#0d0887"
             ],
             [
              0.1111111111111111,
              "#46039f"
             ],
             [
              0.2222222222222222,
              "#7201a8"
             ],
             [
              0.3333333333333333,
              "#9c179e"
             ],
             [
              0.4444444444444444,
              "#bd3786"
             ],
             [
              0.5555555555555556,
              "#d8576b"
             ],
             [
              0.6666666666666666,
              "#ed7953"
             ],
             [
              0.7777777777777778,
              "#fb9f3a"
             ],
             [
              0.8888888888888888,
              "#fdca26"
             ],
             [
              1.0,
              "#f0f921"
             ]
            ]
           }
          ],
          "heatmap": [
           {
            "type": "heatmap",
            "colorbar": {
             "outlinewidth": 0,
             "ticks": ""
            },
            "colorscale": [
             [
              0.0,
              "#0d0887"
             ],
             [
              0.1111111111111111,
              "#46039f"
             ],
             [
              0.2222222222222222,
              "#7201a8"
             ],
             [
              0.3333333333333333,
              "#9c179e"
             ],
             [
              0.4444444444444444,
              "#bd3786"
             ],
             [
              0.5555555555555556,
              "#d8576b"
             ],
             [
              0.6666666666666666,
              "#ed7953"
             ],
             [
              0.7777777777777778,
              "#fb9f3a"
             ],
             [
              0.8888888888888888,
              "#fdca26"
             ],
             [
              1.0,
              "#f0f921"
             ]
            ]
           }
          ],
          "heatmapgl": [
           {
            "type": "heatmapgl",
            "colorbar": {
             "outlinewidth": 0,
             "ticks": ""
            },
            "colorscale": [
             [
              0.0,
              "#0d0887"
             ],
             [
              0.1111111111111111,
              "#46039f"
             ],
             [
              0.2222222222222222,
              "#7201a8"
             ],
             [
              0.3333333333333333,
              "#9c179e"
             ],
             [
              0.4444444444444444,
              "#bd3786"
             ],
             [
              0.5555555555555556,
              "#d8576b"
             ],
             [
              0.6666666666666666,
              "#ed7953"
             ],
             [
              0.7777777777777778,
              "#fb9f3a"
             ],
             [
              0.8888888888888888,
              "#fdca26"
             ],
             [
              1.0,
              "#f0f921"
             ]
            ]
           }
          ],
          "contourcarpet": [
           {
            "type": "contourcarpet",
            "colorbar": {
             "outlinewidth": 0,
             "ticks": ""
            }
           }
          ],
          "contour": [
           {
            "type": "contour",
            "colorbar": {
             "outlinewidth": 0,
             "ticks": ""
            },
            "colorscale": [
             [
              0.0,
              "#0d0887"
             ],
             [
              0.1111111111111111,
              "#46039f"
             ],
             [
              0.2222222222222222,
              "#7201a8"
             ],
             [
              0.3333333333333333,
              "#9c179e"
             ],
             [
              0.4444444444444444,
              "#bd3786"
             ],
             [
              0.5555555555555556,
              "#d8576b"
             ],
             [
              0.6666666666666666,
              "#ed7953"
             ],
             [
              0.7777777777777778,
              "#fb9f3a"
             ],
             [
              0.8888888888888888,
              "#fdca26"
             ],
             [
              1.0,
              "#f0f921"
             ]
            ]
           }
          ],
          "surface": [
           {
            "type": "surface",
            "colorbar": {
             "outlinewidth": 0,
             "ticks": ""
            },
            "colorscale": [
             [
              0.0,
              "#0d0887"
             ],
             [
              0.1111111111111111,
              "#46039f"
             ],
             [
              0.2222222222222222,
              "#7201a8"
             ],
             [
              0.3333333333333333,
              "#9c179e"
             ],
             [
              0.4444444444444444,
              "#bd3786"
             ],
             [
              0.5555555555555556,
              "#d8576b"
             ],
             [
              0.6666666666666666,
              "#ed7953"
             ],
             [
              0.7777777777777778,
              "#fb9f3a"
             ],
             [
              0.8888888888888888,
              "#fdca26"
             ],
             [
              1.0,
              "#f0f921"
             ]
            ]
           }
          ],
          "mesh3d": [
           {
            "type": "mesh3d",
            "colorbar": {
             "outlinewidth": 0,
             "ticks": ""
            }
           }
          ],
          "scatter": [
           {
            "fillpattern": {
             "fillmode": "overlay",
             "size": 10,
             "solidity": 0.2
            },
            "type": "scatter"
           }
          ],
          "parcoords": [
           {
            "type": "parcoords",
            "line": {
             "colorbar": {
              "outlinewidth": 0,
              "ticks": ""
             }
            }
           }
          ],
          "scatterpolargl": [
           {
            "type": "scatterpolargl",
            "marker": {
             "colorbar": {
              "outlinewidth": 0,
              "ticks": ""
             }
            }
           }
          ],
          "bar": [
           {
            "error_x": {
             "color": "#2a3f5f"
            },
            "error_y": {
             "color": "#2a3f5f"
            },
            "marker": {
             "line": {
              "color": "#E5ECF6",
              "width": 0.5
             },
             "pattern": {
              "fillmode": "overlay",
              "size": 10,
              "solidity": 0.2
             }
            },
            "type": "bar"
           }
          ],
          "scattergeo": [
           {
            "type": "scattergeo",
            "marker": {
             "colorbar": {
              "outlinewidth": 0,
              "ticks": ""
             }
            }
           }
          ],
          "scatterpolar": [
           {
            "type": "scatterpolar",
            "marker": {
             "colorbar": {
              "outlinewidth": 0,
              "ticks": ""
             }
            }
           }
          ],
          "histogram": [
           {
            "marker": {
             "pattern": {
              "fillmode": "overlay",
              "size": 10,
              "solidity": 0.2
             }
            },
            "type": "histogram"
           }
          ],
          "scattergl": [
           {
            "type": "scattergl",
            "marker": {
             "colorbar": {
              "outlinewidth": 0,
              "ticks": ""
             }
            }
           }
          ],
          "scatter3d": [
           {
            "type": "scatter3d",
            "line": {
             "colorbar": {
              "outlinewidth": 0,
              "ticks": ""
             }
            },
            "marker": {
             "colorbar": {
              "outlinewidth": 0,
              "ticks": ""
             }
            }
           }
          ],
          "scattermapbox": [
           {
            "type": "scattermapbox",
            "marker": {
             "colorbar": {
              "outlinewidth": 0,
              "ticks": ""
             }
            }
           }
          ],
          "scatterternary": [
           {
            "type": "scatterternary",
            "marker": {
             "colorbar": {
              "outlinewidth": 0,
              "ticks": ""
             }
            }
           }
          ],
          "scattercarpet": [
           {
            "type": "scattercarpet",
            "marker": {
             "colorbar": {
              "outlinewidth": 0,
              "ticks": ""
             }
            }
           }
          ],
          "carpet": [
           {
            "aaxis": {
             "endlinecolor": "#2a3f5f",
             "gridcolor": "white",
             "linecolor": "white",
             "minorgridcolor": "white",
             "startlinecolor": "#2a3f5f"
            },
            "baxis": {
             "endlinecolor": "#2a3f5f",
             "gridcolor": "white",
             "linecolor": "white",
             "minorgridcolor": "white",
             "startlinecolor": "#2a3f5f"
            },
            "type": "carpet"
           }
          ],
          "table": [
           {
            "cells": {
             "fill": {
              "color": "#EBF0F8"
             },
             "line": {
              "color": "white"
             }
            },
            "header": {
             "fill": {
              "color": "#C8D4E3"
             },
             "line": {
              "color": "white"
             }
            },
            "type": "table"
           }
          ],
          "barpolar": [
           {
            "marker": {
             "line": {
              "color": "#E5ECF6",
              "width": 0.5
             },
             "pattern": {
              "fillmode": "overlay",
              "size": 10,
              "solidity": 0.2
             }
            },
            "type": "barpolar"
           }
          ],
          "pie": [
           {
            "automargin": true,
            "type": "pie"
           }
          ]
         },
         "layout": {
          "autotypenumbers": "strict",
          "colorway": [
           "#636efa",
           "#EF553B",
           "#00cc96",
           "#ab63fa",
           "#FFA15A",
           "#19d3f3",
           "#FF6692",
           "#B6E880",
           "#FF97FF",
           "#FECB52"
          ],
          "font": {
           "color": "#2a3f5f"
          },
          "hovermode": "closest",
          "hoverlabel": {
           "align": "left"
          },
          "paper_bgcolor": "white",
          "plot_bgcolor": "#E5ECF6",
          "polar": {
           "bgcolor": "#E5ECF6",
           "angularaxis": {
            "gridcolor": "white",
            "linecolor": "white",
            "ticks": ""
           },
           "radialaxis": {
            "gridcolor": "white",
            "linecolor": "white",
            "ticks": ""
           }
          },
          "ternary": {
           "bgcolor": "#E5ECF6",
           "aaxis": {
            "gridcolor": "white",
            "linecolor": "white",
            "ticks": ""
           },
           "baxis": {
            "gridcolor": "white",
            "linecolor": "white",
            "ticks": ""
           },
           "caxis": {
            "gridcolor": "white",
            "linecolor": "white",
            "ticks": ""
           }
          },
          "coloraxis": {
           "colorbar": {
            "outlinewidth": 0,
            "ticks": ""
           }
          },
          "colorscale": {
           "sequential": [
            [
             0.0,
             "#0d0887"
            ],
            [
             0.1111111111111111,
             "#46039f"
            ],
            [
             0.2222222222222222,
             "#7201a8"
            ],
            [
             0.3333333333333333,
             "#9c179e"
            ],
            [
             0.4444444444444444,
             "#bd3786"
            ],
            [
             0.5555555555555556,
             "#d8576b"
            ],
            [
             0.6666666666666666,
             "#ed7953"
            ],
            [
             0.7777777777777778,
             "#fb9f3a"
            ],
            [
             0.8888888888888888,
             "#fdca26"
            ],
            [
             1.0,
             "#f0f921"
            ]
           ],
           "sequentialminus": [
            [
             0.0,
             "#0d0887"
            ],
            [
             0.1111111111111111,
             "#46039f"
            ],
            [
             0.2222222222222222,
             "#7201a8"
            ],
            [
             0.3333333333333333,
             "#9c179e"
            ],
            [
             0.4444444444444444,
             "#bd3786"
            ],
            [
             0.5555555555555556,
             "#d8576b"
            ],
            [
             0.6666666666666666,
             "#ed7953"
            ],
            [
             0.7777777777777778,
             "#fb9f3a"
            ],
            [
             0.8888888888888888,
             "#fdca26"
            ],
            [
             1.0,
             "#f0f921"
            ]
           ],
           "diverging": [
            [
             0,
             "#8e0152"
            ],
            [
             0.1,
             "#c51b7d"
            ],
            [
             0.2,
             "#de77ae"
            ],
            [
             0.3,
             "#f1b6da"
            ],
            [
             0.4,
             "#fde0ef"
            ],
            [
             0.5,
             "#f7f7f7"
            ],
            [
             0.6,
             "#e6f5d0"
            ],
            [
             0.7,
             "#b8e186"
            ],
            [
             0.8,
             "#7fbc41"
            ],
            [
             0.9,
             "#4d9221"
            ],
            [
             1,
             "#276419"
            ]
           ]
          },
          "xaxis": {
           "gridcolor": "white",
           "linecolor": "white",
           "ticks": "",
           "title": {
            "standoff": 15
           },
           "zerolinecolor": "white",
           "automargin": true,
           "zerolinewidth": 2
          },
          "yaxis": {
           "gridcolor": "white",
           "linecolor": "white",
           "ticks": "",
           "title": {
            "standoff": 15
           },
           "zerolinecolor": "white",
           "automargin": true,
           "zerolinewidth": 2
          },
          "scene": {
           "xaxis": {
            "backgroundcolor": "#E5ECF6",
            "gridcolor": "white",
            "linecolor": "white",
            "showbackground": true,
            "ticks": "",
            "zerolinecolor": "white",
            "gridwidth": 2
           },
           "yaxis": {
            "backgroundcolor": "#E5ECF6",
            "gridcolor": "white",
            "linecolor": "white",
            "showbackground": true,
            "ticks": "",
            "zerolinecolor": "white",
            "gridwidth": 2
           },
           "zaxis": {
            "backgroundcolor": "#E5ECF6",
            "gridcolor": "white",
            "linecolor": "white",
            "showbackground": true,
            "ticks": "",
            "zerolinecolor": "white",
            "gridwidth": 2
           }
          },
          "shapedefaults": {
           "line": {
            "color": "#2a3f5f"
           }
          },
          "annotationdefaults": {
           "arrowcolor": "#2a3f5f",
           "arrowhead": 0,
           "arrowwidth": 1
          },
          "geo": {
           "bgcolor": "white",
           "landcolor": "#E5ECF6",
           "subunitcolor": "white",
           "showland": true,
           "showlakes": true,
           "lakecolor": "white"
          },
          "title": {
           "x": 0.05
          },
          "mapbox": {
           "style": "light"
          }
         }
        },
        "xaxis": {
         "anchor": "y",
         "domain": [
          0.0,
          1.0
         ],
         "matches": "x2",
         "showticklabels": false,
         "linecolor": "#666666",
         "gridcolor": "#d9d9d9",
         "zerolinecolor": "rgba(0,0,0,0)",
         "linewidth": 2,
         "showline": true,
         "showgrid": false,
         "mirror": true
        },
        "yaxis": {
         "anchor": "x",
         "domain": [
          0.25,
          1.0
         ],
         "title": {
          "text": "A.U."
         },
         "linecolor": "#666666",
         "zerolinecolor": "rgba(0,0,0,0)",
         "linewidth": 2,
         "mirror": true,
         "type": "linear",
         "range": [
          0.0,
          7608.0
         ]
        },
        "xaxis2": {
         "anchor": "y2",
         "domain": [
          0.0,
          1.0
         ],
         "title": {
          "text": "$P_{3} \\text{ [MeV]}$"
         },
         "linecolor": "#666666",
         "gridcolor": "#d9d9d9",
         "zerolinecolor": "rgba(0,0,0,0)",
         "linewidth": 2,
         "showline": true,
         "showgrid": false,
         "mirror": false
        },
        "yaxis2": {
         "anchor": "x2",
         "domain": [
          0.0,
          0.25
         ],
         "title": {
          "text": "Reco/Truth"
         },
         "linecolor": "#666666",
         "zerolinecolor": "rgba(0,0,0,0)",
         "linewidth": 2,
         "mirror": true,
         "type": "log",
         "range": [
          -1,
          1
         ]
        },
        "shapes": [
         {
          "line": {
           "color": "grey",
           "dash": "dash",
           "width": 1
          },
          "type": "line",
          "x0": 0,
          "x1": 1,
          "xref": "x2 domain",
          "y0": 1.0,
          "y1": 1.0,
          "yref": "y2"
         }
        ],
        "annotations": [
         {
          "font": {
           "family": "Cambria",
           "size": 34
          },
          "showarrow": false,
          "text": "<i><b>DarkSHINE<b><i>",
          "x": 0.05,
          "xref": "paper",
          "y": 0.97,
          "yref": "paper"
         },
         {
          "font": {
           "family": "Cambria",
           "size": 31
          },
          "showarrow": false,
          "text": "Simulation",
          "x": 0.455,
          "xref": "paper",
          "y": 0.9662999999999999,
          "yref": "paper"
         },
         {
          "showarrow": false,
          "text": "$\\Large{E^{e}_{0} = 8~\\text{GeV},~10^{6}~\\text{EOT}}$",
          "x": 0.05,
          "xref": "paper",
          "y": 0.895,
          "yref": "paper"
         }
        ],
        "legend": {
         "font": {
          "size": 14
         },
         "orientation": "v",
         "yanchor": "top",
         "y": 0.99,
         "xanchor": "right",
         "x": 0.98
        },
        "width": 800,
        "height": 800,
        "paper_bgcolor": "rgba(0,0,0,0)",
        "plot_bgcolor": "rgba(0,0,0,0)"
       },
       "config": {
        "plotlyServerURL": "https://plot.ly"
       }
      },
      "text/html": "<div>                            <div id=\"d35830a7-e41a-4189-9e78-9b5b13025c0d\" class=\"plotly-graph-div\" style=\"height:800px; width:800px;\"></div>            <script type=\"text/javascript\">                require([\"plotly\"], function(Plotly) {                    window.PLOTLYENV=window.PLOTLYENV || {};                                    if (document.getElementById(\"d35830a7-e41a-4189-9e78-9b5b13025c0d\")) {                    Plotly.newPlot(                        \"d35830a7-e41a-4189-9e78-9b5b13025c0d\",                        [{\"marker\":{\"color\":\"#D43E33\",\"size\":14,\"symbol\":\"circle\"},\"mode\":\"markers\",\"name\":\"Reconstructed\",\"x\":[40.4040404040404,121.2121212121212,202.02020202020202,282.8282828282828,363.6363636363636,444.44444444444446,525.2525252525252,606.060606060606,686.8686868686868,767.6767676767677,848.4848484848485,929.2929292929292,1010.1010101010099,1090.9090909090908,1171.7171717171716,1252.5252525252524,1333.3333333333333,1414.141414141414,1494.949494949495,1575.7575757575758,1656.5656565656564,1737.3737373737372,1818.181818181818,1898.9898989898988,1979.7979797979797,2060.6060606060605,2141.4141414141413,2222.2222222222217,2303.030303030303,2383.8383838383834,2464.6464646464647,2545.454545454545,2626.2626262626263,2707.0707070707067,2787.878787878788,2868.6868686868684,2949.4949494949497,3030.30303030303,3111.1111111111113,3191.9191919191917,3272.7272727272725,3353.5353535353534,3434.3434343434337,3515.151515151515,3595.9595959595954,3676.7676767676767,3757.575757575757,3838.3838383838383,3919.1919191919187,4000.0,4080.8080808080804,4161.616161616161,4242.424242424242,4323.232323232323,4404.040404040404,4484.848484848484,4565.656565656565,4646.464646464647,4727.272727272727,4808.080808080807,4888.888888888889,4969.69696969697,5050.50505050505,5131.313131313131,5212.121212121212,5292.929292929292,5373.737373737373,5454.545454545454,5535.353535353535,5616.161616161616,5696.969696969696,5777.777777777777,5858.585858585859,5939.393939393939,6020.202020202019,6101.010101010101,6181.818181818182,6262.626262626262,6343.434343434343,6424.242424242424,6505.050505050505,6585.858585858585,6666.666666666666,6747.474747474747,6828.282828282828,6909.090909090908,6989.898989898989,7070.707070707071,7151.515151515151,7232.323232323231,7313.131313131313,7393.939393939394,7474.747474747474,7555.555555555555,7636.363636363636,7717.171717171717,7797.979797979797,7878.787878787878,7959.595959595959],\"y\":[0,0,0,1165,3828,3408,2739,2646,2561,2459,2204,1946,1732,1635,1562,1476,1508,1320,1158,1079,937,883,824,820,747,762,657,573,559,503,401,399,341,311,275,272,201,208,204,199,189,212,171,127,123,140,71,72,37,21,13,2,6,6,6,4,3,3,0,2,2,1,0,4,4,3,3,0,1,3,1,1,1,2,1,0,1,2,0,2,1,1,0,1,1,1,0,0,1,0,0,0,2,1,0,0,0,0,0],\"type\":\"scatter\",\"xaxis\":\"x\",\"yaxis\":\"y\"},{\"marker\":{\"color\":\"#5857AD\",\"size\":14,\"symbol\":\"star-diamond\"},\"mode\":\"markers\",\"name\":\"Truth\",\"x\":[40.4040404040404,121.2121212121212,202.02020202020202,282.8282828282828,363.6363636363636,444.44444444444446,525.2525252525252,606.060606060606,686.8686868686868,767.6767676767677,848.4848484848485,929.2929292929292,1010.1010101010099,1090.9090909090908,1171.7171717171716,1252.5252525252524,1333.3333333333333,1414.141414141414,1494.949494949495,1575.7575757575758,1656.5656565656564,1737.3737373737372,1818.181818181818,1898.9898989898988,1979.7979797979797,2060.6060606060605,2141.4141414141413,2222.2222222222217,2303.030303030303,2383.8383838383834,2464.6464646464647,2545.454545454545,2626.2626262626263,2707.0707070707067,2787.878787878788,2868.6868686868684,2949.4949494949497,3030.30303030303,3111.1111111111113,3191.9191919191917,3272.7272727272725,3353.5353535353534,3434.3434343434337,3515.151515151515,3595.9595959595954,3676.7676767676767,3757.575757575757,3838.3838383838383,3919.1919191919187,4000.0,4080.8080808080804,4161.616161616161,4242.424242424242,4323.232323232323,4404.040404040404,4484.848484848484,4565.656565656565,4646.464646464647,4727.272727272727,4808.080808080807,4888.888888888889,4969.69696969697,5050.50505050505,5131.313131313131,5212.121212121212,5292.929292929292,5373.737373737373,5454.545454545454,5535.353535353535,5616.161616161616,5696.969696969696,5777.777777777777,5858.585858585859,5939.393939393939,6020.202020202019,6101.010101010101,6181.818181818182,6262.626262626262,6343.434343434343,6424.242424242424,6505.050505050505,6585.858585858585,6666.666666666666,6747.474747474747,6828.282828282828,6909.090909090908,6989.898989898989,7070.707070707071,7151.515151515151,7232.323232323231,7313.131313131313,7393.939393939394,7474.747474747474,7555.555555555555,7636.363636363636,7717.171717171717,7797.979797979797,7878.787878787878,7959.595959595959],\"y\":[0,0,0,1601,5072,4466,3821,3481,3028,2824,2612,2380,2120,1907,1773,1619,1506,1333,1250,1072,977,926,789,653,567,496,401,347,262,183,109,69,15,0,0,1,0,0,0,0,0,0,0,0,0,0,0,0,0,0,0,0,0,0,0,0,0,0,0,0,0,0,0,0,0,0,0,0,0,0,0,0,0,0,0,0,0,0,0,0,0,0,0,0,0,0,0,0,0,0,0,0,0,0,0,0,0,0,0],\"type\":\"scatter\",\"xaxis\":\"x\",\"yaxis\":\"y\"},{\"marker\":{\"color\":\"rgba(0,100,80,0.4)\",\"size\":14,\"symbol\":\"triangle-up\"},\"mode\":\"markers\",\"name\":\"Recon\\u002fTruth\",\"x\":[40.4040404040404,121.2121212121212,202.02020202020202,282.8282828282828,363.6363636363636,444.44444444444446,525.2525252525252,606.060606060606,686.8686868686868,767.6767676767677,848.4848484848485,929.2929292929292,1010.1010101010099,1090.9090909090908,1171.7171717171716,1252.5252525252524,1333.3333333333333,1414.141414141414,1494.949494949495,1575.7575757575758,1656.5656565656564,1737.3737373737372,1818.181818181818,1898.9898989898988,1979.7979797979797,2060.6060606060605,2141.4141414141413,2222.2222222222217,2303.030303030303,2383.8383838383834,2464.6464646464647,2545.454545454545,2626.2626262626263,2707.0707070707067,2787.878787878788,2868.6868686868684,2949.4949494949497,3030.30303030303,3111.1111111111113,3191.9191919191917,3272.7272727272725,3353.5353535353534,3434.3434343434337,3515.151515151515,3595.9595959595954,3676.7676767676767,3757.575757575757,3838.3838383838383,3919.1919191919187,4000.0,4080.8080808080804,4161.616161616161,4242.424242424242,4323.232323232323,4404.040404040404,4484.848484848484,4565.656565656565,4646.464646464647,4727.272727272727,4808.080808080807,4888.888888888889,4969.69696969697,5050.50505050505,5131.313131313131,5212.121212121212,5292.929292929292,5373.737373737373,5454.545454545454,5535.353535353535,5616.161616161616,5696.969696969696,5777.777777777777,5858.585858585859,5939.393939393939,6020.202020202019,6101.010101010101,6181.818181818182,6262.626262626262,6343.434343434343,6424.242424242424,6505.050505050505,6585.858585858585,6666.666666666666,6747.474747474747,6828.282828282828,6909.090909090908,6989.898989898989,7070.707070707071,7151.515151515151,7232.323232323231,7313.131313131313,7393.939393939394,7474.747474747474,7555.555555555555,7636.363636363636,7717.171717171717,7797.979797979797,7878.787878787878,7959.595959595959],\"y\":[null,null,null,0.7276702061211743,0.7547318611987381,0.7630989699955217,0.7168280554828579,0.7601264004596381,0.8457727873183619,0.8707507082152974,0.8437978560490046,0.8176470588235294,0.8169811320754717,0.8573675930781332,0.8809926677946982,0.9116738727609636,1.00132802124834,0.9902475618904726,0.9264,1.0065298507462686,0.9590583418628454,0.9535637149028078,1.044359949302915,1.2557427258805514,1.3174603174603174,1.5362903225806452,1.6384039900249376,1.6512968299711817,2.133587786259542,2.748633879781421,3.6788990825688073,5.782608695652174,22.733333333333334,null,null,272.0,null,null,null,null,null,null,null,null,null,null,null,null,null,null,null,null,null,null,null,null,null,null,null,null,null,null,null,null,null,null,null,null,null,null,null,null,null,null,null,null,null,null,null,null,null,null,null,null,null,null,null,null,null,null,null,null,null,null,null,null,null,null,null],\"type\":\"scatter\",\"xaxis\":\"x2\",\"yaxis\":\"y2\"}],                        {\"template\":{\"data\":{\"histogram2dcontour\":[{\"type\":\"histogram2dcontour\",\"colorbar\":{\"outlinewidth\":0,\"ticks\":\"\"},\"colorscale\":[[0.0,\"#0d0887\"],[0.1111111111111111,\"#46039f\"],[0.2222222222222222,\"#7201a8\"],[0.3333333333333333,\"#9c179e\"],[0.4444444444444444,\"#bd3786\"],[0.5555555555555556,\"#d8576b\"],[0.6666666666666666,\"#ed7953\"],[0.7777777777777778,\"#fb9f3a\"],[0.8888888888888888,\"#fdca26\"],[1.0,\"#f0f921\"]]}],\"choropleth\":[{\"type\":\"choropleth\",\"colorbar\":{\"outlinewidth\":0,\"ticks\":\"\"}}],\"histogram2d\":[{\"type\":\"histogram2d\",\"colorbar\":{\"outlinewidth\":0,\"ticks\":\"\"},\"colorscale\":[[0.0,\"#0d0887\"],[0.1111111111111111,\"#46039f\"],[0.2222222222222222,\"#7201a8\"],[0.3333333333333333,\"#9c179e\"],[0.4444444444444444,\"#bd3786\"],[0.5555555555555556,\"#d8576b\"],[0.6666666666666666,\"#ed7953\"],[0.7777777777777778,\"#fb9f3a\"],[0.8888888888888888,\"#fdca26\"],[1.0,\"#f0f921\"]]}],\"heatmap\":[{\"type\":\"heatmap\",\"colorbar\":{\"outlinewidth\":0,\"ticks\":\"\"},\"colorscale\":[[0.0,\"#0d0887\"],[0.1111111111111111,\"#46039f\"],[0.2222222222222222,\"#7201a8\"],[0.3333333333333333,\"#9c179e\"],[0.4444444444444444,\"#bd3786\"],[0.5555555555555556,\"#d8576b\"],[0.6666666666666666,\"#ed7953\"],[0.7777777777777778,\"#fb9f3a\"],[0.8888888888888888,\"#fdca26\"],[1.0,\"#f0f921\"]]}],\"heatmapgl\":[{\"type\":\"heatmapgl\",\"colorbar\":{\"outlinewidth\":0,\"ticks\":\"\"},\"colorscale\":[[0.0,\"#0d0887\"],[0.1111111111111111,\"#46039f\"],[0.2222222222222222,\"#7201a8\"],[0.3333333333333333,\"#9c179e\"],[0.4444444444444444,\"#bd3786\"],[0.5555555555555556,\"#d8576b\"],[0.6666666666666666,\"#ed7953\"],[0.7777777777777778,\"#fb9f3a\"],[0.8888888888888888,\"#fdca26\"],[1.0,\"#f0f921\"]]}],\"contourcarpet\":[{\"type\":\"contourcarpet\",\"colorbar\":{\"outlinewidth\":0,\"ticks\":\"\"}}],\"contour\":[{\"type\":\"contour\",\"colorbar\":{\"outlinewidth\":0,\"ticks\":\"\"},\"colorscale\":[[0.0,\"#0d0887\"],[0.1111111111111111,\"#46039f\"],[0.2222222222222222,\"#7201a8\"],[0.3333333333333333,\"#9c179e\"],[0.4444444444444444,\"#bd3786\"],[0.5555555555555556,\"#d8576b\"],[0.6666666666666666,\"#ed7953\"],[0.7777777777777778,\"#fb9f3a\"],[0.8888888888888888,\"#fdca26\"],[1.0,\"#f0f921\"]]}],\"surface\":[{\"type\":\"surface\",\"colorbar\":{\"outlinewidth\":0,\"ticks\":\"\"},\"colorscale\":[[0.0,\"#0d0887\"],[0.1111111111111111,\"#46039f\"],[0.2222222222222222,\"#7201a8\"],[0.3333333333333333,\"#9c179e\"],[0.4444444444444444,\"#bd3786\"],[0.5555555555555556,\"#d8576b\"],[0.6666666666666666,\"#ed7953\"],[0.7777777777777778,\"#fb9f3a\"],[0.8888888888888888,\"#fdca26\"],[1.0,\"#f0f921\"]]}],\"mesh3d\":[{\"type\":\"mesh3d\",\"colorbar\":{\"outlinewidth\":0,\"ticks\":\"\"}}],\"scatter\":[{\"fillpattern\":{\"fillmode\":\"overlay\",\"size\":10,\"solidity\":0.2},\"type\":\"scatter\"}],\"parcoords\":[{\"type\":\"parcoords\",\"line\":{\"colorbar\":{\"outlinewidth\":0,\"ticks\":\"\"}}}],\"scatterpolargl\":[{\"type\":\"scatterpolargl\",\"marker\":{\"colorbar\":{\"outlinewidth\":0,\"ticks\":\"\"}}}],\"bar\":[{\"error_x\":{\"color\":\"#2a3f5f\"},\"error_y\":{\"color\":\"#2a3f5f\"},\"marker\":{\"line\":{\"color\":\"#E5ECF6\",\"width\":0.5},\"pattern\":{\"fillmode\":\"overlay\",\"size\":10,\"solidity\":0.2}},\"type\":\"bar\"}],\"scattergeo\":[{\"type\":\"scattergeo\",\"marker\":{\"colorbar\":{\"outlinewidth\":0,\"ticks\":\"\"}}}],\"scatterpolar\":[{\"type\":\"scatterpolar\",\"marker\":{\"colorbar\":{\"outlinewidth\":0,\"ticks\":\"\"}}}],\"histogram\":[{\"marker\":{\"pattern\":{\"fillmode\":\"overlay\",\"size\":10,\"solidity\":0.2}},\"type\":\"histogram\"}],\"scattergl\":[{\"type\":\"scattergl\",\"marker\":{\"colorbar\":{\"outlinewidth\":0,\"ticks\":\"\"}}}],\"scatter3d\":[{\"type\":\"scatter3d\",\"line\":{\"colorbar\":{\"outlinewidth\":0,\"ticks\":\"\"}},\"marker\":{\"colorbar\":{\"outlinewidth\":0,\"ticks\":\"\"}}}],\"scattermapbox\":[{\"type\":\"scattermapbox\",\"marker\":{\"colorbar\":{\"outlinewidth\":0,\"ticks\":\"\"}}}],\"scatterternary\":[{\"type\":\"scatterternary\",\"marker\":{\"colorbar\":{\"outlinewidth\":0,\"ticks\":\"\"}}}],\"scattercarpet\":[{\"type\":\"scattercarpet\",\"marker\":{\"colorbar\":{\"outlinewidth\":0,\"ticks\":\"\"}}}],\"carpet\":[{\"aaxis\":{\"endlinecolor\":\"#2a3f5f\",\"gridcolor\":\"white\",\"linecolor\":\"white\",\"minorgridcolor\":\"white\",\"startlinecolor\":\"#2a3f5f\"},\"baxis\":{\"endlinecolor\":\"#2a3f5f\",\"gridcolor\":\"white\",\"linecolor\":\"white\",\"minorgridcolor\":\"white\",\"startlinecolor\":\"#2a3f5f\"},\"type\":\"carpet\"}],\"table\":[{\"cells\":{\"fill\":{\"color\":\"#EBF0F8\"},\"line\":{\"color\":\"white\"}},\"header\":{\"fill\":{\"color\":\"#C8D4E3\"},\"line\":{\"color\":\"white\"}},\"type\":\"table\"}],\"barpolar\":[{\"marker\":{\"line\":{\"color\":\"#E5ECF6\",\"width\":0.5},\"pattern\":{\"fillmode\":\"overlay\",\"size\":10,\"solidity\":0.2}},\"type\":\"barpolar\"}],\"pie\":[{\"automargin\":true,\"type\":\"pie\"}]},\"layout\":{\"autotypenumbers\":\"strict\",\"colorway\":[\"#636efa\",\"#EF553B\",\"#00cc96\",\"#ab63fa\",\"#FFA15A\",\"#19d3f3\",\"#FF6692\",\"#B6E880\",\"#FF97FF\",\"#FECB52\"],\"font\":{\"color\":\"#2a3f5f\"},\"hovermode\":\"closest\",\"hoverlabel\":{\"align\":\"left\"},\"paper_bgcolor\":\"white\",\"plot_bgcolor\":\"#E5ECF6\",\"polar\":{\"bgcolor\":\"#E5ECF6\",\"angularaxis\":{\"gridcolor\":\"white\",\"linecolor\":\"white\",\"ticks\":\"\"},\"radialaxis\":{\"gridcolor\":\"white\",\"linecolor\":\"white\",\"ticks\":\"\"}},\"ternary\":{\"bgcolor\":\"#E5ECF6\",\"aaxis\":{\"gridcolor\":\"white\",\"linecolor\":\"white\",\"ticks\":\"\"},\"baxis\":{\"gridcolor\":\"white\",\"linecolor\":\"white\",\"ticks\":\"\"},\"caxis\":{\"gridcolor\":\"white\",\"linecolor\":\"white\",\"ticks\":\"\"}},\"coloraxis\":{\"colorbar\":{\"outlinewidth\":0,\"ticks\":\"\"}},\"colorscale\":{\"sequential\":[[0.0,\"#0d0887\"],[0.1111111111111111,\"#46039f\"],[0.2222222222222222,\"#7201a8\"],[0.3333333333333333,\"#9c179e\"],[0.4444444444444444,\"#bd3786\"],[0.5555555555555556,\"#d8576b\"],[0.6666666666666666,\"#ed7953\"],[0.7777777777777778,\"#fb9f3a\"],[0.8888888888888888,\"#fdca26\"],[1.0,\"#f0f921\"]],\"sequentialminus\":[[0.0,\"#0d0887\"],[0.1111111111111111,\"#46039f\"],[0.2222222222222222,\"#7201a8\"],[0.3333333333333333,\"#9c179e\"],[0.4444444444444444,\"#bd3786\"],[0.5555555555555556,\"#d8576b\"],[0.6666666666666666,\"#ed7953\"],[0.7777777777777778,\"#fb9f3a\"],[0.8888888888888888,\"#fdca26\"],[1.0,\"#f0f921\"]],\"diverging\":[[0,\"#8e0152\"],[0.1,\"#c51b7d\"],[0.2,\"#de77ae\"],[0.3,\"#f1b6da\"],[0.4,\"#fde0ef\"],[0.5,\"#f7f7f7\"],[0.6,\"#e6f5d0\"],[0.7,\"#b8e186\"],[0.8,\"#7fbc41\"],[0.9,\"#4d9221\"],[1,\"#276419\"]]},\"xaxis\":{\"gridcolor\":\"white\",\"linecolor\":\"white\",\"ticks\":\"\",\"title\":{\"standoff\":15},\"zerolinecolor\":\"white\",\"automargin\":true,\"zerolinewidth\":2},\"yaxis\":{\"gridcolor\":\"white\",\"linecolor\":\"white\",\"ticks\":\"\",\"title\":{\"standoff\":15},\"zerolinecolor\":\"white\",\"automargin\":true,\"zerolinewidth\":2},\"scene\":{\"xaxis\":{\"backgroundcolor\":\"#E5ECF6\",\"gridcolor\":\"white\",\"linecolor\":\"white\",\"showbackground\":true,\"ticks\":\"\",\"zerolinecolor\":\"white\",\"gridwidth\":2},\"yaxis\":{\"backgroundcolor\":\"#E5ECF6\",\"gridcolor\":\"white\",\"linecolor\":\"white\",\"showbackground\":true,\"ticks\":\"\",\"zerolinecolor\":\"white\",\"gridwidth\":2},\"zaxis\":{\"backgroundcolor\":\"#E5ECF6\",\"gridcolor\":\"white\",\"linecolor\":\"white\",\"showbackground\":true,\"ticks\":\"\",\"zerolinecolor\":\"white\",\"gridwidth\":2}},\"shapedefaults\":{\"line\":{\"color\":\"#2a3f5f\"}},\"annotationdefaults\":{\"arrowcolor\":\"#2a3f5f\",\"arrowhead\":0,\"arrowwidth\":1},\"geo\":{\"bgcolor\":\"white\",\"landcolor\":\"#E5ECF6\",\"subunitcolor\":\"white\",\"showland\":true,\"showlakes\":true,\"lakecolor\":\"white\"},\"title\":{\"x\":0.05},\"mapbox\":{\"style\":\"light\"}}},\"xaxis\":{\"anchor\":\"y\",\"domain\":[0.0,1.0],\"matches\":\"x2\",\"showticklabels\":false,\"linecolor\":\"#666666\",\"gridcolor\":\"#d9d9d9\",\"zerolinecolor\":\"rgba(0,0,0,0)\",\"linewidth\":2,\"showline\":true,\"showgrid\":false,\"mirror\":true},\"yaxis\":{\"anchor\":\"x\",\"domain\":[0.25,1.0],\"title\":{\"text\":\"A.U.\"},\"linecolor\":\"#666666\",\"zerolinecolor\":\"rgba(0,0,0,0)\",\"linewidth\":2,\"mirror\":true,\"type\":\"linear\",\"range\":[0.0,7608.0]},\"xaxis2\":{\"anchor\":\"y2\",\"domain\":[0.0,1.0],\"title\":{\"text\":\"$P_{3} \\\\text{ [MeV]}$\"},\"linecolor\":\"#666666\",\"gridcolor\":\"#d9d9d9\",\"zerolinecolor\":\"rgba(0,0,0,0)\",\"linewidth\":2,\"showline\":true,\"showgrid\":false,\"mirror\":false},\"yaxis2\":{\"anchor\":\"x2\",\"domain\":[0.0,0.25],\"title\":{\"text\":\"Reco\\u002fTruth\"},\"linecolor\":\"#666666\",\"zerolinecolor\":\"rgba(0,0,0,0)\",\"linewidth\":2,\"mirror\":true,\"type\":\"log\",\"range\":[-1,1]},\"shapes\":[{\"line\":{\"color\":\"grey\",\"dash\":\"dash\",\"width\":1},\"type\":\"line\",\"x0\":0,\"x1\":1,\"xref\":\"x2 domain\",\"y0\":1.0,\"y1\":1.0,\"yref\":\"y2\"}],\"annotations\":[{\"font\":{\"family\":\"Cambria\",\"size\":34},\"showarrow\":false,\"text\":\"\\u003ci\\u003e\\u003cb\\u003eDarkSHINE\\u003cb\\u003e\\u003ci\\u003e\",\"x\":0.05,\"xref\":\"paper\",\"y\":0.97,\"yref\":\"paper\"},{\"font\":{\"family\":\"Cambria\",\"size\":31},\"showarrow\":false,\"text\":\"Simulation\",\"x\":0.455,\"xref\":\"paper\",\"y\":0.9662999999999999,\"yref\":\"paper\"},{\"showarrow\":false,\"text\":\"$\\\\Large{E^{e}_{0} = 8~\\\\text{GeV},~10^{6}~\\\\text{EOT}}$\",\"x\":0.05,\"xref\":\"paper\",\"y\":0.895,\"yref\":\"paper\"}],\"legend\":{\"font\":{\"size\":14},\"orientation\":\"v\",\"yanchor\":\"top\",\"y\":0.99,\"xanchor\":\"right\",\"x\":0.98},\"width\":800,\"height\":800,\"paper_bgcolor\":\"rgba(0,0,0,0)\",\"plot_bgcolor\":\"rgba(0,0,0,0)\"},                        {\"responsive\": true}                    ).then(function(){\n                            \nvar gd = document.getElementById('d35830a7-e41a-4189-9e78-9b5b13025c0d');\nvar x = new MutationObserver(function (mutations, observer) {{\n        var display = window.getComputedStyle(gd).display;\n        if (!display || display === 'none') {{\n            console.log([gd, 'removed!']);\n            Plotly.purge(gd);\n            observer.disconnect();\n        }}\n}});\n\n// Listen for the removal of the full notebook cells\nvar notebookContainer = gd.closest('#notebook-container');\nif (notebookContainer) {{\n    x.observe(notebookContainer, {childList: true});\n}}\n\n// Listen for the clearing of the current output cell\nvar outputEl = gd.closest('.output');\nif (outputEl) {{\n    x.observe(outputEl, {childList: true});\n}}\n\n                        })                };                });            </script>        </div>"
     },
     "metadata": {},
     "output_type": "display_data"
    }
   ],
   "source": [
    "def select_nth_row(df, group_columns, nth):\n",
    "        # Group by the specified columns and filter out groups with less than nth entries\n",
    "    filtered_groups = df.groupby(group_columns).filter(lambda x: len(x) >= nth)\n",
    "\n",
    "    # Select the nth row of each group from the filtered DataFrame\n",
    "    nth_rows = filtered_groups.groupby(group_columns).nth(nth - 1)  # nth - 1 because of zero-based indexing\n",
    "\n",
    "    return nth_rows\n",
    "\n",
    "def binning(df_in, nth, col='rec_PAvg'):\n",
    "    df_ = df_in.copy(deep=True)\n",
    "    bins = np.linspace(0, 8000, 100)\n",
    "    df_ = select_nth_row(df_, ['run_num', 'evt_num'], nth)\n",
    "    df_['binned'] = pd.cut(df_[col], bins=bins, labels=bins[:-1])\n",
    "    bin_counts = df_['binned'].value_counts()\n",
    "    bin_counts = bin_counts.sort_index()\n",
    "    bin_center = bins[:-1] + (bins[1:] - bins[:-1]) / 2\n",
    "\n",
    "    return bin_counts, bin_center\n",
    "\n",
    "E_cut = 300\n",
    "Std_min = 1500\n",
    "for nth in [1,2,3]:\n",
    "    rec_bin_counts, rec_bin_center = binning(df[(df['rec_PAvg'] > E_cut) & (df['rec_PStd'] < Std_min)], nth, col= 'rec_PAvg')\n",
    "    truth_bin_counts, truth_bin_center = binning(truth[truth['rec_E'] > E_cut], nth, col='rec_E')\n",
    "    plot_multiplicity(rec_bin_counts, rec_bin_center, truth_bin_counts, truth_bin_center, log_y=False, x_title=f'$P_{{{nth}}} \\\\text{{ [MeV]}}$')"
   ],
   "metadata": {
    "collapsed": false,
    "ExecuteTime": {
     "end_time": "2023-11-12T13:26:23.377380Z",
     "start_time": "2023-11-12T13:26:17.251137Z"
    }
   },
   "id": "7bd31e8aaaaa3c92"
  },
  {
   "cell_type": "code",
   "execution_count": 10,
   "outputs": [],
   "source": [
    "def select3(df):\n",
    "    # Separate the DataFrame into two based on the 'rec_Charge'\n",
    "    df_charge_minus_1 = df[df['rec_Charge'] == -1]\n",
    "    df_charge_plus_1 = df[df['rec_Charge'] == 1]\n",
    "    \n",
    "    # For charge -1, group by 'run_num' and 'evt_num', and take the top 2 rows\n",
    "    top_minus_1 = df_charge_minus_1.groupby(['run_num', 'evt_num']).head(2)\n",
    "    \n",
    "    # For charge +1, group by 'run_num' and 'evt_num', and take the top row\n",
    "    top_plus_1 = df_charge_plus_1.groupby(['run_num', 'evt_num']).head(1)\n",
    "    \n",
    "    # Concatenate the two subsets back together\n",
    "    final_rows = pd.concat([top_minus_1, top_plus_1]).sort_values(by=['run_num', 'evt_num', 'rec_Charge']).reset_index(drop=True)\n",
    "    \n",
    "    # Calculate group sizes and add as a column\n",
    "    counts = final_rows.groupby(['run_num', 'evt_num']).transform('size')\n",
    "    final_rows['counts'] = counts\n",
    "    \n",
    "    return final_rows\n"
   ],
   "metadata": {
    "collapsed": false,
    "ExecuteTime": {
     "end_time": "2023-11-12T13:26:23.384579Z",
     "start_time": "2023-11-12T13:26:23.378439Z"
    }
   },
   "id": "23ad4a9cb3246d1c"
  },
  {
   "cell_type": "code",
   "execution_count": 112,
   "outputs": [],
   "source": [
    "recon_final = select3(df)"
   ],
   "metadata": {
    "collapsed": false,
    "ExecuteTime": {
     "end_time": "2023-11-11T12:37:53.130756Z",
     "start_time": "2023-11-11T12:37:53.074233Z"
    }
   },
   "id": "fe38226a5f890027"
  },
  {
   "cell_type": "code",
   "execution_count": 113,
   "outputs": [],
   "source": [
    "truth_final = select3(truth)"
   ],
   "metadata": {
    "collapsed": false,
    "ExecuteTime": {
     "end_time": "2023-11-11T12:37:53.643354Z",
     "start_time": "2023-11-11T12:37:53.584871Z"
    }
   },
   "id": "6f3c9d900d4b178d"
  },
  {
   "cell_type": "code",
   "execution_count": 118,
   "outputs": [
    {
     "data": {
      "text/plain": "        run_num  evt_num  rec_ID        rec_E     rec_Vx     rec_Vy  \\\n18            0        9   -11.0  1291.190430 -12.908077  -5.640634   \n19            0        9   -11.0   119.013229  12.647806  -5.339694   \n20            0        9    11.0  6481.802734 -12.908077  -5.640634   \n101           0       50   -11.0  3469.470459 -10.516571   9.976606   \n102           0       50   -11.0   683.106445 -11.298475  10.110344   \n...         ...      ...     ...          ...        ...        ...   \n200451        4    19990   -11.0    66.988228 -18.131723  -3.314456   \n200452        4    19990    11.0   907.317993 -18.194855  -3.354611   \n200458        4    19994   -11.0  3506.956543  -4.189830   2.266152   \n200459        4    19994   -11.0   124.477821  -4.189569   2.266947   \n200460        4    19994    11.0  3811.004150  -4.196085   2.224242   \n\n            rec_Vz      rec_Px      rec_Py       rec_Pz  rec_Charge  counts  \n18        5.213794  -38.378151    4.942567  1291.121582        -1.0       3  \n19     -107.680000   42.633636    1.338144   111.652863        -1.0       3  \n20        5.213794 -228.901123   -1.248315  6478.270996         1.0       3  \n101       4.015689 -131.178177    3.827493  3467.498779        -1.0       3  \n102      38.779999  -16.446314    2.155925   683.415955        -1.0       3  \n...            ...         ...         ...          ...         ...     ...  \n200451    0.175000   -4.416122   -3.349938    67.269310        -1.0       3  \n200452    0.175000 -166.289017 -116.720390   884.803650         1.0       3  \n200458    0.175000 -103.849525  217.269470  3499.191162        -1.0       3  \n200459    0.175000   -0.612403   10.391749   124.553528        -1.0       3  \n200460    0.175000 -190.187668 -253.633896  3798.308350         1.0       3  \n\n[6117 rows x 12 columns]",
      "text/html": "<div>\n<style scoped>\n    .dataframe tbody tr th:only-of-type {\n        vertical-align: middle;\n    }\n\n    .dataframe tbody tr th {\n        vertical-align: top;\n    }\n\n    .dataframe thead th {\n        text-align: right;\n    }\n</style>\n<table border=\"1\" class=\"dataframe\">\n  <thead>\n    <tr style=\"text-align: right;\">\n      <th></th>\n      <th>run_num</th>\n      <th>evt_num</th>\n      <th>rec_ID</th>\n      <th>rec_E</th>\n      <th>rec_Vx</th>\n      <th>rec_Vy</th>\n      <th>rec_Vz</th>\n      <th>rec_Px</th>\n      <th>rec_Py</th>\n      <th>rec_Pz</th>\n      <th>rec_Charge</th>\n      <th>counts</th>\n    </tr>\n  </thead>\n  <tbody>\n    <tr>\n      <th>18</th>\n      <td>0</td>\n      <td>9</td>\n      <td>-11.0</td>\n      <td>1291.190430</td>\n      <td>-12.908077</td>\n      <td>-5.640634</td>\n      <td>5.213794</td>\n      <td>-38.378151</td>\n      <td>4.942567</td>\n      <td>1291.121582</td>\n      <td>-1.0</td>\n      <td>3</td>\n    </tr>\n    <tr>\n      <th>19</th>\n      <td>0</td>\n      <td>9</td>\n      <td>-11.0</td>\n      <td>119.013229</td>\n      <td>12.647806</td>\n      <td>-5.339694</td>\n      <td>-107.680000</td>\n      <td>42.633636</td>\n      <td>1.338144</td>\n      <td>111.652863</td>\n      <td>-1.0</td>\n      <td>3</td>\n    </tr>\n    <tr>\n      <th>20</th>\n      <td>0</td>\n      <td>9</td>\n      <td>11.0</td>\n      <td>6481.802734</td>\n      <td>-12.908077</td>\n      <td>-5.640634</td>\n      <td>5.213794</td>\n      <td>-228.901123</td>\n      <td>-1.248315</td>\n      <td>6478.270996</td>\n      <td>1.0</td>\n      <td>3</td>\n    </tr>\n    <tr>\n      <th>101</th>\n      <td>0</td>\n      <td>50</td>\n      <td>-11.0</td>\n      <td>3469.470459</td>\n      <td>-10.516571</td>\n      <td>9.976606</td>\n      <td>4.015689</td>\n      <td>-131.178177</td>\n      <td>3.827493</td>\n      <td>3467.498779</td>\n      <td>-1.0</td>\n      <td>3</td>\n    </tr>\n    <tr>\n      <th>102</th>\n      <td>0</td>\n      <td>50</td>\n      <td>-11.0</td>\n      <td>683.106445</td>\n      <td>-11.298475</td>\n      <td>10.110344</td>\n      <td>38.779999</td>\n      <td>-16.446314</td>\n      <td>2.155925</td>\n      <td>683.415955</td>\n      <td>-1.0</td>\n      <td>3</td>\n    </tr>\n    <tr>\n      <th>...</th>\n      <td>...</td>\n      <td>...</td>\n      <td>...</td>\n      <td>...</td>\n      <td>...</td>\n      <td>...</td>\n      <td>...</td>\n      <td>...</td>\n      <td>...</td>\n      <td>...</td>\n      <td>...</td>\n      <td>...</td>\n    </tr>\n    <tr>\n      <th>200451</th>\n      <td>4</td>\n      <td>19990</td>\n      <td>-11.0</td>\n      <td>66.988228</td>\n      <td>-18.131723</td>\n      <td>-3.314456</td>\n      <td>0.175000</td>\n      <td>-4.416122</td>\n      <td>-3.349938</td>\n      <td>67.269310</td>\n      <td>-1.0</td>\n      <td>3</td>\n    </tr>\n    <tr>\n      <th>200452</th>\n      <td>4</td>\n      <td>19990</td>\n      <td>11.0</td>\n      <td>907.317993</td>\n      <td>-18.194855</td>\n      <td>-3.354611</td>\n      <td>0.175000</td>\n      <td>-166.289017</td>\n      <td>-116.720390</td>\n      <td>884.803650</td>\n      <td>1.0</td>\n      <td>3</td>\n    </tr>\n    <tr>\n      <th>200458</th>\n      <td>4</td>\n      <td>19994</td>\n      <td>-11.0</td>\n      <td>3506.956543</td>\n      <td>-4.189830</td>\n      <td>2.266152</td>\n      <td>0.175000</td>\n      <td>-103.849525</td>\n      <td>217.269470</td>\n      <td>3499.191162</td>\n      <td>-1.0</td>\n      <td>3</td>\n    </tr>\n    <tr>\n      <th>200459</th>\n      <td>4</td>\n      <td>19994</td>\n      <td>-11.0</td>\n      <td>124.477821</td>\n      <td>-4.189569</td>\n      <td>2.266947</td>\n      <td>0.175000</td>\n      <td>-0.612403</td>\n      <td>10.391749</td>\n      <td>124.553528</td>\n      <td>-1.0</td>\n      <td>3</td>\n    </tr>\n    <tr>\n      <th>200460</th>\n      <td>4</td>\n      <td>19994</td>\n      <td>11.0</td>\n      <td>3811.004150</td>\n      <td>-4.196085</td>\n      <td>2.224242</td>\n      <td>0.175000</td>\n      <td>-190.187668</td>\n      <td>-253.633896</td>\n      <td>3798.308350</td>\n      <td>1.0</td>\n      <td>3</td>\n    </tr>\n  </tbody>\n</table>\n<p>6117 rows × 12 columns</p>\n</div>"
     },
     "execution_count": 118,
     "metadata": {},
     "output_type": "execute_result"
    }
   ],
   "source": [
    "truth_final[truth_final['counts'] == 3]"
   ],
   "metadata": {
    "collapsed": false,
    "ExecuteTime": {
     "end_time": "2023-11-11T12:38:21.457232Z",
     "start_time": "2023-11-11T12:38:21.444227Z"
    }
   },
   "id": "fd5ec197f409aa44"
  },
  {
   "cell_type": "code",
   "execution_count": 24,
   "outputs": [
    {
     "data": {
      "text/plain": "72914"
     },
     "execution_count": 24,
     "metadata": {},
     "output_type": "execute_result"
    }
   ],
   "source": [
    "df[(df['rec_PAvg'] > E_cut) & (df['rec_PStd'] < Std_min) & (df['num_trk'] == 3)].drop_duplicates(subset=['run_num', 'evt_num']).shape[0]"
   ],
   "metadata": {
    "collapsed": false,
    "ExecuteTime": {
     "end_time": "2023-11-12T15:15:50.405415Z",
     "start_time": "2023-11-12T15:15:50.391623Z"
    }
   },
   "id": "d06a9320eb33309e"
  },
  {
   "cell_type": "code",
   "execution_count": null,
   "outputs": [],
   "source": [],
   "metadata": {
    "collapsed": false
   },
   "id": "e77e1d2d6cc52f46"
  }
 ],
 "metadata": {
  "kernelspec": {
   "display_name": "Python 3",
   "language": "python",
   "name": "python3"
  },
  "language_info": {
   "codemirror_mode": {
    "name": "ipython",
    "version": 2
   },
   "file_extension": ".py",
   "mimetype": "text/x-python",
   "name": "python",
   "nbconvert_exporter": "python",
   "pygments_lexer": "ipython2",
   "version": "2.7.6"
  }
 },
 "nbformat": 4,
 "nbformat_minor": 5
}
