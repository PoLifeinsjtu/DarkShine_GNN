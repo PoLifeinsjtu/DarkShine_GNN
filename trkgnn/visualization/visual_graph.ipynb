{
 "cells": [
  {
   "cell_type": "code",
   "execution_count": 1,
   "metadata": {
    "collapsed": true,
    "ExecuteTime": {
     "end_time": "2023-10-17T08:59:52.559835Z",
     "start_time": "2023-10-17T08:59:51.485848Z"
    }
   },
   "outputs": [],
   "source": [
    "from visualization.scripts.quick_loader import get_event\n",
    "from visualization.scripts.plotting import plot_xyz_plotly, plot_xyz_plotly_3d\n",
    "from utility.EverythingNeeded import get_memory_size_MB"
   ]
  },
  {
   "cell_type": "code",
   "execution_count": 11,
   "outputs": [
    {
     "name": "stdout",
     "output_type": "stream",
     "text": [
      "0.007 MB\n"
     ]
    },
    {
     "data": {
      "application/vnd.plotly.v1+json": {
       "data": [
        {
         "marker": {
          "color": "#965601",
          "size": 7
         },
         "mode": "markers",
         "showlegend": false,
         "x": [
          -4.425000190734863,
          -4.425000190734863,
          -4.425000190734863,
          -3.555000066757202,
          -3.555000066757202,
          -3.555000066757202,
          -3.7199997901916504,
          -3.7199997901916504,
          -3.7199997901916504,
          -7.319999694824219,
          -7.319999694824219,
          -7.319999694824219,
          -3.765000104904175,
          -3.765000104904175,
          -3.765000104904175,
          -4.275000095367432,
          -4.275000095367432,
          -4.275000095367432,
          -12.239999771118164,
          -4.079999923706055,
          -4.079999923706055,
          -4.855000019073486,
          -4.855000019073486,
          -18.94499969482422,
          -4.425000190734863,
          -4.425000190734863,
          -5.385000228881836,
          -5.385000228881836,
          -46.814998626708984,
          -5.534999847412109,
          -5.534999847412109,
          -6.585000038146973,
          -6.585000038146973,
          -9.824999809265137,
          -9.28499984741211,
          -8.573912620544434,
          -7.425000190734863,
          -9.824999809265137,
          -9.824999809265137,
          -9.28499984741211,
          -9.28499984741211,
          -8.573912620544434,
          -8.573912620544434,
          -7.425000190734863,
          -7.425000190734863,
          -9.824999809265137,
          -9.28499984741211,
          -8.573912620544434,
          -7.425000190734863
         ],
         "y": [
          7.779999732971191,
          7.779999732971191,
          7.779999732971191,
          7.779999732971191,
          7.779999732971191,
          7.779999732971191,
          7.779999732971191,
          7.779999732971191,
          7.779999732971191,
          22.779998779296875,
          22.779998779296875,
          22.779998779296875,
          22.779998779296875,
          22.779998779296875,
          22.779998779296875,
          22.779998779296875,
          22.779998779296875,
          22.779998779296875,
          38.779998779296875,
          38.779998779296875,
          38.779998779296875,
          38.779998779296875,
          38.779998779296875,
          53.779998779296875,
          53.779998779296875,
          53.779998779296875,
          53.779998779296875,
          53.779998779296875,
          89.77999877929688,
          89.77999877929688,
          89.77999877929688,
          89.77999877929688,
          89.77999877929688,
          180.2799835205078,
          180.2799835205078,
          180.2799835205078,
          180.2799835205078,
          180.27999877929688,
          180.27999877929688,
          180.27999877929688,
          180.27999877929688,
          180.27999877929688,
          180.27999877929688,
          180.27999877929688,
          180.27999877929688,
          180.280029296875,
          180.280029296875,
          180.280029296875,
          180.280029296875
         ],
         "type": "scatter",
         "xaxis": "x",
         "yaxis": "y"
        },
        {
         "legendgroup": "Correct",
         "line": {
          "color": "#965601",
          "dash": "solid",
          "width": 1
         },
         "mode": "lines",
         "name": "Correct",
         "showlegend": false,
         "x": [
          -4.425000190734863,
          -7.319999694824219
         ],
         "y": [
          7.779999732971191,
          22.779998779296875
         ],
         "type": "scatter",
         "xaxis": "x",
         "yaxis": "y"
        },
        {
         "legendgroup": "Correct",
         "line": {
          "color": "#965601",
          "dash": "solid",
          "width": 1
         },
         "mode": "lines",
         "showlegend": false,
         "x": [
          -3.555000066757202,
          -3.765000104904175
         ],
         "y": [
          7.779999732971191,
          22.779998779296875
         ],
         "type": "scatter",
         "xaxis": "x",
         "yaxis": "y"
        },
        {
         "legendgroup": "Correct",
         "line": {
          "color": "#965601",
          "dash": "solid",
          "width": 1
         },
         "mode": "lines",
         "showlegend": false,
         "x": [
          -3.7199997901916504,
          -4.275000095367432
         ],
         "y": [
          7.779999732971191,
          22.779998779296875
         ],
         "type": "scatter",
         "xaxis": "x",
         "yaxis": "y"
        },
        {
         "legendgroup": "Correct",
         "line": {
          "color": "#965601",
          "dash": "solid",
          "width": 1
         },
         "mode": "lines",
         "showlegend": false,
         "x": [
          -7.319999694824219,
          -12.239999771118164
         ],
         "y": [
          22.779998779296875,
          38.779998779296875
         ],
         "type": "scatter",
         "xaxis": "x",
         "yaxis": "y"
        },
        {
         "legendgroup": "Correct",
         "line": {
          "color": "#965601",
          "dash": "solid",
          "width": 1
         },
         "mode": "lines",
         "showlegend": false,
         "x": [
          -3.765000104904175,
          -4.079999923706055
         ],
         "y": [
          22.779998779296875,
          38.779998779296875
         ],
         "type": "scatter",
         "xaxis": "x",
         "yaxis": "y"
        },
        {
         "legendgroup": "Correct",
         "line": {
          "color": "#965601",
          "dash": "solid",
          "width": 1
         },
         "mode": "lines",
         "showlegend": false,
         "x": [
          -4.275000095367432,
          -4.855000019073486
         ],
         "y": [
          22.779998779296875,
          38.779998779296875
         ],
         "type": "scatter",
         "xaxis": "x",
         "yaxis": "y"
        },
        {
         "legendgroup": "Correct",
         "line": {
          "color": "#965601",
          "dash": "solid",
          "width": 1
         },
         "mode": "lines",
         "showlegend": false,
         "x": [
          -12.239999771118164,
          -18.94499969482422
         ],
         "y": [
          38.779998779296875,
          53.779998779296875
         ],
         "type": "scatter",
         "xaxis": "x",
         "yaxis": "y"
        },
        {
         "legendgroup": "Correct",
         "line": {
          "color": "#965601",
          "dash": "solid",
          "width": 1
         },
         "mode": "lines",
         "showlegend": false,
         "x": [
          -4.079999923706055,
          -4.425000190734863
         ],
         "y": [
          38.779998779296875,
          53.779998779296875
         ],
         "type": "scatter",
         "xaxis": "x",
         "yaxis": "y"
        },
        {
         "legendgroup": "Correct",
         "line": {
          "color": "#965601",
          "dash": "solid",
          "width": 1
         },
         "mode": "lines",
         "showlegend": false,
         "x": [
          -4.855000019073486,
          -5.385000228881836
         ],
         "y": [
          38.779998779296875,
          53.779998779296875
         ],
         "type": "scatter",
         "xaxis": "x",
         "yaxis": "y"
        },
        {
         "legendgroup": "Correct",
         "line": {
          "color": "#965601",
          "dash": "solid",
          "width": 1
         },
         "mode": "lines",
         "showlegend": false,
         "x": [
          -18.94499969482422,
          -46.814998626708984
         ],
         "y": [
          53.779998779296875,
          89.77999877929688
         ],
         "type": "scatter",
         "xaxis": "x",
         "yaxis": "y"
        },
        {
         "legendgroup": "Correct",
         "line": {
          "color": "#965601",
          "dash": "solid",
          "width": 1
         },
         "mode": "lines",
         "showlegend": false,
         "x": [
          -4.425000190734863,
          -5.534999847412109
         ],
         "y": [
          53.779998779296875,
          89.77999877929688
         ],
         "type": "scatter",
         "xaxis": "x",
         "yaxis": "y"
        },
        {
         "legendgroup": "Correct",
         "line": {
          "color": "#965601",
          "dash": "solid",
          "width": 1
         },
         "mode": "lines",
         "showlegend": false,
         "x": [
          -5.385000228881836,
          -6.585000038146973
         ],
         "y": [
          53.779998779296875,
          89.77999877929688
         ],
         "type": "scatter",
         "xaxis": "x",
         "yaxis": "y"
        },
        {
         "legendgroup": "Correct",
         "line": {
          "color": "#965601",
          "dash": "solid",
          "width": 1
         },
         "mode": "lines",
         "showlegend": false,
         "x": [
          -5.534999847412109,
          -9.824999809265137
         ],
         "y": [
          89.77999877929688,
          180.27999877929688
         ],
         "type": "scatter",
         "xaxis": "x",
         "yaxis": "y"
        },
        {
         "legendgroup": "Correct",
         "line": {
          "color": "#965601",
          "dash": "solid",
          "width": 1
         },
         "mode": "lines",
         "showlegend": false,
         "x": [
          -6.585000038146973,
          -9.28499984741211
         ],
         "y": [
          89.77999877929688,
          180.27999877929688
         ],
         "type": "scatter",
         "xaxis": "x",
         "yaxis": "y"
        },
        {
         "marker": {
          "color": "#965601",
          "size": 7
         },
         "mode": "markers",
         "showlegend": false,
         "x": [
          3.7909772396087646,
          23.899356842041016,
          20.2978572845459,
          -13.594522476196289,
          6.513856887817383,
          2.9123573303222656,
          -10.29727840423584,
          9.811100959777832,
          6.209601402282715,
          0.7832978367805481,
          -64.34383392333984,
          -54.73983383178711,
          71.82402801513672,
          6.696894645690918,
          16.30089569091797,
          61.632530212402344,
          -3.4946038722991943,
          6.109397888183594,
          -4.807941436767578,
          6.800854682922363,
          -9.405900001525879,
          22.28793716430664,
          6.081182956695557,
          -7.029421329498291,
          7.3136420249938965,
          25.321144104003906,
          -11.870356559753418,
          6.13714599609375,
          -23.379867553710938,
          8.265089988708496,
          -15.144659042358398,
          29.247591018676758,
          5.837841987609863,
          -12.335246086120605,
          -1.544248104095459,
          12.665642738342285,
          35.62474060058594,
          9.849690437316895,
          -5.1565775871276855,
          20.640687942504883,
          5.634420394897461,
          34.85057830810547,
          19.844310760498047,
          57.80967712402344,
          42.803409576416016,
          -18.45547866821289,
          -7.6644816398620605,
          6.545409202575684,
          29.504507064819336
         ],
         "y": [
          7.779999732971191,
          7.779999732971191,
          7.779999732971191,
          7.779999732971191,
          7.779999732971191,
          7.779999732971191,
          7.779999732971191,
          7.779999732971191,
          7.779999732971191,
          22.779998779296875,
          22.779998779296875,
          22.779998779296875,
          22.779998779296875,
          22.779998779296875,
          22.779998779296875,
          22.779998779296875,
          22.779998779296875,
          22.779998779296875,
          38.779998779296875,
          38.779998779296875,
          38.779998779296875,
          38.779998779296875,
          38.779998779296875,
          53.779998779296875,
          53.779998779296875,
          53.779998779296875,
          53.779998779296875,
          53.779998779296875,
          89.77999877929688,
          89.77999877929688,
          89.77999877929688,
          89.77999877929688,
          89.77999877929688,
          180.2799835205078,
          180.2799835205078,
          180.2799835205078,
          180.2799835205078,
          180.27999877929688,
          180.27999877929688,
          180.27999877929688,
          180.27999877929688,
          180.27999877929688,
          180.27999877929688,
          180.27999877929688,
          180.27999877929688,
          180.280029296875,
          180.280029296875,
          180.280029296875,
          180.280029296875
         ],
         "type": "scatter",
         "xaxis": "x2",
         "yaxis": "y2"
        },
        {
         "legendgroup": "Correct",
         "line": {
          "color": "#965601",
          "dash": "solid",
          "width": 1
         },
         "mode": "lines",
         "showlegend": false,
         "x": [
          3.7909772396087646,
          0.7832978367805481
         ],
         "y": [
          7.779999732971191,
          22.779998779296875
         ],
         "type": "scatter",
         "xaxis": "x2",
         "yaxis": "y2"
        },
        {
         "legendgroup": "Correct",
         "line": {
          "color": "#965601",
          "dash": "solid",
          "width": 1
         },
         "mode": "lines",
         "showlegend": false,
         "x": [
          6.513856887817383,
          6.696894645690918
         ],
         "y": [
          7.779999732971191,
          22.779998779296875
         ],
         "type": "scatter",
         "xaxis": "x2",
         "yaxis": "y2"
        },
        {
         "legendgroup": "Correct",
         "line": {
          "color": "#965601",
          "dash": "solid",
          "width": 1
         },
         "mode": "lines",
         "showlegend": false,
         "x": [
          6.209601402282715,
          6.109397888183594
         ],
         "y": [
          7.779999732971191,
          22.779998779296875
         ],
         "type": "scatter",
         "xaxis": "x2",
         "yaxis": "y2"
        },
        {
         "legendgroup": "Correct",
         "line": {
          "color": "#965601",
          "dash": "solid",
          "width": 1
         },
         "mode": "lines",
         "showlegend": false,
         "x": [
          0.7832978367805481,
          -4.807941436767578
         ],
         "y": [
          22.779998779296875,
          38.779998779296875
         ],
         "type": "scatter",
         "xaxis": "x2",
         "yaxis": "y2"
        },
        {
         "legendgroup": "Correct",
         "line": {
          "color": "#965601",
          "dash": "solid",
          "width": 1
         },
         "mode": "lines",
         "showlegend": false,
         "x": [
          6.696894645690918,
          6.800854682922363
         ],
         "y": [
          22.779998779296875,
          38.779998779296875
         ],
         "type": "scatter",
         "xaxis": "x2",
         "yaxis": "y2"
        },
        {
         "legendgroup": "Correct",
         "line": {
          "color": "#965601",
          "dash": "solid",
          "width": 1
         },
         "mode": "lines",
         "showlegend": false,
         "x": [
          6.109397888183594,
          6.081182956695557
         ],
         "y": [
          22.779998779296875,
          38.779998779296875
         ],
         "type": "scatter",
         "xaxis": "x2",
         "yaxis": "y2"
        },
        {
         "legendgroup": "Correct",
         "line": {
          "color": "#965601",
          "dash": "solid",
          "width": 1
         },
         "mode": "lines",
         "showlegend": false,
         "x": [
          -4.807941436767578,
          -7.029421329498291
         ],
         "y": [
          38.779998779296875,
          53.779998779296875
         ],
         "type": "scatter",
         "xaxis": "x2",
         "yaxis": "y2"
        },
        {
         "legendgroup": "Correct",
         "line": {
          "color": "#965601",
          "dash": "solid",
          "width": 1
         },
         "mode": "lines",
         "showlegend": false,
         "x": [
          6.800854682922363,
          7.3136420249938965
         ],
         "y": [
          38.779998779296875,
          53.779998779296875
         ],
         "type": "scatter",
         "xaxis": "x2",
         "yaxis": "y2"
        },
        {
         "legendgroup": "Correct",
         "line": {
          "color": "#965601",
          "dash": "solid",
          "width": 1
         },
         "mode": "lines",
         "showlegend": false,
         "x": [
          6.081182956695557,
          6.13714599609375
         ],
         "y": [
          38.779998779296875,
          53.779998779296875
         ],
         "type": "scatter",
         "xaxis": "x2",
         "yaxis": "y2"
        },
        {
         "legendgroup": "Correct",
         "line": {
          "color": "#965601",
          "dash": "solid",
          "width": 1
         },
         "mode": "lines",
         "showlegend": false,
         "x": [
          -7.029421329498291,
          -23.379867553710938
         ],
         "y": [
          53.779998779296875,
          89.77999877929688
         ],
         "type": "scatter",
         "xaxis": "x2",
         "yaxis": "y2"
        },
        {
         "legendgroup": "Correct",
         "line": {
          "color": "#965601",
          "dash": "solid",
          "width": 1
         },
         "mode": "lines",
         "showlegend": false,
         "x": [
          7.3136420249938965,
          8.265089988708496
         ],
         "y": [
          53.779998779296875,
          89.77999877929688
         ],
         "type": "scatter",
         "xaxis": "x2",
         "yaxis": "y2"
        },
        {
         "legendgroup": "Correct",
         "line": {
          "color": "#965601",
          "dash": "solid",
          "width": 1
         },
         "mode": "lines",
         "showlegend": false,
         "x": [
          6.13714599609375,
          5.837841987609863
         ],
         "y": [
          53.779998779296875,
          89.77999877929688
         ],
         "type": "scatter",
         "xaxis": "x2",
         "yaxis": "y2"
        },
        {
         "legendgroup": "Correct",
         "line": {
          "color": "#965601",
          "dash": "solid",
          "width": 1
         },
         "mode": "lines",
         "showlegend": false,
         "x": [
          8.265089988708496,
          9.849690437316895
         ],
         "y": [
          89.77999877929688,
          180.27999877929688
         ],
         "type": "scatter",
         "xaxis": "x2",
         "yaxis": "y2"
        },
        {
         "legendgroup": "Correct",
         "line": {
          "color": "#965601",
          "dash": "solid",
          "width": 1
         },
         "mode": "lines",
         "showlegend": false,
         "x": [
          5.837841987609863,
          5.634420394897461
         ],
         "y": [
          89.77999877929688,
          180.27999877929688
         ],
         "type": "scatter",
         "xaxis": "x2",
         "yaxis": "y2"
        }
       ],
       "layout": {
        "template": {
         "data": {
          "histogram2dcontour": [
           {
            "type": "histogram2dcontour",
            "colorbar": {
             "outlinewidth": 0,
             "ticks": ""
            },
            "colorscale": [
             [
              0.0,
              "#0d0887"
             ],
             [
              0.1111111111111111,
              "#46039f"
             ],
             [
              0.2222222222222222,
              "#7201a8"
             ],
             [
              0.3333333333333333,
              "#9c179e"
             ],
             [
              0.4444444444444444,
              "#bd3786"
             ],
             [
              0.5555555555555556,
              "#d8576b"
             ],
             [
              0.6666666666666666,
              "#ed7953"
             ],
             [
              0.7777777777777778,
              "#fb9f3a"
             ],
             [
              0.8888888888888888,
              "#fdca26"
             ],
             [
              1.0,
              "#f0f921"
             ]
            ]
           }
          ],
          "choropleth": [
           {
            "type": "choropleth",
            "colorbar": {
             "outlinewidth": 0,
             "ticks": ""
            }
           }
          ],
          "histogram2d": [
           {
            "type": "histogram2d",
            "colorbar": {
             "outlinewidth": 0,
             "ticks": ""
            },
            "colorscale": [
             [
              0.0,
              "#0d0887"
             ],
             [
              0.1111111111111111,
              "#46039f"
             ],
             [
              0.2222222222222222,
              "#7201a8"
             ],
             [
              0.3333333333333333,
              "#9c179e"
             ],
             [
              0.4444444444444444,
              "#bd3786"
             ],
             [
              0.5555555555555556,
              "#d8576b"
             ],
             [
              0.6666666666666666,
              "#ed7953"
             ],
             [
              0.7777777777777778,
              "#fb9f3a"
             ],
             [
              0.8888888888888888,
              "#fdca26"
             ],
             [
              1.0,
              "#f0f921"
             ]
            ]
           }
          ],
          "heatmap": [
           {
            "type": "heatmap",
            "colorbar": {
             "outlinewidth": 0,
             "ticks": ""
            },
            "colorscale": [
             [
              0.0,
              "#0d0887"
             ],
             [
              0.1111111111111111,
              "#46039f"
             ],
             [
              0.2222222222222222,
              "#7201a8"
             ],
             [
              0.3333333333333333,
              "#9c179e"
             ],
             [
              0.4444444444444444,
              "#bd3786"
             ],
             [
              0.5555555555555556,
              "#d8576b"
             ],
             [
              0.6666666666666666,
              "#ed7953"
             ],
             [
              0.7777777777777778,
              "#fb9f3a"
             ],
             [
              0.8888888888888888,
              "#fdca26"
             ],
             [
              1.0,
              "#f0f921"
             ]
            ]
           }
          ],
          "heatmapgl": [
           {
            "type": "heatmapgl",
            "colorbar": {
             "outlinewidth": 0,
             "ticks": ""
            },
            "colorscale": [
             [
              0.0,
              "#0d0887"
             ],
             [
              0.1111111111111111,
              "#46039f"
             ],
             [
              0.2222222222222222,
              "#7201a8"
             ],
             [
              0.3333333333333333,
              "#9c179e"
             ],
             [
              0.4444444444444444,
              "#bd3786"
             ],
             [
              0.5555555555555556,
              "#d8576b"
             ],
             [
              0.6666666666666666,
              "#ed7953"
             ],
             [
              0.7777777777777778,
              "#fb9f3a"
             ],
             [
              0.8888888888888888,
              "#fdca26"
             ],
             [
              1.0,
              "#f0f921"
             ]
            ]
           }
          ],
          "contourcarpet": [
           {
            "type": "contourcarpet",
            "colorbar": {
             "outlinewidth": 0,
             "ticks": ""
            }
           }
          ],
          "contour": [
           {
            "type": "contour",
            "colorbar": {
             "outlinewidth": 0,
             "ticks": ""
            },
            "colorscale": [
             [
              0.0,
              "#0d0887"
             ],
             [
              0.1111111111111111,
              "#46039f"
             ],
             [
              0.2222222222222222,
              "#7201a8"
             ],
             [
              0.3333333333333333,
              "#9c179e"
             ],
             [
              0.4444444444444444,
              "#bd3786"
             ],
             [
              0.5555555555555556,
              "#d8576b"
             ],
             [
              0.6666666666666666,
              "#ed7953"
             ],
             [
              0.7777777777777778,
              "#fb9f3a"
             ],
             [
              0.8888888888888888,
              "#fdca26"
             ],
             [
              1.0,
              "#f0f921"
             ]
            ]
           }
          ],
          "surface": [
           {
            "type": "surface",
            "colorbar": {
             "outlinewidth": 0,
             "ticks": ""
            },
            "colorscale": [
             [
              0.0,
              "#0d0887"
             ],
             [
              0.1111111111111111,
              "#46039f"
             ],
             [
              0.2222222222222222,
              "#7201a8"
             ],
             [
              0.3333333333333333,
              "#9c179e"
             ],
             [
              0.4444444444444444,
              "#bd3786"
             ],
             [
              0.5555555555555556,
              "#d8576b"
             ],
             [
              0.6666666666666666,
              "#ed7953"
             ],
             [
              0.7777777777777778,
              "#fb9f3a"
             ],
             [
              0.8888888888888888,
              "#fdca26"
             ],
             [
              1.0,
              "#f0f921"
             ]
            ]
           }
          ],
          "mesh3d": [
           {
            "type": "mesh3d",
            "colorbar": {
             "outlinewidth": 0,
             "ticks": ""
            }
           }
          ],
          "scatter": [
           {
            "fillpattern": {
             "fillmode": "overlay",
             "size": 10,
             "solidity": 0.2
            },
            "type": "scatter"
           }
          ],
          "parcoords": [
           {
            "type": "parcoords",
            "line": {
             "colorbar": {
              "outlinewidth": 0,
              "ticks": ""
             }
            }
           }
          ],
          "scatterpolargl": [
           {
            "type": "scatterpolargl",
            "marker": {
             "colorbar": {
              "outlinewidth": 0,
              "ticks": ""
             }
            }
           }
          ],
          "bar": [
           {
            "error_x": {
             "color": "#2a3f5f"
            },
            "error_y": {
             "color": "#2a3f5f"
            },
            "marker": {
             "line": {
              "color": "#E5ECF6",
              "width": 0.5
             },
             "pattern": {
              "fillmode": "overlay",
              "size": 10,
              "solidity": 0.2
             }
            },
            "type": "bar"
           }
          ],
          "scattergeo": [
           {
            "type": "scattergeo",
            "marker": {
             "colorbar": {
              "outlinewidth": 0,
              "ticks": ""
             }
            }
           }
          ],
          "scatterpolar": [
           {
            "type": "scatterpolar",
            "marker": {
             "colorbar": {
              "outlinewidth": 0,
              "ticks": ""
             }
            }
           }
          ],
          "histogram": [
           {
            "marker": {
             "pattern": {
              "fillmode": "overlay",
              "size": 10,
              "solidity": 0.2
             }
            },
            "type": "histogram"
           }
          ],
          "scattergl": [
           {
            "type": "scattergl",
            "marker": {
             "colorbar": {
              "outlinewidth": 0,
              "ticks": ""
             }
            }
           }
          ],
          "scatter3d": [
           {
            "type": "scatter3d",
            "line": {
             "colorbar": {
              "outlinewidth": 0,
              "ticks": ""
             }
            },
            "marker": {
             "colorbar": {
              "outlinewidth": 0,
              "ticks": ""
             }
            }
           }
          ],
          "scattermapbox": [
           {
            "type": "scattermapbox",
            "marker": {
             "colorbar": {
              "outlinewidth": 0,
              "ticks": ""
             }
            }
           }
          ],
          "scatterternary": [
           {
            "type": "scatterternary",
            "marker": {
             "colorbar": {
              "outlinewidth": 0,
              "ticks": ""
             }
            }
           }
          ],
          "scattercarpet": [
           {
            "type": "scattercarpet",
            "marker": {
             "colorbar": {
              "outlinewidth": 0,
              "ticks": ""
             }
            }
           }
          ],
          "carpet": [
           {
            "aaxis": {
             "endlinecolor": "#2a3f5f",
             "gridcolor": "white",
             "linecolor": "white",
             "minorgridcolor": "white",
             "startlinecolor": "#2a3f5f"
            },
            "baxis": {
             "endlinecolor": "#2a3f5f",
             "gridcolor": "white",
             "linecolor": "white",
             "minorgridcolor": "white",
             "startlinecolor": "#2a3f5f"
            },
            "type": "carpet"
           }
          ],
          "table": [
           {
            "cells": {
             "fill": {
              "color": "#EBF0F8"
             },
             "line": {
              "color": "white"
             }
            },
            "header": {
             "fill": {
              "color": "#C8D4E3"
             },
             "line": {
              "color": "white"
             }
            },
            "type": "table"
           }
          ],
          "barpolar": [
           {
            "marker": {
             "line": {
              "color": "#E5ECF6",
              "width": 0.5
             },
             "pattern": {
              "fillmode": "overlay",
              "size": 10,
              "solidity": 0.2
             }
            },
            "type": "barpolar"
           }
          ],
          "pie": [
           {
            "automargin": true,
            "type": "pie"
           }
          ]
         },
         "layout": {
          "autotypenumbers": "strict",
          "colorway": [
           "#636efa",
           "#EF553B",
           "#00cc96",
           "#ab63fa",
           "#FFA15A",
           "#19d3f3",
           "#FF6692",
           "#B6E880",
           "#FF97FF",
           "#FECB52"
          ],
          "font": {
           "color": "#2a3f5f"
          },
          "hovermode": "closest",
          "hoverlabel": {
           "align": "left"
          },
          "paper_bgcolor": "white",
          "plot_bgcolor": "#E5ECF6",
          "polar": {
           "bgcolor": "#E5ECF6",
           "angularaxis": {
            "gridcolor": "white",
            "linecolor": "white",
            "ticks": ""
           },
           "radialaxis": {
            "gridcolor": "white",
            "linecolor": "white",
            "ticks": ""
           }
          },
          "ternary": {
           "bgcolor": "#E5ECF6",
           "aaxis": {
            "gridcolor": "white",
            "linecolor": "white",
            "ticks": ""
           },
           "baxis": {
            "gridcolor": "white",
            "linecolor": "white",
            "ticks": ""
           },
           "caxis": {
            "gridcolor": "white",
            "linecolor": "white",
            "ticks": ""
           }
          },
          "coloraxis": {
           "colorbar": {
            "outlinewidth": 0,
            "ticks": ""
           }
          },
          "colorscale": {
           "sequential": [
            [
             0.0,
             "#0d0887"
            ],
            [
             0.1111111111111111,
             "#46039f"
            ],
            [
             0.2222222222222222,
             "#7201a8"
            ],
            [
             0.3333333333333333,
             "#9c179e"
            ],
            [
             0.4444444444444444,
             "#bd3786"
            ],
            [
             0.5555555555555556,
             "#d8576b"
            ],
            [
             0.6666666666666666,
             "#ed7953"
            ],
            [
             0.7777777777777778,
             "#fb9f3a"
            ],
            [
             0.8888888888888888,
             "#fdca26"
            ],
            [
             1.0,
             "#f0f921"
            ]
           ],
           "sequentialminus": [
            [
             0.0,
             "#0d0887"
            ],
            [
             0.1111111111111111,
             "#46039f"
            ],
            [
             0.2222222222222222,
             "#7201a8"
            ],
            [
             0.3333333333333333,
             "#9c179e"
            ],
            [
             0.4444444444444444,
             "#bd3786"
            ],
            [
             0.5555555555555556,
             "#d8576b"
            ],
            [
             0.6666666666666666,
             "#ed7953"
            ],
            [
             0.7777777777777778,
             "#fb9f3a"
            ],
            [
             0.8888888888888888,
             "#fdca26"
            ],
            [
             1.0,
             "#f0f921"
            ]
           ],
           "diverging": [
            [
             0,
             "#8e0152"
            ],
            [
             0.1,
             "#c51b7d"
            ],
            [
             0.2,
             "#de77ae"
            ],
            [
             0.3,
             "#f1b6da"
            ],
            [
             0.4,
             "#fde0ef"
            ],
            [
             0.5,
             "#f7f7f7"
            ],
            [
             0.6,
             "#e6f5d0"
            ],
            [
             0.7,
             "#b8e186"
            ],
            [
             0.8,
             "#7fbc41"
            ],
            [
             0.9,
             "#4d9221"
            ],
            [
             1,
             "#276419"
            ]
           ]
          },
          "xaxis": {
           "gridcolor": "white",
           "linecolor": "white",
           "ticks": "",
           "title": {
            "standoff": 15
           },
           "zerolinecolor": "white",
           "automargin": true,
           "zerolinewidth": 2
          },
          "yaxis": {
           "gridcolor": "white",
           "linecolor": "white",
           "ticks": "",
           "title": {
            "standoff": 15
           },
           "zerolinecolor": "white",
           "automargin": true,
           "zerolinewidth": 2
          },
          "scene": {
           "xaxis": {
            "backgroundcolor": "#E5ECF6",
            "gridcolor": "white",
            "linecolor": "white",
            "showbackground": true,
            "ticks": "",
            "zerolinecolor": "white",
            "gridwidth": 2
           },
           "yaxis": {
            "backgroundcolor": "#E5ECF6",
            "gridcolor": "white",
            "linecolor": "white",
            "showbackground": true,
            "ticks": "",
            "zerolinecolor": "white",
            "gridwidth": 2
           },
           "zaxis": {
            "backgroundcolor": "#E5ECF6",
            "gridcolor": "white",
            "linecolor": "white",
            "showbackground": true,
            "ticks": "",
            "zerolinecolor": "white",
            "gridwidth": 2
           }
          },
          "shapedefaults": {
           "line": {
            "color": "#2a3f5f"
           }
          },
          "annotationdefaults": {
           "arrowcolor": "#2a3f5f",
           "arrowhead": 0,
           "arrowwidth": 1
          },
          "geo": {
           "bgcolor": "white",
           "landcolor": "#E5ECF6",
           "subunitcolor": "white",
           "showland": true,
           "showlakes": true,
           "lakecolor": "white"
          },
          "title": {
           "x": 0.05
          },
          "mapbox": {
           "style": "light"
          }
         }
        },
        "xaxis": {
         "anchor": "y",
         "domain": [
          0.0,
          0.5
         ],
         "title": {
          "text": "x [mm]"
         },
         "range": [
          -275,
          275
         ],
         "showgrid": false,
         "mirror": true,
         "linecolor": "#666666",
         "gridcolor": "#d9d9d9",
         "zeroline": false
        },
        "yaxis": {
         "anchor": "x",
         "domain": [
          0.0,
          1.0
         ],
         "title": {
          "text": "z [mm]"
         },
         "showgrid": false,
         "mirror": true,
         "linecolor": "#666666",
         "gridcolor": "#d9d9d9",
         "zeroline": false
        },
        "xaxis2": {
         "anchor": "y2",
         "domain": [
          0.5,
          1.0
         ],
         "title": {
          "text": "y [mm]"
         },
         "range": [
          -275,
          275
         ],
         "showgrid": false,
         "mirror": true,
         "linecolor": "#666666",
         "gridcolor": "#d9d9d9",
         "zeroline": false
        },
        "yaxis2": {
         "anchor": "x2",
         "domain": [
          0.0,
          1.0
         ],
         "matches": "y",
         "showticklabels": false,
         "title": {
          "text": ""
         },
         "showgrid": false,
         "mirror": true,
         "linecolor": "#666666",
         "gridcolor": "#d9d9d9",
         "zeroline": false
        },
        "legend": {
         "orientation": "h",
         "yanchor": "bottom",
         "y": 1.01,
         "xanchor": "right",
         "x": 0.99,
         "traceorder": "reversed"
        },
        "width": 1200,
        "height": 700,
        "autosize": false,
        "paper_bgcolor": "rgba(0,0,0,0)",
        "plot_bgcolor": "rgba(0,0,0,0)"
       },
       "config": {
        "plotlyServerURL": "https://plot.ly"
       }
      },
      "text/html": "<div>                            <div id=\"65ced559-f6db-481d-8a83-4a462bf1f9b2\" class=\"plotly-graph-div\" style=\"height:700px; width:1200px;\"></div>            <script type=\"text/javascript\">                require([\"plotly\"], function(Plotly) {                    window.PLOTLYENV=window.PLOTLYENV || {};                                    if (document.getElementById(\"65ced559-f6db-481d-8a83-4a462bf1f9b2\")) {                    Plotly.newPlot(                        \"65ced559-f6db-481d-8a83-4a462bf1f9b2\",                        [{\"marker\":{\"color\":\"#965601\",\"size\":7},\"mode\":\"markers\",\"showlegend\":false,\"x\":[-4.425000190734863,-4.425000190734863,-4.425000190734863,-3.555000066757202,-3.555000066757202,-3.555000066757202,-3.7199997901916504,-3.7199997901916504,-3.7199997901916504,-7.319999694824219,-7.319999694824219,-7.319999694824219,-3.765000104904175,-3.765000104904175,-3.765000104904175,-4.275000095367432,-4.275000095367432,-4.275000095367432,-12.239999771118164,-4.079999923706055,-4.079999923706055,-4.855000019073486,-4.855000019073486,-18.94499969482422,-4.425000190734863,-4.425000190734863,-5.385000228881836,-5.385000228881836,-46.814998626708984,-5.534999847412109,-5.534999847412109,-6.585000038146973,-6.585000038146973,-9.824999809265137,-9.28499984741211,-8.573912620544434,-7.425000190734863,-9.824999809265137,-9.824999809265137,-9.28499984741211,-9.28499984741211,-8.573912620544434,-8.573912620544434,-7.425000190734863,-7.425000190734863,-9.824999809265137,-9.28499984741211,-8.573912620544434,-7.425000190734863],\"y\":[7.779999732971191,7.779999732971191,7.779999732971191,7.779999732971191,7.779999732971191,7.779999732971191,7.779999732971191,7.779999732971191,7.779999732971191,22.779998779296875,22.779998779296875,22.779998779296875,22.779998779296875,22.779998779296875,22.779998779296875,22.779998779296875,22.779998779296875,22.779998779296875,38.779998779296875,38.779998779296875,38.779998779296875,38.779998779296875,38.779998779296875,53.779998779296875,53.779998779296875,53.779998779296875,53.779998779296875,53.779998779296875,89.77999877929688,89.77999877929688,89.77999877929688,89.77999877929688,89.77999877929688,180.2799835205078,180.2799835205078,180.2799835205078,180.2799835205078,180.27999877929688,180.27999877929688,180.27999877929688,180.27999877929688,180.27999877929688,180.27999877929688,180.27999877929688,180.27999877929688,180.280029296875,180.280029296875,180.280029296875,180.280029296875],\"type\":\"scatter\",\"xaxis\":\"x\",\"yaxis\":\"y\"},{\"legendgroup\":\"Correct\",\"line\":{\"color\":\"#965601\",\"dash\":\"solid\",\"width\":1},\"mode\":\"lines\",\"name\":\"Correct\",\"showlegend\":false,\"x\":[-4.425000190734863,-7.319999694824219],\"y\":[7.779999732971191,22.779998779296875],\"type\":\"scatter\",\"xaxis\":\"x\",\"yaxis\":\"y\"},{\"legendgroup\":\"Correct\",\"line\":{\"color\":\"#965601\",\"dash\":\"solid\",\"width\":1},\"mode\":\"lines\",\"showlegend\":false,\"x\":[-3.555000066757202,-3.765000104904175],\"y\":[7.779999732971191,22.779998779296875],\"type\":\"scatter\",\"xaxis\":\"x\",\"yaxis\":\"y\"},{\"legendgroup\":\"Correct\",\"line\":{\"color\":\"#965601\",\"dash\":\"solid\",\"width\":1},\"mode\":\"lines\",\"showlegend\":false,\"x\":[-3.7199997901916504,-4.275000095367432],\"y\":[7.779999732971191,22.779998779296875],\"type\":\"scatter\",\"xaxis\":\"x\",\"yaxis\":\"y\"},{\"legendgroup\":\"Correct\",\"line\":{\"color\":\"#965601\",\"dash\":\"solid\",\"width\":1},\"mode\":\"lines\",\"showlegend\":false,\"x\":[-7.319999694824219,-12.239999771118164],\"y\":[22.779998779296875,38.779998779296875],\"type\":\"scatter\",\"xaxis\":\"x\",\"yaxis\":\"y\"},{\"legendgroup\":\"Correct\",\"line\":{\"color\":\"#965601\",\"dash\":\"solid\",\"width\":1},\"mode\":\"lines\",\"showlegend\":false,\"x\":[-3.765000104904175,-4.079999923706055],\"y\":[22.779998779296875,38.779998779296875],\"type\":\"scatter\",\"xaxis\":\"x\",\"yaxis\":\"y\"},{\"legendgroup\":\"Correct\",\"line\":{\"color\":\"#965601\",\"dash\":\"solid\",\"width\":1},\"mode\":\"lines\",\"showlegend\":false,\"x\":[-4.275000095367432,-4.855000019073486],\"y\":[22.779998779296875,38.779998779296875],\"type\":\"scatter\",\"xaxis\":\"x\",\"yaxis\":\"y\"},{\"legendgroup\":\"Correct\",\"line\":{\"color\":\"#965601\",\"dash\":\"solid\",\"width\":1},\"mode\":\"lines\",\"showlegend\":false,\"x\":[-12.239999771118164,-18.94499969482422],\"y\":[38.779998779296875,53.779998779296875],\"type\":\"scatter\",\"xaxis\":\"x\",\"yaxis\":\"y\"},{\"legendgroup\":\"Correct\",\"line\":{\"color\":\"#965601\",\"dash\":\"solid\",\"width\":1},\"mode\":\"lines\",\"showlegend\":false,\"x\":[-4.079999923706055,-4.425000190734863],\"y\":[38.779998779296875,53.779998779296875],\"type\":\"scatter\",\"xaxis\":\"x\",\"yaxis\":\"y\"},{\"legendgroup\":\"Correct\",\"line\":{\"color\":\"#965601\",\"dash\":\"solid\",\"width\":1},\"mode\":\"lines\",\"showlegend\":false,\"x\":[-4.855000019073486,-5.385000228881836],\"y\":[38.779998779296875,53.779998779296875],\"type\":\"scatter\",\"xaxis\":\"x\",\"yaxis\":\"y\"},{\"legendgroup\":\"Correct\",\"line\":{\"color\":\"#965601\",\"dash\":\"solid\",\"width\":1},\"mode\":\"lines\",\"showlegend\":false,\"x\":[-18.94499969482422,-46.814998626708984],\"y\":[53.779998779296875,89.77999877929688],\"type\":\"scatter\",\"xaxis\":\"x\",\"yaxis\":\"y\"},{\"legendgroup\":\"Correct\",\"line\":{\"color\":\"#965601\",\"dash\":\"solid\",\"width\":1},\"mode\":\"lines\",\"showlegend\":false,\"x\":[-4.425000190734863,-5.534999847412109],\"y\":[53.779998779296875,89.77999877929688],\"type\":\"scatter\",\"xaxis\":\"x\",\"yaxis\":\"y\"},{\"legendgroup\":\"Correct\",\"line\":{\"color\":\"#965601\",\"dash\":\"solid\",\"width\":1},\"mode\":\"lines\",\"showlegend\":false,\"x\":[-5.385000228881836,-6.585000038146973],\"y\":[53.779998779296875,89.77999877929688],\"type\":\"scatter\",\"xaxis\":\"x\",\"yaxis\":\"y\"},{\"legendgroup\":\"Correct\",\"line\":{\"color\":\"#965601\",\"dash\":\"solid\",\"width\":1},\"mode\":\"lines\",\"showlegend\":false,\"x\":[-5.534999847412109,-9.824999809265137],\"y\":[89.77999877929688,180.27999877929688],\"type\":\"scatter\",\"xaxis\":\"x\",\"yaxis\":\"y\"},{\"legendgroup\":\"Correct\",\"line\":{\"color\":\"#965601\",\"dash\":\"solid\",\"width\":1},\"mode\":\"lines\",\"showlegend\":false,\"x\":[-6.585000038146973,-9.28499984741211],\"y\":[89.77999877929688,180.27999877929688],\"type\":\"scatter\",\"xaxis\":\"x\",\"yaxis\":\"y\"},{\"marker\":{\"color\":\"#965601\",\"size\":7},\"mode\":\"markers\",\"showlegend\":false,\"x\":[3.7909772396087646,23.899356842041016,20.2978572845459,-13.594522476196289,6.513856887817383,2.9123573303222656,-10.29727840423584,9.811100959777832,6.209601402282715,0.7832978367805481,-64.34383392333984,-54.73983383178711,71.82402801513672,6.696894645690918,16.30089569091797,61.632530212402344,-3.4946038722991943,6.109397888183594,-4.807941436767578,6.800854682922363,-9.405900001525879,22.28793716430664,6.081182956695557,-7.029421329498291,7.3136420249938965,25.321144104003906,-11.870356559753418,6.13714599609375,-23.379867553710938,8.265089988708496,-15.144659042358398,29.247591018676758,5.837841987609863,-12.335246086120605,-1.544248104095459,12.665642738342285,35.62474060058594,9.849690437316895,-5.1565775871276855,20.640687942504883,5.634420394897461,34.85057830810547,19.844310760498047,57.80967712402344,42.803409576416016,-18.45547866821289,-7.6644816398620605,6.545409202575684,29.504507064819336],\"y\":[7.779999732971191,7.779999732971191,7.779999732971191,7.779999732971191,7.779999732971191,7.779999732971191,7.779999732971191,7.779999732971191,7.779999732971191,22.779998779296875,22.779998779296875,22.779998779296875,22.779998779296875,22.779998779296875,22.779998779296875,22.779998779296875,22.779998779296875,22.779998779296875,38.779998779296875,38.779998779296875,38.779998779296875,38.779998779296875,38.779998779296875,53.779998779296875,53.779998779296875,53.779998779296875,53.779998779296875,53.779998779296875,89.77999877929688,89.77999877929688,89.77999877929688,89.77999877929688,89.77999877929688,180.2799835205078,180.2799835205078,180.2799835205078,180.2799835205078,180.27999877929688,180.27999877929688,180.27999877929688,180.27999877929688,180.27999877929688,180.27999877929688,180.27999877929688,180.27999877929688,180.280029296875,180.280029296875,180.280029296875,180.280029296875],\"type\":\"scatter\",\"xaxis\":\"x2\",\"yaxis\":\"y2\"},{\"legendgroup\":\"Correct\",\"line\":{\"color\":\"#965601\",\"dash\":\"solid\",\"width\":1},\"mode\":\"lines\",\"showlegend\":false,\"x\":[3.7909772396087646,0.7832978367805481],\"y\":[7.779999732971191,22.779998779296875],\"type\":\"scatter\",\"xaxis\":\"x2\",\"yaxis\":\"y2\"},{\"legendgroup\":\"Correct\",\"line\":{\"color\":\"#965601\",\"dash\":\"solid\",\"width\":1},\"mode\":\"lines\",\"showlegend\":false,\"x\":[6.513856887817383,6.696894645690918],\"y\":[7.779999732971191,22.779998779296875],\"type\":\"scatter\",\"xaxis\":\"x2\",\"yaxis\":\"y2\"},{\"legendgroup\":\"Correct\",\"line\":{\"color\":\"#965601\",\"dash\":\"solid\",\"width\":1},\"mode\":\"lines\",\"showlegend\":false,\"x\":[6.209601402282715,6.109397888183594],\"y\":[7.779999732971191,22.779998779296875],\"type\":\"scatter\",\"xaxis\":\"x2\",\"yaxis\":\"y2\"},{\"legendgroup\":\"Correct\",\"line\":{\"color\":\"#965601\",\"dash\":\"solid\",\"width\":1},\"mode\":\"lines\",\"showlegend\":false,\"x\":[0.7832978367805481,-4.807941436767578],\"y\":[22.779998779296875,38.779998779296875],\"type\":\"scatter\",\"xaxis\":\"x2\",\"yaxis\":\"y2\"},{\"legendgroup\":\"Correct\",\"line\":{\"color\":\"#965601\",\"dash\":\"solid\",\"width\":1},\"mode\":\"lines\",\"showlegend\":false,\"x\":[6.696894645690918,6.800854682922363],\"y\":[22.779998779296875,38.779998779296875],\"type\":\"scatter\",\"xaxis\":\"x2\",\"yaxis\":\"y2\"},{\"legendgroup\":\"Correct\",\"line\":{\"color\":\"#965601\",\"dash\":\"solid\",\"width\":1},\"mode\":\"lines\",\"showlegend\":false,\"x\":[6.109397888183594,6.081182956695557],\"y\":[22.779998779296875,38.779998779296875],\"type\":\"scatter\",\"xaxis\":\"x2\",\"yaxis\":\"y2\"},{\"legendgroup\":\"Correct\",\"line\":{\"color\":\"#965601\",\"dash\":\"solid\",\"width\":1},\"mode\":\"lines\",\"showlegend\":false,\"x\":[-4.807941436767578,-7.029421329498291],\"y\":[38.779998779296875,53.779998779296875],\"type\":\"scatter\",\"xaxis\":\"x2\",\"yaxis\":\"y2\"},{\"legendgroup\":\"Correct\",\"line\":{\"color\":\"#965601\",\"dash\":\"solid\",\"width\":1},\"mode\":\"lines\",\"showlegend\":false,\"x\":[6.800854682922363,7.3136420249938965],\"y\":[38.779998779296875,53.779998779296875],\"type\":\"scatter\",\"xaxis\":\"x2\",\"yaxis\":\"y2\"},{\"legendgroup\":\"Correct\",\"line\":{\"color\":\"#965601\",\"dash\":\"solid\",\"width\":1},\"mode\":\"lines\",\"showlegend\":false,\"x\":[6.081182956695557,6.13714599609375],\"y\":[38.779998779296875,53.779998779296875],\"type\":\"scatter\",\"xaxis\":\"x2\",\"yaxis\":\"y2\"},{\"legendgroup\":\"Correct\",\"line\":{\"color\":\"#965601\",\"dash\":\"solid\",\"width\":1},\"mode\":\"lines\",\"showlegend\":false,\"x\":[-7.029421329498291,-23.379867553710938],\"y\":[53.779998779296875,89.77999877929688],\"type\":\"scatter\",\"xaxis\":\"x2\",\"yaxis\":\"y2\"},{\"legendgroup\":\"Correct\",\"line\":{\"color\":\"#965601\",\"dash\":\"solid\",\"width\":1},\"mode\":\"lines\",\"showlegend\":false,\"x\":[7.3136420249938965,8.265089988708496],\"y\":[53.779998779296875,89.77999877929688],\"type\":\"scatter\",\"xaxis\":\"x2\",\"yaxis\":\"y2\"},{\"legendgroup\":\"Correct\",\"line\":{\"color\":\"#965601\",\"dash\":\"solid\",\"width\":1},\"mode\":\"lines\",\"showlegend\":false,\"x\":[6.13714599609375,5.837841987609863],\"y\":[53.779998779296875,89.77999877929688],\"type\":\"scatter\",\"xaxis\":\"x2\",\"yaxis\":\"y2\"},{\"legendgroup\":\"Correct\",\"line\":{\"color\":\"#965601\",\"dash\":\"solid\",\"width\":1},\"mode\":\"lines\",\"showlegend\":false,\"x\":[8.265089988708496,9.849690437316895],\"y\":[89.77999877929688,180.27999877929688],\"type\":\"scatter\",\"xaxis\":\"x2\",\"yaxis\":\"y2\"},{\"legendgroup\":\"Correct\",\"line\":{\"color\":\"#965601\",\"dash\":\"solid\",\"width\":1},\"mode\":\"lines\",\"showlegend\":false,\"x\":[5.837841987609863,5.634420394897461],\"y\":[89.77999877929688,180.27999877929688],\"type\":\"scatter\",\"xaxis\":\"x2\",\"yaxis\":\"y2\"}],                        {\"template\":{\"data\":{\"histogram2dcontour\":[{\"type\":\"histogram2dcontour\",\"colorbar\":{\"outlinewidth\":0,\"ticks\":\"\"},\"colorscale\":[[0.0,\"#0d0887\"],[0.1111111111111111,\"#46039f\"],[0.2222222222222222,\"#7201a8\"],[0.3333333333333333,\"#9c179e\"],[0.4444444444444444,\"#bd3786\"],[0.5555555555555556,\"#d8576b\"],[0.6666666666666666,\"#ed7953\"],[0.7777777777777778,\"#fb9f3a\"],[0.8888888888888888,\"#fdca26\"],[1.0,\"#f0f921\"]]}],\"choropleth\":[{\"type\":\"choropleth\",\"colorbar\":{\"outlinewidth\":0,\"ticks\":\"\"}}],\"histogram2d\":[{\"type\":\"histogram2d\",\"colorbar\":{\"outlinewidth\":0,\"ticks\":\"\"},\"colorscale\":[[0.0,\"#0d0887\"],[0.1111111111111111,\"#46039f\"],[0.2222222222222222,\"#7201a8\"],[0.3333333333333333,\"#9c179e\"],[0.4444444444444444,\"#bd3786\"],[0.5555555555555556,\"#d8576b\"],[0.6666666666666666,\"#ed7953\"],[0.7777777777777778,\"#fb9f3a\"],[0.8888888888888888,\"#fdca26\"],[1.0,\"#f0f921\"]]}],\"heatmap\":[{\"type\":\"heatmap\",\"colorbar\":{\"outlinewidth\":0,\"ticks\":\"\"},\"colorscale\":[[0.0,\"#0d0887\"],[0.1111111111111111,\"#46039f\"],[0.2222222222222222,\"#7201a8\"],[0.3333333333333333,\"#9c179e\"],[0.4444444444444444,\"#bd3786\"],[0.5555555555555556,\"#d8576b\"],[0.6666666666666666,\"#ed7953\"],[0.7777777777777778,\"#fb9f3a\"],[0.8888888888888888,\"#fdca26\"],[1.0,\"#f0f921\"]]}],\"heatmapgl\":[{\"type\":\"heatmapgl\",\"colorbar\":{\"outlinewidth\":0,\"ticks\":\"\"},\"colorscale\":[[0.0,\"#0d0887\"],[0.1111111111111111,\"#46039f\"],[0.2222222222222222,\"#7201a8\"],[0.3333333333333333,\"#9c179e\"],[0.4444444444444444,\"#bd3786\"],[0.5555555555555556,\"#d8576b\"],[0.6666666666666666,\"#ed7953\"],[0.7777777777777778,\"#fb9f3a\"],[0.8888888888888888,\"#fdca26\"],[1.0,\"#f0f921\"]]}],\"contourcarpet\":[{\"type\":\"contourcarpet\",\"colorbar\":{\"outlinewidth\":0,\"ticks\":\"\"}}],\"contour\":[{\"type\":\"contour\",\"colorbar\":{\"outlinewidth\":0,\"ticks\":\"\"},\"colorscale\":[[0.0,\"#0d0887\"],[0.1111111111111111,\"#46039f\"],[0.2222222222222222,\"#7201a8\"],[0.3333333333333333,\"#9c179e\"],[0.4444444444444444,\"#bd3786\"],[0.5555555555555556,\"#d8576b\"],[0.6666666666666666,\"#ed7953\"],[0.7777777777777778,\"#fb9f3a\"],[0.8888888888888888,\"#fdca26\"],[1.0,\"#f0f921\"]]}],\"surface\":[{\"type\":\"surface\",\"colorbar\":{\"outlinewidth\":0,\"ticks\":\"\"},\"colorscale\":[[0.0,\"#0d0887\"],[0.1111111111111111,\"#46039f\"],[0.2222222222222222,\"#7201a8\"],[0.3333333333333333,\"#9c179e\"],[0.4444444444444444,\"#bd3786\"],[0.5555555555555556,\"#d8576b\"],[0.6666666666666666,\"#ed7953\"],[0.7777777777777778,\"#fb9f3a\"],[0.8888888888888888,\"#fdca26\"],[1.0,\"#f0f921\"]]}],\"mesh3d\":[{\"type\":\"mesh3d\",\"colorbar\":{\"outlinewidth\":0,\"ticks\":\"\"}}],\"scatter\":[{\"fillpattern\":{\"fillmode\":\"overlay\",\"size\":10,\"solidity\":0.2},\"type\":\"scatter\"}],\"parcoords\":[{\"type\":\"parcoords\",\"line\":{\"colorbar\":{\"outlinewidth\":0,\"ticks\":\"\"}}}],\"scatterpolargl\":[{\"type\":\"scatterpolargl\",\"marker\":{\"colorbar\":{\"outlinewidth\":0,\"ticks\":\"\"}}}],\"bar\":[{\"error_x\":{\"color\":\"#2a3f5f\"},\"error_y\":{\"color\":\"#2a3f5f\"},\"marker\":{\"line\":{\"color\":\"#E5ECF6\",\"width\":0.5},\"pattern\":{\"fillmode\":\"overlay\",\"size\":10,\"solidity\":0.2}},\"type\":\"bar\"}],\"scattergeo\":[{\"type\":\"scattergeo\",\"marker\":{\"colorbar\":{\"outlinewidth\":0,\"ticks\":\"\"}}}],\"scatterpolar\":[{\"type\":\"scatterpolar\",\"marker\":{\"colorbar\":{\"outlinewidth\":0,\"ticks\":\"\"}}}],\"histogram\":[{\"marker\":{\"pattern\":{\"fillmode\":\"overlay\",\"size\":10,\"solidity\":0.2}},\"type\":\"histogram\"}],\"scattergl\":[{\"type\":\"scattergl\",\"marker\":{\"colorbar\":{\"outlinewidth\":0,\"ticks\":\"\"}}}],\"scatter3d\":[{\"type\":\"scatter3d\",\"line\":{\"colorbar\":{\"outlinewidth\":0,\"ticks\":\"\"}},\"marker\":{\"colorbar\":{\"outlinewidth\":0,\"ticks\":\"\"}}}],\"scattermapbox\":[{\"type\":\"scattermapbox\",\"marker\":{\"colorbar\":{\"outlinewidth\":0,\"ticks\":\"\"}}}],\"scatterternary\":[{\"type\":\"scatterternary\",\"marker\":{\"colorbar\":{\"outlinewidth\":0,\"ticks\":\"\"}}}],\"scattercarpet\":[{\"type\":\"scattercarpet\",\"marker\":{\"colorbar\":{\"outlinewidth\":0,\"ticks\":\"\"}}}],\"carpet\":[{\"aaxis\":{\"endlinecolor\":\"#2a3f5f\",\"gridcolor\":\"white\",\"linecolor\":\"white\",\"minorgridcolor\":\"white\",\"startlinecolor\":\"#2a3f5f\"},\"baxis\":{\"endlinecolor\":\"#2a3f5f\",\"gridcolor\":\"white\",\"linecolor\":\"white\",\"minorgridcolor\":\"white\",\"startlinecolor\":\"#2a3f5f\"},\"type\":\"carpet\"}],\"table\":[{\"cells\":{\"fill\":{\"color\":\"#EBF0F8\"},\"line\":{\"color\":\"white\"}},\"header\":{\"fill\":{\"color\":\"#C8D4E3\"},\"line\":{\"color\":\"white\"}},\"type\":\"table\"}],\"barpolar\":[{\"marker\":{\"line\":{\"color\":\"#E5ECF6\",\"width\":0.5},\"pattern\":{\"fillmode\":\"overlay\",\"size\":10,\"solidity\":0.2}},\"type\":\"barpolar\"}],\"pie\":[{\"automargin\":true,\"type\":\"pie\"}]},\"layout\":{\"autotypenumbers\":\"strict\",\"colorway\":[\"#636efa\",\"#EF553B\",\"#00cc96\",\"#ab63fa\",\"#FFA15A\",\"#19d3f3\",\"#FF6692\",\"#B6E880\",\"#FF97FF\",\"#FECB52\"],\"font\":{\"color\":\"#2a3f5f\"},\"hovermode\":\"closest\",\"hoverlabel\":{\"align\":\"left\"},\"paper_bgcolor\":\"white\",\"plot_bgcolor\":\"#E5ECF6\",\"polar\":{\"bgcolor\":\"#E5ECF6\",\"angularaxis\":{\"gridcolor\":\"white\",\"linecolor\":\"white\",\"ticks\":\"\"},\"radialaxis\":{\"gridcolor\":\"white\",\"linecolor\":\"white\",\"ticks\":\"\"}},\"ternary\":{\"bgcolor\":\"#E5ECF6\",\"aaxis\":{\"gridcolor\":\"white\",\"linecolor\":\"white\",\"ticks\":\"\"},\"baxis\":{\"gridcolor\":\"white\",\"linecolor\":\"white\",\"ticks\":\"\"},\"caxis\":{\"gridcolor\":\"white\",\"linecolor\":\"white\",\"ticks\":\"\"}},\"coloraxis\":{\"colorbar\":{\"outlinewidth\":0,\"ticks\":\"\"}},\"colorscale\":{\"sequential\":[[0.0,\"#0d0887\"],[0.1111111111111111,\"#46039f\"],[0.2222222222222222,\"#7201a8\"],[0.3333333333333333,\"#9c179e\"],[0.4444444444444444,\"#bd3786\"],[0.5555555555555556,\"#d8576b\"],[0.6666666666666666,\"#ed7953\"],[0.7777777777777778,\"#fb9f3a\"],[0.8888888888888888,\"#fdca26\"],[1.0,\"#f0f921\"]],\"sequentialminus\":[[0.0,\"#0d0887\"],[0.1111111111111111,\"#46039f\"],[0.2222222222222222,\"#7201a8\"],[0.3333333333333333,\"#9c179e\"],[0.4444444444444444,\"#bd3786\"],[0.5555555555555556,\"#d8576b\"],[0.6666666666666666,\"#ed7953\"],[0.7777777777777778,\"#fb9f3a\"],[0.8888888888888888,\"#fdca26\"],[1.0,\"#f0f921\"]],\"diverging\":[[0,\"#8e0152\"],[0.1,\"#c51b7d\"],[0.2,\"#de77ae\"],[0.3,\"#f1b6da\"],[0.4,\"#fde0ef\"],[0.5,\"#f7f7f7\"],[0.6,\"#e6f5d0\"],[0.7,\"#b8e186\"],[0.8,\"#7fbc41\"],[0.9,\"#4d9221\"],[1,\"#276419\"]]},\"xaxis\":{\"gridcolor\":\"white\",\"linecolor\":\"white\",\"ticks\":\"\",\"title\":{\"standoff\":15},\"zerolinecolor\":\"white\",\"automargin\":true,\"zerolinewidth\":2},\"yaxis\":{\"gridcolor\":\"white\",\"linecolor\":\"white\",\"ticks\":\"\",\"title\":{\"standoff\":15},\"zerolinecolor\":\"white\",\"automargin\":true,\"zerolinewidth\":2},\"scene\":{\"xaxis\":{\"backgroundcolor\":\"#E5ECF6\",\"gridcolor\":\"white\",\"linecolor\":\"white\",\"showbackground\":true,\"ticks\":\"\",\"zerolinecolor\":\"white\",\"gridwidth\":2},\"yaxis\":{\"backgroundcolor\":\"#E5ECF6\",\"gridcolor\":\"white\",\"linecolor\":\"white\",\"showbackground\":true,\"ticks\":\"\",\"zerolinecolor\":\"white\",\"gridwidth\":2},\"zaxis\":{\"backgroundcolor\":\"#E5ECF6\",\"gridcolor\":\"white\",\"linecolor\":\"white\",\"showbackground\":true,\"ticks\":\"\",\"zerolinecolor\":\"white\",\"gridwidth\":2}},\"shapedefaults\":{\"line\":{\"color\":\"#2a3f5f\"}},\"annotationdefaults\":{\"arrowcolor\":\"#2a3f5f\",\"arrowhead\":0,\"arrowwidth\":1},\"geo\":{\"bgcolor\":\"white\",\"landcolor\":\"#E5ECF6\",\"subunitcolor\":\"white\",\"showland\":true,\"showlakes\":true,\"lakecolor\":\"white\"},\"title\":{\"x\":0.05},\"mapbox\":{\"style\":\"light\"}}},\"xaxis\":{\"anchor\":\"y\",\"domain\":[0.0,0.5],\"title\":{\"text\":\"x [mm]\"},\"range\":[-275,275],\"showgrid\":false,\"mirror\":true,\"linecolor\":\"#666666\",\"gridcolor\":\"#d9d9d9\",\"zeroline\":false},\"yaxis\":{\"anchor\":\"x\",\"domain\":[0.0,1.0],\"title\":{\"text\":\"z [mm]\"},\"showgrid\":false,\"mirror\":true,\"linecolor\":\"#666666\",\"gridcolor\":\"#d9d9d9\",\"zeroline\":false},\"xaxis2\":{\"anchor\":\"y2\",\"domain\":[0.5,1.0],\"title\":{\"text\":\"y [mm]\"},\"range\":[-275,275],\"showgrid\":false,\"mirror\":true,\"linecolor\":\"#666666\",\"gridcolor\":\"#d9d9d9\",\"zeroline\":false},\"yaxis2\":{\"anchor\":\"x2\",\"domain\":[0.0,1.0],\"matches\":\"y\",\"showticklabels\":false,\"title\":{\"text\":\"\"},\"showgrid\":false,\"mirror\":true,\"linecolor\":\"#666666\",\"gridcolor\":\"#d9d9d9\",\"zeroline\":false},\"legend\":{\"orientation\":\"h\",\"yanchor\":\"bottom\",\"y\":1.01,\"xanchor\":\"right\",\"x\":0.99,\"traceorder\":\"reversed\"},\"width\":1200,\"height\":700,\"autosize\":false,\"paper_bgcolor\":\"rgba(0,0,0,0)\",\"plot_bgcolor\":\"rgba(0,0,0,0)\"},                        {\"responsive\": true}                    ).then(function(){\n                            \nvar gd = document.getElementById('65ced559-f6db-481d-8a83-4a462bf1f9b2');\nvar x = new MutationObserver(function (mutations, observer) {{\n        var display = window.getComputedStyle(gd).display;\n        if (!display || display === 'none') {{\n            console.log([gd, 'removed!']);\n            Plotly.purge(gd);\n            observer.disconnect();\n        }}\n}});\n\n// Listen for the removal of the full notebook cells\nvar notebookContainer = gd.closest('#notebook-container');\nif (notebookContainer) {{\n    x.observe(notebookContainer, {childList: true});\n}}\n\n// Listen for the clearing of the current output cell\nvar outputEl = gd.closest('.output');\nif (outputEl) {{\n    x.observe(outputEl, {childList: true});\n}}\n\n                        })                };                });            </script>        </div>"
     },
     "metadata": {},
     "output_type": "display_data"
    }
   ],
   "source": [
    "df_node, df_edge, batch = get_event(\n",
    "    # input_dir='/Users/avencast/PycharmProjects/trkgnn/workspace/bepc.magnet/Tracker_GNN.root',\n",
    "    input_dir='/Users/avencast/CLionProjects/darkshine-simulation/workspace/Tracker_GNN.root',\n",
    "    collection='DigitizedRecTrk',\n",
    "    index=27\n",
    ")\n",
    "\n",
    "print(f'{get_memory_size_MB(batch):.3f} MB')\n",
    "\n",
    "plot_xyz_plotly(df_node, df_edge, threshold=0.5, no_predict=True)"
   ],
   "metadata": {
    "collapsed": false,
    "ExecuteTime": {
     "end_time": "2023-10-17T09:04:32.299652Z",
     "start_time": "2023-10-17T09:04:32.217565Z"
    }
   }
  },
  {
   "cell_type": "code",
   "execution_count": null,
   "outputs": [],
   "source": [
    "# plot_xyz_plotly_3d(df_node, df_edge, threshold=0.1, no_predict=True)"
   ],
   "metadata": {
    "collapsed": false
   }
  },
  {
   "cell_type": "code",
   "execution_count": null,
   "outputs": [],
   "source": [
    "from visualization.scripts.plotting import read_local_csv, visual_summary_log"
   ],
   "metadata": {
    "collapsed": false
   }
  },
  {
   "cell_type": "code",
   "execution_count": null,
   "outputs": [],
   "source": [
    "df, t = read_local_csv('/Users/avencast/PycharmProjects/trkgnn/workspace/bl0/rec.4.csv')\n",
    "fig = visual_summary_log(df, t)\n",
    "fig.show()"
   ],
   "metadata": {
    "collapsed": false
   }
  },
  {
   "cell_type": "code",
   "execution_count": null,
   "outputs": [],
   "source": [
    "df, t = read_local_csv('/Users/avencast/PycharmProjects/trkgnn/workspace/bl0/rec.csv')\n",
    "fig = visual_summary_log(df, t)\n",
    "fig.show()"
   ],
   "metadata": {
    "collapsed": false
   }
  },
  {
   "cell_type": "code",
   "execution_count": null,
   "outputs": [],
   "source": [
    "df"
   ],
   "metadata": {
    "collapsed": false
   }
  },
  {
   "cell_type": "code",
   "execution_count": null,
   "outputs": [],
   "source": [],
   "metadata": {
    "collapsed": false
   }
  }
 ],
 "metadata": {
  "kernelspec": {
   "display_name": "Python 3",
   "language": "python",
   "name": "python3"
  },
  "language_info": {
   "codemirror_mode": {
    "name": "ipython",
    "version": 2
   },
   "file_extension": ".py",
   "mimetype": "text/x-python",
   "name": "python",
   "nbconvert_exporter": "python",
   "pygments_lexer": "ipython2",
   "version": "2.7.6"
  }
 },
 "nbformat": 4,
 "nbformat_minor": 0
}
