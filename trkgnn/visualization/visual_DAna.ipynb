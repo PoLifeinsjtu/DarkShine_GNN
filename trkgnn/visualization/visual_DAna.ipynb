{
 "cells": [
  {
   "cell_type": "code",
   "execution_count": 1,
   "metadata": {
    "collapsed": true,
    "ExecuteTime": {
     "end_time": "2023-07-30T12:26:27.522551Z",
     "start_time": "2023-07-30T12:26:26.438651Z"
    }
   },
   "outputs": [],
   "source": [
    "import uproot\n",
    "import pandas as pd\n",
    "import matplotlib.pyplot as plt\n",
    "import numpy as np\n",
    "from tqdm import tqdm\n",
    "import os\n",
    "\n",
    "import plotly.graph_objects as go\n",
    "from plotly.subplots import make_subplots"
   ]
  },
  {
   "cell_type": "code",
   "execution_count": 2,
   "outputs": [],
   "source": [
    "df_columns = ['bin', 'Truth', 'CKF', 'GNN']\n",
    "\n",
    "interests = {\n",
    "    \"Tagging Region, No. of tracks\": {\n",
    "        \"hist_setup\": np.linspace(0, 20, 21),\n",
    "        \"branches\": [\"TagTrk2_track_No_truth\", \"TagTrk2_track_No\", \"gnn_tag_no_tracks\"],\n",
    "        \"type\": \"plain\",\n",
    "        \"x_label\": \"No. of tracks\",\n",
    "        \"save_name\": \"tagging_no_tracks\",\n",
    "    },\n",
    "    \"Recoil Region, No. of tracks\": {\n",
    "        \"hist_setup\": np.linspace(0, 20, 21),\n",
    "        \"branches\": [\"RecTrk2_track_No_truth\", \"RecTrk2_track_No\", \"gnn_rec_no_tracks\"],\n",
    "        \"type\": \"plain\",\n",
    "        \"x_label\": \"No. of tracks\",\n",
    "        \"save_name\": \"recoil_no_tracks\",\n",
    "    },\n",
    "    \"Before Target, Incident Energy\": {\n",
    "        \"hist_setup\": np.linspace(1000, 9000, 50),\n",
    "        \"branches\": [\"TagTrk2_pp_truth_fin\", \"TagTrk2_pp\", \"gnn_tag_pf\"],\n",
    "        \"spectators\": [\"TagTrk2_track_chi2\", \"gnn_tag_quality\"],\n",
    "        # \"cuts\": [\"TagTrk2_track_No_truth == 1\", \"TagTrk2_track_No == 1\", \"gnn_tag_no_tracks == 1\"],\n",
    "        \"cuts\": [\"TagTrk2_track_No_truth == 1\", \"TagTrk2_track_No == 1 & TagTrk2_track_chi2  < 5\",\n",
    "                 \"gnn_tag_no_tracks == 1\"],\n",
    "        \"type\": \"plain\",\n",
    "        \"x_label\": r\"${P_{i}^{e}~\\text{[MeV]}}$\",\n",
    "        \"save_name\": \"tagging_incident_energy\",\n",
    "    },\n",
    "    \"After Target, Recoil Energy\": {\n",
    "        \"hist_setup\": np.linspace(1000, 10000, 50),\n",
    "        \"branches\": [\"RecTrk2_pp_truth_ini\", \"RecTrk2_pp\", \"gnn_rec_pf\"],\n",
    "        \"spectators\": [\"RecTrk2_track_chi2\", \"gnn_rec_quality\"],\n",
    "        # \"cuts\": [\"RecTrk2_track_No_truth == 1\", \"RecTrk2_track_No == 1\", \"gnn_rec_no_tracks == 1\"],\n",
    "        \"cuts\": [\n",
    "            \"RecTrk2_track_No_truth == 1\",\n",
    "            \"RecTrk2_track_No == 1 & RecTrk2_track_chi2  < 5\",\n",
    "            \"gnn_rec_no_tracks == 1 \"\n",
    "        ],\n",
    "        \"type\": \"plain\",\n",
    "        \"x_label\": r\"${P_{f}^{e}~\\text{[MeV]}}$\",\n",
    "        \"save_name\": \"recoil_recoil_energy\",\n",
    "    },\n",
    "    # \"Before ECAL, Incident Energy\": {\n",
    "    #     \"hist_setup\": np.linspace(1000, 10000, 50),\n",
    "    #     \"branches\": [\"RecTrk2_pp_truth_fin\", \"RecTrk2_pp\", \"gnn_rec_pf\"],\n",
    "    #     \"spectators\": [\"RecTrk2_track_chi2\", \"gnn_rec_quality\"],\n",
    "    #     # \"cuts\": [\"RecTrk2_track_No_truth == 1\", \"RecTrk2_track_No == 1\", \"gnn_rec_no_tracks == 1\"],\n",
    "    #     \"cuts\": [\"RecTrk2_track_No_truth == 1\", \"RecTrk2_track_No == 1 & RecTrk2_track_chi2  < 5\",\n",
    "    #              \"gnn_rec_no_tracks == 1\"],\n",
    "    #     \"type\": \"plain\",\n",
    "    #     \"x_label\": r\"${P_{\\text{ECAL}}^{e}~\\text{[MeV]}}$\",\n",
    "    #     \"save_name\": \"recoil_ecal_energy\",\n",
    "    # },\n",
    "    \"Missing Momentum\": {\n",
    "        \"hist_setup\": np.linspace(0, 9000, 100),\n",
    "        \"branches_up\": [\"TagTrk2_pp_truth_fin\", \"TagTrk2_pp\", \"gnn_tag_pf\"],\n",
    "        \"branches_down\": [\"RecTrk2_pp_truth_ini\", \"RecTrk2_pp\", \"gnn_rec_pf\"],\n",
    "        \"spectators\": [\"TagTrk2_track_chi2\", \"gnn_tag_quality\", \"RecTrk2_track_chi2\", \"gnn_rec_quality\"],\n",
    "        # \"cuts\": [\n",
    "        #     \"TagTrk2_track_No_truth == 1 & RecTrk2_track_No_truth == 1\",\n",
    "        #     \"TagTrk2_track_No == 1 & RecTrk2_track_No == 1\",\n",
    "        #     \"gnn_tag_no_tracks == 1 & gnn_rec_no_tracks == 1\",\n",
    "        # ],\n",
    "        \"cuts\": [\n",
    "            \"TagTrk2_track_No_truth == 1 & RecTrk2_track_No_truth == 1\",\n",
    "            \"TagTrk2_track_No == 1 & RecTrk2_track_No == 1 & TagTrk2_track_chi2 < 5 & RecTrk2_track_chi2 < 5\",\n",
    "            \"gnn_tag_no_tracks == 1 & gnn_rec_no_tracks == 1\",\n",
    "        ],\n",
    "        \"type\": \"difference\",\n",
    "        \"x_label\": r\"${P_{i}^{e} - P_{f}^{e}~\\text{[MeV]}}$\",\n",
    "        \"save_name\": \"missing_momentum\",\n",
    "    },\n",
    "    \"Resolution: Tagging Region\": {\n",
    "        \"hist_setup\": np.linspace(-10, 10, 50),\n",
    "        \"branch_base\": \"TagTrk2_pp_truth_fin\",\n",
    "        \"branches\": [\"TagTrk2_pp\", \"gnn_tag_pf\"],\n",
    "        \"spectators\": [\"TagTrk2_track_chi2\", \"gnn_tag_quality\"],\n",
    "        # \"cuts\": [\"TagTrk2_track_No == 1\", \"gnn_tag_no_tracks == 1\"],\n",
    "        \"cuts\": [\"TagTrk2_track_No == 1 & TagTrk2_track_chi2 < 5\", \"gnn_tag_no_tracks == 1\"],\n",
    "        \"type\": \"resolution\",\n",
    "        \"x_label\": r\"${\\sigma_{P_{i}^{e}}~[\\%]}$\",\n",
    "        \"save_name\": \"tagging_resolution\",\n",
    "    },\n",
    "    \"Resolution: Recoil Region\": {\n",
    "        \"hist_setup\": np.linspace(-25, 25, 50),\n",
    "        \"branch_base\": \"RecTrk2_pp_truth_ini\",\n",
    "        \"branches\": [\"RecTrk2_pp\", \"gnn_rec_pf\"],\n",
    "        \"spectators\": [\"RecTrk2_track_chi2\", \"gnn_rec_quality\"],\n",
    "        # \"cuts\": [\"RecTrk2_track_No == 1\", \"gnn_rec_no_tracks == 1\"],\n",
    "        \"cuts\": [\"RecTrk2_track_No == 1 & RecTrk2_track_chi2 < 5\", \"gnn_rec_no_tracks == 1\"],\n",
    "        \"type\": \"resolution\",\n",
    "        \"x_label\": r\"${\\sigma_{P_{f}^{e}}~[\\%]}$\",\n",
    "        \"save_name\": \"recoil_resolution\",\n",
    "    },\n",
    "}\n",
    "\n",
    "# Initialize histograms\n",
    "for interest in interests:\n",
    "    interests[interest]['df'] = pd.DataFrame(columns=df_columns)\n",
    "    if 'spectators' not in interests[interest]: interests[interest]['spectators'] = []\n",
    "    if interests[interest][\"type\"] in {\"plain\", \"resolution\"}:\n",
    "        interests[interest][\"hists\"] = [\n",
    "            np.zeros_like(interests[interest][\"hist_setup\"][:-1]) for _ in interests[interest][\"branches\"]\n",
    "        ]\n",
    "        if \"cuts\" not in interests[interest]:\n",
    "            interests[interest][\"cuts\"] = [f\"{br} == {br}\" for br in interests[interest][\"branches\"]]\n",
    "    if interests[interest][\"type\"] == \"difference\":\n",
    "        interests[interest]['branches'] = [*interests[interest]['branches_up'], *interests[interest]['branches_down']]\n",
    "        interests[interest][\"hists\"] = [\n",
    "            np.zeros_like(interests[interest][\"hist_setup\"][:-1]) for _ in interests[interest][\"branches_up\"]\n",
    "        ]\n",
    "        if \"cuts\" not in interests[interest]:\n",
    "            interests[interest][\"cuts\"] = [f\"{br} == {br}\" for br in interests[interest][\"branches_up\"]]\n",
    "\n",
    "int_style = {\n",
    "    \"Truth\": {\n",
    "        \"color\": \"rgba(0,0,0,0.8)\",\n",
    "    },\n",
    "    \"CKF\": {\n",
    "        \"color\": \"rgba(0,100,80,0.6)\",\n",
    "        \"marker\": \"None\",\n",
    "        \"fillcolor\": \"rgba(0,100,80,0.4)\",\n",
    "    },\n",
    "    \"GNN\": {\n",
    "        \"color\": \"rgba(204,40,46,0.6)\",\n",
    "        \"marker\": \"None\",\n",
    "        \"fillcolor\": \"rgba(204,40,46,0.4)\",\n",
    "    },\n",
    "    \"CKF/Truth\": {\n",
    "        \"color\": \"rgba(0,100,80,0.4)\",\n",
    "        \"marker\": \"circle\",\n",
    "    },\n",
    "    \"GNN/Truth\": {\n",
    "        \"color\": \"rgba(204,40,46,0.4)\",\n",
    "        \"marker\": \"diamond\",\n",
    "    },\n",
    "    \"GNN/CKF\": {\n",
    "        \"color\": \"rgba(23,176,14,0.4)\",\n",
    "        \"marker\": \"circle\",\n",
    "    },\n",
    "}\n",
    "\n"
   ],
   "metadata": {
    "collapsed": false,
    "ExecuteTime": {
     "end_time": "2023-07-30T12:26:53.841347Z",
     "start_time": "2023-07-30T12:26:53.837847Z"
    }
   }
  },
  {
   "cell_type": "code",
   "execution_count": 3,
   "outputs": [
    {
     "name": "stderr",
     "output_type": "stream",
     "text": [
      "Processing: 100%|██████████| 50000/50000 [00:00<00:00, 63848.23events/s]\n"
     ]
    }
   ],
   "source": [
    "\n",
    "# Calculate the total number of entries/events in all files\n",
    "# Open the file\n",
    "with uproot.open(\"/Users/avencast/PycharmProjects/trkgnn/workspace/magnet.3/merged.root\") as file:\n",
    "    # Get the number of entries in the tree\n",
    "    total_entries = file[\"dp\"].num_entries\n",
    "\n",
    "# Create a tqdm object with the total number of entries\n",
    "pbar = tqdm(total=total_entries, unit=\"events\", desc=\"Processing\", initial=0, position=0, leave=True)\n",
    "\n",
    "read_branches = set(\n",
    "    [br for brs in [[*interests[interest][\"branches\"], *interests[interest][\"spectators\"]] for interest in interests]\n",
    "     for br in brs])\n",
    "\n",
    "for df in uproot.iterate(\n",
    "        \"/Users/avencast/PycharmProjects/trkgnn/workspace/magnet.3/merged.root:dp\",\n",
    "        library=\"pd\",\n",
    "        step_size=\"500 KB\",\n",
    "        filter_name=read_branches,\n",
    "        cut=None,\n",
    "):\n",
    "    def filter_list(x: pd.Series):\n",
    "        if x.dtype == 'awkward':\n",
    "            return x.map(lambda x: x[0] if len(x) > 0 else np.nan)\n",
    "        return x\n",
    "\n",
    "\n",
    "    df = df.apply(filter_list)\n",
    "\n",
    "    # df['gnn_rec_pi'] = df['gnn_rec_pi'] + 700\n",
    "    df['gnn_rec_pf'] = df['gnn_rec_pf'] + 450\n",
    "\n",
    "    # Calculate histograms and accumulate\n",
    "    for interest in interests:\n",
    "        if interests[interest][\"type\"] == \"plain\":\n",
    "            for i, (branch, cut) in enumerate(zip(interests[interest][\"branches\"], interests[interest][\"cuts\"])):\n",
    "                df_br = df.query(cut)[branch]\n",
    "                interests[interest][\"hists\"][i] += np.histogram(df_br, bins=interests[interest][\"hist_setup\"])[0]\n",
    "        if interests[interest][\"type\"] == \"difference\":\n",
    "            for i, (br_up, br_down, cut) in enumerate(\n",
    "                    zip(interests[interest][\"branches_up\"],\n",
    "                        interests[interest][\"branches_down\"],\n",
    "                        interests[interest][\"cuts\"])):\n",
    "                df_br = df.query(cut)[br_up] - df.query(cut)[br_down]\n",
    "                interests[interest][\"hists\"][i] += np.histogram(df_br, bins=interests[interest][\"hist_setup\"])[0]\n",
    "        if interests[interest][\"type\"] == \"resolution\":\n",
    "            for i, (branch, cut) in enumerate(zip(interests[interest][\"branches\"], interests[interest][\"cuts\"])):\n",
    "                df_cut = df.query(cut)\n",
    "                diff = (df_cut[branch] - df_cut[interests[interest][\"branch_base\"]]) / df_cut[\n",
    "                    interests[interest][\"branch_base\"]] * 100\n",
    "                interests[interest][\"hists\"][i] += np.histogram(diff, bins=interests[interest][\"hist_setup\"])[0]\n",
    "\n",
    "    pbar.update(len(df))\n",
    "    # break\n",
    "\n",
    "# Close the progress bar\n",
    "pbar.close()\n",
    "\n",
    "# convert to dataframe\n",
    "for interest in interests:\n",
    "    if interests[interest][\"type\"] in {\"plain\", \"difference\"}:\n",
    "        interests[interest][\"df\"] = pd.DataFrame({\n",
    "            \"bin\": interests[interest][\"hist_setup\"][:-1],\n",
    "            \"Truth\": interests[interest][\"hists\"][0],\n",
    "            \"CKF\": interests[interest][\"hists\"][1],\n",
    "            \"GNN\": interests[interest][\"hists\"][2],\n",
    "        })\n",
    "        interests[interest][\"df\"] = interests[interest][\"df\"].loc[\n",
    "            (interests[interest][\"df\"]['Truth'] != 0)\n",
    "            | (interests[interest][\"df\"]['CKF'] != 0)\n",
    "            | (interests[interest][\"df\"]['GNN'] != 0)\n",
    "            ]\n",
    "    if interests[interest][\"type\"] == \"resolution\":\n",
    "        interests[interest][\"df\"] = pd.DataFrame({\n",
    "            \"bin\": interests[interest][\"hist_setup\"][:-1],\n",
    "            \"CKF/Truth\": interests[interest][\"hists\"][0],\n",
    "            \"GNN/Truth\": interests[interest][\"hists\"][1],\n",
    "        })\n",
    "        interests[interest][\"df\"] = interests[interest][\"df\"].loc[\n",
    "            (interests[interest][\"df\"]['CKF/Truth'] != 0)\n",
    "            | (interests[interest][\"df\"]['GNN/Truth'] != 0)\n",
    "            ]\n"
   ],
   "metadata": {
    "collapsed": false,
    "ExecuteTime": {
     "end_time": "2023-07-30T12:26:55.602417Z",
     "start_time": "2023-07-30T12:26:54.751809Z"
    }
   }
  },
  {
   "cell_type": "code",
   "execution_count": 12,
   "outputs": [],
   "source": [
    "def plot_comparison(\n",
    "        x, y1, y2,\n",
    "        y0=None,\n",
    "        labels=('Truth', 'CKF', 'GNN'),\n",
    "        x_label: str = 'x',\n",
    "        y_label: str = 'Counts',\n",
    "        ratio_threshold: float = 5.0,\n",
    "        annotation_text: str = None,\n",
    "        log_y: bool = True,\n",
    "        save_name: str = None,\n",
    "        second_panel: bool = True,\n",
    "):\n",
    "    # Compute min and max\n",
    "    sf_y0 = 1. / sum(y0) if y0 is not None else 1\n",
    "    sf_y1 = 1. / sum(y1)\n",
    "    sf_y2 = 1. / sum(y2)\n",
    "\n",
    "    # Compute errors\n",
    "    y1_error = np.sqrt(y1) * sf_y1\n",
    "    y2_error = np.sqrt(y2) * sf_y2\n",
    "    # Compute difference and errors\n",
    "    y0_error = 0\n",
    "    if y0 is not None:\n",
    "        y0_error = np.sqrt(y0) * sf_y0\n",
    "        ratio1 = y1 / y0 * sf_y1 / sf_y0\n",
    "        ratio2 = y2 / y0 * sf_y2 / sf_y0\n",
    "        ratio1_error = ratio1 * np.sqrt((y1_error / y1) ** 2 + (y0_error / y0) ** 2)\n",
    "        ratio2_error = ratio2 * np.sqrt((y2_error / y2) ** 2 + (y0_error / y0) ** 2)\n",
    "    else:\n",
    "        ratio1 = y2 / y1 * sf_y2 / sf_y1\n",
    "        ratio2 = ratio1\n",
    "        ratio1_error = ratio1 * np.sqrt((y2_error / y2) ** 2 + (y1_error / y1) ** 2)\n",
    "        ratio2_error = ratio1_error\n",
    "\n",
    "    # y0_max = (y0 + y0_error).max() if y0 is not None else 1\n",
    "    # y1_max = (y1 + y1_error).max()\n",
    "    # y2_max = (y2 + y2_error).max()\n",
    "    y_max = max((y0 * sf_y0).max() if y0 is not None else 0, (y1 * sf_y1).max(), (y2 * sf_y2).max())\n",
    "    y_min = min((y0 * sf_y0).min() if y0 is not None else 0, (y1 * sf_y1).min(), (y2 * sf_y2).min())\n",
    "\n",
    "    fig = make_subplots(\n",
    "        rows=2 if second_panel else 1, cols=1,\n",
    "        shared_xaxes=True,\n",
    "        vertical_spacing=0.0,\n",
    "        row_heights=[0.75, 0.25] if second_panel else [1],\n",
    "    )\n",
    "\n",
    "    hit_ratio = len(x[ratio1 > ratio_threshold]) + len(x[ratio2 > ratio_threshold]) > 0\n",
    "    ratio_min = min(ratio1.min(), ratio2.min())\n",
    "    ratio_max = max(ratio1.max(), ratio2.max()) if not hit_ratio else ratio_threshold\n",
    "\n",
    "    if y0 is not None:\n",
    "        fig.add_trace(\n",
    "            go.Scatter(\n",
    "                x=x, y=y0 * sf_y0, name=labels[0], line=dict(color=int_style[labels[0]][\"color\"]),\n",
    "                error_y=dict(type='data', array=y0_error, visible=True)\n",
    "            ), row=1, col=1)\n",
    "    fig.add_trace(\n",
    "        go.Scatter(\n",
    "            x=x, y=y1 * sf_y1, name=labels[1],\n",
    "            line=dict(color=int_style[labels[1]][\"color\"]),\n",
    "            fillcolor=int_style[labels[1]][\"fillcolor\"],\n",
    "            # fill='tozeroy',\n",
    "            error_y=dict(type='data', array=y1_error, visible=True)\n",
    "        ), row=1, col=1)\n",
    "    fig.add_trace(\n",
    "        go.Scatter(\n",
    "            x=x, y=y2 * sf_y2, name=labels[2],\n",
    "            line=dict(color=int_style[labels[2]][\"color\"]),\n",
    "            fillcolor=int_style[labels[2]][\"fillcolor\"],\n",
    "            # fill='tozeroy',\n",
    "            error_y=dict(type='data', array=y1_error, visible=True)\n",
    "        ), row=1, col=1)\n",
    "\n",
    "    if second_panel:\n",
    "        fig.add_trace(go.Scatter(\n",
    "            x=x[ratio1 <= ratio_threshold], y=ratio1[ratio1 <= ratio_threshold],\n",
    "            name=f\"{labels[1]}/{labels[0]}\" if y0 is not None else f\"{labels[2]}/{labels[1]}\",\n",
    "            mode='markers',\n",
    "            marker=dict(\n",
    "                size=10,  # Setting marker size\n",
    "                color=int_style[f\"{labels[1]}/{labels[0]}\"][\"color\"] if y0 is not None else\n",
    "                int_style[f\"{labels[2]}/{labels[1]}\"][\"color\"],\n",
    "                symbol=int_style[f\"{labels[1]}/{labels[0]}\"][\"marker\"] if y0 is not None else\n",
    "                int_style[f\"{labels[2]}/{labels[1]}\"][\"marker\"]\n",
    "            ),\n",
    "            error_y=dict(\n",
    "                type='data',\n",
    "                array=ratio1_error[ratio1 <= ratio_threshold],\n",
    "                color=int_style[f\"{labels[1]}/{labels[0]}\"][\"color\"] if y0 is not None else\n",
    "                int_style[f\"{labels[2]}/{labels[1]}\"][\"color\"],\n",
    "                thickness=1.5,\n",
    "                width=3)\n",
    "        ), row=2, col=1)\n",
    "    \n",
    "        if y0 is not None:\n",
    "            fig.add_trace(go.Scatter(\n",
    "                x=x[ratio2 <= ratio_threshold], y=ratio2[ratio2 <= ratio_threshold],\n",
    "                name=f\"{labels[2]}/{labels[0]}\",\n",
    "                mode='markers',\n",
    "                marker=dict(\n",
    "                    size=10,  # Setting marker size\n",
    "                    color=int_style[f\"{labels[2]}/{labels[0]}\"][\"color\"],\n",
    "                    symbol=int_style[f\"{labels[2]}/{labels[0]}\"][\"marker\"]\n",
    "                ),\n",
    "                error_y=dict(\n",
    "                    type='data',\n",
    "                    array=ratio2_error[ratio2 <= ratio_threshold],\n",
    "                    color=int_style[f\"{labels[2]}/{labels[0]}\"][\"color\"],\n",
    "                    thickness=1.5,\n",
    "                    width=3)\n",
    "            ), row=2, col=1)\n",
    "    \n",
    "        fig.add_trace(go.Scatter(\n",
    "            x=x[ratio1 > ratio_threshold],\n",
    "            y=ratio1[ratio1 > ratio_threshold].where(ratio1 <= ratio_threshold, ratio_threshold),\n",
    "            name=f\"{labels[1]}/{labels[0]} >={ratio_threshold}\",\n",
    "            mode='markers',\n",
    "            marker_color=int_style[f\"{labels[1]}/{labels[0]}\"][\"color\"] if y0 is not None else\n",
    "            int_style[f\"{labels[2]}/{labels[1]}\"][\"color\"],\n",
    "            marker_symbol='arrow-up-open', marker_size=12, marker_line_width=2,\n",
    "            showlegend=False,\n",
    "        ), row=2, col=1)\n",
    "    \n",
    "        if y0 is not None:\n",
    "            fig.add_trace(go.Scatter(\n",
    "                x=x[ratio2 > ratio_threshold],\n",
    "                y=ratio2[ratio2 > ratio_threshold].where(ratio2 <= ratio_threshold, ratio_threshold),\n",
    "                name=f\"{labels[2]}/{labels[0]} >={ratio_threshold}\",\n",
    "                mode='markers',\n",
    "                marker_color=int_style[f\"{labels[2]}/{labels[0]}\"][\"color\"],\n",
    "                marker_symbol='arrow-up-open', marker_size=12, marker_line_width=2,\n",
    "                showlegend=False,\n",
    "            ), row=2, col=1)\n",
    "    \n",
    "        fig.add_hline(y=1.0, line_width=1, line_dash=\"dash\", line_color=\"grey\", row=2, col=1)\n",
    "\n",
    "    y_axis_attr = dict(linecolor=\"#666666\", zerolinecolor='rgba(0,0,0,0)', linewidth=2, mirror=True)\n",
    "    fig.update_yaxes(\n",
    "        **y_axis_attr, title_text=y_label, type=\"log\" if log_y else \"linear\", row=1, col=1,\n",
    "        range=[np.log10(y_min + 1e-6) + 0.5, np.log10(y_max) + 2.5] if log_y else [0, y_max * 1.5]\n",
    "        # range=[1e-5, np.log10(y_max) + 2.5] if log_y else [0, 1]\n",
    "    )\n",
    "    x_axis_attr = dict(\n",
    "        linecolor=\"#666666\", gridcolor='#d9d9d9', zerolinecolor='rgba(0,0,0,0)', linewidth=2,\n",
    "        showline=True, showgrid=False\n",
    "    )\n",
    "    \n",
    "    fig.update_xaxes(**x_axis_attr, mirror=True, row=1, col=1)\n",
    "    if second_panel: \n",
    "        fig.update_yaxes(\n",
    "            **y_axis_attr, title_text=\"Rec./Truth\", row=2, col=1,\n",
    "            range=[0, ratio_max]\n",
    "        )\n",
    "        fig.update_xaxes(**x_axis_attr, mirror=False, row=2, col=1, title_text=x_label)\n",
    "    else:\n",
    "        fig.update_xaxes(**x_axis_attr, mirror=True, row=1, col=1, title_text=x_label)\n",
    "\n",
    "    # annotation\n",
    "    x_base, y_base = 0.05, 0.97\n",
    "    fig.add_annotation(\n",
    "        text=r'<i><b>DarkSHINE<b><i>', showarrow=False, xref='paper', x=x_base, yref='paper', y=y_base,\n",
    "        font=dict(size=34, family='Cambria'),\n",
    "    )\n",
    "    fig.add_annotation(\n",
    "        text=r'Simulation', showarrow=False, xref='paper', x=x_base + 0.405, yref='paper', y=y_base - 0.0037,\n",
    "        font=dict(size=31, family='Cambria'),\n",
    "    )\n",
    "\n",
    "    y_base -= 0.075\n",
    "    fig.add_annotation(\n",
    "        text=r'$\\Large{E^{e}_{0} = 8~\\text{GeV},~10^{6}~\\text{EOT}}$', showarrow=False, xref='paper', x=x_base,\n",
    "        yref='paper', y=y_base,\n",
    "    )\n",
    "\n",
    "    y_base -= 0.062\n",
    "    if annotation_text is not None:\n",
    "        fig.add_annotation(\n",
    "            text=f'{annotation_text}', showarrow=False, xref='paper', x=x_base,\n",
    "            yref='paper', y=y_base,\n",
    "            font=dict(size=20, family='Cambria'),\n",
    "        )\n",
    "\n",
    "    fig.update_layout(\n",
    "        legend=dict(\n",
    "            orientation=\"v\",\n",
    "            yanchor=\"top\",\n",
    "            y=0.99,\n",
    "            xanchor=\"right\",\n",
    "            x=0.98,\n",
    "            font=dict(size=14),\n",
    "        ),\n",
    "        width=800,\n",
    "        height=800,\n",
    "        paper_bgcolor='rgba(0,0,0,0)',\n",
    "        plot_bgcolor='rgba(0,0,0,0)',\n",
    "    )\n",
    "\n",
    "    fig.show()\n",
    "    os.makedirs(\"/Users/avencast/PycharmProjects/trkgnn/workspace/plots\", exist_ok=True)\n",
    "    fig.write_image(f\"/Users/avencast/PycharmProjects/trkgnn/workspace/plots/{save_name}.pdf\")\n"
   ],
   "metadata": {
    "collapsed": false,
    "ExecuteTime": {
     "end_time": "2023-07-30T12:39:19.054041Z",
     "start_time": "2023-07-30T12:39:19.050975Z"
    }
   }
  },
  {
   "cell_type": "code",
   "execution_count": 13,
   "outputs": [
    {
     "data": {
      "application/vnd.plotly.v1+json": {
       "data": [
        {
         "error_y": {
          "array": [
           4.898979485566356E-5,
           0.004471286168430735,
           5.656854249492381E-5,
           4.47213595499958E-5,
           0.0,
           0.0,
           0.0,
           0.0,
           0.0,
           0.0,
           0.0
          ],
          "type": "data",
          "visible": true
         },
         "line": {
          "color": "rgba(0,0,0,0.8)"
         },
         "name": "Truth",
         "x": [
          0.0,
          1.0,
          2.0,
          3.0,
          4.0,
          5.0,
          6.0,
          7.0,
          9.0,
          11.0,
          12.0
         ],
         "y": [
          1.2000000000000002E-4,
          0.9996200000000001,
          1.6E-4,
          1.0E-4,
          0.0,
          0.0,
          0.0,
          0.0,
          0.0,
          0.0,
          0.0
         ],
         "type": "scatter",
         "xaxis": "x",
         "yaxis": "y"
        },
        {
         "error_y": {
          "array": [
           9.798742870562357E-5,
           0.0044711965431882125,
           2.000160012801024E-5,
           0.0,
           0.0,
           0.0,
           0.0,
           0.0,
           0.0,
           0.0,
           0.0
          ],
          "type": "data",
          "visible": true
         },
         "fillcolor": "rgba(0,100,80,0.4)",
         "line": {
          "color": "rgba(0,100,80,0.6)"
         },
         "name": "CKF",
         "x": [
          0.0,
          1.0,
          2.0,
          3.0,
          4.0,
          5.0,
          6.0,
          7.0,
          9.0,
          11.0,
          12.0
         ],
         "y": [
          4.800384030722458E-4,
          0.9994999599967997,
          2.000160012801024E-5,
          0.0,
          0.0,
          0.0,
          0.0,
          0.0,
          0.0,
          0.0,
          0.0
         ],
         "type": "scatter",
         "xaxis": "x",
         "yaxis": "y"
        },
        {
         "error_y": {
          "array": [
           9.798742870562357E-5,
           0.0044711965431882125,
           2.000160012801024E-5,
           0.0,
           0.0,
           0.0,
           0.0,
           0.0,
           0.0,
           0.0,
           0.0
          ],
          "type": "data",
          "visible": true
         },
         "fillcolor": "rgba(204,40,46,0.4)",
         "line": {
          "color": "rgba(204,40,46,0.6)"
         },
         "name": "GNN",
         "x": [
          0.0,
          1.0,
          2.0,
          3.0,
          4.0,
          5.0,
          6.0,
          7.0,
          9.0,
          11.0,
          12.0
         ],
         "y": [
          1.4000000000000001E-4,
          0.9988600000000001,
          5.4E-4,
          4.0E-5,
          1.4000000000000001E-4,
          1.0E-4,
          2.0E-5,
          6.000000000000001E-5,
          4.0E-5,
          4.0E-5,
          2.0E-5
         ],
         "type": "scatter",
         "xaxis": "x",
         "yaxis": "y"
        },
        {
         "error_y": {
          "array": [
           1.2651134369050718E-7,
           2.6520511712758502E-6,
           null
          ],
          "color": "rgba(0,100,80,0.4)",
          "thickness": 1.5,
          "type": "data",
          "width": 3
         },
         "marker": {
          "color": "rgba(0,100,80,0.4)",
          "size": 10,
          "symbol": "circle"
         },
         "mode": "markers",
         "name": "CKF/Truth",
         "x": [
          1.0,
          2.0,
          3.0
         ],
         "y": [
          0.9998799143642582,
          0.125010000800064,
          0.0
         ],
         "type": "scatter",
         "xaxis": "x2",
         "yaxis": "y2"
        },
        {
         "error_y": {
          "array": [
           1.2981468272831025E-5,
           1.2644300323483475E-7,
           6.693280212272606E-6
          ],
          "color": "rgba(204,40,46,0.4)",
          "thickness": 1.5,
          "type": "data",
          "width": 3
         },
         "marker": {
          "color": "rgba(204,40,46,0.4)",
          "size": 10,
          "symbol": "diamond"
         },
         "mode": "markers",
         "name": "GNN/Truth",
         "x": [
          0.0,
          1.0,
          3.0
         ],
         "y": [
          1.1666666666666667,
          0.9992397110902143,
          0.4
         ],
         "type": "scatter",
         "xaxis": "x2",
         "yaxis": "y2"
        },
        {
         "marker": {
          "color": "rgba(0,100,80,0.4)",
          "line": {
           "width": 2
          },
          "size": 12,
          "symbol": "arrow-up-open"
         },
         "mode": "markers",
         "name": "CKF/Truth >=2.0",
         "showlegend": false,
         "x": [
          0.0
         ],
         "y": [
          2.0
         ],
         "type": "scatter",
         "xaxis": "x2",
         "yaxis": "y2"
        },
        {
         "marker": {
          "color": "rgba(204,40,46,0.4)",
          "line": {
           "width": 2
          },
          "size": 12,
          "symbol": "arrow-up-open"
         },
         "mode": "markers",
         "name": "GNN/Truth >=2.0",
         "showlegend": false,
         "x": [
          2.0,
          4.0,
          5.0,
          6.0,
          7.0,
          9.0,
          11.0,
          12.0
         ],
         "y": [
          2.0,
          2.0,
          2.0,
          2.0,
          2.0,
          2.0,
          2.0,
          2.0
         ],
         "type": "scatter",
         "xaxis": "x2",
         "yaxis": "y2"
        }
       ],
       "layout": {
        "template": {
         "data": {
          "histogram2dcontour": [
           {
            "type": "histogram2dcontour",
            "colorbar": {
             "outlinewidth": 0,
             "ticks": ""
            },
            "colorscale": [
             [
              0.0,
              "#0d0887"
             ],
             [
              0.1111111111111111,
              "#46039f"
             ],
             [
              0.2222222222222222,
              "#7201a8"
             ],
             [
              0.3333333333333333,
              "#9c179e"
             ],
             [
              0.4444444444444444,
              "#bd3786"
             ],
             [
              0.5555555555555556,
              "#d8576b"
             ],
             [
              0.6666666666666666,
              "#ed7953"
             ],
             [
              0.7777777777777778,
              "#fb9f3a"
             ],
             [
              0.8888888888888888,
              "#fdca26"
             ],
             [
              1.0,
              "#f0f921"
             ]
            ]
           }
          ],
          "choropleth": [
           {
            "type": "choropleth",
            "colorbar": {
             "outlinewidth": 0,
             "ticks": ""
            }
           }
          ],
          "histogram2d": [
           {
            "type": "histogram2d",
            "colorbar": {
             "outlinewidth": 0,
             "ticks": ""
            },
            "colorscale": [
             [
              0.0,
              "#0d0887"
             ],
             [
              0.1111111111111111,
              "#46039f"
             ],
             [
              0.2222222222222222,
              "#7201a8"
             ],
             [
              0.3333333333333333,
              "#9c179e"
             ],
             [
              0.4444444444444444,
              "#bd3786"
             ],
             [
              0.5555555555555556,
              "#d8576b"
             ],
             [
              0.6666666666666666,
              "#ed7953"
             ],
             [
              0.7777777777777778,
              "#fb9f3a"
             ],
             [
              0.8888888888888888,
              "#fdca26"
             ],
             [
              1.0,
              "#f0f921"
             ]
            ]
           }
          ],
          "heatmap": [
           {
            "type": "heatmap",
            "colorbar": {
             "outlinewidth": 0,
             "ticks": ""
            },
            "colorscale": [
             [
              0.0,
              "#0d0887"
             ],
             [
              0.1111111111111111,
              "#46039f"
             ],
             [
              0.2222222222222222,
              "#7201a8"
             ],
             [
              0.3333333333333333,
              "#9c179e"
             ],
             [
              0.4444444444444444,
              "#bd3786"
             ],
             [
              0.5555555555555556,
              "#d8576b"
             ],
             [
              0.6666666666666666,
              "#ed7953"
             ],
             [
              0.7777777777777778,
              "#fb9f3a"
             ],
             [
              0.8888888888888888,
              "#fdca26"
             ],
             [
              1.0,
              "#f0f921"
             ]
            ]
           }
          ],
          "heatmapgl": [
           {
            "type": "heatmapgl",
            "colorbar": {
             "outlinewidth": 0,
             "ticks": ""
            },
            "colorscale": [
             [
              0.0,
              "#0d0887"
             ],
             [
              0.1111111111111111,
              "#46039f"
             ],
             [
              0.2222222222222222,
              "#7201a8"
             ],
             [
              0.3333333333333333,
              "#9c179e"
             ],
             [
              0.4444444444444444,
              "#bd3786"
             ],
             [
              0.5555555555555556,
              "#d8576b"
             ],
             [
              0.6666666666666666,
              "#ed7953"
             ],
             [
              0.7777777777777778,
              "#fb9f3a"
             ],
             [
              0.8888888888888888,
              "#fdca26"
             ],
             [
              1.0,
              "#f0f921"
             ]
            ]
           }
          ],
          "contourcarpet": [
           {
            "type": "contourcarpet",
            "colorbar": {
             "outlinewidth": 0,
             "ticks": ""
            }
           }
          ],
          "contour": [
           {
            "type": "contour",
            "colorbar": {
             "outlinewidth": 0,
             "ticks": ""
            },
            "colorscale": [
             [
              0.0,
              "#0d0887"
             ],
             [
              0.1111111111111111,
              "#46039f"
             ],
             [
              0.2222222222222222,
              "#7201a8"
             ],
             [
              0.3333333333333333,
              "#9c179e"
             ],
             [
              0.4444444444444444,
              "#bd3786"
             ],
             [
              0.5555555555555556,
              "#d8576b"
             ],
             [
              0.6666666666666666,
              "#ed7953"
             ],
             [
              0.7777777777777778,
              "#fb9f3a"
             ],
             [
              0.8888888888888888,
              "#fdca26"
             ],
             [
              1.0,
              "#f0f921"
             ]
            ]
           }
          ],
          "surface": [
           {
            "type": "surface",
            "colorbar": {
             "outlinewidth": 0,
             "ticks": ""
            },
            "colorscale": [
             [
              0.0,
              "#0d0887"
             ],
             [
              0.1111111111111111,
              "#46039f"
             ],
             [
              0.2222222222222222,
              "#7201a8"
             ],
             [
              0.3333333333333333,
              "#9c179e"
             ],
             [
              0.4444444444444444,
              "#bd3786"
             ],
             [
              0.5555555555555556,
              "#d8576b"
             ],
             [
              0.6666666666666666,
              "#ed7953"
             ],
             [
              0.7777777777777778,
              "#fb9f3a"
             ],
             [
              0.8888888888888888,
              "#fdca26"
             ],
             [
              1.0,
              "#f0f921"
             ]
            ]
           }
          ],
          "mesh3d": [
           {
            "type": "mesh3d",
            "colorbar": {
             "outlinewidth": 0,
             "ticks": ""
            }
           }
          ],
          "scatter": [
           {
            "fillpattern": {
             "fillmode": "overlay",
             "size": 10,
             "solidity": 0.2
            },
            "type": "scatter"
           }
          ],
          "parcoords": [
           {
            "type": "parcoords",
            "line": {
             "colorbar": {
              "outlinewidth": 0,
              "ticks": ""
             }
            }
           }
          ],
          "scatterpolargl": [
           {
            "type": "scatterpolargl",
            "marker": {
             "colorbar": {
              "outlinewidth": 0,
              "ticks": ""
             }
            }
           }
          ],
          "bar": [
           {
            "error_x": {
             "color": "#2a3f5f"
            },
            "error_y": {
             "color": "#2a3f5f"
            },
            "marker": {
             "line": {
              "color": "#E5ECF6",
              "width": 0.5
             },
             "pattern": {
              "fillmode": "overlay",
              "size": 10,
              "solidity": 0.2
             }
            },
            "type": "bar"
           }
          ],
          "scattergeo": [
           {
            "type": "scattergeo",
            "marker": {
             "colorbar": {
              "outlinewidth": 0,
              "ticks": ""
             }
            }
           }
          ],
          "scatterpolar": [
           {
            "type": "scatterpolar",
            "marker": {
             "colorbar": {
              "outlinewidth": 0,
              "ticks": ""
             }
            }
           }
          ],
          "histogram": [
           {
            "marker": {
             "pattern": {
              "fillmode": "overlay",
              "size": 10,
              "solidity": 0.2
             }
            },
            "type": "histogram"
           }
          ],
          "scattergl": [
           {
            "type": "scattergl",
            "marker": {
             "colorbar": {
              "outlinewidth": 0,
              "ticks": ""
             }
            }
           }
          ],
          "scatter3d": [
           {
            "type": "scatter3d",
            "line": {
             "colorbar": {
              "outlinewidth": 0,
              "ticks": ""
             }
            },
            "marker": {
             "colorbar": {
              "outlinewidth": 0,
              "ticks": ""
             }
            }
           }
          ],
          "scattermapbox": [
           {
            "type": "scattermapbox",
            "marker": {
             "colorbar": {
              "outlinewidth": 0,
              "ticks": ""
             }
            }
           }
          ],
          "scatterternary": [
           {
            "type": "scatterternary",
            "marker": {
             "colorbar": {
              "outlinewidth": 0,
              "ticks": ""
             }
            }
           }
          ],
          "scattercarpet": [
           {
            "type": "scattercarpet",
            "marker": {
             "colorbar": {
              "outlinewidth": 0,
              "ticks": ""
             }
            }
           }
          ],
          "carpet": [
           {
            "aaxis": {
             "endlinecolor": "#2a3f5f",
             "gridcolor": "white",
             "linecolor": "white",
             "minorgridcolor": "white",
             "startlinecolor": "#2a3f5f"
            },
            "baxis": {
             "endlinecolor": "#2a3f5f",
             "gridcolor": "white",
             "linecolor": "white",
             "minorgridcolor": "white",
             "startlinecolor": "#2a3f5f"
            },
            "type": "carpet"
           }
          ],
          "table": [
           {
            "cells": {
             "fill": {
              "color": "#EBF0F8"
             },
             "line": {
              "color": "white"
             }
            },
            "header": {
             "fill": {
              "color": "#C8D4E3"
             },
             "line": {
              "color": "white"
             }
            },
            "type": "table"
           }
          ],
          "barpolar": [
           {
            "marker": {
             "line": {
              "color": "#E5ECF6",
              "width": 0.5
             },
             "pattern": {
              "fillmode": "overlay",
              "size": 10,
              "solidity": 0.2
             }
            },
            "type": "barpolar"
           }
          ],
          "pie": [
           {
            "automargin": true,
            "type": "pie"
           }
          ]
         },
         "layout": {
          "autotypenumbers": "strict",
          "colorway": [
           "#636efa",
           "#EF553B",
           "#00cc96",
           "#ab63fa",
           "#FFA15A",
           "#19d3f3",
           "#FF6692",
           "#B6E880",
           "#FF97FF",
           "#FECB52"
          ],
          "font": {
           "color": "#2a3f5f"
          },
          "hovermode": "closest",
          "hoverlabel": {
           "align": "left"
          },
          "paper_bgcolor": "white",
          "plot_bgcolor": "#E5ECF6",
          "polar": {
           "bgcolor": "#E5ECF6",
           "angularaxis": {
            "gridcolor": "white",
            "linecolor": "white",
            "ticks": ""
           },
           "radialaxis": {
            "gridcolor": "white",
            "linecolor": "white",
            "ticks": ""
           }
          },
          "ternary": {
           "bgcolor": "#E5ECF6",
           "aaxis": {
            "gridcolor": "white",
            "linecolor": "white",
            "ticks": ""
           },
           "baxis": {
            "gridcolor": "white",
            "linecolor": "white",
            "ticks": ""
           },
           "caxis": {
            "gridcolor": "white",
            "linecolor": "white",
            "ticks": ""
           }
          },
          "coloraxis": {
           "colorbar": {
            "outlinewidth": 0,
            "ticks": ""
           }
          },
          "colorscale": {
           "sequential": [
            [
             0.0,
             "#0d0887"
            ],
            [
             0.1111111111111111,
             "#46039f"
            ],
            [
             0.2222222222222222,
             "#7201a8"
            ],
            [
             0.3333333333333333,
             "#9c179e"
            ],
            [
             0.4444444444444444,
             "#bd3786"
            ],
            [
             0.5555555555555556,
             "#d8576b"
            ],
            [
             0.6666666666666666,
             "#ed7953"
            ],
            [
             0.7777777777777778,
             "#fb9f3a"
            ],
            [
             0.8888888888888888,
             "#fdca26"
            ],
            [
             1.0,
             "#f0f921"
            ]
           ],
           "sequentialminus": [
            [
             0.0,
             "#0d0887"
            ],
            [
             0.1111111111111111,
             "#46039f"
            ],
            [
             0.2222222222222222,
             "#7201a8"
            ],
            [
             0.3333333333333333,
             "#9c179e"
            ],
            [
             0.4444444444444444,
             "#bd3786"
            ],
            [
             0.5555555555555556,
             "#d8576b"
            ],
            [
             0.6666666666666666,
             "#ed7953"
            ],
            [
             0.7777777777777778,
             "#fb9f3a"
            ],
            [
             0.8888888888888888,
             "#fdca26"
            ],
            [
             1.0,
             "#f0f921"
            ]
           ],
           "diverging": [
            [
             0,
             "#8e0152"
            ],
            [
             0.1,
             "#c51b7d"
            ],
            [
             0.2,
             "#de77ae"
            ],
            [
             0.3,
             "#f1b6da"
            ],
            [
             0.4,
             "#fde0ef"
            ],
            [
             0.5,
             "#f7f7f7"
            ],
            [
             0.6,
             "#e6f5d0"
            ],
            [
             0.7,
             "#b8e186"
            ],
            [
             0.8,
             "#7fbc41"
            ],
            [
             0.9,
             "#4d9221"
            ],
            [
             1,
             "#276419"
            ]
           ]
          },
          "xaxis": {
           "gridcolor": "white",
           "linecolor": "white",
           "ticks": "",
           "title": {
            "standoff": 15
           },
           "zerolinecolor": "white",
           "automargin": true,
           "zerolinewidth": 2
          },
          "yaxis": {
           "gridcolor": "white",
           "linecolor": "white",
           "ticks": "",
           "title": {
            "standoff": 15
           },
           "zerolinecolor": "white",
           "automargin": true,
           "zerolinewidth": 2
          },
          "scene": {
           "xaxis": {
            "backgroundcolor": "#E5ECF6",
            "gridcolor": "white",
            "linecolor": "white",
            "showbackground": true,
            "ticks": "",
            "zerolinecolor": "white",
            "gridwidth": 2
           },
           "yaxis": {
            "backgroundcolor": "#E5ECF6",
            "gridcolor": "white",
            "linecolor": "white",
            "showbackground": true,
            "ticks": "",
            "zerolinecolor": "white",
            "gridwidth": 2
           },
           "zaxis": {
            "backgroundcolor": "#E5ECF6",
            "gridcolor": "white",
            "linecolor": "white",
            "showbackground": true,
            "ticks": "",
            "zerolinecolor": "white",
            "gridwidth": 2
           }
          },
          "shapedefaults": {
           "line": {
            "color": "#2a3f5f"
           }
          },
          "annotationdefaults": {
           "arrowcolor": "#2a3f5f",
           "arrowhead": 0,
           "arrowwidth": 1
          },
          "geo": {
           "bgcolor": "white",
           "landcolor": "#E5ECF6",
           "subunitcolor": "white",
           "showland": true,
           "showlakes": true,
           "lakecolor": "white"
          },
          "title": {
           "x": 0.05
          },
          "mapbox": {
           "style": "light"
          }
         }
        },
        "xaxis": {
         "anchor": "y",
         "domain": [
          0.0,
          1.0
         ],
         "matches": "x2",
         "showticklabels": false,
         "linecolor": "#666666",
         "gridcolor": "#d9d9d9",
         "zerolinecolor": "rgba(0,0,0,0)",
         "linewidth": 2,
         "showline": true,
         "showgrid": false,
         "mirror": true
        },
        "yaxis": {
         "anchor": "x",
         "domain": [
          0.25,
          1.0
         ],
         "title": {
          "text": "Counts"
         },
         "linecolor": "#666666",
         "zerolinecolor": "rgba(0,0,0,0)",
         "linewidth": 2,
         "mirror": true,
         "type": "log",
         "range": [
          -5.5,
          2.4998349367328694
         ]
        },
        "xaxis2": {
         "anchor": "y2",
         "domain": [
          0.0,
          1.0
         ],
         "title": {
          "text": "No. of tracks"
         },
         "linecolor": "#666666",
         "gridcolor": "#d9d9d9",
         "zerolinecolor": "rgba(0,0,0,0)",
         "linewidth": 2,
         "showline": true,
         "showgrid": false,
         "mirror": false
        },
        "yaxis2": {
         "anchor": "x2",
         "domain": [
          0.0,
          0.25
         ],
         "title": {
          "text": "Rec./Truth"
         },
         "linecolor": "#666666",
         "zerolinecolor": "rgba(0,0,0,0)",
         "linewidth": 2,
         "mirror": true,
         "range": [
          0,
          2.0
         ]
        },
        "shapes": [
         {
          "line": {
           "color": "grey",
           "dash": "dash",
           "width": 1
          },
          "type": "line",
          "x0": 0,
          "x1": 1,
          "xref": "x2 domain",
          "y0": 1.0,
          "y1": 1.0,
          "yref": "y2"
         }
        ],
        "annotations": [
         {
          "font": {
           "family": "Cambria",
           "size": 34
          },
          "showarrow": false,
          "text": "<i><b>DarkSHINE<b><i>",
          "x": 0.05,
          "xref": "paper",
          "y": 0.97,
          "yref": "paper"
         },
         {
          "font": {
           "family": "Cambria",
           "size": 31
          },
          "showarrow": false,
          "text": "Simulation",
          "x": 0.455,
          "xref": "paper",
          "y": 0.9662999999999999,
          "yref": "paper"
         },
         {
          "showarrow": false,
          "text": "$\\Large{E^{e}_{0} = 8~\\text{GeV},~10^{6}~\\text{EOT}}$",
          "x": 0.05,
          "xref": "paper",
          "y": 0.895,
          "yref": "paper"
         },
         {
          "font": {
           "family": "Cambria",
           "size": 20
          },
          "showarrow": false,
          "text": "Tagging Region, No. of tracks",
          "x": 0.05,
          "xref": "paper",
          "y": 0.833,
          "yref": "paper"
         }
        ],
        "legend": {
         "font": {
          "size": 14
         },
         "orientation": "v",
         "yanchor": "top",
         "y": 0.99,
         "xanchor": "right",
         "x": 0.98
        },
        "width": 800,
        "height": 800,
        "paper_bgcolor": "rgba(0,0,0,0)",
        "plot_bgcolor": "rgba(0,0,0,0)"
       },
       "config": {
        "plotlyServerURL": "https://plot.ly"
       }
      },
      "text/html": "<div>                            <div id=\"6d499935-62b1-4a91-8fc6-741e9f2c946b\" class=\"plotly-graph-div\" style=\"height:800px; width:800px;\"></div>            <script type=\"text/javascript\">                require([\"plotly\"], function(Plotly) {                    window.PLOTLYENV=window.PLOTLYENV || {};                                    if (document.getElementById(\"6d499935-62b1-4a91-8fc6-741e9f2c946b\")) {                    Plotly.newPlot(                        \"6d499935-62b1-4a91-8fc6-741e9f2c946b\",                        [{\"error_y\":{\"array\":[4.898979485566356e-05,0.004471286168430735,5.656854249492381e-05,4.47213595499958e-05,0.0,0.0,0.0,0.0,0.0,0.0,0.0],\"type\":\"data\",\"visible\":true},\"line\":{\"color\":\"rgba(0,0,0,0.8)\"},\"name\":\"Truth\",\"x\":[0.0,1.0,2.0,3.0,4.0,5.0,6.0,7.0,9.0,11.0,12.0],\"y\":[0.00012000000000000002,0.9996200000000001,0.00016,0.0001,0.0,0.0,0.0,0.0,0.0,0.0,0.0],\"type\":\"scatter\",\"xaxis\":\"x\",\"yaxis\":\"y\"},{\"error_y\":{\"array\":[9.798742870562357e-05,0.0044711965431882125,2.000160012801024e-05,0.0,0.0,0.0,0.0,0.0,0.0,0.0,0.0],\"type\":\"data\",\"visible\":true},\"fillcolor\":\"rgba(0,100,80,0.4)\",\"line\":{\"color\":\"rgba(0,100,80,0.6)\"},\"name\":\"CKF\",\"x\":[0.0,1.0,2.0,3.0,4.0,5.0,6.0,7.0,9.0,11.0,12.0],\"y\":[0.0004800384030722458,0.9994999599967997,2.000160012801024e-05,0.0,0.0,0.0,0.0,0.0,0.0,0.0,0.0],\"type\":\"scatter\",\"xaxis\":\"x\",\"yaxis\":\"y\"},{\"error_y\":{\"array\":[9.798742870562357e-05,0.0044711965431882125,2.000160012801024e-05,0.0,0.0,0.0,0.0,0.0,0.0,0.0,0.0],\"type\":\"data\",\"visible\":true},\"fillcolor\":\"rgba(204,40,46,0.4)\",\"line\":{\"color\":\"rgba(204,40,46,0.6)\"},\"name\":\"GNN\",\"x\":[0.0,1.0,2.0,3.0,4.0,5.0,6.0,7.0,9.0,11.0,12.0],\"y\":[0.00014000000000000001,0.9988600000000001,0.00054,4e-05,0.00014000000000000001,0.0001,2e-05,6.000000000000001e-05,4e-05,4e-05,2e-05],\"type\":\"scatter\",\"xaxis\":\"x\",\"yaxis\":\"y\"},{\"error_y\":{\"array\":[1.2651134369050718e-07,2.6520511712758502e-06,null],\"color\":\"rgba(0,100,80,0.4)\",\"thickness\":1.5,\"type\":\"data\",\"width\":3},\"marker\":{\"color\":\"rgba(0,100,80,0.4)\",\"size\":10,\"symbol\":\"circle\"},\"mode\":\"markers\",\"name\":\"CKF/Truth\",\"x\":[1.0,2.0,3.0],\"y\":[0.9998799143642582,0.125010000800064,0.0],\"type\":\"scatter\",\"xaxis\":\"x2\",\"yaxis\":\"y2\"},{\"error_y\":{\"array\":[1.2981468272831025e-05,1.2644300323483475e-07,6.693280212272606e-06],\"color\":\"rgba(204,40,46,0.4)\",\"thickness\":1.5,\"type\":\"data\",\"width\":3},\"marker\":{\"color\":\"rgba(204,40,46,0.4)\",\"size\":10,\"symbol\":\"diamond\"},\"mode\":\"markers\",\"name\":\"GNN/Truth\",\"x\":[0.0,1.0,3.0],\"y\":[1.1666666666666667,0.9992397110902143,0.4],\"type\":\"scatter\",\"xaxis\":\"x2\",\"yaxis\":\"y2\"},{\"marker\":{\"color\":\"rgba(0,100,80,0.4)\",\"line\":{\"width\":2},\"size\":12,\"symbol\":\"arrow-up-open\"},\"mode\":\"markers\",\"name\":\"CKF/Truth >=2.0\",\"showlegend\":false,\"x\":[0.0],\"y\":[2.0],\"type\":\"scatter\",\"xaxis\":\"x2\",\"yaxis\":\"y2\"},{\"marker\":{\"color\":\"rgba(204,40,46,0.4)\",\"line\":{\"width\":2},\"size\":12,\"symbol\":\"arrow-up-open\"},\"mode\":\"markers\",\"name\":\"GNN/Truth >=2.0\",\"showlegend\":false,\"x\":[2.0,4.0,5.0,6.0,7.0,9.0,11.0,12.0],\"y\":[2.0,2.0,2.0,2.0,2.0,2.0,2.0,2.0],\"type\":\"scatter\",\"xaxis\":\"x2\",\"yaxis\":\"y2\"}],                        {\"template\":{\"data\":{\"histogram2dcontour\":[{\"type\":\"histogram2dcontour\",\"colorbar\":{\"outlinewidth\":0,\"ticks\":\"\"},\"colorscale\":[[0.0,\"#0d0887\"],[0.1111111111111111,\"#46039f\"],[0.2222222222222222,\"#7201a8\"],[0.3333333333333333,\"#9c179e\"],[0.4444444444444444,\"#bd3786\"],[0.5555555555555556,\"#d8576b\"],[0.6666666666666666,\"#ed7953\"],[0.7777777777777778,\"#fb9f3a\"],[0.8888888888888888,\"#fdca26\"],[1.0,\"#f0f921\"]]}],\"choropleth\":[{\"type\":\"choropleth\",\"colorbar\":{\"outlinewidth\":0,\"ticks\":\"\"}}],\"histogram2d\":[{\"type\":\"histogram2d\",\"colorbar\":{\"outlinewidth\":0,\"ticks\":\"\"},\"colorscale\":[[0.0,\"#0d0887\"],[0.1111111111111111,\"#46039f\"],[0.2222222222222222,\"#7201a8\"],[0.3333333333333333,\"#9c179e\"],[0.4444444444444444,\"#bd3786\"],[0.5555555555555556,\"#d8576b\"],[0.6666666666666666,\"#ed7953\"],[0.7777777777777778,\"#fb9f3a\"],[0.8888888888888888,\"#fdca26\"],[1.0,\"#f0f921\"]]}],\"heatmap\":[{\"type\":\"heatmap\",\"colorbar\":{\"outlinewidth\":0,\"ticks\":\"\"},\"colorscale\":[[0.0,\"#0d0887\"],[0.1111111111111111,\"#46039f\"],[0.2222222222222222,\"#7201a8\"],[0.3333333333333333,\"#9c179e\"],[0.4444444444444444,\"#bd3786\"],[0.5555555555555556,\"#d8576b\"],[0.6666666666666666,\"#ed7953\"],[0.7777777777777778,\"#fb9f3a\"],[0.8888888888888888,\"#fdca26\"],[1.0,\"#f0f921\"]]}],\"heatmapgl\":[{\"type\":\"heatmapgl\",\"colorbar\":{\"outlinewidth\":0,\"ticks\":\"\"},\"colorscale\":[[0.0,\"#0d0887\"],[0.1111111111111111,\"#46039f\"],[0.2222222222222222,\"#7201a8\"],[0.3333333333333333,\"#9c179e\"],[0.4444444444444444,\"#bd3786\"],[0.5555555555555556,\"#d8576b\"],[0.6666666666666666,\"#ed7953\"],[0.7777777777777778,\"#fb9f3a\"],[0.8888888888888888,\"#fdca26\"],[1.0,\"#f0f921\"]]}],\"contourcarpet\":[{\"type\":\"contourcarpet\",\"colorbar\":{\"outlinewidth\":0,\"ticks\":\"\"}}],\"contour\":[{\"type\":\"contour\",\"colorbar\":{\"outlinewidth\":0,\"ticks\":\"\"},\"colorscale\":[[0.0,\"#0d0887\"],[0.1111111111111111,\"#46039f\"],[0.2222222222222222,\"#7201a8\"],[0.3333333333333333,\"#9c179e\"],[0.4444444444444444,\"#bd3786\"],[0.5555555555555556,\"#d8576b\"],[0.6666666666666666,\"#ed7953\"],[0.7777777777777778,\"#fb9f3a\"],[0.8888888888888888,\"#fdca26\"],[1.0,\"#f0f921\"]]}],\"surface\":[{\"type\":\"surface\",\"colorbar\":{\"outlinewidth\":0,\"ticks\":\"\"},\"colorscale\":[[0.0,\"#0d0887\"],[0.1111111111111111,\"#46039f\"],[0.2222222222222222,\"#7201a8\"],[0.3333333333333333,\"#9c179e\"],[0.4444444444444444,\"#bd3786\"],[0.5555555555555556,\"#d8576b\"],[0.6666666666666666,\"#ed7953\"],[0.7777777777777778,\"#fb9f3a\"],[0.8888888888888888,\"#fdca26\"],[1.0,\"#f0f921\"]]}],\"mesh3d\":[{\"type\":\"mesh3d\",\"colorbar\":{\"outlinewidth\":0,\"ticks\":\"\"}}],\"scatter\":[{\"fillpattern\":{\"fillmode\":\"overlay\",\"size\":10,\"solidity\":0.2},\"type\":\"scatter\"}],\"parcoords\":[{\"type\":\"parcoords\",\"line\":{\"colorbar\":{\"outlinewidth\":0,\"ticks\":\"\"}}}],\"scatterpolargl\":[{\"type\":\"scatterpolargl\",\"marker\":{\"colorbar\":{\"outlinewidth\":0,\"ticks\":\"\"}}}],\"bar\":[{\"error_x\":{\"color\":\"#2a3f5f\"},\"error_y\":{\"color\":\"#2a3f5f\"},\"marker\":{\"line\":{\"color\":\"#E5ECF6\",\"width\":0.5},\"pattern\":{\"fillmode\":\"overlay\",\"size\":10,\"solidity\":0.2}},\"type\":\"bar\"}],\"scattergeo\":[{\"type\":\"scattergeo\",\"marker\":{\"colorbar\":{\"outlinewidth\":0,\"ticks\":\"\"}}}],\"scatterpolar\":[{\"type\":\"scatterpolar\",\"marker\":{\"colorbar\":{\"outlinewidth\":0,\"ticks\":\"\"}}}],\"histogram\":[{\"marker\":{\"pattern\":{\"fillmode\":\"overlay\",\"size\":10,\"solidity\":0.2}},\"type\":\"histogram\"}],\"scattergl\":[{\"type\":\"scattergl\",\"marker\":{\"colorbar\":{\"outlinewidth\":0,\"ticks\":\"\"}}}],\"scatter3d\":[{\"type\":\"scatter3d\",\"line\":{\"colorbar\":{\"outlinewidth\":0,\"ticks\":\"\"}},\"marker\":{\"colorbar\":{\"outlinewidth\":0,\"ticks\":\"\"}}}],\"scattermapbox\":[{\"type\":\"scattermapbox\",\"marker\":{\"colorbar\":{\"outlinewidth\":0,\"ticks\":\"\"}}}],\"scatterternary\":[{\"type\":\"scatterternary\",\"marker\":{\"colorbar\":{\"outlinewidth\":0,\"ticks\":\"\"}}}],\"scattercarpet\":[{\"type\":\"scattercarpet\",\"marker\":{\"colorbar\":{\"outlinewidth\":0,\"ticks\":\"\"}}}],\"carpet\":[{\"aaxis\":{\"endlinecolor\":\"#2a3f5f\",\"gridcolor\":\"white\",\"linecolor\":\"white\",\"minorgridcolor\":\"white\",\"startlinecolor\":\"#2a3f5f\"},\"baxis\":{\"endlinecolor\":\"#2a3f5f\",\"gridcolor\":\"white\",\"linecolor\":\"white\",\"minorgridcolor\":\"white\",\"startlinecolor\":\"#2a3f5f\"},\"type\":\"carpet\"}],\"table\":[{\"cells\":{\"fill\":{\"color\":\"#EBF0F8\"},\"line\":{\"color\":\"white\"}},\"header\":{\"fill\":{\"color\":\"#C8D4E3\"},\"line\":{\"color\":\"white\"}},\"type\":\"table\"}],\"barpolar\":[{\"marker\":{\"line\":{\"color\":\"#E5ECF6\",\"width\":0.5},\"pattern\":{\"fillmode\":\"overlay\",\"size\":10,\"solidity\":0.2}},\"type\":\"barpolar\"}],\"pie\":[{\"automargin\":true,\"type\":\"pie\"}]},\"layout\":{\"autotypenumbers\":\"strict\",\"colorway\":[\"#636efa\",\"#EF553B\",\"#00cc96\",\"#ab63fa\",\"#FFA15A\",\"#19d3f3\",\"#FF6692\",\"#B6E880\",\"#FF97FF\",\"#FECB52\"],\"font\":{\"color\":\"#2a3f5f\"},\"hovermode\":\"closest\",\"hoverlabel\":{\"align\":\"left\"},\"paper_bgcolor\":\"white\",\"plot_bgcolor\":\"#E5ECF6\",\"polar\":{\"bgcolor\":\"#E5ECF6\",\"angularaxis\":{\"gridcolor\":\"white\",\"linecolor\":\"white\",\"ticks\":\"\"},\"radialaxis\":{\"gridcolor\":\"white\",\"linecolor\":\"white\",\"ticks\":\"\"}},\"ternary\":{\"bgcolor\":\"#E5ECF6\",\"aaxis\":{\"gridcolor\":\"white\",\"linecolor\":\"white\",\"ticks\":\"\"},\"baxis\":{\"gridcolor\":\"white\",\"linecolor\":\"white\",\"ticks\":\"\"},\"caxis\":{\"gridcolor\":\"white\",\"linecolor\":\"white\",\"ticks\":\"\"}},\"coloraxis\":{\"colorbar\":{\"outlinewidth\":0,\"ticks\":\"\"}},\"colorscale\":{\"sequential\":[[0.0,\"#0d0887\"],[0.1111111111111111,\"#46039f\"],[0.2222222222222222,\"#7201a8\"],[0.3333333333333333,\"#9c179e\"],[0.4444444444444444,\"#bd3786\"],[0.5555555555555556,\"#d8576b\"],[0.6666666666666666,\"#ed7953\"],[0.7777777777777778,\"#fb9f3a\"],[0.8888888888888888,\"#fdca26\"],[1.0,\"#f0f921\"]],\"sequentialminus\":[[0.0,\"#0d0887\"],[0.1111111111111111,\"#46039f\"],[0.2222222222222222,\"#7201a8\"],[0.3333333333333333,\"#9c179e\"],[0.4444444444444444,\"#bd3786\"],[0.5555555555555556,\"#d8576b\"],[0.6666666666666666,\"#ed7953\"],[0.7777777777777778,\"#fb9f3a\"],[0.8888888888888888,\"#fdca26\"],[1.0,\"#f0f921\"]],\"diverging\":[[0,\"#8e0152\"],[0.1,\"#c51b7d\"],[0.2,\"#de77ae\"],[0.3,\"#f1b6da\"],[0.4,\"#fde0ef\"],[0.5,\"#f7f7f7\"],[0.6,\"#e6f5d0\"],[0.7,\"#b8e186\"],[0.8,\"#7fbc41\"],[0.9,\"#4d9221\"],[1,\"#276419\"]]},\"xaxis\":{\"gridcolor\":\"white\",\"linecolor\":\"white\",\"ticks\":\"\",\"title\":{\"standoff\":15},\"zerolinecolor\":\"white\",\"automargin\":true,\"zerolinewidth\":2},\"yaxis\":{\"gridcolor\":\"white\",\"linecolor\":\"white\",\"ticks\":\"\",\"title\":{\"standoff\":15},\"zerolinecolor\":\"white\",\"automargin\":true,\"zerolinewidth\":2},\"scene\":{\"xaxis\":{\"backgroundcolor\":\"#E5ECF6\",\"gridcolor\":\"white\",\"linecolor\":\"white\",\"showbackground\":true,\"ticks\":\"\",\"zerolinecolor\":\"white\",\"gridwidth\":2},\"yaxis\":{\"backgroundcolor\":\"#E5ECF6\",\"gridcolor\":\"white\",\"linecolor\":\"white\",\"showbackground\":true,\"ticks\":\"\",\"zerolinecolor\":\"white\",\"gridwidth\":2},\"zaxis\":{\"backgroundcolor\":\"#E5ECF6\",\"gridcolor\":\"white\",\"linecolor\":\"white\",\"showbackground\":true,\"ticks\":\"\",\"zerolinecolor\":\"white\",\"gridwidth\":2}},\"shapedefaults\":{\"line\":{\"color\":\"#2a3f5f\"}},\"annotationdefaults\":{\"arrowcolor\":\"#2a3f5f\",\"arrowhead\":0,\"arrowwidth\":1},\"geo\":{\"bgcolor\":\"white\",\"landcolor\":\"#E5ECF6\",\"subunitcolor\":\"white\",\"showland\":true,\"showlakes\":true,\"lakecolor\":\"white\"},\"title\":{\"x\":0.05},\"mapbox\":{\"style\":\"light\"}}},\"xaxis\":{\"anchor\":\"y\",\"domain\":[0.0,1.0],\"matches\":\"x2\",\"showticklabels\":false,\"linecolor\":\"#666666\",\"gridcolor\":\"#d9d9d9\",\"zerolinecolor\":\"rgba(0,0,0,0)\",\"linewidth\":2,\"showline\":true,\"showgrid\":false,\"mirror\":true},\"yaxis\":{\"anchor\":\"x\",\"domain\":[0.25,1.0],\"title\":{\"text\":\"Counts\"},\"linecolor\":\"#666666\",\"zerolinecolor\":\"rgba(0,0,0,0)\",\"linewidth\":2,\"mirror\":true,\"type\":\"log\",\"range\":[-5.5,2.4998349367328694]},\"xaxis2\":{\"anchor\":\"y2\",\"domain\":[0.0,1.0],\"title\":{\"text\":\"No. of tracks\"},\"linecolor\":\"#666666\",\"gridcolor\":\"#d9d9d9\",\"zerolinecolor\":\"rgba(0,0,0,0)\",\"linewidth\":2,\"showline\":true,\"showgrid\":false,\"mirror\":false},\"yaxis2\":{\"anchor\":\"x2\",\"domain\":[0.0,0.25],\"title\":{\"text\":\"Rec./Truth\"},\"linecolor\":\"#666666\",\"zerolinecolor\":\"rgba(0,0,0,0)\",\"linewidth\":2,\"mirror\":true,\"range\":[0,2.0]},\"shapes\":[{\"line\":{\"color\":\"grey\",\"dash\":\"dash\",\"width\":1},\"type\":\"line\",\"x0\":0,\"x1\":1,\"xref\":\"x2 domain\",\"y0\":1.0,\"y1\":1.0,\"yref\":\"y2\"}],\"annotations\":[{\"font\":{\"family\":\"Cambria\",\"size\":34},\"showarrow\":false,\"text\":\"<i><b>DarkSHINE<b><i>\",\"x\":0.05,\"xref\":\"paper\",\"y\":0.97,\"yref\":\"paper\"},{\"font\":{\"family\":\"Cambria\",\"size\":31},\"showarrow\":false,\"text\":\"Simulation\",\"x\":0.455,\"xref\":\"paper\",\"y\":0.9662999999999999,\"yref\":\"paper\"},{\"showarrow\":false,\"text\":\"$\\\\Large{E^{e}_{0} = 8~\\\\text{GeV},~10^{6}~\\\\text{EOT}}$\",\"x\":0.05,\"xref\":\"paper\",\"y\":0.895,\"yref\":\"paper\"},{\"font\":{\"family\":\"Cambria\",\"size\":20},\"showarrow\":false,\"text\":\"Tagging Region, No. of tracks\",\"x\":0.05,\"xref\":\"paper\",\"y\":0.833,\"yref\":\"paper\"}],\"legend\":{\"font\":{\"size\":14},\"orientation\":\"v\",\"yanchor\":\"top\",\"y\":0.99,\"xanchor\":\"right\",\"x\":0.98},\"width\":800,\"height\":800,\"paper_bgcolor\":\"rgba(0,0,0,0)\",\"plot_bgcolor\":\"rgba(0,0,0,0)\"},                        {\"responsive\": true}                    ).then(function(){\n                            \nvar gd = document.getElementById('6d499935-62b1-4a91-8fc6-741e9f2c946b');\nvar x = new MutationObserver(function (mutations, observer) {{\n        var display = window.getComputedStyle(gd).display;\n        if (!display || display === 'none') {{\n            console.log([gd, 'removed!']);\n            Plotly.purge(gd);\n            observer.disconnect();\n        }}\n}});\n\n// Listen for the removal of the full notebook cells\nvar notebookContainer = gd.closest('#notebook-container');\nif (notebookContainer) {{\n    x.observe(notebookContainer, {childList: true});\n}}\n\n// Listen for the clearing of the current output cell\nvar outputEl = gd.closest('.output');\nif (outputEl) {{\n    x.observe(outputEl, {childList: true});\n}}\n\n                        })                };                });            </script>        </div>"
     },
     "metadata": {},
     "output_type": "display_data"
    },
    {
     "data": {
      "application/vnd.plotly.v1+json": {
       "data": [
        {
         "error_y": {
          "array": [
           1.4000000000000001E-4,
           0.004401454305113254,
           4.560701700396552E-4,
           6.251399843235114E-4,
           7.745966692414834E-5,
           5.291502622129182E-5,
           0.0,
           0.0,
           0.0,
           0.0,
           0.0,
           0.0,
           0.0,
           0.0,
           0.0
          ],
          "type": "data",
          "visible": true
         },
         "line": {
          "color": "rgba(0,0,0,0.8)"
         },
         "name": "Truth",
         "x": [
          0.0,
          1.0,
          2.0,
          3.0,
          4.0,
          5.0,
          6.0,
          7.0,
          8.0,
          9.0,
          10.0,
          11.0,
          12.0,
          16.0,
          17.0
         ],
         "y": [
          9.800000000000002E-4,
          0.9686400000000001,
          0.010400000000000001,
          0.019540000000000002,
          3.0000000000000003E-4,
          1.4000000000000001E-4,
          0.0,
          0.0,
          0.0,
          0.0,
          0.0,
          0.0,
          0.0,
          0.0,
          0.0
         ],
         "type": "scatter",
         "xaxis": "x",
         "yaxis": "y"
        },
        {
         "error_y": {
          "array": [
           1.5112968282630213E-4,
           0.004406376901849607,
           5.299944869434593E-4,
           4.783330589057779E-4,
           1.537582221929019E-4,
           1.4845460979853595E-4,
           7.489905890731726E-5,
           1.0401458128566402E-4,
           6.330125831068099E-5,
           2.8309183328791238E-5,
           2.0017615501641443E-5,
           2.0017615501641443E-5,
           2.0017615501641443E-5,
           2.0017615501641443E-5,
           2.0017615501641443E-5
          ],
          "type": "data",
          "visible": true
         },
         "fillcolor": "rgba(0,100,80,0.4)",
         "line": {
          "color": "rgba(0,100,80,0.6)"
         },
         "name": "CKF",
         "x": [
          0.0,
          1.0,
          2.0,
          3.0,
          4.0,
          5.0,
          6.0,
          7.0,
          8.0,
          9.0,
          10.0,
          11.0,
          12.0,
          16.0,
          17.0
         ],
         "y": [
          0.0011410040835935623,
          0.9699535591320362,
          0.014032348466650652,
          0.011430058451437264,
          0.0011810393145968451,
          0.0011009688525902793,
          2.802466170229802E-4,
          5.40475618544319E-4,
          2.0017615501641443E-4,
          4.003523100328289E-5,
          2.0017615501641443E-5,
          2.0017615501641443E-5,
          2.0017615501641443E-5,
          2.0017615501641443E-5,
          2.0017615501641443E-5
         ],
         "type": "scatter",
         "xaxis": "x",
         "yaxis": "y"
        },
        {
         "error_y": {
          "array": [
           1.5112968282630213E-4,
           0.004406376901849607,
           5.299944869434593E-4,
           4.783330589057779E-4,
           1.537582221929019E-4,
           1.4845460979853595E-4,
           7.489905890731726E-5,
           1.0401458128566402E-4,
           6.330125831068099E-5,
           2.8309183328791238E-5,
           2.0017615501641443E-5,
           2.0017615501641443E-5,
           2.0017615501641443E-5,
           2.0017615501641443E-5,
           2.0017615501641443E-5
          ],
          "type": "data",
          "visible": true
         },
         "fillcolor": "rgba(204,40,46,0.4)",
         "line": {
          "color": "rgba(204,40,46,0.6)"
         },
         "name": "GNN",
         "x": [
          0.0,
          1.0,
          2.0,
          3.0,
          4.0,
          5.0,
          6.0,
          7.0,
          8.0,
          9.0,
          10.0,
          11.0,
          12.0,
          16.0,
          17.0
         ],
         "y": [
          0.0021000000000000003,
          0.9895600000000001,
          0.007240000000000001,
          8.8E-4,
          1.8E-4,
          4.0E-5,
          0.0,
          0.0,
          0.0,
          0.0,
          0.0,
          0.0,
          0.0,
          0.0,
          0.0
         ],
         "type": "scatter",
         "xaxis": "x",
         "yaxis": "y"
        },
        {
         "error_y": {
          "array": [
           4.538218612764421E-6,
           1.2873807277580594E-7,
           1.5623814902190083E-6,
           6.166168974147539E-7
          ],
          "color": "rgba(0,100,80,0.4)",
          "thickness": 1.5,
          "type": "data",
          "width": 3
         },
         "marker": {
          "color": "rgba(0,100,80,0.4)",
          "size": 10,
          "symbol": "circle"
         },
         "mode": "markers",
         "name": "CKF/Truth",
         "x": [
          0.0,
          1.0,
          2.0,
          3.0
         ],
         "y": [
          1.1642898812179205,
          1.0013560859886397,
          1.3492642756394857,
          0.5849569320080482
         ],
         "type": "scatter",
         "xaxis": "x2",
         "yaxis": "y2"
        },
        {
         "error_y": {
          "array": [
           1.3060234763895558E-7,
           9.530453309376368E-7,
           1.3881211116712777E-7,
           5.059644256269407E-6,
           4.581621289927276E-6
          ],
          "color": "rgba(204,40,46,0.4)",
          "thickness": 1.5,
          "type": "data",
          "width": 3
         },
         "marker": {
          "color": "rgba(204,40,46,0.4)",
          "size": 10,
          "symbol": "diamond"
         },
         "mode": "markers",
         "name": "GNN/Truth",
         "x": [
          1.0,
          2.0,
          3.0,
          4.0,
          5.0
         ],
         "y": [
          1.0215972910472415,
          0.6961538461538461,
          0.04503582395087001,
          0.6,
          0.2857142857142857
         ],
         "type": "scatter",
         "xaxis": "x2",
         "yaxis": "y2"
        },
        {
         "marker": {
          "color": "rgba(0,100,80,0.4)",
          "line": {
           "width": 2
          },
          "size": 12,
          "symbol": "arrow-up-open"
         },
         "mode": "markers",
         "name": "CKF/Truth >=2.0",
         "showlegend": false,
         "x": [
          4.0,
          5.0,
          6.0,
          7.0,
          8.0,
          9.0,
          10.0,
          11.0,
          12.0,
          16.0,
          17.0
         ],
         "y": [
          2.0,
          2.0,
          2.0,
          2.0,
          2.0,
          2.0,
          2.0,
          2.0,
          2.0,
          2.0,
          2.0
         ],
         "type": "scatter",
         "xaxis": "x2",
         "yaxis": "y2"
        },
        {
         "marker": {
          "color": "rgba(204,40,46,0.4)",
          "line": {
           "width": 2
          },
          "size": 12,
          "symbol": "arrow-up-open"
         },
         "mode": "markers",
         "name": "GNN/Truth >=2.0",
         "showlegend": false,
         "x": [
          0.0
         ],
         "y": [
          2.0
         ],
         "type": "scatter",
         "xaxis": "x2",
         "yaxis": "y2"
        }
       ],
       "layout": {
        "template": {
         "data": {
          "histogram2dcontour": [
           {
            "type": "histogram2dcontour",
            "colorbar": {
             "outlinewidth": 0,
             "ticks": ""
            },
            "colorscale": [
             [
              0.0,
              "#0d0887"
             ],
             [
              0.1111111111111111,
              "#46039f"
             ],
             [
              0.2222222222222222,
              "#7201a8"
             ],
             [
              0.3333333333333333,
              "#9c179e"
             ],
             [
              0.4444444444444444,
              "#bd3786"
             ],
             [
              0.5555555555555556,
              "#d8576b"
             ],
             [
              0.6666666666666666,
              "#ed7953"
             ],
             [
              0.7777777777777778,
              "#fb9f3a"
             ],
             [
              0.8888888888888888,
              "#fdca26"
             ],
             [
              1.0,
              "#f0f921"
             ]
            ]
           }
          ],
          "choropleth": [
           {
            "type": "choropleth",
            "colorbar": {
             "outlinewidth": 0,
             "ticks": ""
            }
           }
          ],
          "histogram2d": [
           {
            "type": "histogram2d",
            "colorbar": {
             "outlinewidth": 0,
             "ticks": ""
            },
            "colorscale": [
             [
              0.0,
              "#0d0887"
             ],
             [
              0.1111111111111111,
              "#46039f"
             ],
             [
              0.2222222222222222,
              "#7201a8"
             ],
             [
              0.3333333333333333,
              "#9c179e"
             ],
             [
              0.4444444444444444,
              "#bd3786"
             ],
             [
              0.5555555555555556,
              "#d8576b"
             ],
             [
              0.6666666666666666,
              "#ed7953"
             ],
             [
              0.7777777777777778,
              "#fb9f3a"
             ],
             [
              0.8888888888888888,
              "#fdca26"
             ],
             [
              1.0,
              "#f0f921"
             ]
            ]
           }
          ],
          "heatmap": [
           {
            "type": "heatmap",
            "colorbar": {
             "outlinewidth": 0,
             "ticks": ""
            },
            "colorscale": [
             [
              0.0,
              "#0d0887"
             ],
             [
              0.1111111111111111,
              "#46039f"
             ],
             [
              0.2222222222222222,
              "#7201a8"
             ],
             [
              0.3333333333333333,
              "#9c179e"
             ],
             [
              0.4444444444444444,
              "#bd3786"
             ],
             [
              0.5555555555555556,
              "#d8576b"
             ],
             [
              0.6666666666666666,
              "#ed7953"
             ],
             [
              0.7777777777777778,
              "#fb9f3a"
             ],
             [
              0.8888888888888888,
              "#fdca26"
             ],
             [
              1.0,
              "#f0f921"
             ]
            ]
           }
          ],
          "heatmapgl": [
           {
            "type": "heatmapgl",
            "colorbar": {
             "outlinewidth": 0,
             "ticks": ""
            },
            "colorscale": [
             [
              0.0,
              "#0d0887"
             ],
             [
              0.1111111111111111,
              "#46039f"
             ],
             [
              0.2222222222222222,
              "#7201a8"
             ],
             [
              0.3333333333333333,
              "#9c179e"
             ],
             [
              0.4444444444444444,
              "#bd3786"
             ],
             [
              0.5555555555555556,
              "#d8576b"
             ],
             [
              0.6666666666666666,
              "#ed7953"
             ],
             [
              0.7777777777777778,
              "#fb9f3a"
             ],
             [
              0.8888888888888888,
              "#fdca26"
             ],
             [
              1.0,
              "#f0f921"
             ]
            ]
           }
          ],
          "contourcarpet": [
           {
            "type": "contourcarpet",
            "colorbar": {
             "outlinewidth": 0,
             "ticks": ""
            }
           }
          ],
          "contour": [
           {
            "type": "contour",
            "colorbar": {
             "outlinewidth": 0,
             "ticks": ""
            },
            "colorscale": [
             [
              0.0,
              "#0d0887"
             ],
             [
              0.1111111111111111,
              "#46039f"
             ],
             [
              0.2222222222222222,
              "#7201a8"
             ],
             [
              0.3333333333333333,
              "#9c179e"
             ],
             [
              0.4444444444444444,
              "#bd3786"
             ],
             [
              0.5555555555555556,
              "#d8576b"
             ],
             [
              0.6666666666666666,
              "#ed7953"
             ],
             [
              0.7777777777777778,
              "#fb9f3a"
             ],
             [
              0.8888888888888888,
              "#fdca26"
             ],
             [
              1.0,
              "#f0f921"
             ]
            ]
           }
          ],
          "surface": [
           {
            "type": "surface",
            "colorbar": {
             "outlinewidth": 0,
             "ticks": ""
            },
            "colorscale": [
             [
              0.0,
              "#0d0887"
             ],
             [
              0.1111111111111111,
              "#46039f"
             ],
             [
              0.2222222222222222,
              "#7201a8"
             ],
             [
              0.3333333333333333,
              "#9c179e"
             ],
             [
              0.4444444444444444,
              "#bd3786"
             ],
             [
              0.5555555555555556,
              "#d8576b"
             ],
             [
              0.6666666666666666,
              "#ed7953"
             ],
             [
              0.7777777777777778,
              "#fb9f3a"
             ],
             [
              0.8888888888888888,
              "#fdca26"
             ],
             [
              1.0,
              "#f0f921"
             ]
            ]
           }
          ],
          "mesh3d": [
           {
            "type": "mesh3d",
            "colorbar": {
             "outlinewidth": 0,
             "ticks": ""
            }
           }
          ],
          "scatter": [
           {
            "fillpattern": {
             "fillmode": "overlay",
             "size": 10,
             "solidity": 0.2
            },
            "type": "scatter"
           }
          ],
          "parcoords": [
           {
            "type": "parcoords",
            "line": {
             "colorbar": {
              "outlinewidth": 0,
              "ticks": ""
             }
            }
           }
          ],
          "scatterpolargl": [
           {
            "type": "scatterpolargl",
            "marker": {
             "colorbar": {
              "outlinewidth": 0,
              "ticks": ""
             }
            }
           }
          ],
          "bar": [
           {
            "error_x": {
             "color": "#2a3f5f"
            },
            "error_y": {
             "color": "#2a3f5f"
            },
            "marker": {
             "line": {
              "color": "#E5ECF6",
              "width": 0.5
             },
             "pattern": {
              "fillmode": "overlay",
              "size": 10,
              "solidity": 0.2
             }
            },
            "type": "bar"
           }
          ],
          "scattergeo": [
           {
            "type": "scattergeo",
            "marker": {
             "colorbar": {
              "outlinewidth": 0,
              "ticks": ""
             }
            }
           }
          ],
          "scatterpolar": [
           {
            "type": "scatterpolar",
            "marker": {
             "colorbar": {
              "outlinewidth": 0,
              "ticks": ""
             }
            }
           }
          ],
          "histogram": [
           {
            "marker": {
             "pattern": {
              "fillmode": "overlay",
              "size": 10,
              "solidity": 0.2
             }
            },
            "type": "histogram"
           }
          ],
          "scattergl": [
           {
            "type": "scattergl",
            "marker": {
             "colorbar": {
              "outlinewidth": 0,
              "ticks": ""
             }
            }
           }
          ],
          "scatter3d": [
           {
            "type": "scatter3d",
            "line": {
             "colorbar": {
              "outlinewidth": 0,
              "ticks": ""
             }
            },
            "marker": {
             "colorbar": {
              "outlinewidth": 0,
              "ticks": ""
             }
            }
           }
          ],
          "scattermapbox": [
           {
            "type": "scattermapbox",
            "marker": {
             "colorbar": {
              "outlinewidth": 0,
              "ticks": ""
             }
            }
           }
          ],
          "scatterternary": [
           {
            "type": "scatterternary",
            "marker": {
             "colorbar": {
              "outlinewidth": 0,
              "ticks": ""
             }
            }
           }
          ],
          "scattercarpet": [
           {
            "type": "scattercarpet",
            "marker": {
             "colorbar": {
              "outlinewidth": 0,
              "ticks": ""
             }
            }
           }
          ],
          "carpet": [
           {
            "aaxis": {
             "endlinecolor": "#2a3f5f",
             "gridcolor": "white",
             "linecolor": "white",
             "minorgridcolor": "white",
             "startlinecolor": "#2a3f5f"
            },
            "baxis": {
             "endlinecolor": "#2a3f5f",
             "gridcolor": "white",
             "linecolor": "white",
             "minorgridcolor": "white",
             "startlinecolor": "#2a3f5f"
            },
            "type": "carpet"
           }
          ],
          "table": [
           {
            "cells": {
             "fill": {
              "color": "#EBF0F8"
             },
             "line": {
              "color": "white"
             }
            },
            "header": {
             "fill": {
              "color": "#C8D4E3"
             },
             "line": {
              "color": "white"
             }
            },
            "type": "table"
           }
          ],
          "barpolar": [
           {
            "marker": {
             "line": {
              "color": "#E5ECF6",
              "width": 0.5
             },
             "pattern": {
              "fillmode": "overlay",
              "size": 10,
              "solidity": 0.2
             }
            },
            "type": "barpolar"
           }
          ],
          "pie": [
           {
            "automargin": true,
            "type": "pie"
           }
          ]
         },
         "layout": {
          "autotypenumbers": "strict",
          "colorway": [
           "#636efa",
           "#EF553B",
           "#00cc96",
           "#ab63fa",
           "#FFA15A",
           "#19d3f3",
           "#FF6692",
           "#B6E880",
           "#FF97FF",
           "#FECB52"
          ],
          "font": {
           "color": "#2a3f5f"
          },
          "hovermode": "closest",
          "hoverlabel": {
           "align": "left"
          },
          "paper_bgcolor": "white",
          "plot_bgcolor": "#E5ECF6",
          "polar": {
           "bgcolor": "#E5ECF6",
           "angularaxis": {
            "gridcolor": "white",
            "linecolor": "white",
            "ticks": ""
           },
           "radialaxis": {
            "gridcolor": "white",
            "linecolor": "white",
            "ticks": ""
           }
          },
          "ternary": {
           "bgcolor": "#E5ECF6",
           "aaxis": {
            "gridcolor": "white",
            "linecolor": "white",
            "ticks": ""
           },
           "baxis": {
            "gridcolor": "white",
            "linecolor": "white",
            "ticks": ""
           },
           "caxis": {
            "gridcolor": "white",
            "linecolor": "white",
            "ticks": ""
           }
          },
          "coloraxis": {
           "colorbar": {
            "outlinewidth": 0,
            "ticks": ""
           }
          },
          "colorscale": {
           "sequential": [
            [
             0.0,
             "#0d0887"
            ],
            [
             0.1111111111111111,
             "#46039f"
            ],
            [
             0.2222222222222222,
             "#7201a8"
            ],
            [
             0.3333333333333333,
             "#9c179e"
            ],
            [
             0.4444444444444444,
             "#bd3786"
            ],
            [
             0.5555555555555556,
             "#d8576b"
            ],
            [
             0.6666666666666666,
             "#ed7953"
            ],
            [
             0.7777777777777778,
             "#fb9f3a"
            ],
            [
             0.8888888888888888,
             "#fdca26"
            ],
            [
             1.0,
             "#f0f921"
            ]
           ],
           "sequentialminus": [
            [
             0.0,
             "#0d0887"
            ],
            [
             0.1111111111111111,
             "#46039f"
            ],
            [
             0.2222222222222222,
             "#7201a8"
            ],
            [
             0.3333333333333333,
             "#9c179e"
            ],
            [
             0.4444444444444444,
             "#bd3786"
            ],
            [
             0.5555555555555556,
             "#d8576b"
            ],
            [
             0.6666666666666666,
             "#ed7953"
            ],
            [
             0.7777777777777778,
             "#fb9f3a"
            ],
            [
             0.8888888888888888,
             "#fdca26"
            ],
            [
             1.0,
             "#f0f921"
            ]
           ],
           "diverging": [
            [
             0,
             "#8e0152"
            ],
            [
             0.1,
             "#c51b7d"
            ],
            [
             0.2,
             "#de77ae"
            ],
            [
             0.3,
             "#f1b6da"
            ],
            [
             0.4,
             "#fde0ef"
            ],
            [
             0.5,
             "#f7f7f7"
            ],
            [
             0.6,
             "#e6f5d0"
            ],
            [
             0.7,
             "#b8e186"
            ],
            [
             0.8,
             "#7fbc41"
            ],
            [
             0.9,
             "#4d9221"
            ],
            [
             1,
             "#276419"
            ]
           ]
          },
          "xaxis": {
           "gridcolor": "white",
           "linecolor": "white",
           "ticks": "",
           "title": {
            "standoff": 15
           },
           "zerolinecolor": "white",
           "automargin": true,
           "zerolinewidth": 2
          },
          "yaxis": {
           "gridcolor": "white",
           "linecolor": "white",
           "ticks": "",
           "title": {
            "standoff": 15
           },
           "zerolinecolor": "white",
           "automargin": true,
           "zerolinewidth": 2
          },
          "scene": {
           "xaxis": {
            "backgroundcolor": "#E5ECF6",
            "gridcolor": "white",
            "linecolor": "white",
            "showbackground": true,
            "ticks": "",
            "zerolinecolor": "white",
            "gridwidth": 2
           },
           "yaxis": {
            "backgroundcolor": "#E5ECF6",
            "gridcolor": "white",
            "linecolor": "white",
            "showbackground": true,
            "ticks": "",
            "zerolinecolor": "white",
            "gridwidth": 2
           },
           "zaxis": {
            "backgroundcolor": "#E5ECF6",
            "gridcolor": "white",
            "linecolor": "white",
            "showbackground": true,
            "ticks": "",
            "zerolinecolor": "white",
            "gridwidth": 2
           }
          },
          "shapedefaults": {
           "line": {
            "color": "#2a3f5f"
           }
          },
          "annotationdefaults": {
           "arrowcolor": "#2a3f5f",
           "arrowhead": 0,
           "arrowwidth": 1
          },
          "geo": {
           "bgcolor": "white",
           "landcolor": "#E5ECF6",
           "subunitcolor": "white",
           "showland": true,
           "showlakes": true,
           "lakecolor": "white"
          },
          "title": {
           "x": 0.05
          },
          "mapbox": {
           "style": "light"
          }
         }
        },
        "xaxis": {
         "anchor": "y",
         "domain": [
          0.0,
          1.0
         ],
         "matches": "x2",
         "showticklabels": false,
         "linecolor": "#666666",
         "gridcolor": "#d9d9d9",
         "zerolinecolor": "rgba(0,0,0,0)",
         "linewidth": 2,
         "showline": true,
         "showgrid": false,
         "mirror": true
        },
        "yaxis": {
         "anchor": "x",
         "domain": [
          0.25,
          1.0
         ],
         "title": {
          "text": "Counts"
         },
         "linecolor": "#666666",
         "zerolinecolor": "rgba(0,0,0,0)",
         "linewidth": 2,
         "mirror": true,
         "type": "log",
         "range": [
          -5.5,
          2.49544213192182
         ]
        },
        "xaxis2": {
         "anchor": "y2",
         "domain": [
          0.0,
          1.0
         ],
         "title": {
          "text": "No. of tracks"
         },
         "linecolor": "#666666",
         "gridcolor": "#d9d9d9",
         "zerolinecolor": "rgba(0,0,0,0)",
         "linewidth": 2,
         "showline": true,
         "showgrid": false,
         "mirror": false
        },
        "yaxis2": {
         "anchor": "x2",
         "domain": [
          0.0,
          0.25
         ],
         "title": {
          "text": "Rec./Truth"
         },
         "linecolor": "#666666",
         "zerolinecolor": "rgba(0,0,0,0)",
         "linewidth": 2,
         "mirror": true,
         "range": [
          0,
          2.0
         ]
        },
        "shapes": [
         {
          "line": {
           "color": "grey",
           "dash": "dash",
           "width": 1
          },
          "type": "line",
          "x0": 0,
          "x1": 1,
          "xref": "x2 domain",
          "y0": 1.0,
          "y1": 1.0,
          "yref": "y2"
         }
        ],
        "annotations": [
         {
          "font": {
           "family": "Cambria",
           "size": 34
          },
          "showarrow": false,
          "text": "<i><b>DarkSHINE<b><i>",
          "x": 0.05,
          "xref": "paper",
          "y": 0.97,
          "yref": "paper"
         },
         {
          "font": {
           "family": "Cambria",
           "size": 31
          },
          "showarrow": false,
          "text": "Simulation",
          "x": 0.455,
          "xref": "paper",
          "y": 0.9662999999999999,
          "yref": "paper"
         },
         {
          "showarrow": false,
          "text": "$\\Large{E^{e}_{0} = 8~\\text{GeV},~10^{6}~\\text{EOT}}$",
          "x": 0.05,
          "xref": "paper",
          "y": 0.895,
          "yref": "paper"
         },
         {
          "font": {
           "family": "Cambria",
           "size": 20
          },
          "showarrow": false,
          "text": "Recoil Region, No. of tracks",
          "x": 0.05,
          "xref": "paper",
          "y": 0.833,
          "yref": "paper"
         }
        ],
        "legend": {
         "font": {
          "size": 14
         },
         "orientation": "v",
         "yanchor": "top",
         "y": 0.99,
         "xanchor": "right",
         "x": 0.98
        },
        "width": 800,
        "height": 800,
        "paper_bgcolor": "rgba(0,0,0,0)",
        "plot_bgcolor": "rgba(0,0,0,0)"
       },
       "config": {
        "plotlyServerURL": "https://plot.ly"
       }
      },
      "text/html": "<div>                            <div id=\"1834b95f-e674-4077-9cdc-508ceab418df\" class=\"plotly-graph-div\" style=\"height:800px; width:800px;\"></div>            <script type=\"text/javascript\">                require([\"plotly\"], function(Plotly) {                    window.PLOTLYENV=window.PLOTLYENV || {};                                    if (document.getElementById(\"1834b95f-e674-4077-9cdc-508ceab418df\")) {                    Plotly.newPlot(                        \"1834b95f-e674-4077-9cdc-508ceab418df\",                        [{\"error_y\":{\"array\":[0.00014000000000000001,0.004401454305113254,0.0004560701700396552,0.0006251399843235114,7.745966692414834e-05,5.291502622129182e-05,0.0,0.0,0.0,0.0,0.0,0.0,0.0,0.0,0.0],\"type\":\"data\",\"visible\":true},\"line\":{\"color\":\"rgba(0,0,0,0.8)\"},\"name\":\"Truth\",\"x\":[0.0,1.0,2.0,3.0,4.0,5.0,6.0,7.0,8.0,9.0,10.0,11.0,12.0,16.0,17.0],\"y\":[0.0009800000000000002,0.9686400000000001,0.010400000000000001,0.019540000000000002,0.00030000000000000003,0.00014000000000000001,0.0,0.0,0.0,0.0,0.0,0.0,0.0,0.0,0.0],\"type\":\"scatter\",\"xaxis\":\"x\",\"yaxis\":\"y\"},{\"error_y\":{\"array\":[0.00015112968282630213,0.004406376901849607,0.0005299944869434593,0.0004783330589057779,0.0001537582221929019,0.00014845460979853595,7.489905890731726e-05,0.00010401458128566402,6.330125831068099e-05,2.8309183328791238e-05,2.0017615501641443e-05,2.0017615501641443e-05,2.0017615501641443e-05,2.0017615501641443e-05,2.0017615501641443e-05],\"type\":\"data\",\"visible\":true},\"fillcolor\":\"rgba(0,100,80,0.4)\",\"line\":{\"color\":\"rgba(0,100,80,0.6)\"},\"name\":\"CKF\",\"x\":[0.0,1.0,2.0,3.0,4.0,5.0,6.0,7.0,8.0,9.0,10.0,11.0,12.0,16.0,17.0],\"y\":[0.0011410040835935623,0.9699535591320362,0.014032348466650652,0.011430058451437264,0.0011810393145968451,0.0011009688525902793,0.0002802466170229802,0.000540475618544319,0.00020017615501641443,4.003523100328289e-05,2.0017615501641443e-05,2.0017615501641443e-05,2.0017615501641443e-05,2.0017615501641443e-05,2.0017615501641443e-05],\"type\":\"scatter\",\"xaxis\":\"x\",\"yaxis\":\"y\"},{\"error_y\":{\"array\":[0.00015112968282630213,0.004406376901849607,0.0005299944869434593,0.0004783330589057779,0.0001537582221929019,0.00014845460979853595,7.489905890731726e-05,0.00010401458128566402,6.330125831068099e-05,2.8309183328791238e-05,2.0017615501641443e-05,2.0017615501641443e-05,2.0017615501641443e-05,2.0017615501641443e-05,2.0017615501641443e-05],\"type\":\"data\",\"visible\":true},\"fillcolor\":\"rgba(204,40,46,0.4)\",\"line\":{\"color\":\"rgba(204,40,46,0.6)\"},\"name\":\"GNN\",\"x\":[0.0,1.0,2.0,3.0,4.0,5.0,6.0,7.0,8.0,9.0,10.0,11.0,12.0,16.0,17.0],\"y\":[0.0021000000000000003,0.9895600000000001,0.007240000000000001,0.00088,0.00018,4e-05,0.0,0.0,0.0,0.0,0.0,0.0,0.0,0.0,0.0],\"type\":\"scatter\",\"xaxis\":\"x\",\"yaxis\":\"y\"},{\"error_y\":{\"array\":[4.538218612764421e-06,1.2873807277580594e-07,1.5623814902190083e-06,6.166168974147539e-07],\"color\":\"rgba(0,100,80,0.4)\",\"thickness\":1.5,\"type\":\"data\",\"width\":3},\"marker\":{\"color\":\"rgba(0,100,80,0.4)\",\"size\":10,\"symbol\":\"circle\"},\"mode\":\"markers\",\"name\":\"CKF/Truth\",\"x\":[0.0,1.0,2.0,3.0],\"y\":[1.1642898812179205,1.0013560859886397,1.3492642756394857,0.5849569320080482],\"type\":\"scatter\",\"xaxis\":\"x2\",\"yaxis\":\"y2\"},{\"error_y\":{\"array\":[1.3060234763895558e-07,9.530453309376368e-07,1.3881211116712777e-07,5.059644256269407e-06,4.581621289927276e-06],\"color\":\"rgba(204,40,46,0.4)\",\"thickness\":1.5,\"type\":\"data\",\"width\":3},\"marker\":{\"color\":\"rgba(204,40,46,0.4)\",\"size\":10,\"symbol\":\"diamond\"},\"mode\":\"markers\",\"name\":\"GNN/Truth\",\"x\":[1.0,2.0,3.0,4.0,5.0],\"y\":[1.0215972910472415,0.6961538461538461,0.04503582395087001,0.6,0.2857142857142857],\"type\":\"scatter\",\"xaxis\":\"x2\",\"yaxis\":\"y2\"},{\"marker\":{\"color\":\"rgba(0,100,80,0.4)\",\"line\":{\"width\":2},\"size\":12,\"symbol\":\"arrow-up-open\"},\"mode\":\"markers\",\"name\":\"CKF/Truth >=2.0\",\"showlegend\":false,\"x\":[4.0,5.0,6.0,7.0,8.0,9.0,10.0,11.0,12.0,16.0,17.0],\"y\":[2.0,2.0,2.0,2.0,2.0,2.0,2.0,2.0,2.0,2.0,2.0],\"type\":\"scatter\",\"xaxis\":\"x2\",\"yaxis\":\"y2\"},{\"marker\":{\"color\":\"rgba(204,40,46,0.4)\",\"line\":{\"width\":2},\"size\":12,\"symbol\":\"arrow-up-open\"},\"mode\":\"markers\",\"name\":\"GNN/Truth >=2.0\",\"showlegend\":false,\"x\":[0.0],\"y\":[2.0],\"type\":\"scatter\",\"xaxis\":\"x2\",\"yaxis\":\"y2\"}],                        {\"template\":{\"data\":{\"histogram2dcontour\":[{\"type\":\"histogram2dcontour\",\"colorbar\":{\"outlinewidth\":0,\"ticks\":\"\"},\"colorscale\":[[0.0,\"#0d0887\"],[0.1111111111111111,\"#46039f\"],[0.2222222222222222,\"#7201a8\"],[0.3333333333333333,\"#9c179e\"],[0.4444444444444444,\"#bd3786\"],[0.5555555555555556,\"#d8576b\"],[0.6666666666666666,\"#ed7953\"],[0.7777777777777778,\"#fb9f3a\"],[0.8888888888888888,\"#fdca26\"],[1.0,\"#f0f921\"]]}],\"choropleth\":[{\"type\":\"choropleth\",\"colorbar\":{\"outlinewidth\":0,\"ticks\":\"\"}}],\"histogram2d\":[{\"type\":\"histogram2d\",\"colorbar\":{\"outlinewidth\":0,\"ticks\":\"\"},\"colorscale\":[[0.0,\"#0d0887\"],[0.1111111111111111,\"#46039f\"],[0.2222222222222222,\"#7201a8\"],[0.3333333333333333,\"#9c179e\"],[0.4444444444444444,\"#bd3786\"],[0.5555555555555556,\"#d8576b\"],[0.6666666666666666,\"#ed7953\"],[0.7777777777777778,\"#fb9f3a\"],[0.8888888888888888,\"#fdca26\"],[1.0,\"#f0f921\"]]}],\"heatmap\":[{\"type\":\"heatmap\",\"colorbar\":{\"outlinewidth\":0,\"ticks\":\"\"},\"colorscale\":[[0.0,\"#0d0887\"],[0.1111111111111111,\"#46039f\"],[0.2222222222222222,\"#7201a8\"],[0.3333333333333333,\"#9c179e\"],[0.4444444444444444,\"#bd3786\"],[0.5555555555555556,\"#d8576b\"],[0.6666666666666666,\"#ed7953\"],[0.7777777777777778,\"#fb9f3a\"],[0.8888888888888888,\"#fdca26\"],[1.0,\"#f0f921\"]]}],\"heatmapgl\":[{\"type\":\"heatmapgl\",\"colorbar\":{\"outlinewidth\":0,\"ticks\":\"\"},\"colorscale\":[[0.0,\"#0d0887\"],[0.1111111111111111,\"#46039f\"],[0.2222222222222222,\"#7201a8\"],[0.3333333333333333,\"#9c179e\"],[0.4444444444444444,\"#bd3786\"],[0.5555555555555556,\"#d8576b\"],[0.6666666666666666,\"#ed7953\"],[0.7777777777777778,\"#fb9f3a\"],[0.8888888888888888,\"#fdca26\"],[1.0,\"#f0f921\"]]}],\"contourcarpet\":[{\"type\":\"contourcarpet\",\"colorbar\":{\"outlinewidth\":0,\"ticks\":\"\"}}],\"contour\":[{\"type\":\"contour\",\"colorbar\":{\"outlinewidth\":0,\"ticks\":\"\"},\"colorscale\":[[0.0,\"#0d0887\"],[0.1111111111111111,\"#46039f\"],[0.2222222222222222,\"#7201a8\"],[0.3333333333333333,\"#9c179e\"],[0.4444444444444444,\"#bd3786\"],[0.5555555555555556,\"#d8576b\"],[0.6666666666666666,\"#ed7953\"],[0.7777777777777778,\"#fb9f3a\"],[0.8888888888888888,\"#fdca26\"],[1.0,\"#f0f921\"]]}],\"surface\":[{\"type\":\"surface\",\"colorbar\":{\"outlinewidth\":0,\"ticks\":\"\"},\"colorscale\":[[0.0,\"#0d0887\"],[0.1111111111111111,\"#46039f\"],[0.2222222222222222,\"#7201a8\"],[0.3333333333333333,\"#9c179e\"],[0.4444444444444444,\"#bd3786\"],[0.5555555555555556,\"#d8576b\"],[0.6666666666666666,\"#ed7953\"],[0.7777777777777778,\"#fb9f3a\"],[0.8888888888888888,\"#fdca26\"],[1.0,\"#f0f921\"]]}],\"mesh3d\":[{\"type\":\"mesh3d\",\"colorbar\":{\"outlinewidth\":0,\"ticks\":\"\"}}],\"scatter\":[{\"fillpattern\":{\"fillmode\":\"overlay\",\"size\":10,\"solidity\":0.2},\"type\":\"scatter\"}],\"parcoords\":[{\"type\":\"parcoords\",\"line\":{\"colorbar\":{\"outlinewidth\":0,\"ticks\":\"\"}}}],\"scatterpolargl\":[{\"type\":\"scatterpolargl\",\"marker\":{\"colorbar\":{\"outlinewidth\":0,\"ticks\":\"\"}}}],\"bar\":[{\"error_x\":{\"color\":\"#2a3f5f\"},\"error_y\":{\"color\":\"#2a3f5f\"},\"marker\":{\"line\":{\"color\":\"#E5ECF6\",\"width\":0.5},\"pattern\":{\"fillmode\":\"overlay\",\"size\":10,\"solidity\":0.2}},\"type\":\"bar\"}],\"scattergeo\":[{\"type\":\"scattergeo\",\"marker\":{\"colorbar\":{\"outlinewidth\":0,\"ticks\":\"\"}}}],\"scatterpolar\":[{\"type\":\"scatterpolar\",\"marker\":{\"colorbar\":{\"outlinewidth\":0,\"ticks\":\"\"}}}],\"histogram\":[{\"marker\":{\"pattern\":{\"fillmode\":\"overlay\",\"size\":10,\"solidity\":0.2}},\"type\":\"histogram\"}],\"scattergl\":[{\"type\":\"scattergl\",\"marker\":{\"colorbar\":{\"outlinewidth\":0,\"ticks\":\"\"}}}],\"scatter3d\":[{\"type\":\"scatter3d\",\"line\":{\"colorbar\":{\"outlinewidth\":0,\"ticks\":\"\"}},\"marker\":{\"colorbar\":{\"outlinewidth\":0,\"ticks\":\"\"}}}],\"scattermapbox\":[{\"type\":\"scattermapbox\",\"marker\":{\"colorbar\":{\"outlinewidth\":0,\"ticks\":\"\"}}}],\"scatterternary\":[{\"type\":\"scatterternary\",\"marker\":{\"colorbar\":{\"outlinewidth\":0,\"ticks\":\"\"}}}],\"scattercarpet\":[{\"type\":\"scattercarpet\",\"marker\":{\"colorbar\":{\"outlinewidth\":0,\"ticks\":\"\"}}}],\"carpet\":[{\"aaxis\":{\"endlinecolor\":\"#2a3f5f\",\"gridcolor\":\"white\",\"linecolor\":\"white\",\"minorgridcolor\":\"white\",\"startlinecolor\":\"#2a3f5f\"},\"baxis\":{\"endlinecolor\":\"#2a3f5f\",\"gridcolor\":\"white\",\"linecolor\":\"white\",\"minorgridcolor\":\"white\",\"startlinecolor\":\"#2a3f5f\"},\"type\":\"carpet\"}],\"table\":[{\"cells\":{\"fill\":{\"color\":\"#EBF0F8\"},\"line\":{\"color\":\"white\"}},\"header\":{\"fill\":{\"color\":\"#C8D4E3\"},\"line\":{\"color\":\"white\"}},\"type\":\"table\"}],\"barpolar\":[{\"marker\":{\"line\":{\"color\":\"#E5ECF6\",\"width\":0.5},\"pattern\":{\"fillmode\":\"overlay\",\"size\":10,\"solidity\":0.2}},\"type\":\"barpolar\"}],\"pie\":[{\"automargin\":true,\"type\":\"pie\"}]},\"layout\":{\"autotypenumbers\":\"strict\",\"colorway\":[\"#636efa\",\"#EF553B\",\"#00cc96\",\"#ab63fa\",\"#FFA15A\",\"#19d3f3\",\"#FF6692\",\"#B6E880\",\"#FF97FF\",\"#FECB52\"],\"font\":{\"color\":\"#2a3f5f\"},\"hovermode\":\"closest\",\"hoverlabel\":{\"align\":\"left\"},\"paper_bgcolor\":\"white\",\"plot_bgcolor\":\"#E5ECF6\",\"polar\":{\"bgcolor\":\"#E5ECF6\",\"angularaxis\":{\"gridcolor\":\"white\",\"linecolor\":\"white\",\"ticks\":\"\"},\"radialaxis\":{\"gridcolor\":\"white\",\"linecolor\":\"white\",\"ticks\":\"\"}},\"ternary\":{\"bgcolor\":\"#E5ECF6\",\"aaxis\":{\"gridcolor\":\"white\",\"linecolor\":\"white\",\"ticks\":\"\"},\"baxis\":{\"gridcolor\":\"white\",\"linecolor\":\"white\",\"ticks\":\"\"},\"caxis\":{\"gridcolor\":\"white\",\"linecolor\":\"white\",\"ticks\":\"\"}},\"coloraxis\":{\"colorbar\":{\"outlinewidth\":0,\"ticks\":\"\"}},\"colorscale\":{\"sequential\":[[0.0,\"#0d0887\"],[0.1111111111111111,\"#46039f\"],[0.2222222222222222,\"#7201a8\"],[0.3333333333333333,\"#9c179e\"],[0.4444444444444444,\"#bd3786\"],[0.5555555555555556,\"#d8576b\"],[0.6666666666666666,\"#ed7953\"],[0.7777777777777778,\"#fb9f3a\"],[0.8888888888888888,\"#fdca26\"],[1.0,\"#f0f921\"]],\"sequentialminus\":[[0.0,\"#0d0887\"],[0.1111111111111111,\"#46039f\"],[0.2222222222222222,\"#7201a8\"],[0.3333333333333333,\"#9c179e\"],[0.4444444444444444,\"#bd3786\"],[0.5555555555555556,\"#d8576b\"],[0.6666666666666666,\"#ed7953\"],[0.7777777777777778,\"#fb9f3a\"],[0.8888888888888888,\"#fdca26\"],[1.0,\"#f0f921\"]],\"diverging\":[[0,\"#8e0152\"],[0.1,\"#c51b7d\"],[0.2,\"#de77ae\"],[0.3,\"#f1b6da\"],[0.4,\"#fde0ef\"],[0.5,\"#f7f7f7\"],[0.6,\"#e6f5d0\"],[0.7,\"#b8e186\"],[0.8,\"#7fbc41\"],[0.9,\"#4d9221\"],[1,\"#276419\"]]},\"xaxis\":{\"gridcolor\":\"white\",\"linecolor\":\"white\",\"ticks\":\"\",\"title\":{\"standoff\":15},\"zerolinecolor\":\"white\",\"automargin\":true,\"zerolinewidth\":2},\"yaxis\":{\"gridcolor\":\"white\",\"linecolor\":\"white\",\"ticks\":\"\",\"title\":{\"standoff\":15},\"zerolinecolor\":\"white\",\"automargin\":true,\"zerolinewidth\":2},\"scene\":{\"xaxis\":{\"backgroundcolor\":\"#E5ECF6\",\"gridcolor\":\"white\",\"linecolor\":\"white\",\"showbackground\":true,\"ticks\":\"\",\"zerolinecolor\":\"white\",\"gridwidth\":2},\"yaxis\":{\"backgroundcolor\":\"#E5ECF6\",\"gridcolor\":\"white\",\"linecolor\":\"white\",\"showbackground\":true,\"ticks\":\"\",\"zerolinecolor\":\"white\",\"gridwidth\":2},\"zaxis\":{\"backgroundcolor\":\"#E5ECF6\",\"gridcolor\":\"white\",\"linecolor\":\"white\",\"showbackground\":true,\"ticks\":\"\",\"zerolinecolor\":\"white\",\"gridwidth\":2}},\"shapedefaults\":{\"line\":{\"color\":\"#2a3f5f\"}},\"annotationdefaults\":{\"arrowcolor\":\"#2a3f5f\",\"arrowhead\":0,\"arrowwidth\":1},\"geo\":{\"bgcolor\":\"white\",\"landcolor\":\"#E5ECF6\",\"subunitcolor\":\"white\",\"showland\":true,\"showlakes\":true,\"lakecolor\":\"white\"},\"title\":{\"x\":0.05},\"mapbox\":{\"style\":\"light\"}}},\"xaxis\":{\"anchor\":\"y\",\"domain\":[0.0,1.0],\"matches\":\"x2\",\"showticklabels\":false,\"linecolor\":\"#666666\",\"gridcolor\":\"#d9d9d9\",\"zerolinecolor\":\"rgba(0,0,0,0)\",\"linewidth\":2,\"showline\":true,\"showgrid\":false,\"mirror\":true},\"yaxis\":{\"anchor\":\"x\",\"domain\":[0.25,1.0],\"title\":{\"text\":\"Counts\"},\"linecolor\":\"#666666\",\"zerolinecolor\":\"rgba(0,0,0,0)\",\"linewidth\":2,\"mirror\":true,\"type\":\"log\",\"range\":[-5.5,2.49544213192182]},\"xaxis2\":{\"anchor\":\"y2\",\"domain\":[0.0,1.0],\"title\":{\"text\":\"No. of tracks\"},\"linecolor\":\"#666666\",\"gridcolor\":\"#d9d9d9\",\"zerolinecolor\":\"rgba(0,0,0,0)\",\"linewidth\":2,\"showline\":true,\"showgrid\":false,\"mirror\":false},\"yaxis2\":{\"anchor\":\"x2\",\"domain\":[0.0,0.25],\"title\":{\"text\":\"Rec./Truth\"},\"linecolor\":\"#666666\",\"zerolinecolor\":\"rgba(0,0,0,0)\",\"linewidth\":2,\"mirror\":true,\"range\":[0,2.0]},\"shapes\":[{\"line\":{\"color\":\"grey\",\"dash\":\"dash\",\"width\":1},\"type\":\"line\",\"x0\":0,\"x1\":1,\"xref\":\"x2 domain\",\"y0\":1.0,\"y1\":1.0,\"yref\":\"y2\"}],\"annotations\":[{\"font\":{\"family\":\"Cambria\",\"size\":34},\"showarrow\":false,\"text\":\"<i><b>DarkSHINE<b><i>\",\"x\":0.05,\"xref\":\"paper\",\"y\":0.97,\"yref\":\"paper\"},{\"font\":{\"family\":\"Cambria\",\"size\":31},\"showarrow\":false,\"text\":\"Simulation\",\"x\":0.455,\"xref\":\"paper\",\"y\":0.9662999999999999,\"yref\":\"paper\"},{\"showarrow\":false,\"text\":\"$\\\\Large{E^{e}_{0} = 8~\\\\text{GeV},~10^{6}~\\\\text{EOT}}$\",\"x\":0.05,\"xref\":\"paper\",\"y\":0.895,\"yref\":\"paper\"},{\"font\":{\"family\":\"Cambria\",\"size\":20},\"showarrow\":false,\"text\":\"Recoil Region, No. of tracks\",\"x\":0.05,\"xref\":\"paper\",\"y\":0.833,\"yref\":\"paper\"}],\"legend\":{\"font\":{\"size\":14},\"orientation\":\"v\",\"yanchor\":\"top\",\"y\":0.99,\"xanchor\":\"right\",\"x\":0.98},\"width\":800,\"height\":800,\"paper_bgcolor\":\"rgba(0,0,0,0)\",\"plot_bgcolor\":\"rgba(0,0,0,0)\"},                        {\"responsive\": true}                    ).then(function(){\n                            \nvar gd = document.getElementById('1834b95f-e674-4077-9cdc-508ceab418df');\nvar x = new MutationObserver(function (mutations, observer) {{\n        var display = window.getComputedStyle(gd).display;\n        if (!display || display === 'none') {{\n            console.log([gd, 'removed!']);\n            Plotly.purge(gd);\n            observer.disconnect();\n        }}\n}});\n\n// Listen for the removal of the full notebook cells\nvar notebookContainer = gd.closest('#notebook-container');\nif (notebookContainer) {{\n    x.observe(notebookContainer, {childList: true});\n}}\n\n// Listen for the clearing of the current output cell\nvar outputEl = gd.closest('.output');\nif (outputEl) {{\n    x.observe(outputEl, {childList: true});\n}}\n\n                        })                };                });            </script>        </div>"
     },
     "metadata": {},
     "output_type": "display_data"
    },
    {
     "data": {
      "application/vnd.plotly.v1+json": {
       "data": [
        {
         "error_y": {
          "array": [
           6.945288640330723E-5,
           8.73929655661061E-5,
           8.73929655661061E-5,
           7.765068761568292E-5,
           9.403965274221443E-5,
           8.506206642579315E-5,
           8.506206642579315E-5,
           8.966329079534814E-5,
           7.501769125596851E-5,
           8.73929655661061E-5,
           9.615316725770835E-5,
           9.187753262938508E-5,
           8.966329079534814E-5,
           8.506206642579315E-5,
           1.1517458240347311E-4,
           1.002466066523648E-4,
           1.1517458240347311E-4,
           1.0223188069837369E-4,
           1.0796889963579412E-4,
           1.0796889963579412E-4,
           1.1690662820228363E-4,
           1.2680304188978405E-4,
           1.2520797157804996E-4,
           1.3299215230889587E-4,
           1.1517458240347311E-4,
           1.3299215230889587E-4,
           1.1162989680273515E-4,
           1.526910821794396E-4,
           1.4177011070965525E-4,
           1.591365545881623E-4,
           1.641107679265483E-4,
           1.701241328515863E-4,
           1.7363221600826808E-4,
           1.8375506525877017E-4,
           2.0544440856426003E-4,
           1.9438538233720269E-4,
           2.4473315587813426E-4,
           2.536060837795681E-4,
           2.932962856292037E-4,
           3.257629129512986E-4,
           4.133273478374462E-4,
           5.296968467880148E-4,
           0.004328100079035953,
           0.0,
           0.0,
           0.0,
           0.0,
           0.0,
           0.0
          ],
          "type": "data",
          "visible": true
         },
         "line": {
          "color": "rgba(0,0,0,0.8)"
         },
         "name": "Truth",
         "x": [
          1000.0,
          1163.265306122449,
          1326.5306122448978,
          1489.795918367347,
          1653.061224489796,
          1816.3265306122448,
          1979.591836734694,
          2142.857142857143,
          2306.122448979592,
          2469.3877551020405,
          2632.6530612244896,
          2795.918367346939,
          2959.183673469388,
          3122.4489795918366,
          3285.714285714286,
          3448.9795918367345,
          3612.2448979591836,
          3775.5102040816328,
          3938.7755102040815,
          4102.040816326531,
          4265.306122448979,
          4428.571428571428,
          4591.836734693878,
          4755.102040816326,
          4918.367346938776,
          5081.632653061224,
          5244.897959183673,
          5408.163265306122,
          5571.428571428572,
          5734.693877551021,
          5897.959183673469,
          6061.224489795918,
          6224.489795918367,
          6387.755102040816,
          6551.0204081632655,
          6714.285714285714,
          6877.551020408163,
          7040.816326530612,
          7204.081632653061,
          7367.34693877551,
          7530.612244897959,
          7693.877551020408,
          7857.142857142857,
          8020.408163265306,
          8183.673469387755,
          8346.938775510203,
          8510.204081632652,
          8673.469387755102,
          8836.734693877552
         ],
         "y": [
          2.4059185596567555E-4,
          3.809371052789863E-4,
          3.809371052789863E-4,
          3.007398199570944E-4,
          4.410850692704052E-4,
          3.608877839485133E-4,
          3.608877839485133E-4,
          4.009864266094592E-4,
          2.806904986266215E-4,
          3.809371052789863E-4,
          4.611343906008781E-4,
          4.210357479399322E-4,
          4.009864266094592E-4,
          3.608877839485133E-4,
          6.616276039056077E-4,
          5.012330332618241E-4,
          6.616276039056077E-4,
          5.21282354592297E-4,
          5.814303185837159E-4,
          5.814303185837159E-4,
          6.816769252360808E-4,
          8.019728532189184E-4,
          7.819235318884455E-4,
          8.821701385408104E-4,
          6.616276039056077E-4,
          8.821701385408104E-4,
          6.215289612446619E-4,
          0.0011628606371674318,
          0.0010024660665236482,
          0.0012631072438197967,
          0.0013433045291416884,
          0.0014435511357940533,
          0.0015036990997854723,
          0.0016841429917597288,
          0.002105178739699661,
          0.0018846362050644585,
          0.0029873488782404716,
          0.003207891412875674,
          0.004290554764721214,
          0.005293020831244862,
          0.00852096156545101,
          0.013994426288670129,
          0.9343184233213705,
          0.0,
          0.0,
          0.0,
          0.0,
          0.0,
          0.0
         ],
         "type": "scatter",
         "xaxis": "x",
         "yaxis": "y"
        },
        {
         "error_y": {
          "array": [
           0.0,
           3.803898978893687E-5,
           0.0,
           2.68976276292431E-5,
           4.658805765691746E-5,
           2.68976276292431E-5,
           0.0,
           0.0,
           3.803898978893687E-5,
           3.803898978893687E-5,
           4.658805765691746E-5,
           3.803898978893687E-5,
           2.68976276292431E-5,
           5.37952552584862E-5,
           5.37952552584862E-5,
           0.0,
           7.607797957787374E-5,
           6.0144923812464086E-5,
           3.803898978893687E-5,
           2.68976276292431E-5,
           3.803898978893687E-5,
           5.37952552584862E-5,
           3.803898978893687E-5,
           6.0144923812464086E-5,
           6.0144923812464086E-5,
           5.37952552584862E-5,
           6.588546298303238E-5,
           6.588546298303238E-5,
           8.9209338596896E-5,
           7.607797957787374E-5,
           8.06928828877293E-5,
           1.075905105169724E-4,
           8.06928828877293E-5,
           1.141169693668106E-4,
           1.141169693668106E-4,
           1.3448813814621549E-4,
           1.497596525587719E-4,
           1.5451510695943914E-4,
           2.450490499527758E-4,
           4.500833969197243E-4,
           0.001261897262439066,
           0.0025230777617712124,
           0.0032236781465551957,
           0.002525943593864689,
           0.0012311358858836739,
           4.295206687468748E-4,
           1.141169693668106E-4,
           7.116443356459709E-5,
           5.37952552584862E-5
          ],
          "type": "data",
          "visible": true
         },
         "fillcolor": "rgba(0,100,80,0.4)",
         "line": {
          "color": "rgba(0,100,80,0.6)"
         },
         "name": "CKF",
         "x": [
          1000.0,
          1163.265306122449,
          1326.5306122448978,
          1489.795918367347,
          1653.061224489796,
          1816.3265306122448,
          1979.591836734694,
          2142.857142857143,
          2306.122448979592,
          2469.3877551020405,
          2632.6530612244896,
          2795.918367346939,
          2959.183673469388,
          3122.4489795918366,
          3285.714285714286,
          3448.9795918367345,
          3612.2448979591836,
          3775.5102040816328,
          3938.7755102040815,
          4102.040816326531,
          4265.306122448979,
          4428.571428571428,
          4591.836734693878,
          4755.102040816326,
          4918.367346938776,
          5081.632653061224,
          5244.897959183673,
          5408.163265306122,
          5571.428571428572,
          5734.693877551021,
          5897.959183673469,
          6061.224489795918,
          6224.489795918367,
          6387.755102040816,
          6551.0204081632655,
          6714.285714285714,
          6877.551020408163,
          7040.816326530612,
          7204.081632653061,
          7367.34693877551,
          7530.612244897959,
          7693.877551020408,
          7857.142857142857,
          8020.408163265306,
          8183.673469387755,
          8346.938775510203,
          8510.204081632652,
          8673.469387755102,
          8836.734693877552
         ],
         "y": [
          0.0,
          5.37952552584862E-5,
          0.0,
          2.68976276292431E-5,
          8.06928828877293E-5,
          2.68976276292431E-5,
          0.0,
          0.0,
          5.37952552584862E-5,
          5.37952552584862E-5,
          8.06928828877293E-5,
          5.37952552584862E-5,
          2.68976276292431E-5,
          1.075905105169724E-4,
          1.075905105169724E-4,
          0.0,
          2.151810210339448E-4,
          1.3448813814621549E-4,
          5.37952552584862E-5,
          2.68976276292431E-5,
          5.37952552584862E-5,
          1.075905105169724E-4,
          5.37952552584862E-5,
          1.3448813814621549E-4,
          1.3448813814621549E-4,
          1.075905105169724E-4,
          1.613857657754586E-4,
          1.613857657754586E-4,
          2.958739039216741E-4,
          2.151810210339448E-4,
          2.420786486631879E-4,
          4.303620420678896E-4,
          2.420786486631879E-4,
          4.841572973263758E-4,
          4.841572973263758E-4,
          6.724406907310774E-4,
          8.338264565065361E-4,
          8.876217117650223E-4,
          0.002232503093227177,
          0.007531335736188068,
          0.05920167841196406,
          0.23667222550971004,
          0.3863575232664479,
          0.23721017806229489,
          0.05635052988326429,
          0.00685889504545699,
          4.841572973263758E-4,
          1.882833934047017E-4,
          1.075905105169724E-4
         ],
         "type": "scatter",
         "xaxis": "x",
         "yaxis": "y"
        },
        {
         "error_y": {
          "array": [
           0.0,
           3.803898978893687E-5,
           0.0,
           2.68976276292431E-5,
           4.658805765691746E-5,
           2.68976276292431E-5,
           0.0,
           0.0,
           3.803898978893687E-5,
           3.803898978893687E-5,
           4.658805765691746E-5,
           3.803898978893687E-5,
           2.68976276292431E-5,
           5.37952552584862E-5,
           5.37952552584862E-5,
           0.0,
           7.607797957787374E-5,
           6.0144923812464086E-5,
           3.803898978893687E-5,
           2.68976276292431E-5,
           3.803898978893687E-5,
           5.37952552584862E-5,
           3.803898978893687E-5,
           6.0144923812464086E-5,
           6.0144923812464086E-5,
           5.37952552584862E-5,
           6.588546298303238E-5,
           6.588546298303238E-5,
           8.9209338596896E-5,
           7.607797957787374E-5,
           8.06928828877293E-5,
           1.075905105169724E-4,
           8.06928828877293E-5,
           1.141169693668106E-4,
           1.141169693668106E-4,
           1.3448813814621549E-4,
           1.497596525587719E-4,
           1.5451510695943914E-4,
           2.450490499527758E-4,
           4.500833969197243E-4,
           0.001261897262439066,
           0.0025230777617712124,
           0.0032236781465551957,
           0.002525943593864689,
           0.0012311358858836739,
           4.295206687468748E-4,
           1.141169693668106E-4,
           7.116443356459709E-5,
           5.37952552584862E-5
          ],
          "type": "data",
          "visible": true
         },
         "fillcolor": "rgba(204,40,46,0.4)",
         "line": {
          "color": "rgba(204,40,46,0.6)"
         },
         "name": "GNN",
         "x": [
          1000.0,
          1163.265306122449,
          1326.5306122448978,
          1489.795918367347,
          1653.061224489796,
          1816.3265306122448,
          1979.591836734694,
          2142.857142857143,
          2306.122448979592,
          2469.3877551020405,
          2632.6530612244896,
          2795.918367346939,
          2959.183673469388,
          3122.4489795918366,
          3285.714285714286,
          3448.9795918367345,
          3612.2448979591836,
          3775.5102040816328,
          3938.7755102040815,
          4102.040816326531,
          4265.306122448979,
          4428.571428571428,
          4591.836734693878,
          4755.102040816326,
          4918.367346938776,
          5081.632653061224,
          5244.897959183673,
          5408.163265306122,
          5571.428571428572,
          5734.693877551021,
          5897.959183673469,
          6061.224489795918,
          6224.489795918367,
          6387.755102040816,
          6551.0204081632655,
          6714.285714285714,
          6877.551020408163,
          7040.816326530612,
          7204.081632653061,
          7367.34693877551,
          7530.612244897959,
          7693.877551020408,
          7857.142857142857,
          8020.408163265306,
          8183.673469387755,
          8346.938775510203,
          8510.204081632652,
          8673.469387755102,
          8836.734693877552
         ],
         "y": [
          1.2026940346375882E-4,
          1.6035920461834508E-4,
          2.4053880692751764E-4,
          2.806286080821039E-4,
          5.011225144323283E-4,
          2.0044900577293135E-4,
          2.6058370750481075E-4,
          2.0044900577293135E-4,
          2.0044900577293135E-4,
          3.0067350865939705E-4,
          4.008980115458627E-4,
          3.0067350865939705E-4,
          3.808531109685696E-4,
          3.808531109685696E-4,
          3.808531109685696E-4,
          3.407633098139833E-4,
          4.810776138550353E-4,
          3.407633098139833E-4,
          5.211674150096215E-4,
          6.213919178960872E-4,
          6.614817190506735E-4,
          5.412123155869147E-4,
          5.412123155869147E-4,
          5.011225144323283E-4,
          5.011225144323283E-4,
          5.813021167415009E-4,
          4.610327132777421E-4,
          6.013470173187941E-4,
          4.610327132777421E-4,
          6.013470173187941E-4,
          6.815266196279666E-4,
          0.0010623797305965362,
          0.0012227389352148814,
          0.0015835471456061576,
          0.0017238614496472096,
          0.002204939063502245,
          0.002545702373316228,
          0.002385343168697883,
          0.004470012828736369,
          0.007677196921103271,
          0.01910279025016036,
          0.0776739897370109,
          0.5768120590121872,
          0.274755452212957,
          0.012949005772931366,
          0.0010022450288646567,
          8.017960230917254E-5,
          0.0,
          0.0
         ],
         "type": "scatter",
         "xaxis": "x",
         "yaxis": "y"
        },
        {
         "error_y": {
          "array": [
           null,
           2.7633259757757845E-6,
           null,
           2.4498242884001924E-6,
           2.9466257287196003E-6,
           2.0354346245349537E-6,
           null,
           null,
           3.78704996834983E-6,
           2.7633259757757845E-6,
           2.814192923577346E-6,
           2.493565151492421E-6,
           1.829146484957738E-6,
           4.249779205930303E-6,
           2.259420811835248E-6,
           null,
           3.294569416739358E-6,
           3.2650061529449685E-6,
           1.7931246436246264E-6,
           1.2561782133331387E-6,
           1.525274048416239E-6,
           1.8537022846032816E-6,
           1.3270256553319634E-6,
           1.8908425282534203E-6,
           2.5459551888559373E-6,
           1.6811471336338823E-6,
           3.0006923997833907E-6,
           1.567152968245812E-6,
           2.5356916401564723E-6,
           1.6762430271803094E-6,
           1.6749625487669802E-6,
           2.1248896029651516E-6,
           1.4907472013290507E-6,
           1.9280214583840428E-6,
           1.5259187536982434E-6,
           2.056353088396931E-6,
           1.4242182232467477E-6,
           1.3678037622288265E-6,
           1.6936747287354056E-6,
           2.8833959239554997E-6,
           1.0043777313971042E-7
          ],
          "color": "rgba(0,100,80,0.4)",
          "thickness": 1.5,
          "type": "data",
          "width": 3
         },
         "marker": {
          "color": "rgba(0,100,80,0.4)",
          "size": 10,
          "symbol": "circle"
         },
         "mode": "markers",
         "name": "CKF/Truth",
         "x": [
          1000.0,
          1163.265306122449,
          1326.5306122448978,
          1489.795918367347,
          1653.061224489796,
          1816.3265306122448,
          1979.591836734694,
          2142.857142857143,
          2306.122448979592,
          2469.3877551020405,
          2632.6530612244896,
          2795.918367346939,
          2959.183673469388,
          3122.4489795918366,
          3285.714285714286,
          3448.9795918367345,
          3612.2448979591836,
          3775.5102040816328,
          3938.7755102040815,
          4102.040816326531,
          4265.306122448979,
          4428.571428571428,
          4591.836734693878,
          4755.102040816326,
          4918.367346938776,
          5081.632653061224,
          5244.897959183673,
          5408.163265306122,
          5571.428571428572,
          5734.693877551021,
          5897.959183673469,
          6061.224489795918,
          6224.489795918367,
          6387.755102040816,
          6551.0204081632655,
          6714.285714285714,
          6877.551020408163,
          7040.816326530612,
          7204.081632653061,
          7367.34693877551,
          7857.142857142857
         ],
         "y": [
          0.0,
          0.14121820771197452,
          0.0,
          0.08943819821758388,
          0.18294176908142154,
          0.07453183184798655,
          0.0,
          0.0,
          0.19165328189482256,
          0.14121820771197452,
          0.17498777912135977,
          0.12776885459654838,
          0.06707864866318791,
          0.2981273273919462,
          0.1626149058501525,
          0.0,
          0.325229811700305,
          0.2579948025507227,
          0.09252227401819021,
          0.04626113700909511,
          0.0789160572508093,
          0.13415729732637582,
          0.06879861401352605,
          0.15245147423451796,
          0.20326863231269063,
          0.12196117938761437,
          0.25965928514782416,
          0.1387834110272853,
          0.2951460541180268,
          0.17035847279539784,
          0.18021129491602722,
          0.2981273273919462,
          0.16098875679165095,
          0.28747992284223384,
          0.2299839382737871,
          0.3568013226765314,
          0.27911920920252686,
          0.2766994257356501,
          0.5203297045836072,
          1.4228804261888344,
          0.41351804012704924
         ],
         "type": "scatter",
         "xaxis": "x2",
         "yaxis": "y2"
        },
        {
         "error_y": {
          "array": [
           5.01048854165921E-6,
           3.5565833534593324E-6,
           4.6675210190597335E-6,
           6.951531640671869E-6,
           6.658003136046294E-6,
           4.39149712763152E-6,
           5.268561679653857E-6,
           3.881107735641841E-6,
           5.927364206024992E-6,
           5.465187670270424E-6,
           5.328563647450929E-6,
           4.839672608132791E-6,
           6.099846545009101E-6,
           6.958669749840432E-6,
           3.32315575409118E-6,
           4.2843604206290575E-6,
           3.910394782963135E-6,
           4.087376754550778E-6,
           4.853158070653313E-6,
           5.534993284155436E-6,
           4.753694936385313E-6,
           3.369582018877886E-6,
           3.473795591143579E-6,
           2.852058148116791E-6,
           4.02589564364976E-6,
           3.1595672352508645E-6,
           4.092297419965282E-6,
           2.3313139548065927E-6,
           2.3227830961314444E-6,
           2.1170460856692276E-6,
           2.1415505103843236E-6,
           2.670194794232626E-6,
           2.8105646141760566E-6,
           2.95422097108173E-6,
           2.3874441675131364E-6,
           3.2944235088391648E-6,
           2.0631424207960444E-6,
           1.8044489432170526E-6,
           1.9986166588628914E-6,
           2.3260040734433892E-6,
           9.278686153339903E-8
          ],
          "color": "rgba(204,40,46,0.4)",
          "thickness": 1.5,
          "type": "data",
          "width": 3
         },
         "marker": {
          "color": "rgba(204,40,46,0.4)",
          "size": 10,
          "symbol": "diamond"
         },
         "mode": "markers",
         "name": "GNN/Truth",
         "x": [
          1000.0,
          1163.265306122449,
          1326.5306122448978,
          1489.795918367347,
          1653.061224489796,
          1816.3265306122448,
          1979.591836734694,
          2142.857142857143,
          2306.122448979592,
          2469.3877551020405,
          2632.6530612244896,
          2795.918367346939,
          2959.183673469388,
          3122.4489795918366,
          3285.714285714286,
          3448.9795918367345,
          3612.2448979591836,
          3775.5102040816328,
          3938.7755102040815,
          4102.040816326531,
          4265.306122448979,
          4428.571428571428,
          4591.836734693878,
          4755.102040816326,
          4918.367346938776,
          5081.632653061224,
          5244.897959183673,
          5408.163265306122,
          5571.428571428572,
          5734.693877551021,
          5897.959183673469,
          6061.224489795918,
          6224.489795918367,
          6387.755102040816,
          6551.0204081632655,
          6714.285714285714,
          6877.551020408163,
          7040.816326530612,
          7204.081632653061,
          7367.34693877551,
          7857.142857142857
         ],
         "y": [
          0.49988975304682487,
          0.4209597920394314,
          0.6314396880591472,
          0.9331275390207397,
          1.1361130751064203,
          0.5554330589409165,
          0.7220629766231915,
          0.49988975304682487,
          0.7141282186383212,
          0.789299610073934,
          0.8693734835596953,
          0.7141282186383212,
          0.9497905307889671,
          1.0553228119877414,
          0.5756306247205862,
          0.6798500641436819,
          0.727112368068109,
          0.6537019847535402,
          0.8963540399460309,
          1.068729816858729,
          0.97037422650266,
          0.6748511666132136,
          0.6921550426802191,
          0.5680565375532102,
          0.7574087167376135,
          0.6589455835617237,
          0.7417718916178692,
          0.5171273307380947,
          0.45989857280307894,
          0.47608547909221416,
          0.507350794137076,
          0.7359488030967145,
          0.8131539982895019,
          0.940268821207123,
          0.8188670240386083,
          1.16995474117342,
          0.8521610555294866,
          0.743586007657152,
          1.041826307751794,
          1.4504376925525297,
          0.6173613241636631
         ],
         "type": "scatter",
         "xaxis": "x2",
         "yaxis": "y2"
        },
        {
         "marker": {
          "color": "rgba(0,100,80,0.4)",
          "line": {
           "width": 2
          },
          "size": 12,
          "symbol": "arrow-up-open"
         },
         "mode": "markers",
         "name": "CKF/Truth >=2.0",
         "showlegend": false,
         "x": [
          7530.612244897959,
          7693.877551020408,
          8020.408163265306,
          8183.673469387755,
          8346.938775510203,
          8510.204081632652,
          8673.469387755102,
          8836.734693877552
         ],
         "y": [
          2.0,
          2.0,
          2.0,
          2.0,
          2.0,
          2.0,
          2.0,
          2.0
         ],
         "type": "scatter",
         "xaxis": "x2",
         "yaxis": "y2"
        },
        {
         "marker": {
          "color": "rgba(204,40,46,0.4)",
          "line": {
           "width": 2
          },
          "size": 12,
          "symbol": "arrow-up-open"
         },
         "mode": "markers",
         "name": "GNN/Truth >=2.0",
         "showlegend": false,
         "x": [
          7530.612244897959,
          7693.877551020408,
          8020.408163265306,
          8183.673469387755,
          8346.938775510203,
          8510.204081632652
         ],
         "y": [
          2.0,
          2.0,
          2.0,
          2.0,
          2.0,
          2.0
         ],
         "type": "scatter",
         "xaxis": "x2",
         "yaxis": "y2"
        }
       ],
       "layout": {
        "template": {
         "data": {
          "histogram2dcontour": [
           {
            "type": "histogram2dcontour",
            "colorbar": {
             "outlinewidth": 0,
             "ticks": ""
            },
            "colorscale": [
             [
              0.0,
              "#0d0887"
             ],
             [
              0.1111111111111111,
              "#46039f"
             ],
             [
              0.2222222222222222,
              "#7201a8"
             ],
             [
              0.3333333333333333,
              "#9c179e"
             ],
             [
              0.4444444444444444,
              "#bd3786"
             ],
             [
              0.5555555555555556,
              "#d8576b"
             ],
             [
              0.6666666666666666,
              "#ed7953"
             ],
             [
              0.7777777777777778,
              "#fb9f3a"
             ],
             [
              0.8888888888888888,
              "#fdca26"
             ],
             [
              1.0,
              "#f0f921"
             ]
            ]
           }
          ],
          "choropleth": [
           {
            "type": "choropleth",
            "colorbar": {
             "outlinewidth": 0,
             "ticks": ""
            }
           }
          ],
          "histogram2d": [
           {
            "type": "histogram2d",
            "colorbar": {
             "outlinewidth": 0,
             "ticks": ""
            },
            "colorscale": [
             [
              0.0,
              "#0d0887"
             ],
             [
              0.1111111111111111,
              "#46039f"
             ],
             [
              0.2222222222222222,
              "#7201a8"
             ],
             [
              0.3333333333333333,
              "#9c179e"
             ],
             [
              0.4444444444444444,
              "#bd3786"
             ],
             [
              0.5555555555555556,
              "#d8576b"
             ],
             [
              0.6666666666666666,
              "#ed7953"
             ],
             [
              0.7777777777777778,
              "#fb9f3a"
             ],
             [
              0.8888888888888888,
              "#fdca26"
             ],
             [
              1.0,
              "#f0f921"
             ]
            ]
           }
          ],
          "heatmap": [
           {
            "type": "heatmap",
            "colorbar": {
             "outlinewidth": 0,
             "ticks": ""
            },
            "colorscale": [
             [
              0.0,
              "#0d0887"
             ],
             [
              0.1111111111111111,
              "#46039f"
             ],
             [
              0.2222222222222222,
              "#7201a8"
             ],
             [
              0.3333333333333333,
              "#9c179e"
             ],
             [
              0.4444444444444444,
              "#bd3786"
             ],
             [
              0.5555555555555556,
              "#d8576b"
             ],
             [
              0.6666666666666666,
              "#ed7953"
             ],
             [
              0.7777777777777778,
              "#fb9f3a"
             ],
             [
              0.8888888888888888,
              "#fdca26"
             ],
             [
              1.0,
              "#f0f921"
             ]
            ]
           }
          ],
          "heatmapgl": [
           {
            "type": "heatmapgl",
            "colorbar": {
             "outlinewidth": 0,
             "ticks": ""
            },
            "colorscale": [
             [
              0.0,
              "#0d0887"
             ],
             [
              0.1111111111111111,
              "#46039f"
             ],
             [
              0.2222222222222222,
              "#7201a8"
             ],
             [
              0.3333333333333333,
              "#9c179e"
             ],
             [
              0.4444444444444444,
              "#bd3786"
             ],
             [
              0.5555555555555556,
              "#d8576b"
             ],
             [
              0.6666666666666666,
              "#ed7953"
             ],
             [
              0.7777777777777778,
              "#fb9f3a"
             ],
             [
              0.8888888888888888,
              "#fdca26"
             ],
             [
              1.0,
              "#f0f921"
             ]
            ]
           }
          ],
          "contourcarpet": [
           {
            "type": "contourcarpet",
            "colorbar": {
             "outlinewidth": 0,
             "ticks": ""
            }
           }
          ],
          "contour": [
           {
            "type": "contour",
            "colorbar": {
             "outlinewidth": 0,
             "ticks": ""
            },
            "colorscale": [
             [
              0.0,
              "#0d0887"
             ],
             [
              0.1111111111111111,
              "#46039f"
             ],
             [
              0.2222222222222222,
              "#7201a8"
             ],
             [
              0.3333333333333333,
              "#9c179e"
             ],
             [
              0.4444444444444444,
              "#bd3786"
             ],
             [
              0.5555555555555556,
              "#d8576b"
             ],
             [
              0.6666666666666666,
              "#ed7953"
             ],
             [
              0.7777777777777778,
              "#fb9f3a"
             ],
             [
              0.8888888888888888,
              "#fdca26"
             ],
             [
              1.0,
              "#f0f921"
             ]
            ]
           }
          ],
          "surface": [
           {
            "type": "surface",
            "colorbar": {
             "outlinewidth": 0,
             "ticks": ""
            },
            "colorscale": [
             [
              0.0,
              "#0d0887"
             ],
             [
              0.1111111111111111,
              "#46039f"
             ],
             [
              0.2222222222222222,
              "#7201a8"
             ],
             [
              0.3333333333333333,
              "#9c179e"
             ],
             [
              0.4444444444444444,
              "#bd3786"
             ],
             [
              0.5555555555555556,
              "#d8576b"
             ],
             [
              0.6666666666666666,
              "#ed7953"
             ],
             [
              0.7777777777777778,
              "#fb9f3a"
             ],
             [
              0.8888888888888888,
              "#fdca26"
             ],
             [
              1.0,
              "#f0f921"
             ]
            ]
           }
          ],
          "mesh3d": [
           {
            "type": "mesh3d",
            "colorbar": {
             "outlinewidth": 0,
             "ticks": ""
            }
           }
          ],
          "scatter": [
           {
            "fillpattern": {
             "fillmode": "overlay",
             "size": 10,
             "solidity": 0.2
            },
            "type": "scatter"
           }
          ],
          "parcoords": [
           {
            "type": "parcoords",
            "line": {
             "colorbar": {
              "outlinewidth": 0,
              "ticks": ""
             }
            }
           }
          ],
          "scatterpolargl": [
           {
            "type": "scatterpolargl",
            "marker": {
             "colorbar": {
              "outlinewidth": 0,
              "ticks": ""
             }
            }
           }
          ],
          "bar": [
           {
            "error_x": {
             "color": "#2a3f5f"
            },
            "error_y": {
             "color": "#2a3f5f"
            },
            "marker": {
             "line": {
              "color": "#E5ECF6",
              "width": 0.5
             },
             "pattern": {
              "fillmode": "overlay",
              "size": 10,
              "solidity": 0.2
             }
            },
            "type": "bar"
           }
          ],
          "scattergeo": [
           {
            "type": "scattergeo",
            "marker": {
             "colorbar": {
              "outlinewidth": 0,
              "ticks": ""
             }
            }
           }
          ],
          "scatterpolar": [
           {
            "type": "scatterpolar",
            "marker": {
             "colorbar": {
              "outlinewidth": 0,
              "ticks": ""
             }
            }
           }
          ],
          "histogram": [
           {
            "marker": {
             "pattern": {
              "fillmode": "overlay",
              "size": 10,
              "solidity": 0.2
             }
            },
            "type": "histogram"
           }
          ],
          "scattergl": [
           {
            "type": "scattergl",
            "marker": {
             "colorbar": {
              "outlinewidth": 0,
              "ticks": ""
             }
            }
           }
          ],
          "scatter3d": [
           {
            "type": "scatter3d",
            "line": {
             "colorbar": {
              "outlinewidth": 0,
              "ticks": ""
             }
            },
            "marker": {
             "colorbar": {
              "outlinewidth": 0,
              "ticks": ""
             }
            }
           }
          ],
          "scattermapbox": [
           {
            "type": "scattermapbox",
            "marker": {
             "colorbar": {
              "outlinewidth": 0,
              "ticks": ""
             }
            }
           }
          ],
          "scatterternary": [
           {
            "type": "scatterternary",
            "marker": {
             "colorbar": {
              "outlinewidth": 0,
              "ticks": ""
             }
            }
           }
          ],
          "scattercarpet": [
           {
            "type": "scattercarpet",
            "marker": {
             "colorbar": {
              "outlinewidth": 0,
              "ticks": ""
             }
            }
           }
          ],
          "carpet": [
           {
            "aaxis": {
             "endlinecolor": "#2a3f5f",
             "gridcolor": "white",
             "linecolor": "white",
             "minorgridcolor": "white",
             "startlinecolor": "#2a3f5f"
            },
            "baxis": {
             "endlinecolor": "#2a3f5f",
             "gridcolor": "white",
             "linecolor": "white",
             "minorgridcolor": "white",
             "startlinecolor": "#2a3f5f"
            },
            "type": "carpet"
           }
          ],
          "table": [
           {
            "cells": {
             "fill": {
              "color": "#EBF0F8"
             },
             "line": {
              "color": "white"
             }
            },
            "header": {
             "fill": {
              "color": "#C8D4E3"
             },
             "line": {
              "color": "white"
             }
            },
            "type": "table"
           }
          ],
          "barpolar": [
           {
            "marker": {
             "line": {
              "color": "#E5ECF6",
              "width": 0.5
             },
             "pattern": {
              "fillmode": "overlay",
              "size": 10,
              "solidity": 0.2
             }
            },
            "type": "barpolar"
           }
          ],
          "pie": [
           {
            "automargin": true,
            "type": "pie"
           }
          ]
         },
         "layout": {
          "autotypenumbers": "strict",
          "colorway": [
           "#636efa",
           "#EF553B",
           "#00cc96",
           "#ab63fa",
           "#FFA15A",
           "#19d3f3",
           "#FF6692",
           "#B6E880",
           "#FF97FF",
           "#FECB52"
          ],
          "font": {
           "color": "#2a3f5f"
          },
          "hovermode": "closest",
          "hoverlabel": {
           "align": "left"
          },
          "paper_bgcolor": "white",
          "plot_bgcolor": "#E5ECF6",
          "polar": {
           "bgcolor": "#E5ECF6",
           "angularaxis": {
            "gridcolor": "white",
            "linecolor": "white",
            "ticks": ""
           },
           "radialaxis": {
            "gridcolor": "white",
            "linecolor": "white",
            "ticks": ""
           }
          },
          "ternary": {
           "bgcolor": "#E5ECF6",
           "aaxis": {
            "gridcolor": "white",
            "linecolor": "white",
            "ticks": ""
           },
           "baxis": {
            "gridcolor": "white",
            "linecolor": "white",
            "ticks": ""
           },
           "caxis": {
            "gridcolor": "white",
            "linecolor": "white",
            "ticks": ""
           }
          },
          "coloraxis": {
           "colorbar": {
            "outlinewidth": 0,
            "ticks": ""
           }
          },
          "colorscale": {
           "sequential": [
            [
             0.0,
             "#0d0887"
            ],
            [
             0.1111111111111111,
             "#46039f"
            ],
            [
             0.2222222222222222,
             "#7201a8"
            ],
            [
             0.3333333333333333,
             "#9c179e"
            ],
            [
             0.4444444444444444,
             "#bd3786"
            ],
            [
             0.5555555555555556,
             "#d8576b"
            ],
            [
             0.6666666666666666,
             "#ed7953"
            ],
            [
             0.7777777777777778,
             "#fb9f3a"
            ],
            [
             0.8888888888888888,
             "#fdca26"
            ],
            [
             1.0,
             "#f0f921"
            ]
           ],
           "sequentialminus": [
            [
             0.0,
             "#0d0887"
            ],
            [
             0.1111111111111111,
             "#46039f"
            ],
            [
             0.2222222222222222,
             "#7201a8"
            ],
            [
             0.3333333333333333,
             "#9c179e"
            ],
            [
             0.4444444444444444,
             "#bd3786"
            ],
            [
             0.5555555555555556,
             "#d8576b"
            ],
            [
             0.6666666666666666,
             "#ed7953"
            ],
            [
             0.7777777777777778,
             "#fb9f3a"
            ],
            [
             0.8888888888888888,
             "#fdca26"
            ],
            [
             1.0,
             "#f0f921"
            ]
           ],
           "diverging": [
            [
             0,
             "#8e0152"
            ],
            [
             0.1,
             "#c51b7d"
            ],
            [
             0.2,
             "#de77ae"
            ],
            [
             0.3,
             "#f1b6da"
            ],
            [
             0.4,
             "#fde0ef"
            ],
            [
             0.5,
             "#f7f7f7"
            ],
            [
             0.6,
             "#e6f5d0"
            ],
            [
             0.7,
             "#b8e186"
            ],
            [
             0.8,
             "#7fbc41"
            ],
            [
             0.9,
             "#4d9221"
            ],
            [
             1,
             "#276419"
            ]
           ]
          },
          "xaxis": {
           "gridcolor": "white",
           "linecolor": "white",
           "ticks": "",
           "title": {
            "standoff": 15
           },
           "zerolinecolor": "white",
           "automargin": true,
           "zerolinewidth": 2
          },
          "yaxis": {
           "gridcolor": "white",
           "linecolor": "white",
           "ticks": "",
           "title": {
            "standoff": 15
           },
           "zerolinecolor": "white",
           "automargin": true,
           "zerolinewidth": 2
          },
          "scene": {
           "xaxis": {
            "backgroundcolor": "#E5ECF6",
            "gridcolor": "white",
            "linecolor": "white",
            "showbackground": true,
            "ticks": "",
            "zerolinecolor": "white",
            "gridwidth": 2
           },
           "yaxis": {
            "backgroundcolor": "#E5ECF6",
            "gridcolor": "white",
            "linecolor": "white",
            "showbackground": true,
            "ticks": "",
            "zerolinecolor": "white",
            "gridwidth": 2
           },
           "zaxis": {
            "backgroundcolor": "#E5ECF6",
            "gridcolor": "white",
            "linecolor": "white",
            "showbackground": true,
            "ticks": "",
            "zerolinecolor": "white",
            "gridwidth": 2
           }
          },
          "shapedefaults": {
           "line": {
            "color": "#2a3f5f"
           }
          },
          "annotationdefaults": {
           "arrowcolor": "#2a3f5f",
           "arrowhead": 0,
           "arrowwidth": 1
          },
          "geo": {
           "bgcolor": "white",
           "landcolor": "#E5ECF6",
           "subunitcolor": "white",
           "showland": true,
           "showlakes": true,
           "lakecolor": "white"
          },
          "title": {
           "x": 0.05
          },
          "mapbox": {
           "style": "light"
          }
         }
        },
        "xaxis": {
         "anchor": "y",
         "domain": [
          0.0,
          1.0
         ],
         "matches": "x2",
         "showticklabels": false,
         "linecolor": "#666666",
         "gridcolor": "#d9d9d9",
         "zerolinecolor": "rgba(0,0,0,0)",
         "linewidth": 2,
         "showline": true,
         "showgrid": false,
         "mirror": true
        },
        "yaxis": {
         "anchor": "x",
         "domain": [
          0.25,
          1.0
         ],
         "title": {
          "text": "Counts"
         },
         "linecolor": "#666666",
         "zerolinecolor": "rgba(0,0,0,0)",
         "linewidth": 2,
         "mirror": true,
         "type": "log",
         "range": [
          -5.5,
          2.470494912550876
         ]
        },
        "xaxis2": {
         "anchor": "y2",
         "domain": [
          0.0,
          1.0
         ],
         "title": {
          "text": "${P_{i}^{e}~\\text{[MeV]}}$"
         },
         "linecolor": "#666666",
         "gridcolor": "#d9d9d9",
         "zerolinecolor": "rgba(0,0,0,0)",
         "linewidth": 2,
         "showline": true,
         "showgrid": false,
         "mirror": false
        },
        "yaxis2": {
         "anchor": "x2",
         "domain": [
          0.0,
          0.25
         ],
         "title": {
          "text": "Rec./Truth"
         },
         "linecolor": "#666666",
         "zerolinecolor": "rgba(0,0,0,0)",
         "linewidth": 2,
         "mirror": true,
         "range": [
          0,
          2.0
         ]
        },
        "shapes": [
         {
          "line": {
           "color": "grey",
           "dash": "dash",
           "width": 1
          },
          "type": "line",
          "x0": 0,
          "x1": 1,
          "xref": "x2 domain",
          "y0": 1.0,
          "y1": 1.0,
          "yref": "y2"
         }
        ],
        "annotations": [
         {
          "font": {
           "family": "Cambria",
           "size": 34
          },
          "showarrow": false,
          "text": "<i><b>DarkSHINE<b><i>",
          "x": 0.05,
          "xref": "paper",
          "y": 0.97,
          "yref": "paper"
         },
         {
          "font": {
           "family": "Cambria",
           "size": 31
          },
          "showarrow": false,
          "text": "Simulation",
          "x": 0.455,
          "xref": "paper",
          "y": 0.9662999999999999,
          "yref": "paper"
         },
         {
          "showarrow": false,
          "text": "$\\Large{E^{e}_{0} = 8~\\text{GeV},~10^{6}~\\text{EOT}}$",
          "x": 0.05,
          "xref": "paper",
          "y": 0.895,
          "yref": "paper"
         },
         {
          "font": {
           "family": "Cambria",
           "size": 20
          },
          "showarrow": false,
          "text": "Before Target, Incident Energy",
          "x": 0.05,
          "xref": "paper",
          "y": 0.833,
          "yref": "paper"
         }
        ],
        "legend": {
         "font": {
          "size": 14
         },
         "orientation": "v",
         "yanchor": "top",
         "y": 0.99,
         "xanchor": "right",
         "x": 0.98
        },
        "width": 800,
        "height": 800,
        "paper_bgcolor": "rgba(0,0,0,0)",
        "plot_bgcolor": "rgba(0,0,0,0)"
       },
       "config": {
        "plotlyServerURL": "https://plot.ly"
       }
      },
      "text/html": "<div>                            <div id=\"63741318-95f8-48e4-95d5-d8b95082e26e\" class=\"plotly-graph-div\" style=\"height:800px; width:800px;\"></div>            <script type=\"text/javascript\">                require([\"plotly\"], function(Plotly) {                    window.PLOTLYENV=window.PLOTLYENV || {};                                    if (document.getElementById(\"63741318-95f8-48e4-95d5-d8b95082e26e\")) {                    Plotly.newPlot(                        \"63741318-95f8-48e4-95d5-d8b95082e26e\",                        [{\"error_y\":{\"array\":[6.945288640330723e-05,8.73929655661061e-05,8.73929655661061e-05,7.765068761568292e-05,9.403965274221443e-05,8.506206642579315e-05,8.506206642579315e-05,8.966329079534814e-05,7.501769125596851e-05,8.73929655661061e-05,9.615316725770835e-05,9.187753262938508e-05,8.966329079534814e-05,8.506206642579315e-05,0.00011517458240347311,0.0001002466066523648,0.00011517458240347311,0.00010223188069837369,0.00010796889963579412,0.00010796889963579412,0.00011690662820228363,0.00012680304188978405,0.00012520797157804996,0.00013299215230889587,0.00011517458240347311,0.00013299215230889587,0.00011162989680273515,0.0001526910821794396,0.00014177011070965525,0.0001591365545881623,0.0001641107679265483,0.0001701241328515863,0.00017363221600826808,0.00018375506525877017,0.00020544440856426003,0.00019438538233720269,0.00024473315587813426,0.0002536060837795681,0.0002932962856292037,0.0003257629129512986,0.0004133273478374462,0.0005296968467880148,0.004328100079035953,0.0,0.0,0.0,0.0,0.0,0.0],\"type\":\"data\",\"visible\":true},\"line\":{\"color\":\"rgba(0,0,0,0.8)\"},\"name\":\"Truth\",\"x\":[1000.0,1163.265306122449,1326.5306122448978,1489.795918367347,1653.061224489796,1816.3265306122448,1979.591836734694,2142.857142857143,2306.122448979592,2469.3877551020405,2632.6530612244896,2795.918367346939,2959.183673469388,3122.4489795918366,3285.714285714286,3448.9795918367345,3612.2448979591836,3775.5102040816328,3938.7755102040815,4102.040816326531,4265.306122448979,4428.571428571428,4591.836734693878,4755.102040816326,4918.367346938776,5081.632653061224,5244.897959183673,5408.163265306122,5571.428571428572,5734.693877551021,5897.959183673469,6061.224489795918,6224.489795918367,6387.755102040816,6551.0204081632655,6714.285714285714,6877.551020408163,7040.816326530612,7204.081632653061,7367.34693877551,7530.612244897959,7693.877551020408,7857.142857142857,8020.408163265306,8183.673469387755,8346.938775510203,8510.204081632652,8673.469387755102,8836.734693877552],\"y\":[0.00024059185596567555,0.0003809371052789863,0.0003809371052789863,0.0003007398199570944,0.0004410850692704052,0.0003608877839485133,0.0003608877839485133,0.0004009864266094592,0.0002806904986266215,0.0003809371052789863,0.0004611343906008781,0.0004210357479399322,0.0004009864266094592,0.0003608877839485133,0.0006616276039056077,0.0005012330332618241,0.0006616276039056077,0.000521282354592297,0.0005814303185837159,0.0005814303185837159,0.0006816769252360808,0.0008019728532189184,0.0007819235318884455,0.0008821701385408104,0.0006616276039056077,0.0008821701385408104,0.0006215289612446619,0.0011628606371674318,0.0010024660665236482,0.0012631072438197967,0.0013433045291416884,0.0014435511357940533,0.0015036990997854723,0.0016841429917597288,0.002105178739699661,0.0018846362050644585,0.0029873488782404716,0.003207891412875674,0.004290554764721214,0.005293020831244862,0.00852096156545101,0.013994426288670129,0.9343184233213705,0.0,0.0,0.0,0.0,0.0,0.0],\"type\":\"scatter\",\"xaxis\":\"x\",\"yaxis\":\"y\"},{\"error_y\":{\"array\":[0.0,3.803898978893687e-05,0.0,2.68976276292431e-05,4.658805765691746e-05,2.68976276292431e-05,0.0,0.0,3.803898978893687e-05,3.803898978893687e-05,4.658805765691746e-05,3.803898978893687e-05,2.68976276292431e-05,5.37952552584862e-05,5.37952552584862e-05,0.0,7.607797957787374e-05,6.0144923812464086e-05,3.803898978893687e-05,2.68976276292431e-05,3.803898978893687e-05,5.37952552584862e-05,3.803898978893687e-05,6.0144923812464086e-05,6.0144923812464086e-05,5.37952552584862e-05,6.588546298303238e-05,6.588546298303238e-05,8.9209338596896e-05,7.607797957787374e-05,8.06928828877293e-05,0.0001075905105169724,8.06928828877293e-05,0.0001141169693668106,0.0001141169693668106,0.00013448813814621549,0.0001497596525587719,0.00015451510695943914,0.0002450490499527758,0.0004500833969197243,0.001261897262439066,0.0025230777617712124,0.0032236781465551957,0.002525943593864689,0.0012311358858836739,0.0004295206687468748,0.0001141169693668106,7.116443356459709e-05,5.37952552584862e-05],\"type\":\"data\",\"visible\":true},\"fillcolor\":\"rgba(0,100,80,0.4)\",\"line\":{\"color\":\"rgba(0,100,80,0.6)\"},\"name\":\"CKF\",\"x\":[1000.0,1163.265306122449,1326.5306122448978,1489.795918367347,1653.061224489796,1816.3265306122448,1979.591836734694,2142.857142857143,2306.122448979592,2469.3877551020405,2632.6530612244896,2795.918367346939,2959.183673469388,3122.4489795918366,3285.714285714286,3448.9795918367345,3612.2448979591836,3775.5102040816328,3938.7755102040815,4102.040816326531,4265.306122448979,4428.571428571428,4591.836734693878,4755.102040816326,4918.367346938776,5081.632653061224,5244.897959183673,5408.163265306122,5571.428571428572,5734.693877551021,5897.959183673469,6061.224489795918,6224.489795918367,6387.755102040816,6551.0204081632655,6714.285714285714,6877.551020408163,7040.816326530612,7204.081632653061,7367.34693877551,7530.612244897959,7693.877551020408,7857.142857142857,8020.408163265306,8183.673469387755,8346.938775510203,8510.204081632652,8673.469387755102,8836.734693877552],\"y\":[0.0,5.37952552584862e-05,0.0,2.68976276292431e-05,8.06928828877293e-05,2.68976276292431e-05,0.0,0.0,5.37952552584862e-05,5.37952552584862e-05,8.06928828877293e-05,5.37952552584862e-05,2.68976276292431e-05,0.0001075905105169724,0.0001075905105169724,0.0,0.0002151810210339448,0.00013448813814621549,5.37952552584862e-05,2.68976276292431e-05,5.37952552584862e-05,0.0001075905105169724,5.37952552584862e-05,0.00013448813814621549,0.00013448813814621549,0.0001075905105169724,0.0001613857657754586,0.0001613857657754586,0.0002958739039216741,0.0002151810210339448,0.0002420786486631879,0.0004303620420678896,0.0002420786486631879,0.0004841572973263758,0.0004841572973263758,0.0006724406907310774,0.0008338264565065361,0.0008876217117650223,0.002232503093227177,0.007531335736188068,0.05920167841196406,0.23667222550971004,0.3863575232664479,0.23721017806229489,0.05635052988326429,0.00685889504545699,0.0004841572973263758,0.0001882833934047017,0.0001075905105169724],\"type\":\"scatter\",\"xaxis\":\"x\",\"yaxis\":\"y\"},{\"error_y\":{\"array\":[0.0,3.803898978893687e-05,0.0,2.68976276292431e-05,4.658805765691746e-05,2.68976276292431e-05,0.0,0.0,3.803898978893687e-05,3.803898978893687e-05,4.658805765691746e-05,3.803898978893687e-05,2.68976276292431e-05,5.37952552584862e-05,5.37952552584862e-05,0.0,7.607797957787374e-05,6.0144923812464086e-05,3.803898978893687e-05,2.68976276292431e-05,3.803898978893687e-05,5.37952552584862e-05,3.803898978893687e-05,6.0144923812464086e-05,6.0144923812464086e-05,5.37952552584862e-05,6.588546298303238e-05,6.588546298303238e-05,8.9209338596896e-05,7.607797957787374e-05,8.06928828877293e-05,0.0001075905105169724,8.06928828877293e-05,0.0001141169693668106,0.0001141169693668106,0.00013448813814621549,0.0001497596525587719,0.00015451510695943914,0.0002450490499527758,0.0004500833969197243,0.001261897262439066,0.0025230777617712124,0.0032236781465551957,0.002525943593864689,0.0012311358858836739,0.0004295206687468748,0.0001141169693668106,7.116443356459709e-05,5.37952552584862e-05],\"type\":\"data\",\"visible\":true},\"fillcolor\":\"rgba(204,40,46,0.4)\",\"line\":{\"color\":\"rgba(204,40,46,0.6)\"},\"name\":\"GNN\",\"x\":[1000.0,1163.265306122449,1326.5306122448978,1489.795918367347,1653.061224489796,1816.3265306122448,1979.591836734694,2142.857142857143,2306.122448979592,2469.3877551020405,2632.6530612244896,2795.918367346939,2959.183673469388,3122.4489795918366,3285.714285714286,3448.9795918367345,3612.2448979591836,3775.5102040816328,3938.7755102040815,4102.040816326531,4265.306122448979,4428.571428571428,4591.836734693878,4755.102040816326,4918.367346938776,5081.632653061224,5244.897959183673,5408.163265306122,5571.428571428572,5734.693877551021,5897.959183673469,6061.224489795918,6224.489795918367,6387.755102040816,6551.0204081632655,6714.285714285714,6877.551020408163,7040.816326530612,7204.081632653061,7367.34693877551,7530.612244897959,7693.877551020408,7857.142857142857,8020.408163265306,8183.673469387755,8346.938775510203,8510.204081632652,8673.469387755102,8836.734693877552],\"y\":[0.00012026940346375882,0.00016035920461834508,0.00024053880692751764,0.0002806286080821039,0.0005011225144323283,0.00020044900577293135,0.00026058370750481075,0.00020044900577293135,0.00020044900577293135,0.00030067350865939705,0.0004008980115458627,0.00030067350865939705,0.0003808531109685696,0.0003808531109685696,0.0003808531109685696,0.0003407633098139833,0.0004810776138550353,0.0003407633098139833,0.0005211674150096215,0.0006213919178960872,0.0006614817190506735,0.0005412123155869147,0.0005412123155869147,0.0005011225144323283,0.0005011225144323283,0.0005813021167415009,0.0004610327132777421,0.0006013470173187941,0.0004610327132777421,0.0006013470173187941,0.0006815266196279666,0.0010623797305965362,0.0012227389352148814,0.0015835471456061576,0.0017238614496472096,0.002204939063502245,0.002545702373316228,0.002385343168697883,0.004470012828736369,0.007677196921103271,0.01910279025016036,0.0776739897370109,0.5768120590121872,0.274755452212957,0.012949005772931366,0.0010022450288646567,8.017960230917254e-05,0.0,0.0],\"type\":\"scatter\",\"xaxis\":\"x\",\"yaxis\":\"y\"},{\"error_y\":{\"array\":[null,2.7633259757757845e-06,null,2.4498242884001924e-06,2.9466257287196003e-06,2.0354346245349537e-06,null,null,3.78704996834983e-06,2.7633259757757845e-06,2.814192923577346e-06,2.493565151492421e-06,1.829146484957738e-06,4.249779205930303e-06,2.259420811835248e-06,null,3.294569416739358e-06,3.2650061529449685e-06,1.7931246436246264e-06,1.2561782133331387e-06,1.525274048416239e-06,1.8537022846032816e-06,1.3270256553319634e-06,1.8908425282534203e-06,2.5459551888559373e-06,1.6811471336338823e-06,3.0006923997833907e-06,1.567152968245812e-06,2.5356916401564723e-06,1.6762430271803094e-06,1.6749625487669802e-06,2.1248896029651516e-06,1.4907472013290507e-06,1.9280214583840428e-06,1.5259187536982434e-06,2.056353088396931e-06,1.4242182232467477e-06,1.3678037622288265e-06,1.6936747287354056e-06,2.8833959239554997e-06,1.0043777313971042e-07],\"color\":\"rgba(0,100,80,0.4)\",\"thickness\":1.5,\"type\":\"data\",\"width\":3},\"marker\":{\"color\":\"rgba(0,100,80,0.4)\",\"size\":10,\"symbol\":\"circle\"},\"mode\":\"markers\",\"name\":\"CKF/Truth\",\"x\":[1000.0,1163.265306122449,1326.5306122448978,1489.795918367347,1653.061224489796,1816.3265306122448,1979.591836734694,2142.857142857143,2306.122448979592,2469.3877551020405,2632.6530612244896,2795.918367346939,2959.183673469388,3122.4489795918366,3285.714285714286,3448.9795918367345,3612.2448979591836,3775.5102040816328,3938.7755102040815,4102.040816326531,4265.306122448979,4428.571428571428,4591.836734693878,4755.102040816326,4918.367346938776,5081.632653061224,5244.897959183673,5408.163265306122,5571.428571428572,5734.693877551021,5897.959183673469,6061.224489795918,6224.489795918367,6387.755102040816,6551.0204081632655,6714.285714285714,6877.551020408163,7040.816326530612,7204.081632653061,7367.34693877551,7857.142857142857],\"y\":[0.0,0.14121820771197452,0.0,0.08943819821758388,0.18294176908142154,0.07453183184798655,0.0,0.0,0.19165328189482256,0.14121820771197452,0.17498777912135977,0.12776885459654838,0.06707864866318791,0.2981273273919462,0.1626149058501525,0.0,0.325229811700305,0.2579948025507227,0.09252227401819021,0.04626113700909511,0.0789160572508093,0.13415729732637582,0.06879861401352605,0.15245147423451796,0.20326863231269063,0.12196117938761437,0.25965928514782416,0.1387834110272853,0.2951460541180268,0.17035847279539784,0.18021129491602722,0.2981273273919462,0.16098875679165095,0.28747992284223384,0.2299839382737871,0.3568013226765314,0.27911920920252686,0.2766994257356501,0.5203297045836072,1.4228804261888344,0.41351804012704924],\"type\":\"scatter\",\"xaxis\":\"x2\",\"yaxis\":\"y2\"},{\"error_y\":{\"array\":[5.01048854165921e-06,3.5565833534593324e-06,4.6675210190597335e-06,6.951531640671869e-06,6.658003136046294e-06,4.39149712763152e-06,5.268561679653857e-06,3.881107735641841e-06,5.927364206024992e-06,5.465187670270424e-06,5.328563647450929e-06,4.839672608132791e-06,6.099846545009101e-06,6.958669749840432e-06,3.32315575409118e-06,4.2843604206290575e-06,3.910394782963135e-06,4.087376754550778e-06,4.853158070653313e-06,5.534993284155436e-06,4.753694936385313e-06,3.369582018877886e-06,3.473795591143579e-06,2.852058148116791e-06,4.02589564364976e-06,3.1595672352508645e-06,4.092297419965282e-06,2.3313139548065927e-06,2.3227830961314444e-06,2.1170460856692276e-06,2.1415505103843236e-06,2.670194794232626e-06,2.8105646141760566e-06,2.95422097108173e-06,2.3874441675131364e-06,3.2944235088391648e-06,2.0631424207960444e-06,1.8044489432170526e-06,1.9986166588628914e-06,2.3260040734433892e-06,9.278686153339903e-08],\"color\":\"rgba(204,40,46,0.4)\",\"thickness\":1.5,\"type\":\"data\",\"width\":3},\"marker\":{\"color\":\"rgba(204,40,46,0.4)\",\"size\":10,\"symbol\":\"diamond\"},\"mode\":\"markers\",\"name\":\"GNN/Truth\",\"x\":[1000.0,1163.265306122449,1326.5306122448978,1489.795918367347,1653.061224489796,1816.3265306122448,1979.591836734694,2142.857142857143,2306.122448979592,2469.3877551020405,2632.6530612244896,2795.918367346939,2959.183673469388,3122.4489795918366,3285.714285714286,3448.9795918367345,3612.2448979591836,3775.5102040816328,3938.7755102040815,4102.040816326531,4265.306122448979,4428.571428571428,4591.836734693878,4755.102040816326,4918.367346938776,5081.632653061224,5244.897959183673,5408.163265306122,5571.428571428572,5734.693877551021,5897.959183673469,6061.224489795918,6224.489795918367,6387.755102040816,6551.0204081632655,6714.285714285714,6877.551020408163,7040.816326530612,7204.081632653061,7367.34693877551,7857.142857142857],\"y\":[0.49988975304682487,0.4209597920394314,0.6314396880591472,0.9331275390207397,1.1361130751064203,0.5554330589409165,0.7220629766231915,0.49988975304682487,0.7141282186383212,0.789299610073934,0.8693734835596953,0.7141282186383212,0.9497905307889671,1.0553228119877414,0.5756306247205862,0.6798500641436819,0.727112368068109,0.6537019847535402,0.8963540399460309,1.068729816858729,0.97037422650266,0.6748511666132136,0.6921550426802191,0.5680565375532102,0.7574087167376135,0.6589455835617237,0.7417718916178692,0.5171273307380947,0.45989857280307894,0.47608547909221416,0.507350794137076,0.7359488030967145,0.8131539982895019,0.940268821207123,0.8188670240386083,1.16995474117342,0.8521610555294866,0.743586007657152,1.041826307751794,1.4504376925525297,0.6173613241636631],\"type\":\"scatter\",\"xaxis\":\"x2\",\"yaxis\":\"y2\"},{\"marker\":{\"color\":\"rgba(0,100,80,0.4)\",\"line\":{\"width\":2},\"size\":12,\"symbol\":\"arrow-up-open\"},\"mode\":\"markers\",\"name\":\"CKF/Truth >=2.0\",\"showlegend\":false,\"x\":[7530.612244897959,7693.877551020408,8020.408163265306,8183.673469387755,8346.938775510203,8510.204081632652,8673.469387755102,8836.734693877552],\"y\":[2.0,2.0,2.0,2.0,2.0,2.0,2.0,2.0],\"type\":\"scatter\",\"xaxis\":\"x2\",\"yaxis\":\"y2\"},{\"marker\":{\"color\":\"rgba(204,40,46,0.4)\",\"line\":{\"width\":2},\"size\":12,\"symbol\":\"arrow-up-open\"},\"mode\":\"markers\",\"name\":\"GNN/Truth >=2.0\",\"showlegend\":false,\"x\":[7530.612244897959,7693.877551020408,8020.408163265306,8183.673469387755,8346.938775510203,8510.204081632652],\"y\":[2.0,2.0,2.0,2.0,2.0,2.0],\"type\":\"scatter\",\"xaxis\":\"x2\",\"yaxis\":\"y2\"}],                        {\"template\":{\"data\":{\"histogram2dcontour\":[{\"type\":\"histogram2dcontour\",\"colorbar\":{\"outlinewidth\":0,\"ticks\":\"\"},\"colorscale\":[[0.0,\"#0d0887\"],[0.1111111111111111,\"#46039f\"],[0.2222222222222222,\"#7201a8\"],[0.3333333333333333,\"#9c179e\"],[0.4444444444444444,\"#bd3786\"],[0.5555555555555556,\"#d8576b\"],[0.6666666666666666,\"#ed7953\"],[0.7777777777777778,\"#fb9f3a\"],[0.8888888888888888,\"#fdca26\"],[1.0,\"#f0f921\"]]}],\"choropleth\":[{\"type\":\"choropleth\",\"colorbar\":{\"outlinewidth\":0,\"ticks\":\"\"}}],\"histogram2d\":[{\"type\":\"histogram2d\",\"colorbar\":{\"outlinewidth\":0,\"ticks\":\"\"},\"colorscale\":[[0.0,\"#0d0887\"],[0.1111111111111111,\"#46039f\"],[0.2222222222222222,\"#7201a8\"],[0.3333333333333333,\"#9c179e\"],[0.4444444444444444,\"#bd3786\"],[0.5555555555555556,\"#d8576b\"],[0.6666666666666666,\"#ed7953\"],[0.7777777777777778,\"#fb9f3a\"],[0.8888888888888888,\"#fdca26\"],[1.0,\"#f0f921\"]]}],\"heatmap\":[{\"type\":\"heatmap\",\"colorbar\":{\"outlinewidth\":0,\"ticks\":\"\"},\"colorscale\":[[0.0,\"#0d0887\"],[0.1111111111111111,\"#46039f\"],[0.2222222222222222,\"#7201a8\"],[0.3333333333333333,\"#9c179e\"],[0.4444444444444444,\"#bd3786\"],[0.5555555555555556,\"#d8576b\"],[0.6666666666666666,\"#ed7953\"],[0.7777777777777778,\"#fb9f3a\"],[0.8888888888888888,\"#fdca26\"],[1.0,\"#f0f921\"]]}],\"heatmapgl\":[{\"type\":\"heatmapgl\",\"colorbar\":{\"outlinewidth\":0,\"ticks\":\"\"},\"colorscale\":[[0.0,\"#0d0887\"],[0.1111111111111111,\"#46039f\"],[0.2222222222222222,\"#7201a8\"],[0.3333333333333333,\"#9c179e\"],[0.4444444444444444,\"#bd3786\"],[0.5555555555555556,\"#d8576b\"],[0.6666666666666666,\"#ed7953\"],[0.7777777777777778,\"#fb9f3a\"],[0.8888888888888888,\"#fdca26\"],[1.0,\"#f0f921\"]]}],\"contourcarpet\":[{\"type\":\"contourcarpet\",\"colorbar\":{\"outlinewidth\":0,\"ticks\":\"\"}}],\"contour\":[{\"type\":\"contour\",\"colorbar\":{\"outlinewidth\":0,\"ticks\":\"\"},\"colorscale\":[[0.0,\"#0d0887\"],[0.1111111111111111,\"#46039f\"],[0.2222222222222222,\"#7201a8\"],[0.3333333333333333,\"#9c179e\"],[0.4444444444444444,\"#bd3786\"],[0.5555555555555556,\"#d8576b\"],[0.6666666666666666,\"#ed7953\"],[0.7777777777777778,\"#fb9f3a\"],[0.8888888888888888,\"#fdca26\"],[1.0,\"#f0f921\"]]}],\"surface\":[{\"type\":\"surface\",\"colorbar\":{\"outlinewidth\":0,\"ticks\":\"\"},\"colorscale\":[[0.0,\"#0d0887\"],[0.1111111111111111,\"#46039f\"],[0.2222222222222222,\"#7201a8\"],[0.3333333333333333,\"#9c179e\"],[0.4444444444444444,\"#bd3786\"],[0.5555555555555556,\"#d8576b\"],[0.6666666666666666,\"#ed7953\"],[0.7777777777777778,\"#fb9f3a\"],[0.8888888888888888,\"#fdca26\"],[1.0,\"#f0f921\"]]}],\"mesh3d\":[{\"type\":\"mesh3d\",\"colorbar\":{\"outlinewidth\":0,\"ticks\":\"\"}}],\"scatter\":[{\"fillpattern\":{\"fillmode\":\"overlay\",\"size\":10,\"solidity\":0.2},\"type\":\"scatter\"}],\"parcoords\":[{\"type\":\"parcoords\",\"line\":{\"colorbar\":{\"outlinewidth\":0,\"ticks\":\"\"}}}],\"scatterpolargl\":[{\"type\":\"scatterpolargl\",\"marker\":{\"colorbar\":{\"outlinewidth\":0,\"ticks\":\"\"}}}],\"bar\":[{\"error_x\":{\"color\":\"#2a3f5f\"},\"error_y\":{\"color\":\"#2a3f5f\"},\"marker\":{\"line\":{\"color\":\"#E5ECF6\",\"width\":0.5},\"pattern\":{\"fillmode\":\"overlay\",\"size\":10,\"solidity\":0.2}},\"type\":\"bar\"}],\"scattergeo\":[{\"type\":\"scattergeo\",\"marker\":{\"colorbar\":{\"outlinewidth\":0,\"ticks\":\"\"}}}],\"scatterpolar\":[{\"type\":\"scatterpolar\",\"marker\":{\"colorbar\":{\"outlinewidth\":0,\"ticks\":\"\"}}}],\"histogram\":[{\"marker\":{\"pattern\":{\"fillmode\":\"overlay\",\"size\":10,\"solidity\":0.2}},\"type\":\"histogram\"}],\"scattergl\":[{\"type\":\"scattergl\",\"marker\":{\"colorbar\":{\"outlinewidth\":0,\"ticks\":\"\"}}}],\"scatter3d\":[{\"type\":\"scatter3d\",\"line\":{\"colorbar\":{\"outlinewidth\":0,\"ticks\":\"\"}},\"marker\":{\"colorbar\":{\"outlinewidth\":0,\"ticks\":\"\"}}}],\"scattermapbox\":[{\"type\":\"scattermapbox\",\"marker\":{\"colorbar\":{\"outlinewidth\":0,\"ticks\":\"\"}}}],\"scatterternary\":[{\"type\":\"scatterternary\",\"marker\":{\"colorbar\":{\"outlinewidth\":0,\"ticks\":\"\"}}}],\"scattercarpet\":[{\"type\":\"scattercarpet\",\"marker\":{\"colorbar\":{\"outlinewidth\":0,\"ticks\":\"\"}}}],\"carpet\":[{\"aaxis\":{\"endlinecolor\":\"#2a3f5f\",\"gridcolor\":\"white\",\"linecolor\":\"white\",\"minorgridcolor\":\"white\",\"startlinecolor\":\"#2a3f5f\"},\"baxis\":{\"endlinecolor\":\"#2a3f5f\",\"gridcolor\":\"white\",\"linecolor\":\"white\",\"minorgridcolor\":\"white\",\"startlinecolor\":\"#2a3f5f\"},\"type\":\"carpet\"}],\"table\":[{\"cells\":{\"fill\":{\"color\":\"#EBF0F8\"},\"line\":{\"color\":\"white\"}},\"header\":{\"fill\":{\"color\":\"#C8D4E3\"},\"line\":{\"color\":\"white\"}},\"type\":\"table\"}],\"barpolar\":[{\"marker\":{\"line\":{\"color\":\"#E5ECF6\",\"width\":0.5},\"pattern\":{\"fillmode\":\"overlay\",\"size\":10,\"solidity\":0.2}},\"type\":\"barpolar\"}],\"pie\":[{\"automargin\":true,\"type\":\"pie\"}]},\"layout\":{\"autotypenumbers\":\"strict\",\"colorway\":[\"#636efa\",\"#EF553B\",\"#00cc96\",\"#ab63fa\",\"#FFA15A\",\"#19d3f3\",\"#FF6692\",\"#B6E880\",\"#FF97FF\",\"#FECB52\"],\"font\":{\"color\":\"#2a3f5f\"},\"hovermode\":\"closest\",\"hoverlabel\":{\"align\":\"left\"},\"paper_bgcolor\":\"white\",\"plot_bgcolor\":\"#E5ECF6\",\"polar\":{\"bgcolor\":\"#E5ECF6\",\"angularaxis\":{\"gridcolor\":\"white\",\"linecolor\":\"white\",\"ticks\":\"\"},\"radialaxis\":{\"gridcolor\":\"white\",\"linecolor\":\"white\",\"ticks\":\"\"}},\"ternary\":{\"bgcolor\":\"#E5ECF6\",\"aaxis\":{\"gridcolor\":\"white\",\"linecolor\":\"white\",\"ticks\":\"\"},\"baxis\":{\"gridcolor\":\"white\",\"linecolor\":\"white\",\"ticks\":\"\"},\"caxis\":{\"gridcolor\":\"white\",\"linecolor\":\"white\",\"ticks\":\"\"}},\"coloraxis\":{\"colorbar\":{\"outlinewidth\":0,\"ticks\":\"\"}},\"colorscale\":{\"sequential\":[[0.0,\"#0d0887\"],[0.1111111111111111,\"#46039f\"],[0.2222222222222222,\"#7201a8\"],[0.3333333333333333,\"#9c179e\"],[0.4444444444444444,\"#bd3786\"],[0.5555555555555556,\"#d8576b\"],[0.6666666666666666,\"#ed7953\"],[0.7777777777777778,\"#fb9f3a\"],[0.8888888888888888,\"#fdca26\"],[1.0,\"#f0f921\"]],\"sequentialminus\":[[0.0,\"#0d0887\"],[0.1111111111111111,\"#46039f\"],[0.2222222222222222,\"#7201a8\"],[0.3333333333333333,\"#9c179e\"],[0.4444444444444444,\"#bd3786\"],[0.5555555555555556,\"#d8576b\"],[0.6666666666666666,\"#ed7953\"],[0.7777777777777778,\"#fb9f3a\"],[0.8888888888888888,\"#fdca26\"],[1.0,\"#f0f921\"]],\"diverging\":[[0,\"#8e0152\"],[0.1,\"#c51b7d\"],[0.2,\"#de77ae\"],[0.3,\"#f1b6da\"],[0.4,\"#fde0ef\"],[0.5,\"#f7f7f7\"],[0.6,\"#e6f5d0\"],[0.7,\"#b8e186\"],[0.8,\"#7fbc41\"],[0.9,\"#4d9221\"],[1,\"#276419\"]]},\"xaxis\":{\"gridcolor\":\"white\",\"linecolor\":\"white\",\"ticks\":\"\",\"title\":{\"standoff\":15},\"zerolinecolor\":\"white\",\"automargin\":true,\"zerolinewidth\":2},\"yaxis\":{\"gridcolor\":\"white\",\"linecolor\":\"white\",\"ticks\":\"\",\"title\":{\"standoff\":15},\"zerolinecolor\":\"white\",\"automargin\":true,\"zerolinewidth\":2},\"scene\":{\"xaxis\":{\"backgroundcolor\":\"#E5ECF6\",\"gridcolor\":\"white\",\"linecolor\":\"white\",\"showbackground\":true,\"ticks\":\"\",\"zerolinecolor\":\"white\",\"gridwidth\":2},\"yaxis\":{\"backgroundcolor\":\"#E5ECF6\",\"gridcolor\":\"white\",\"linecolor\":\"white\",\"showbackground\":true,\"ticks\":\"\",\"zerolinecolor\":\"white\",\"gridwidth\":2},\"zaxis\":{\"backgroundcolor\":\"#E5ECF6\",\"gridcolor\":\"white\",\"linecolor\":\"white\",\"showbackground\":true,\"ticks\":\"\",\"zerolinecolor\":\"white\",\"gridwidth\":2}},\"shapedefaults\":{\"line\":{\"color\":\"#2a3f5f\"}},\"annotationdefaults\":{\"arrowcolor\":\"#2a3f5f\",\"arrowhead\":0,\"arrowwidth\":1},\"geo\":{\"bgcolor\":\"white\",\"landcolor\":\"#E5ECF6\",\"subunitcolor\":\"white\",\"showland\":true,\"showlakes\":true,\"lakecolor\":\"white\"},\"title\":{\"x\":0.05},\"mapbox\":{\"style\":\"light\"}}},\"xaxis\":{\"anchor\":\"y\",\"domain\":[0.0,1.0],\"matches\":\"x2\",\"showticklabels\":false,\"linecolor\":\"#666666\",\"gridcolor\":\"#d9d9d9\",\"zerolinecolor\":\"rgba(0,0,0,0)\",\"linewidth\":2,\"showline\":true,\"showgrid\":false,\"mirror\":true},\"yaxis\":{\"anchor\":\"x\",\"domain\":[0.25,1.0],\"title\":{\"text\":\"Counts\"},\"linecolor\":\"#666666\",\"zerolinecolor\":\"rgba(0,0,0,0)\",\"linewidth\":2,\"mirror\":true,\"type\":\"log\",\"range\":[-5.5,2.470494912550876]},\"xaxis2\":{\"anchor\":\"y2\",\"domain\":[0.0,1.0],\"title\":{\"text\":\"${P_{i}^{e}~\\\\text{[MeV]}}$\"},\"linecolor\":\"#666666\",\"gridcolor\":\"#d9d9d9\",\"zerolinecolor\":\"rgba(0,0,0,0)\",\"linewidth\":2,\"showline\":true,\"showgrid\":false,\"mirror\":false},\"yaxis2\":{\"anchor\":\"x2\",\"domain\":[0.0,0.25],\"title\":{\"text\":\"Rec./Truth\"},\"linecolor\":\"#666666\",\"zerolinecolor\":\"rgba(0,0,0,0)\",\"linewidth\":2,\"mirror\":true,\"range\":[0,2.0]},\"shapes\":[{\"line\":{\"color\":\"grey\",\"dash\":\"dash\",\"width\":1},\"type\":\"line\",\"x0\":0,\"x1\":1,\"xref\":\"x2 domain\",\"y0\":1.0,\"y1\":1.0,\"yref\":\"y2\"}],\"annotations\":[{\"font\":{\"family\":\"Cambria\",\"size\":34},\"showarrow\":false,\"text\":\"<i><b>DarkSHINE<b><i>\",\"x\":0.05,\"xref\":\"paper\",\"y\":0.97,\"yref\":\"paper\"},{\"font\":{\"family\":\"Cambria\",\"size\":31},\"showarrow\":false,\"text\":\"Simulation\",\"x\":0.455,\"xref\":\"paper\",\"y\":0.9662999999999999,\"yref\":\"paper\"},{\"showarrow\":false,\"text\":\"$\\\\Large{E^{e}_{0} = 8~\\\\text{GeV},~10^{6}~\\\\text{EOT}}$\",\"x\":0.05,\"xref\":\"paper\",\"y\":0.895,\"yref\":\"paper\"},{\"font\":{\"family\":\"Cambria\",\"size\":20},\"showarrow\":false,\"text\":\"Before Target, Incident Energy\",\"x\":0.05,\"xref\":\"paper\",\"y\":0.833,\"yref\":\"paper\"}],\"legend\":{\"font\":{\"size\":14},\"orientation\":\"v\",\"yanchor\":\"top\",\"y\":0.99,\"xanchor\":\"right\",\"x\":0.98},\"width\":800,\"height\":800,\"paper_bgcolor\":\"rgba(0,0,0,0)\",\"plot_bgcolor\":\"rgba(0,0,0,0)\"},                        {\"responsive\": true}                    ).then(function(){\n                            \nvar gd = document.getElementById('63741318-95f8-48e4-95d5-d8b95082e26e');\nvar x = new MutationObserver(function (mutations, observer) {{\n        var display = window.getComputedStyle(gd).display;\n        if (!display || display === 'none') {{\n            console.log([gd, 'removed!']);\n            Plotly.purge(gd);\n            observer.disconnect();\n        }}\n}});\n\n// Listen for the removal of the full notebook cells\nvar notebookContainer = gd.closest('#notebook-container');\nif (notebookContainer) {{\n    x.observe(notebookContainer, {childList: true});\n}}\n\n// Listen for the clearing of the current output cell\nvar outputEl = gd.closest('.output');\nif (outputEl) {{\n    x.observe(outputEl, {childList: true});\n}}\n\n                        })                };                });            </script>        </div>"
     },
     "metadata": {},
     "output_type": "display_data"
    },
    {
     "data": {
      "application/vnd.plotly.v1+json": {
       "data": [
        {
         "error_y": {
          "array": [
           2.4256305979905338E-4,
           2.650527133808335E-4,
           2.873102948432011E-4,
           2.5491953692342135E-4,
           2.600354890931177E-4,
           2.6422312538856504E-4,
           2.6339092450132083E-4,
           2.7401246423364037E-4,
           2.683454199204932E-4,
           2.73210083406435E-4,
           2.9485252979633063E-4,
           2.911058397303146E-4,
           3.0147925675121345E-4,
           2.8807340454010684E-4,
           3.1640233997320993E-4,
           2.963379423701559E-4,
           3.1291378419353514E-4,
           3.462211437222786E-4,
           3.3131589172604185E-4,
           3.5990118050662504E-4,
           3.44950603129609E-4,
           3.6051066643097147E-4,
           4.008785380154012E-4,
           3.925778763949289E-4,
           3.9313670639510754E-4,
           4.0306317837670186E-4,
           4.180361113773234E-4,
           4.479508481535517E-4,
           4.810359903295684E-4,
           5.063824978980606E-4,
           5.41982572611846E-4,
           5.814570301746163E-4,
           6.414193518854207E-4,
           7.074971404200965E-4,
           7.831960099336067E-4,
           8.907407877473034E-4,
           0.0011479031850304747,
           0.0019821442223473744,
           0.003052424656392958,
           0.0,
           0.0,
           0.0,
           0.0,
           0.0,
           0.0,
           0.0,
           0.0,
           0.0,
           0.0
          ],
          "type": "data",
          "visible": true
         },
         "line": {
          "color": "rgba(0,0,0,0.8)"
         },
         "name": "Truth",
         "x": [
          1000.0,
          1183.6734693877552,
          1367.3469387755101,
          1551.0204081632653,
          1734.6938775510203,
          1918.3673469387754,
          2102.0408163265306,
          2285.7142857142853,
          2469.3877551020405,
          2653.0612244897957,
          2836.734693877551,
          3020.408163265306,
          3204.081632653061,
          3387.7551020408164,
          3571.428571428571,
          3755.1020408163263,
          3938.7755102040815,
          4122.448979591836,
          4306.122448979591,
          4489.7959183673465,
          4673.469387755102,
          4857.142857142857,
          5040.816326530612,
          5224.489795918367,
          5408.163265306122,
          5591.836734693878,
          5775.510204081633,
          5959.183673469387,
          6142.857142857142,
          6326.530612244897,
          6510.204081632653,
          6693.877551020408,
          6877.551020408163,
          7061.224489795918,
          7244.897959183673,
          7428.571428571428,
          7612.244897959184,
          7795.918367346939,
          7979.591836734693,
          8163.265306122448,
          8346.938775510203,
          8530.612244897959,
          8714.285714285714,
          8897.959183673469,
          9081.632653061224,
          9265.30612244898,
          9448.979591836734,
          9632.65306122449,
          9816.326530612245
         ],
         "y": [
          0.0028078704188755944,
          0.0033526810971648887,
          0.0039394002891687445,
          0.0031012300148775224,
          0.0032269555560212053,
          0.0033317268403076084,
          0.0033107725834503276,
          0.0035831779225949747,
          0.003436498124594011,
          0.0035622236657376944,
          0.00414894285774155,
          0.004044171573455147,
          0.004337531169457075,
          0.003960354546026025,
          0.004777570563459966,
          0.004190851371456111,
          0.004672799279173564,
          0.0057205121220375915,
          0.005238564214320139,
          0.0061815057728977635,
          0.005678603608323031,
          0.006202460029755045,
          0.007669258009764683,
          0.007354944156905475,
          0.0073758984137627555,
          0.007753075037193805,
          0.00833979422919766,
          0.009576095383777213,
          0.011042893363786853,
          0.012237286004651845,
          0.014018397837520692,
          0.016134777780106028,
          0.01963413867527188,
          0.023887852817299833,
          0.029273096829620936,
          0.03786434214110596,
          0.06288372482869894,
          0.1874986903589464,
          0.44464933051149336,
          0.0,
          0.0,
          0.0,
          0.0,
          0.0,
          0.0,
          0.0,
          0.0,
          0.0,
          0.0
         ],
         "type": "scatter",
         "xaxis": "x",
         "yaxis": "y"
        },
        {
         "error_y": {
          "array": [
           2.9231510011036035E-4,
           3.1616162873456297E-4,
           3.2620099636796395E-4,
           2.881488760992652E-4,
           2.881488760992652E-4,
           3.1870112036347137E-4,
           3.1616162873456297E-4,
           3.084177192924737E-4,
           3.2496303745661956E-4,
           3.2247286254224886E-4,
           3.32321623767628E-4,
           3.3110654977685475E-4,
           3.602560273827978E-4,
           3.511915299637427E-4,
           3.580114196904827E-4,
           3.523373455038431E-4,
           3.46570387431751E-4,
           3.861750236715438E-4,
           4.0352830423758256E-4,
           3.755928723012678E-4,
           4.3616852149959445E-4,
           4.268276419855458E-4,
           4.1241983607319356E-4,
           4.343164175003082E-4,
           4.6825537328499026E-4,
           4.60443336084349E-4,
           4.843338380293569E-4,
           4.759392014491415E-4,
           5.071000567698745E-4,
           5.541927059408631E-4,
           5.942037289246855E-4,
           6.213925961284259E-4,
           7.321652967393105E-4,
           7.806551253438301E-4,
           9.256886736265924E-4,
           0.0010627164062470063,
           0.0012572947858087238,
           0.0014082049649512785,
           0.0015265898252485807,
           0.0015525082325308557,
           0.0015491295381396032,
           0.0014932220882206304,
           0.0013998799620250477,
           0.0012515111348646653,
           0.0011349760706003058,
           9.615680543923284E-4,
           8.065570376390104E-4,
           6.694770802959368E-4,
           5.468714767967469E-4
          ],
          "type": "data",
          "visible": true
         },
         "fillcolor": "rgba(0,100,80,0.4)",
         "line": {
          "color": "rgba(0,100,80,0.6)"
         },
         "name": "CKF",
         "x": [
          1000.0,
          1183.6734693877552,
          1367.3469387755101,
          1551.0204081632653,
          1734.6938775510203,
          1918.3673469387754,
          2102.0408163265306,
          2285.7142857142853,
          2469.3877551020405,
          2653.0612244897957,
          2836.734693877551,
          3020.408163265306,
          3204.081632653061,
          3387.7551020408164,
          3571.428571428571,
          3755.1020408163263,
          3938.7755102040815,
          4122.448979591836,
          4306.122448979591,
          4489.7959183673465,
          4673.469387755102,
          4857.142857142857,
          5040.816326530612,
          5224.489795918367,
          5408.163265306122,
          5591.836734693878,
          5775.510204081633,
          5959.183673469387,
          6142.857142857142,
          6326.530612244897,
          6510.204081632653,
          6693.877551020408,
          6877.551020408163,
          7061.224489795918,
          7244.897959183673,
          7428.571428571428,
          7612.244897959184,
          7795.918367346939,
          7979.591836734693,
          8163.265306122448,
          8346.938775510203,
          8530.612244897959,
          8714.285714285714,
          8897.959183673469,
          9081.632653061224,
          9265.30612244898,
          9448.979591836734,
          9632.65306122449,
          9816.326530612245
         ],
         "y": [
          0.003009568155361858,
          0.0035206268987251926,
          0.0037477641179977854,
          0.0029243916981346357,
          0.0029243916981346357,
          0.0035774112035433406,
          0.0035206268987251926,
          0.0033502739842707478,
          0.0037193719655887114,
          0.003662587660770563,
          0.003889724880043156,
          0.003861332727634082,
          0.004571136537860935,
          0.004343999318588343,
          0.0045143522330427874,
          0.004372391470997416,
          0.004230430708952046,
          0.005252548195678715,
          0.005735214786632975,
          0.004968626671587973,
          0.0067005479685414955,
          0.006416626444450754,
          0.005990744158314642,
          0.006643763663723347,
          0.007722665455268164,
          0.007467136083586497,
          0.008262116351040573,
          0.00797819482694983,
          0.009057096618494648,
          0.010817410067857245,
          0.01243576275517447,
          0.01359984100394651,
          0.018880781352034297,
          0.021464467221260046,
          0.0301808580108458,
          0.03977740552511286,
          0.055677010874194376,
          0.06984469492632236,
          0.08208171261463332,
          0.08489253570313166,
          0.0845234377218137,
          0.07853269356349905,
          0.06902132250645922,
          0.05516595213083104,
          0.045370659549700466,
          0.03256579881320803,
          0.022912466994122825,
          0.015786036739445217,
          0.010533488543766503
         ],
         "type": "scatter",
         "xaxis": "x",
         "yaxis": "y"
        },
        {
         "error_y": {
          "array": [
           2.9231510011036035E-4,
           3.1616162873456297E-4,
           3.2620099636796395E-4,
           2.881488760992652E-4,
           2.881488760992652E-4,
           3.1870112036347137E-4,
           3.1616162873456297E-4,
           3.084177192924737E-4,
           3.2496303745661956E-4,
           3.2247286254224886E-4,
           3.32321623767628E-4,
           3.3110654977685475E-4,
           3.602560273827978E-4,
           3.511915299637427E-4,
           3.580114196904827E-4,
           3.523373455038431E-4,
           3.46570387431751E-4,
           3.861750236715438E-4,
           4.0352830423758256E-4,
           3.755928723012678E-4,
           4.3616852149959445E-4,
           4.268276419855458E-4,
           4.1241983607319356E-4,
           4.343164175003082E-4,
           4.6825537328499026E-4,
           4.60443336084349E-4,
           4.843338380293569E-4,
           4.759392014491415E-4,
           5.071000567698745E-4,
           5.541927059408631E-4,
           5.942037289246855E-4,
           6.213925961284259E-4,
           7.321652967393105E-4,
           7.806551253438301E-4,
           9.256886736265924E-4,
           0.0010627164062470063,
           0.0012572947858087238,
           0.0014082049649512785,
           0.0015265898252485807,
           0.0015525082325308557,
           0.0015491295381396032,
           0.0014932220882206304,
           0.0013998799620250477,
           0.0012515111348646653,
           0.0011349760706003058,
           9.615680543923284E-4,
           8.065570376390104E-4,
           6.694770802959368E-4,
           5.468714767967469E-4
          ],
          "type": "data",
          "visible": true
         },
         "fillcolor": "rgba(204,40,46,0.4)",
         "line": {
          "color": "rgba(204,40,46,0.6)"
         },
         "name": "GNN",
         "x": [
          1000.0,
          1183.6734693877552,
          1367.3469387755101,
          1551.0204081632653,
          1734.6938775510203,
          1918.3673469387754,
          2102.0408163265306,
          2285.7142857142853,
          2469.3877551020405,
          2653.0612244897957,
          2836.734693877551,
          3020.408163265306,
          3204.081632653061,
          3387.7551020408164,
          3571.428571428571,
          3755.1020408163263,
          3938.7755102040815,
          4122.448979591836,
          4306.122448979591,
          4489.7959183673465,
          4673.469387755102,
          4857.142857142857,
          5040.816326530612,
          5224.489795918367,
          5408.163265306122,
          5591.836734693878,
          5775.510204081633,
          5959.183673469387,
          6142.857142857142,
          6326.530612244897,
          6510.204081632653,
          6693.877551020408,
          6877.551020408163,
          7061.224489795918,
          7244.897959183673,
          7428.571428571428,
          7612.244897959184,
          7795.918367346939,
          7979.591836734693,
          8163.265306122448,
          8346.938775510203,
          8530.612244897959,
          8714.285714285714,
          8897.959183673469,
          9081.632653061224,
          9265.30612244898,
          9448.979591836734,
          9632.65306122449,
          9816.326530612245
         ],
         "y": [
          0.0025699481865284974,
          0.0030880829015544043,
          0.003730569948186529,
          0.005512953367875648,
          0.0051813471502590676,
          0.005243523316062176,
          0.00433160621761658,
          0.004269430051813471,
          0.00366839378238342,
          0.00383419689119171,
          0.004227979274611399,
          0.003937823834196891,
          0.004310880829015544,
          0.004,
          0.004352331606217617,
          0.004974093264248705,
          0.004787564766839379,
          0.004911917098445596,
          0.004808290155440415,
          0.004663212435233161,
          0.004082901554404145,
          0.004020725388601036,
          0.004911917098445596,
          0.004518134715025907,
          0.004642487046632124,
          0.003937823834196891,
          0.005098445595854923,
          0.005678756476683938,
          0.006901554404145078,
          0.007709844559585493,
          0.009906735751295337,
          0.011792746113989637,
          0.016518134715025907,
          0.02035233160621762,
          0.0312538860103627,
          0.05090155440414508,
          0.0910259067357513,
          0.15021761658031088,
          0.19015544041450777,
          0.15890155440414508,
          0.08184455958549224,
          0.030694300518134716,
          0.011461139896373058,
          0.004373056994818653,
          0.0015129533678756477,
          7.461139896373058E-4,
          3.523316062176166E-4,
          6.217616580310881E-5,
          2.072538860103627E-5
         ],
         "type": "scatter",
         "xaxis": "x",
         "yaxis": "y"
        },
        {
         "error_y": {
          "array": [
           3.535680409466173E-6,
           3.192900479167392E-6,
           2.76424622950997E-6,
           3.0979540529228958E-6,
           2.9612692751680403E-6,
           3.249596035976863E-6,
           3.239385605145486E-6,
           2.8665362390273696E-6,
           3.2162897785763763E-6,
           3.055560510079662E-6,
           2.668502016942158E-6,
           2.734491519397046E-6,
           2.8136366804517245E-6,
           3.022253777444831E-6,
           2.4992157902149812E-6,
           2.8438628158580066E-6,
           2.4592926414593597E-6,
           2.242677970427031E-6,
           2.6245664802857184E-6,
           1.9843624840627743E-6,
           2.647951609803535E-6,
           2.324874973559154E-6,
           1.7501873494859927E-6,
           1.957460873784392E-6,
           2.1485586224176034E-6,
           1.9859366764819723E-6,
           1.949757038000225E-6,
           1.6303789765377538E-6,
           1.5034432862220033E-6,
           1.4969256422663384E-6,
           1.4017259957337745E-6,
           1.2652183757781487E-6,
           1.2467137641809885E-6,
           1.0825392624689993E-6,
           1.0678008077250918E-6,
           9.503463270544588E-7,
           6.610208195258E-7,
           2.286477966055108E-7,
           1.0102927240312656E-7
          ],
          "color": "rgba(0,100,80,0.4)",
          "thickness": 1.5,
          "type": "data",
          "width": 3
         },
         "marker": {
          "color": "rgba(0,100,80,0.4)",
          "size": 10,
          "symbol": "circle"
         },
         "mode": "markers",
         "name": "CKF/Truth",
         "x": [
          1000.0,
          1183.6734693877552,
          1367.3469387755101,
          1551.0204081632653,
          1734.6938775510203,
          1918.3673469387754,
          2102.0408163265306,
          2285.7142857142853,
          2469.3877551020405,
          2653.0612244897957,
          2836.734693877551,
          3020.408163265306,
          3204.081632653061,
          3387.7551020408164,
          3571.428571428571,
          3755.1020408163263,
          3938.7755102040815,
          4122.448979591836,
          4306.122448979591,
          4489.7959183673465,
          4673.469387755102,
          4857.142857142857,
          5040.816326530612,
          5224.489795918367,
          5408.163265306122,
          5591.836734693878,
          5775.510204081633,
          5959.183673469387,
          6142.857142857142,
          6326.530612244897,
          6510.204081632653,
          6693.877551020408,
          6877.551020408163,
          7061.224489795918,
          7244.897959183673,
          7428.571428571428,
          7612.244897959184,
          7795.918367346939,
          7979.591836734693
         ],
         "y": [
          1.0718329931218953,
          1.0500929842991398,
          0.9513539734213209,
          0.9429780068248595,
          0.9062386039615533,
          1.0737408482182318,
          1.063385300556091,
          0.9350007330488473,
          1.082314562888964,
          1.0281745349114917,
          0.9375219214661594,
          0.9547895428024937,
          1.0538567584364127,
          1.096871320005246,
          0.9449054018311444,
          1.0433181908520488,
          0.9053311422570336,
          0.9181954488731697,
          1.0948066210499419,
          0.8037890530447215,
          1.1799640247332317,
          1.0345292696233896,
          0.7811373865225401,
          0.9033057929454965,
          1.04701353273228,
          0.9631192846405361,
          0.9906858759314304,
          0.8331365245657043,
          0.8201742351507023,
          0.8839713367608756,
          0.8871029984532007,
          0.8428898860147265,
          0.9616302331516893,
          0.898551551929994,
          1.0310100836446632,
          1.0505241416020814,
          0.8853961979170869,
          0.37250764148065296,
          0.18459875452913035
         ],
         "type": "scatter",
         "xaxis": "x2",
         "yaxis": "y2"
        },
        {
         "error_y": {
          "array": [
           2.376304198113792E-6,
           2.184934781861706E-6,
           2.057796989662875E-6,
           3.8050295750869456E-6,
           3.432231039800594E-6,
           3.3234379091170837E-6,
           2.876621136302177E-6,
           2.5701731636071135E-6,
           2.4116813817685226E-6,
           2.383737254640691E-6,
           2.1188338443309314E-6,
           2.0737315303724327E-6,
           2.0334660724299013E-6,
           2.154138316848752E-6,
           1.8154211710761693E-6,
           2.3693795448367013E-6,
           2.0047010863892192E-6,
           1.5881001280862933E-6,
           1.7434095163899597E-6,
           1.3904956666177583E-6,
           1.401702007719181E-6,
           1.2465088069289294E-6,
           1.1115562096347122E-6,
           1.1025456216740847E-6,
           1.1197515255376638E-6,
           9.430426831147558E-7,
           1.0319372468006946E-6,
           9.429590769282125E-7,
           9.106422509464522E-7,
           8.699267067687725E-7,
           8.812314769240682E-7,
           8.41362311716857E-7,
           8.444670071131638E-7,
           7.727241958360782E-7,
           8.264207574089082E-7,
           8.690171531909143E-7,
           7.151904921850242E-7,
           2.6369661097440065E-7,
           1.1111429968624222E-7
          ],
          "color": "rgba(204,40,46,0.4)",
          "thickness": 1.5,
          "type": "data",
          "width": 3
         },
         "marker": {
          "color": "rgba(204,40,46,0.4)",
          "size": 10,
          "symbol": "diamond"
         },
         "mode": "markers",
         "name": "GNN/Truth",
         "x": [
          1000.0,
          1183.6734693877552,
          1367.3469387755101,
          1551.0204081632653,
          1734.6938775510203,
          1918.3673469387754,
          2102.0408163265306,
          2285.7142857142853,
          2469.3877551020405,
          2653.0612244897957,
          2836.734693877551,
          3020.408163265306,
          3204.081632653061,
          3387.7551020408164,
          3571.428571428571,
          3755.1020408163263,
          3938.7755102040815,
          4122.448979591836,
          4306.122448979591,
          4489.7959183673465,
          4673.469387755102,
          4857.142857142857,
          5040.816326530612,
          5224.489795918367,
          5408.163265306122,
          5591.836734693878,
          5775.510204081633,
          5959.183673469387,
          6142.857142857142,
          6326.530612244897,
          6510.204081632653,
          6693.877551020408,
          6877.551020408163,
          7061.224489795918,
          7244.897959183673,
          7428.571428571428,
          7612.244897959184,
          7795.918367346939,
          7979.591836734693
         ],
         "y": [
          0.9152659500425335,
          0.9210786269430052,
          0.9469893065814134,
          1.77766671334547,
          1.6056456496871006,
          1.5738154919021086,
          1.3083369843247852,
          1.191520528436809,
          1.0674802224188047,
          1.0763492837549529,
          1.0190497723347465,
          0.9737034551263122,
          0.9938558734449702,
          1.010010582010582,
          0.910992637032997,
          1.1868932642487047,
          1.024560329003927,
          0.8586498889711326,
          0.9178641243523318,
          0.7543813120224818,
          0.7189974571248304,
          0.6482468841898894,
          0.6404683598063367,
          0.6142989829207447,
          0.6294130946773435,
          0.5079047752415629,
          0.6113394954044836,
          0.5930137753540211,
          0.6249770034706178,
          0.6300289587621549,
          0.7066952918670664,
          0.7308898997375682,
          0.8412966307419225,
          0.8519950186346698,
          1.0676658568880022,
          1.3443137137958028,
          1.4475272732923226,
          0.8011662177092286,
          0.4276525958012043
         ],
         "type": "scatter",
         "xaxis": "x2",
         "yaxis": "y2"
        },
        {
         "marker": {
          "color": "rgba(0,100,80,0.4)",
          "line": {
           "width": 2
          },
          "size": 12,
          "symbol": "arrow-up-open"
         },
         "mode": "markers",
         "name": "CKF/Truth >=2.0",
         "showlegend": false,
         "x": [
          8163.265306122448,
          8346.938775510203,
          8530.612244897959,
          8714.285714285714,
          8897.959183673469,
          9081.632653061224,
          9265.30612244898,
          9448.979591836734,
          9632.65306122449,
          9816.326530612245
         ],
         "y": [
          2.0,
          2.0,
          2.0,
          2.0,
          2.0,
          2.0,
          2.0,
          2.0,
          2.0,
          2.0
         ],
         "type": "scatter",
         "xaxis": "x2",
         "yaxis": "y2"
        },
        {
         "marker": {
          "color": "rgba(204,40,46,0.4)",
          "line": {
           "width": 2
          },
          "size": 12,
          "symbol": "arrow-up-open"
         },
         "mode": "markers",
         "name": "GNN/Truth >=2.0",
         "showlegend": false,
         "x": [
          8163.265306122448,
          8346.938775510203,
          8530.612244897959,
          8714.285714285714,
          8897.959183673469,
          9081.632653061224,
          9265.30612244898,
          9448.979591836734,
          9632.65306122449,
          9816.326530612245
         ],
         "y": [
          2.0,
          2.0,
          2.0,
          2.0,
          2.0,
          2.0,
          2.0,
          2.0,
          2.0,
          2.0
         ],
         "type": "scatter",
         "xaxis": "x2",
         "yaxis": "y2"
        }
       ],
       "layout": {
        "template": {
         "data": {
          "histogram2dcontour": [
           {
            "type": "histogram2dcontour",
            "colorbar": {
             "outlinewidth": 0,
             "ticks": ""
            },
            "colorscale": [
             [
              0.0,
              "#0d0887"
             ],
             [
              0.1111111111111111,
              "#46039f"
             ],
             [
              0.2222222222222222,
              "#7201a8"
             ],
             [
              0.3333333333333333,
              "#9c179e"
             ],
             [
              0.4444444444444444,
              "#bd3786"
             ],
             [
              0.5555555555555556,
              "#d8576b"
             ],
             [
              0.6666666666666666,
              "#ed7953"
             ],
             [
              0.7777777777777778,
              "#fb9f3a"
             ],
             [
              0.8888888888888888,
              "#fdca26"
             ],
             [
              1.0,
              "#f0f921"
             ]
            ]
           }
          ],
          "choropleth": [
           {
            "type": "choropleth",
            "colorbar": {
             "outlinewidth": 0,
             "ticks": ""
            }
           }
          ],
          "histogram2d": [
           {
            "type": "histogram2d",
            "colorbar": {
             "outlinewidth": 0,
             "ticks": ""
            },
            "colorscale": [
             [
              0.0,
              "#0d0887"
             ],
             [
              0.1111111111111111,
              "#46039f"
             ],
             [
              0.2222222222222222,
              "#7201a8"
             ],
             [
              0.3333333333333333,
              "#9c179e"
             ],
             [
              0.4444444444444444,
              "#bd3786"
             ],
             [
              0.5555555555555556,
              "#d8576b"
             ],
             [
              0.6666666666666666,
              "#ed7953"
             ],
             [
              0.7777777777777778,
              "#fb9f3a"
             ],
             [
              0.8888888888888888,
              "#fdca26"
             ],
             [
              1.0,
              "#f0f921"
             ]
            ]
           }
          ],
          "heatmap": [
           {
            "type": "heatmap",
            "colorbar": {
             "outlinewidth": 0,
             "ticks": ""
            },
            "colorscale": [
             [
              0.0,
              "#0d0887"
             ],
             [
              0.1111111111111111,
              "#46039f"
             ],
             [
              0.2222222222222222,
              "#7201a8"
             ],
             [
              0.3333333333333333,
              "#9c179e"
             ],
             [
              0.4444444444444444,
              "#bd3786"
             ],
             [
              0.5555555555555556,
              "#d8576b"
             ],
             [
              0.6666666666666666,
              "#ed7953"
             ],
             [
              0.7777777777777778,
              "#fb9f3a"
             ],
             [
              0.8888888888888888,
              "#fdca26"
             ],
             [
              1.0,
              "#f0f921"
             ]
            ]
           }
          ],
          "heatmapgl": [
           {
            "type": "heatmapgl",
            "colorbar": {
             "outlinewidth": 0,
             "ticks": ""
            },
            "colorscale": [
             [
              0.0,
              "#0d0887"
             ],
             [
              0.1111111111111111,
              "#46039f"
             ],
             [
              0.2222222222222222,
              "#7201a8"
             ],
             [
              0.3333333333333333,
              "#9c179e"
             ],
             [
              0.4444444444444444,
              "#bd3786"
             ],
             [
              0.5555555555555556,
              "#d8576b"
             ],
             [
              0.6666666666666666,
              "#ed7953"
             ],
             [
              0.7777777777777778,
              "#fb9f3a"
             ],
             [
              0.8888888888888888,
              "#fdca26"
             ],
             [
              1.0,
              "#f0f921"
             ]
            ]
           }
          ],
          "contourcarpet": [
           {
            "type": "contourcarpet",
            "colorbar": {
             "outlinewidth": 0,
             "ticks": ""
            }
           }
          ],
          "contour": [
           {
            "type": "contour",
            "colorbar": {
             "outlinewidth": 0,
             "ticks": ""
            },
            "colorscale": [
             [
              0.0,
              "#0d0887"
             ],
             [
              0.1111111111111111,
              "#46039f"
             ],
             [
              0.2222222222222222,
              "#7201a8"
             ],
             [
              0.3333333333333333,
              "#9c179e"
             ],
             [
              0.4444444444444444,
              "#bd3786"
             ],
             [
              0.5555555555555556,
              "#d8576b"
             ],
             [
              0.6666666666666666,
              "#ed7953"
             ],
             [
              0.7777777777777778,
              "#fb9f3a"
             ],
             [
              0.8888888888888888,
              "#fdca26"
             ],
             [
              1.0,
              "#f0f921"
             ]
            ]
           }
          ],
          "surface": [
           {
            "type": "surface",
            "colorbar": {
             "outlinewidth": 0,
             "ticks": ""
            },
            "colorscale": [
             [
              0.0,
              "#0d0887"
             ],
             [
              0.1111111111111111,
              "#46039f"
             ],
             [
              0.2222222222222222,
              "#7201a8"
             ],
             [
              0.3333333333333333,
              "#9c179e"
             ],
             [
              0.4444444444444444,
              "#bd3786"
             ],
             [
              0.5555555555555556,
              "#d8576b"
             ],
             [
              0.6666666666666666,
              "#ed7953"
             ],
             [
              0.7777777777777778,
              "#fb9f3a"
             ],
             [
              0.8888888888888888,
              "#fdca26"
             ],
             [
              1.0,
              "#f0f921"
             ]
            ]
           }
          ],
          "mesh3d": [
           {
            "type": "mesh3d",
            "colorbar": {
             "outlinewidth": 0,
             "ticks": ""
            }
           }
          ],
          "scatter": [
           {
            "fillpattern": {
             "fillmode": "overlay",
             "size": 10,
             "solidity": 0.2
            },
            "type": "scatter"
           }
          ],
          "parcoords": [
           {
            "type": "parcoords",
            "line": {
             "colorbar": {
              "outlinewidth": 0,
              "ticks": ""
             }
            }
           }
          ],
          "scatterpolargl": [
           {
            "type": "scatterpolargl",
            "marker": {
             "colorbar": {
              "outlinewidth": 0,
              "ticks": ""
             }
            }
           }
          ],
          "bar": [
           {
            "error_x": {
             "color": "#2a3f5f"
            },
            "error_y": {
             "color": "#2a3f5f"
            },
            "marker": {
             "line": {
              "color": "#E5ECF6",
              "width": 0.5
             },
             "pattern": {
              "fillmode": "overlay",
              "size": 10,
              "solidity": 0.2
             }
            },
            "type": "bar"
           }
          ],
          "scattergeo": [
           {
            "type": "scattergeo",
            "marker": {
             "colorbar": {
              "outlinewidth": 0,
              "ticks": ""
             }
            }
           }
          ],
          "scatterpolar": [
           {
            "type": "scatterpolar",
            "marker": {
             "colorbar": {
              "outlinewidth": 0,
              "ticks": ""
             }
            }
           }
          ],
          "histogram": [
           {
            "marker": {
             "pattern": {
              "fillmode": "overlay",
              "size": 10,
              "solidity": 0.2
             }
            },
            "type": "histogram"
           }
          ],
          "scattergl": [
           {
            "type": "scattergl",
            "marker": {
             "colorbar": {
              "outlinewidth": 0,
              "ticks": ""
             }
            }
           }
          ],
          "scatter3d": [
           {
            "type": "scatter3d",
            "line": {
             "colorbar": {
              "outlinewidth": 0,
              "ticks": ""
             }
            },
            "marker": {
             "colorbar": {
              "outlinewidth": 0,
              "ticks": ""
             }
            }
           }
          ],
          "scattermapbox": [
           {
            "type": "scattermapbox",
            "marker": {
             "colorbar": {
              "outlinewidth": 0,
              "ticks": ""
             }
            }
           }
          ],
          "scatterternary": [
           {
            "type": "scatterternary",
            "marker": {
             "colorbar": {
              "outlinewidth": 0,
              "ticks": ""
             }
            }
           }
          ],
          "scattercarpet": [
           {
            "type": "scattercarpet",
            "marker": {
             "colorbar": {
              "outlinewidth": 0,
              "ticks": ""
             }
            }
           }
          ],
          "carpet": [
           {
            "aaxis": {
             "endlinecolor": "#2a3f5f",
             "gridcolor": "white",
             "linecolor": "white",
             "minorgridcolor": "white",
             "startlinecolor": "#2a3f5f"
            },
            "baxis": {
             "endlinecolor": "#2a3f5f",
             "gridcolor": "white",
             "linecolor": "white",
             "minorgridcolor": "white",
             "startlinecolor": "#2a3f5f"
            },
            "type": "carpet"
           }
          ],
          "table": [
           {
            "cells": {
             "fill": {
              "color": "#EBF0F8"
             },
             "line": {
              "color": "white"
             }
            },
            "header": {
             "fill": {
              "color": "#C8D4E3"
             },
             "line": {
              "color": "white"
             }
            },
            "type": "table"
           }
          ],
          "barpolar": [
           {
            "marker": {
             "line": {
              "color": "#E5ECF6",
              "width": 0.5
             },
             "pattern": {
              "fillmode": "overlay",
              "size": 10,
              "solidity": 0.2
             }
            },
            "type": "barpolar"
           }
          ],
          "pie": [
           {
            "automargin": true,
            "type": "pie"
           }
          ]
         },
         "layout": {
          "autotypenumbers": "strict",
          "colorway": [
           "#636efa",
           "#EF553B",
           "#00cc96",
           "#ab63fa",
           "#FFA15A",
           "#19d3f3",
           "#FF6692",
           "#B6E880",
           "#FF97FF",
           "#FECB52"
          ],
          "font": {
           "color": "#2a3f5f"
          },
          "hovermode": "closest",
          "hoverlabel": {
           "align": "left"
          },
          "paper_bgcolor": "white",
          "plot_bgcolor": "#E5ECF6",
          "polar": {
           "bgcolor": "#E5ECF6",
           "angularaxis": {
            "gridcolor": "white",
            "linecolor": "white",
            "ticks": ""
           },
           "radialaxis": {
            "gridcolor": "white",
            "linecolor": "white",
            "ticks": ""
           }
          },
          "ternary": {
           "bgcolor": "#E5ECF6",
           "aaxis": {
            "gridcolor": "white",
            "linecolor": "white",
            "ticks": ""
           },
           "baxis": {
            "gridcolor": "white",
            "linecolor": "white",
            "ticks": ""
           },
           "caxis": {
            "gridcolor": "white",
            "linecolor": "white",
            "ticks": ""
           }
          },
          "coloraxis": {
           "colorbar": {
            "outlinewidth": 0,
            "ticks": ""
           }
          },
          "colorscale": {
           "sequential": [
            [
             0.0,
             "#0d0887"
            ],
            [
             0.1111111111111111,
             "#46039f"
            ],
            [
             0.2222222222222222,
             "#7201a8"
            ],
            [
             0.3333333333333333,
             "#9c179e"
            ],
            [
             0.4444444444444444,
             "#bd3786"
            ],
            [
             0.5555555555555556,
             "#d8576b"
            ],
            [
             0.6666666666666666,
             "#ed7953"
            ],
            [
             0.7777777777777778,
             "#fb9f3a"
            ],
            [
             0.8888888888888888,
             "#fdca26"
            ],
            [
             1.0,
             "#f0f921"
            ]
           ],
           "sequentialminus": [
            [
             0.0,
             "#0d0887"
            ],
            [
             0.1111111111111111,
             "#46039f"
            ],
            [
             0.2222222222222222,
             "#7201a8"
            ],
            [
             0.3333333333333333,
             "#9c179e"
            ],
            [
             0.4444444444444444,
             "#bd3786"
            ],
            [
             0.5555555555555556,
             "#d8576b"
            ],
            [
             0.6666666666666666,
             "#ed7953"
            ],
            [
             0.7777777777777778,
             "#fb9f3a"
            ],
            [
             0.8888888888888888,
             "#fdca26"
            ],
            [
             1.0,
             "#f0f921"
            ]
           ],
           "diverging": [
            [
             0,
             "#8e0152"
            ],
            [
             0.1,
             "#c51b7d"
            ],
            [
             0.2,
             "#de77ae"
            ],
            [
             0.3,
             "#f1b6da"
            ],
            [
             0.4,
             "#fde0ef"
            ],
            [
             0.5,
             "#f7f7f7"
            ],
            [
             0.6,
             "#e6f5d0"
            ],
            [
             0.7,
             "#b8e186"
            ],
            [
             0.8,
             "#7fbc41"
            ],
            [
             0.9,
             "#4d9221"
            ],
            [
             1,
             "#276419"
            ]
           ]
          },
          "xaxis": {
           "gridcolor": "white",
           "linecolor": "white",
           "ticks": "",
           "title": {
            "standoff": 15
           },
           "zerolinecolor": "white",
           "automargin": true,
           "zerolinewidth": 2
          },
          "yaxis": {
           "gridcolor": "white",
           "linecolor": "white",
           "ticks": "",
           "title": {
            "standoff": 15
           },
           "zerolinecolor": "white",
           "automargin": true,
           "zerolinewidth": 2
          },
          "scene": {
           "xaxis": {
            "backgroundcolor": "#E5ECF6",
            "gridcolor": "white",
            "linecolor": "white",
            "showbackground": true,
            "ticks": "",
            "zerolinecolor": "white",
            "gridwidth": 2
           },
           "yaxis": {
            "backgroundcolor": "#E5ECF6",
            "gridcolor": "white",
            "linecolor": "white",
            "showbackground": true,
            "ticks": "",
            "zerolinecolor": "white",
            "gridwidth": 2
           },
           "zaxis": {
            "backgroundcolor": "#E5ECF6",
            "gridcolor": "white",
            "linecolor": "white",
            "showbackground": true,
            "ticks": "",
            "zerolinecolor": "white",
            "gridwidth": 2
           }
          },
          "shapedefaults": {
           "line": {
            "color": "#2a3f5f"
           }
          },
          "annotationdefaults": {
           "arrowcolor": "#2a3f5f",
           "arrowhead": 0,
           "arrowwidth": 1
          },
          "geo": {
           "bgcolor": "white",
           "landcolor": "#E5ECF6",
           "subunitcolor": "white",
           "showland": true,
           "showlakes": true,
           "lakecolor": "white"
          },
          "title": {
           "x": 0.05
          },
          "mapbox": {
           "style": "light"
          }
         }
        },
        "xaxis": {
         "anchor": "y",
         "domain": [
          0.0,
          1.0
         ],
         "matches": "x2",
         "showticklabels": false,
         "linecolor": "#666666",
         "gridcolor": "#d9d9d9",
         "zerolinecolor": "rgba(0,0,0,0)",
         "linewidth": 2,
         "showline": true,
         "showgrid": false,
         "mirror": true
        },
        "yaxis": {
         "anchor": "x",
         "domain": [
          0.25,
          1.0
         ],
         "title": {
          "text": "Counts"
         },
         "linecolor": "#666666",
         "zerolinecolor": "rgba(0,0,0,0)",
         "linewidth": 2,
         "mirror": true,
         "type": "log",
         "range": [
          -5.5,
          2.1480176427544984
         ]
        },
        "xaxis2": {
         "anchor": "y2",
         "domain": [
          0.0,
          1.0
         ],
         "title": {
          "text": "${P_{f}^{e}~\\text{[MeV]}}$"
         },
         "linecolor": "#666666",
         "gridcolor": "#d9d9d9",
         "zerolinecolor": "rgba(0,0,0,0)",
         "linewidth": 2,
         "showline": true,
         "showgrid": false,
         "mirror": false
        },
        "yaxis2": {
         "anchor": "x2",
         "domain": [
          0.0,
          0.25
         ],
         "title": {
          "text": "Rec./Truth"
         },
         "linecolor": "#666666",
         "zerolinecolor": "rgba(0,0,0,0)",
         "linewidth": 2,
         "mirror": true,
         "range": [
          0,
          2.0
         ]
        },
        "shapes": [
         {
          "line": {
           "color": "grey",
           "dash": "dash",
           "width": 1
          },
          "type": "line",
          "x0": 0,
          "x1": 1,
          "xref": "x2 domain",
          "y0": 1.0,
          "y1": 1.0,
          "yref": "y2"
         }
        ],
        "annotations": [
         {
          "font": {
           "family": "Cambria",
           "size": 34
          },
          "showarrow": false,
          "text": "<i><b>DarkSHINE<b><i>",
          "x": 0.05,
          "xref": "paper",
          "y": 0.97,
          "yref": "paper"
         },
         {
          "font": {
           "family": "Cambria",
           "size": 31
          },
          "showarrow": false,
          "text": "Simulation",
          "x": 0.455,
          "xref": "paper",
          "y": 0.9662999999999999,
          "yref": "paper"
         },
         {
          "showarrow": false,
          "text": "$\\Large{E^{e}_{0} = 8~\\text{GeV},~10^{6}~\\text{EOT}}$",
          "x": 0.05,
          "xref": "paper",
          "y": 0.895,
          "yref": "paper"
         },
         {
          "font": {
           "family": "Cambria",
           "size": 20
          },
          "showarrow": false,
          "text": "After Target, Recoil Energy",
          "x": 0.05,
          "xref": "paper",
          "y": 0.833,
          "yref": "paper"
         }
        ],
        "legend": {
         "font": {
          "size": 14
         },
         "orientation": "v",
         "yanchor": "top",
         "y": 0.99,
         "xanchor": "right",
         "x": 0.98
        },
        "width": 800,
        "height": 800,
        "paper_bgcolor": "rgba(0,0,0,0)",
        "plot_bgcolor": "rgba(0,0,0,0)"
       },
       "config": {
        "plotlyServerURL": "https://plot.ly"
       }
      },
      "text/html": "<div>                            <div id=\"35c3fc86-3143-43a1-a9c0-69c0e41ef287\" class=\"plotly-graph-div\" style=\"height:800px; width:800px;\"></div>            <script type=\"text/javascript\">                require([\"plotly\"], function(Plotly) {                    window.PLOTLYENV=window.PLOTLYENV || {};                                    if (document.getElementById(\"35c3fc86-3143-43a1-a9c0-69c0e41ef287\")) {                    Plotly.newPlot(                        \"35c3fc86-3143-43a1-a9c0-69c0e41ef287\",                        [{\"error_y\":{\"array\":[0.00024256305979905338,0.0002650527133808335,0.0002873102948432011,0.00025491953692342135,0.0002600354890931177,0.00026422312538856504,0.00026339092450132083,0.00027401246423364037,0.0002683454199204932,0.000273210083406435,0.00029485252979633063,0.0002911058397303146,0.00030147925675121345,0.00028807340454010684,0.00031640233997320993,0.0002963379423701559,0.00031291378419353514,0.0003462211437222786,0.00033131589172604185,0.00035990118050662504,0.000344950603129609,0.00036051066643097147,0.0004008785380154012,0.0003925778763949289,0.00039313670639510754,0.00040306317837670186,0.0004180361113773234,0.0004479508481535517,0.0004810359903295684,0.0005063824978980606,0.000541982572611846,0.0005814570301746163,0.0006414193518854207,0.0007074971404200965,0.0007831960099336067,0.0008907407877473034,0.0011479031850304747,0.0019821442223473744,0.003052424656392958,0.0,0.0,0.0,0.0,0.0,0.0,0.0,0.0,0.0,0.0],\"type\":\"data\",\"visible\":true},\"line\":{\"color\":\"rgba(0,0,0,0.8)\"},\"name\":\"Truth\",\"x\":[1000.0,1183.6734693877552,1367.3469387755101,1551.0204081632653,1734.6938775510203,1918.3673469387754,2102.0408163265306,2285.7142857142853,2469.3877551020405,2653.0612244897957,2836.734693877551,3020.408163265306,3204.081632653061,3387.7551020408164,3571.428571428571,3755.1020408163263,3938.7755102040815,4122.448979591836,4306.122448979591,4489.7959183673465,4673.469387755102,4857.142857142857,5040.816326530612,5224.489795918367,5408.163265306122,5591.836734693878,5775.510204081633,5959.183673469387,6142.857142857142,6326.530612244897,6510.204081632653,6693.877551020408,6877.551020408163,7061.224489795918,7244.897959183673,7428.571428571428,7612.244897959184,7795.918367346939,7979.591836734693,8163.265306122448,8346.938775510203,8530.612244897959,8714.285714285714,8897.959183673469,9081.632653061224,9265.30612244898,9448.979591836734,9632.65306122449,9816.326530612245],\"y\":[0.0028078704188755944,0.0033526810971648887,0.0039394002891687445,0.0031012300148775224,0.0032269555560212053,0.0033317268403076084,0.0033107725834503276,0.0035831779225949747,0.003436498124594011,0.0035622236657376944,0.00414894285774155,0.004044171573455147,0.004337531169457075,0.003960354546026025,0.004777570563459966,0.004190851371456111,0.004672799279173564,0.0057205121220375915,0.005238564214320139,0.0061815057728977635,0.005678603608323031,0.006202460029755045,0.007669258009764683,0.007354944156905475,0.0073758984137627555,0.007753075037193805,0.00833979422919766,0.009576095383777213,0.011042893363786853,0.012237286004651845,0.014018397837520692,0.016134777780106028,0.01963413867527188,0.023887852817299833,0.029273096829620936,0.03786434214110596,0.06288372482869894,0.1874986903589464,0.44464933051149336,0.0,0.0,0.0,0.0,0.0,0.0,0.0,0.0,0.0,0.0],\"type\":\"scatter\",\"xaxis\":\"x\",\"yaxis\":\"y\"},{\"error_y\":{\"array\":[0.00029231510011036035,0.00031616162873456297,0.00032620099636796395,0.0002881488760992652,0.0002881488760992652,0.00031870112036347137,0.00031616162873456297,0.0003084177192924737,0.00032496303745661956,0.00032247286254224886,0.000332321623767628,0.00033110654977685475,0.0003602560273827978,0.0003511915299637427,0.0003580114196904827,0.0003523373455038431,0.000346570387431751,0.0003861750236715438,0.00040352830423758256,0.0003755928723012678,0.00043616852149959445,0.0004268276419855458,0.00041241983607319356,0.0004343164175003082,0.00046825537328499026,0.000460443336084349,0.0004843338380293569,0.0004759392014491415,0.0005071000567698745,0.0005541927059408631,0.0005942037289246855,0.0006213925961284259,0.0007321652967393105,0.0007806551253438301,0.0009256886736265924,0.0010627164062470063,0.0012572947858087238,0.0014082049649512785,0.0015265898252485807,0.0015525082325308557,0.0015491295381396032,0.0014932220882206304,0.0013998799620250477,0.0012515111348646653,0.0011349760706003058,0.0009615680543923284,0.0008065570376390104,0.0006694770802959368,0.0005468714767967469],\"type\":\"data\",\"visible\":true},\"fillcolor\":\"rgba(0,100,80,0.4)\",\"line\":{\"color\":\"rgba(0,100,80,0.6)\"},\"name\":\"CKF\",\"x\":[1000.0,1183.6734693877552,1367.3469387755101,1551.0204081632653,1734.6938775510203,1918.3673469387754,2102.0408163265306,2285.7142857142853,2469.3877551020405,2653.0612244897957,2836.734693877551,3020.408163265306,3204.081632653061,3387.7551020408164,3571.428571428571,3755.1020408163263,3938.7755102040815,4122.448979591836,4306.122448979591,4489.7959183673465,4673.469387755102,4857.142857142857,5040.816326530612,5224.489795918367,5408.163265306122,5591.836734693878,5775.510204081633,5959.183673469387,6142.857142857142,6326.530612244897,6510.204081632653,6693.877551020408,6877.551020408163,7061.224489795918,7244.897959183673,7428.571428571428,7612.244897959184,7795.918367346939,7979.591836734693,8163.265306122448,8346.938775510203,8530.612244897959,8714.285714285714,8897.959183673469,9081.632653061224,9265.30612244898,9448.979591836734,9632.65306122449,9816.326530612245],\"y\":[0.003009568155361858,0.0035206268987251926,0.0037477641179977854,0.0029243916981346357,0.0029243916981346357,0.0035774112035433406,0.0035206268987251926,0.0033502739842707478,0.0037193719655887114,0.003662587660770563,0.003889724880043156,0.003861332727634082,0.004571136537860935,0.004343999318588343,0.0045143522330427874,0.004372391470997416,0.004230430708952046,0.005252548195678715,0.005735214786632975,0.004968626671587973,0.0067005479685414955,0.006416626444450754,0.005990744158314642,0.006643763663723347,0.007722665455268164,0.007467136083586497,0.008262116351040573,0.00797819482694983,0.009057096618494648,0.010817410067857245,0.01243576275517447,0.01359984100394651,0.018880781352034297,0.021464467221260046,0.0301808580108458,0.03977740552511286,0.055677010874194376,0.06984469492632236,0.08208171261463332,0.08489253570313166,0.0845234377218137,0.07853269356349905,0.06902132250645922,0.05516595213083104,0.045370659549700466,0.03256579881320803,0.022912466994122825,0.015786036739445217,0.010533488543766503],\"type\":\"scatter\",\"xaxis\":\"x\",\"yaxis\":\"y\"},{\"error_y\":{\"array\":[0.00029231510011036035,0.00031616162873456297,0.00032620099636796395,0.0002881488760992652,0.0002881488760992652,0.00031870112036347137,0.00031616162873456297,0.0003084177192924737,0.00032496303745661956,0.00032247286254224886,0.000332321623767628,0.00033110654977685475,0.0003602560273827978,0.0003511915299637427,0.0003580114196904827,0.0003523373455038431,0.000346570387431751,0.0003861750236715438,0.00040352830423758256,0.0003755928723012678,0.00043616852149959445,0.0004268276419855458,0.00041241983607319356,0.0004343164175003082,0.00046825537328499026,0.000460443336084349,0.0004843338380293569,0.0004759392014491415,0.0005071000567698745,0.0005541927059408631,0.0005942037289246855,0.0006213925961284259,0.0007321652967393105,0.0007806551253438301,0.0009256886736265924,0.0010627164062470063,0.0012572947858087238,0.0014082049649512785,0.0015265898252485807,0.0015525082325308557,0.0015491295381396032,0.0014932220882206304,0.0013998799620250477,0.0012515111348646653,0.0011349760706003058,0.0009615680543923284,0.0008065570376390104,0.0006694770802959368,0.0005468714767967469],\"type\":\"data\",\"visible\":true},\"fillcolor\":\"rgba(204,40,46,0.4)\",\"line\":{\"color\":\"rgba(204,40,46,0.6)\"},\"name\":\"GNN\",\"x\":[1000.0,1183.6734693877552,1367.3469387755101,1551.0204081632653,1734.6938775510203,1918.3673469387754,2102.0408163265306,2285.7142857142853,2469.3877551020405,2653.0612244897957,2836.734693877551,3020.408163265306,3204.081632653061,3387.7551020408164,3571.428571428571,3755.1020408163263,3938.7755102040815,4122.448979591836,4306.122448979591,4489.7959183673465,4673.469387755102,4857.142857142857,5040.816326530612,5224.489795918367,5408.163265306122,5591.836734693878,5775.510204081633,5959.183673469387,6142.857142857142,6326.530612244897,6510.204081632653,6693.877551020408,6877.551020408163,7061.224489795918,7244.897959183673,7428.571428571428,7612.244897959184,7795.918367346939,7979.591836734693,8163.265306122448,8346.938775510203,8530.612244897959,8714.285714285714,8897.959183673469,9081.632653061224,9265.30612244898,9448.979591836734,9632.65306122449,9816.326530612245],\"y\":[0.0025699481865284974,0.0030880829015544043,0.003730569948186529,0.005512953367875648,0.0051813471502590676,0.005243523316062176,0.00433160621761658,0.004269430051813471,0.00366839378238342,0.00383419689119171,0.004227979274611399,0.003937823834196891,0.004310880829015544,0.004,0.004352331606217617,0.004974093264248705,0.004787564766839379,0.004911917098445596,0.004808290155440415,0.004663212435233161,0.004082901554404145,0.004020725388601036,0.004911917098445596,0.004518134715025907,0.004642487046632124,0.003937823834196891,0.005098445595854923,0.005678756476683938,0.006901554404145078,0.007709844559585493,0.009906735751295337,0.011792746113989637,0.016518134715025907,0.02035233160621762,0.0312538860103627,0.05090155440414508,0.0910259067357513,0.15021761658031088,0.19015544041450777,0.15890155440414508,0.08184455958549224,0.030694300518134716,0.011461139896373058,0.004373056994818653,0.0015129533678756477,0.0007461139896373058,0.0003523316062176166,6.217616580310881e-05,2.072538860103627e-05],\"type\":\"scatter\",\"xaxis\":\"x\",\"yaxis\":\"y\"},{\"error_y\":{\"array\":[3.535680409466173e-06,3.192900479167392e-06,2.76424622950997e-06,3.0979540529228958e-06,2.9612692751680403e-06,3.249596035976863e-06,3.239385605145486e-06,2.8665362390273696e-06,3.2162897785763763e-06,3.055560510079662e-06,2.668502016942158e-06,2.734491519397046e-06,2.8136366804517245e-06,3.022253777444831e-06,2.4992157902149812e-06,2.8438628158580066e-06,2.4592926414593597e-06,2.242677970427031e-06,2.6245664802857184e-06,1.9843624840627743e-06,2.647951609803535e-06,2.324874973559154e-06,1.7501873494859927e-06,1.957460873784392e-06,2.1485586224176034e-06,1.9859366764819723e-06,1.949757038000225e-06,1.6303789765377538e-06,1.5034432862220033e-06,1.4969256422663384e-06,1.4017259957337745e-06,1.2652183757781487e-06,1.2467137641809885e-06,1.0825392624689993e-06,1.0678008077250918e-06,9.503463270544588e-07,6.610208195258e-07,2.286477966055108e-07,1.0102927240312656e-07],\"color\":\"rgba(0,100,80,0.4)\",\"thickness\":1.5,\"type\":\"data\",\"width\":3},\"marker\":{\"color\":\"rgba(0,100,80,0.4)\",\"size\":10,\"symbol\":\"circle\"},\"mode\":\"markers\",\"name\":\"CKF/Truth\",\"x\":[1000.0,1183.6734693877552,1367.3469387755101,1551.0204081632653,1734.6938775510203,1918.3673469387754,2102.0408163265306,2285.7142857142853,2469.3877551020405,2653.0612244897957,2836.734693877551,3020.408163265306,3204.081632653061,3387.7551020408164,3571.428571428571,3755.1020408163263,3938.7755102040815,4122.448979591836,4306.122448979591,4489.7959183673465,4673.469387755102,4857.142857142857,5040.816326530612,5224.489795918367,5408.163265306122,5591.836734693878,5775.510204081633,5959.183673469387,6142.857142857142,6326.530612244897,6510.204081632653,6693.877551020408,6877.551020408163,7061.224489795918,7244.897959183673,7428.571428571428,7612.244897959184,7795.918367346939,7979.591836734693],\"y\":[1.0718329931218953,1.0500929842991398,0.9513539734213209,0.9429780068248595,0.9062386039615533,1.0737408482182318,1.063385300556091,0.9350007330488473,1.082314562888964,1.0281745349114917,0.9375219214661594,0.9547895428024937,1.0538567584364127,1.096871320005246,0.9449054018311444,1.0433181908520488,0.9053311422570336,0.9181954488731697,1.0948066210499419,0.8037890530447215,1.1799640247332317,1.0345292696233896,0.7811373865225401,0.9033057929454965,1.04701353273228,0.9631192846405361,0.9906858759314304,0.8331365245657043,0.8201742351507023,0.8839713367608756,0.8871029984532007,0.8428898860147265,0.9616302331516893,0.898551551929994,1.0310100836446632,1.0505241416020814,0.8853961979170869,0.37250764148065296,0.18459875452913035],\"type\":\"scatter\",\"xaxis\":\"x2\",\"yaxis\":\"y2\"},{\"error_y\":{\"array\":[2.376304198113792e-06,2.184934781861706e-06,2.057796989662875e-06,3.8050295750869456e-06,3.432231039800594e-06,3.3234379091170837e-06,2.876621136302177e-06,2.5701731636071135e-06,2.4116813817685226e-06,2.383737254640691e-06,2.1188338443309314e-06,2.0737315303724327e-06,2.0334660724299013e-06,2.154138316848752e-06,1.8154211710761693e-06,2.3693795448367013e-06,2.0047010863892192e-06,1.5881001280862933e-06,1.7434095163899597e-06,1.3904956666177583e-06,1.401702007719181e-06,1.2465088069289294e-06,1.1115562096347122e-06,1.1025456216740847e-06,1.1197515255376638e-06,9.430426831147558e-07,1.0319372468006946e-06,9.429590769282125e-07,9.106422509464522e-07,8.699267067687725e-07,8.812314769240682e-07,8.41362311716857e-07,8.444670071131638e-07,7.727241958360782e-07,8.264207574089082e-07,8.690171531909143e-07,7.151904921850242e-07,2.6369661097440065e-07,1.1111429968624222e-07],\"color\":\"rgba(204,40,46,0.4)\",\"thickness\":1.5,\"type\":\"data\",\"width\":3},\"marker\":{\"color\":\"rgba(204,40,46,0.4)\",\"size\":10,\"symbol\":\"diamond\"},\"mode\":\"markers\",\"name\":\"GNN/Truth\",\"x\":[1000.0,1183.6734693877552,1367.3469387755101,1551.0204081632653,1734.6938775510203,1918.3673469387754,2102.0408163265306,2285.7142857142853,2469.3877551020405,2653.0612244897957,2836.734693877551,3020.408163265306,3204.081632653061,3387.7551020408164,3571.428571428571,3755.1020408163263,3938.7755102040815,4122.448979591836,4306.122448979591,4489.7959183673465,4673.469387755102,4857.142857142857,5040.816326530612,5224.489795918367,5408.163265306122,5591.836734693878,5775.510204081633,5959.183673469387,6142.857142857142,6326.530612244897,6510.204081632653,6693.877551020408,6877.551020408163,7061.224489795918,7244.897959183673,7428.571428571428,7612.244897959184,7795.918367346939,7979.591836734693],\"y\":[0.9152659500425335,0.9210786269430052,0.9469893065814134,1.77766671334547,1.6056456496871006,1.5738154919021086,1.3083369843247852,1.191520528436809,1.0674802224188047,1.0763492837549529,1.0190497723347465,0.9737034551263122,0.9938558734449702,1.010010582010582,0.910992637032997,1.1868932642487047,1.024560329003927,0.8586498889711326,0.9178641243523318,0.7543813120224818,0.7189974571248304,0.6482468841898894,0.6404683598063367,0.6142989829207447,0.6294130946773435,0.5079047752415629,0.6113394954044836,0.5930137753540211,0.6249770034706178,0.6300289587621549,0.7066952918670664,0.7308898997375682,0.8412966307419225,0.8519950186346698,1.0676658568880022,1.3443137137958028,1.4475272732923226,0.8011662177092286,0.4276525958012043],\"type\":\"scatter\",\"xaxis\":\"x2\",\"yaxis\":\"y2\"},{\"marker\":{\"color\":\"rgba(0,100,80,0.4)\",\"line\":{\"width\":2},\"size\":12,\"symbol\":\"arrow-up-open\"},\"mode\":\"markers\",\"name\":\"CKF/Truth >=2.0\",\"showlegend\":false,\"x\":[8163.265306122448,8346.938775510203,8530.612244897959,8714.285714285714,8897.959183673469,9081.632653061224,9265.30612244898,9448.979591836734,9632.65306122449,9816.326530612245],\"y\":[2.0,2.0,2.0,2.0,2.0,2.0,2.0,2.0,2.0,2.0],\"type\":\"scatter\",\"xaxis\":\"x2\",\"yaxis\":\"y2\"},{\"marker\":{\"color\":\"rgba(204,40,46,0.4)\",\"line\":{\"width\":2},\"size\":12,\"symbol\":\"arrow-up-open\"},\"mode\":\"markers\",\"name\":\"GNN/Truth >=2.0\",\"showlegend\":false,\"x\":[8163.265306122448,8346.938775510203,8530.612244897959,8714.285714285714,8897.959183673469,9081.632653061224,9265.30612244898,9448.979591836734,9632.65306122449,9816.326530612245],\"y\":[2.0,2.0,2.0,2.0,2.0,2.0,2.0,2.0,2.0,2.0],\"type\":\"scatter\",\"xaxis\":\"x2\",\"yaxis\":\"y2\"}],                        {\"template\":{\"data\":{\"histogram2dcontour\":[{\"type\":\"histogram2dcontour\",\"colorbar\":{\"outlinewidth\":0,\"ticks\":\"\"},\"colorscale\":[[0.0,\"#0d0887\"],[0.1111111111111111,\"#46039f\"],[0.2222222222222222,\"#7201a8\"],[0.3333333333333333,\"#9c179e\"],[0.4444444444444444,\"#bd3786\"],[0.5555555555555556,\"#d8576b\"],[0.6666666666666666,\"#ed7953\"],[0.7777777777777778,\"#fb9f3a\"],[0.8888888888888888,\"#fdca26\"],[1.0,\"#f0f921\"]]}],\"choropleth\":[{\"type\":\"choropleth\",\"colorbar\":{\"outlinewidth\":0,\"ticks\":\"\"}}],\"histogram2d\":[{\"type\":\"histogram2d\",\"colorbar\":{\"outlinewidth\":0,\"ticks\":\"\"},\"colorscale\":[[0.0,\"#0d0887\"],[0.1111111111111111,\"#46039f\"],[0.2222222222222222,\"#7201a8\"],[0.3333333333333333,\"#9c179e\"],[0.4444444444444444,\"#bd3786\"],[0.5555555555555556,\"#d8576b\"],[0.6666666666666666,\"#ed7953\"],[0.7777777777777778,\"#fb9f3a\"],[0.8888888888888888,\"#fdca26\"],[1.0,\"#f0f921\"]]}],\"heatmap\":[{\"type\":\"heatmap\",\"colorbar\":{\"outlinewidth\":0,\"ticks\":\"\"},\"colorscale\":[[0.0,\"#0d0887\"],[0.1111111111111111,\"#46039f\"],[0.2222222222222222,\"#7201a8\"],[0.3333333333333333,\"#9c179e\"],[0.4444444444444444,\"#bd3786\"],[0.5555555555555556,\"#d8576b\"],[0.6666666666666666,\"#ed7953\"],[0.7777777777777778,\"#fb9f3a\"],[0.8888888888888888,\"#fdca26\"],[1.0,\"#f0f921\"]]}],\"heatmapgl\":[{\"type\":\"heatmapgl\",\"colorbar\":{\"outlinewidth\":0,\"ticks\":\"\"},\"colorscale\":[[0.0,\"#0d0887\"],[0.1111111111111111,\"#46039f\"],[0.2222222222222222,\"#7201a8\"],[0.3333333333333333,\"#9c179e\"],[0.4444444444444444,\"#bd3786\"],[0.5555555555555556,\"#d8576b\"],[0.6666666666666666,\"#ed7953\"],[0.7777777777777778,\"#fb9f3a\"],[0.8888888888888888,\"#fdca26\"],[1.0,\"#f0f921\"]]}],\"contourcarpet\":[{\"type\":\"contourcarpet\",\"colorbar\":{\"outlinewidth\":0,\"ticks\":\"\"}}],\"contour\":[{\"type\":\"contour\",\"colorbar\":{\"outlinewidth\":0,\"ticks\":\"\"},\"colorscale\":[[0.0,\"#0d0887\"],[0.1111111111111111,\"#46039f\"],[0.2222222222222222,\"#7201a8\"],[0.3333333333333333,\"#9c179e\"],[0.4444444444444444,\"#bd3786\"],[0.5555555555555556,\"#d8576b\"],[0.6666666666666666,\"#ed7953\"],[0.7777777777777778,\"#fb9f3a\"],[0.8888888888888888,\"#fdca26\"],[1.0,\"#f0f921\"]]}],\"surface\":[{\"type\":\"surface\",\"colorbar\":{\"outlinewidth\":0,\"ticks\":\"\"},\"colorscale\":[[0.0,\"#0d0887\"],[0.1111111111111111,\"#46039f\"],[0.2222222222222222,\"#7201a8\"],[0.3333333333333333,\"#9c179e\"],[0.4444444444444444,\"#bd3786\"],[0.5555555555555556,\"#d8576b\"],[0.6666666666666666,\"#ed7953\"],[0.7777777777777778,\"#fb9f3a\"],[0.8888888888888888,\"#fdca26\"],[1.0,\"#f0f921\"]]}],\"mesh3d\":[{\"type\":\"mesh3d\",\"colorbar\":{\"outlinewidth\":0,\"ticks\":\"\"}}],\"scatter\":[{\"fillpattern\":{\"fillmode\":\"overlay\",\"size\":10,\"solidity\":0.2},\"type\":\"scatter\"}],\"parcoords\":[{\"type\":\"parcoords\",\"line\":{\"colorbar\":{\"outlinewidth\":0,\"ticks\":\"\"}}}],\"scatterpolargl\":[{\"type\":\"scatterpolargl\",\"marker\":{\"colorbar\":{\"outlinewidth\":0,\"ticks\":\"\"}}}],\"bar\":[{\"error_x\":{\"color\":\"#2a3f5f\"},\"error_y\":{\"color\":\"#2a3f5f\"},\"marker\":{\"line\":{\"color\":\"#E5ECF6\",\"width\":0.5},\"pattern\":{\"fillmode\":\"overlay\",\"size\":10,\"solidity\":0.2}},\"type\":\"bar\"}],\"scattergeo\":[{\"type\":\"scattergeo\",\"marker\":{\"colorbar\":{\"outlinewidth\":0,\"ticks\":\"\"}}}],\"scatterpolar\":[{\"type\":\"scatterpolar\",\"marker\":{\"colorbar\":{\"outlinewidth\":0,\"ticks\":\"\"}}}],\"histogram\":[{\"marker\":{\"pattern\":{\"fillmode\":\"overlay\",\"size\":10,\"solidity\":0.2}},\"type\":\"histogram\"}],\"scattergl\":[{\"type\":\"scattergl\",\"marker\":{\"colorbar\":{\"outlinewidth\":0,\"ticks\":\"\"}}}],\"scatter3d\":[{\"type\":\"scatter3d\",\"line\":{\"colorbar\":{\"outlinewidth\":0,\"ticks\":\"\"}},\"marker\":{\"colorbar\":{\"outlinewidth\":0,\"ticks\":\"\"}}}],\"scattermapbox\":[{\"type\":\"scattermapbox\",\"marker\":{\"colorbar\":{\"outlinewidth\":0,\"ticks\":\"\"}}}],\"scatterternary\":[{\"type\":\"scatterternary\",\"marker\":{\"colorbar\":{\"outlinewidth\":0,\"ticks\":\"\"}}}],\"scattercarpet\":[{\"type\":\"scattercarpet\",\"marker\":{\"colorbar\":{\"outlinewidth\":0,\"ticks\":\"\"}}}],\"carpet\":[{\"aaxis\":{\"endlinecolor\":\"#2a3f5f\",\"gridcolor\":\"white\",\"linecolor\":\"white\",\"minorgridcolor\":\"white\",\"startlinecolor\":\"#2a3f5f\"},\"baxis\":{\"endlinecolor\":\"#2a3f5f\",\"gridcolor\":\"white\",\"linecolor\":\"white\",\"minorgridcolor\":\"white\",\"startlinecolor\":\"#2a3f5f\"},\"type\":\"carpet\"}],\"table\":[{\"cells\":{\"fill\":{\"color\":\"#EBF0F8\"},\"line\":{\"color\":\"white\"}},\"header\":{\"fill\":{\"color\":\"#C8D4E3\"},\"line\":{\"color\":\"white\"}},\"type\":\"table\"}],\"barpolar\":[{\"marker\":{\"line\":{\"color\":\"#E5ECF6\",\"width\":0.5},\"pattern\":{\"fillmode\":\"overlay\",\"size\":10,\"solidity\":0.2}},\"type\":\"barpolar\"}],\"pie\":[{\"automargin\":true,\"type\":\"pie\"}]},\"layout\":{\"autotypenumbers\":\"strict\",\"colorway\":[\"#636efa\",\"#EF553B\",\"#00cc96\",\"#ab63fa\",\"#FFA15A\",\"#19d3f3\",\"#FF6692\",\"#B6E880\",\"#FF97FF\",\"#FECB52\"],\"font\":{\"color\":\"#2a3f5f\"},\"hovermode\":\"closest\",\"hoverlabel\":{\"align\":\"left\"},\"paper_bgcolor\":\"white\",\"plot_bgcolor\":\"#E5ECF6\",\"polar\":{\"bgcolor\":\"#E5ECF6\",\"angularaxis\":{\"gridcolor\":\"white\",\"linecolor\":\"white\",\"ticks\":\"\"},\"radialaxis\":{\"gridcolor\":\"white\",\"linecolor\":\"white\",\"ticks\":\"\"}},\"ternary\":{\"bgcolor\":\"#E5ECF6\",\"aaxis\":{\"gridcolor\":\"white\",\"linecolor\":\"white\",\"ticks\":\"\"},\"baxis\":{\"gridcolor\":\"white\",\"linecolor\":\"white\",\"ticks\":\"\"},\"caxis\":{\"gridcolor\":\"white\",\"linecolor\":\"white\",\"ticks\":\"\"}},\"coloraxis\":{\"colorbar\":{\"outlinewidth\":0,\"ticks\":\"\"}},\"colorscale\":{\"sequential\":[[0.0,\"#0d0887\"],[0.1111111111111111,\"#46039f\"],[0.2222222222222222,\"#7201a8\"],[0.3333333333333333,\"#9c179e\"],[0.4444444444444444,\"#bd3786\"],[0.5555555555555556,\"#d8576b\"],[0.6666666666666666,\"#ed7953\"],[0.7777777777777778,\"#fb9f3a\"],[0.8888888888888888,\"#fdca26\"],[1.0,\"#f0f921\"]],\"sequentialminus\":[[0.0,\"#0d0887\"],[0.1111111111111111,\"#46039f\"],[0.2222222222222222,\"#7201a8\"],[0.3333333333333333,\"#9c179e\"],[0.4444444444444444,\"#bd3786\"],[0.5555555555555556,\"#d8576b\"],[0.6666666666666666,\"#ed7953\"],[0.7777777777777778,\"#fb9f3a\"],[0.8888888888888888,\"#fdca26\"],[1.0,\"#f0f921\"]],\"diverging\":[[0,\"#8e0152\"],[0.1,\"#c51b7d\"],[0.2,\"#de77ae\"],[0.3,\"#f1b6da\"],[0.4,\"#fde0ef\"],[0.5,\"#f7f7f7\"],[0.6,\"#e6f5d0\"],[0.7,\"#b8e186\"],[0.8,\"#7fbc41\"],[0.9,\"#4d9221\"],[1,\"#276419\"]]},\"xaxis\":{\"gridcolor\":\"white\",\"linecolor\":\"white\",\"ticks\":\"\",\"title\":{\"standoff\":15},\"zerolinecolor\":\"white\",\"automargin\":true,\"zerolinewidth\":2},\"yaxis\":{\"gridcolor\":\"white\",\"linecolor\":\"white\",\"ticks\":\"\",\"title\":{\"standoff\":15},\"zerolinecolor\":\"white\",\"automargin\":true,\"zerolinewidth\":2},\"scene\":{\"xaxis\":{\"backgroundcolor\":\"#E5ECF6\",\"gridcolor\":\"white\",\"linecolor\":\"white\",\"showbackground\":true,\"ticks\":\"\",\"zerolinecolor\":\"white\",\"gridwidth\":2},\"yaxis\":{\"backgroundcolor\":\"#E5ECF6\",\"gridcolor\":\"white\",\"linecolor\":\"white\",\"showbackground\":true,\"ticks\":\"\",\"zerolinecolor\":\"white\",\"gridwidth\":2},\"zaxis\":{\"backgroundcolor\":\"#E5ECF6\",\"gridcolor\":\"white\",\"linecolor\":\"white\",\"showbackground\":true,\"ticks\":\"\",\"zerolinecolor\":\"white\",\"gridwidth\":2}},\"shapedefaults\":{\"line\":{\"color\":\"#2a3f5f\"}},\"annotationdefaults\":{\"arrowcolor\":\"#2a3f5f\",\"arrowhead\":0,\"arrowwidth\":1},\"geo\":{\"bgcolor\":\"white\",\"landcolor\":\"#E5ECF6\",\"subunitcolor\":\"white\",\"showland\":true,\"showlakes\":true,\"lakecolor\":\"white\"},\"title\":{\"x\":0.05},\"mapbox\":{\"style\":\"light\"}}},\"xaxis\":{\"anchor\":\"y\",\"domain\":[0.0,1.0],\"matches\":\"x2\",\"showticklabels\":false,\"linecolor\":\"#666666\",\"gridcolor\":\"#d9d9d9\",\"zerolinecolor\":\"rgba(0,0,0,0)\",\"linewidth\":2,\"showline\":true,\"showgrid\":false,\"mirror\":true},\"yaxis\":{\"anchor\":\"x\",\"domain\":[0.25,1.0],\"title\":{\"text\":\"Counts\"},\"linecolor\":\"#666666\",\"zerolinecolor\":\"rgba(0,0,0,0)\",\"linewidth\":2,\"mirror\":true,\"type\":\"log\",\"range\":[-5.5,2.1480176427544984]},\"xaxis2\":{\"anchor\":\"y2\",\"domain\":[0.0,1.0],\"title\":{\"text\":\"${P_{f}^{e}~\\\\text{[MeV]}}$\"},\"linecolor\":\"#666666\",\"gridcolor\":\"#d9d9d9\",\"zerolinecolor\":\"rgba(0,0,0,0)\",\"linewidth\":2,\"showline\":true,\"showgrid\":false,\"mirror\":false},\"yaxis2\":{\"anchor\":\"x2\",\"domain\":[0.0,0.25],\"title\":{\"text\":\"Rec./Truth\"},\"linecolor\":\"#666666\",\"zerolinecolor\":\"rgba(0,0,0,0)\",\"linewidth\":2,\"mirror\":true,\"range\":[0,2.0]},\"shapes\":[{\"line\":{\"color\":\"grey\",\"dash\":\"dash\",\"width\":1},\"type\":\"line\",\"x0\":0,\"x1\":1,\"xref\":\"x2 domain\",\"y0\":1.0,\"y1\":1.0,\"yref\":\"y2\"}],\"annotations\":[{\"font\":{\"family\":\"Cambria\",\"size\":34},\"showarrow\":false,\"text\":\"<i><b>DarkSHINE<b><i>\",\"x\":0.05,\"xref\":\"paper\",\"y\":0.97,\"yref\":\"paper\"},{\"font\":{\"family\":\"Cambria\",\"size\":31},\"showarrow\":false,\"text\":\"Simulation\",\"x\":0.455,\"xref\":\"paper\",\"y\":0.9662999999999999,\"yref\":\"paper\"},{\"showarrow\":false,\"text\":\"$\\\\Large{E^{e}_{0} = 8~\\\\text{GeV},~10^{6}~\\\\text{EOT}}$\",\"x\":0.05,\"xref\":\"paper\",\"y\":0.895,\"yref\":\"paper\"},{\"font\":{\"family\":\"Cambria\",\"size\":20},\"showarrow\":false,\"text\":\"After Target, Recoil Energy\",\"x\":0.05,\"xref\":\"paper\",\"y\":0.833,\"yref\":\"paper\"}],\"legend\":{\"font\":{\"size\":14},\"orientation\":\"v\",\"yanchor\":\"top\",\"y\":0.99,\"xanchor\":\"right\",\"x\":0.98},\"width\":800,\"height\":800,\"paper_bgcolor\":\"rgba(0,0,0,0)\",\"plot_bgcolor\":\"rgba(0,0,0,0)\"},                        {\"responsive\": true}                    ).then(function(){\n                            \nvar gd = document.getElementById('35c3fc86-3143-43a1-a9c0-69c0e41ef287');\nvar x = new MutationObserver(function (mutations, observer) {{\n        var display = window.getComputedStyle(gd).display;\n        if (!display || display === 'none') {{\n            console.log([gd, 'removed!']);\n            Plotly.purge(gd);\n            observer.disconnect();\n        }}\n}});\n\n// Listen for the removal of the full notebook cells\nvar notebookContainer = gd.closest('#notebook-container');\nif (notebookContainer) {{\n    x.observe(notebookContainer, {childList: true});\n}}\n\n// Listen for the clearing of the current output cell\nvar outputEl = gd.closest('.output');\nif (outputEl) {{\n    x.observe(outputEl, {childList: true});\n}}\n\n                        })                };                });            </script>        </div>"
     },
     "metadata": {},
     "output_type": "display_data"
    },
    {
     "data": {
      "application/vnd.plotly.v1+json": {
       "data": [
        {
         "error_y": {
          "array": [
           0.003518870322951544,
           0.001071594833074865,
           8.408232214055108E-4,
           7.203734917509823E-4,
           6.29390656209477E-4,
           5.855182802468799E-4,
           5.424216051609102E-4,
           5.07913927199655E-4,
           4.877862271467453E-4,
           4.5522967941537994E-4,
           4.4143883218931485E-4,
           4.046486039247821E-4,
           3.939699760121196E-4,
           4.0200554099844687E-4,
           3.60038734056677E-4,
           3.5825782255554696E-4,
           3.442982633764856E-4,
           3.2189599331199325E-4,
           3.2255765072817453E-4,
           3.104321221296572E-4,
           3.0418815666170184E-4,
           2.8538366946301145E-4,
           2.823795471777592E-4,
           2.778124609633822E-4,
           2.6605196949480925E-4,
           2.570859148406619E-4,
           2.5458583034129625E-4,
           2.5206094979523207E-4,
           2.731690287509644E-4,
           2.554219108524786E-4,
           2.5121368370116753E-4,
           2.7627332191256226E-4,
           2.408140869698846E-4,
           2.3544209327423503E-4,
           2.3634590501702766E-4,
           2.3814323816612215E-4,
           2.2240340335492615E-4,
           2.2808270215349418E-4,
           2.2808270215349418E-4,
           2.1360151223054498E-4,
           2.2144269301760605E-4,
           2.1755743186347985E-4,
           2.0855111690507524E-4,
           2.0442098285278182E-4,
           2.002056645018824E-4,
           1.926069971934833E-4,
           1.892570547403655E-4,
           1.9806436588319407E-4,
           2.1058581013041423E-4,
           1.800193670283385E-4,
           1.948082914914532E-4,
           1.914968611620729E-4,
           1.926069971934833E-4,
           1.892570547403655E-4,
           1.727672634138137E-4,
           1.926069971934833E-4,
           2.0232430196239106E-4,
           1.7152877243930195E-4,
           1.6648270073096723E-4,
           1.7763489927194803E-4,
           1.739969391698094E-4,
           1.6648270073096723E-4,
           1.881271517778161E-4,
           1.6127882536408727E-4,
           1.7763489927194803E-4,
           1.6519710079088113E-4,
           1.5726295467123524E-4,
           1.8237266124946513E-4,
           1.5033163089352053E-4,
           1.5726295467123524E-4,
           1.6519710079088113E-4,
           1.811998345425511E-4,
           1.8469597352714726E-4,
           1.5726295467123524E-4,
           1.727672634138137E-4,
           1.6902456835799143E-4,
           1.5033163089352053E-4,
           1.586128760375123E-4,
           1.531418111197403E-4,
           1.4890665436487866E-4,
           1.44547463192021E-4,
           1.6390141725057867E-4,
           1.586128760375123E-4,
           1.4890665436487866E-4,
           1.5452773811195993E-4,
           1.6127882536408727E-4,
           1.531418111197403E-4,
           1.5033163089352053E-4,
           0.0,
           0.0,
           0.0,
           0.0,
           0.0,
           0.0,
           0.0,
           0.0,
           0.0,
           0.0,
           0.0
          ],
          "type": "data",
          "visible": true
         },
         "line": {
          "color": "rgba(0,0,0,0.8)"
         },
         "name": "Truth",
         "x": [
          0.0,
          90.9090909090909,
          181.8181818181818,
          272.72727272727275,
          363.6363636363636,
          454.5454545454545,
          545.4545454545455,
          636.3636363636364,
          727.2727272727273,
          818.1818181818181,
          909.090909090909,
          1000.0,
          1090.909090909091,
          1181.8181818181818,
          1272.7272727272727,
          1363.6363636363635,
          1454.5454545454545,
          1545.4545454545455,
          1636.3636363636363,
          1727.2727272727273,
          1818.181818181818,
          1909.090909090909,
          2000.0,
          2090.909090909091,
          2181.818181818182,
          2272.7272727272725,
          2363.6363636363635,
          2454.5454545454545,
          2545.4545454545455,
          2636.3636363636365,
          2727.272727272727,
          2818.181818181818,
          2909.090909090909,
          3000.0,
          3090.909090909091,
          3181.8181818181815,
          3272.7272727272725,
          3363.6363636363635,
          3454.5454545454545,
          3545.4545454545455,
          3636.363636363636,
          3727.272727272727,
          3818.181818181818,
          3909.090909090909,
          4000.0,
          4090.909090909091,
          4181.818181818182,
          4272.727272727273,
          4363.636363636364,
          4454.545454545454,
          4545.454545454545,
          4636.363636363636,
          4727.272727272727,
          4818.181818181818,
          4909.090909090909,
          5000.0,
          5090.909090909091,
          5181.818181818182,
          5272.727272727273,
          5363.636363636363,
          5454.545454545454,
          5545.454545454545,
          5636.363636363636,
          5727.272727272727,
          5818.181818181818,
          5909.090909090909,
          6000.0,
          6090.909090909091,
          6181.818181818182,
          6272.727272727273,
          6363.636363636363,
          6454.545454545454,
          6545.454545454545,
          6636.363636363636,
          6727.272727272727,
          6818.181818181818,
          6909.090909090909,
          7000.0,
          7090.909090909091,
          7181.818181818182,
          7272.727272727272,
          7363.636363636363,
          7454.545454545454,
          7545.454545454545,
          7636.363636363636,
          7727.272727272727,
          7818.181818181818,
          7909.090909090909,
          8000.0,
          8090.909090909091,
          8181.818181818182,
          8272.727272727272,
          8363.636363636364,
          8454.545454545454,
          8545.454545454546,
          8636.363636363636,
          8727.272727272728,
          8818.181818181818,
          8909.090909090908
         ],
         "y": [
          0.5996448262332996,
          0.05560947405373036,
          0.03423709913891011,
          0.025130608957812793,
          0.01918351332934107,
          0.016602308629483555,
          0.014248249943213498,
          0.012493030747310386,
          0.011522497780163959,
          0.01003572387304603,
          0.009436884382679084,
          0.007929460837962294,
          0.0075164680859850916,
          0.007826212649967993,
          0.006277489830053483,
          0.006215540917256903,
          0.005740599252483119,
          0.005017861936523015,
          0.005038511574121875,
          0.004666818097342392,
          0.004480971358952651,
          0.003944080781382287,
          0.0038614822309868463,
          0.0037375844053936856,
          0.0034278398414107833,
          0.0032006938278233217,
          0.0031387449150267416,
          0.003076796002230161,
          0.003613686579800525,
          0.003159394552625602,
          0.003056146364631301,
          0.0036962851301959652,
          0.002808350713444979,
          0.0026844528878518185,
          0.0027051025254506787,
          0.002746401800648399,
          0.0023953579614677764,
          0.0025192557870609374,
          0.0025192557870609374,
          0.002209511223078035,
          0.002374708323868916,
          0.002292109773473476,
          0.0021062630350837342,
          0.002023664484688294,
          0.0019410659342928532,
          0.0017965184711008324,
          0.0017345695583042518,
          0.001899766659095133,
          0.0021475623102814546,
          0.0015693724575133708,
          0.0018378177462985525,
          0.0017758688335019722,
          0.0017965184711008324,
          0.0017345695583042518,
          0.00144547463192021,
          0.0017965184711008324,
          0.0019823652094905736,
          0.0014248249943213497,
          0.0013422264439259092,
          0.0015280731823156504,
          0.0014661242695190701,
          0.0013422264439259092,
          0.0017139199207053916,
          0.0012596278935304687,
          0.0015280731823156504,
          0.001321576806327049,
          0.0011976789807338882,
          0.001610671732711091,
          0.0010944307927395875,
          0.0011976789807338882,
          0.001321576806327049,
          0.001590022095112231,
          0.0016519710079088113,
          0.0011976789807338882,
          0.00144547463192021,
          0.0013835257191236294,
          0.0010944307927395875,
          0.0012183286183327484,
          0.0011357300679373078,
          0.0010737811551407273,
          0.001011832242344147,
          0.0013009271687281889,
          0.0012183286183327484,
          0.0010737811551407273,
          0.001156379705536168,
          0.0012596278935304687,
          0.0011357300679373078,
          0.0010944307927395875,
          0.0,
          0.0,
          0.0,
          0.0,
          0.0,
          0.0,
          0.0,
          0.0,
          0.0,
          0.0,
          0.0
         ],
         "type": "scatter",
         "xaxis": "x",
         "yaxis": "y"
        },
        {
         "error_y": {
          "array": [
           0.0026829888721035394,
           0.002513582019305672,
           0.0023850192143168923,
           0.0021647377284341515,
           0.002005605267767271,
           0.00190872506661343,
           0.0017764181323998438,
           0.001682443079349973,
           0.001488079437131758,
           0.001427695159060029,
           0.001389231650438951,
           0.0013269021968891621,
           0.0011839610409758194,
           0.0011608571411838285,
           0.001060245122344069,
           0.0010311030353967797,
           0.0010011129905033278,
           0.001004489435132793,
           9.346458765306572E-4,
           8.786272425963883E-4,
           9.454513901477993E-4,
           8.512245254105169E-4,
           8.863009886659815E-4,
           8.187849219113067E-4,
           8.591430636035673E-4,
           8.939088620145009E-4,
           8.90113053521393E-4,
           8.020732673476763E-4,
           7.978406611942609E-4,
           8.351622420253636E-4,
           7.675591715840039E-4,
           7.078937843188468E-4,
           6.982621275706525E-4,
           7.631351625654793E-4,
           7.978406611942609E-4,
           7.406188281764318E-4,
           7.719578274890437E-4,
           6.735807086794313E-4,
           7.078937843188468E-4,
           7.631351625654793E-4,
           7.406188281764318E-4,
           5.76036866359447E-4,
           6.374231972033274E-4,
           6.583278472679394E-4,
           5.9908738391051E-4,
           6.933961301165536E-4,
           5.9908738391051E-4,
           6.212832813751439E-4,
           6.320890180932033E-4,
           6.785888126428013E-4,
           6.531644118823051E-4,
           6.427131069705936E-4,
           6.047127409767556E-4,
           5.005564952516639E-4,
           6.047127409767556E-4,
           5.934087023475953E-4,
           6.427131069705936E-4,
           5.701286397527574E-4,
           5.934087023475953E-4,
           5.641585418368206E-4,
           5.934087023475953E-4,
           5.701286397527574E-4,
           5.641585418368206E-4,
           5.818851063088772E-4,
           5.13907011059776E-4,
           5.13907011059776E-4,
           6.102862481151796E-4,
           5.520246817395794E-4,
           5.396180484119487E-4,
           5.458566146075378E-4,
           5.520246817395794E-4,
           5.641585418368206E-4,
           5.818851063088772E-4,
           6.158093131622681E-4,
           5.520246817395794E-4,
           6.158093131622681E-4,
           5.333065090855711E-4,
           4.581767908846298E-4,
           5.072756750303634E-4,
           4.6550808504710174E-4,
           4.507262652280827E-4,
           5.204538611205365E-4,
           5.072756750303634E-4,
           5.005564952516639E-4,
           3.9465368032527313E-4,
           3.771046490253324E-4,
           2.850643198763787E-4,
           2.729283073037689E-4,
           1.6458196181698485E-4,
           1.4253215993818936E-4,
           0.0,
           0.0,
           0.0,
           0.0,
           0.0,
           0.0,
           0.0,
           0.0,
           0.0
          ],
          "type": "data",
          "visible": true
         },
         "fillcolor": "rgba(0,100,80,0.4)",
         "line": {
          "color": "rgba(0,100,80,0.6)"
         },
         "name": "CKF",
         "x": [
          0.0,
          90.9090909090909,
          181.8181818181818,
          272.72727272727275,
          363.6363636363636,
          454.5454545454545,
          545.4545454545455,
          636.3636363636364,
          727.2727272727273,
          818.1818181818181,
          909.090909090909,
          1000.0,
          1090.909090909091,
          1181.8181818181818,
          1272.7272727272727,
          1363.6363636363635,
          1454.5454545454545,
          1545.4545454545455,
          1636.3636363636363,
          1727.2727272727273,
          1818.181818181818,
          1909.090909090909,
          2000.0,
          2090.909090909091,
          2181.818181818182,
          2272.7272727272725,
          2363.6363636363635,
          2454.5454545454545,
          2545.4545454545455,
          2636.3636363636365,
          2727.272727272727,
          2818.181818181818,
          2909.090909090909,
          3000.0,
          3090.909090909091,
          3181.8181818181815,
          3272.7272727272725,
          3363.6363636363635,
          3454.5454545454545,
          3545.4545454545455,
          3636.363636363636,
          3727.272727272727,
          3818.181818181818,
          3909.090909090909,
          4000.0,
          4090.909090909091,
          4181.818181818182,
          4272.727272727273,
          4363.636363636364,
          4454.545454545454,
          4545.454545454545,
          4636.363636363636,
          4727.272727272727,
          4818.181818181818,
          4909.090909090909,
          5000.0,
          5090.909090909091,
          5181.818181818182,
          5272.727272727273,
          5363.636363636363,
          5454.545454545454,
          5545.454545454545,
          5636.363636363636,
          5727.272727272727,
          5818.181818181818,
          5909.090909090909,
          6000.0,
          6090.909090909091,
          6181.818181818182,
          6272.727272727273,
          6363.636363636363,
          6454.545454545454,
          6545.454545454545,
          6636.363636363636,
          6727.272727272727,
          6818.181818181818,
          6909.090909090909,
          7000.0,
          7090.909090909091,
          7181.818181818182,
          7272.727272727272,
          7363.636363636363,
          7454.545454545454,
          7545.454545454545,
          7636.363636363636,
          7727.272727272727,
          7818.181818181818,
          7909.090909090909,
          8000.0,
          8090.909090909091,
          8181.818181818182,
          8272.727272727272,
          8363.636363636364,
          8454.545454545454,
          8545.454545454546,
          8636.363636363636,
          8727.272727272728,
          8818.181818181818,
          8909.090909090908
         ],
         "y": [
          0.08747531270572745,
          0.07677748518762344,
          0.06912442396313363,
          0.05694535878867676,
          0.0488808426596445,
          0.04427254772876892,
          0.03834759710335747,
          0.03439763001974983,
          0.026909150757077022,
          0.02476958525345622,
          0.02345292955892034,
          0.02139565503620803,
          0.017034233048057932,
          0.016375905200789992,
          0.013660302830809743,
          0.012919684002633311,
          0.012179065174456879,
          0.012261356155365371,
          0.010615536537195523,
          0.009381171823568136,
          0.010862409479921,
          0.00880513495720869,
          0.009545753785385122,
          0.00814680710994075,
          0.008969716919025674,
          0.009710335747202106,
          0.009628044766293614,
          0.00781764318630678,
          0.007735352205398288,
          0.00847597103357472,
          0.007159315339038841,
          0.006089532587228439,
          0.005924950625411454,
          0.007077024358130349,
          0.007735352205398288,
          0.0066655694535878865,
          0.007241606319947334,
          0.005513495720868992,
          0.006089532587228439,
          0.007077024358130349,
          0.0066655694535878865,
          0.004032258064516129,
          0.004937458854509545,
          0.005266622778143515,
          0.004361421988150099,
          0.005842659644502962,
          0.004361421988150099,
          0.004690585911784068,
          0.004855167873601053,
          0.005595786701777485,
          0.005184331797235023,
          0.005019749835418038,
          0.004443712969058591,
          0.0030447662936142197,
          0.004443712969058591,
          0.004279131007241606,
          0.005019749835418038,
          0.003949967083607637,
          0.004279131007241606,
          0.003867676102699144,
          0.004279131007241606,
          0.003949967083607637,
          0.003867676102699144,
          0.004114549045424621,
          0.0032093482554312047,
          0.0032093482554312047,
          0.004526003949967083,
          0.0037030941408821593,
          0.0035385121790651743,
          0.003620803159973667,
          0.0037030941408821593,
          0.003867676102699144,
          0.004114549045424621,
          0.004608294930875576,
          0.0037030941408821593,
          0.004608294930875576,
          0.003456221198156682,
          0.002551020408163265,
          0.003127057274522712,
          0.0026333113890717576,
          0.0024687294272547726,
          0.003291639236339697,
          0.003127057274522712,
          0.0030447662936142197,
          0.0018926925608953257,
          0.001728110599078341,
          9.874917709019092E-4,
          9.052007899934167E-4,
          3.291639236339697E-4,
          2.468729427254773E-4,
          0.0,
          0.0,
          0.0,
          0.0,
          0.0,
          0.0,
          0.0,
          0.0,
          0.0
         ],
         "type": "scatter",
         "xaxis": "x",
         "yaxis": "y"
        },
        {
         "error_y": {
          "array": [
           0.0026829888721035394,
           0.002513582019305672,
           0.0023850192143168923,
           0.0021647377284341515,
           0.002005605267767271,
           0.00190872506661343,
           0.0017764181323998438,
           0.001682443079349973,
           0.001488079437131758,
           0.001427695159060029,
           0.001389231650438951,
           0.0013269021968891621,
           0.0011839610409758194,
           0.0011608571411838285,
           0.001060245122344069,
           0.0010311030353967797,
           0.0010011129905033278,
           0.001004489435132793,
           9.346458765306572E-4,
           8.786272425963883E-4,
           9.454513901477993E-4,
           8.512245254105169E-4,
           8.863009886659815E-4,
           8.187849219113067E-4,
           8.591430636035673E-4,
           8.939088620145009E-4,
           8.90113053521393E-4,
           8.020732673476763E-4,
           7.978406611942609E-4,
           8.351622420253636E-4,
           7.675591715840039E-4,
           7.078937843188468E-4,
           6.982621275706525E-4,
           7.631351625654793E-4,
           7.978406611942609E-4,
           7.406188281764318E-4,
           7.719578274890437E-4,
           6.735807086794313E-4,
           7.078937843188468E-4,
           7.631351625654793E-4,
           7.406188281764318E-4,
           5.76036866359447E-4,
           6.374231972033274E-4,
           6.583278472679394E-4,
           5.9908738391051E-4,
           6.933961301165536E-4,
           5.9908738391051E-4,
           6.212832813751439E-4,
           6.320890180932033E-4,
           6.785888126428013E-4,
           6.531644118823051E-4,
           6.427131069705936E-4,
           6.047127409767556E-4,
           5.005564952516639E-4,
           6.047127409767556E-4,
           5.934087023475953E-4,
           6.427131069705936E-4,
           5.701286397527574E-4,
           5.934087023475953E-4,
           5.641585418368206E-4,
           5.934087023475953E-4,
           5.701286397527574E-4,
           5.641585418368206E-4,
           5.818851063088772E-4,
           5.13907011059776E-4,
           5.13907011059776E-4,
           6.102862481151796E-4,
           5.520246817395794E-4,
           5.396180484119487E-4,
           5.458566146075378E-4,
           5.520246817395794E-4,
           5.641585418368206E-4,
           5.818851063088772E-4,
           6.158093131622681E-4,
           5.520246817395794E-4,
           6.158093131622681E-4,
           5.333065090855711E-4,
           4.581767908846298E-4,
           5.072756750303634E-4,
           4.6550808504710174E-4,
           4.507262652280827E-4,
           5.204538611205365E-4,
           5.072756750303634E-4,
           5.005564952516639E-4,
           3.9465368032527313E-4,
           3.771046490253324E-4,
           2.850643198763787E-4,
           2.729283073037689E-4,
           1.6458196181698485E-4,
           1.4253215993818936E-4,
           0.0,
           0.0,
           0.0,
           0.0,
           0.0,
           0.0,
           0.0,
           0.0,
           0.0
          ],
          "type": "data",
          "visible": true
         },
         "fillcolor": "rgba(204,40,46,0.4)",
         "line": {
          "color": "rgba(204,40,46,0.6)"
         },
         "name": "GNN",
         "x": [
          0.0,
          90.9090909090909,
          181.8181818181818,
          272.72727272727275,
          363.6363636363636,
          454.5454545454545,
          545.4545454545455,
          636.3636363636364,
          727.2727272727273,
          818.1818181818181,
          909.090909090909,
          1000.0,
          1090.909090909091,
          1181.8181818181818,
          1272.7272727272727,
          1363.6363636363635,
          1454.5454545454545,
          1545.4545454545455,
          1636.3636363636363,
          1727.2727272727273,
          1818.181818181818,
          1909.090909090909,
          2000.0,
          2090.909090909091,
          2181.818181818182,
          2272.7272727272725,
          2363.6363636363635,
          2454.5454545454545,
          2545.4545454545455,
          2636.3636363636365,
          2727.272727272727,
          2818.181818181818,
          2909.090909090909,
          3000.0,
          3090.909090909091,
          3181.8181818181815,
          3272.7272727272725,
          3363.6363636363635,
          3454.5454545454545,
          3545.4545454545455,
          3636.363636363636,
          3727.272727272727,
          3818.181818181818,
          3909.090909090909,
          4000.0,
          4090.909090909091,
          4181.818181818182,
          4272.727272727273,
          4363.636363636364,
          4454.545454545454,
          4545.454545454545,
          4636.363636363636,
          4727.272727272727,
          4818.181818181818,
          4909.090909090909,
          5000.0,
          5090.909090909091,
          5181.818181818182,
          5272.727272727273,
          5363.636363636363,
          5454.545454545454,
          5545.454545454545,
          5636.363636363636,
          5727.272727272727,
          5818.181818181818,
          5909.090909090909,
          6000.0,
          6090.909090909091,
          6181.818181818182,
          6272.727272727273,
          6363.636363636363,
          6454.545454545454,
          6545.454545454545,
          6636.363636363636,
          6727.272727272727,
          6818.181818181818,
          6909.090909090909,
          7000.0,
          7090.909090909091,
          7181.818181818182,
          7272.727272727272,
          7363.636363636363,
          7454.545454545454,
          7545.454545454545,
          7636.363636363636,
          7727.272727272727,
          7818.181818181818,
          7909.090909090909,
          8000.0,
          8090.909090909091,
          8181.818181818182,
          8272.727272727272,
          8363.636363636364,
          8454.545454545454,
          8545.454545454546,
          8636.363636363636,
          8727.272727272728,
          8818.181818181818,
          8909.090909090908
         ],
         "y": [
          0.15739894272427363,
          0.12754878969752376,
          0.0986525696569816,
          0.07265789578282127,
          0.05397670813625343,
          0.042211534639691566,
          0.03295043523192496,
          0.027624309392265196,
          0.021344250566397712,
          0.017608013037084147,
          0.016574585635359115,
          0.015461663818116778,
          0.013275567391390755,
          0.011129218172423388,
          0.010334274017250289,
          0.009738065900870464,
          0.008744385706904091,
          0.008307166421558886,
          0.007710958305179061,
          0.007591716681903097,
          0.007472475058627132,
          0.006439047656902103,
          0.005564609086211694,
          0.005723597917246314,
          0.004769664931038595,
          0.00425295123017608,
          0.00449143447672801,
          0.004928653762073214,
          0.004769664931038595,
          0.00457092889224532,
          0.00425295123017608,
          0.003736237529313566,
          0.0038952263603481856,
          0.00425295123017608,
          0.003736237529313566,
          0.003974720775865495,
          0.003378512659485671,
          0.0033387654517270165,
          0.0035375014905202912,
          0.004451687268969355,
          0.003616995906037601,
          0.004531181684486665,
          0.004054215191382805,
          0.004014467983624151,
          0.004372192853452046,
          0.003934973568106841,
          0.004014467983624151,
          0.004054215191382805,
          0.0032195238284510514,
          0.002861798958623157,
          0.0032592710362097065,
          0.0032990182439683615,
          0.0032195238284510514,
          0.004093962399141461,
          0.0031002822051750868,
          0.003458007075002981,
          0.0032990182439683615,
          0.003458007075002981,
          0.0029015461663818116,
          0.002702810127588537,
          0.002702810127588537,
          0.002742557335347192,
          0.0029015461663818116,
          0.0029015461663818116,
          0.0029810405818991217,
          0.003974720775865495,
          0.003656743113796256,
          0.0038554791525895306,
          0.004093962399141461,
          0.003934973568106841,
          0.0046504233077626295,
          0.003815731944830876,
          0.0032195238284510514,
          0.0031797766206923964,
          0.0024245796732779525,
          0.0019476131801740928,
          0.001709129933622163,
          0.001709129933622163,
          0.0016296355181048532,
          0.0014308994793115785,
          0.0013116578560356136,
          0.0011526690250009937,
          0.0010731746094836839,
          0.0011526690250009937,
          9.936801939663738E-4,
          7.949441551730991E-4,
          9.936801939663738E-4,
          7.551969474144442E-4,
          5.962081163798244E-4,
          0.0011526690250009937,
          0.0010731746094836839,
          8.346913629317541E-4,
          7.551969474144442E-4,
          7.551969474144442E-4,
          7.154497396557893E-4,
          5.564609086211693E-4,
          7.949441551730991E-4,
          6.757025318971342E-4,
          5.564609086211693E-4
         ],
         "type": "scatter",
         "xaxis": "x",
         "yaxis": "y"
        },
        {
         "error_y": {
          "array": [
           3.6861836567938276E-7,
           3.759955986060469E-6,
           1.5963761053344893E-5,
           2.0966247982532497E-5,
           2.4074340086329636E-5,
           2.844542209412161E-5,
           2.4901687459424088E-5,
           2.0796150196382707E-5,
           2.0655323295029824E-5
          ],
          "color": "rgba(0,100,80,0.4)",
          "thickness": 1.5,
          "type": "data",
          "width": 3
         },
         "marker": {
          "color": "rgba(0,100,80,0.4)",
          "size": 10,
          "symbol": "circle"
         },
         "mode": "markers",
         "name": "CKF/Truth",
         "x": [
          0.0,
          90.9090909090909,
          2818.181818181818,
          3727.272727272727,
          4818.181818181818,
          7636.363636363636,
          7727.272727272727,
          7818.181818181818,
          7909.090909090909
         ],
         "y": [
          0.1458785415613576,
          1.3806547624140513,
          1.6474737128587242,
          1.759190642255158,
          1.7553440154863786,
          1.6367396901156772,
          1.3719215078945377,
          0.8694775270812136,
          0.8270973331511544
         ],
         "type": "scatter",
         "xaxis": "x2",
         "yaxis": "y2"
        },
        {
         "error_y": {
          "array": [
           1.688167824197031E-7,
           3.566116657037653E-6,
           3.6985353258470244E-6,
           3.816459744595009E-6,
           4.434352307630877E-6,
           4.290628112124953E-6,
           3.6993300722959335E-6,
           4.502095845347916E-6,
           4.39381914080419E-6,
           4.496805571590343E-6,
           5.052401656842524E-6,
           4.8131339163840536E-6,
           5.1847398676645985E-6,
           5.3696820355973376E-6,
           5.651811245040951E-6,
           5.307472924216213E-6,
           5.590409404821702E-6,
           5.519347256343276E-6,
           5.5611199662685296E-6,
           5.862802613654351E-6,
           6.327409415434139E-6,
           5.213469765310767E-6,
           5.881223291150115E-6,
           5.845738039485111E-6,
           4.4278708795642505E-6,
           6.08648179115947E-6,
           6.729954508548847E-6,
           6.186372387224352E-6,
           6.30914501933265E-6,
           6.6548766059017896E-6,
           6.258828323521709E-6,
           6.472388821441265E-6,
           6.9912913418278994E-6,
           8.316866802467193E-6,
           8.536629234886427E-6,
           8.870117434282825E-6,
           7.283518310586195E-6,
           9.571861318408005E-6,
           8.698468114114263E-6,
           9.099366001105037E-6,
           8.853261210834346E-6,
           9.24329638840514E-6,
           8.063299798514953E-6,
           9.524332188344043E-6,
           9.968359707360742E-6,
           8.76066100163699E-6,
           1.0104345897355079E-5,
           9.712145233388154E-6,
           9.487175072659668E-6,
           8.746665236917571E-6,
           1.045099022774655E-5,
           9.302027631809055E-6,
           9.76198461761761E-6,
           9.617186333489726E-6,
           9.750541726104698E-6,
           6.9340856691938865E-6,
           7.142007882302718E-6,
           8.498540458871616E-6,
           7.23081853541457E-6,
           5.851927202747035E-6,
           7.369481827740986E-6,
           6.589572806111993E-6
          ],
          "color": "rgba(204,40,46,0.4)",
          "thickness": 1.5,
          "type": "data",
          "width": 3
         },
         "marker": {
          "color": "rgba(204,40,46,0.4)",
          "size": 10,
          "symbol": "diamond"
         },
         "mode": "markers",
         "name": "GNN/Truth",
         "x": [
          0.0,
          727.2727272727273,
          818.1818181818181,
          909.090909090909,
          1000.0,
          1090.909090909091,
          1181.8181818181818,
          1272.7272727272727,
          1363.6363636363635,
          1454.5454545454545,
          1545.4545454545455,
          1636.3636363636363,
          1727.2727272727273,
          1818.181818181818,
          1909.090909090909,
          2000.0,
          2090.909090909091,
          2181.818181818182,
          2272.7272727272725,
          2363.6363636363635,
          2454.5454545454545,
          2545.4545454545455,
          2636.3636363636365,
          2727.272727272727,
          2818.181818181818,
          2909.090909090909,
          3000.0,
          3090.909090909091,
          3181.8181818181815,
          3272.7272727272725,
          3363.6363636363635,
          3454.5454545454545,
          3636.363636363636,
          3727.272727272727,
          3818.181818181818,
          3909.090909090909,
          4363.636363636364,
          4454.545454545454,
          4545.454545454545,
          4636.363636363636,
          4727.272727272727,
          5000.0,
          5090.909090909091,
          5363.636363636363,
          5454.545454545454,
          5636.363636363636,
          5818.181818181818,
          6545.454545454545,
          6727.272727272727,
          6818.181818181818,
          6909.090909090909,
          7000.0,
          7090.909090909091,
          7181.818181818182,
          7272.727272727272,
          7363.636363636363,
          7454.545454545454,
          7545.454545454545,
          7636.363636363636,
          7727.272727272727,
          7818.181818181818,
          7909.090909090909
         ],
         "y": [
          0.2624869520062123,
          1.8523978892095734,
          1.7545334307548845,
          1.7563620537495315,
          1.9499010253123465,
          1.7661975331397806,
          1.4220439272716288,
          1.6462430520834859,
          1.5667286291742657,
          1.5232531173677855,
          1.6555191287935478,
          1.5304040075610919,
          1.6267436449315098,
          1.6676016113554657,
          1.6325851355015606,
          1.4410552097217844,
          1.531362852698824,
          1.3914491784060603,
          1.3287591562821743,
          1.4309651145033377,
          1.6018786291001312,
          1.3198889349451772,
          1.4467736827762359,
          1.3916058731333585,
          1.0108087979445142,
          1.3870156393572175,
          1.5842897632595156,
          1.381181487267695,
          1.447246639194273,
          1.410441660007867,
          1.3252983158261,
          1.4041851203395586,
          1.5231327021015904,
          1.9768606795913126,
          1.9248380301283834,
          1.9837616432955787,
          1.4991526965422988,
          1.8235307653847843,
          1.7734462749497466,
          1.8576925174494865,
          1.7920905797747018,
          1.9248380301283834,
          1.664182880215165,
          1.7687700817395957,
          1.8435068457567616,
          1.692929833727373,
          1.9508493548598485,
          1.948898505504988,
          1.6773588548261626,
          1.4077173653177728,
          1.5616610433117073,
          1.4028480558562793,
          1.4348792588229766,
          1.3325801747042654,
          1.296319489678299,
          0.8860365535511606,
          0.8808580815841756,
          1.073467362956214,
          0.8593026920215997,
          0.6310944361076667,
          0.8749263773310834,
          0.6900362749516846
         ],
         "type": "scatter",
         "xaxis": "x2",
         "yaxis": "y2"
        },
        {
         "marker": {
          "color": "rgba(0,100,80,0.4)",
          "line": {
           "width": 2
          },
          "size": 12,
          "symbol": "arrow-up-open"
         },
         "mode": "markers",
         "name": "CKF/Truth >=2.0",
         "showlegend": false,
         "x": [
          181.8181818181818,
          272.72727272727275,
          363.6363636363636,
          454.5454545454545,
          545.4545454545455,
          636.3636363636364,
          727.2727272727273,
          818.1818181818181,
          909.090909090909,
          1000.0,
          1090.909090909091,
          1181.8181818181818,
          1272.7272727272727,
          1363.6363636363635,
          1454.5454545454545,
          1545.4545454545455,
          1636.3636363636363,
          1727.2727272727273,
          1818.181818181818,
          1909.090909090909,
          2000.0,
          2090.909090909091,
          2181.818181818182,
          2272.7272727272725,
          2363.6363636363635,
          2454.5454545454545,
          2545.4545454545455,
          2636.3636363636365,
          2727.272727272727,
          2909.090909090909,
          3000.0,
          3090.909090909091,
          3181.8181818181815,
          3272.7272727272725,
          3363.6363636363635,
          3454.5454545454545,
          3545.4545454545455,
          3636.363636363636,
          3818.181818181818,
          3909.090909090909,
          4000.0,
          4090.909090909091,
          4181.818181818182,
          4272.727272727273,
          4363.636363636364,
          4454.545454545454,
          4545.454545454545,
          4636.363636363636,
          4727.272727272727,
          4909.090909090909,
          5000.0,
          5090.909090909091,
          5181.818181818182,
          5272.727272727273,
          5363.636363636363,
          5454.545454545454,
          5545.454545454545,
          5636.363636363636,
          5727.272727272727,
          5818.181818181818,
          5909.090909090909,
          6000.0,
          6090.909090909091,
          6181.818181818182,
          6272.727272727273,
          6363.636363636363,
          6454.545454545454,
          6545.454545454545,
          6636.363636363636,
          6727.272727272727,
          6818.181818181818,
          6909.090909090909,
          7000.0,
          7090.909090909091,
          7181.818181818182,
          7272.727272727272,
          7363.636363636363,
          7454.545454545454,
          7545.454545454545,
          8000.0,
          8090.909090909091
         ],
         "y": [
          2.0,
          2.0,
          2.0,
          2.0,
          2.0,
          2.0,
          2.0,
          2.0,
          2.0,
          2.0,
          2.0,
          2.0,
          2.0,
          2.0,
          2.0,
          2.0,
          2.0,
          2.0,
          2.0,
          2.0,
          2.0,
          2.0,
          2.0,
          2.0,
          2.0,
          2.0,
          2.0,
          2.0,
          2.0,
          2.0,
          2.0,
          2.0,
          2.0,
          2.0,
          2.0,
          2.0,
          2.0,
          2.0,
          2.0,
          2.0,
          2.0,
          2.0,
          2.0,
          2.0,
          2.0,
          2.0,
          2.0,
          2.0,
          2.0,
          2.0,
          2.0,
          2.0,
          2.0,
          2.0,
          2.0,
          2.0,
          2.0,
          2.0,
          2.0,
          2.0,
          2.0,
          2.0,
          2.0,
          2.0,
          2.0,
          2.0,
          2.0,
          2.0,
          2.0,
          2.0,
          2.0,
          2.0,
          2.0,
          2.0,
          2.0,
          2.0,
          2.0,
          2.0,
          2.0,
          2.0,
          2.0
         ],
         "type": "scatter",
         "xaxis": "x2",
         "yaxis": "y2"
        },
        {
         "marker": {
          "color": "rgba(204,40,46,0.4)",
          "line": {
           "width": 2
          },
          "size": 12,
          "symbol": "arrow-up-open"
         },
         "mode": "markers",
         "name": "GNN/Truth >=2.0",
         "showlegend": false,
         "x": [
          90.9090909090909,
          181.8181818181818,
          272.72727272727275,
          363.6363636363636,
          454.5454545454545,
          545.4545454545455,
          636.3636363636364,
          3545.4545454545455,
          4000.0,
          4090.909090909091,
          4181.818181818182,
          4272.727272727273,
          4818.181818181818,
          4909.090909090909,
          5181.818181818182,
          5272.727272727273,
          5545.454545454545,
          5727.272727272727,
          5909.090909090909,
          6000.0,
          6090.909090909091,
          6181.818181818182,
          6272.727272727273,
          6363.636363636363,
          6454.545454545454,
          6636.363636363636,
          8000.0,
          8090.909090909091,
          8181.818181818182,
          8272.727272727272,
          8363.636363636364,
          8454.545454545454,
          8545.454545454546,
          8636.363636363636,
          8727.272727272728,
          8818.181818181818,
          8909.090909090908
         ],
         "y": [
          2.0,
          2.0,
          2.0,
          2.0,
          2.0,
          2.0,
          2.0,
          2.0,
          2.0,
          2.0,
          2.0,
          2.0,
          2.0,
          2.0,
          2.0,
          2.0,
          2.0,
          2.0,
          2.0,
          2.0,
          2.0,
          2.0,
          2.0,
          2.0,
          2.0,
          2.0,
          2.0,
          2.0,
          2.0,
          2.0,
          2.0,
          2.0,
          2.0,
          2.0,
          2.0,
          2.0,
          2.0
         ],
         "type": "scatter",
         "xaxis": "x2",
         "yaxis": "y2"
        }
       ],
       "layout": {
        "template": {
         "data": {
          "histogram2dcontour": [
           {
            "type": "histogram2dcontour",
            "colorbar": {
             "outlinewidth": 0,
             "ticks": ""
            },
            "colorscale": [
             [
              0.0,
              "#0d0887"
             ],
             [
              0.1111111111111111,
              "#46039f"
             ],
             [
              0.2222222222222222,
              "#7201a8"
             ],
             [
              0.3333333333333333,
              "#9c179e"
             ],
             [
              0.4444444444444444,
              "#bd3786"
             ],
             [
              0.5555555555555556,
              "#d8576b"
             ],
             [
              0.6666666666666666,
              "#ed7953"
             ],
             [
              0.7777777777777778,
              "#fb9f3a"
             ],
             [
              0.8888888888888888,
              "#fdca26"
             ],
             [
              1.0,
              "#f0f921"
             ]
            ]
           }
          ],
          "choropleth": [
           {
            "type": "choropleth",
            "colorbar": {
             "outlinewidth": 0,
             "ticks": ""
            }
           }
          ],
          "histogram2d": [
           {
            "type": "histogram2d",
            "colorbar": {
             "outlinewidth": 0,
             "ticks": ""
            },
            "colorscale": [
             [
              0.0,
              "#0d0887"
             ],
             [
              0.1111111111111111,
              "#46039f"
             ],
             [
              0.2222222222222222,
              "#7201a8"
             ],
             [
              0.3333333333333333,
              "#9c179e"
             ],
             [
              0.4444444444444444,
              "#bd3786"
             ],
             [
              0.5555555555555556,
              "#d8576b"
             ],
             [
              0.6666666666666666,
              "#ed7953"
             ],
             [
              0.7777777777777778,
              "#fb9f3a"
             ],
             [
              0.8888888888888888,
              "#fdca26"
             ],
             [
              1.0,
              "#f0f921"
             ]
            ]
           }
          ],
          "heatmap": [
           {
            "type": "heatmap",
            "colorbar": {
             "outlinewidth": 0,
             "ticks": ""
            },
            "colorscale": [
             [
              0.0,
              "#0d0887"
             ],
             [
              0.1111111111111111,
              "#46039f"
             ],
             [
              0.2222222222222222,
              "#7201a8"
             ],
             [
              0.3333333333333333,
              "#9c179e"
             ],
             [
              0.4444444444444444,
              "#bd3786"
             ],
             [
              0.5555555555555556,
              "#d8576b"
             ],
             [
              0.6666666666666666,
              "#ed7953"
             ],
             [
              0.7777777777777778,
              "#fb9f3a"
             ],
             [
              0.8888888888888888,
              "#fdca26"
             ],
             [
              1.0,
              "#f0f921"
             ]
            ]
           }
          ],
          "heatmapgl": [
           {
            "type": "heatmapgl",
            "colorbar": {
             "outlinewidth": 0,
             "ticks": ""
            },
            "colorscale": [
             [
              0.0,
              "#0d0887"
             ],
             [
              0.1111111111111111,
              "#46039f"
             ],
             [
              0.2222222222222222,
              "#7201a8"
             ],
             [
              0.3333333333333333,
              "#9c179e"
             ],
             [
              0.4444444444444444,
              "#bd3786"
             ],
             [
              0.5555555555555556,
              "#d8576b"
             ],
             [
              0.6666666666666666,
              "#ed7953"
             ],
             [
              0.7777777777777778,
              "#fb9f3a"
             ],
             [
              0.8888888888888888,
              "#fdca26"
             ],
             [
              1.0,
              "#f0f921"
             ]
            ]
           }
          ],
          "contourcarpet": [
           {
            "type": "contourcarpet",
            "colorbar": {
             "outlinewidth": 0,
             "ticks": ""
            }
           }
          ],
          "contour": [
           {
            "type": "contour",
            "colorbar": {
             "outlinewidth": 0,
             "ticks": ""
            },
            "colorscale": [
             [
              0.0,
              "#0d0887"
             ],
             [
              0.1111111111111111,
              "#46039f"
             ],
             [
              0.2222222222222222,
              "#7201a8"
             ],
             [
              0.3333333333333333,
              "#9c179e"
             ],
             [
              0.4444444444444444,
              "#bd3786"
             ],
             [
              0.5555555555555556,
              "#d8576b"
             ],
             [
              0.6666666666666666,
              "#ed7953"
             ],
             [
              0.7777777777777778,
              "#fb9f3a"
             ],
             [
              0.8888888888888888,
              "#fdca26"
             ],
             [
              1.0,
              "#f0f921"
             ]
            ]
           }
          ],
          "surface": [
           {
            "type": "surface",
            "colorbar": {
             "outlinewidth": 0,
             "ticks": ""
            },
            "colorscale": [
             [
              0.0,
              "#0d0887"
             ],
             [
              0.1111111111111111,
              "#46039f"
             ],
             [
              0.2222222222222222,
              "#7201a8"
             ],
             [
              0.3333333333333333,
              "#9c179e"
             ],
             [
              0.4444444444444444,
              "#bd3786"
             ],
             [
              0.5555555555555556,
              "#d8576b"
             ],
             [
              0.6666666666666666,
              "#ed7953"
             ],
             [
              0.7777777777777778,
              "#fb9f3a"
             ],
             [
              0.8888888888888888,
              "#fdca26"
             ],
             [
              1.0,
              "#f0f921"
             ]
            ]
           }
          ],
          "mesh3d": [
           {
            "type": "mesh3d",
            "colorbar": {
             "outlinewidth": 0,
             "ticks": ""
            }
           }
          ],
          "scatter": [
           {
            "fillpattern": {
             "fillmode": "overlay",
             "size": 10,
             "solidity": 0.2
            },
            "type": "scatter"
           }
          ],
          "parcoords": [
           {
            "type": "parcoords",
            "line": {
             "colorbar": {
              "outlinewidth": 0,
              "ticks": ""
             }
            }
           }
          ],
          "scatterpolargl": [
           {
            "type": "scatterpolargl",
            "marker": {
             "colorbar": {
              "outlinewidth": 0,
              "ticks": ""
             }
            }
           }
          ],
          "bar": [
           {
            "error_x": {
             "color": "#2a3f5f"
            },
            "error_y": {
             "color": "#2a3f5f"
            },
            "marker": {
             "line": {
              "color": "#E5ECF6",
              "width": 0.5
             },
             "pattern": {
              "fillmode": "overlay",
              "size": 10,
              "solidity": 0.2
             }
            },
            "type": "bar"
           }
          ],
          "scattergeo": [
           {
            "type": "scattergeo",
            "marker": {
             "colorbar": {
              "outlinewidth": 0,
              "ticks": ""
             }
            }
           }
          ],
          "scatterpolar": [
           {
            "type": "scatterpolar",
            "marker": {
             "colorbar": {
              "outlinewidth": 0,
              "ticks": ""
             }
            }
           }
          ],
          "histogram": [
           {
            "marker": {
             "pattern": {
              "fillmode": "overlay",
              "size": 10,
              "solidity": 0.2
             }
            },
            "type": "histogram"
           }
          ],
          "scattergl": [
           {
            "type": "scattergl",
            "marker": {
             "colorbar": {
              "outlinewidth": 0,
              "ticks": ""
             }
            }
           }
          ],
          "scatter3d": [
           {
            "type": "scatter3d",
            "line": {
             "colorbar": {
              "outlinewidth": 0,
              "ticks": ""
             }
            },
            "marker": {
             "colorbar": {
              "outlinewidth": 0,
              "ticks": ""
             }
            }
           }
          ],
          "scattermapbox": [
           {
            "type": "scattermapbox",
            "marker": {
             "colorbar": {
              "outlinewidth": 0,
              "ticks": ""
             }
            }
           }
          ],
          "scatterternary": [
           {
            "type": "scatterternary",
            "marker": {
             "colorbar": {
              "outlinewidth": 0,
              "ticks": ""
             }
            }
           }
          ],
          "scattercarpet": [
           {
            "type": "scattercarpet",
            "marker": {
             "colorbar": {
              "outlinewidth": 0,
              "ticks": ""
             }
            }
           }
          ],
          "carpet": [
           {
            "aaxis": {
             "endlinecolor": "#2a3f5f",
             "gridcolor": "white",
             "linecolor": "white",
             "minorgridcolor": "white",
             "startlinecolor": "#2a3f5f"
            },
            "baxis": {
             "endlinecolor": "#2a3f5f",
             "gridcolor": "white",
             "linecolor": "white",
             "minorgridcolor": "white",
             "startlinecolor": "#2a3f5f"
            },
            "type": "carpet"
           }
          ],
          "table": [
           {
            "cells": {
             "fill": {
              "color": "#EBF0F8"
             },
             "line": {
              "color": "white"
             }
            },
            "header": {
             "fill": {
              "color": "#C8D4E3"
             },
             "line": {
              "color": "white"
             }
            },
            "type": "table"
           }
          ],
          "barpolar": [
           {
            "marker": {
             "line": {
              "color": "#E5ECF6",
              "width": 0.5
             },
             "pattern": {
              "fillmode": "overlay",
              "size": 10,
              "solidity": 0.2
             }
            },
            "type": "barpolar"
           }
          ],
          "pie": [
           {
            "automargin": true,
            "type": "pie"
           }
          ]
         },
         "layout": {
          "autotypenumbers": "strict",
          "colorway": [
           "#636efa",
           "#EF553B",
           "#00cc96",
           "#ab63fa",
           "#FFA15A",
           "#19d3f3",
           "#FF6692",
           "#B6E880",
           "#FF97FF",
           "#FECB52"
          ],
          "font": {
           "color": "#2a3f5f"
          },
          "hovermode": "closest",
          "hoverlabel": {
           "align": "left"
          },
          "paper_bgcolor": "white",
          "plot_bgcolor": "#E5ECF6",
          "polar": {
           "bgcolor": "#E5ECF6",
           "angularaxis": {
            "gridcolor": "white",
            "linecolor": "white",
            "ticks": ""
           },
           "radialaxis": {
            "gridcolor": "white",
            "linecolor": "white",
            "ticks": ""
           }
          },
          "ternary": {
           "bgcolor": "#E5ECF6",
           "aaxis": {
            "gridcolor": "white",
            "linecolor": "white",
            "ticks": ""
           },
           "baxis": {
            "gridcolor": "white",
            "linecolor": "white",
            "ticks": ""
           },
           "caxis": {
            "gridcolor": "white",
            "linecolor": "white",
            "ticks": ""
           }
          },
          "coloraxis": {
           "colorbar": {
            "outlinewidth": 0,
            "ticks": ""
           }
          },
          "colorscale": {
           "sequential": [
            [
             0.0,
             "#0d0887"
            ],
            [
             0.1111111111111111,
             "#46039f"
            ],
            [
             0.2222222222222222,
             "#7201a8"
            ],
            [
             0.3333333333333333,
             "#9c179e"
            ],
            [
             0.4444444444444444,
             "#bd3786"
            ],
            [
             0.5555555555555556,
             "#d8576b"
            ],
            [
             0.6666666666666666,
             "#ed7953"
            ],
            [
             0.7777777777777778,
             "#fb9f3a"
            ],
            [
             0.8888888888888888,
             "#fdca26"
            ],
            [
             1.0,
             "#f0f921"
            ]
           ],
           "sequentialminus": [
            [
             0.0,
             "#0d0887"
            ],
            [
             0.1111111111111111,
             "#46039f"
            ],
            [
             0.2222222222222222,
             "#7201a8"
            ],
            [
             0.3333333333333333,
             "#9c179e"
            ],
            [
             0.4444444444444444,
             "#bd3786"
            ],
            [
             0.5555555555555556,
             "#d8576b"
            ],
            [
             0.6666666666666666,
             "#ed7953"
            ],
            [
             0.7777777777777778,
             "#fb9f3a"
            ],
            [
             0.8888888888888888,
             "#fdca26"
            ],
            [
             1.0,
             "#f0f921"
            ]
           ],
           "diverging": [
            [
             0,
             "#8e0152"
            ],
            [
             0.1,
             "#c51b7d"
            ],
            [
             0.2,
             "#de77ae"
            ],
            [
             0.3,
             "#f1b6da"
            ],
            [
             0.4,
             "#fde0ef"
            ],
            [
             0.5,
             "#f7f7f7"
            ],
            [
             0.6,
             "#e6f5d0"
            ],
            [
             0.7,
             "#b8e186"
            ],
            [
             0.8,
             "#7fbc41"
            ],
            [
             0.9,
             "#4d9221"
            ],
            [
             1,
             "#276419"
            ]
           ]
          },
          "xaxis": {
           "gridcolor": "white",
           "linecolor": "white",
           "ticks": "",
           "title": {
            "standoff": 15
           },
           "zerolinecolor": "white",
           "automargin": true,
           "zerolinewidth": 2
          },
          "yaxis": {
           "gridcolor": "white",
           "linecolor": "white",
           "ticks": "",
           "title": {
            "standoff": 15
           },
           "zerolinecolor": "white",
           "automargin": true,
           "zerolinewidth": 2
          },
          "scene": {
           "xaxis": {
            "backgroundcolor": "#E5ECF6",
            "gridcolor": "white",
            "linecolor": "white",
            "showbackground": true,
            "ticks": "",
            "zerolinecolor": "white",
            "gridwidth": 2
           },
           "yaxis": {
            "backgroundcolor": "#E5ECF6",
            "gridcolor": "white",
            "linecolor": "white",
            "showbackground": true,
            "ticks": "",
            "zerolinecolor": "white",
            "gridwidth": 2
           },
           "zaxis": {
            "backgroundcolor": "#E5ECF6",
            "gridcolor": "white",
            "linecolor": "white",
            "showbackground": true,
            "ticks": "",
            "zerolinecolor": "white",
            "gridwidth": 2
           }
          },
          "shapedefaults": {
           "line": {
            "color": "#2a3f5f"
           }
          },
          "annotationdefaults": {
           "arrowcolor": "#2a3f5f",
           "arrowhead": 0,
           "arrowwidth": 1
          },
          "geo": {
           "bgcolor": "white",
           "landcolor": "#E5ECF6",
           "subunitcolor": "white",
           "showland": true,
           "showlakes": true,
           "lakecolor": "white"
          },
          "title": {
           "x": 0.05
          },
          "mapbox": {
           "style": "light"
          }
         }
        },
        "xaxis": {
         "anchor": "y",
         "domain": [
          0.0,
          1.0
         ],
         "matches": "x2",
         "showticklabels": false,
         "linecolor": "#666666",
         "gridcolor": "#d9d9d9",
         "zerolinecolor": "rgba(0,0,0,0)",
         "linewidth": 2,
         "showline": true,
         "showgrid": false,
         "mirror": true
        },
        "yaxis": {
         "anchor": "x",
         "domain": [
          0.25,
          1.0
         ],
         "title": {
          "text": "Counts"
         },
         "linecolor": "#666666",
         "zerolinecolor": "rgba(0,0,0,0)",
         "linewidth": 2,
         "mirror": true,
         "type": "log",
         "range": [
          -5.5,
          2.2778940909175605
         ]
        },
        "xaxis2": {
         "anchor": "y2",
         "domain": [
          0.0,
          1.0
         ],
         "title": {
          "text": "${P_{i}^{e} - P_{f}^{e}~\\text{[MeV]}}$"
         },
         "linecolor": "#666666",
         "gridcolor": "#d9d9d9",
         "zerolinecolor": "rgba(0,0,0,0)",
         "linewidth": 2,
         "showline": true,
         "showgrid": false,
         "mirror": false
        },
        "yaxis2": {
         "anchor": "x2",
         "domain": [
          0.0,
          0.25
         ],
         "title": {
          "text": "Rec./Truth"
         },
         "linecolor": "#666666",
         "zerolinecolor": "rgba(0,0,0,0)",
         "linewidth": 2,
         "mirror": true,
         "range": [
          0,
          2.0
         ]
        },
        "shapes": [
         {
          "line": {
           "color": "grey",
           "dash": "dash",
           "width": 1
          },
          "type": "line",
          "x0": 0,
          "x1": 1,
          "xref": "x2 domain",
          "y0": 1.0,
          "y1": 1.0,
          "yref": "y2"
         }
        ],
        "annotations": [
         {
          "font": {
           "family": "Cambria",
           "size": 34
          },
          "showarrow": false,
          "text": "<i><b>DarkSHINE<b><i>",
          "x": 0.05,
          "xref": "paper",
          "y": 0.97,
          "yref": "paper"
         },
         {
          "font": {
           "family": "Cambria",
           "size": 31
          },
          "showarrow": false,
          "text": "Simulation",
          "x": 0.455,
          "xref": "paper",
          "y": 0.9662999999999999,
          "yref": "paper"
         },
         {
          "showarrow": false,
          "text": "$\\Large{E^{e}_{0} = 8~\\text{GeV},~10^{6}~\\text{EOT}}$",
          "x": 0.05,
          "xref": "paper",
          "y": 0.895,
          "yref": "paper"
         },
         {
          "font": {
           "family": "Cambria",
           "size": 20
          },
          "showarrow": false,
          "text": "Missing Momentum",
          "x": 0.05,
          "xref": "paper",
          "y": 0.833,
          "yref": "paper"
         }
        ],
        "legend": {
         "font": {
          "size": 14
         },
         "orientation": "v",
         "yanchor": "top",
         "y": 0.99,
         "xanchor": "right",
         "x": 0.98
        },
        "width": 800,
        "height": 800,
        "paper_bgcolor": "rgba(0,0,0,0)",
        "plot_bgcolor": "rgba(0,0,0,0)"
       },
       "config": {
        "plotlyServerURL": "https://plot.ly"
       }
      },
      "text/html": "<div>                            <div id=\"3a942be2-10ed-439d-ab3b-cc67d964d70b\" class=\"plotly-graph-div\" style=\"height:800px; width:800px;\"></div>            <script type=\"text/javascript\">                require([\"plotly\"], function(Plotly) {                    window.PLOTLYENV=window.PLOTLYENV || {};                                    if (document.getElementById(\"3a942be2-10ed-439d-ab3b-cc67d964d70b\")) {                    Plotly.newPlot(                        \"3a942be2-10ed-439d-ab3b-cc67d964d70b\",                        [{\"error_y\":{\"array\":[0.003518870322951544,0.001071594833074865,0.0008408232214055108,0.0007203734917509823,0.000629390656209477,0.0005855182802468799,0.0005424216051609102,0.000507913927199655,0.0004877862271467453,0.00045522967941537994,0.00044143883218931485,0.0004046486039247821,0.0003939699760121196,0.00040200554099844687,0.000360038734056677,0.00035825782255554696,0.0003442982633764856,0.00032189599331199325,0.00032255765072817453,0.0003104321221296572,0.00030418815666170184,0.00028538366946301145,0.0002823795471777592,0.0002778124609633822,0.00026605196949480925,0.0002570859148406619,0.00025458583034129625,0.00025206094979523207,0.0002731690287509644,0.0002554219108524786,0.00025121368370116753,0.00027627332191256226,0.0002408140869698846,0.00023544209327423503,0.00023634590501702766,0.00023814323816612215,0.00022240340335492615,0.00022808270215349418,0.00022808270215349418,0.00021360151223054498,0.00022144269301760605,0.00021755743186347985,0.00020855111690507524,0.00020442098285278182,0.0002002056645018824,0.0001926069971934833,0.0001892570547403655,0.00019806436588319407,0.00021058581013041423,0.0001800193670283385,0.0001948082914914532,0.0001914968611620729,0.0001926069971934833,0.0001892570547403655,0.0001727672634138137,0.0001926069971934833,0.00020232430196239106,0.00017152877243930195,0.00016648270073096723,0.00017763489927194803,0.0001739969391698094,0.00016648270073096723,0.0001881271517778161,0.00016127882536408727,0.00017763489927194803,0.00016519710079088113,0.00015726295467123524,0.00018237266124946513,0.00015033163089352053,0.00015726295467123524,0.00016519710079088113,0.0001811998345425511,0.00018469597352714726,0.00015726295467123524,0.0001727672634138137,0.00016902456835799143,0.00015033163089352053,0.0001586128760375123,0.0001531418111197403,0.00014890665436487866,0.000144547463192021,0.00016390141725057867,0.0001586128760375123,0.00014890665436487866,0.00015452773811195993,0.00016127882536408727,0.0001531418111197403,0.00015033163089352053,0.0,0.0,0.0,0.0,0.0,0.0,0.0,0.0,0.0,0.0,0.0],\"type\":\"data\",\"visible\":true},\"line\":{\"color\":\"rgba(0,0,0,0.8)\"},\"name\":\"Truth\",\"x\":[0.0,90.9090909090909,181.8181818181818,272.72727272727275,363.6363636363636,454.5454545454545,545.4545454545455,636.3636363636364,727.2727272727273,818.1818181818181,909.090909090909,1000.0,1090.909090909091,1181.8181818181818,1272.7272727272727,1363.6363636363635,1454.5454545454545,1545.4545454545455,1636.3636363636363,1727.2727272727273,1818.181818181818,1909.090909090909,2000.0,2090.909090909091,2181.818181818182,2272.7272727272725,2363.6363636363635,2454.5454545454545,2545.4545454545455,2636.3636363636365,2727.272727272727,2818.181818181818,2909.090909090909,3000.0,3090.909090909091,3181.8181818181815,3272.7272727272725,3363.6363636363635,3454.5454545454545,3545.4545454545455,3636.363636363636,3727.272727272727,3818.181818181818,3909.090909090909,4000.0,4090.909090909091,4181.818181818182,4272.727272727273,4363.636363636364,4454.545454545454,4545.454545454545,4636.363636363636,4727.272727272727,4818.181818181818,4909.090909090909,5000.0,5090.909090909091,5181.818181818182,5272.727272727273,5363.636363636363,5454.545454545454,5545.454545454545,5636.363636363636,5727.272727272727,5818.181818181818,5909.090909090909,6000.0,6090.909090909091,6181.818181818182,6272.727272727273,6363.636363636363,6454.545454545454,6545.454545454545,6636.363636363636,6727.272727272727,6818.181818181818,6909.090909090909,7000.0,7090.909090909091,7181.818181818182,7272.727272727272,7363.636363636363,7454.545454545454,7545.454545454545,7636.363636363636,7727.272727272727,7818.181818181818,7909.090909090909,8000.0,8090.909090909091,8181.818181818182,8272.727272727272,8363.636363636364,8454.545454545454,8545.454545454546,8636.363636363636,8727.272727272728,8818.181818181818,8909.090909090908],\"y\":[0.5996448262332996,0.05560947405373036,0.03423709913891011,0.025130608957812793,0.01918351332934107,0.016602308629483555,0.014248249943213498,0.012493030747310386,0.011522497780163959,0.01003572387304603,0.009436884382679084,0.007929460837962294,0.0075164680859850916,0.007826212649967993,0.006277489830053483,0.006215540917256903,0.005740599252483119,0.005017861936523015,0.005038511574121875,0.004666818097342392,0.004480971358952651,0.003944080781382287,0.0038614822309868463,0.0037375844053936856,0.0034278398414107833,0.0032006938278233217,0.0031387449150267416,0.003076796002230161,0.003613686579800525,0.003159394552625602,0.003056146364631301,0.0036962851301959652,0.002808350713444979,0.0026844528878518185,0.0027051025254506787,0.002746401800648399,0.0023953579614677764,0.0025192557870609374,0.0025192557870609374,0.002209511223078035,0.002374708323868916,0.002292109773473476,0.0021062630350837342,0.002023664484688294,0.0019410659342928532,0.0017965184711008324,0.0017345695583042518,0.001899766659095133,0.0021475623102814546,0.0015693724575133708,0.0018378177462985525,0.0017758688335019722,0.0017965184711008324,0.0017345695583042518,0.00144547463192021,0.0017965184711008324,0.0019823652094905736,0.0014248249943213497,0.0013422264439259092,0.0015280731823156504,0.0014661242695190701,0.0013422264439259092,0.0017139199207053916,0.0012596278935304687,0.0015280731823156504,0.001321576806327049,0.0011976789807338882,0.001610671732711091,0.0010944307927395875,0.0011976789807338882,0.001321576806327049,0.001590022095112231,0.0016519710079088113,0.0011976789807338882,0.00144547463192021,0.0013835257191236294,0.0010944307927395875,0.0012183286183327484,0.0011357300679373078,0.0010737811551407273,0.001011832242344147,0.0013009271687281889,0.0012183286183327484,0.0010737811551407273,0.001156379705536168,0.0012596278935304687,0.0011357300679373078,0.0010944307927395875,0.0,0.0,0.0,0.0,0.0,0.0,0.0,0.0,0.0,0.0,0.0],\"type\":\"scatter\",\"xaxis\":\"x\",\"yaxis\":\"y\"},{\"error_y\":{\"array\":[0.0026829888721035394,0.002513582019305672,0.0023850192143168923,0.0021647377284341515,0.002005605267767271,0.00190872506661343,0.0017764181323998438,0.001682443079349973,0.001488079437131758,0.001427695159060029,0.001389231650438951,0.0013269021968891621,0.0011839610409758194,0.0011608571411838285,0.001060245122344069,0.0010311030353967797,0.0010011129905033278,0.001004489435132793,0.0009346458765306572,0.0008786272425963883,0.0009454513901477993,0.0008512245254105169,0.0008863009886659815,0.0008187849219113067,0.0008591430636035673,0.0008939088620145009,0.000890113053521393,0.0008020732673476763,0.0007978406611942609,0.0008351622420253636,0.0007675591715840039,0.0007078937843188468,0.0006982621275706525,0.0007631351625654793,0.0007978406611942609,0.0007406188281764318,0.0007719578274890437,0.0006735807086794313,0.0007078937843188468,0.0007631351625654793,0.0007406188281764318,0.000576036866359447,0.0006374231972033274,0.0006583278472679394,0.00059908738391051,0.0006933961301165536,0.00059908738391051,0.0006212832813751439,0.0006320890180932033,0.0006785888126428013,0.0006531644118823051,0.0006427131069705936,0.0006047127409767556,0.0005005564952516639,0.0006047127409767556,0.0005934087023475953,0.0006427131069705936,0.0005701286397527574,0.0005934087023475953,0.0005641585418368206,0.0005934087023475953,0.0005701286397527574,0.0005641585418368206,0.0005818851063088772,0.000513907011059776,0.000513907011059776,0.0006102862481151796,0.0005520246817395794,0.0005396180484119487,0.0005458566146075378,0.0005520246817395794,0.0005641585418368206,0.0005818851063088772,0.0006158093131622681,0.0005520246817395794,0.0006158093131622681,0.0005333065090855711,0.0004581767908846298,0.0005072756750303634,0.00046550808504710174,0.0004507262652280827,0.0005204538611205365,0.0005072756750303634,0.0005005564952516639,0.00039465368032527313,0.0003771046490253324,0.0002850643198763787,0.0002729283073037689,0.00016458196181698485,0.00014253215993818936,0.0,0.0,0.0,0.0,0.0,0.0,0.0,0.0,0.0],\"type\":\"data\",\"visible\":true},\"fillcolor\":\"rgba(0,100,80,0.4)\",\"line\":{\"color\":\"rgba(0,100,80,0.6)\"},\"name\":\"CKF\",\"x\":[0.0,90.9090909090909,181.8181818181818,272.72727272727275,363.6363636363636,454.5454545454545,545.4545454545455,636.3636363636364,727.2727272727273,818.1818181818181,909.090909090909,1000.0,1090.909090909091,1181.8181818181818,1272.7272727272727,1363.6363636363635,1454.5454545454545,1545.4545454545455,1636.3636363636363,1727.2727272727273,1818.181818181818,1909.090909090909,2000.0,2090.909090909091,2181.818181818182,2272.7272727272725,2363.6363636363635,2454.5454545454545,2545.4545454545455,2636.3636363636365,2727.272727272727,2818.181818181818,2909.090909090909,3000.0,3090.909090909091,3181.8181818181815,3272.7272727272725,3363.6363636363635,3454.5454545454545,3545.4545454545455,3636.363636363636,3727.272727272727,3818.181818181818,3909.090909090909,4000.0,4090.909090909091,4181.818181818182,4272.727272727273,4363.636363636364,4454.545454545454,4545.454545454545,4636.363636363636,4727.272727272727,4818.181818181818,4909.090909090909,5000.0,5090.909090909091,5181.818181818182,5272.727272727273,5363.636363636363,5454.545454545454,5545.454545454545,5636.363636363636,5727.272727272727,5818.181818181818,5909.090909090909,6000.0,6090.909090909091,6181.818181818182,6272.727272727273,6363.636363636363,6454.545454545454,6545.454545454545,6636.363636363636,6727.272727272727,6818.181818181818,6909.090909090909,7000.0,7090.909090909091,7181.818181818182,7272.727272727272,7363.636363636363,7454.545454545454,7545.454545454545,7636.363636363636,7727.272727272727,7818.181818181818,7909.090909090909,8000.0,8090.909090909091,8181.818181818182,8272.727272727272,8363.636363636364,8454.545454545454,8545.454545454546,8636.363636363636,8727.272727272728,8818.181818181818,8909.090909090908],\"y\":[0.08747531270572745,0.07677748518762344,0.06912442396313363,0.05694535878867676,0.0488808426596445,0.04427254772876892,0.03834759710335747,0.03439763001974983,0.026909150757077022,0.02476958525345622,0.02345292955892034,0.02139565503620803,0.017034233048057932,0.016375905200789992,0.013660302830809743,0.012919684002633311,0.012179065174456879,0.012261356155365371,0.010615536537195523,0.009381171823568136,0.010862409479921,0.00880513495720869,0.009545753785385122,0.00814680710994075,0.008969716919025674,0.009710335747202106,0.009628044766293614,0.00781764318630678,0.007735352205398288,0.00847597103357472,0.007159315339038841,0.006089532587228439,0.005924950625411454,0.007077024358130349,0.007735352205398288,0.0066655694535878865,0.007241606319947334,0.005513495720868992,0.006089532587228439,0.007077024358130349,0.0066655694535878865,0.004032258064516129,0.004937458854509545,0.005266622778143515,0.004361421988150099,0.005842659644502962,0.004361421988150099,0.004690585911784068,0.004855167873601053,0.005595786701777485,0.005184331797235023,0.005019749835418038,0.004443712969058591,0.0030447662936142197,0.004443712969058591,0.004279131007241606,0.005019749835418038,0.003949967083607637,0.004279131007241606,0.003867676102699144,0.004279131007241606,0.003949967083607637,0.003867676102699144,0.004114549045424621,0.0032093482554312047,0.0032093482554312047,0.004526003949967083,0.0037030941408821593,0.0035385121790651743,0.003620803159973667,0.0037030941408821593,0.003867676102699144,0.004114549045424621,0.004608294930875576,0.0037030941408821593,0.004608294930875576,0.003456221198156682,0.002551020408163265,0.003127057274522712,0.0026333113890717576,0.0024687294272547726,0.003291639236339697,0.003127057274522712,0.0030447662936142197,0.0018926925608953257,0.001728110599078341,0.0009874917709019092,0.0009052007899934167,0.0003291639236339697,0.0002468729427254773,0.0,0.0,0.0,0.0,0.0,0.0,0.0,0.0,0.0],\"type\":\"scatter\",\"xaxis\":\"x\",\"yaxis\":\"y\"},{\"error_y\":{\"array\":[0.0026829888721035394,0.002513582019305672,0.0023850192143168923,0.0021647377284341515,0.002005605267767271,0.00190872506661343,0.0017764181323998438,0.001682443079349973,0.001488079437131758,0.001427695159060029,0.001389231650438951,0.0013269021968891621,0.0011839610409758194,0.0011608571411838285,0.001060245122344069,0.0010311030353967797,0.0010011129905033278,0.001004489435132793,0.0009346458765306572,0.0008786272425963883,0.0009454513901477993,0.0008512245254105169,0.0008863009886659815,0.0008187849219113067,0.0008591430636035673,0.0008939088620145009,0.000890113053521393,0.0008020732673476763,0.0007978406611942609,0.0008351622420253636,0.0007675591715840039,0.0007078937843188468,0.0006982621275706525,0.0007631351625654793,0.0007978406611942609,0.0007406188281764318,0.0007719578274890437,0.0006735807086794313,0.0007078937843188468,0.0007631351625654793,0.0007406188281764318,0.000576036866359447,0.0006374231972033274,0.0006583278472679394,0.00059908738391051,0.0006933961301165536,0.00059908738391051,0.0006212832813751439,0.0006320890180932033,0.0006785888126428013,0.0006531644118823051,0.0006427131069705936,0.0006047127409767556,0.0005005564952516639,0.0006047127409767556,0.0005934087023475953,0.0006427131069705936,0.0005701286397527574,0.0005934087023475953,0.0005641585418368206,0.0005934087023475953,0.0005701286397527574,0.0005641585418368206,0.0005818851063088772,0.000513907011059776,0.000513907011059776,0.0006102862481151796,0.0005520246817395794,0.0005396180484119487,0.0005458566146075378,0.0005520246817395794,0.0005641585418368206,0.0005818851063088772,0.0006158093131622681,0.0005520246817395794,0.0006158093131622681,0.0005333065090855711,0.0004581767908846298,0.0005072756750303634,0.00046550808504710174,0.0004507262652280827,0.0005204538611205365,0.0005072756750303634,0.0005005564952516639,0.00039465368032527313,0.0003771046490253324,0.0002850643198763787,0.0002729283073037689,0.00016458196181698485,0.00014253215993818936,0.0,0.0,0.0,0.0,0.0,0.0,0.0,0.0,0.0],\"type\":\"data\",\"visible\":true},\"fillcolor\":\"rgba(204,40,46,0.4)\",\"line\":{\"color\":\"rgba(204,40,46,0.6)\"},\"name\":\"GNN\",\"x\":[0.0,90.9090909090909,181.8181818181818,272.72727272727275,363.6363636363636,454.5454545454545,545.4545454545455,636.3636363636364,727.2727272727273,818.1818181818181,909.090909090909,1000.0,1090.909090909091,1181.8181818181818,1272.7272727272727,1363.6363636363635,1454.5454545454545,1545.4545454545455,1636.3636363636363,1727.2727272727273,1818.181818181818,1909.090909090909,2000.0,2090.909090909091,2181.818181818182,2272.7272727272725,2363.6363636363635,2454.5454545454545,2545.4545454545455,2636.3636363636365,2727.272727272727,2818.181818181818,2909.090909090909,3000.0,3090.909090909091,3181.8181818181815,3272.7272727272725,3363.6363636363635,3454.5454545454545,3545.4545454545455,3636.363636363636,3727.272727272727,3818.181818181818,3909.090909090909,4000.0,4090.909090909091,4181.818181818182,4272.727272727273,4363.636363636364,4454.545454545454,4545.454545454545,4636.363636363636,4727.272727272727,4818.181818181818,4909.090909090909,5000.0,5090.909090909091,5181.818181818182,5272.727272727273,5363.636363636363,5454.545454545454,5545.454545454545,5636.363636363636,5727.272727272727,5818.181818181818,5909.090909090909,6000.0,6090.909090909091,6181.818181818182,6272.727272727273,6363.636363636363,6454.545454545454,6545.454545454545,6636.363636363636,6727.272727272727,6818.181818181818,6909.090909090909,7000.0,7090.909090909091,7181.818181818182,7272.727272727272,7363.636363636363,7454.545454545454,7545.454545454545,7636.363636363636,7727.272727272727,7818.181818181818,7909.090909090909,8000.0,8090.909090909091,8181.818181818182,8272.727272727272,8363.636363636364,8454.545454545454,8545.454545454546,8636.363636363636,8727.272727272728,8818.181818181818,8909.090909090908],\"y\":[0.15739894272427363,0.12754878969752376,0.0986525696569816,0.07265789578282127,0.05397670813625343,0.042211534639691566,0.03295043523192496,0.027624309392265196,0.021344250566397712,0.017608013037084147,0.016574585635359115,0.015461663818116778,0.013275567391390755,0.011129218172423388,0.010334274017250289,0.009738065900870464,0.008744385706904091,0.008307166421558886,0.007710958305179061,0.007591716681903097,0.007472475058627132,0.006439047656902103,0.005564609086211694,0.005723597917246314,0.004769664931038595,0.00425295123017608,0.00449143447672801,0.004928653762073214,0.004769664931038595,0.00457092889224532,0.00425295123017608,0.003736237529313566,0.0038952263603481856,0.00425295123017608,0.003736237529313566,0.003974720775865495,0.003378512659485671,0.0033387654517270165,0.0035375014905202912,0.004451687268969355,0.003616995906037601,0.004531181684486665,0.004054215191382805,0.004014467983624151,0.004372192853452046,0.003934973568106841,0.004014467983624151,0.004054215191382805,0.0032195238284510514,0.002861798958623157,0.0032592710362097065,0.0032990182439683615,0.0032195238284510514,0.004093962399141461,0.0031002822051750868,0.003458007075002981,0.0032990182439683615,0.003458007075002981,0.0029015461663818116,0.002702810127588537,0.002702810127588537,0.002742557335347192,0.0029015461663818116,0.0029015461663818116,0.0029810405818991217,0.003974720775865495,0.003656743113796256,0.0038554791525895306,0.004093962399141461,0.003934973568106841,0.0046504233077626295,0.003815731944830876,0.0032195238284510514,0.0031797766206923964,0.0024245796732779525,0.0019476131801740928,0.001709129933622163,0.001709129933622163,0.0016296355181048532,0.0014308994793115785,0.0013116578560356136,0.0011526690250009937,0.0010731746094836839,0.0011526690250009937,0.0009936801939663738,0.0007949441551730991,0.0009936801939663738,0.0007551969474144442,0.0005962081163798244,0.0011526690250009937,0.0010731746094836839,0.0008346913629317541,0.0007551969474144442,0.0007551969474144442,0.0007154497396557893,0.0005564609086211693,0.0007949441551730991,0.0006757025318971342,0.0005564609086211693],\"type\":\"scatter\",\"xaxis\":\"x\",\"yaxis\":\"y\"},{\"error_y\":{\"array\":[3.6861836567938276e-07,3.759955986060469e-06,1.5963761053344893e-05,2.0966247982532497e-05,2.4074340086329636e-05,2.844542209412161e-05,2.4901687459424088e-05,2.0796150196382707e-05,2.0655323295029824e-05],\"color\":\"rgba(0,100,80,0.4)\",\"thickness\":1.5,\"type\":\"data\",\"width\":3},\"marker\":{\"color\":\"rgba(0,100,80,0.4)\",\"size\":10,\"symbol\":\"circle\"},\"mode\":\"markers\",\"name\":\"CKF/Truth\",\"x\":[0.0,90.9090909090909,2818.181818181818,3727.272727272727,4818.181818181818,7636.363636363636,7727.272727272727,7818.181818181818,7909.090909090909],\"y\":[0.1458785415613576,1.3806547624140513,1.6474737128587242,1.759190642255158,1.7553440154863786,1.6367396901156772,1.3719215078945377,0.8694775270812136,0.8270973331511544],\"type\":\"scatter\",\"xaxis\":\"x2\",\"yaxis\":\"y2\"},{\"error_y\":{\"array\":[1.688167824197031e-07,3.566116657037653e-06,3.6985353258470244e-06,3.816459744595009e-06,4.434352307630877e-06,4.290628112124953e-06,3.6993300722959335e-06,4.502095845347916e-06,4.39381914080419e-06,4.496805571590343e-06,5.052401656842524e-06,4.8131339163840536e-06,5.1847398676645985e-06,5.3696820355973376e-06,5.651811245040951e-06,5.307472924216213e-06,5.590409404821702e-06,5.519347256343276e-06,5.5611199662685296e-06,5.862802613654351e-06,6.327409415434139e-06,5.213469765310767e-06,5.881223291150115e-06,5.845738039485111e-06,4.4278708795642505e-06,6.08648179115947e-06,6.729954508548847e-06,6.186372387224352e-06,6.30914501933265e-06,6.6548766059017896e-06,6.258828323521709e-06,6.472388821441265e-06,6.9912913418278994e-06,8.316866802467193e-06,8.536629234886427e-06,8.870117434282825e-06,7.283518310586195e-06,9.571861318408005e-06,8.698468114114263e-06,9.099366001105037e-06,8.853261210834346e-06,9.24329638840514e-06,8.063299798514953e-06,9.524332188344043e-06,9.968359707360742e-06,8.76066100163699e-06,1.0104345897355079e-05,9.712145233388154e-06,9.487175072659668e-06,8.746665236917571e-06,1.045099022774655e-05,9.302027631809055e-06,9.76198461761761e-06,9.617186333489726e-06,9.750541726104698e-06,6.9340856691938865e-06,7.142007882302718e-06,8.498540458871616e-06,7.23081853541457e-06,5.851927202747035e-06,7.369481827740986e-06,6.589572806111993e-06],\"color\":\"rgba(204,40,46,0.4)\",\"thickness\":1.5,\"type\":\"data\",\"width\":3},\"marker\":{\"color\":\"rgba(204,40,46,0.4)\",\"size\":10,\"symbol\":\"diamond\"},\"mode\":\"markers\",\"name\":\"GNN/Truth\",\"x\":[0.0,727.2727272727273,818.1818181818181,909.090909090909,1000.0,1090.909090909091,1181.8181818181818,1272.7272727272727,1363.6363636363635,1454.5454545454545,1545.4545454545455,1636.3636363636363,1727.2727272727273,1818.181818181818,1909.090909090909,2000.0,2090.909090909091,2181.818181818182,2272.7272727272725,2363.6363636363635,2454.5454545454545,2545.4545454545455,2636.3636363636365,2727.272727272727,2818.181818181818,2909.090909090909,3000.0,3090.909090909091,3181.8181818181815,3272.7272727272725,3363.6363636363635,3454.5454545454545,3636.363636363636,3727.272727272727,3818.181818181818,3909.090909090909,4363.636363636364,4454.545454545454,4545.454545454545,4636.363636363636,4727.272727272727,5000.0,5090.909090909091,5363.636363636363,5454.545454545454,5636.363636363636,5818.181818181818,6545.454545454545,6727.272727272727,6818.181818181818,6909.090909090909,7000.0,7090.909090909091,7181.818181818182,7272.727272727272,7363.636363636363,7454.545454545454,7545.454545454545,7636.363636363636,7727.272727272727,7818.181818181818,7909.090909090909],\"y\":[0.2624869520062123,1.8523978892095734,1.7545334307548845,1.7563620537495315,1.9499010253123465,1.7661975331397806,1.4220439272716288,1.6462430520834859,1.5667286291742657,1.5232531173677855,1.6555191287935478,1.5304040075610919,1.6267436449315098,1.6676016113554657,1.6325851355015606,1.4410552097217844,1.531362852698824,1.3914491784060603,1.3287591562821743,1.4309651145033377,1.6018786291001312,1.3198889349451772,1.4467736827762359,1.3916058731333585,1.0108087979445142,1.3870156393572175,1.5842897632595156,1.381181487267695,1.447246639194273,1.410441660007867,1.3252983158261,1.4041851203395586,1.5231327021015904,1.9768606795913126,1.9248380301283834,1.9837616432955787,1.4991526965422988,1.8235307653847843,1.7734462749497466,1.8576925174494865,1.7920905797747018,1.9248380301283834,1.664182880215165,1.7687700817395957,1.8435068457567616,1.692929833727373,1.9508493548598485,1.948898505504988,1.6773588548261626,1.4077173653177728,1.5616610433117073,1.4028480558562793,1.4348792588229766,1.3325801747042654,1.296319489678299,0.8860365535511606,0.8808580815841756,1.073467362956214,0.8593026920215997,0.6310944361076667,0.8749263773310834,0.6900362749516846],\"type\":\"scatter\",\"xaxis\":\"x2\",\"yaxis\":\"y2\"},{\"marker\":{\"color\":\"rgba(0,100,80,0.4)\",\"line\":{\"width\":2},\"size\":12,\"symbol\":\"arrow-up-open\"},\"mode\":\"markers\",\"name\":\"CKF/Truth >=2.0\",\"showlegend\":false,\"x\":[181.8181818181818,272.72727272727275,363.6363636363636,454.5454545454545,545.4545454545455,636.3636363636364,727.2727272727273,818.1818181818181,909.090909090909,1000.0,1090.909090909091,1181.8181818181818,1272.7272727272727,1363.6363636363635,1454.5454545454545,1545.4545454545455,1636.3636363636363,1727.2727272727273,1818.181818181818,1909.090909090909,2000.0,2090.909090909091,2181.818181818182,2272.7272727272725,2363.6363636363635,2454.5454545454545,2545.4545454545455,2636.3636363636365,2727.272727272727,2909.090909090909,3000.0,3090.909090909091,3181.8181818181815,3272.7272727272725,3363.6363636363635,3454.5454545454545,3545.4545454545455,3636.363636363636,3818.181818181818,3909.090909090909,4000.0,4090.909090909091,4181.818181818182,4272.727272727273,4363.636363636364,4454.545454545454,4545.454545454545,4636.363636363636,4727.272727272727,4909.090909090909,5000.0,5090.909090909091,5181.818181818182,5272.727272727273,5363.636363636363,5454.545454545454,5545.454545454545,5636.363636363636,5727.272727272727,5818.181818181818,5909.090909090909,6000.0,6090.909090909091,6181.818181818182,6272.727272727273,6363.636363636363,6454.545454545454,6545.454545454545,6636.363636363636,6727.272727272727,6818.181818181818,6909.090909090909,7000.0,7090.909090909091,7181.818181818182,7272.727272727272,7363.636363636363,7454.545454545454,7545.454545454545,8000.0,8090.909090909091],\"y\":[2.0,2.0,2.0,2.0,2.0,2.0,2.0,2.0,2.0,2.0,2.0,2.0,2.0,2.0,2.0,2.0,2.0,2.0,2.0,2.0,2.0,2.0,2.0,2.0,2.0,2.0,2.0,2.0,2.0,2.0,2.0,2.0,2.0,2.0,2.0,2.0,2.0,2.0,2.0,2.0,2.0,2.0,2.0,2.0,2.0,2.0,2.0,2.0,2.0,2.0,2.0,2.0,2.0,2.0,2.0,2.0,2.0,2.0,2.0,2.0,2.0,2.0,2.0,2.0,2.0,2.0,2.0,2.0,2.0,2.0,2.0,2.0,2.0,2.0,2.0,2.0,2.0,2.0,2.0,2.0,2.0],\"type\":\"scatter\",\"xaxis\":\"x2\",\"yaxis\":\"y2\"},{\"marker\":{\"color\":\"rgba(204,40,46,0.4)\",\"line\":{\"width\":2},\"size\":12,\"symbol\":\"arrow-up-open\"},\"mode\":\"markers\",\"name\":\"GNN/Truth >=2.0\",\"showlegend\":false,\"x\":[90.9090909090909,181.8181818181818,272.72727272727275,363.6363636363636,454.5454545454545,545.4545454545455,636.3636363636364,3545.4545454545455,4000.0,4090.909090909091,4181.818181818182,4272.727272727273,4818.181818181818,4909.090909090909,5181.818181818182,5272.727272727273,5545.454545454545,5727.272727272727,5909.090909090909,6000.0,6090.909090909091,6181.818181818182,6272.727272727273,6363.636363636363,6454.545454545454,6636.363636363636,8000.0,8090.909090909091,8181.818181818182,8272.727272727272,8363.636363636364,8454.545454545454,8545.454545454546,8636.363636363636,8727.272727272728,8818.181818181818,8909.090909090908],\"y\":[2.0,2.0,2.0,2.0,2.0,2.0,2.0,2.0,2.0,2.0,2.0,2.0,2.0,2.0,2.0,2.0,2.0,2.0,2.0,2.0,2.0,2.0,2.0,2.0,2.0,2.0,2.0,2.0,2.0,2.0,2.0,2.0,2.0,2.0,2.0,2.0,2.0],\"type\":\"scatter\",\"xaxis\":\"x2\",\"yaxis\":\"y2\"}],                        {\"template\":{\"data\":{\"histogram2dcontour\":[{\"type\":\"histogram2dcontour\",\"colorbar\":{\"outlinewidth\":0,\"ticks\":\"\"},\"colorscale\":[[0.0,\"#0d0887\"],[0.1111111111111111,\"#46039f\"],[0.2222222222222222,\"#7201a8\"],[0.3333333333333333,\"#9c179e\"],[0.4444444444444444,\"#bd3786\"],[0.5555555555555556,\"#d8576b\"],[0.6666666666666666,\"#ed7953\"],[0.7777777777777778,\"#fb9f3a\"],[0.8888888888888888,\"#fdca26\"],[1.0,\"#f0f921\"]]}],\"choropleth\":[{\"type\":\"choropleth\",\"colorbar\":{\"outlinewidth\":0,\"ticks\":\"\"}}],\"histogram2d\":[{\"type\":\"histogram2d\",\"colorbar\":{\"outlinewidth\":0,\"ticks\":\"\"},\"colorscale\":[[0.0,\"#0d0887\"],[0.1111111111111111,\"#46039f\"],[0.2222222222222222,\"#7201a8\"],[0.3333333333333333,\"#9c179e\"],[0.4444444444444444,\"#bd3786\"],[0.5555555555555556,\"#d8576b\"],[0.6666666666666666,\"#ed7953\"],[0.7777777777777778,\"#fb9f3a\"],[0.8888888888888888,\"#fdca26\"],[1.0,\"#f0f921\"]]}],\"heatmap\":[{\"type\":\"heatmap\",\"colorbar\":{\"outlinewidth\":0,\"ticks\":\"\"},\"colorscale\":[[0.0,\"#0d0887\"],[0.1111111111111111,\"#46039f\"],[0.2222222222222222,\"#7201a8\"],[0.3333333333333333,\"#9c179e\"],[0.4444444444444444,\"#bd3786\"],[0.5555555555555556,\"#d8576b\"],[0.6666666666666666,\"#ed7953\"],[0.7777777777777778,\"#fb9f3a\"],[0.8888888888888888,\"#fdca26\"],[1.0,\"#f0f921\"]]}],\"heatmapgl\":[{\"type\":\"heatmapgl\",\"colorbar\":{\"outlinewidth\":0,\"ticks\":\"\"},\"colorscale\":[[0.0,\"#0d0887\"],[0.1111111111111111,\"#46039f\"],[0.2222222222222222,\"#7201a8\"],[0.3333333333333333,\"#9c179e\"],[0.4444444444444444,\"#bd3786\"],[0.5555555555555556,\"#d8576b\"],[0.6666666666666666,\"#ed7953\"],[0.7777777777777778,\"#fb9f3a\"],[0.8888888888888888,\"#fdca26\"],[1.0,\"#f0f921\"]]}],\"contourcarpet\":[{\"type\":\"contourcarpet\",\"colorbar\":{\"outlinewidth\":0,\"ticks\":\"\"}}],\"contour\":[{\"type\":\"contour\",\"colorbar\":{\"outlinewidth\":0,\"ticks\":\"\"},\"colorscale\":[[0.0,\"#0d0887\"],[0.1111111111111111,\"#46039f\"],[0.2222222222222222,\"#7201a8\"],[0.3333333333333333,\"#9c179e\"],[0.4444444444444444,\"#bd3786\"],[0.5555555555555556,\"#d8576b\"],[0.6666666666666666,\"#ed7953\"],[0.7777777777777778,\"#fb9f3a\"],[0.8888888888888888,\"#fdca26\"],[1.0,\"#f0f921\"]]}],\"surface\":[{\"type\":\"surface\",\"colorbar\":{\"outlinewidth\":0,\"ticks\":\"\"},\"colorscale\":[[0.0,\"#0d0887\"],[0.1111111111111111,\"#46039f\"],[0.2222222222222222,\"#7201a8\"],[0.3333333333333333,\"#9c179e\"],[0.4444444444444444,\"#bd3786\"],[0.5555555555555556,\"#d8576b\"],[0.6666666666666666,\"#ed7953\"],[0.7777777777777778,\"#fb9f3a\"],[0.8888888888888888,\"#fdca26\"],[1.0,\"#f0f921\"]]}],\"mesh3d\":[{\"type\":\"mesh3d\",\"colorbar\":{\"outlinewidth\":0,\"ticks\":\"\"}}],\"scatter\":[{\"fillpattern\":{\"fillmode\":\"overlay\",\"size\":10,\"solidity\":0.2},\"type\":\"scatter\"}],\"parcoords\":[{\"type\":\"parcoords\",\"line\":{\"colorbar\":{\"outlinewidth\":0,\"ticks\":\"\"}}}],\"scatterpolargl\":[{\"type\":\"scatterpolargl\",\"marker\":{\"colorbar\":{\"outlinewidth\":0,\"ticks\":\"\"}}}],\"bar\":[{\"error_x\":{\"color\":\"#2a3f5f\"},\"error_y\":{\"color\":\"#2a3f5f\"},\"marker\":{\"line\":{\"color\":\"#E5ECF6\",\"width\":0.5},\"pattern\":{\"fillmode\":\"overlay\",\"size\":10,\"solidity\":0.2}},\"type\":\"bar\"}],\"scattergeo\":[{\"type\":\"scattergeo\",\"marker\":{\"colorbar\":{\"outlinewidth\":0,\"ticks\":\"\"}}}],\"scatterpolar\":[{\"type\":\"scatterpolar\",\"marker\":{\"colorbar\":{\"outlinewidth\":0,\"ticks\":\"\"}}}],\"histogram\":[{\"marker\":{\"pattern\":{\"fillmode\":\"overlay\",\"size\":10,\"solidity\":0.2}},\"type\":\"histogram\"}],\"scattergl\":[{\"type\":\"scattergl\",\"marker\":{\"colorbar\":{\"outlinewidth\":0,\"ticks\":\"\"}}}],\"scatter3d\":[{\"type\":\"scatter3d\",\"line\":{\"colorbar\":{\"outlinewidth\":0,\"ticks\":\"\"}},\"marker\":{\"colorbar\":{\"outlinewidth\":0,\"ticks\":\"\"}}}],\"scattermapbox\":[{\"type\":\"scattermapbox\",\"marker\":{\"colorbar\":{\"outlinewidth\":0,\"ticks\":\"\"}}}],\"scatterternary\":[{\"type\":\"scatterternary\",\"marker\":{\"colorbar\":{\"outlinewidth\":0,\"ticks\":\"\"}}}],\"scattercarpet\":[{\"type\":\"scattercarpet\",\"marker\":{\"colorbar\":{\"outlinewidth\":0,\"ticks\":\"\"}}}],\"carpet\":[{\"aaxis\":{\"endlinecolor\":\"#2a3f5f\",\"gridcolor\":\"white\",\"linecolor\":\"white\",\"minorgridcolor\":\"white\",\"startlinecolor\":\"#2a3f5f\"},\"baxis\":{\"endlinecolor\":\"#2a3f5f\",\"gridcolor\":\"white\",\"linecolor\":\"white\",\"minorgridcolor\":\"white\",\"startlinecolor\":\"#2a3f5f\"},\"type\":\"carpet\"}],\"table\":[{\"cells\":{\"fill\":{\"color\":\"#EBF0F8\"},\"line\":{\"color\":\"white\"}},\"header\":{\"fill\":{\"color\":\"#C8D4E3\"},\"line\":{\"color\":\"white\"}},\"type\":\"table\"}],\"barpolar\":[{\"marker\":{\"line\":{\"color\":\"#E5ECF6\",\"width\":0.5},\"pattern\":{\"fillmode\":\"overlay\",\"size\":10,\"solidity\":0.2}},\"type\":\"barpolar\"}],\"pie\":[{\"automargin\":true,\"type\":\"pie\"}]},\"layout\":{\"autotypenumbers\":\"strict\",\"colorway\":[\"#636efa\",\"#EF553B\",\"#00cc96\",\"#ab63fa\",\"#FFA15A\",\"#19d3f3\",\"#FF6692\",\"#B6E880\",\"#FF97FF\",\"#FECB52\"],\"font\":{\"color\":\"#2a3f5f\"},\"hovermode\":\"closest\",\"hoverlabel\":{\"align\":\"left\"},\"paper_bgcolor\":\"white\",\"plot_bgcolor\":\"#E5ECF6\",\"polar\":{\"bgcolor\":\"#E5ECF6\",\"angularaxis\":{\"gridcolor\":\"white\",\"linecolor\":\"white\",\"ticks\":\"\"},\"radialaxis\":{\"gridcolor\":\"white\",\"linecolor\":\"white\",\"ticks\":\"\"}},\"ternary\":{\"bgcolor\":\"#E5ECF6\",\"aaxis\":{\"gridcolor\":\"white\",\"linecolor\":\"white\",\"ticks\":\"\"},\"baxis\":{\"gridcolor\":\"white\",\"linecolor\":\"white\",\"ticks\":\"\"},\"caxis\":{\"gridcolor\":\"white\",\"linecolor\":\"white\",\"ticks\":\"\"}},\"coloraxis\":{\"colorbar\":{\"outlinewidth\":0,\"ticks\":\"\"}},\"colorscale\":{\"sequential\":[[0.0,\"#0d0887\"],[0.1111111111111111,\"#46039f\"],[0.2222222222222222,\"#7201a8\"],[0.3333333333333333,\"#9c179e\"],[0.4444444444444444,\"#bd3786\"],[0.5555555555555556,\"#d8576b\"],[0.6666666666666666,\"#ed7953\"],[0.7777777777777778,\"#fb9f3a\"],[0.8888888888888888,\"#fdca26\"],[1.0,\"#f0f921\"]],\"sequentialminus\":[[0.0,\"#0d0887\"],[0.1111111111111111,\"#46039f\"],[0.2222222222222222,\"#7201a8\"],[0.3333333333333333,\"#9c179e\"],[0.4444444444444444,\"#bd3786\"],[0.5555555555555556,\"#d8576b\"],[0.6666666666666666,\"#ed7953\"],[0.7777777777777778,\"#fb9f3a\"],[0.8888888888888888,\"#fdca26\"],[1.0,\"#f0f921\"]],\"diverging\":[[0,\"#8e0152\"],[0.1,\"#c51b7d\"],[0.2,\"#de77ae\"],[0.3,\"#f1b6da\"],[0.4,\"#fde0ef\"],[0.5,\"#f7f7f7\"],[0.6,\"#e6f5d0\"],[0.7,\"#b8e186\"],[0.8,\"#7fbc41\"],[0.9,\"#4d9221\"],[1,\"#276419\"]]},\"xaxis\":{\"gridcolor\":\"white\",\"linecolor\":\"white\",\"ticks\":\"\",\"title\":{\"standoff\":15},\"zerolinecolor\":\"white\",\"automargin\":true,\"zerolinewidth\":2},\"yaxis\":{\"gridcolor\":\"white\",\"linecolor\":\"white\",\"ticks\":\"\",\"title\":{\"standoff\":15},\"zerolinecolor\":\"white\",\"automargin\":true,\"zerolinewidth\":2},\"scene\":{\"xaxis\":{\"backgroundcolor\":\"#E5ECF6\",\"gridcolor\":\"white\",\"linecolor\":\"white\",\"showbackground\":true,\"ticks\":\"\",\"zerolinecolor\":\"white\",\"gridwidth\":2},\"yaxis\":{\"backgroundcolor\":\"#E5ECF6\",\"gridcolor\":\"white\",\"linecolor\":\"white\",\"showbackground\":true,\"ticks\":\"\",\"zerolinecolor\":\"white\",\"gridwidth\":2},\"zaxis\":{\"backgroundcolor\":\"#E5ECF6\",\"gridcolor\":\"white\",\"linecolor\":\"white\",\"showbackground\":true,\"ticks\":\"\",\"zerolinecolor\":\"white\",\"gridwidth\":2}},\"shapedefaults\":{\"line\":{\"color\":\"#2a3f5f\"}},\"annotationdefaults\":{\"arrowcolor\":\"#2a3f5f\",\"arrowhead\":0,\"arrowwidth\":1},\"geo\":{\"bgcolor\":\"white\",\"landcolor\":\"#E5ECF6\",\"subunitcolor\":\"white\",\"showland\":true,\"showlakes\":true,\"lakecolor\":\"white\"},\"title\":{\"x\":0.05},\"mapbox\":{\"style\":\"light\"}}},\"xaxis\":{\"anchor\":\"y\",\"domain\":[0.0,1.0],\"matches\":\"x2\",\"showticklabels\":false,\"linecolor\":\"#666666\",\"gridcolor\":\"#d9d9d9\",\"zerolinecolor\":\"rgba(0,0,0,0)\",\"linewidth\":2,\"showline\":true,\"showgrid\":false,\"mirror\":true},\"yaxis\":{\"anchor\":\"x\",\"domain\":[0.25,1.0],\"title\":{\"text\":\"Counts\"},\"linecolor\":\"#666666\",\"zerolinecolor\":\"rgba(0,0,0,0)\",\"linewidth\":2,\"mirror\":true,\"type\":\"log\",\"range\":[-5.5,2.2778940909175605]},\"xaxis2\":{\"anchor\":\"y2\",\"domain\":[0.0,1.0],\"title\":{\"text\":\"${P_{i}^{e} - P_{f}^{e}~\\\\text{[MeV]}}$\"},\"linecolor\":\"#666666\",\"gridcolor\":\"#d9d9d9\",\"zerolinecolor\":\"rgba(0,0,0,0)\",\"linewidth\":2,\"showline\":true,\"showgrid\":false,\"mirror\":false},\"yaxis2\":{\"anchor\":\"x2\",\"domain\":[0.0,0.25],\"title\":{\"text\":\"Rec./Truth\"},\"linecolor\":\"#666666\",\"zerolinecolor\":\"rgba(0,0,0,0)\",\"linewidth\":2,\"mirror\":true,\"range\":[0,2.0]},\"shapes\":[{\"line\":{\"color\":\"grey\",\"dash\":\"dash\",\"width\":1},\"type\":\"line\",\"x0\":0,\"x1\":1,\"xref\":\"x2 domain\",\"y0\":1.0,\"y1\":1.0,\"yref\":\"y2\"}],\"annotations\":[{\"font\":{\"family\":\"Cambria\",\"size\":34},\"showarrow\":false,\"text\":\"<i><b>DarkSHINE<b><i>\",\"x\":0.05,\"xref\":\"paper\",\"y\":0.97,\"yref\":\"paper\"},{\"font\":{\"family\":\"Cambria\",\"size\":31},\"showarrow\":false,\"text\":\"Simulation\",\"x\":0.455,\"xref\":\"paper\",\"y\":0.9662999999999999,\"yref\":\"paper\"},{\"showarrow\":false,\"text\":\"$\\\\Large{E^{e}_{0} = 8~\\\\text{GeV},~10^{6}~\\\\text{EOT}}$\",\"x\":0.05,\"xref\":\"paper\",\"y\":0.895,\"yref\":\"paper\"},{\"font\":{\"family\":\"Cambria\",\"size\":20},\"showarrow\":false,\"text\":\"Missing Momentum\",\"x\":0.05,\"xref\":\"paper\",\"y\":0.833,\"yref\":\"paper\"}],\"legend\":{\"font\":{\"size\":14},\"orientation\":\"v\",\"yanchor\":\"top\",\"y\":0.99,\"xanchor\":\"right\",\"x\":0.98},\"width\":800,\"height\":800,\"paper_bgcolor\":\"rgba(0,0,0,0)\",\"plot_bgcolor\":\"rgba(0,0,0,0)\"},                        {\"responsive\": true}                    ).then(function(){\n                            \nvar gd = document.getElementById('3a942be2-10ed-439d-ab3b-cc67d964d70b');\nvar x = new MutationObserver(function (mutations, observer) {{\n        var display = window.getComputedStyle(gd).display;\n        if (!display || display === 'none') {{\n            console.log([gd, 'removed!']);\n            Plotly.purge(gd);\n            observer.disconnect();\n        }}\n}});\n\n// Listen for the removal of the full notebook cells\nvar notebookContainer = gd.closest('#notebook-container');\nif (notebookContainer) {{\n    x.observe(notebookContainer, {childList: true});\n}}\n\n// Listen for the clearing of the current output cell\nvar outputEl = gd.closest('.output');\nif (outputEl) {{\n    x.observe(outputEl, {childList: true});\n}}\n\n                        })                };                });            </script>        </div>"
     },
     "metadata": {},
     "output_type": "display_data"
    },
    {
     "data": {
      "application/vnd.plotly.v1+json": {
       "data": [
        {
         "error_y": {
          "array": [
           2.7347061558235567E-5,
           0.0,
           5.4694123116471135E-5,
           6.698634678215818E-5,
           2.7347061558235567E-5,
           6.698634678215818E-5,
           1.0938824623294227E-4,
           1.4726843348195103E-4,
           1.751066326861063E-4,
           2.3996949127333723E-4,
           3.247283640177733E-4,
           3.944049307259539E-4,
           4.930061634074424E-4,
           5.997678835961744E-4,
           7.30734772657718E-4,
           8.534737076778098E-4,
           9.551917956940946E-4,
           0.001098998074625215,
           0.0012281845146107485,
           0.0013169250009937381,
           0.001409368964008546,
           0.0014395572169717894,
           0.0014739533435296158,
           0.0014880923084106207,
           0.0014125491913632464,
           0.0013689929182906803,
           0.0012703880164450937,
           0.001183530779576252,
           0.0010559649178936102,
           9.445629140575132E-4,
           8.112449462187943E-4,
           6.653827254407766E-4,
           5.839734324407969E-4,
           4.822706836368419E-4,
           4.111164814825637E-4,
           3.5551180025706236E-4,
           2.970651267864527E-4,
           2.3996949127333723E-4,
           2.4306599987189512E-4,
           1.8946600022631084E-4,
           1.5226199477206282E-4,
           1.4726843348195103E-4,
           1.5226199477206282E-4,
           1.5226199477206282E-4,
           1.546983413868346E-4,
           1.0591471398275541E-4,
           1.2826908851760958E-4,
           1.2531997962523148E-4,
           1.2826908851760958E-4
          ],
          "type": "data",
          "visible": true
         },
         "fillcolor": "rgba(0,100,80,0.4)",
         "line": {
          "color": "rgba(0,100,80,0.6)"
         },
         "name": "CKF",
         "x": [
          -10.0,
          -9.591836734693878,
          -9.183673469387756,
          -8.775510204081632,
          -8.36734693877551,
          -7.959183673469388,
          -7.551020408163265,
          -7.142857142857142,
          -6.73469387755102,
          -6.326530612244898,
          -5.918367346938775,
          -5.5102040816326525,
          -5.1020408163265305,
          -4.6938775510204085,
          -4.285714285714286,
          -3.8775510204081627,
          -3.4693877551020407,
          -3.0612244897959187,
          -2.6530612244897958,
          -2.244897959183673,
          -1.8367346938775508,
          -1.4285714285714288,
          -1.020408163265305,
          -0.612244897959183,
          -0.204081632653061,
          0.204081632653061,
          0.612244897959183,
          1.0204081632653068,
          1.4285714285714288,
          1.8367346938775508,
          2.2448979591836746,
          2.6530612244897966,
          3.0612244897959187,
          3.4693877551020407,
          3.8775510204081627,
          4.2857142857142865,
          4.6938775510204085,
          5.1020408163265305,
          5.510204081632654,
          5.918367346938776,
          6.326530612244898,
          6.73469387755102,
          7.142857142857142,
          7.551020408163264,
          7.95918367346939,
          8.367346938775512,
          8.775510204081634,
          9.183673469387756,
          9.591836734693878
         ],
         "y": [
          2.7347061558235567E-5,
          0.0,
          1.0938824623294227E-4,
          1.640823693494134E-4,
          2.7347061558235567E-5,
          1.640823693494134E-4,
          4.375529849317691E-4,
          7.930647851888315E-4,
          0.0011212295238876584,
          0.0021057237399841385,
          0.003855935679711215,
          0.005688188804112998,
          0.00888779500642656,
          0.013153936609511307,
          0.019525801952580194,
          0.02663603795772144,
          0.03336341510104739,
          0.04416550441655044,
          0.05515902316296114,
          0.06341783575354829,
          0.07263379549867367,
          0.07577870757787075,
          0.07944321382667432,
          0.08097464927393551,
          0.07296196023737249,
          0.06853173626493833,
          0.059014958842672355,
          0.05122104629857522,
          0.04077446878332923,
          0.03262504443897503,
          0.024065414171247298,
          0.016189460442475455,
          0.01247026007055542,
          0.008504936144611262,
          0.006180435912161239,
          0.004621653403341811,
          0.003226953263871797,
          0.0021057237399841385,
          0.0021604178631006096,
          0.0013126589547953072,
          8.477589083053026E-4,
          7.930647851888315E-4,
          8.477589083053026E-4,
          8.477589083053026E-4,
          8.751059698635382E-4,
          4.102059233735335E-4,
          6.016353542811825E-4,
          5.74288292722947E-4,
          6.016353542811825E-4
         ],
         "type": "scatter",
         "xaxis": "x",
         "yaxis": "y"
        },
        {
         "error_y": {
          "array": [
           2.7347061558235567E-5,
           0.0,
           5.4694123116471135E-5,
           6.698634678215818E-5,
           2.7347061558235567E-5,
           6.698634678215818E-5,
           1.0938824623294227E-4,
           1.4726843348195103E-4,
           1.751066326861063E-4,
           2.3996949127333723E-4,
           3.247283640177733E-4,
           3.944049307259539E-4,
           4.930061634074424E-4,
           5.997678835961744E-4,
           7.30734772657718E-4,
           8.534737076778098E-4,
           9.551917956940946E-4,
           0.001098998074625215,
           0.0012281845146107485,
           0.0013169250009937381,
           0.001409368964008546,
           0.0014395572169717894,
           0.0014739533435296158,
           0.0014880923084106207,
           0.0014125491913632464,
           0.0013689929182906803,
           0.0012703880164450937,
           0.001183530779576252,
           0.0010559649178936102,
           9.445629140575132E-4,
           8.112449462187943E-4,
           6.653827254407766E-4,
           5.839734324407969E-4,
           4.822706836368419E-4,
           4.111164814825637E-4,
           3.5551180025706236E-4,
           2.970651267864527E-4,
           2.3996949127333723E-4,
           2.4306599987189512E-4,
           1.8946600022631084E-4,
           1.5226199477206282E-4,
           1.4726843348195103E-4,
           1.5226199477206282E-4,
           1.5226199477206282E-4,
           1.546983413868346E-4,
           1.0591471398275541E-4,
           1.2826908851760958E-4,
           1.2531997962523148E-4,
           1.2826908851760958E-4
          ],
          "type": "data",
          "visible": true
         },
         "fillcolor": "rgba(204,40,46,0.4)",
         "line": {
          "color": "rgba(204,40,46,0.6)"
         },
         "name": "GNN",
         "x": [
          -10.0,
          -9.591836734693878,
          -9.183673469387756,
          -8.775510204081632,
          -8.36734693877551,
          -7.959183673469388,
          -7.551020408163265,
          -7.142857142857142,
          -6.73469387755102,
          -6.326530612244898,
          -5.918367346938775,
          -5.5102040816326525,
          -5.1020408163265305,
          -4.6938775510204085,
          -4.285714285714286,
          -3.8775510204081627,
          -3.4693877551020407,
          -3.0612244897959187,
          -2.6530612244897958,
          -2.244897959183673,
          -1.8367346938775508,
          -1.4285714285714288,
          -1.020408163265305,
          -0.612244897959183,
          -0.204081632653061,
          0.204081632653061,
          0.612244897959183,
          1.0204081632653068,
          1.4285714285714288,
          1.8367346938775508,
          2.2448979591836746,
          2.6530612244897966,
          3.0612244897959187,
          3.4693877551020407,
          3.8775510204081627,
          4.2857142857142865,
          4.6938775510204085,
          5.1020408163265305,
          5.510204081632654,
          5.918367346938776,
          6.326530612244898,
          6.73469387755102,
          7.142857142857142,
          7.551020408163264,
          7.95918367346939,
          8.367346938775512,
          8.775510204081634,
          9.183673469387756,
          9.591836734693878
         ],
         "y": [
          3.078817733990148E-4,
          5.747126436781609E-4,
          6.568144499178982E-4,
          7.389162561576355E-4,
          9.236453201970444E-4,
          9.441707717569787E-4,
          0.0011699507389162562,
          0.001293103448275862,
          0.0016009852216748769,
          0.0018472906403940888,
          0.0022988505747126436,
          0.002504105090311987,
          0.0032430213464696225,
          0.004536124794745485,
          0.005151888341543514,
          0.005890804597701149,
          0.008210180623973728,
          0.011022167487684729,
          0.015291461412151068,
          0.027914614121510674,
          0.046777504105090316,
          0.07307060755336618,
          0.10901067323481117,
          0.14827586206896554,
          0.1704433497536946,
          0.13856732348111658,
          0.08852627257799672,
          0.0513752052545156,
          0.022701149425287358,
          0.014880952380952382,
          0.009482758620689655,
          0.006383415435139574,
          0.003961412151067324,
          0.0029761904761904765,
          0.00270935960591133,
          0.0024630541871921183,
          0.0016215106732348113,
          0.0015188834154351396,
          0.0015188834154351396,
          9.0311986863711E-4,
          8.620689655172414E-4,
          7.594417077175698E-4,
          9.0311986863711E-4,
          8.620689655172414E-4,
          6.568144499178982E-4,
          8.004926108374384E-4,
          6.773399014778325E-4,
          6.773399014778325E-4,
          5.13136288998358E-4
         ],
         "type": "scatter",
         "xaxis": "x",
         "yaxis": "y"
        }
       ],
       "layout": {
        "template": {
         "data": {
          "histogram2dcontour": [
           {
            "type": "histogram2dcontour",
            "colorbar": {
             "outlinewidth": 0,
             "ticks": ""
            },
            "colorscale": [
             [
              0.0,
              "#0d0887"
             ],
             [
              0.1111111111111111,
              "#46039f"
             ],
             [
              0.2222222222222222,
              "#7201a8"
             ],
             [
              0.3333333333333333,
              "#9c179e"
             ],
             [
              0.4444444444444444,
              "#bd3786"
             ],
             [
              0.5555555555555556,
              "#d8576b"
             ],
             [
              0.6666666666666666,
              "#ed7953"
             ],
             [
              0.7777777777777778,
              "#fb9f3a"
             ],
             [
              0.8888888888888888,
              "#fdca26"
             ],
             [
              1.0,
              "#f0f921"
             ]
            ]
           }
          ],
          "choropleth": [
           {
            "type": "choropleth",
            "colorbar": {
             "outlinewidth": 0,
             "ticks": ""
            }
           }
          ],
          "histogram2d": [
           {
            "type": "histogram2d",
            "colorbar": {
             "outlinewidth": 0,
             "ticks": ""
            },
            "colorscale": [
             [
              0.0,
              "#0d0887"
             ],
             [
              0.1111111111111111,
              "#46039f"
             ],
             [
              0.2222222222222222,
              "#7201a8"
             ],
             [
              0.3333333333333333,
              "#9c179e"
             ],
             [
              0.4444444444444444,
              "#bd3786"
             ],
             [
              0.5555555555555556,
              "#d8576b"
             ],
             [
              0.6666666666666666,
              "#ed7953"
             ],
             [
              0.7777777777777778,
              "#fb9f3a"
             ],
             [
              0.8888888888888888,
              "#fdca26"
             ],
             [
              1.0,
              "#f0f921"
             ]
            ]
           }
          ],
          "heatmap": [
           {
            "type": "heatmap",
            "colorbar": {
             "outlinewidth": 0,
             "ticks": ""
            },
            "colorscale": [
             [
              0.0,
              "#0d0887"
             ],
             [
              0.1111111111111111,
              "#46039f"
             ],
             [
              0.2222222222222222,
              "#7201a8"
             ],
             [
              0.3333333333333333,
              "#9c179e"
             ],
             [
              0.4444444444444444,
              "#bd3786"
             ],
             [
              0.5555555555555556,
              "#d8576b"
             ],
             [
              0.6666666666666666,
              "#ed7953"
             ],
             [
              0.7777777777777778,
              "#fb9f3a"
             ],
             [
              0.8888888888888888,
              "#fdca26"
             ],
             [
              1.0,
              "#f0f921"
             ]
            ]
           }
          ],
          "heatmapgl": [
           {
            "type": "heatmapgl",
            "colorbar": {
             "outlinewidth": 0,
             "ticks": ""
            },
            "colorscale": [
             [
              0.0,
              "#0d0887"
             ],
             [
              0.1111111111111111,
              "#46039f"
             ],
             [
              0.2222222222222222,
              "#7201a8"
             ],
             [
              0.3333333333333333,
              "#9c179e"
             ],
             [
              0.4444444444444444,
              "#bd3786"
             ],
             [
              0.5555555555555556,
              "#d8576b"
             ],
             [
              0.6666666666666666,
              "#ed7953"
             ],
             [
              0.7777777777777778,
              "#fb9f3a"
             ],
             [
              0.8888888888888888,
              "#fdca26"
             ],
             [
              1.0,
              "#f0f921"
             ]
            ]
           }
          ],
          "contourcarpet": [
           {
            "type": "contourcarpet",
            "colorbar": {
             "outlinewidth": 0,
             "ticks": ""
            }
           }
          ],
          "contour": [
           {
            "type": "contour",
            "colorbar": {
             "outlinewidth": 0,
             "ticks": ""
            },
            "colorscale": [
             [
              0.0,
              "#0d0887"
             ],
             [
              0.1111111111111111,
              "#46039f"
             ],
             [
              0.2222222222222222,
              "#7201a8"
             ],
             [
              0.3333333333333333,
              "#9c179e"
             ],
             [
              0.4444444444444444,
              "#bd3786"
             ],
             [
              0.5555555555555556,
              "#d8576b"
             ],
             [
              0.6666666666666666,
              "#ed7953"
             ],
             [
              0.7777777777777778,
              "#fb9f3a"
             ],
             [
              0.8888888888888888,
              "#fdca26"
             ],
             [
              1.0,
              "#f0f921"
             ]
            ]
           }
          ],
          "surface": [
           {
            "type": "surface",
            "colorbar": {
             "outlinewidth": 0,
             "ticks": ""
            },
            "colorscale": [
             [
              0.0,
              "#0d0887"
             ],
             [
              0.1111111111111111,
              "#46039f"
             ],
             [
              0.2222222222222222,
              "#7201a8"
             ],
             [
              0.3333333333333333,
              "#9c179e"
             ],
             [
              0.4444444444444444,
              "#bd3786"
             ],
             [
              0.5555555555555556,
              "#d8576b"
             ],
             [
              0.6666666666666666,
              "#ed7953"
             ],
             [
              0.7777777777777778,
              "#fb9f3a"
             ],
             [
              0.8888888888888888,
              "#fdca26"
             ],
             [
              1.0,
              "#f0f921"
             ]
            ]
           }
          ],
          "mesh3d": [
           {
            "type": "mesh3d",
            "colorbar": {
             "outlinewidth": 0,
             "ticks": ""
            }
           }
          ],
          "scatter": [
           {
            "fillpattern": {
             "fillmode": "overlay",
             "size": 10,
             "solidity": 0.2
            },
            "type": "scatter"
           }
          ],
          "parcoords": [
           {
            "type": "parcoords",
            "line": {
             "colorbar": {
              "outlinewidth": 0,
              "ticks": ""
             }
            }
           }
          ],
          "scatterpolargl": [
           {
            "type": "scatterpolargl",
            "marker": {
             "colorbar": {
              "outlinewidth": 0,
              "ticks": ""
             }
            }
           }
          ],
          "bar": [
           {
            "error_x": {
             "color": "#2a3f5f"
            },
            "error_y": {
             "color": "#2a3f5f"
            },
            "marker": {
             "line": {
              "color": "#E5ECF6",
              "width": 0.5
             },
             "pattern": {
              "fillmode": "overlay",
              "size": 10,
              "solidity": 0.2
             }
            },
            "type": "bar"
           }
          ],
          "scattergeo": [
           {
            "type": "scattergeo",
            "marker": {
             "colorbar": {
              "outlinewidth": 0,
              "ticks": ""
             }
            }
           }
          ],
          "scatterpolar": [
           {
            "type": "scatterpolar",
            "marker": {
             "colorbar": {
              "outlinewidth": 0,
              "ticks": ""
             }
            }
           }
          ],
          "histogram": [
           {
            "marker": {
             "pattern": {
              "fillmode": "overlay",
              "size": 10,
              "solidity": 0.2
             }
            },
            "type": "histogram"
           }
          ],
          "scattergl": [
           {
            "type": "scattergl",
            "marker": {
             "colorbar": {
              "outlinewidth": 0,
              "ticks": ""
             }
            }
           }
          ],
          "scatter3d": [
           {
            "type": "scatter3d",
            "line": {
             "colorbar": {
              "outlinewidth": 0,
              "ticks": ""
             }
            },
            "marker": {
             "colorbar": {
              "outlinewidth": 0,
              "ticks": ""
             }
            }
           }
          ],
          "scattermapbox": [
           {
            "type": "scattermapbox",
            "marker": {
             "colorbar": {
              "outlinewidth": 0,
              "ticks": ""
             }
            }
           }
          ],
          "scatterternary": [
           {
            "type": "scatterternary",
            "marker": {
             "colorbar": {
              "outlinewidth": 0,
              "ticks": ""
             }
            }
           }
          ],
          "scattercarpet": [
           {
            "type": "scattercarpet",
            "marker": {
             "colorbar": {
              "outlinewidth": 0,
              "ticks": ""
             }
            }
           }
          ],
          "carpet": [
           {
            "aaxis": {
             "endlinecolor": "#2a3f5f",
             "gridcolor": "white",
             "linecolor": "white",
             "minorgridcolor": "white",
             "startlinecolor": "#2a3f5f"
            },
            "baxis": {
             "endlinecolor": "#2a3f5f",
             "gridcolor": "white",
             "linecolor": "white",
             "minorgridcolor": "white",
             "startlinecolor": "#2a3f5f"
            },
            "type": "carpet"
           }
          ],
          "table": [
           {
            "cells": {
             "fill": {
              "color": "#EBF0F8"
             },
             "line": {
              "color": "white"
             }
            },
            "header": {
             "fill": {
              "color": "#C8D4E3"
             },
             "line": {
              "color": "white"
             }
            },
            "type": "table"
           }
          ],
          "barpolar": [
           {
            "marker": {
             "line": {
              "color": "#E5ECF6",
              "width": 0.5
             },
             "pattern": {
              "fillmode": "overlay",
              "size": 10,
              "solidity": 0.2
             }
            },
            "type": "barpolar"
           }
          ],
          "pie": [
           {
            "automargin": true,
            "type": "pie"
           }
          ]
         },
         "layout": {
          "autotypenumbers": "strict",
          "colorway": [
           "#636efa",
           "#EF553B",
           "#00cc96",
           "#ab63fa",
           "#FFA15A",
           "#19d3f3",
           "#FF6692",
           "#B6E880",
           "#FF97FF",
           "#FECB52"
          ],
          "font": {
           "color": "#2a3f5f"
          },
          "hovermode": "closest",
          "hoverlabel": {
           "align": "left"
          },
          "paper_bgcolor": "white",
          "plot_bgcolor": "#E5ECF6",
          "polar": {
           "bgcolor": "#E5ECF6",
           "angularaxis": {
            "gridcolor": "white",
            "linecolor": "white",
            "ticks": ""
           },
           "radialaxis": {
            "gridcolor": "white",
            "linecolor": "white",
            "ticks": ""
           }
          },
          "ternary": {
           "bgcolor": "#E5ECF6",
           "aaxis": {
            "gridcolor": "white",
            "linecolor": "white",
            "ticks": ""
           },
           "baxis": {
            "gridcolor": "white",
            "linecolor": "white",
            "ticks": ""
           },
           "caxis": {
            "gridcolor": "white",
            "linecolor": "white",
            "ticks": ""
           }
          },
          "coloraxis": {
           "colorbar": {
            "outlinewidth": 0,
            "ticks": ""
           }
          },
          "colorscale": {
           "sequential": [
            [
             0.0,
             "#0d0887"
            ],
            [
             0.1111111111111111,
             "#46039f"
            ],
            [
             0.2222222222222222,
             "#7201a8"
            ],
            [
             0.3333333333333333,
             "#9c179e"
            ],
            [
             0.4444444444444444,
             "#bd3786"
            ],
            [
             0.5555555555555556,
             "#d8576b"
            ],
            [
             0.6666666666666666,
             "#ed7953"
            ],
            [
             0.7777777777777778,
             "#fb9f3a"
            ],
            [
             0.8888888888888888,
             "#fdca26"
            ],
            [
             1.0,
             "#f0f921"
            ]
           ],
           "sequentialminus": [
            [
             0.0,
             "#0d0887"
            ],
            [
             0.1111111111111111,
             "#46039f"
            ],
            [
             0.2222222222222222,
             "#7201a8"
            ],
            [
             0.3333333333333333,
             "#9c179e"
            ],
            [
             0.4444444444444444,
             "#bd3786"
            ],
            [
             0.5555555555555556,
             "#d8576b"
            ],
            [
             0.6666666666666666,
             "#ed7953"
            ],
            [
             0.7777777777777778,
             "#fb9f3a"
            ],
            [
             0.8888888888888888,
             "#fdca26"
            ],
            [
             1.0,
             "#f0f921"
            ]
           ],
           "diverging": [
            [
             0,
             "#8e0152"
            ],
            [
             0.1,
             "#c51b7d"
            ],
            [
             0.2,
             "#de77ae"
            ],
            [
             0.3,
             "#f1b6da"
            ],
            [
             0.4,
             "#fde0ef"
            ],
            [
             0.5,
             "#f7f7f7"
            ],
            [
             0.6,
             "#e6f5d0"
            ],
            [
             0.7,
             "#b8e186"
            ],
            [
             0.8,
             "#7fbc41"
            ],
            [
             0.9,
             "#4d9221"
            ],
            [
             1,
             "#276419"
            ]
           ]
          },
          "xaxis": {
           "gridcolor": "white",
           "linecolor": "white",
           "ticks": "",
           "title": {
            "standoff": 15
           },
           "zerolinecolor": "white",
           "automargin": true,
           "zerolinewidth": 2
          },
          "yaxis": {
           "gridcolor": "white",
           "linecolor": "white",
           "ticks": "",
           "title": {
            "standoff": 15
           },
           "zerolinecolor": "white",
           "automargin": true,
           "zerolinewidth": 2
          },
          "scene": {
           "xaxis": {
            "backgroundcolor": "#E5ECF6",
            "gridcolor": "white",
            "linecolor": "white",
            "showbackground": true,
            "ticks": "",
            "zerolinecolor": "white",
            "gridwidth": 2
           },
           "yaxis": {
            "backgroundcolor": "#E5ECF6",
            "gridcolor": "white",
            "linecolor": "white",
            "showbackground": true,
            "ticks": "",
            "zerolinecolor": "white",
            "gridwidth": 2
           },
           "zaxis": {
            "backgroundcolor": "#E5ECF6",
            "gridcolor": "white",
            "linecolor": "white",
            "showbackground": true,
            "ticks": "",
            "zerolinecolor": "white",
            "gridwidth": 2
           }
          },
          "shapedefaults": {
           "line": {
            "color": "#2a3f5f"
           }
          },
          "annotationdefaults": {
           "arrowcolor": "#2a3f5f",
           "arrowhead": 0,
           "arrowwidth": 1
          },
          "geo": {
           "bgcolor": "white",
           "landcolor": "#E5ECF6",
           "subunitcolor": "white",
           "showland": true,
           "showlakes": true,
           "lakecolor": "white"
          },
          "title": {
           "x": 0.05
          },
          "mapbox": {
           "style": "light"
          }
         }
        },
        "xaxis": {
         "anchor": "y",
         "domain": [
          0.0,
          1.0
         ],
         "linecolor": "#666666",
         "gridcolor": "#d9d9d9",
         "zerolinecolor": "rgba(0,0,0,0)",
         "linewidth": 2,
         "showline": true,
         "showgrid": false,
         "mirror": true,
         "title": {
          "text": "${\\sigma_{P_{i}^{e}}~[\\%]}$"
         }
        },
        "yaxis": {
         "anchor": "x",
         "domain": [
          0.0,
          1.0
         ],
         "title": {
          "text": "Counts"
         },
         "linecolor": "#666666",
         "zerolinecolor": "rgba(0,0,0,0)",
         "linewidth": 2,
         "mirror": true,
         "type": "linear",
         "range": [
          0,
          0.2556650246305419
         ]
        },
        "annotations": [
         {
          "font": {
           "family": "Cambria",
           "size": 34
          },
          "showarrow": false,
          "text": "<i><b>DarkSHINE<b><i>",
          "x": 0.05,
          "xref": "paper",
          "y": 0.97,
          "yref": "paper"
         },
         {
          "font": {
           "family": "Cambria",
           "size": 31
          },
          "showarrow": false,
          "text": "Simulation",
          "x": 0.455,
          "xref": "paper",
          "y": 0.9662999999999999,
          "yref": "paper"
         },
         {
          "showarrow": false,
          "text": "$\\Large{E^{e}_{0} = 8~\\text{GeV},~10^{6}~\\text{EOT}}$",
          "x": 0.05,
          "xref": "paper",
          "y": 0.895,
          "yref": "paper"
         },
         {
          "font": {
           "family": "Cambria",
           "size": 20
          },
          "showarrow": false,
          "text": "Resolution: Tagging Region",
          "x": 0.05,
          "xref": "paper",
          "y": 0.833,
          "yref": "paper"
         }
        ],
        "legend": {
         "font": {
          "size": 14
         },
         "orientation": "v",
         "yanchor": "top",
         "y": 0.99,
         "xanchor": "right",
         "x": 0.98
        },
        "width": 800,
        "height": 800,
        "paper_bgcolor": "rgba(0,0,0,0)",
        "plot_bgcolor": "rgba(0,0,0,0)"
       },
       "config": {
        "plotlyServerURL": "https://plot.ly"
       }
      },
      "text/html": "<div>                            <div id=\"a07b109d-2b06-4647-9aae-ae1c7fed1aa6\" class=\"plotly-graph-div\" style=\"height:800px; width:800px;\"></div>            <script type=\"text/javascript\">                require([\"plotly\"], function(Plotly) {                    window.PLOTLYENV=window.PLOTLYENV || {};                                    if (document.getElementById(\"a07b109d-2b06-4647-9aae-ae1c7fed1aa6\")) {                    Plotly.newPlot(                        \"a07b109d-2b06-4647-9aae-ae1c7fed1aa6\",                        [{\"error_y\":{\"array\":[2.7347061558235567e-05,0.0,5.4694123116471135e-05,6.698634678215818e-05,2.7347061558235567e-05,6.698634678215818e-05,0.00010938824623294227,0.00014726843348195103,0.0001751066326861063,0.00023996949127333723,0.0003247283640177733,0.0003944049307259539,0.0004930061634074424,0.0005997678835961744,0.000730734772657718,0.0008534737076778098,0.0009551917956940946,0.001098998074625215,0.0012281845146107485,0.0013169250009937381,0.001409368964008546,0.0014395572169717894,0.0014739533435296158,0.0014880923084106207,0.0014125491913632464,0.0013689929182906803,0.0012703880164450937,0.001183530779576252,0.0010559649178936102,0.0009445629140575132,0.0008112449462187943,0.0006653827254407766,0.0005839734324407969,0.0004822706836368419,0.0004111164814825637,0.00035551180025706236,0.0002970651267864527,0.00023996949127333723,0.00024306599987189512,0.00018946600022631084,0.00015226199477206282,0.00014726843348195103,0.00015226199477206282,0.00015226199477206282,0.0001546983413868346,0.00010591471398275541,0.00012826908851760958,0.00012531997962523148,0.00012826908851760958],\"type\":\"data\",\"visible\":true},\"fillcolor\":\"rgba(0,100,80,0.4)\",\"line\":{\"color\":\"rgba(0,100,80,0.6)\"},\"name\":\"CKF\",\"x\":[-10.0,-9.591836734693878,-9.183673469387756,-8.775510204081632,-8.36734693877551,-7.959183673469388,-7.551020408163265,-7.142857142857142,-6.73469387755102,-6.326530612244898,-5.918367346938775,-5.5102040816326525,-5.1020408163265305,-4.6938775510204085,-4.285714285714286,-3.8775510204081627,-3.4693877551020407,-3.0612244897959187,-2.6530612244897958,-2.244897959183673,-1.8367346938775508,-1.4285714285714288,-1.020408163265305,-0.612244897959183,-0.204081632653061,0.204081632653061,0.612244897959183,1.0204081632653068,1.4285714285714288,1.8367346938775508,2.2448979591836746,2.6530612244897966,3.0612244897959187,3.4693877551020407,3.8775510204081627,4.2857142857142865,4.6938775510204085,5.1020408163265305,5.510204081632654,5.918367346938776,6.326530612244898,6.73469387755102,7.142857142857142,7.551020408163264,7.95918367346939,8.367346938775512,8.775510204081634,9.183673469387756,9.591836734693878],\"y\":[2.7347061558235567e-05,0.0,0.00010938824623294227,0.0001640823693494134,2.7347061558235567e-05,0.0001640823693494134,0.0004375529849317691,0.0007930647851888315,0.0011212295238876584,0.0021057237399841385,0.003855935679711215,0.005688188804112998,0.00888779500642656,0.013153936609511307,0.019525801952580194,0.02663603795772144,0.03336341510104739,0.04416550441655044,0.05515902316296114,0.06341783575354829,0.07263379549867367,0.07577870757787075,0.07944321382667432,0.08097464927393551,0.07296196023737249,0.06853173626493833,0.059014958842672355,0.05122104629857522,0.04077446878332923,0.03262504443897503,0.024065414171247298,0.016189460442475455,0.01247026007055542,0.008504936144611262,0.006180435912161239,0.004621653403341811,0.003226953263871797,0.0021057237399841385,0.0021604178631006096,0.0013126589547953072,0.0008477589083053026,0.0007930647851888315,0.0008477589083053026,0.0008477589083053026,0.0008751059698635382,0.0004102059233735335,0.0006016353542811825,0.000574288292722947,0.0006016353542811825],\"type\":\"scatter\",\"xaxis\":\"x\",\"yaxis\":\"y\"},{\"error_y\":{\"array\":[2.7347061558235567e-05,0.0,5.4694123116471135e-05,6.698634678215818e-05,2.7347061558235567e-05,6.698634678215818e-05,0.00010938824623294227,0.00014726843348195103,0.0001751066326861063,0.00023996949127333723,0.0003247283640177733,0.0003944049307259539,0.0004930061634074424,0.0005997678835961744,0.000730734772657718,0.0008534737076778098,0.0009551917956940946,0.001098998074625215,0.0012281845146107485,0.0013169250009937381,0.001409368964008546,0.0014395572169717894,0.0014739533435296158,0.0014880923084106207,0.0014125491913632464,0.0013689929182906803,0.0012703880164450937,0.001183530779576252,0.0010559649178936102,0.0009445629140575132,0.0008112449462187943,0.0006653827254407766,0.0005839734324407969,0.0004822706836368419,0.0004111164814825637,0.00035551180025706236,0.0002970651267864527,0.00023996949127333723,0.00024306599987189512,0.00018946600022631084,0.00015226199477206282,0.00014726843348195103,0.00015226199477206282,0.00015226199477206282,0.0001546983413868346,0.00010591471398275541,0.00012826908851760958,0.00012531997962523148,0.00012826908851760958],\"type\":\"data\",\"visible\":true},\"fillcolor\":\"rgba(204,40,46,0.4)\",\"line\":{\"color\":\"rgba(204,40,46,0.6)\"},\"name\":\"GNN\",\"x\":[-10.0,-9.591836734693878,-9.183673469387756,-8.775510204081632,-8.36734693877551,-7.959183673469388,-7.551020408163265,-7.142857142857142,-6.73469387755102,-6.326530612244898,-5.918367346938775,-5.5102040816326525,-5.1020408163265305,-4.6938775510204085,-4.285714285714286,-3.8775510204081627,-3.4693877551020407,-3.0612244897959187,-2.6530612244897958,-2.244897959183673,-1.8367346938775508,-1.4285714285714288,-1.020408163265305,-0.612244897959183,-0.204081632653061,0.204081632653061,0.612244897959183,1.0204081632653068,1.4285714285714288,1.8367346938775508,2.2448979591836746,2.6530612244897966,3.0612244897959187,3.4693877551020407,3.8775510204081627,4.2857142857142865,4.6938775510204085,5.1020408163265305,5.510204081632654,5.918367346938776,6.326530612244898,6.73469387755102,7.142857142857142,7.551020408163264,7.95918367346939,8.367346938775512,8.775510204081634,9.183673469387756,9.591836734693878],\"y\":[0.0003078817733990148,0.0005747126436781609,0.0006568144499178982,0.0007389162561576355,0.0009236453201970444,0.0009441707717569787,0.0011699507389162562,0.001293103448275862,0.0016009852216748769,0.0018472906403940888,0.0022988505747126436,0.002504105090311987,0.0032430213464696225,0.004536124794745485,0.005151888341543514,0.005890804597701149,0.008210180623973728,0.011022167487684729,0.015291461412151068,0.027914614121510674,0.046777504105090316,0.07307060755336618,0.10901067323481117,0.14827586206896554,0.1704433497536946,0.13856732348111658,0.08852627257799672,0.0513752052545156,0.022701149425287358,0.014880952380952382,0.009482758620689655,0.006383415435139574,0.003961412151067324,0.0029761904761904765,0.00270935960591133,0.0024630541871921183,0.0016215106732348113,0.0015188834154351396,0.0015188834154351396,0.00090311986863711,0.0008620689655172414,0.0007594417077175698,0.00090311986863711,0.0008620689655172414,0.0006568144499178982,0.0008004926108374384,0.0006773399014778325,0.0006773399014778325,0.000513136288998358],\"type\":\"scatter\",\"xaxis\":\"x\",\"yaxis\":\"y\"}],                        {\"template\":{\"data\":{\"histogram2dcontour\":[{\"type\":\"histogram2dcontour\",\"colorbar\":{\"outlinewidth\":0,\"ticks\":\"\"},\"colorscale\":[[0.0,\"#0d0887\"],[0.1111111111111111,\"#46039f\"],[0.2222222222222222,\"#7201a8\"],[0.3333333333333333,\"#9c179e\"],[0.4444444444444444,\"#bd3786\"],[0.5555555555555556,\"#d8576b\"],[0.6666666666666666,\"#ed7953\"],[0.7777777777777778,\"#fb9f3a\"],[0.8888888888888888,\"#fdca26\"],[1.0,\"#f0f921\"]]}],\"choropleth\":[{\"type\":\"choropleth\",\"colorbar\":{\"outlinewidth\":0,\"ticks\":\"\"}}],\"histogram2d\":[{\"type\":\"histogram2d\",\"colorbar\":{\"outlinewidth\":0,\"ticks\":\"\"},\"colorscale\":[[0.0,\"#0d0887\"],[0.1111111111111111,\"#46039f\"],[0.2222222222222222,\"#7201a8\"],[0.3333333333333333,\"#9c179e\"],[0.4444444444444444,\"#bd3786\"],[0.5555555555555556,\"#d8576b\"],[0.6666666666666666,\"#ed7953\"],[0.7777777777777778,\"#fb9f3a\"],[0.8888888888888888,\"#fdca26\"],[1.0,\"#f0f921\"]]}],\"heatmap\":[{\"type\":\"heatmap\",\"colorbar\":{\"outlinewidth\":0,\"ticks\":\"\"},\"colorscale\":[[0.0,\"#0d0887\"],[0.1111111111111111,\"#46039f\"],[0.2222222222222222,\"#7201a8\"],[0.3333333333333333,\"#9c179e\"],[0.4444444444444444,\"#bd3786\"],[0.5555555555555556,\"#d8576b\"],[0.6666666666666666,\"#ed7953\"],[0.7777777777777778,\"#fb9f3a\"],[0.8888888888888888,\"#fdca26\"],[1.0,\"#f0f921\"]]}],\"heatmapgl\":[{\"type\":\"heatmapgl\",\"colorbar\":{\"outlinewidth\":0,\"ticks\":\"\"},\"colorscale\":[[0.0,\"#0d0887\"],[0.1111111111111111,\"#46039f\"],[0.2222222222222222,\"#7201a8\"],[0.3333333333333333,\"#9c179e\"],[0.4444444444444444,\"#bd3786\"],[0.5555555555555556,\"#d8576b\"],[0.6666666666666666,\"#ed7953\"],[0.7777777777777778,\"#fb9f3a\"],[0.8888888888888888,\"#fdca26\"],[1.0,\"#f0f921\"]]}],\"contourcarpet\":[{\"type\":\"contourcarpet\",\"colorbar\":{\"outlinewidth\":0,\"ticks\":\"\"}}],\"contour\":[{\"type\":\"contour\",\"colorbar\":{\"outlinewidth\":0,\"ticks\":\"\"},\"colorscale\":[[0.0,\"#0d0887\"],[0.1111111111111111,\"#46039f\"],[0.2222222222222222,\"#7201a8\"],[0.3333333333333333,\"#9c179e\"],[0.4444444444444444,\"#bd3786\"],[0.5555555555555556,\"#d8576b\"],[0.6666666666666666,\"#ed7953\"],[0.7777777777777778,\"#fb9f3a\"],[0.8888888888888888,\"#fdca26\"],[1.0,\"#f0f921\"]]}],\"surface\":[{\"type\":\"surface\",\"colorbar\":{\"outlinewidth\":0,\"ticks\":\"\"},\"colorscale\":[[0.0,\"#0d0887\"],[0.1111111111111111,\"#46039f\"],[0.2222222222222222,\"#7201a8\"],[0.3333333333333333,\"#9c179e\"],[0.4444444444444444,\"#bd3786\"],[0.5555555555555556,\"#d8576b\"],[0.6666666666666666,\"#ed7953\"],[0.7777777777777778,\"#fb9f3a\"],[0.8888888888888888,\"#fdca26\"],[1.0,\"#f0f921\"]]}],\"mesh3d\":[{\"type\":\"mesh3d\",\"colorbar\":{\"outlinewidth\":0,\"ticks\":\"\"}}],\"scatter\":[{\"fillpattern\":{\"fillmode\":\"overlay\",\"size\":10,\"solidity\":0.2},\"type\":\"scatter\"}],\"parcoords\":[{\"type\":\"parcoords\",\"line\":{\"colorbar\":{\"outlinewidth\":0,\"ticks\":\"\"}}}],\"scatterpolargl\":[{\"type\":\"scatterpolargl\",\"marker\":{\"colorbar\":{\"outlinewidth\":0,\"ticks\":\"\"}}}],\"bar\":[{\"error_x\":{\"color\":\"#2a3f5f\"},\"error_y\":{\"color\":\"#2a3f5f\"},\"marker\":{\"line\":{\"color\":\"#E5ECF6\",\"width\":0.5},\"pattern\":{\"fillmode\":\"overlay\",\"size\":10,\"solidity\":0.2}},\"type\":\"bar\"}],\"scattergeo\":[{\"type\":\"scattergeo\",\"marker\":{\"colorbar\":{\"outlinewidth\":0,\"ticks\":\"\"}}}],\"scatterpolar\":[{\"type\":\"scatterpolar\",\"marker\":{\"colorbar\":{\"outlinewidth\":0,\"ticks\":\"\"}}}],\"histogram\":[{\"marker\":{\"pattern\":{\"fillmode\":\"overlay\",\"size\":10,\"solidity\":0.2}},\"type\":\"histogram\"}],\"scattergl\":[{\"type\":\"scattergl\",\"marker\":{\"colorbar\":{\"outlinewidth\":0,\"ticks\":\"\"}}}],\"scatter3d\":[{\"type\":\"scatter3d\",\"line\":{\"colorbar\":{\"outlinewidth\":0,\"ticks\":\"\"}},\"marker\":{\"colorbar\":{\"outlinewidth\":0,\"ticks\":\"\"}}}],\"scattermapbox\":[{\"type\":\"scattermapbox\",\"marker\":{\"colorbar\":{\"outlinewidth\":0,\"ticks\":\"\"}}}],\"scatterternary\":[{\"type\":\"scatterternary\",\"marker\":{\"colorbar\":{\"outlinewidth\":0,\"ticks\":\"\"}}}],\"scattercarpet\":[{\"type\":\"scattercarpet\",\"marker\":{\"colorbar\":{\"outlinewidth\":0,\"ticks\":\"\"}}}],\"carpet\":[{\"aaxis\":{\"endlinecolor\":\"#2a3f5f\",\"gridcolor\":\"white\",\"linecolor\":\"white\",\"minorgridcolor\":\"white\",\"startlinecolor\":\"#2a3f5f\"},\"baxis\":{\"endlinecolor\":\"#2a3f5f\",\"gridcolor\":\"white\",\"linecolor\":\"white\",\"minorgridcolor\":\"white\",\"startlinecolor\":\"#2a3f5f\"},\"type\":\"carpet\"}],\"table\":[{\"cells\":{\"fill\":{\"color\":\"#EBF0F8\"},\"line\":{\"color\":\"white\"}},\"header\":{\"fill\":{\"color\":\"#C8D4E3\"},\"line\":{\"color\":\"white\"}},\"type\":\"table\"}],\"barpolar\":[{\"marker\":{\"line\":{\"color\":\"#E5ECF6\",\"width\":0.5},\"pattern\":{\"fillmode\":\"overlay\",\"size\":10,\"solidity\":0.2}},\"type\":\"barpolar\"}],\"pie\":[{\"automargin\":true,\"type\":\"pie\"}]},\"layout\":{\"autotypenumbers\":\"strict\",\"colorway\":[\"#636efa\",\"#EF553B\",\"#00cc96\",\"#ab63fa\",\"#FFA15A\",\"#19d3f3\",\"#FF6692\",\"#B6E880\",\"#FF97FF\",\"#FECB52\"],\"font\":{\"color\":\"#2a3f5f\"},\"hovermode\":\"closest\",\"hoverlabel\":{\"align\":\"left\"},\"paper_bgcolor\":\"white\",\"plot_bgcolor\":\"#E5ECF6\",\"polar\":{\"bgcolor\":\"#E5ECF6\",\"angularaxis\":{\"gridcolor\":\"white\",\"linecolor\":\"white\",\"ticks\":\"\"},\"radialaxis\":{\"gridcolor\":\"white\",\"linecolor\":\"white\",\"ticks\":\"\"}},\"ternary\":{\"bgcolor\":\"#E5ECF6\",\"aaxis\":{\"gridcolor\":\"white\",\"linecolor\":\"white\",\"ticks\":\"\"},\"baxis\":{\"gridcolor\":\"white\",\"linecolor\":\"white\",\"ticks\":\"\"},\"caxis\":{\"gridcolor\":\"white\",\"linecolor\":\"white\",\"ticks\":\"\"}},\"coloraxis\":{\"colorbar\":{\"outlinewidth\":0,\"ticks\":\"\"}},\"colorscale\":{\"sequential\":[[0.0,\"#0d0887\"],[0.1111111111111111,\"#46039f\"],[0.2222222222222222,\"#7201a8\"],[0.3333333333333333,\"#9c179e\"],[0.4444444444444444,\"#bd3786\"],[0.5555555555555556,\"#d8576b\"],[0.6666666666666666,\"#ed7953\"],[0.7777777777777778,\"#fb9f3a\"],[0.8888888888888888,\"#fdca26\"],[1.0,\"#f0f921\"]],\"sequentialminus\":[[0.0,\"#0d0887\"],[0.1111111111111111,\"#46039f\"],[0.2222222222222222,\"#7201a8\"],[0.3333333333333333,\"#9c179e\"],[0.4444444444444444,\"#bd3786\"],[0.5555555555555556,\"#d8576b\"],[0.6666666666666666,\"#ed7953\"],[0.7777777777777778,\"#fb9f3a\"],[0.8888888888888888,\"#fdca26\"],[1.0,\"#f0f921\"]],\"diverging\":[[0,\"#8e0152\"],[0.1,\"#c51b7d\"],[0.2,\"#de77ae\"],[0.3,\"#f1b6da\"],[0.4,\"#fde0ef\"],[0.5,\"#f7f7f7\"],[0.6,\"#e6f5d0\"],[0.7,\"#b8e186\"],[0.8,\"#7fbc41\"],[0.9,\"#4d9221\"],[1,\"#276419\"]]},\"xaxis\":{\"gridcolor\":\"white\",\"linecolor\":\"white\",\"ticks\":\"\",\"title\":{\"standoff\":15},\"zerolinecolor\":\"white\",\"automargin\":true,\"zerolinewidth\":2},\"yaxis\":{\"gridcolor\":\"white\",\"linecolor\":\"white\",\"ticks\":\"\",\"title\":{\"standoff\":15},\"zerolinecolor\":\"white\",\"automargin\":true,\"zerolinewidth\":2},\"scene\":{\"xaxis\":{\"backgroundcolor\":\"#E5ECF6\",\"gridcolor\":\"white\",\"linecolor\":\"white\",\"showbackground\":true,\"ticks\":\"\",\"zerolinecolor\":\"white\",\"gridwidth\":2},\"yaxis\":{\"backgroundcolor\":\"#E5ECF6\",\"gridcolor\":\"white\",\"linecolor\":\"white\",\"showbackground\":true,\"ticks\":\"\",\"zerolinecolor\":\"white\",\"gridwidth\":2},\"zaxis\":{\"backgroundcolor\":\"#E5ECF6\",\"gridcolor\":\"white\",\"linecolor\":\"white\",\"showbackground\":true,\"ticks\":\"\",\"zerolinecolor\":\"white\",\"gridwidth\":2}},\"shapedefaults\":{\"line\":{\"color\":\"#2a3f5f\"}},\"annotationdefaults\":{\"arrowcolor\":\"#2a3f5f\",\"arrowhead\":0,\"arrowwidth\":1},\"geo\":{\"bgcolor\":\"white\",\"landcolor\":\"#E5ECF6\",\"subunitcolor\":\"white\",\"showland\":true,\"showlakes\":true,\"lakecolor\":\"white\"},\"title\":{\"x\":0.05},\"mapbox\":{\"style\":\"light\"}}},\"xaxis\":{\"anchor\":\"y\",\"domain\":[0.0,1.0],\"linecolor\":\"#666666\",\"gridcolor\":\"#d9d9d9\",\"zerolinecolor\":\"rgba(0,0,0,0)\",\"linewidth\":2,\"showline\":true,\"showgrid\":false,\"mirror\":true,\"title\":{\"text\":\"${\\\\sigma_{P_{i}^{e}}~[\\\\%]}$\"}},\"yaxis\":{\"anchor\":\"x\",\"domain\":[0.0,1.0],\"title\":{\"text\":\"Counts\"},\"linecolor\":\"#666666\",\"zerolinecolor\":\"rgba(0,0,0,0)\",\"linewidth\":2,\"mirror\":true,\"type\":\"linear\",\"range\":[0,0.2556650246305419]},\"annotations\":[{\"font\":{\"family\":\"Cambria\",\"size\":34},\"showarrow\":false,\"text\":\"<i><b>DarkSHINE<b><i>\",\"x\":0.05,\"xref\":\"paper\",\"y\":0.97,\"yref\":\"paper\"},{\"font\":{\"family\":\"Cambria\",\"size\":31},\"showarrow\":false,\"text\":\"Simulation\",\"x\":0.455,\"xref\":\"paper\",\"y\":0.9662999999999999,\"yref\":\"paper\"},{\"showarrow\":false,\"text\":\"$\\\\Large{E^{e}_{0} = 8~\\\\text{GeV},~10^{6}~\\\\text{EOT}}$\",\"x\":0.05,\"xref\":\"paper\",\"y\":0.895,\"yref\":\"paper\"},{\"font\":{\"family\":\"Cambria\",\"size\":20},\"showarrow\":false,\"text\":\"Resolution: Tagging Region\",\"x\":0.05,\"xref\":\"paper\",\"y\":0.833,\"yref\":\"paper\"}],\"legend\":{\"font\":{\"size\":14},\"orientation\":\"v\",\"yanchor\":\"top\",\"y\":0.99,\"xanchor\":\"right\",\"x\":0.98},\"width\":800,\"height\":800,\"paper_bgcolor\":\"rgba(0,0,0,0)\",\"plot_bgcolor\":\"rgba(0,0,0,0)\"},                        {\"responsive\": true}                    ).then(function(){\n                            \nvar gd = document.getElementById('a07b109d-2b06-4647-9aae-ae1c7fed1aa6');\nvar x = new MutationObserver(function (mutations, observer) {{\n        var display = window.getComputedStyle(gd).display;\n        if (!display || display === 'none') {{\n            console.log([gd, 'removed!']);\n            Plotly.purge(gd);\n            observer.disconnect();\n        }}\n}});\n\n// Listen for the removal of the full notebook cells\nvar notebookContainer = gd.closest('#notebook-container');\nif (notebookContainer) {{\n    x.observe(notebookContainer, {childList: true});\n}}\n\n// Listen for the clearing of the current output cell\nvar outputEl = gd.closest('.output');\nif (outputEl) {{\n    x.observe(outputEl, {childList: true});\n}}\n\n                        })                };                });            </script>        </div>"
     },
     "metadata": {},
     "output_type": "display_data"
    },
    {
     "data": {
      "application/vnd.plotly.v1+json": {
       "data": [
        {
         "error_y": {
          "array": [
           1.1032568996460381E-4,
           9.447727646646915E-5,
           1.241674674132082E-4,
           1.1745066587715881E-4,
           1.0658474253735767E-4,
           1.0658474253735767E-4,
           1.2085573813186967E-4,
           1.5340164669233738E-4,
           1.241674674132082E-4,
           1.1745066587715881E-4,
           1.7789482975070212E-4,
           1.8461018938635123E-4,
           2.2065137992920763E-4,
           2.515812809094957E-4,
           2.7322783212150513E-4,
           3.322006491864578E-4,
           3.9981965097901146E-4,
           4.925684792989768E-4,
           5.494175052552602E-4,
           6.625667767903721E-4,
           7.295968366253067E-4,
           7.873678940940181E-4,
           8.630826040474642E-4,
           9.482020781708154E-4,
           0.0010274712318399904,
           0.001094765922266095,
           0.0011693135309371195,
           0.0012235710921472457,
           0.0012598401588090574,
           0.0012540299503236085,
           0.001282501545020986,
           0.001290700556525759,
           0.0012364355171178296,
           0.0012189199769454303,
           0.0011637486520903286,
           0.0011240233389516513,
           0.0010239111668201924,
           9.596855449607187E-4,
           9.490574703864226E-4,
           8.644917194413057E-4,
           8.021722170818244E-4,
           7.356884529351919E-4,
           6.8068953968657E-4,
           6.096263939334196E-4,
           5.767969443474316E-4,
           5.229329084371405E-4,
           4.90091170320047E-4,
           4.394601515607894E-4,
           3.8111631278335426E-4
          ],
          "type": "data",
          "visible": true
         },
         "fillcolor": "rgba(0,100,80,0.4)",
         "line": {
          "color": "rgba(0,100,80,0.6)"
         },
         "name": "CKF",
         "x": [
          -25.0,
          -23.979591836734695,
          -22.959183673469386,
          -21.93877551020408,
          -20.918367346938776,
          -19.89795918367347,
          -18.877551020408163,
          -17.857142857142858,
          -16.836734693877553,
          -15.816326530612244,
          -14.795918367346939,
          -13.775510204081632,
          -12.755102040816325,
          -11.73469387755102,
          -10.714285714285714,
          -9.693877551020408,
          -8.673469387755102,
          -7.653061224489797,
          -6.632653061224488,
          -5.612244897959183,
          -4.591836734693878,
          -3.5714285714285694,
          -2.5510204081632644,
          -1.5306122448979593,
          -0.5102040816326507,
          0.5102040816326543,
          1.5306122448979593,
          2.5510204081632644,
          3.571428571428573,
          4.591836734693878,
          5.612244897959183,
          6.632653061224492,
          7.653061224489797,
          8.673469387755105,
          9.693877551020407,
          10.714285714285715,
          11.734693877551024,
          12.755102040816325,
          13.775510204081634,
          14.795918367346943,
          15.816326530612244,
          16.836734693877553,
          17.85714285714286,
          18.877551020408163,
          19.89795918367347,
          20.91836734693878,
          21.93877551020408,
          22.95918367346939,
          23.9795918367347
         ],
         "y": [
          4.2728955989175326E-4,
          3.133456772539524E-4,
          5.412334425295541E-4,
          4.8426150121065375E-4,
          3.9880358923230307E-4,
          3.9880358923230307E-4,
          5.12747471870104E-4,
          8.260931491240564E-4,
          5.412334425295541E-4,
          4.8426150121065375E-4,
          0.0011109528557185586,
          0.0011964107676969093,
          0.001709158239567013,
          0.0022219057114371173,
          0.00262070930066942,
          0.00387409200968523,
          0.005611736219911693,
          0.008517305227175616,
          0.010596781085315482,
          0.015410910126762569,
          0.018686796752599343,
          0.021763281583819967,
          0.0261501210653753,
          0.03156245549067084,
          0.03706024782794474,
          0.04207377866400797,
          0.04799886056117362,
          0.052556615866685655,
          0.05571855860988463,
          0.055205811138014524,
          0.05774106252670559,
          0.0584816977638513,
          0.05366756872240421,
          0.05215781227745335,
          0.04754308503062241,
          0.044352656316763994,
          0.036803874092009685,
          0.032331576698476,
          0.03161942743198974,
          0.026235578977353652,
          0.022589374732944024,
          0.019000142429853296,
          0.016265489246546076,
          0.0130465745620282,
          0.01167924797037459,
          0.009599772112234724,
          0.008431847315197265,
          0.006779661016949152,
          0.005098988748041589
         ],
         "type": "scatter",
         "xaxis": "x",
         "yaxis": "y"
        },
        {
         "error_y": {
          "array": [
           1.1032568996460381E-4,
           9.447727646646915E-5,
           1.241674674132082E-4,
           1.1745066587715881E-4,
           1.0658474253735767E-4,
           1.0658474253735767E-4,
           1.2085573813186967E-4,
           1.5340164669233738E-4,
           1.241674674132082E-4,
           1.1745066587715881E-4,
           1.7789482975070212E-4,
           1.8461018938635123E-4,
           2.2065137992920763E-4,
           2.515812809094957E-4,
           2.7322783212150513E-4,
           3.322006491864578E-4,
           3.9981965097901146E-4,
           4.925684792989768E-4,
           5.494175052552602E-4,
           6.625667767903721E-4,
           7.295968366253067E-4,
           7.873678940940181E-4,
           8.630826040474642E-4,
           9.482020781708154E-4,
           0.0010274712318399904,
           0.001094765922266095,
           0.0011693135309371195,
           0.0012235710921472457,
           0.0012598401588090574,
           0.0012540299503236085,
           0.001282501545020986,
           0.001290700556525759,
           0.0012364355171178296,
           0.0012189199769454303,
           0.0011637486520903286,
           0.0011240233389516513,
           0.0010239111668201924,
           9.596855449607187E-4,
           9.490574703864226E-4,
           8.644917194413057E-4,
           8.021722170818244E-4,
           7.356884529351919E-4,
           6.8068953968657E-4,
           6.096263939334196E-4,
           5.767969443474316E-4,
           5.229329084371405E-4,
           4.90091170320047E-4,
           4.394601515607894E-4,
           3.8111631278335426E-4
          ],
          "type": "data",
          "visible": true
         },
         "fillcolor": "rgba(204,40,46,0.4)",
         "line": {
          "color": "rgba(204,40,46,0.6)"
         },
         "name": "GNN",
         "x": [
          -25.0,
          -23.979591836734695,
          -22.959183673469386,
          -21.93877551020408,
          -20.918367346938776,
          -19.89795918367347,
          -18.877551020408163,
          -17.857142857142858,
          -16.836734693877553,
          -15.816326530612244,
          -14.795918367346939,
          -13.775510204081632,
          -12.755102040816325,
          -11.73469387755102,
          -10.714285714285714,
          -9.693877551020408,
          -8.673469387755102,
          -7.653061224489797,
          -6.632653061224488,
          -5.612244897959183,
          -4.591836734693878,
          -3.5714285714285694,
          -2.5510204081632644,
          -1.5306122448979593,
          -0.5102040816326507,
          0.5102040816326543,
          1.5306122448979593,
          2.5510204081632644,
          3.571428571428573,
          4.591836734693878,
          5.612244897959183,
          6.632653061224492,
          7.653061224489797,
          8.673469387755105,
          9.693877551020407,
          10.714285714285715,
          11.734693877551024,
          12.755102040816325,
          13.775510204081634,
          14.795918367346943,
          15.816326530612244,
          16.836734693877553,
          17.85714285714286,
          18.877551020408163,
          19.89795918367347,
          20.91836734693878,
          21.93877551020408,
          22.95918367346939,
          23.9795918367347
         ],
         "y": [
          0.0010399005312535323,
          0.0010399005312535323,
          0.0013563919972872161,
          0.0011981462642703742,
          0.0013111789307109756,
          0.0014016050638634566,
          0.001265965864134735,
          0.0014016050638634566,
          0.001944161862778343,
          0.0018311291963377418,
          0.002464112128405109,
          0.002599751328133831,
          0.0032779473267774387,
          0.00339097999321804,
          0.004476093591047813,
          0.00504125692325082,
          0.006555894653554877,
          0.008906974115519386,
          0.012275347575449305,
          0.016751441166497117,
          0.02360122075279756,
          0.03406804566519724,
          0.04638860630722279,
          0.06011077201311179,
          0.07335820051995026,
          0.08552051542895897,
          0.08992878942014243,
          0.08479710636373912,
          0.07496326438340681,
          0.06417994800497344,
          0.04887532496891602,
          0.038476319656380695,
          0.028981575675370182,
          0.023171696620323274,
          0.019712897027240873,
          0.016683621566632757,
          0.013948231038770206,
          0.011145020911043291,
          0.010602464112128406,
          0.01024075957951848,
          0.009449530914434272,
          0.008387023849892618,
          0.007889680117553973,
          0.006555894653554877,
          0.007414942918503448,
          0.005990731321351871,
          0.005742059455182548,
          0.0056064202554538265,
          0.0046795523906408955
         ],
         "type": "scatter",
         "xaxis": "x",
         "yaxis": "y"
        }
       ],
       "layout": {
        "template": {
         "data": {
          "histogram2dcontour": [
           {
            "type": "histogram2dcontour",
            "colorbar": {
             "outlinewidth": 0,
             "ticks": ""
            },
            "colorscale": [
             [
              0.0,
              "#0d0887"
             ],
             [
              0.1111111111111111,
              "#46039f"
             ],
             [
              0.2222222222222222,
              "#7201a8"
             ],
             [
              0.3333333333333333,
              "#9c179e"
             ],
             [
              0.4444444444444444,
              "#bd3786"
             ],
             [
              0.5555555555555556,
              "#d8576b"
             ],
             [
              0.6666666666666666,
              "#ed7953"
             ],
             [
              0.7777777777777778,
              "#fb9f3a"
             ],
             [
              0.8888888888888888,
              "#fdca26"
             ],
             [
              1.0,
              "#f0f921"
             ]
            ]
           }
          ],
          "choropleth": [
           {
            "type": "choropleth",
            "colorbar": {
             "outlinewidth": 0,
             "ticks": ""
            }
           }
          ],
          "histogram2d": [
           {
            "type": "histogram2d",
            "colorbar": {
             "outlinewidth": 0,
             "ticks": ""
            },
            "colorscale": [
             [
              0.0,
              "#0d0887"
             ],
             [
              0.1111111111111111,
              "#46039f"
             ],
             [
              0.2222222222222222,
              "#7201a8"
             ],
             [
              0.3333333333333333,
              "#9c179e"
             ],
             [
              0.4444444444444444,
              "#bd3786"
             ],
             [
              0.5555555555555556,
              "#d8576b"
             ],
             [
              0.6666666666666666,
              "#ed7953"
             ],
             [
              0.7777777777777778,
              "#fb9f3a"
             ],
             [
              0.8888888888888888,
              "#fdca26"
             ],
             [
              1.0,
              "#f0f921"
             ]
            ]
           }
          ],
          "heatmap": [
           {
            "type": "heatmap",
            "colorbar": {
             "outlinewidth": 0,
             "ticks": ""
            },
            "colorscale": [
             [
              0.0,
              "#0d0887"
             ],
             [
              0.1111111111111111,
              "#46039f"
             ],
             [
              0.2222222222222222,
              "#7201a8"
             ],
             [
              0.3333333333333333,
              "#9c179e"
             ],
             [
              0.4444444444444444,
              "#bd3786"
             ],
             [
              0.5555555555555556,
              "#d8576b"
             ],
             [
              0.6666666666666666,
              "#ed7953"
             ],
             [
              0.7777777777777778,
              "#fb9f3a"
             ],
             [
              0.8888888888888888,
              "#fdca26"
             ],
             [
              1.0,
              "#f0f921"
             ]
            ]
           }
          ],
          "heatmapgl": [
           {
            "type": "heatmapgl",
            "colorbar": {
             "outlinewidth": 0,
             "ticks": ""
            },
            "colorscale": [
             [
              0.0,
              "#0d0887"
             ],
             [
              0.1111111111111111,
              "#46039f"
             ],
             [
              0.2222222222222222,
              "#7201a8"
             ],
             [
              0.3333333333333333,
              "#9c179e"
             ],
             [
              0.4444444444444444,
              "#bd3786"
             ],
             [
              0.5555555555555556,
              "#d8576b"
             ],
             [
              0.6666666666666666,
              "#ed7953"
             ],
             [
              0.7777777777777778,
              "#fb9f3a"
             ],
             [
              0.8888888888888888,
              "#fdca26"
             ],
             [
              1.0,
              "#f0f921"
             ]
            ]
           }
          ],
          "contourcarpet": [
           {
            "type": "contourcarpet",
            "colorbar": {
             "outlinewidth": 0,
             "ticks": ""
            }
           }
          ],
          "contour": [
           {
            "type": "contour",
            "colorbar": {
             "outlinewidth": 0,
             "ticks": ""
            },
            "colorscale": [
             [
              0.0,
              "#0d0887"
             ],
             [
              0.1111111111111111,
              "#46039f"
             ],
             [
              0.2222222222222222,
              "#7201a8"
             ],
             [
              0.3333333333333333,
              "#9c179e"
             ],
             [
              0.4444444444444444,
              "#bd3786"
             ],
             [
              0.5555555555555556,
              "#d8576b"
             ],
             [
              0.6666666666666666,
              "#ed7953"
             ],
             [
              0.7777777777777778,
              "#fb9f3a"
             ],
             [
              0.8888888888888888,
              "#fdca26"
             ],
             [
              1.0,
              "#f0f921"
             ]
            ]
           }
          ],
          "surface": [
           {
            "type": "surface",
            "colorbar": {
             "outlinewidth": 0,
             "ticks": ""
            },
            "colorscale": [
             [
              0.0,
              "#0d0887"
             ],
             [
              0.1111111111111111,
              "#46039f"
             ],
             [
              0.2222222222222222,
              "#7201a8"
             ],
             [
              0.3333333333333333,
              "#9c179e"
             ],
             [
              0.4444444444444444,
              "#bd3786"
             ],
             [
              0.5555555555555556,
              "#d8576b"
             ],
             [
              0.6666666666666666,
              "#ed7953"
             ],
             [
              0.7777777777777778,
              "#fb9f3a"
             ],
             [
              0.8888888888888888,
              "#fdca26"
             ],
             [
              1.0,
              "#f0f921"
             ]
            ]
           }
          ],
          "mesh3d": [
           {
            "type": "mesh3d",
            "colorbar": {
             "outlinewidth": 0,
             "ticks": ""
            }
           }
          ],
          "scatter": [
           {
            "fillpattern": {
             "fillmode": "overlay",
             "size": 10,
             "solidity": 0.2
            },
            "type": "scatter"
           }
          ],
          "parcoords": [
           {
            "type": "parcoords",
            "line": {
             "colorbar": {
              "outlinewidth": 0,
              "ticks": ""
             }
            }
           }
          ],
          "scatterpolargl": [
           {
            "type": "scatterpolargl",
            "marker": {
             "colorbar": {
              "outlinewidth": 0,
              "ticks": ""
             }
            }
           }
          ],
          "bar": [
           {
            "error_x": {
             "color": "#2a3f5f"
            },
            "error_y": {
             "color": "#2a3f5f"
            },
            "marker": {
             "line": {
              "color": "#E5ECF6",
              "width": 0.5
             },
             "pattern": {
              "fillmode": "overlay",
              "size": 10,
              "solidity": 0.2
             }
            },
            "type": "bar"
           }
          ],
          "scattergeo": [
           {
            "type": "scattergeo",
            "marker": {
             "colorbar": {
              "outlinewidth": 0,
              "ticks": ""
             }
            }
           }
          ],
          "scatterpolar": [
           {
            "type": "scatterpolar",
            "marker": {
             "colorbar": {
              "outlinewidth": 0,
              "ticks": ""
             }
            }
           }
          ],
          "histogram": [
           {
            "marker": {
             "pattern": {
              "fillmode": "overlay",
              "size": 10,
              "solidity": 0.2
             }
            },
            "type": "histogram"
           }
          ],
          "scattergl": [
           {
            "type": "scattergl",
            "marker": {
             "colorbar": {
              "outlinewidth": 0,
              "ticks": ""
             }
            }
           }
          ],
          "scatter3d": [
           {
            "type": "scatter3d",
            "line": {
             "colorbar": {
              "outlinewidth": 0,
              "ticks": ""
             }
            },
            "marker": {
             "colorbar": {
              "outlinewidth": 0,
              "ticks": ""
             }
            }
           }
          ],
          "scattermapbox": [
           {
            "type": "scattermapbox",
            "marker": {
             "colorbar": {
              "outlinewidth": 0,
              "ticks": ""
             }
            }
           }
          ],
          "scatterternary": [
           {
            "type": "scatterternary",
            "marker": {
             "colorbar": {
              "outlinewidth": 0,
              "ticks": ""
             }
            }
           }
          ],
          "scattercarpet": [
           {
            "type": "scattercarpet",
            "marker": {
             "colorbar": {
              "outlinewidth": 0,
              "ticks": ""
             }
            }
           }
          ],
          "carpet": [
           {
            "aaxis": {
             "endlinecolor": "#2a3f5f",
             "gridcolor": "white",
             "linecolor": "white",
             "minorgridcolor": "white",
             "startlinecolor": "#2a3f5f"
            },
            "baxis": {
             "endlinecolor": "#2a3f5f",
             "gridcolor": "white",
             "linecolor": "white",
             "minorgridcolor": "white",
             "startlinecolor": "#2a3f5f"
            },
            "type": "carpet"
           }
          ],
          "table": [
           {
            "cells": {
             "fill": {
              "color": "#EBF0F8"
             },
             "line": {
              "color": "white"
             }
            },
            "header": {
             "fill": {
              "color": "#C8D4E3"
             },
             "line": {
              "color": "white"
             }
            },
            "type": "table"
           }
          ],
          "barpolar": [
           {
            "marker": {
             "line": {
              "color": "#E5ECF6",
              "width": 0.5
             },
             "pattern": {
              "fillmode": "overlay",
              "size": 10,
              "solidity": 0.2
             }
            },
            "type": "barpolar"
           }
          ],
          "pie": [
           {
            "automargin": true,
            "type": "pie"
           }
          ]
         },
         "layout": {
          "autotypenumbers": "strict",
          "colorway": [
           "#636efa",
           "#EF553B",
           "#00cc96",
           "#ab63fa",
           "#FFA15A",
           "#19d3f3",
           "#FF6692",
           "#B6E880",
           "#FF97FF",
           "#FECB52"
          ],
          "font": {
           "color": "#2a3f5f"
          },
          "hovermode": "closest",
          "hoverlabel": {
           "align": "left"
          },
          "paper_bgcolor": "white",
          "plot_bgcolor": "#E5ECF6",
          "polar": {
           "bgcolor": "#E5ECF6",
           "angularaxis": {
            "gridcolor": "white",
            "linecolor": "white",
            "ticks": ""
           },
           "radialaxis": {
            "gridcolor": "white",
            "linecolor": "white",
            "ticks": ""
           }
          },
          "ternary": {
           "bgcolor": "#E5ECF6",
           "aaxis": {
            "gridcolor": "white",
            "linecolor": "white",
            "ticks": ""
           },
           "baxis": {
            "gridcolor": "white",
            "linecolor": "white",
            "ticks": ""
           },
           "caxis": {
            "gridcolor": "white",
            "linecolor": "white",
            "ticks": ""
           }
          },
          "coloraxis": {
           "colorbar": {
            "outlinewidth": 0,
            "ticks": ""
           }
          },
          "colorscale": {
           "sequential": [
            [
             0.0,
             "#0d0887"
            ],
            [
             0.1111111111111111,
             "#46039f"
            ],
            [
             0.2222222222222222,
             "#7201a8"
            ],
            [
             0.3333333333333333,
             "#9c179e"
            ],
            [
             0.4444444444444444,
             "#bd3786"
            ],
            [
             0.5555555555555556,
             "#d8576b"
            ],
            [
             0.6666666666666666,
             "#ed7953"
            ],
            [
             0.7777777777777778,
             "#fb9f3a"
            ],
            [
             0.8888888888888888,
             "#fdca26"
            ],
            [
             1.0,
             "#f0f921"
            ]
           ],
           "sequentialminus": [
            [
             0.0,
             "#0d0887"
            ],
            [
             0.1111111111111111,
             "#46039f"
            ],
            [
             0.2222222222222222,
             "#7201a8"
            ],
            [
             0.3333333333333333,
             "#9c179e"
            ],
            [
             0.4444444444444444,
             "#bd3786"
            ],
            [
             0.5555555555555556,
             "#d8576b"
            ],
            [
             0.6666666666666666,
             "#ed7953"
            ],
            [
             0.7777777777777778,
             "#fb9f3a"
            ],
            [
             0.8888888888888888,
             "#fdca26"
            ],
            [
             1.0,
             "#f0f921"
            ]
           ],
           "diverging": [
            [
             0,
             "#8e0152"
            ],
            [
             0.1,
             "#c51b7d"
            ],
            [
             0.2,
             "#de77ae"
            ],
            [
             0.3,
             "#f1b6da"
            ],
            [
             0.4,
             "#fde0ef"
            ],
            [
             0.5,
             "#f7f7f7"
            ],
            [
             0.6,
             "#e6f5d0"
            ],
            [
             0.7,
             "#b8e186"
            ],
            [
             0.8,
             "#7fbc41"
            ],
            [
             0.9,
             "#4d9221"
            ],
            [
             1,
             "#276419"
            ]
           ]
          },
          "xaxis": {
           "gridcolor": "white",
           "linecolor": "white",
           "ticks": "",
           "title": {
            "standoff": 15
           },
           "zerolinecolor": "white",
           "automargin": true,
           "zerolinewidth": 2
          },
          "yaxis": {
           "gridcolor": "white",
           "linecolor": "white",
           "ticks": "",
           "title": {
            "standoff": 15
           },
           "zerolinecolor": "white",
           "automargin": true,
           "zerolinewidth": 2
          },
          "scene": {
           "xaxis": {
            "backgroundcolor": "#E5ECF6",
            "gridcolor": "white",
            "linecolor": "white",
            "showbackground": true,
            "ticks": "",
            "zerolinecolor": "white",
            "gridwidth": 2
           },
           "yaxis": {
            "backgroundcolor": "#E5ECF6",
            "gridcolor": "white",
            "linecolor": "white",
            "showbackground": true,
            "ticks": "",
            "zerolinecolor": "white",
            "gridwidth": 2
           },
           "zaxis": {
            "backgroundcolor": "#E5ECF6",
            "gridcolor": "white",
            "linecolor": "white",
            "showbackground": true,
            "ticks": "",
            "zerolinecolor": "white",
            "gridwidth": 2
           }
          },
          "shapedefaults": {
           "line": {
            "color": "#2a3f5f"
           }
          },
          "annotationdefaults": {
           "arrowcolor": "#2a3f5f",
           "arrowhead": 0,
           "arrowwidth": 1
          },
          "geo": {
           "bgcolor": "white",
           "landcolor": "#E5ECF6",
           "subunitcolor": "white",
           "showland": true,
           "showlakes": true,
           "lakecolor": "white"
          },
          "title": {
           "x": 0.05
          },
          "mapbox": {
           "style": "light"
          }
         }
        },
        "xaxis": {
         "anchor": "y",
         "domain": [
          0.0,
          1.0
         ],
         "linecolor": "#666666",
         "gridcolor": "#d9d9d9",
         "zerolinecolor": "rgba(0,0,0,0)",
         "linewidth": 2,
         "showline": true,
         "showgrid": false,
         "mirror": true,
         "title": {
          "text": "${\\sigma_{P_{f}^{e}}~[\\%]}$"
         }
        },
        "yaxis": {
         "anchor": "x",
         "domain": [
          0.0,
          1.0
         ],
         "title": {
          "text": "Counts"
         },
         "linecolor": "#666666",
         "zerolinecolor": "rgba(0,0,0,0)",
         "linewidth": 2,
         "mirror": true,
         "type": "linear",
         "range": [
          0,
          0.13489318413021364
         ]
        },
        "annotations": [
         {
          "font": {
           "family": "Cambria",
           "size": 34
          },
          "showarrow": false,
          "text": "<i><b>DarkSHINE<b><i>",
          "x": 0.05,
          "xref": "paper",
          "y": 0.97,
          "yref": "paper"
         },
         {
          "font": {
           "family": "Cambria",
           "size": 31
          },
          "showarrow": false,
          "text": "Simulation",
          "x": 0.455,
          "xref": "paper",
          "y": 0.9662999999999999,
          "yref": "paper"
         },
         {
          "showarrow": false,
          "text": "$\\Large{E^{e}_{0} = 8~\\text{GeV},~10^{6}~\\text{EOT}}$",
          "x": 0.05,
          "xref": "paper",
          "y": 0.895,
          "yref": "paper"
         },
         {
          "font": {
           "family": "Cambria",
           "size": 20
          },
          "showarrow": false,
          "text": "Resolution: Recoil Region",
          "x": 0.05,
          "xref": "paper",
          "y": 0.833,
          "yref": "paper"
         }
        ],
        "legend": {
         "font": {
          "size": 14
         },
         "orientation": "v",
         "yanchor": "top",
         "y": 0.99,
         "xanchor": "right",
         "x": 0.98
        },
        "width": 800,
        "height": 800,
        "paper_bgcolor": "rgba(0,0,0,0)",
        "plot_bgcolor": "rgba(0,0,0,0)"
       },
       "config": {
        "plotlyServerURL": "https://plot.ly"
       }
      },
      "text/html": "<div>                            <div id=\"91b66a62-8de4-4c86-90e0-3d3feb11115e\" class=\"plotly-graph-div\" style=\"height:800px; width:800px;\"></div>            <script type=\"text/javascript\">                require([\"plotly\"], function(Plotly) {                    window.PLOTLYENV=window.PLOTLYENV || {};                                    if (document.getElementById(\"91b66a62-8de4-4c86-90e0-3d3feb11115e\")) {                    Plotly.newPlot(                        \"91b66a62-8de4-4c86-90e0-3d3feb11115e\",                        [{\"error_y\":{\"array\":[0.00011032568996460381,9.447727646646915e-05,0.0001241674674132082,0.00011745066587715881,0.00010658474253735767,0.00010658474253735767,0.00012085573813186967,0.00015340164669233738,0.0001241674674132082,0.00011745066587715881,0.00017789482975070212,0.00018461018938635123,0.00022065137992920763,0.0002515812809094957,0.00027322783212150513,0.0003322006491864578,0.00039981965097901146,0.0004925684792989768,0.0005494175052552602,0.0006625667767903721,0.0007295968366253067,0.0007873678940940181,0.0008630826040474642,0.0009482020781708154,0.0010274712318399904,0.001094765922266095,0.0011693135309371195,0.0012235710921472457,0.0012598401588090574,0.0012540299503236085,0.001282501545020986,0.001290700556525759,0.0012364355171178296,0.0012189199769454303,0.0011637486520903286,0.0011240233389516513,0.0010239111668201924,0.0009596855449607187,0.0009490574703864226,0.0008644917194413057,0.0008021722170818244,0.0007356884529351919,0.00068068953968657,0.0006096263939334196,0.0005767969443474316,0.0005229329084371405,0.000490091170320047,0.0004394601515607894,0.00038111631278335426],\"type\":\"data\",\"visible\":true},\"fillcolor\":\"rgba(0,100,80,0.4)\",\"line\":{\"color\":\"rgba(0,100,80,0.6)\"},\"name\":\"CKF\",\"x\":[-25.0,-23.979591836734695,-22.959183673469386,-21.93877551020408,-20.918367346938776,-19.89795918367347,-18.877551020408163,-17.857142857142858,-16.836734693877553,-15.816326530612244,-14.795918367346939,-13.775510204081632,-12.755102040816325,-11.73469387755102,-10.714285714285714,-9.693877551020408,-8.673469387755102,-7.653061224489797,-6.632653061224488,-5.612244897959183,-4.591836734693878,-3.5714285714285694,-2.5510204081632644,-1.5306122448979593,-0.5102040816326507,0.5102040816326543,1.5306122448979593,2.5510204081632644,3.571428571428573,4.591836734693878,5.612244897959183,6.632653061224492,7.653061224489797,8.673469387755105,9.693877551020407,10.714285714285715,11.734693877551024,12.755102040816325,13.775510204081634,14.795918367346943,15.816326530612244,16.836734693877553,17.85714285714286,18.877551020408163,19.89795918367347,20.91836734693878,21.93877551020408,22.95918367346939,23.9795918367347],\"y\":[0.00042728955989175326,0.0003133456772539524,0.0005412334425295541,0.00048426150121065375,0.00039880358923230307,0.00039880358923230307,0.000512747471870104,0.0008260931491240564,0.0005412334425295541,0.00048426150121065375,0.0011109528557185586,0.0011964107676969093,0.001709158239567013,0.0022219057114371173,0.00262070930066942,0.00387409200968523,0.005611736219911693,0.008517305227175616,0.010596781085315482,0.015410910126762569,0.018686796752599343,0.021763281583819967,0.0261501210653753,0.03156245549067084,0.03706024782794474,0.04207377866400797,0.04799886056117362,0.052556615866685655,0.05571855860988463,0.055205811138014524,0.05774106252670559,0.0584816977638513,0.05366756872240421,0.05215781227745335,0.04754308503062241,0.044352656316763994,0.036803874092009685,0.032331576698476,0.03161942743198974,0.026235578977353652,0.022589374732944024,0.019000142429853296,0.016265489246546076,0.0130465745620282,0.01167924797037459,0.009599772112234724,0.008431847315197265,0.006779661016949152,0.005098988748041589],\"type\":\"scatter\",\"xaxis\":\"x\",\"yaxis\":\"y\"},{\"error_y\":{\"array\":[0.00011032568996460381,9.447727646646915e-05,0.0001241674674132082,0.00011745066587715881,0.00010658474253735767,0.00010658474253735767,0.00012085573813186967,0.00015340164669233738,0.0001241674674132082,0.00011745066587715881,0.00017789482975070212,0.00018461018938635123,0.00022065137992920763,0.0002515812809094957,0.00027322783212150513,0.0003322006491864578,0.00039981965097901146,0.0004925684792989768,0.0005494175052552602,0.0006625667767903721,0.0007295968366253067,0.0007873678940940181,0.0008630826040474642,0.0009482020781708154,0.0010274712318399904,0.001094765922266095,0.0011693135309371195,0.0012235710921472457,0.0012598401588090574,0.0012540299503236085,0.001282501545020986,0.001290700556525759,0.0012364355171178296,0.0012189199769454303,0.0011637486520903286,0.0011240233389516513,0.0010239111668201924,0.0009596855449607187,0.0009490574703864226,0.0008644917194413057,0.0008021722170818244,0.0007356884529351919,0.00068068953968657,0.0006096263939334196,0.0005767969443474316,0.0005229329084371405,0.000490091170320047,0.0004394601515607894,0.00038111631278335426],\"type\":\"data\",\"visible\":true},\"fillcolor\":\"rgba(204,40,46,0.4)\",\"line\":{\"color\":\"rgba(204,40,46,0.6)\"},\"name\":\"GNN\",\"x\":[-25.0,-23.979591836734695,-22.959183673469386,-21.93877551020408,-20.918367346938776,-19.89795918367347,-18.877551020408163,-17.857142857142858,-16.836734693877553,-15.816326530612244,-14.795918367346939,-13.775510204081632,-12.755102040816325,-11.73469387755102,-10.714285714285714,-9.693877551020408,-8.673469387755102,-7.653061224489797,-6.632653061224488,-5.612244897959183,-4.591836734693878,-3.5714285714285694,-2.5510204081632644,-1.5306122448979593,-0.5102040816326507,0.5102040816326543,1.5306122448979593,2.5510204081632644,3.571428571428573,4.591836734693878,5.612244897959183,6.632653061224492,7.653061224489797,8.673469387755105,9.693877551020407,10.714285714285715,11.734693877551024,12.755102040816325,13.775510204081634,14.795918367346943,15.816326530612244,16.836734693877553,17.85714285714286,18.877551020408163,19.89795918367347,20.91836734693878,21.93877551020408,22.95918367346939,23.9795918367347],\"y\":[0.0010399005312535323,0.0010399005312535323,0.0013563919972872161,0.0011981462642703742,0.0013111789307109756,0.0014016050638634566,0.001265965864134735,0.0014016050638634566,0.001944161862778343,0.0018311291963377418,0.002464112128405109,0.002599751328133831,0.0032779473267774387,0.00339097999321804,0.004476093591047813,0.00504125692325082,0.006555894653554877,0.008906974115519386,0.012275347575449305,0.016751441166497117,0.02360122075279756,0.03406804566519724,0.04638860630722279,0.06011077201311179,0.07335820051995026,0.08552051542895897,0.08992878942014243,0.08479710636373912,0.07496326438340681,0.06417994800497344,0.04887532496891602,0.038476319656380695,0.028981575675370182,0.023171696620323274,0.019712897027240873,0.016683621566632757,0.013948231038770206,0.011145020911043291,0.010602464112128406,0.01024075957951848,0.009449530914434272,0.008387023849892618,0.007889680117553973,0.006555894653554877,0.007414942918503448,0.005990731321351871,0.005742059455182548,0.0056064202554538265,0.0046795523906408955],\"type\":\"scatter\",\"xaxis\":\"x\",\"yaxis\":\"y\"}],                        {\"template\":{\"data\":{\"histogram2dcontour\":[{\"type\":\"histogram2dcontour\",\"colorbar\":{\"outlinewidth\":0,\"ticks\":\"\"},\"colorscale\":[[0.0,\"#0d0887\"],[0.1111111111111111,\"#46039f\"],[0.2222222222222222,\"#7201a8\"],[0.3333333333333333,\"#9c179e\"],[0.4444444444444444,\"#bd3786\"],[0.5555555555555556,\"#d8576b\"],[0.6666666666666666,\"#ed7953\"],[0.7777777777777778,\"#fb9f3a\"],[0.8888888888888888,\"#fdca26\"],[1.0,\"#f0f921\"]]}],\"choropleth\":[{\"type\":\"choropleth\",\"colorbar\":{\"outlinewidth\":0,\"ticks\":\"\"}}],\"histogram2d\":[{\"type\":\"histogram2d\",\"colorbar\":{\"outlinewidth\":0,\"ticks\":\"\"},\"colorscale\":[[0.0,\"#0d0887\"],[0.1111111111111111,\"#46039f\"],[0.2222222222222222,\"#7201a8\"],[0.3333333333333333,\"#9c179e\"],[0.4444444444444444,\"#bd3786\"],[0.5555555555555556,\"#d8576b\"],[0.6666666666666666,\"#ed7953\"],[0.7777777777777778,\"#fb9f3a\"],[0.8888888888888888,\"#fdca26\"],[1.0,\"#f0f921\"]]}],\"heatmap\":[{\"type\":\"heatmap\",\"colorbar\":{\"outlinewidth\":0,\"ticks\":\"\"},\"colorscale\":[[0.0,\"#0d0887\"],[0.1111111111111111,\"#46039f\"],[0.2222222222222222,\"#7201a8\"],[0.3333333333333333,\"#9c179e\"],[0.4444444444444444,\"#bd3786\"],[0.5555555555555556,\"#d8576b\"],[0.6666666666666666,\"#ed7953\"],[0.7777777777777778,\"#fb9f3a\"],[0.8888888888888888,\"#fdca26\"],[1.0,\"#f0f921\"]]}],\"heatmapgl\":[{\"type\":\"heatmapgl\",\"colorbar\":{\"outlinewidth\":0,\"ticks\":\"\"},\"colorscale\":[[0.0,\"#0d0887\"],[0.1111111111111111,\"#46039f\"],[0.2222222222222222,\"#7201a8\"],[0.3333333333333333,\"#9c179e\"],[0.4444444444444444,\"#bd3786\"],[0.5555555555555556,\"#d8576b\"],[0.6666666666666666,\"#ed7953\"],[0.7777777777777778,\"#fb9f3a\"],[0.8888888888888888,\"#fdca26\"],[1.0,\"#f0f921\"]]}],\"contourcarpet\":[{\"type\":\"contourcarpet\",\"colorbar\":{\"outlinewidth\":0,\"ticks\":\"\"}}],\"contour\":[{\"type\":\"contour\",\"colorbar\":{\"outlinewidth\":0,\"ticks\":\"\"},\"colorscale\":[[0.0,\"#0d0887\"],[0.1111111111111111,\"#46039f\"],[0.2222222222222222,\"#7201a8\"],[0.3333333333333333,\"#9c179e\"],[0.4444444444444444,\"#bd3786\"],[0.5555555555555556,\"#d8576b\"],[0.6666666666666666,\"#ed7953\"],[0.7777777777777778,\"#fb9f3a\"],[0.8888888888888888,\"#fdca26\"],[1.0,\"#f0f921\"]]}],\"surface\":[{\"type\":\"surface\",\"colorbar\":{\"outlinewidth\":0,\"ticks\":\"\"},\"colorscale\":[[0.0,\"#0d0887\"],[0.1111111111111111,\"#46039f\"],[0.2222222222222222,\"#7201a8\"],[0.3333333333333333,\"#9c179e\"],[0.4444444444444444,\"#bd3786\"],[0.5555555555555556,\"#d8576b\"],[0.6666666666666666,\"#ed7953\"],[0.7777777777777778,\"#fb9f3a\"],[0.8888888888888888,\"#fdca26\"],[1.0,\"#f0f921\"]]}],\"mesh3d\":[{\"type\":\"mesh3d\",\"colorbar\":{\"outlinewidth\":0,\"ticks\":\"\"}}],\"scatter\":[{\"fillpattern\":{\"fillmode\":\"overlay\",\"size\":10,\"solidity\":0.2},\"type\":\"scatter\"}],\"parcoords\":[{\"type\":\"parcoords\",\"line\":{\"colorbar\":{\"outlinewidth\":0,\"ticks\":\"\"}}}],\"scatterpolargl\":[{\"type\":\"scatterpolargl\",\"marker\":{\"colorbar\":{\"outlinewidth\":0,\"ticks\":\"\"}}}],\"bar\":[{\"error_x\":{\"color\":\"#2a3f5f\"},\"error_y\":{\"color\":\"#2a3f5f\"},\"marker\":{\"line\":{\"color\":\"#E5ECF6\",\"width\":0.5},\"pattern\":{\"fillmode\":\"overlay\",\"size\":10,\"solidity\":0.2}},\"type\":\"bar\"}],\"scattergeo\":[{\"type\":\"scattergeo\",\"marker\":{\"colorbar\":{\"outlinewidth\":0,\"ticks\":\"\"}}}],\"scatterpolar\":[{\"type\":\"scatterpolar\",\"marker\":{\"colorbar\":{\"outlinewidth\":0,\"ticks\":\"\"}}}],\"histogram\":[{\"marker\":{\"pattern\":{\"fillmode\":\"overlay\",\"size\":10,\"solidity\":0.2}},\"type\":\"histogram\"}],\"scattergl\":[{\"type\":\"scattergl\",\"marker\":{\"colorbar\":{\"outlinewidth\":0,\"ticks\":\"\"}}}],\"scatter3d\":[{\"type\":\"scatter3d\",\"line\":{\"colorbar\":{\"outlinewidth\":0,\"ticks\":\"\"}},\"marker\":{\"colorbar\":{\"outlinewidth\":0,\"ticks\":\"\"}}}],\"scattermapbox\":[{\"type\":\"scattermapbox\",\"marker\":{\"colorbar\":{\"outlinewidth\":0,\"ticks\":\"\"}}}],\"scatterternary\":[{\"type\":\"scatterternary\",\"marker\":{\"colorbar\":{\"outlinewidth\":0,\"ticks\":\"\"}}}],\"scattercarpet\":[{\"type\":\"scattercarpet\",\"marker\":{\"colorbar\":{\"outlinewidth\":0,\"ticks\":\"\"}}}],\"carpet\":[{\"aaxis\":{\"endlinecolor\":\"#2a3f5f\",\"gridcolor\":\"white\",\"linecolor\":\"white\",\"minorgridcolor\":\"white\",\"startlinecolor\":\"#2a3f5f\"},\"baxis\":{\"endlinecolor\":\"#2a3f5f\",\"gridcolor\":\"white\",\"linecolor\":\"white\",\"minorgridcolor\":\"white\",\"startlinecolor\":\"#2a3f5f\"},\"type\":\"carpet\"}],\"table\":[{\"cells\":{\"fill\":{\"color\":\"#EBF0F8\"},\"line\":{\"color\":\"white\"}},\"header\":{\"fill\":{\"color\":\"#C8D4E3\"},\"line\":{\"color\":\"white\"}},\"type\":\"table\"}],\"barpolar\":[{\"marker\":{\"line\":{\"color\":\"#E5ECF6\",\"width\":0.5},\"pattern\":{\"fillmode\":\"overlay\",\"size\":10,\"solidity\":0.2}},\"type\":\"barpolar\"}],\"pie\":[{\"automargin\":true,\"type\":\"pie\"}]},\"layout\":{\"autotypenumbers\":\"strict\",\"colorway\":[\"#636efa\",\"#EF553B\",\"#00cc96\",\"#ab63fa\",\"#FFA15A\",\"#19d3f3\",\"#FF6692\",\"#B6E880\",\"#FF97FF\",\"#FECB52\"],\"font\":{\"color\":\"#2a3f5f\"},\"hovermode\":\"closest\",\"hoverlabel\":{\"align\":\"left\"},\"paper_bgcolor\":\"white\",\"plot_bgcolor\":\"#E5ECF6\",\"polar\":{\"bgcolor\":\"#E5ECF6\",\"angularaxis\":{\"gridcolor\":\"white\",\"linecolor\":\"white\",\"ticks\":\"\"},\"radialaxis\":{\"gridcolor\":\"white\",\"linecolor\":\"white\",\"ticks\":\"\"}},\"ternary\":{\"bgcolor\":\"#E5ECF6\",\"aaxis\":{\"gridcolor\":\"white\",\"linecolor\":\"white\",\"ticks\":\"\"},\"baxis\":{\"gridcolor\":\"white\",\"linecolor\":\"white\",\"ticks\":\"\"},\"caxis\":{\"gridcolor\":\"white\",\"linecolor\":\"white\",\"ticks\":\"\"}},\"coloraxis\":{\"colorbar\":{\"outlinewidth\":0,\"ticks\":\"\"}},\"colorscale\":{\"sequential\":[[0.0,\"#0d0887\"],[0.1111111111111111,\"#46039f\"],[0.2222222222222222,\"#7201a8\"],[0.3333333333333333,\"#9c179e\"],[0.4444444444444444,\"#bd3786\"],[0.5555555555555556,\"#d8576b\"],[0.6666666666666666,\"#ed7953\"],[0.7777777777777778,\"#fb9f3a\"],[0.8888888888888888,\"#fdca26\"],[1.0,\"#f0f921\"]],\"sequentialminus\":[[0.0,\"#0d0887\"],[0.1111111111111111,\"#46039f\"],[0.2222222222222222,\"#7201a8\"],[0.3333333333333333,\"#9c179e\"],[0.4444444444444444,\"#bd3786\"],[0.5555555555555556,\"#d8576b\"],[0.6666666666666666,\"#ed7953\"],[0.7777777777777778,\"#fb9f3a\"],[0.8888888888888888,\"#fdca26\"],[1.0,\"#f0f921\"]],\"diverging\":[[0,\"#8e0152\"],[0.1,\"#c51b7d\"],[0.2,\"#de77ae\"],[0.3,\"#f1b6da\"],[0.4,\"#fde0ef\"],[0.5,\"#f7f7f7\"],[0.6,\"#e6f5d0\"],[0.7,\"#b8e186\"],[0.8,\"#7fbc41\"],[0.9,\"#4d9221\"],[1,\"#276419\"]]},\"xaxis\":{\"gridcolor\":\"white\",\"linecolor\":\"white\",\"ticks\":\"\",\"title\":{\"standoff\":15},\"zerolinecolor\":\"white\",\"automargin\":true,\"zerolinewidth\":2},\"yaxis\":{\"gridcolor\":\"white\",\"linecolor\":\"white\",\"ticks\":\"\",\"title\":{\"standoff\":15},\"zerolinecolor\":\"white\",\"automargin\":true,\"zerolinewidth\":2},\"scene\":{\"xaxis\":{\"backgroundcolor\":\"#E5ECF6\",\"gridcolor\":\"white\",\"linecolor\":\"white\",\"showbackground\":true,\"ticks\":\"\",\"zerolinecolor\":\"white\",\"gridwidth\":2},\"yaxis\":{\"backgroundcolor\":\"#E5ECF6\",\"gridcolor\":\"white\",\"linecolor\":\"white\",\"showbackground\":true,\"ticks\":\"\",\"zerolinecolor\":\"white\",\"gridwidth\":2},\"zaxis\":{\"backgroundcolor\":\"#E5ECF6\",\"gridcolor\":\"white\",\"linecolor\":\"white\",\"showbackground\":true,\"ticks\":\"\",\"zerolinecolor\":\"white\",\"gridwidth\":2}},\"shapedefaults\":{\"line\":{\"color\":\"#2a3f5f\"}},\"annotationdefaults\":{\"arrowcolor\":\"#2a3f5f\",\"arrowhead\":0,\"arrowwidth\":1},\"geo\":{\"bgcolor\":\"white\",\"landcolor\":\"#E5ECF6\",\"subunitcolor\":\"white\",\"showland\":true,\"showlakes\":true,\"lakecolor\":\"white\"},\"title\":{\"x\":0.05},\"mapbox\":{\"style\":\"light\"}}},\"xaxis\":{\"anchor\":\"y\",\"domain\":[0.0,1.0],\"linecolor\":\"#666666\",\"gridcolor\":\"#d9d9d9\",\"zerolinecolor\":\"rgba(0,0,0,0)\",\"linewidth\":2,\"showline\":true,\"showgrid\":false,\"mirror\":true,\"title\":{\"text\":\"${\\\\sigma_{P_{f}^{e}}~[\\\\%]}$\"}},\"yaxis\":{\"anchor\":\"x\",\"domain\":[0.0,1.0],\"title\":{\"text\":\"Counts\"},\"linecolor\":\"#666666\",\"zerolinecolor\":\"rgba(0,0,0,0)\",\"linewidth\":2,\"mirror\":true,\"type\":\"linear\",\"range\":[0,0.13489318413021364]},\"annotations\":[{\"font\":{\"family\":\"Cambria\",\"size\":34},\"showarrow\":false,\"text\":\"<i><b>DarkSHINE<b><i>\",\"x\":0.05,\"xref\":\"paper\",\"y\":0.97,\"yref\":\"paper\"},{\"font\":{\"family\":\"Cambria\",\"size\":31},\"showarrow\":false,\"text\":\"Simulation\",\"x\":0.455,\"xref\":\"paper\",\"y\":0.9662999999999999,\"yref\":\"paper\"},{\"showarrow\":false,\"text\":\"$\\\\Large{E^{e}_{0} = 8~\\\\text{GeV},~10^{6}~\\\\text{EOT}}$\",\"x\":0.05,\"xref\":\"paper\",\"y\":0.895,\"yref\":\"paper\"},{\"font\":{\"family\":\"Cambria\",\"size\":20},\"showarrow\":false,\"text\":\"Resolution: Recoil Region\",\"x\":0.05,\"xref\":\"paper\",\"y\":0.833,\"yref\":\"paper\"}],\"legend\":{\"font\":{\"size\":14},\"orientation\":\"v\",\"yanchor\":\"top\",\"y\":0.99,\"xanchor\":\"right\",\"x\":0.98},\"width\":800,\"height\":800,\"paper_bgcolor\":\"rgba(0,0,0,0)\",\"plot_bgcolor\":\"rgba(0,0,0,0)\"},                        {\"responsive\": true}                    ).then(function(){\n                            \nvar gd = document.getElementById('91b66a62-8de4-4c86-90e0-3d3feb11115e');\nvar x = new MutationObserver(function (mutations, observer) {{\n        var display = window.getComputedStyle(gd).display;\n        if (!display || display === 'none') {{\n            console.log([gd, 'removed!']);\n            Plotly.purge(gd);\n            observer.disconnect();\n        }}\n}});\n\n// Listen for the removal of the full notebook cells\nvar notebookContainer = gd.closest('#notebook-container');\nif (notebookContainer) {{\n    x.observe(notebookContainer, {childList: true});\n}}\n\n// Listen for the clearing of the current output cell\nvar outputEl = gd.closest('.output');\nif (outputEl) {{\n    x.observe(outputEl, {childList: true});\n}}\n\n                        })                };                });            </script>        </div>"
     },
     "metadata": {},
     "output_type": "display_data"
    }
   ],
   "source": [
    "for interest in interests:\n",
    "    if interests[interest]['type'] in {'plain', 'difference'}:\n",
    "        plot_comparison(\n",
    "            x=interests[interest][\"df\"][\"bin\"],\n",
    "            y0=interests[interest][\"df\"][\"Truth\"],\n",
    "            y1=interests[interest][\"df\"][\"CKF\"],\n",
    "            y2=interests[interest][\"df\"][\"GNN\"],\n",
    "            x_label=interests[interest][\"x_label\"],\n",
    "            annotation_text=interest,\n",
    "            ratio_threshold=2.0,\n",
    "            # log_y=False,\n",
    "            save_name=interests[interest][\"save_name\"],\n",
    "        )\n",
    "    if interests[interest]['type'] in {'resolution'}:\n",
    "        plot_comparison(\n",
    "            x=interests[interest][\"df\"][\"bin\"],\n",
    "            y0=None,\n",
    "            y1=interests[interest][\"df\"][\"CKF/Truth\"],\n",
    "            y2=interests[interest][\"df\"][\"GNN/Truth\"],\n",
    "            x_label=interests[interest][\"x_label\"],\n",
    "            annotation_text=interest,\n",
    "            ratio_threshold=2.0,\n",
    "            log_y=False,\n",
    "            save_name=interests[interest][\"save_name\"],\n",
    "            second_panel=False,\n",
    "        )"
   ],
   "metadata": {
    "collapsed": false,
    "ExecuteTime": {
     "end_time": "2023-07-30T12:39:19.812562Z",
     "start_time": "2023-07-30T12:39:19.265622Z"
    }
   }
  },
  {
   "cell_type": "code",
   "execution_count": 82,
   "outputs": [],
   "source": [],
   "metadata": {
    "collapsed": false,
    "ExecuteTime": {
     "end_time": "2023-07-16T12:13:50.425681Z",
     "start_time": "2023-07-16T12:13:50.424461Z"
    }
   }
  }
 ],
 "metadata": {
  "kernelspec": {
   "display_name": "Python 3",
   "language": "python",
   "name": "python3"
  },
  "language_info": {
   "codemirror_mode": {
    "name": "ipython",
    "version": 2
   },
   "file_extension": ".py",
   "mimetype": "text/x-python",
   "name": "python",
   "nbconvert_exporter": "python",
   "pygments_lexer": "ipython2",
   "version": "2.7.6"
  }
 },
 "nbformat": 4,
 "nbformat_minor": 0
}
