{
 "cells": [
  {
   "cell_type": "code",
   "execution_count": 1,
   "outputs": [],
   "source": [
    "# ssh\n",
    "import os\n",
    "import paramiko\n",
    "from tqdm import tqdm\n",
    "import stat\n",
    "\n",
    "# torch\n",
    "import torch\n",
    "# plot\n",
    "import pandas as pd\n",
    "\n",
    "# local dependencies\n",
    "from utility.Control import load_config, cfg\n",
    "from utility.DataLoader import get_data_loaders\n",
    "from utility.EverythingNeeded import build_model, get_item_from_dataloader, convert_batch_to_df"
   ],
   "metadata": {
    "collapsed": false,
    "ExecuteTime": {
     "end_time": "2023-10-19T01:45:08.092502Z",
     "start_time": "2023-10-19T01:45:06.922963Z"
    }
   }
  },
  {
   "cell_type": "code",
   "execution_count": 2,
   "outputs": [
    {
     "name": "stdout",
     "output_type": "stream",
     "text": [
      "Successfully connected to zhangyulei@bl-0.inpac.sjtu.edu.cn\n",
      "Open sftp to zhangyulei@bl-0.inpac.sjtu.edu.cn\n"
     ]
    },
    {
     "name": "stderr",
     "output_type": "stream",
     "text": [
      "mpnn.yaml: 100%|██████████| 2.25k/2.25k [00:00<00:00, 27.3kB/s]\n",
      "summaries_0.csv: 100%|██████████| 79.4k/79.4k [00:00<00:00, 603kB/s]\n",
      "model_checkpoint_070.pth.tar: 100%|██████████| 714k/714k [00:00<00:00, 1.76MB/s]\n"
     ]
    }
   ],
   "source": [
    "### Only for training remotely\n",
    "\n",
    "# SSH credentials and remote CSV file path\n",
    "# host = 'lxslc7.ihep.ac.cn'\n",
    "# username = os.environ.get('IHEP_USERNAME')\n",
    "# password = os.environ.get('IHEP_PASSWORD')\n",
    "\n",
    "host = 'bl-0.inpac.sjtu.edu.cn'\n",
    "username = os.environ.get('SJTU_USERNAME')\n",
    "password = os.environ.get('SJTU_PASSWORD')\n",
    "\n",
    "# Establish an SSH connection\n",
    "ssh = paramiko.SSHClient()\n",
    "ssh.set_missing_host_key_policy(paramiko.AutoAddPolicy())\n",
    "ssh.connect(host, username=username, password=password)\n",
    "print(f'Successfully connected to {username}@{host}')\n",
    "\n",
    "# Download to local\n",
    "# Download the file using SFTP\n",
    "sftp_client = ssh.open_sftp()\n",
    "print(f'Open sftp to {username}@{host}')\n",
    "\n",
    "\n",
    "def download(remote_path, local_path):\n",
    "    # Get the file or folder attributes\n",
    "    remote_attr = sftp_client.stat(remote_path)\n",
    "    remote_file_size = remote_attr.st_size\n",
    "\n",
    "    # Check if the path is a file or directory\n",
    "    if stat.S_ISDIR(remote_attr.st_mode):\n",
    "        # If it's a directory, create it locally if it doesn't exist\n",
    "        if not os.path.exists(local_path):\n",
    "            os.makedirs(local_path)\n",
    "\n",
    "        # List the files and folders in the remote directory\n",
    "        for file in sftp_client.listdir_attr(remote_path):\n",
    "            download(os.path.join(remote_path, file.filename), os.path.join(local_path, file.filename))\n",
    "    else:\n",
    "        # If it's a file, download it\n",
    "        os.makedirs(os.path.dirname(local_path), exist_ok=True)\n",
    "        with tqdm(\n",
    "                total=remote_file_size, unit='B', unit_scale=True, desc=os.path.basename(remote_path)\n",
    "        ) as progress_bar:\n",
    "            sftp_client.get(\n",
    "                remote_path, local_path,\n",
    "                callback=lambda current, _: progress_bar.update(current - progress_bar.n)\n",
    "            )\n",
    "\n",
    "\n",
    "# Define the remote and local paths\n",
    "\n",
    "remote_project_base = '/lustre/collider/zhangyulei/DeepLearning/Tracking/workspace/'\n",
    "local_base = '/Users/avencast/PycharmProjects/trkgnn/workspace/visible'\n",
    "\n",
    "paths = [\n",
    "    (\n",
    "        f'{remote_project_base}/mpnn.yaml',\n",
    "        f'{local_base}/mpnn.yaml'\n",
    "    ),\n",
    "    (\n",
    "        f'{remote_project_base}/output.rec.new/summaries_0.csv',\n",
    "        f'{local_base}/output.rec.new/summaries_0.csv'\n",
    "    ),\n",
    "    (\n",
    "        f'{remote_project_base}/output.rec.new/model.checkpoints/model_checkpoint_070.pth.tar',\n",
    "        f'{local_base}/output.rec.new/model.checkpoints/model_checkpoint_070.pth.tar'\n",
    "    ),\n",
    "]\n",
    "\n",
    "# Download each file and folder\n",
    "for remote_path, local_path in paths:\n",
    "    download(remote_path, local_path)\n",
    "\n",
    "# Close the SFTP and SSH clients\n",
    "sftp_client.close()\n",
    "ssh.close()"
   ],
   "metadata": {
    "collapsed": false,
    "ExecuteTime": {
     "end_time": "2023-10-19T01:45:10.426242Z",
     "start_time": "2023-10-19T01:45:09.093920Z"
    }
   }
  },
  {
   "cell_type": "code",
   "execution_count": 3,
   "outputs": [],
   "source": [
    "# local_base = '/Users/avencast/PycharmProjects/trkgnn/workspace/bepc2'\n",
    "config_path = paths[0][1]\n",
    "summary = paths[1][1]\n",
    "model_path = paths[2][1]"
   ],
   "metadata": {
    "collapsed": false,
    "ExecuteTime": {
     "end_time": "2023-10-19T01:45:10.431532Z",
     "start_time": "2023-10-19T01:45:10.426404Z"
    }
   }
  },
  {
   "cell_type": "code",
   "execution_count": 4,
   "outputs": [
    {
     "data": {
      "text/plain": "<All keys matched successfully>"
     },
     "execution_count": 4,
     "metadata": {},
     "output_type": "execute_result"
    }
   ],
   "source": [
    "# load config\n",
    "load_config(config_path)\n",
    "# load model\n",
    "model = build_model('cpu', False)\n",
    "tar = torch.load(model_path, map_location=torch.device('cpu'))\n",
    "model.load_state_dict(tar['model'])"
   ],
   "metadata": {
    "collapsed": false,
    "ExecuteTime": {
     "end_time": "2023-10-19T01:45:11.301424Z",
     "start_time": "2023-10-19T01:45:11.282693Z"
    }
   }
  },
  {
   "cell_type": "code",
   "execution_count": 26,
   "outputs": [],
   "source": [
    "\n",
    "cfg['data']['read_from_graph']=False\n",
    "# load data\n",
    "data_loader = get_data_loaders(\n",
    "    input_dir=r'/Users/avencast/CLionProjects/darkshine-simulation/workspace/Tracker_GNN.root',\n",
    "    chunk_size=\"500 MB\",\n",
    "    batch_size=50,\n",
    "    shuffle=False,\n",
    ")\n",
    "loader = next(data_loader)\n",
    "\n",
    "# load batch for index 0\n",
    "batch = get_item_from_dataloader(loader, 10)\n",
    "# send it to model\n",
    "batch_output = model(batch)\n",
    "batch_output = torch.sigmoid(batch_output)\n",
    "\n",
    "df = convert_batch_to_df(batch, ['x', 'y', 'z', 'By'])\n",
    "df['predict'] = pd.DataFrame(batch_output.detach().cpu().numpy(), columns=['predict'])\n",
    "\n",
    "df_edge_value = pd.concat([df['edge'], df['y'], df['predict']], axis=1)\n",
    "merged_df = df_edge_value.merge(df['node'], left_on='start', right_index=True)\n",
    "\n",
    "df_edge = merged_df.merge(df['node'], left_on='end', right_index=True, suffixes=('_start', '_end'))\n",
    "df_node = df['node']"
   ],
   "metadata": {
    "collapsed": false,
    "ExecuteTime": {
     "end_time": "2023-10-19T01:54:14.917308Z",
     "start_time": "2023-10-19T01:54:14.859179Z"
    }
   }
  },
  {
   "cell_type": "markdown",
   "source": [
    "## Visualization\n",
    "\n"
   ],
   "metadata": {
    "collapsed": false
   }
  },
  {
   "cell_type": "code",
   "execution_count": 27,
   "outputs": [
    {
     "data": {
      "application/vnd.plotly.v1+json": {
       "data": [
        {
         "marker": {
          "color": "#965601",
          "size": 7
         },
         "mode": "markers",
         "showlegend": false,
         "x": [
          -11.15999984741211,
          -11.15999984741211,
          -11.15999984741211,
          -10.545000076293945,
          -10.545000076293945,
          -10.545000076293945,
          -10.380000114440918,
          -10.380000114440918,
          -10.380000114440918,
          -12.885000228881836,
          -12.885000228881836,
          -12.885000228881836,
          -11.085000038146973,
          -11.085000038146973,
          -11.085000038146973,
          -10.454999923706055,
          -10.454999923706055,
          -10.454999923706055,
          -14.850000381469727,
          -14.850000381469727,
          -14.850000381469727,
          -11.654999732971191,
          -11.654999732971191,
          -11.654999732971191,
          -10.425000190734863,
          -10.425000190734863,
          -10.425000190734863,
          -16.815000534057617,
          -16.815000534057617,
          -12.194999694824219,
          -12.194999694824219,
          -12.194999694824219,
          -12.194999694824219,
          -10.335000038146973,
          -10.335000038146973,
          -10.335000038146973,
          -21.959999084472656,
          -13.604999542236328,
          -13.604999542236328,
          -9.795000076293945,
          -9.795000076293945,
          -37.73999786376953,
          -17.5049991607666,
          -6.554999828338623
         ],
         "y": [
          7.779999732971191,
          7.779999732971191,
          7.779999732971191,
          7.779999732971191,
          7.779999732971191,
          7.779999732971191,
          7.779999732971191,
          7.779999732971191,
          7.779999732971191,
          22.779998779296875,
          22.779998779296875,
          22.779998779296875,
          22.779998779296875,
          22.779998779296875,
          22.779998779296875,
          22.779998779296875,
          22.779998779296875,
          22.779998779296875,
          38.779998779296875,
          38.779998779296875,
          38.779998779296875,
          38.779998779296875,
          38.779998779296875,
          38.779998779296875,
          38.779998779296875,
          38.779998779296875,
          38.779998779296875,
          53.779998779296875,
          53.779998779296875,
          53.779998779296875,
          53.779998779296875,
          53.779998779296875,
          53.779998779296875,
          53.779998779296875,
          53.779998779296875,
          53.779998779296875,
          89.77999877929688,
          89.77999877929688,
          89.77999877929688,
          89.77999877929688,
          89.77999877929688,
          180.27999877929688,
          180.27999877929688,
          180.27999877929688
         ],
         "type": "scatter",
         "xaxis": "x",
         "yaxis": "y"
        },
        {
         "legendgroup": "False Negative",
         "line": {
          "color": "#da4892",
          "dash": "dash",
          "width": 2
         },
         "mode": "lines",
         "name": "False Negative",
         "showlegend": true,
         "x": [
          -11.15999984741211,
          -12.885000228881836
         ],
         "y": [
          7.779999732971191,
          22.779998779296875
         ],
         "type": "scatter",
         "xaxis": "x",
         "yaxis": "y"
        },
        {
         "legendgroup": "False Negative",
         "line": {
          "color": "#da4892",
          "dash": "dash",
          "width": 2
         },
         "mode": "lines",
         "showlegend": false,
         "x": [
          -10.545000076293945,
          -11.085000038146973
         ],
         "y": [
          7.779999732971191,
          22.779998779296875
         ],
         "type": "scatter",
         "xaxis": "x",
         "yaxis": "y"
        },
        {
         "legendgroup": "False Positive",
         "line": {
          "color": "#1c965c",
          "dash": "solid",
          "width": 2
         },
         "mode": "lines",
         "name": "False Positive",
         "showlegend": true,
         "x": [
          -11.15999984741211,
          -10.454999923706055
         ],
         "y": [
          7.779999732971191,
          22.779998779296875
         ],
         "type": "scatter",
         "xaxis": "x",
         "yaxis": "y"
        },
        {
         "legendgroup": "False Negative",
         "line": {
          "color": "#da4892",
          "dash": "dash",
          "width": 2
         },
         "mode": "lines",
         "showlegend": false,
         "x": [
          -10.380000114440918,
          -10.454999923706055
         ],
         "y": [
          7.779999732971191,
          22.779998779296875
         ],
         "type": "scatter",
         "xaxis": "x",
         "yaxis": "y"
        },
        {
         "legendgroup": "False Negative",
         "line": {
          "color": "#da4892",
          "dash": "dash",
          "width": 2
         },
         "mode": "lines",
         "showlegend": false,
         "x": [
          -12.885000228881836,
          -14.850000381469727
         ],
         "y": [
          22.779998779296875,
          38.779998779296875
         ],
         "type": "scatter",
         "xaxis": "x",
         "yaxis": "y"
        },
        {
         "legendgroup": "False Negative",
         "line": {
          "color": "#da4892",
          "dash": "dash",
          "width": 2
         },
         "mode": "lines",
         "showlegend": false,
         "x": [
          -11.085000038146973,
          -11.654999732971191
         ],
         "y": [
          22.779998779296875,
          38.779998779296875
         ],
         "type": "scatter",
         "xaxis": "x",
         "yaxis": "y"
        },
        {
         "legendgroup": "False Negative",
         "line": {
          "color": "#da4892",
          "dash": "dash",
          "width": 2
         },
         "mode": "lines",
         "showlegend": false,
         "x": [
          -10.454999923706055,
          -10.425000190734863
         ],
         "y": [
          22.779998779296875,
          38.779998779296875
         ],
         "type": "scatter",
         "xaxis": "x",
         "yaxis": "y"
        },
        {
         "legendgroup": "False Negative",
         "line": {
          "color": "#da4892",
          "dash": "dash",
          "width": 2
         },
         "mode": "lines",
         "showlegend": false,
         "x": [
          -14.850000381469727,
          -16.815000534057617
         ],
         "y": [
          38.779998779296875,
          53.779998779296875
         ],
         "type": "scatter",
         "xaxis": "x",
         "yaxis": "y"
        },
        {
         "legendgroup": "False Negative",
         "line": {
          "color": "#da4892",
          "dash": "dash",
          "width": 2
         },
         "mode": "lines",
         "showlegend": false,
         "x": [
          -11.654999732971191,
          -12.194999694824219
         ],
         "y": [
          38.779998779296875,
          53.779998779296875
         ],
         "type": "scatter",
         "xaxis": "x",
         "yaxis": "y"
        },
        {
         "legendgroup": "False Negative",
         "line": {
          "color": "#da4892",
          "dash": "dash",
          "width": 2
         },
         "mode": "lines",
         "showlegend": false,
         "x": [
          -10.425000190734863,
          -10.335000038146973
         ],
         "y": [
          38.779998779296875,
          53.779998779296875
         ],
         "type": "scatter",
         "xaxis": "x",
         "yaxis": "y"
        },
        {
         "legendgroup": "False Negative",
         "line": {
          "color": "#da4892",
          "dash": "dash",
          "width": 2
         },
         "mode": "lines",
         "showlegend": false,
         "x": [
          -16.815000534057617,
          -21.959999084472656
         ],
         "y": [
          53.779998779296875,
          89.77999877929688
         ],
         "type": "scatter",
         "xaxis": "x",
         "yaxis": "y"
        },
        {
         "legendgroup": "False Positive",
         "line": {
          "color": "#1c965c",
          "dash": "solid",
          "width": 2
         },
         "mode": "lines",
         "showlegend": false,
         "x": [
          -16.815000534057617,
          -13.604999542236328
         ],
         "y": [
          53.779998779296875,
          89.77999877929688
         ],
         "type": "scatter",
         "xaxis": "x",
         "yaxis": "y"
        },
        {
         "legendgroup": "Correct",
         "line": {
          "color": "#965601",
          "dash": "solid",
          "width": 1
         },
         "mode": "lines",
         "name": "Correct",
         "showlegend": true,
         "x": [
          -12.194999694824219,
          -13.604999542236328
         ],
         "y": [
          53.779998779296875,
          89.77999877929688
         ],
         "type": "scatter",
         "xaxis": "x",
         "yaxis": "y"
        },
        {
         "legendgroup": "False Positive",
         "line": {
          "color": "#1c965c",
          "dash": "solid",
          "width": 2
         },
         "mode": "lines",
         "showlegend": false,
         "x": [
          -10.335000038146973,
          -13.604999542236328
         ],
         "y": [
          53.779998779296875,
          89.77999877929688
         ],
         "type": "scatter",
         "xaxis": "x",
         "yaxis": "y"
        },
        {
         "legendgroup": "False Positive",
         "line": {
          "color": "#1c965c",
          "dash": "solid",
          "width": 2
         },
         "mode": "lines",
         "showlegend": false,
         "x": [
          -10.335000038146973,
          -13.604999542236328
         ],
         "y": [
          53.779998779296875,
          89.77999877929688
         ],
         "type": "scatter",
         "xaxis": "x",
         "yaxis": "y"
        },
        {
         "legendgroup": "False Positive",
         "line": {
          "color": "#1c965c",
          "dash": "solid",
          "width": 2
         },
         "mode": "lines",
         "showlegend": false,
         "x": [
          -12.194999694824219,
          -9.795000076293945
         ],
         "y": [
          53.779998779296875,
          89.77999877929688
         ],
         "type": "scatter",
         "xaxis": "x",
         "yaxis": "y"
        },
        {
         "legendgroup": "Correct",
         "line": {
          "color": "#965601",
          "dash": "solid",
          "width": 1
         },
         "mode": "lines",
         "showlegend": false,
         "x": [
          -10.335000038146973,
          -9.795000076293945
         ],
         "y": [
          53.779998779296875,
          89.77999877929688
         ],
         "type": "scatter",
         "xaxis": "x",
         "yaxis": "y"
        },
        {
         "legendgroup": "False Positive",
         "line": {
          "color": "#1c965c",
          "dash": "solid",
          "width": 2
         },
         "mode": "lines",
         "showlegend": false,
         "x": [
          -10.335000038146973,
          -9.795000076293945
         ],
         "y": [
          53.779998779296875,
          89.77999877929688
         ],
         "type": "scatter",
         "xaxis": "x",
         "yaxis": "y"
        },
        {
         "legendgroup": "False Negative",
         "line": {
          "color": "#da4892",
          "dash": "dash",
          "width": 2
         },
         "mode": "lines",
         "showlegend": false,
         "x": [
          -21.959999084472656,
          -37.73999786376953
         ],
         "y": [
          89.77999877929688,
          180.27999877929688
         ],
         "type": "scatter",
         "xaxis": "x",
         "yaxis": "y"
        },
        {
         "legendgroup": "False Positive",
         "line": {
          "color": "#1c965c",
          "dash": "solid",
          "width": 2
         },
         "mode": "lines",
         "showlegend": false,
         "x": [
          -13.604999542236328,
          -37.73999786376953
         ],
         "y": [
          89.77999877929688,
          180.27999877929688
         ],
         "type": "scatter",
         "xaxis": "x",
         "yaxis": "y"
        },
        {
         "legendgroup": "False Positive",
         "line": {
          "color": "#1c965c",
          "dash": "solid",
          "width": 2
         },
         "mode": "lines",
         "showlegend": false,
         "x": [
          -9.795000076293945,
          -37.73999786376953
         ],
         "y": [
          89.77999877929688,
          180.27999877929688
         ],
         "type": "scatter",
         "xaxis": "x",
         "yaxis": "y"
        },
        {
         "legendgroup": "Correct",
         "line": {
          "color": "#965601",
          "dash": "solid",
          "width": 1
         },
         "mode": "lines",
         "showlegend": false,
         "x": [
          -13.604999542236328,
          -17.5049991607666
         ],
         "y": [
          89.77999877929688,
          180.27999877929688
         ],
         "type": "scatter",
         "xaxis": "x",
         "yaxis": "y"
        },
        {
         "legendgroup": "False Positive",
         "line": {
          "color": "#1c965c",
          "dash": "solid",
          "width": 2
         },
         "mode": "lines",
         "showlegend": false,
         "x": [
          -9.795000076293945,
          -17.5049991607666
         ],
         "y": [
          89.77999877929688,
          180.27999877929688
         ],
         "type": "scatter",
         "xaxis": "x",
         "yaxis": "y"
        },
        {
         "legendgroup": "False Positive",
         "line": {
          "color": "#1c965c",
          "dash": "solid",
          "width": 2
         },
         "mode": "lines",
         "showlegend": false,
         "x": [
          -13.604999542236328,
          -6.554999828338623
         ],
         "y": [
          89.77999877929688,
          180.27999877929688
         ],
         "type": "scatter",
         "xaxis": "x",
         "yaxis": "y"
        },
        {
         "legendgroup": "Correct",
         "line": {
          "color": "#965601",
          "dash": "solid",
          "width": 1
         },
         "mode": "lines",
         "showlegend": false,
         "x": [
          -9.795000076293945,
          -6.554999828338623
         ],
         "y": [
          89.77999877929688,
          180.27999877929688
         ],
         "type": "scatter",
         "xaxis": "x",
         "yaxis": "y"
        },
        {
         "marker": {
          "color": "#965601",
          "size": 7
         },
         "mode": "markers",
         "showlegend": false,
         "x": [
          -10.483312606811523,
          1.821808099746704,
          5.423312187194824,
          -22.773056030273438,
          -10.467935562133789,
          -6.86643123626709,
          -26.07030487060547,
          -13.76518440246582,
          -10.163680076599121,
          -10.1821928024292,
          -46.19719696044922,
          -58.5023193359375,
          25.787805557250977,
          -10.227198600769043,
          -22.532320022583008,
          38.3773078918457,
          2.3623015880584717,
          -9.942818641662598,
          -11.175824165344238,
          53.351070404052734,
          79.16181182861328,
          -75.02257537841797,
          -10.495683670043945,
          15.315058708190918,
          -99.60206604003906,
          -35.075172424316406,
          -9.264429092407227,
          -10.684210777282715,
          -102.2223129272461,
          81.6387939453125,
          -9.899306297302246,
          -45.914310455322266,
          -42.31280517578125,
          27.269681930541992,
          -8.745323181152344,
          -5.1438188552856445,
          -11.653759956359863,
          -10.544450759887695,
          68.08829498291016,
          -86.6809310913086,
          -8.048181533813477,
          -12.261737823486328,
          -10.967020988464355,
          -6.13871431350708
         ],
         "y": [
          7.779999732971191,
          7.779999732971191,
          7.779999732971191,
          7.779999732971191,
          7.779999732971191,
          7.779999732971191,
          7.779999732971191,
          7.779999732971191,
          7.779999732971191,
          22.779998779296875,
          22.779998779296875,
          22.779998779296875,
          22.779998779296875,
          22.779998779296875,
          22.779998779296875,
          22.779998779296875,
          22.779998779296875,
          22.779998779296875,
          38.779998779296875,
          38.779998779296875,
          38.779998779296875,
          38.779998779296875,
          38.779998779296875,
          38.779998779296875,
          38.779998779296875,
          38.779998779296875,
          38.779998779296875,
          53.779998779296875,
          53.779998779296875,
          53.779998779296875,
          53.779998779296875,
          53.779998779296875,
          53.779998779296875,
          53.779998779296875,
          53.779998779296875,
          53.779998779296875,
          89.77999877929688,
          89.77999877929688,
          89.77999877929688,
          89.77999877929688,
          89.77999877929688,
          180.27999877929688,
          180.27999877929688,
          180.27999877929688
         ],
         "type": "scatter",
         "xaxis": "x2",
         "yaxis": "y2"
        },
        {
         "legendgroup": "False Negative",
         "line": {
          "color": "#da4892",
          "dash": "dash",
          "width": 2
         },
         "mode": "lines",
         "showlegend": false,
         "x": [
          -10.483312606811523,
          -10.1821928024292
         ],
         "y": [
          7.779999732971191,
          22.779998779296875
         ],
         "type": "scatter",
         "xaxis": "x2",
         "yaxis": "y2"
        },
        {
         "legendgroup": "False Negative",
         "line": {
          "color": "#da4892",
          "dash": "dash",
          "width": 2
         },
         "mode": "lines",
         "showlegend": false,
         "x": [
          -10.467935562133789,
          -10.227198600769043
         ],
         "y": [
          7.779999732971191,
          22.779998779296875
         ],
         "type": "scatter",
         "xaxis": "x2",
         "yaxis": "y2"
        },
        {
         "legendgroup": "False Positive",
         "line": {
          "color": "#1c965c",
          "dash": "solid",
          "width": 2
         },
         "mode": "lines",
         "showlegend": false,
         "x": [
          1.821808099746704,
          2.3623015880584717
         ],
         "y": [
          7.779999732971191,
          22.779998779296875
         ],
         "type": "scatter",
         "xaxis": "x2",
         "yaxis": "y2"
        },
        {
         "legendgroup": "False Negative",
         "line": {
          "color": "#da4892",
          "dash": "dash",
          "width": 2
         },
         "mode": "lines",
         "showlegend": false,
         "x": [
          -10.163680076599121,
          -9.942818641662598
         ],
         "y": [
          7.779999732971191,
          22.779998779296875
         ],
         "type": "scatter",
         "xaxis": "x2",
         "yaxis": "y2"
        },
        {
         "legendgroup": "False Negative",
         "line": {
          "color": "#da4892",
          "dash": "dash",
          "width": 2
         },
         "mode": "lines",
         "showlegend": false,
         "x": [
          -10.1821928024292,
          -11.175824165344238
         ],
         "y": [
          22.779998779296875,
          38.779998779296875
         ],
         "type": "scatter",
         "xaxis": "x2",
         "yaxis": "y2"
        },
        {
         "legendgroup": "False Negative",
         "line": {
          "color": "#da4892",
          "dash": "dash",
          "width": 2
         },
         "mode": "lines",
         "showlegend": false,
         "x": [
          -10.227198600769043,
          -10.495683670043945
         ],
         "y": [
          22.779998779296875,
          38.779998779296875
         ],
         "type": "scatter",
         "xaxis": "x2",
         "yaxis": "y2"
        },
        {
         "legendgroup": "False Negative",
         "line": {
          "color": "#da4892",
          "dash": "dash",
          "width": 2
         },
         "mode": "lines",
         "showlegend": false,
         "x": [
          -9.942818641662598,
          -9.264429092407227
         ],
         "y": [
          22.779998779296875,
          38.779998779296875
         ],
         "type": "scatter",
         "xaxis": "x2",
         "yaxis": "y2"
        },
        {
         "legendgroup": "False Negative",
         "line": {
          "color": "#da4892",
          "dash": "dash",
          "width": 2
         },
         "mode": "lines",
         "showlegend": false,
         "x": [
          -11.175824165344238,
          -10.684210777282715
         ],
         "y": [
          38.779998779296875,
          53.779998779296875
         ],
         "type": "scatter",
         "xaxis": "x2",
         "yaxis": "y2"
        },
        {
         "legendgroup": "False Negative",
         "line": {
          "color": "#da4892",
          "dash": "dash",
          "width": 2
         },
         "mode": "lines",
         "showlegend": false,
         "x": [
          -10.495683670043945,
          -9.899306297302246
         ],
         "y": [
          38.779998779296875,
          53.779998779296875
         ],
         "type": "scatter",
         "xaxis": "x2",
         "yaxis": "y2"
        },
        {
         "legendgroup": "False Negative",
         "line": {
          "color": "#da4892",
          "dash": "dash",
          "width": 2
         },
         "mode": "lines",
         "showlegend": false,
         "x": [
          -9.264429092407227,
          -8.745323181152344
         ],
         "y": [
          38.779998779296875,
          53.779998779296875
         ],
         "type": "scatter",
         "xaxis": "x2",
         "yaxis": "y2"
        },
        {
         "legendgroup": "False Negative",
         "line": {
          "color": "#da4892",
          "dash": "dash",
          "width": 2
         },
         "mode": "lines",
         "showlegend": false,
         "x": [
          -10.684210777282715,
          -11.653759956359863
         ],
         "y": [
          53.779998779296875,
          89.77999877929688
         ],
         "type": "scatter",
         "xaxis": "x2",
         "yaxis": "y2"
        },
        {
         "legendgroup": "False Positive",
         "line": {
          "color": "#1c965c",
          "dash": "solid",
          "width": 2
         },
         "mode": "lines",
         "showlegend": false,
         "x": [
          -10.684210777282715,
          -10.544450759887695
         ],
         "y": [
          53.779998779296875,
          89.77999877929688
         ],
         "type": "scatter",
         "xaxis": "x2",
         "yaxis": "y2"
        },
        {
         "legendgroup": "Correct",
         "line": {
          "color": "#965601",
          "dash": "solid",
          "width": 1
         },
         "mode": "lines",
         "showlegend": false,
         "x": [
          -9.899306297302246,
          -10.544450759887695
         ],
         "y": [
          53.779998779296875,
          89.77999877929688
         ],
         "type": "scatter",
         "xaxis": "x2",
         "yaxis": "y2"
        },
        {
         "legendgroup": "False Positive",
         "line": {
          "color": "#1c965c",
          "dash": "solid",
          "width": 2
         },
         "mode": "lines",
         "showlegend": false,
         "x": [
          -8.745323181152344,
          -10.544450759887695
         ],
         "y": [
          53.779998779296875,
          89.77999877929688
         ],
         "type": "scatter",
         "xaxis": "x2",
         "yaxis": "y2"
        },
        {
         "legendgroup": "False Positive",
         "line": {
          "color": "#1c965c",
          "dash": "solid",
          "width": 2
         },
         "mode": "lines",
         "showlegend": false,
         "x": [
          -5.1438188552856445,
          -10.544450759887695
         ],
         "y": [
          53.779998779296875,
          89.77999877929688
         ],
         "type": "scatter",
         "xaxis": "x2",
         "yaxis": "y2"
        },
        {
         "legendgroup": "False Positive",
         "line": {
          "color": "#1c965c",
          "dash": "solid",
          "width": 2
         },
         "mode": "lines",
         "showlegend": false,
         "x": [
          -9.899306297302246,
          -8.048181533813477
         ],
         "y": [
          53.779998779296875,
          89.77999877929688
         ],
         "type": "scatter",
         "xaxis": "x2",
         "yaxis": "y2"
        },
        {
         "legendgroup": "Correct",
         "line": {
          "color": "#965601",
          "dash": "solid",
          "width": 1
         },
         "mode": "lines",
         "showlegend": false,
         "x": [
          -8.745323181152344,
          -8.048181533813477
         ],
         "y": [
          53.779998779296875,
          89.77999877929688
         ],
         "type": "scatter",
         "xaxis": "x2",
         "yaxis": "y2"
        },
        {
         "legendgroup": "False Positive",
         "line": {
          "color": "#1c965c",
          "dash": "solid",
          "width": 2
         },
         "mode": "lines",
         "showlegend": false,
         "x": [
          -5.1438188552856445,
          -8.048181533813477
         ],
         "y": [
          53.779998779296875,
          89.77999877929688
         ],
         "type": "scatter",
         "xaxis": "x2",
         "yaxis": "y2"
        },
        {
         "legendgroup": "False Negative",
         "line": {
          "color": "#da4892",
          "dash": "dash",
          "width": 2
         },
         "mode": "lines",
         "showlegend": false,
         "x": [
          -11.653759956359863,
          -12.261737823486328
         ],
         "y": [
          89.77999877929688,
          180.27999877929688
         ],
         "type": "scatter",
         "xaxis": "x2",
         "yaxis": "y2"
        },
        {
         "legendgroup": "False Positive",
         "line": {
          "color": "#1c965c",
          "dash": "solid",
          "width": 2
         },
         "mode": "lines",
         "showlegend": false,
         "x": [
          -10.544450759887695,
          -12.261737823486328
         ],
         "y": [
          89.77999877929688,
          180.27999877929688
         ],
         "type": "scatter",
         "xaxis": "x2",
         "yaxis": "y2"
        },
        {
         "legendgroup": "False Positive",
         "line": {
          "color": "#1c965c",
          "dash": "solid",
          "width": 2
         },
         "mode": "lines",
         "showlegend": false,
         "x": [
          -8.048181533813477,
          -12.261737823486328
         ],
         "y": [
          89.77999877929688,
          180.27999877929688
         ],
         "type": "scatter",
         "xaxis": "x2",
         "yaxis": "y2"
        },
        {
         "legendgroup": "Correct",
         "line": {
          "color": "#965601",
          "dash": "solid",
          "width": 1
         },
         "mode": "lines",
         "showlegend": false,
         "x": [
          -10.544450759887695,
          -10.967020988464355
         ],
         "y": [
          89.77999877929688,
          180.27999877929688
         ],
         "type": "scatter",
         "xaxis": "x2",
         "yaxis": "y2"
        },
        {
         "legendgroup": "False Positive",
         "line": {
          "color": "#1c965c",
          "dash": "solid",
          "width": 2
         },
         "mode": "lines",
         "showlegend": false,
         "x": [
          -8.048181533813477,
          -10.967020988464355
         ],
         "y": [
          89.77999877929688,
          180.27999877929688
         ],
         "type": "scatter",
         "xaxis": "x2",
         "yaxis": "y2"
        },
        {
         "legendgroup": "False Positive",
         "line": {
          "color": "#1c965c",
          "dash": "solid",
          "width": 2
         },
         "mode": "lines",
         "showlegend": false,
         "x": [
          -10.544450759887695,
          -6.13871431350708
         ],
         "y": [
          89.77999877929688,
          180.27999877929688
         ],
         "type": "scatter",
         "xaxis": "x2",
         "yaxis": "y2"
        },
        {
         "legendgroup": "Correct",
         "line": {
          "color": "#965601",
          "dash": "solid",
          "width": 1
         },
         "mode": "lines",
         "showlegend": false,
         "x": [
          -8.048181533813477,
          -6.13871431350708
         ],
         "y": [
          89.77999877929688,
          180.27999877929688
         ],
         "type": "scatter",
         "xaxis": "x2",
         "yaxis": "y2"
        }
       ],
       "layout": {
        "template": {
         "data": {
          "histogram2dcontour": [
           {
            "type": "histogram2dcontour",
            "colorbar": {
             "outlinewidth": 0,
             "ticks": ""
            },
            "colorscale": [
             [
              0.0,
              "#0d0887"
             ],
             [
              0.1111111111111111,
              "#46039f"
             ],
             [
              0.2222222222222222,
              "#7201a8"
             ],
             [
              0.3333333333333333,
              "#9c179e"
             ],
             [
              0.4444444444444444,
              "#bd3786"
             ],
             [
              0.5555555555555556,
              "#d8576b"
             ],
             [
              0.6666666666666666,
              "#ed7953"
             ],
             [
              0.7777777777777778,
              "#fb9f3a"
             ],
             [
              0.8888888888888888,
              "#fdca26"
             ],
             [
              1.0,
              "#f0f921"
             ]
            ]
           }
          ],
          "choropleth": [
           {
            "type": "choropleth",
            "colorbar": {
             "outlinewidth": 0,
             "ticks": ""
            }
           }
          ],
          "histogram2d": [
           {
            "type": "histogram2d",
            "colorbar": {
             "outlinewidth": 0,
             "ticks": ""
            },
            "colorscale": [
             [
              0.0,
              "#0d0887"
             ],
             [
              0.1111111111111111,
              "#46039f"
             ],
             [
              0.2222222222222222,
              "#7201a8"
             ],
             [
              0.3333333333333333,
              "#9c179e"
             ],
             [
              0.4444444444444444,
              "#bd3786"
             ],
             [
              0.5555555555555556,
              "#d8576b"
             ],
             [
              0.6666666666666666,
              "#ed7953"
             ],
             [
              0.7777777777777778,
              "#fb9f3a"
             ],
             [
              0.8888888888888888,
              "#fdca26"
             ],
             [
              1.0,
              "#f0f921"
             ]
            ]
           }
          ],
          "heatmap": [
           {
            "type": "heatmap",
            "colorbar": {
             "outlinewidth": 0,
             "ticks": ""
            },
            "colorscale": [
             [
              0.0,
              "#0d0887"
             ],
             [
              0.1111111111111111,
              "#46039f"
             ],
             [
              0.2222222222222222,
              "#7201a8"
             ],
             [
              0.3333333333333333,
              "#9c179e"
             ],
             [
              0.4444444444444444,
              "#bd3786"
             ],
             [
              0.5555555555555556,
              "#d8576b"
             ],
             [
              0.6666666666666666,
              "#ed7953"
             ],
             [
              0.7777777777777778,
              "#fb9f3a"
             ],
             [
              0.8888888888888888,
              "#fdca26"
             ],
             [
              1.0,
              "#f0f921"
             ]
            ]
           }
          ],
          "heatmapgl": [
           {
            "type": "heatmapgl",
            "colorbar": {
             "outlinewidth": 0,
             "ticks": ""
            },
            "colorscale": [
             [
              0.0,
              "#0d0887"
             ],
             [
              0.1111111111111111,
              "#46039f"
             ],
             [
              0.2222222222222222,
              "#7201a8"
             ],
             [
              0.3333333333333333,
              "#9c179e"
             ],
             [
              0.4444444444444444,
              "#bd3786"
             ],
             [
              0.5555555555555556,
              "#d8576b"
             ],
             [
              0.6666666666666666,
              "#ed7953"
             ],
             [
              0.7777777777777778,
              "#fb9f3a"
             ],
             [
              0.8888888888888888,
              "#fdca26"
             ],
             [
              1.0,
              "#f0f921"
             ]
            ]
           }
          ],
          "contourcarpet": [
           {
            "type": "contourcarpet",
            "colorbar": {
             "outlinewidth": 0,
             "ticks": ""
            }
           }
          ],
          "contour": [
           {
            "type": "contour",
            "colorbar": {
             "outlinewidth": 0,
             "ticks": ""
            },
            "colorscale": [
             [
              0.0,
              "#0d0887"
             ],
             [
              0.1111111111111111,
              "#46039f"
             ],
             [
              0.2222222222222222,
              "#7201a8"
             ],
             [
              0.3333333333333333,
              "#9c179e"
             ],
             [
              0.4444444444444444,
              "#bd3786"
             ],
             [
              0.5555555555555556,
              "#d8576b"
             ],
             [
              0.6666666666666666,
              "#ed7953"
             ],
             [
              0.7777777777777778,
              "#fb9f3a"
             ],
             [
              0.8888888888888888,
              "#fdca26"
             ],
             [
              1.0,
              "#f0f921"
             ]
            ]
           }
          ],
          "surface": [
           {
            "type": "surface",
            "colorbar": {
             "outlinewidth": 0,
             "ticks": ""
            },
            "colorscale": [
             [
              0.0,
              "#0d0887"
             ],
             [
              0.1111111111111111,
              "#46039f"
             ],
             [
              0.2222222222222222,
              "#7201a8"
             ],
             [
              0.3333333333333333,
              "#9c179e"
             ],
             [
              0.4444444444444444,
              "#bd3786"
             ],
             [
              0.5555555555555556,
              "#d8576b"
             ],
             [
              0.6666666666666666,
              "#ed7953"
             ],
             [
              0.7777777777777778,
              "#fb9f3a"
             ],
             [
              0.8888888888888888,
              "#fdca26"
             ],
             [
              1.0,
              "#f0f921"
             ]
            ]
           }
          ],
          "mesh3d": [
           {
            "type": "mesh3d",
            "colorbar": {
             "outlinewidth": 0,
             "ticks": ""
            }
           }
          ],
          "scatter": [
           {
            "fillpattern": {
             "fillmode": "overlay",
             "size": 10,
             "solidity": 0.2
            },
            "type": "scatter"
           }
          ],
          "parcoords": [
           {
            "type": "parcoords",
            "line": {
             "colorbar": {
              "outlinewidth": 0,
              "ticks": ""
             }
            }
           }
          ],
          "scatterpolargl": [
           {
            "type": "scatterpolargl",
            "marker": {
             "colorbar": {
              "outlinewidth": 0,
              "ticks": ""
             }
            }
           }
          ],
          "bar": [
           {
            "error_x": {
             "color": "#2a3f5f"
            },
            "error_y": {
             "color": "#2a3f5f"
            },
            "marker": {
             "line": {
              "color": "#E5ECF6",
              "width": 0.5
             },
             "pattern": {
              "fillmode": "overlay",
              "size": 10,
              "solidity": 0.2
             }
            },
            "type": "bar"
           }
          ],
          "scattergeo": [
           {
            "type": "scattergeo",
            "marker": {
             "colorbar": {
              "outlinewidth": 0,
              "ticks": ""
             }
            }
           }
          ],
          "scatterpolar": [
           {
            "type": "scatterpolar",
            "marker": {
             "colorbar": {
              "outlinewidth": 0,
              "ticks": ""
             }
            }
           }
          ],
          "histogram": [
           {
            "marker": {
             "pattern": {
              "fillmode": "overlay",
              "size": 10,
              "solidity": 0.2
             }
            },
            "type": "histogram"
           }
          ],
          "scattergl": [
           {
            "type": "scattergl",
            "marker": {
             "colorbar": {
              "outlinewidth": 0,
              "ticks": ""
             }
            }
           }
          ],
          "scatter3d": [
           {
            "type": "scatter3d",
            "line": {
             "colorbar": {
              "outlinewidth": 0,
              "ticks": ""
             }
            },
            "marker": {
             "colorbar": {
              "outlinewidth": 0,
              "ticks": ""
             }
            }
           }
          ],
          "scattermapbox": [
           {
            "type": "scattermapbox",
            "marker": {
             "colorbar": {
              "outlinewidth": 0,
              "ticks": ""
             }
            }
           }
          ],
          "scatterternary": [
           {
            "type": "scatterternary",
            "marker": {
             "colorbar": {
              "outlinewidth": 0,
              "ticks": ""
             }
            }
           }
          ],
          "scattercarpet": [
           {
            "type": "scattercarpet",
            "marker": {
             "colorbar": {
              "outlinewidth": 0,
              "ticks": ""
             }
            }
           }
          ],
          "carpet": [
           {
            "aaxis": {
             "endlinecolor": "#2a3f5f",
             "gridcolor": "white",
             "linecolor": "white",
             "minorgridcolor": "white",
             "startlinecolor": "#2a3f5f"
            },
            "baxis": {
             "endlinecolor": "#2a3f5f",
             "gridcolor": "white",
             "linecolor": "white",
             "minorgridcolor": "white",
             "startlinecolor": "#2a3f5f"
            },
            "type": "carpet"
           }
          ],
          "table": [
           {
            "cells": {
             "fill": {
              "color": "#EBF0F8"
             },
             "line": {
              "color": "white"
             }
            },
            "header": {
             "fill": {
              "color": "#C8D4E3"
             },
             "line": {
              "color": "white"
             }
            },
            "type": "table"
           }
          ],
          "barpolar": [
           {
            "marker": {
             "line": {
              "color": "#E5ECF6",
              "width": 0.5
             },
             "pattern": {
              "fillmode": "overlay",
              "size": 10,
              "solidity": 0.2
             }
            },
            "type": "barpolar"
           }
          ],
          "pie": [
           {
            "automargin": true,
            "type": "pie"
           }
          ]
         },
         "layout": {
          "autotypenumbers": "strict",
          "colorway": [
           "#636efa",
           "#EF553B",
           "#00cc96",
           "#ab63fa",
           "#FFA15A",
           "#19d3f3",
           "#FF6692",
           "#B6E880",
           "#FF97FF",
           "#FECB52"
          ],
          "font": {
           "color": "#2a3f5f"
          },
          "hovermode": "closest",
          "hoverlabel": {
           "align": "left"
          },
          "paper_bgcolor": "white",
          "plot_bgcolor": "#E5ECF6",
          "polar": {
           "bgcolor": "#E5ECF6",
           "angularaxis": {
            "gridcolor": "white",
            "linecolor": "white",
            "ticks": ""
           },
           "radialaxis": {
            "gridcolor": "white",
            "linecolor": "white",
            "ticks": ""
           }
          },
          "ternary": {
           "bgcolor": "#E5ECF6",
           "aaxis": {
            "gridcolor": "white",
            "linecolor": "white",
            "ticks": ""
           },
           "baxis": {
            "gridcolor": "white",
            "linecolor": "white",
            "ticks": ""
           },
           "caxis": {
            "gridcolor": "white",
            "linecolor": "white",
            "ticks": ""
           }
          },
          "coloraxis": {
           "colorbar": {
            "outlinewidth": 0,
            "ticks": ""
           }
          },
          "colorscale": {
           "sequential": [
            [
             0.0,
             "#0d0887"
            ],
            [
             0.1111111111111111,
             "#46039f"
            ],
            [
             0.2222222222222222,
             "#7201a8"
            ],
            [
             0.3333333333333333,
             "#9c179e"
            ],
            [
             0.4444444444444444,
             "#bd3786"
            ],
            [
             0.5555555555555556,
             "#d8576b"
            ],
            [
             0.6666666666666666,
             "#ed7953"
            ],
            [
             0.7777777777777778,
             "#fb9f3a"
            ],
            [
             0.8888888888888888,
             "#fdca26"
            ],
            [
             1.0,
             "#f0f921"
            ]
           ],
           "sequentialminus": [
            [
             0.0,
             "#0d0887"
            ],
            [
             0.1111111111111111,
             "#46039f"
            ],
            [
             0.2222222222222222,
             "#7201a8"
            ],
            [
             0.3333333333333333,
             "#9c179e"
            ],
            [
             0.4444444444444444,
             "#bd3786"
            ],
            [
             0.5555555555555556,
             "#d8576b"
            ],
            [
             0.6666666666666666,
             "#ed7953"
            ],
            [
             0.7777777777777778,
             "#fb9f3a"
            ],
            [
             0.8888888888888888,
             "#fdca26"
            ],
            [
             1.0,
             "#f0f921"
            ]
           ],
           "diverging": [
            [
             0,
             "#8e0152"
            ],
            [
             0.1,
             "#c51b7d"
            ],
            [
             0.2,
             "#de77ae"
            ],
            [
             0.3,
             "#f1b6da"
            ],
            [
             0.4,
             "#fde0ef"
            ],
            [
             0.5,
             "#f7f7f7"
            ],
            [
             0.6,
             "#e6f5d0"
            ],
            [
             0.7,
             "#b8e186"
            ],
            [
             0.8,
             "#7fbc41"
            ],
            [
             0.9,
             "#4d9221"
            ],
            [
             1,
             "#276419"
            ]
           ]
          },
          "xaxis": {
           "gridcolor": "white",
           "linecolor": "white",
           "ticks": "",
           "title": {
            "standoff": 15
           },
           "zerolinecolor": "white",
           "automargin": true,
           "zerolinewidth": 2
          },
          "yaxis": {
           "gridcolor": "white",
           "linecolor": "white",
           "ticks": "",
           "title": {
            "standoff": 15
           },
           "zerolinecolor": "white",
           "automargin": true,
           "zerolinewidth": 2
          },
          "scene": {
           "xaxis": {
            "backgroundcolor": "#E5ECF6",
            "gridcolor": "white",
            "linecolor": "white",
            "showbackground": true,
            "ticks": "",
            "zerolinecolor": "white",
            "gridwidth": 2
           },
           "yaxis": {
            "backgroundcolor": "#E5ECF6",
            "gridcolor": "white",
            "linecolor": "white",
            "showbackground": true,
            "ticks": "",
            "zerolinecolor": "white",
            "gridwidth": 2
           },
           "zaxis": {
            "backgroundcolor": "#E5ECF6",
            "gridcolor": "white",
            "linecolor": "white",
            "showbackground": true,
            "ticks": "",
            "zerolinecolor": "white",
            "gridwidth": 2
           }
          },
          "shapedefaults": {
           "line": {
            "color": "#2a3f5f"
           }
          },
          "annotationdefaults": {
           "arrowcolor": "#2a3f5f",
           "arrowhead": 0,
           "arrowwidth": 1
          },
          "geo": {
           "bgcolor": "white",
           "landcolor": "#E5ECF6",
           "subunitcolor": "white",
           "showland": true,
           "showlakes": true,
           "lakecolor": "white"
          },
          "title": {
           "x": 0.05
          },
          "mapbox": {
           "style": "light"
          }
         }
        },
        "xaxis": {
         "anchor": "y",
         "domain": [
          0.0,
          0.5
         ],
         "title": {
          "text": "x [mm]"
         },
         "range": [
          -275,
          275
         ],
         "showgrid": false,
         "mirror": true,
         "linecolor": "#666666",
         "gridcolor": "#d9d9d9",
         "zeroline": false
        },
        "yaxis": {
         "anchor": "x",
         "domain": [
          0.0,
          1.0
         ],
         "title": {
          "text": "z [mm]"
         },
         "showgrid": false,
         "mirror": true,
         "linecolor": "#666666",
         "gridcolor": "#d9d9d9",
         "zeroline": false
        },
        "xaxis2": {
         "anchor": "y2",
         "domain": [
          0.5,
          1.0
         ],
         "title": {
          "text": "y [mm]"
         },
         "range": [
          -275,
          275
         ],
         "showgrid": false,
         "mirror": true,
         "linecolor": "#666666",
         "gridcolor": "#d9d9d9",
         "zeroline": false
        },
        "yaxis2": {
         "anchor": "x2",
         "domain": [
          0.0,
          1.0
         ],
         "matches": "y",
         "showticklabels": false,
         "title": {
          "text": ""
         },
         "showgrid": false,
         "mirror": true,
         "linecolor": "#666666",
         "gridcolor": "#d9d9d9",
         "zeroline": false
        },
        "legend": {
         "orientation": "h",
         "yanchor": "bottom",
         "y": 1.01,
         "xanchor": "right",
         "x": 0.99,
         "traceorder": "reversed"
        },
        "width": 1200,
        "height": 700,
        "autosize": false,
        "paper_bgcolor": "rgba(0,0,0,0)",
        "plot_bgcolor": "rgba(0,0,0,0)"
       },
       "config": {
        "plotlyServerURL": "https://plot.ly"
       }
      },
      "text/html": "<div>                            <div id=\"c6aeaba1-4d3a-4dca-bbfc-37b486c3686b\" class=\"plotly-graph-div\" style=\"height:700px; width:1200px;\"></div>            <script type=\"text/javascript\">                require([\"plotly\"], function(Plotly) {                    window.PLOTLYENV=window.PLOTLYENV || {};                                    if (document.getElementById(\"c6aeaba1-4d3a-4dca-bbfc-37b486c3686b\")) {                    Plotly.newPlot(                        \"c6aeaba1-4d3a-4dca-bbfc-37b486c3686b\",                        [{\"marker\":{\"color\":\"#965601\",\"size\":7},\"mode\":\"markers\",\"showlegend\":false,\"x\":[-11.15999984741211,-11.15999984741211,-11.15999984741211,-10.545000076293945,-10.545000076293945,-10.545000076293945,-10.380000114440918,-10.380000114440918,-10.380000114440918,-12.885000228881836,-12.885000228881836,-12.885000228881836,-11.085000038146973,-11.085000038146973,-11.085000038146973,-10.454999923706055,-10.454999923706055,-10.454999923706055,-14.850000381469727,-14.850000381469727,-14.850000381469727,-11.654999732971191,-11.654999732971191,-11.654999732971191,-10.425000190734863,-10.425000190734863,-10.425000190734863,-16.815000534057617,-16.815000534057617,-12.194999694824219,-12.194999694824219,-12.194999694824219,-12.194999694824219,-10.335000038146973,-10.335000038146973,-10.335000038146973,-21.959999084472656,-13.604999542236328,-13.604999542236328,-9.795000076293945,-9.795000076293945,-37.73999786376953,-17.5049991607666,-6.554999828338623],\"y\":[7.779999732971191,7.779999732971191,7.779999732971191,7.779999732971191,7.779999732971191,7.779999732971191,7.779999732971191,7.779999732971191,7.779999732971191,22.779998779296875,22.779998779296875,22.779998779296875,22.779998779296875,22.779998779296875,22.779998779296875,22.779998779296875,22.779998779296875,22.779998779296875,38.779998779296875,38.779998779296875,38.779998779296875,38.779998779296875,38.779998779296875,38.779998779296875,38.779998779296875,38.779998779296875,38.779998779296875,53.779998779296875,53.779998779296875,53.779998779296875,53.779998779296875,53.779998779296875,53.779998779296875,53.779998779296875,53.779998779296875,53.779998779296875,89.77999877929688,89.77999877929688,89.77999877929688,89.77999877929688,89.77999877929688,180.27999877929688,180.27999877929688,180.27999877929688],\"type\":\"scatter\",\"xaxis\":\"x\",\"yaxis\":\"y\"},{\"legendgroup\":\"False Negative\",\"line\":{\"color\":\"#da4892\",\"dash\":\"dash\",\"width\":2},\"mode\":\"lines\",\"name\":\"False Negative\",\"showlegend\":true,\"x\":[-11.15999984741211,-12.885000228881836],\"y\":[7.779999732971191,22.779998779296875],\"type\":\"scatter\",\"xaxis\":\"x\",\"yaxis\":\"y\"},{\"legendgroup\":\"False Negative\",\"line\":{\"color\":\"#da4892\",\"dash\":\"dash\",\"width\":2},\"mode\":\"lines\",\"showlegend\":false,\"x\":[-10.545000076293945,-11.085000038146973],\"y\":[7.779999732971191,22.779998779296875],\"type\":\"scatter\",\"xaxis\":\"x\",\"yaxis\":\"y\"},{\"legendgroup\":\"False Positive\",\"line\":{\"color\":\"#1c965c\",\"dash\":\"solid\",\"width\":2},\"mode\":\"lines\",\"name\":\"False Positive\",\"showlegend\":true,\"x\":[-11.15999984741211,-10.454999923706055],\"y\":[7.779999732971191,22.779998779296875],\"type\":\"scatter\",\"xaxis\":\"x\",\"yaxis\":\"y\"},{\"legendgroup\":\"False Negative\",\"line\":{\"color\":\"#da4892\",\"dash\":\"dash\",\"width\":2},\"mode\":\"lines\",\"showlegend\":false,\"x\":[-10.380000114440918,-10.454999923706055],\"y\":[7.779999732971191,22.779998779296875],\"type\":\"scatter\",\"xaxis\":\"x\",\"yaxis\":\"y\"},{\"legendgroup\":\"False Negative\",\"line\":{\"color\":\"#da4892\",\"dash\":\"dash\",\"width\":2},\"mode\":\"lines\",\"showlegend\":false,\"x\":[-12.885000228881836,-14.850000381469727],\"y\":[22.779998779296875,38.779998779296875],\"type\":\"scatter\",\"xaxis\":\"x\",\"yaxis\":\"y\"},{\"legendgroup\":\"False Negative\",\"line\":{\"color\":\"#da4892\",\"dash\":\"dash\",\"width\":2},\"mode\":\"lines\",\"showlegend\":false,\"x\":[-11.085000038146973,-11.654999732971191],\"y\":[22.779998779296875,38.779998779296875],\"type\":\"scatter\",\"xaxis\":\"x\",\"yaxis\":\"y\"},{\"legendgroup\":\"False Negative\",\"line\":{\"color\":\"#da4892\",\"dash\":\"dash\",\"width\":2},\"mode\":\"lines\",\"showlegend\":false,\"x\":[-10.454999923706055,-10.425000190734863],\"y\":[22.779998779296875,38.779998779296875],\"type\":\"scatter\",\"xaxis\":\"x\",\"yaxis\":\"y\"},{\"legendgroup\":\"False Negative\",\"line\":{\"color\":\"#da4892\",\"dash\":\"dash\",\"width\":2},\"mode\":\"lines\",\"showlegend\":false,\"x\":[-14.850000381469727,-16.815000534057617],\"y\":[38.779998779296875,53.779998779296875],\"type\":\"scatter\",\"xaxis\":\"x\",\"yaxis\":\"y\"},{\"legendgroup\":\"False Negative\",\"line\":{\"color\":\"#da4892\",\"dash\":\"dash\",\"width\":2},\"mode\":\"lines\",\"showlegend\":false,\"x\":[-11.654999732971191,-12.194999694824219],\"y\":[38.779998779296875,53.779998779296875],\"type\":\"scatter\",\"xaxis\":\"x\",\"yaxis\":\"y\"},{\"legendgroup\":\"False Negative\",\"line\":{\"color\":\"#da4892\",\"dash\":\"dash\",\"width\":2},\"mode\":\"lines\",\"showlegend\":false,\"x\":[-10.425000190734863,-10.335000038146973],\"y\":[38.779998779296875,53.779998779296875],\"type\":\"scatter\",\"xaxis\":\"x\",\"yaxis\":\"y\"},{\"legendgroup\":\"False Negative\",\"line\":{\"color\":\"#da4892\",\"dash\":\"dash\",\"width\":2},\"mode\":\"lines\",\"showlegend\":false,\"x\":[-16.815000534057617,-21.959999084472656],\"y\":[53.779998779296875,89.77999877929688],\"type\":\"scatter\",\"xaxis\":\"x\",\"yaxis\":\"y\"},{\"legendgroup\":\"False Positive\",\"line\":{\"color\":\"#1c965c\",\"dash\":\"solid\",\"width\":2},\"mode\":\"lines\",\"showlegend\":false,\"x\":[-16.815000534057617,-13.604999542236328],\"y\":[53.779998779296875,89.77999877929688],\"type\":\"scatter\",\"xaxis\":\"x\",\"yaxis\":\"y\"},{\"legendgroup\":\"Correct\",\"line\":{\"color\":\"#965601\",\"dash\":\"solid\",\"width\":1},\"mode\":\"lines\",\"name\":\"Correct\",\"showlegend\":true,\"x\":[-12.194999694824219,-13.604999542236328],\"y\":[53.779998779296875,89.77999877929688],\"type\":\"scatter\",\"xaxis\":\"x\",\"yaxis\":\"y\"},{\"legendgroup\":\"False Positive\",\"line\":{\"color\":\"#1c965c\",\"dash\":\"solid\",\"width\":2},\"mode\":\"lines\",\"showlegend\":false,\"x\":[-10.335000038146973,-13.604999542236328],\"y\":[53.779998779296875,89.77999877929688],\"type\":\"scatter\",\"xaxis\":\"x\",\"yaxis\":\"y\"},{\"legendgroup\":\"False Positive\",\"line\":{\"color\":\"#1c965c\",\"dash\":\"solid\",\"width\":2},\"mode\":\"lines\",\"showlegend\":false,\"x\":[-10.335000038146973,-13.604999542236328],\"y\":[53.779998779296875,89.77999877929688],\"type\":\"scatter\",\"xaxis\":\"x\",\"yaxis\":\"y\"},{\"legendgroup\":\"False Positive\",\"line\":{\"color\":\"#1c965c\",\"dash\":\"solid\",\"width\":2},\"mode\":\"lines\",\"showlegend\":false,\"x\":[-12.194999694824219,-9.795000076293945],\"y\":[53.779998779296875,89.77999877929688],\"type\":\"scatter\",\"xaxis\":\"x\",\"yaxis\":\"y\"},{\"legendgroup\":\"Correct\",\"line\":{\"color\":\"#965601\",\"dash\":\"solid\",\"width\":1},\"mode\":\"lines\",\"showlegend\":false,\"x\":[-10.335000038146973,-9.795000076293945],\"y\":[53.779998779296875,89.77999877929688],\"type\":\"scatter\",\"xaxis\":\"x\",\"yaxis\":\"y\"},{\"legendgroup\":\"False Positive\",\"line\":{\"color\":\"#1c965c\",\"dash\":\"solid\",\"width\":2},\"mode\":\"lines\",\"showlegend\":false,\"x\":[-10.335000038146973,-9.795000076293945],\"y\":[53.779998779296875,89.77999877929688],\"type\":\"scatter\",\"xaxis\":\"x\",\"yaxis\":\"y\"},{\"legendgroup\":\"False Negative\",\"line\":{\"color\":\"#da4892\",\"dash\":\"dash\",\"width\":2},\"mode\":\"lines\",\"showlegend\":false,\"x\":[-21.959999084472656,-37.73999786376953],\"y\":[89.77999877929688,180.27999877929688],\"type\":\"scatter\",\"xaxis\":\"x\",\"yaxis\":\"y\"},{\"legendgroup\":\"False Positive\",\"line\":{\"color\":\"#1c965c\",\"dash\":\"solid\",\"width\":2},\"mode\":\"lines\",\"showlegend\":false,\"x\":[-13.604999542236328,-37.73999786376953],\"y\":[89.77999877929688,180.27999877929688],\"type\":\"scatter\",\"xaxis\":\"x\",\"yaxis\":\"y\"},{\"legendgroup\":\"False Positive\",\"line\":{\"color\":\"#1c965c\",\"dash\":\"solid\",\"width\":2},\"mode\":\"lines\",\"showlegend\":false,\"x\":[-9.795000076293945,-37.73999786376953],\"y\":[89.77999877929688,180.27999877929688],\"type\":\"scatter\",\"xaxis\":\"x\",\"yaxis\":\"y\"},{\"legendgroup\":\"Correct\",\"line\":{\"color\":\"#965601\",\"dash\":\"solid\",\"width\":1},\"mode\":\"lines\",\"showlegend\":false,\"x\":[-13.604999542236328,-17.5049991607666],\"y\":[89.77999877929688,180.27999877929688],\"type\":\"scatter\",\"xaxis\":\"x\",\"yaxis\":\"y\"},{\"legendgroup\":\"False Positive\",\"line\":{\"color\":\"#1c965c\",\"dash\":\"solid\",\"width\":2},\"mode\":\"lines\",\"showlegend\":false,\"x\":[-9.795000076293945,-17.5049991607666],\"y\":[89.77999877929688,180.27999877929688],\"type\":\"scatter\",\"xaxis\":\"x\",\"yaxis\":\"y\"},{\"legendgroup\":\"False Positive\",\"line\":{\"color\":\"#1c965c\",\"dash\":\"solid\",\"width\":2},\"mode\":\"lines\",\"showlegend\":false,\"x\":[-13.604999542236328,-6.554999828338623],\"y\":[89.77999877929688,180.27999877929688],\"type\":\"scatter\",\"xaxis\":\"x\",\"yaxis\":\"y\"},{\"legendgroup\":\"Correct\",\"line\":{\"color\":\"#965601\",\"dash\":\"solid\",\"width\":1},\"mode\":\"lines\",\"showlegend\":false,\"x\":[-9.795000076293945,-6.554999828338623],\"y\":[89.77999877929688,180.27999877929688],\"type\":\"scatter\",\"xaxis\":\"x\",\"yaxis\":\"y\"},{\"marker\":{\"color\":\"#965601\",\"size\":7},\"mode\":\"markers\",\"showlegend\":false,\"x\":[-10.483312606811523,1.821808099746704,5.423312187194824,-22.773056030273438,-10.467935562133789,-6.86643123626709,-26.07030487060547,-13.76518440246582,-10.163680076599121,-10.1821928024292,-46.19719696044922,-58.5023193359375,25.787805557250977,-10.227198600769043,-22.532320022583008,38.3773078918457,2.3623015880584717,-9.942818641662598,-11.175824165344238,53.351070404052734,79.16181182861328,-75.02257537841797,-10.495683670043945,15.315058708190918,-99.60206604003906,-35.075172424316406,-9.264429092407227,-10.684210777282715,-102.2223129272461,81.6387939453125,-9.899306297302246,-45.914310455322266,-42.31280517578125,27.269681930541992,-8.745323181152344,-5.1438188552856445,-11.653759956359863,-10.544450759887695,68.08829498291016,-86.6809310913086,-8.048181533813477,-12.261737823486328,-10.967020988464355,-6.13871431350708],\"y\":[7.779999732971191,7.779999732971191,7.779999732971191,7.779999732971191,7.779999732971191,7.779999732971191,7.779999732971191,7.779999732971191,7.779999732971191,22.779998779296875,22.779998779296875,22.779998779296875,22.779998779296875,22.779998779296875,22.779998779296875,22.779998779296875,22.779998779296875,22.779998779296875,38.779998779296875,38.779998779296875,38.779998779296875,38.779998779296875,38.779998779296875,38.779998779296875,38.779998779296875,38.779998779296875,38.779998779296875,53.779998779296875,53.779998779296875,53.779998779296875,53.779998779296875,53.779998779296875,53.779998779296875,53.779998779296875,53.779998779296875,53.779998779296875,89.77999877929688,89.77999877929688,89.77999877929688,89.77999877929688,89.77999877929688,180.27999877929688,180.27999877929688,180.27999877929688],\"type\":\"scatter\",\"xaxis\":\"x2\",\"yaxis\":\"y2\"},{\"legendgroup\":\"False Negative\",\"line\":{\"color\":\"#da4892\",\"dash\":\"dash\",\"width\":2},\"mode\":\"lines\",\"showlegend\":false,\"x\":[-10.483312606811523,-10.1821928024292],\"y\":[7.779999732971191,22.779998779296875],\"type\":\"scatter\",\"xaxis\":\"x2\",\"yaxis\":\"y2\"},{\"legendgroup\":\"False Negative\",\"line\":{\"color\":\"#da4892\",\"dash\":\"dash\",\"width\":2},\"mode\":\"lines\",\"showlegend\":false,\"x\":[-10.467935562133789,-10.227198600769043],\"y\":[7.779999732971191,22.779998779296875],\"type\":\"scatter\",\"xaxis\":\"x2\",\"yaxis\":\"y2\"},{\"legendgroup\":\"False Positive\",\"line\":{\"color\":\"#1c965c\",\"dash\":\"solid\",\"width\":2},\"mode\":\"lines\",\"showlegend\":false,\"x\":[1.821808099746704,2.3623015880584717],\"y\":[7.779999732971191,22.779998779296875],\"type\":\"scatter\",\"xaxis\":\"x2\",\"yaxis\":\"y2\"},{\"legendgroup\":\"False Negative\",\"line\":{\"color\":\"#da4892\",\"dash\":\"dash\",\"width\":2},\"mode\":\"lines\",\"showlegend\":false,\"x\":[-10.163680076599121,-9.942818641662598],\"y\":[7.779999732971191,22.779998779296875],\"type\":\"scatter\",\"xaxis\":\"x2\",\"yaxis\":\"y2\"},{\"legendgroup\":\"False Negative\",\"line\":{\"color\":\"#da4892\",\"dash\":\"dash\",\"width\":2},\"mode\":\"lines\",\"showlegend\":false,\"x\":[-10.1821928024292,-11.175824165344238],\"y\":[22.779998779296875,38.779998779296875],\"type\":\"scatter\",\"xaxis\":\"x2\",\"yaxis\":\"y2\"},{\"legendgroup\":\"False Negative\",\"line\":{\"color\":\"#da4892\",\"dash\":\"dash\",\"width\":2},\"mode\":\"lines\",\"showlegend\":false,\"x\":[-10.227198600769043,-10.495683670043945],\"y\":[22.779998779296875,38.779998779296875],\"type\":\"scatter\",\"xaxis\":\"x2\",\"yaxis\":\"y2\"},{\"legendgroup\":\"False Negative\",\"line\":{\"color\":\"#da4892\",\"dash\":\"dash\",\"width\":2},\"mode\":\"lines\",\"showlegend\":false,\"x\":[-9.942818641662598,-9.264429092407227],\"y\":[22.779998779296875,38.779998779296875],\"type\":\"scatter\",\"xaxis\":\"x2\",\"yaxis\":\"y2\"},{\"legendgroup\":\"False Negative\",\"line\":{\"color\":\"#da4892\",\"dash\":\"dash\",\"width\":2},\"mode\":\"lines\",\"showlegend\":false,\"x\":[-11.175824165344238,-10.684210777282715],\"y\":[38.779998779296875,53.779998779296875],\"type\":\"scatter\",\"xaxis\":\"x2\",\"yaxis\":\"y2\"},{\"legendgroup\":\"False Negative\",\"line\":{\"color\":\"#da4892\",\"dash\":\"dash\",\"width\":2},\"mode\":\"lines\",\"showlegend\":false,\"x\":[-10.495683670043945,-9.899306297302246],\"y\":[38.779998779296875,53.779998779296875],\"type\":\"scatter\",\"xaxis\":\"x2\",\"yaxis\":\"y2\"},{\"legendgroup\":\"False Negative\",\"line\":{\"color\":\"#da4892\",\"dash\":\"dash\",\"width\":2},\"mode\":\"lines\",\"showlegend\":false,\"x\":[-9.264429092407227,-8.745323181152344],\"y\":[38.779998779296875,53.779998779296875],\"type\":\"scatter\",\"xaxis\":\"x2\",\"yaxis\":\"y2\"},{\"legendgroup\":\"False Negative\",\"line\":{\"color\":\"#da4892\",\"dash\":\"dash\",\"width\":2},\"mode\":\"lines\",\"showlegend\":false,\"x\":[-10.684210777282715,-11.653759956359863],\"y\":[53.779998779296875,89.77999877929688],\"type\":\"scatter\",\"xaxis\":\"x2\",\"yaxis\":\"y2\"},{\"legendgroup\":\"False Positive\",\"line\":{\"color\":\"#1c965c\",\"dash\":\"solid\",\"width\":2},\"mode\":\"lines\",\"showlegend\":false,\"x\":[-10.684210777282715,-10.544450759887695],\"y\":[53.779998779296875,89.77999877929688],\"type\":\"scatter\",\"xaxis\":\"x2\",\"yaxis\":\"y2\"},{\"legendgroup\":\"Correct\",\"line\":{\"color\":\"#965601\",\"dash\":\"solid\",\"width\":1},\"mode\":\"lines\",\"showlegend\":false,\"x\":[-9.899306297302246,-10.544450759887695],\"y\":[53.779998779296875,89.77999877929688],\"type\":\"scatter\",\"xaxis\":\"x2\",\"yaxis\":\"y2\"},{\"legendgroup\":\"False Positive\",\"line\":{\"color\":\"#1c965c\",\"dash\":\"solid\",\"width\":2},\"mode\":\"lines\",\"showlegend\":false,\"x\":[-8.745323181152344,-10.544450759887695],\"y\":[53.779998779296875,89.77999877929688],\"type\":\"scatter\",\"xaxis\":\"x2\",\"yaxis\":\"y2\"},{\"legendgroup\":\"False Positive\",\"line\":{\"color\":\"#1c965c\",\"dash\":\"solid\",\"width\":2},\"mode\":\"lines\",\"showlegend\":false,\"x\":[-5.1438188552856445,-10.544450759887695],\"y\":[53.779998779296875,89.77999877929688],\"type\":\"scatter\",\"xaxis\":\"x2\",\"yaxis\":\"y2\"},{\"legendgroup\":\"False Positive\",\"line\":{\"color\":\"#1c965c\",\"dash\":\"solid\",\"width\":2},\"mode\":\"lines\",\"showlegend\":false,\"x\":[-9.899306297302246,-8.048181533813477],\"y\":[53.779998779296875,89.77999877929688],\"type\":\"scatter\",\"xaxis\":\"x2\",\"yaxis\":\"y2\"},{\"legendgroup\":\"Correct\",\"line\":{\"color\":\"#965601\",\"dash\":\"solid\",\"width\":1},\"mode\":\"lines\",\"showlegend\":false,\"x\":[-8.745323181152344,-8.048181533813477],\"y\":[53.779998779296875,89.77999877929688],\"type\":\"scatter\",\"xaxis\":\"x2\",\"yaxis\":\"y2\"},{\"legendgroup\":\"False Positive\",\"line\":{\"color\":\"#1c965c\",\"dash\":\"solid\",\"width\":2},\"mode\":\"lines\",\"showlegend\":false,\"x\":[-5.1438188552856445,-8.048181533813477],\"y\":[53.779998779296875,89.77999877929688],\"type\":\"scatter\",\"xaxis\":\"x2\",\"yaxis\":\"y2\"},{\"legendgroup\":\"False Negative\",\"line\":{\"color\":\"#da4892\",\"dash\":\"dash\",\"width\":2},\"mode\":\"lines\",\"showlegend\":false,\"x\":[-11.653759956359863,-12.261737823486328],\"y\":[89.77999877929688,180.27999877929688],\"type\":\"scatter\",\"xaxis\":\"x2\",\"yaxis\":\"y2\"},{\"legendgroup\":\"False Positive\",\"line\":{\"color\":\"#1c965c\",\"dash\":\"solid\",\"width\":2},\"mode\":\"lines\",\"showlegend\":false,\"x\":[-10.544450759887695,-12.261737823486328],\"y\":[89.77999877929688,180.27999877929688],\"type\":\"scatter\",\"xaxis\":\"x2\",\"yaxis\":\"y2\"},{\"legendgroup\":\"False Positive\",\"line\":{\"color\":\"#1c965c\",\"dash\":\"solid\",\"width\":2},\"mode\":\"lines\",\"showlegend\":false,\"x\":[-8.048181533813477,-12.261737823486328],\"y\":[89.77999877929688,180.27999877929688],\"type\":\"scatter\",\"xaxis\":\"x2\",\"yaxis\":\"y2\"},{\"legendgroup\":\"Correct\",\"line\":{\"color\":\"#965601\",\"dash\":\"solid\",\"width\":1},\"mode\":\"lines\",\"showlegend\":false,\"x\":[-10.544450759887695,-10.967020988464355],\"y\":[89.77999877929688,180.27999877929688],\"type\":\"scatter\",\"xaxis\":\"x2\",\"yaxis\":\"y2\"},{\"legendgroup\":\"False Positive\",\"line\":{\"color\":\"#1c965c\",\"dash\":\"solid\",\"width\":2},\"mode\":\"lines\",\"showlegend\":false,\"x\":[-8.048181533813477,-10.967020988464355],\"y\":[89.77999877929688,180.27999877929688],\"type\":\"scatter\",\"xaxis\":\"x2\",\"yaxis\":\"y2\"},{\"legendgroup\":\"False Positive\",\"line\":{\"color\":\"#1c965c\",\"dash\":\"solid\",\"width\":2},\"mode\":\"lines\",\"showlegend\":false,\"x\":[-10.544450759887695,-6.13871431350708],\"y\":[89.77999877929688,180.27999877929688],\"type\":\"scatter\",\"xaxis\":\"x2\",\"yaxis\":\"y2\"},{\"legendgroup\":\"Correct\",\"line\":{\"color\":\"#965601\",\"dash\":\"solid\",\"width\":1},\"mode\":\"lines\",\"showlegend\":false,\"x\":[-8.048181533813477,-6.13871431350708],\"y\":[89.77999877929688,180.27999877929688],\"type\":\"scatter\",\"xaxis\":\"x2\",\"yaxis\":\"y2\"}],                        {\"template\":{\"data\":{\"histogram2dcontour\":[{\"type\":\"histogram2dcontour\",\"colorbar\":{\"outlinewidth\":0,\"ticks\":\"\"},\"colorscale\":[[0.0,\"#0d0887\"],[0.1111111111111111,\"#46039f\"],[0.2222222222222222,\"#7201a8\"],[0.3333333333333333,\"#9c179e\"],[0.4444444444444444,\"#bd3786\"],[0.5555555555555556,\"#d8576b\"],[0.6666666666666666,\"#ed7953\"],[0.7777777777777778,\"#fb9f3a\"],[0.8888888888888888,\"#fdca26\"],[1.0,\"#f0f921\"]]}],\"choropleth\":[{\"type\":\"choropleth\",\"colorbar\":{\"outlinewidth\":0,\"ticks\":\"\"}}],\"histogram2d\":[{\"type\":\"histogram2d\",\"colorbar\":{\"outlinewidth\":0,\"ticks\":\"\"},\"colorscale\":[[0.0,\"#0d0887\"],[0.1111111111111111,\"#46039f\"],[0.2222222222222222,\"#7201a8\"],[0.3333333333333333,\"#9c179e\"],[0.4444444444444444,\"#bd3786\"],[0.5555555555555556,\"#d8576b\"],[0.6666666666666666,\"#ed7953\"],[0.7777777777777778,\"#fb9f3a\"],[0.8888888888888888,\"#fdca26\"],[1.0,\"#f0f921\"]]}],\"heatmap\":[{\"type\":\"heatmap\",\"colorbar\":{\"outlinewidth\":0,\"ticks\":\"\"},\"colorscale\":[[0.0,\"#0d0887\"],[0.1111111111111111,\"#46039f\"],[0.2222222222222222,\"#7201a8\"],[0.3333333333333333,\"#9c179e\"],[0.4444444444444444,\"#bd3786\"],[0.5555555555555556,\"#d8576b\"],[0.6666666666666666,\"#ed7953\"],[0.7777777777777778,\"#fb9f3a\"],[0.8888888888888888,\"#fdca26\"],[1.0,\"#f0f921\"]]}],\"heatmapgl\":[{\"type\":\"heatmapgl\",\"colorbar\":{\"outlinewidth\":0,\"ticks\":\"\"},\"colorscale\":[[0.0,\"#0d0887\"],[0.1111111111111111,\"#46039f\"],[0.2222222222222222,\"#7201a8\"],[0.3333333333333333,\"#9c179e\"],[0.4444444444444444,\"#bd3786\"],[0.5555555555555556,\"#d8576b\"],[0.6666666666666666,\"#ed7953\"],[0.7777777777777778,\"#fb9f3a\"],[0.8888888888888888,\"#fdca26\"],[1.0,\"#f0f921\"]]}],\"contourcarpet\":[{\"type\":\"contourcarpet\",\"colorbar\":{\"outlinewidth\":0,\"ticks\":\"\"}}],\"contour\":[{\"type\":\"contour\",\"colorbar\":{\"outlinewidth\":0,\"ticks\":\"\"},\"colorscale\":[[0.0,\"#0d0887\"],[0.1111111111111111,\"#46039f\"],[0.2222222222222222,\"#7201a8\"],[0.3333333333333333,\"#9c179e\"],[0.4444444444444444,\"#bd3786\"],[0.5555555555555556,\"#d8576b\"],[0.6666666666666666,\"#ed7953\"],[0.7777777777777778,\"#fb9f3a\"],[0.8888888888888888,\"#fdca26\"],[1.0,\"#f0f921\"]]}],\"surface\":[{\"type\":\"surface\",\"colorbar\":{\"outlinewidth\":0,\"ticks\":\"\"},\"colorscale\":[[0.0,\"#0d0887\"],[0.1111111111111111,\"#46039f\"],[0.2222222222222222,\"#7201a8\"],[0.3333333333333333,\"#9c179e\"],[0.4444444444444444,\"#bd3786\"],[0.5555555555555556,\"#d8576b\"],[0.6666666666666666,\"#ed7953\"],[0.7777777777777778,\"#fb9f3a\"],[0.8888888888888888,\"#fdca26\"],[1.0,\"#f0f921\"]]}],\"mesh3d\":[{\"type\":\"mesh3d\",\"colorbar\":{\"outlinewidth\":0,\"ticks\":\"\"}}],\"scatter\":[{\"fillpattern\":{\"fillmode\":\"overlay\",\"size\":10,\"solidity\":0.2},\"type\":\"scatter\"}],\"parcoords\":[{\"type\":\"parcoords\",\"line\":{\"colorbar\":{\"outlinewidth\":0,\"ticks\":\"\"}}}],\"scatterpolargl\":[{\"type\":\"scatterpolargl\",\"marker\":{\"colorbar\":{\"outlinewidth\":0,\"ticks\":\"\"}}}],\"bar\":[{\"error_x\":{\"color\":\"#2a3f5f\"},\"error_y\":{\"color\":\"#2a3f5f\"},\"marker\":{\"line\":{\"color\":\"#E5ECF6\",\"width\":0.5},\"pattern\":{\"fillmode\":\"overlay\",\"size\":10,\"solidity\":0.2}},\"type\":\"bar\"}],\"scattergeo\":[{\"type\":\"scattergeo\",\"marker\":{\"colorbar\":{\"outlinewidth\":0,\"ticks\":\"\"}}}],\"scatterpolar\":[{\"type\":\"scatterpolar\",\"marker\":{\"colorbar\":{\"outlinewidth\":0,\"ticks\":\"\"}}}],\"histogram\":[{\"marker\":{\"pattern\":{\"fillmode\":\"overlay\",\"size\":10,\"solidity\":0.2}},\"type\":\"histogram\"}],\"scattergl\":[{\"type\":\"scattergl\",\"marker\":{\"colorbar\":{\"outlinewidth\":0,\"ticks\":\"\"}}}],\"scatter3d\":[{\"type\":\"scatter3d\",\"line\":{\"colorbar\":{\"outlinewidth\":0,\"ticks\":\"\"}},\"marker\":{\"colorbar\":{\"outlinewidth\":0,\"ticks\":\"\"}}}],\"scattermapbox\":[{\"type\":\"scattermapbox\",\"marker\":{\"colorbar\":{\"outlinewidth\":0,\"ticks\":\"\"}}}],\"scatterternary\":[{\"type\":\"scatterternary\",\"marker\":{\"colorbar\":{\"outlinewidth\":0,\"ticks\":\"\"}}}],\"scattercarpet\":[{\"type\":\"scattercarpet\",\"marker\":{\"colorbar\":{\"outlinewidth\":0,\"ticks\":\"\"}}}],\"carpet\":[{\"aaxis\":{\"endlinecolor\":\"#2a3f5f\",\"gridcolor\":\"white\",\"linecolor\":\"white\",\"minorgridcolor\":\"white\",\"startlinecolor\":\"#2a3f5f\"},\"baxis\":{\"endlinecolor\":\"#2a3f5f\",\"gridcolor\":\"white\",\"linecolor\":\"white\",\"minorgridcolor\":\"white\",\"startlinecolor\":\"#2a3f5f\"},\"type\":\"carpet\"}],\"table\":[{\"cells\":{\"fill\":{\"color\":\"#EBF0F8\"},\"line\":{\"color\":\"white\"}},\"header\":{\"fill\":{\"color\":\"#C8D4E3\"},\"line\":{\"color\":\"white\"}},\"type\":\"table\"}],\"barpolar\":[{\"marker\":{\"line\":{\"color\":\"#E5ECF6\",\"width\":0.5},\"pattern\":{\"fillmode\":\"overlay\",\"size\":10,\"solidity\":0.2}},\"type\":\"barpolar\"}],\"pie\":[{\"automargin\":true,\"type\":\"pie\"}]},\"layout\":{\"autotypenumbers\":\"strict\",\"colorway\":[\"#636efa\",\"#EF553B\",\"#00cc96\",\"#ab63fa\",\"#FFA15A\",\"#19d3f3\",\"#FF6692\",\"#B6E880\",\"#FF97FF\",\"#FECB52\"],\"font\":{\"color\":\"#2a3f5f\"},\"hovermode\":\"closest\",\"hoverlabel\":{\"align\":\"left\"},\"paper_bgcolor\":\"white\",\"plot_bgcolor\":\"#E5ECF6\",\"polar\":{\"bgcolor\":\"#E5ECF6\",\"angularaxis\":{\"gridcolor\":\"white\",\"linecolor\":\"white\",\"ticks\":\"\"},\"radialaxis\":{\"gridcolor\":\"white\",\"linecolor\":\"white\",\"ticks\":\"\"}},\"ternary\":{\"bgcolor\":\"#E5ECF6\",\"aaxis\":{\"gridcolor\":\"white\",\"linecolor\":\"white\",\"ticks\":\"\"},\"baxis\":{\"gridcolor\":\"white\",\"linecolor\":\"white\",\"ticks\":\"\"},\"caxis\":{\"gridcolor\":\"white\",\"linecolor\":\"white\",\"ticks\":\"\"}},\"coloraxis\":{\"colorbar\":{\"outlinewidth\":0,\"ticks\":\"\"}},\"colorscale\":{\"sequential\":[[0.0,\"#0d0887\"],[0.1111111111111111,\"#46039f\"],[0.2222222222222222,\"#7201a8\"],[0.3333333333333333,\"#9c179e\"],[0.4444444444444444,\"#bd3786\"],[0.5555555555555556,\"#d8576b\"],[0.6666666666666666,\"#ed7953\"],[0.7777777777777778,\"#fb9f3a\"],[0.8888888888888888,\"#fdca26\"],[1.0,\"#f0f921\"]],\"sequentialminus\":[[0.0,\"#0d0887\"],[0.1111111111111111,\"#46039f\"],[0.2222222222222222,\"#7201a8\"],[0.3333333333333333,\"#9c179e\"],[0.4444444444444444,\"#bd3786\"],[0.5555555555555556,\"#d8576b\"],[0.6666666666666666,\"#ed7953\"],[0.7777777777777778,\"#fb9f3a\"],[0.8888888888888888,\"#fdca26\"],[1.0,\"#f0f921\"]],\"diverging\":[[0,\"#8e0152\"],[0.1,\"#c51b7d\"],[0.2,\"#de77ae\"],[0.3,\"#f1b6da\"],[0.4,\"#fde0ef\"],[0.5,\"#f7f7f7\"],[0.6,\"#e6f5d0\"],[0.7,\"#b8e186\"],[0.8,\"#7fbc41\"],[0.9,\"#4d9221\"],[1,\"#276419\"]]},\"xaxis\":{\"gridcolor\":\"white\",\"linecolor\":\"white\",\"ticks\":\"\",\"title\":{\"standoff\":15},\"zerolinecolor\":\"white\",\"automargin\":true,\"zerolinewidth\":2},\"yaxis\":{\"gridcolor\":\"white\",\"linecolor\":\"white\",\"ticks\":\"\",\"title\":{\"standoff\":15},\"zerolinecolor\":\"white\",\"automargin\":true,\"zerolinewidth\":2},\"scene\":{\"xaxis\":{\"backgroundcolor\":\"#E5ECF6\",\"gridcolor\":\"white\",\"linecolor\":\"white\",\"showbackground\":true,\"ticks\":\"\",\"zerolinecolor\":\"white\",\"gridwidth\":2},\"yaxis\":{\"backgroundcolor\":\"#E5ECF6\",\"gridcolor\":\"white\",\"linecolor\":\"white\",\"showbackground\":true,\"ticks\":\"\",\"zerolinecolor\":\"white\",\"gridwidth\":2},\"zaxis\":{\"backgroundcolor\":\"#E5ECF6\",\"gridcolor\":\"white\",\"linecolor\":\"white\",\"showbackground\":true,\"ticks\":\"\",\"zerolinecolor\":\"white\",\"gridwidth\":2}},\"shapedefaults\":{\"line\":{\"color\":\"#2a3f5f\"}},\"annotationdefaults\":{\"arrowcolor\":\"#2a3f5f\",\"arrowhead\":0,\"arrowwidth\":1},\"geo\":{\"bgcolor\":\"white\",\"landcolor\":\"#E5ECF6\",\"subunitcolor\":\"white\",\"showland\":true,\"showlakes\":true,\"lakecolor\":\"white\"},\"title\":{\"x\":0.05},\"mapbox\":{\"style\":\"light\"}}},\"xaxis\":{\"anchor\":\"y\",\"domain\":[0.0,0.5],\"title\":{\"text\":\"x [mm]\"},\"range\":[-275,275],\"showgrid\":false,\"mirror\":true,\"linecolor\":\"#666666\",\"gridcolor\":\"#d9d9d9\",\"zeroline\":false},\"yaxis\":{\"anchor\":\"x\",\"domain\":[0.0,1.0],\"title\":{\"text\":\"z [mm]\"},\"showgrid\":false,\"mirror\":true,\"linecolor\":\"#666666\",\"gridcolor\":\"#d9d9d9\",\"zeroline\":false},\"xaxis2\":{\"anchor\":\"y2\",\"domain\":[0.5,1.0],\"title\":{\"text\":\"y [mm]\"},\"range\":[-275,275],\"showgrid\":false,\"mirror\":true,\"linecolor\":\"#666666\",\"gridcolor\":\"#d9d9d9\",\"zeroline\":false},\"yaxis2\":{\"anchor\":\"x2\",\"domain\":[0.0,1.0],\"matches\":\"y\",\"showticklabels\":false,\"title\":{\"text\":\"\"},\"showgrid\":false,\"mirror\":true,\"linecolor\":\"#666666\",\"gridcolor\":\"#d9d9d9\",\"zeroline\":false},\"legend\":{\"orientation\":\"h\",\"yanchor\":\"bottom\",\"y\":1.01,\"xanchor\":\"right\",\"x\":0.99,\"traceorder\":\"reversed\"},\"width\":1200,\"height\":700,\"autosize\":false,\"paper_bgcolor\":\"rgba(0,0,0,0)\",\"plot_bgcolor\":\"rgba(0,0,0,0)\"},                        {\"responsive\": true}                    ).then(function(){\n                            \nvar gd = document.getElementById('c6aeaba1-4d3a-4dca-bbfc-37b486c3686b');\nvar x = new MutationObserver(function (mutations, observer) {{\n        var display = window.getComputedStyle(gd).display;\n        if (!display || display === 'none') {{\n            console.log([gd, 'removed!']);\n            Plotly.purge(gd);\n            observer.disconnect();\n        }}\n}});\n\n// Listen for the removal of the full notebook cells\nvar notebookContainer = gd.closest('#notebook-container');\nif (notebookContainer) {{\n    x.observe(notebookContainer, {childList: true});\n}}\n\n// Listen for the clearing of the current output cell\nvar outputEl = gd.closest('.output');\nif (outputEl) {{\n    x.observe(outputEl, {childList: true});\n}}\n\n                        })                };                });            </script>        </div>"
     },
     "metadata": {},
     "output_type": "display_data"
    }
   ],
   "source": [
    "from scripts.plotting import plot_xyz_plotly\n",
    "\n",
    "# Usage example\n",
    "plot_xyz_plotly(df_node, df_edge, threshold=0.3)\n",
    "# plot_xyz_plotly(df_node, df_edge, threshold=0.2)\n"
   ],
   "metadata": {
    "collapsed": false,
    "ExecuteTime": {
     "end_time": "2023-10-19T01:54:15.669677Z",
     "start_time": "2023-10-19T01:54:15.636662Z"
    }
   }
  },
  {
   "cell_type": "code",
   "execution_count": 28,
   "outputs": [
    {
     "data": {
      "application/vnd.plotly.v1+json": {
       "data": [
        {
         "marker": {
          "color": "blue",
          "size": 5
         },
         "mode": "markers",
         "name": "Nodes",
         "showlegend": false,
         "x": [
          -11.15999984741211,
          -11.15999984741211,
          -11.15999984741211,
          -10.545000076293945,
          -10.545000076293945,
          -10.545000076293945,
          -10.380000114440918,
          -10.380000114440918,
          -10.380000114440918,
          -12.885000228881836,
          -12.885000228881836,
          -12.885000228881836,
          -11.085000038146973,
          -11.085000038146973,
          -11.085000038146973,
          -10.454999923706055,
          -10.454999923706055,
          -10.454999923706055,
          -14.850000381469727,
          -14.850000381469727,
          -14.850000381469727,
          -11.654999732971191,
          -11.654999732971191,
          -11.654999732971191,
          -10.425000190734863,
          -10.425000190734863,
          -10.425000190734863,
          -16.815000534057617,
          -16.815000534057617,
          -12.194999694824219,
          -12.194999694824219,
          -12.194999694824219,
          -12.194999694824219,
          -10.335000038146973,
          -10.335000038146973,
          -10.335000038146973,
          -21.959999084472656,
          -13.604999542236328,
          -13.604999542236328,
          -9.795000076293945,
          -9.795000076293945,
          -37.73999786376953,
          -17.5049991607666,
          -6.554999828338623
         ],
         "y": [
          -10.483312606811523,
          1.821808099746704,
          5.423312187194824,
          -22.773056030273438,
          -10.467935562133789,
          -6.86643123626709,
          -26.07030487060547,
          -13.76518440246582,
          -10.163680076599121,
          -10.1821928024292,
          -46.19719696044922,
          -58.5023193359375,
          25.787805557250977,
          -10.227198600769043,
          -22.532320022583008,
          38.3773078918457,
          2.3623015880584717,
          -9.942818641662598,
          -11.175824165344238,
          53.351070404052734,
          79.16181182861328,
          -75.02257537841797,
          -10.495683670043945,
          15.315058708190918,
          -99.60206604003906,
          -35.075172424316406,
          -9.264429092407227,
          -10.684210777282715,
          -102.2223129272461,
          81.6387939453125,
          -9.899306297302246,
          -45.914310455322266,
          -42.31280517578125,
          27.269681930541992,
          -8.745323181152344,
          -5.1438188552856445,
          -11.653759956359863,
          -10.544450759887695,
          68.08829498291016,
          -86.6809310913086,
          -8.048181533813477,
          -12.261737823486328,
          -10.967020988464355,
          -6.13871431350708
         ],
         "z": [
          7.779999732971191,
          7.779999732971191,
          7.779999732971191,
          7.779999732971191,
          7.779999732971191,
          7.779999732971191,
          7.779999732971191,
          7.779999732971191,
          7.779999732971191,
          22.779998779296875,
          22.779998779296875,
          22.779998779296875,
          22.779998779296875,
          22.779998779296875,
          22.779998779296875,
          22.779998779296875,
          22.779998779296875,
          22.779998779296875,
          38.779998779296875,
          38.779998779296875,
          38.779998779296875,
          38.779998779296875,
          38.779998779296875,
          38.779998779296875,
          38.779998779296875,
          38.779998779296875,
          38.779998779296875,
          53.779998779296875,
          53.779998779296875,
          53.779998779296875,
          53.779998779296875,
          53.779998779296875,
          53.779998779296875,
          53.779998779296875,
          53.779998779296875,
          53.779998779296875,
          89.77999877929688,
          89.77999877929688,
          89.77999877929688,
          89.77999877929688,
          89.77999877929688,
          180.27999877929688,
          180.27999877929688,
          180.27999877929688
         ],
         "type": "scatter3d"
        },
        {
         "line": {
          "color": "#965601",
          "dash": "solid",
          "width": 1
         },
         "mode": "lines",
         "showlegend": false,
         "x": [
          -12.194999694824219,
          -13.604999542236328
         ],
         "y": [
          -9.899306297302246,
          -10.544450759887695
         ],
         "z": [
          53.779998779296875,
          89.77999877929688
         ],
         "type": "scatter3d"
        },
        {
         "line": {
          "color": "#965601",
          "dash": "solid",
          "width": 1
         },
         "mode": "lines",
         "showlegend": false,
         "x": [
          -10.335000038146973,
          -9.795000076293945
         ],
         "y": [
          -8.745323181152344,
          -8.048181533813477
         ],
         "z": [
          53.779998779296875,
          89.77999877929688
         ],
         "type": "scatter3d"
        },
        {
         "line": {
          "color": "#965601",
          "dash": "solid",
          "width": 1
         },
         "mode": "lines",
         "showlegend": false,
         "x": [
          -13.604999542236328,
          -17.5049991607666
         ],
         "y": [
          -10.544450759887695,
          -10.967020988464355
         ],
         "z": [
          89.77999877929688,
          180.27999877929688
         ],
         "type": "scatter3d"
        },
        {
         "line": {
          "color": "#965601",
          "dash": "solid",
          "width": 1
         },
         "mode": "lines",
         "showlegend": false,
         "x": [
          -9.795000076293945,
          -6.554999828338623
         ],
         "y": [
          -8.048181533813477,
          -6.13871431350708
         ],
         "z": [
          89.77999877929688,
          180.27999877929688
         ],
         "type": "scatter3d"
        }
       ],
       "layout": {
        "template": {
         "data": {
          "histogram2dcontour": [
           {
            "type": "histogram2dcontour",
            "colorbar": {
             "outlinewidth": 0,
             "ticks": ""
            },
            "colorscale": [
             [
              0.0,
              "#0d0887"
             ],
             [
              0.1111111111111111,
              "#46039f"
             ],
             [
              0.2222222222222222,
              "#7201a8"
             ],
             [
              0.3333333333333333,
              "#9c179e"
             ],
             [
              0.4444444444444444,
              "#bd3786"
             ],
             [
              0.5555555555555556,
              "#d8576b"
             ],
             [
              0.6666666666666666,
              "#ed7953"
             ],
             [
              0.7777777777777778,
              "#fb9f3a"
             ],
             [
              0.8888888888888888,
              "#fdca26"
             ],
             [
              1.0,
              "#f0f921"
             ]
            ]
           }
          ],
          "choropleth": [
           {
            "type": "choropleth",
            "colorbar": {
             "outlinewidth": 0,
             "ticks": ""
            }
           }
          ],
          "histogram2d": [
           {
            "type": "histogram2d",
            "colorbar": {
             "outlinewidth": 0,
             "ticks": ""
            },
            "colorscale": [
             [
              0.0,
              "#0d0887"
             ],
             [
              0.1111111111111111,
              "#46039f"
             ],
             [
              0.2222222222222222,
              "#7201a8"
             ],
             [
              0.3333333333333333,
              "#9c179e"
             ],
             [
              0.4444444444444444,
              "#bd3786"
             ],
             [
              0.5555555555555556,
              "#d8576b"
             ],
             [
              0.6666666666666666,
              "#ed7953"
             ],
             [
              0.7777777777777778,
              "#fb9f3a"
             ],
             [
              0.8888888888888888,
              "#fdca26"
             ],
             [
              1.0,
              "#f0f921"
             ]
            ]
           }
          ],
          "heatmap": [
           {
            "type": "heatmap",
            "colorbar": {
             "outlinewidth": 0,
             "ticks": ""
            },
            "colorscale": [
             [
              0.0,
              "#0d0887"
             ],
             [
              0.1111111111111111,
              "#46039f"
             ],
             [
              0.2222222222222222,
              "#7201a8"
             ],
             [
              0.3333333333333333,
              "#9c179e"
             ],
             [
              0.4444444444444444,
              "#bd3786"
             ],
             [
              0.5555555555555556,
              "#d8576b"
             ],
             [
              0.6666666666666666,
              "#ed7953"
             ],
             [
              0.7777777777777778,
              "#fb9f3a"
             ],
             [
              0.8888888888888888,
              "#fdca26"
             ],
             [
              1.0,
              "#f0f921"
             ]
            ]
           }
          ],
          "heatmapgl": [
           {
            "type": "heatmapgl",
            "colorbar": {
             "outlinewidth": 0,
             "ticks": ""
            },
            "colorscale": [
             [
              0.0,
              "#0d0887"
             ],
             [
              0.1111111111111111,
              "#46039f"
             ],
             [
              0.2222222222222222,
              "#7201a8"
             ],
             [
              0.3333333333333333,
              "#9c179e"
             ],
             [
              0.4444444444444444,
              "#bd3786"
             ],
             [
              0.5555555555555556,
              "#d8576b"
             ],
             [
              0.6666666666666666,
              "#ed7953"
             ],
             [
              0.7777777777777778,
              "#fb9f3a"
             ],
             [
              0.8888888888888888,
              "#fdca26"
             ],
             [
              1.0,
              "#f0f921"
             ]
            ]
           }
          ],
          "contourcarpet": [
           {
            "type": "contourcarpet",
            "colorbar": {
             "outlinewidth": 0,
             "ticks": ""
            }
           }
          ],
          "contour": [
           {
            "type": "contour",
            "colorbar": {
             "outlinewidth": 0,
             "ticks": ""
            },
            "colorscale": [
             [
              0.0,
              "#0d0887"
             ],
             [
              0.1111111111111111,
              "#46039f"
             ],
             [
              0.2222222222222222,
              "#7201a8"
             ],
             [
              0.3333333333333333,
              "#9c179e"
             ],
             [
              0.4444444444444444,
              "#bd3786"
             ],
             [
              0.5555555555555556,
              "#d8576b"
             ],
             [
              0.6666666666666666,
              "#ed7953"
             ],
             [
              0.7777777777777778,
              "#fb9f3a"
             ],
             [
              0.8888888888888888,
              "#fdca26"
             ],
             [
              1.0,
              "#f0f921"
             ]
            ]
           }
          ],
          "surface": [
           {
            "type": "surface",
            "colorbar": {
             "outlinewidth": 0,
             "ticks": ""
            },
            "colorscale": [
             [
              0.0,
              "#0d0887"
             ],
             [
              0.1111111111111111,
              "#46039f"
             ],
             [
              0.2222222222222222,
              "#7201a8"
             ],
             [
              0.3333333333333333,
              "#9c179e"
             ],
             [
              0.4444444444444444,
              "#bd3786"
             ],
             [
              0.5555555555555556,
              "#d8576b"
             ],
             [
              0.6666666666666666,
              "#ed7953"
             ],
             [
              0.7777777777777778,
              "#fb9f3a"
             ],
             [
              0.8888888888888888,
              "#fdca26"
             ],
             [
              1.0,
              "#f0f921"
             ]
            ]
           }
          ],
          "mesh3d": [
           {
            "type": "mesh3d",
            "colorbar": {
             "outlinewidth": 0,
             "ticks": ""
            }
           }
          ],
          "scatter": [
           {
            "fillpattern": {
             "fillmode": "overlay",
             "size": 10,
             "solidity": 0.2
            },
            "type": "scatter"
           }
          ],
          "parcoords": [
           {
            "type": "parcoords",
            "line": {
             "colorbar": {
              "outlinewidth": 0,
              "ticks": ""
             }
            }
           }
          ],
          "scatterpolargl": [
           {
            "type": "scatterpolargl",
            "marker": {
             "colorbar": {
              "outlinewidth": 0,
              "ticks": ""
             }
            }
           }
          ],
          "bar": [
           {
            "error_x": {
             "color": "#2a3f5f"
            },
            "error_y": {
             "color": "#2a3f5f"
            },
            "marker": {
             "line": {
              "color": "#E5ECF6",
              "width": 0.5
             },
             "pattern": {
              "fillmode": "overlay",
              "size": 10,
              "solidity": 0.2
             }
            },
            "type": "bar"
           }
          ],
          "scattergeo": [
           {
            "type": "scattergeo",
            "marker": {
             "colorbar": {
              "outlinewidth": 0,
              "ticks": ""
             }
            }
           }
          ],
          "scatterpolar": [
           {
            "type": "scatterpolar",
            "marker": {
             "colorbar": {
              "outlinewidth": 0,
              "ticks": ""
             }
            }
           }
          ],
          "histogram": [
           {
            "marker": {
             "pattern": {
              "fillmode": "overlay",
              "size": 10,
              "solidity": 0.2
             }
            },
            "type": "histogram"
           }
          ],
          "scattergl": [
           {
            "type": "scattergl",
            "marker": {
             "colorbar": {
              "outlinewidth": 0,
              "ticks": ""
             }
            }
           }
          ],
          "scatter3d": [
           {
            "type": "scatter3d",
            "line": {
             "colorbar": {
              "outlinewidth": 0,
              "ticks": ""
             }
            },
            "marker": {
             "colorbar": {
              "outlinewidth": 0,
              "ticks": ""
             }
            }
           }
          ],
          "scattermapbox": [
           {
            "type": "scattermapbox",
            "marker": {
             "colorbar": {
              "outlinewidth": 0,
              "ticks": ""
             }
            }
           }
          ],
          "scatterternary": [
           {
            "type": "scatterternary",
            "marker": {
             "colorbar": {
              "outlinewidth": 0,
              "ticks": ""
             }
            }
           }
          ],
          "scattercarpet": [
           {
            "type": "scattercarpet",
            "marker": {
             "colorbar": {
              "outlinewidth": 0,
              "ticks": ""
             }
            }
           }
          ],
          "carpet": [
           {
            "aaxis": {
             "endlinecolor": "#2a3f5f",
             "gridcolor": "white",
             "linecolor": "white",
             "minorgridcolor": "white",
             "startlinecolor": "#2a3f5f"
            },
            "baxis": {
             "endlinecolor": "#2a3f5f",
             "gridcolor": "white",
             "linecolor": "white",
             "minorgridcolor": "white",
             "startlinecolor": "#2a3f5f"
            },
            "type": "carpet"
           }
          ],
          "table": [
           {
            "cells": {
             "fill": {
              "color": "#EBF0F8"
             },
             "line": {
              "color": "white"
             }
            },
            "header": {
             "fill": {
              "color": "#C8D4E3"
             },
             "line": {
              "color": "white"
             }
            },
            "type": "table"
           }
          ],
          "barpolar": [
           {
            "marker": {
             "line": {
              "color": "#E5ECF6",
              "width": 0.5
             },
             "pattern": {
              "fillmode": "overlay",
              "size": 10,
              "solidity": 0.2
             }
            },
            "type": "barpolar"
           }
          ],
          "pie": [
           {
            "automargin": true,
            "type": "pie"
           }
          ]
         },
         "layout": {
          "autotypenumbers": "strict",
          "colorway": [
           "#636efa",
           "#EF553B",
           "#00cc96",
           "#ab63fa",
           "#FFA15A",
           "#19d3f3",
           "#FF6692",
           "#B6E880",
           "#FF97FF",
           "#FECB52"
          ],
          "font": {
           "color": "#2a3f5f"
          },
          "hovermode": "closest",
          "hoverlabel": {
           "align": "left"
          },
          "paper_bgcolor": "white",
          "plot_bgcolor": "#E5ECF6",
          "polar": {
           "bgcolor": "#E5ECF6",
           "angularaxis": {
            "gridcolor": "white",
            "linecolor": "white",
            "ticks": ""
           },
           "radialaxis": {
            "gridcolor": "white",
            "linecolor": "white",
            "ticks": ""
           }
          },
          "ternary": {
           "bgcolor": "#E5ECF6",
           "aaxis": {
            "gridcolor": "white",
            "linecolor": "white",
            "ticks": ""
           },
           "baxis": {
            "gridcolor": "white",
            "linecolor": "white",
            "ticks": ""
           },
           "caxis": {
            "gridcolor": "white",
            "linecolor": "white",
            "ticks": ""
           }
          },
          "coloraxis": {
           "colorbar": {
            "outlinewidth": 0,
            "ticks": ""
           }
          },
          "colorscale": {
           "sequential": [
            [
             0.0,
             "#0d0887"
            ],
            [
             0.1111111111111111,
             "#46039f"
            ],
            [
             0.2222222222222222,
             "#7201a8"
            ],
            [
             0.3333333333333333,
             "#9c179e"
            ],
            [
             0.4444444444444444,
             "#bd3786"
            ],
            [
             0.5555555555555556,
             "#d8576b"
            ],
            [
             0.6666666666666666,
             "#ed7953"
            ],
            [
             0.7777777777777778,
             "#fb9f3a"
            ],
            [
             0.8888888888888888,
             "#fdca26"
            ],
            [
             1.0,
             "#f0f921"
            ]
           ],
           "sequentialminus": [
            [
             0.0,
             "#0d0887"
            ],
            [
             0.1111111111111111,
             "#46039f"
            ],
            [
             0.2222222222222222,
             "#7201a8"
            ],
            [
             0.3333333333333333,
             "#9c179e"
            ],
            [
             0.4444444444444444,
             "#bd3786"
            ],
            [
             0.5555555555555556,
             "#d8576b"
            ],
            [
             0.6666666666666666,
             "#ed7953"
            ],
            [
             0.7777777777777778,
             "#fb9f3a"
            ],
            [
             0.8888888888888888,
             "#fdca26"
            ],
            [
             1.0,
             "#f0f921"
            ]
           ],
           "diverging": [
            [
             0,
             "#8e0152"
            ],
            [
             0.1,
             "#c51b7d"
            ],
            [
             0.2,
             "#de77ae"
            ],
            [
             0.3,
             "#f1b6da"
            ],
            [
             0.4,
             "#fde0ef"
            ],
            [
             0.5,
             "#f7f7f7"
            ],
            [
             0.6,
             "#e6f5d0"
            ],
            [
             0.7,
             "#b8e186"
            ],
            [
             0.8,
             "#7fbc41"
            ],
            [
             0.9,
             "#4d9221"
            ],
            [
             1,
             "#276419"
            ]
           ]
          },
          "xaxis": {
           "gridcolor": "white",
           "linecolor": "white",
           "ticks": "",
           "title": {
            "standoff": 15
           },
           "zerolinecolor": "white",
           "automargin": true,
           "zerolinewidth": 2
          },
          "yaxis": {
           "gridcolor": "white",
           "linecolor": "white",
           "ticks": "",
           "title": {
            "standoff": 15
           },
           "zerolinecolor": "white",
           "automargin": true,
           "zerolinewidth": 2
          },
          "scene": {
           "xaxis": {
            "backgroundcolor": "#E5ECF6",
            "gridcolor": "white",
            "linecolor": "white",
            "showbackground": true,
            "ticks": "",
            "zerolinecolor": "white",
            "gridwidth": 2
           },
           "yaxis": {
            "backgroundcolor": "#E5ECF6",
            "gridcolor": "white",
            "linecolor": "white",
            "showbackground": true,
            "ticks": "",
            "zerolinecolor": "white",
            "gridwidth": 2
           },
           "zaxis": {
            "backgroundcolor": "#E5ECF6",
            "gridcolor": "white",
            "linecolor": "white",
            "showbackground": true,
            "ticks": "",
            "zerolinecolor": "white",
            "gridwidth": 2
           }
          },
          "shapedefaults": {
           "line": {
            "color": "#2a3f5f"
           }
          },
          "annotationdefaults": {
           "arrowcolor": "#2a3f5f",
           "arrowhead": 0,
           "arrowwidth": 1
          },
          "geo": {
           "bgcolor": "white",
           "landcolor": "#E5ECF6",
           "subunitcolor": "white",
           "showland": true,
           "showlakes": true,
           "lakecolor": "white"
          },
          "title": {
           "x": 0.05
          },
          "mapbox": {
           "style": "light"
          }
         }
        },
        "scene": {
         "xaxis": {
          "gridcolor": "lightgrey",
          "zerolinecolor": "lightgrey",
          "showspikes": false,
          "range": [
           -275,
           275
          ],
          "title": {
           "text": "X"
          }
         },
         "yaxis": {
          "gridcolor": "lightgrey",
          "zerolinecolor": "lightgrey",
          "showspikes": false,
          "range": [
           -275,
           275
          ],
          "title": {
           "text": "Y"
          }
         },
         "zaxis": {
          "gridcolor": "lightgrey",
          "zerolinecolor": "lightgrey",
          "showspikes": false,
          "title": {
           "text": "Z"
          }
         },
         "bgcolor": "black",
         "camera": {
          "eye": {
           "x": 1,
           "y": 1,
           "z": -2
          },
          "up": {
           "x": 0,
           "y": 1,
           "z": 0
          },
          "center": {
           "x": 0,
           "y": 0,
           "z": 0
          }
         }
        },
        "margin": {
         "l": 0,
         "r": 0,
         "t": 0,
         "b": 0
        },
        "width": 1000,
        "height": 1000
       },
       "config": {
        "plotlyServerURL": "https://plot.ly"
       }
      },
      "text/html": "<div>                            <div id=\"348c4dde-f26d-436b-92b2-bf4017d1db1a\" class=\"plotly-graph-div\" style=\"height:1000px; width:1000px;\"></div>            <script type=\"text/javascript\">                require([\"plotly\"], function(Plotly) {                    window.PLOTLYENV=window.PLOTLYENV || {};                                    if (document.getElementById(\"348c4dde-f26d-436b-92b2-bf4017d1db1a\")) {                    Plotly.newPlot(                        \"348c4dde-f26d-436b-92b2-bf4017d1db1a\",                        [{\"marker\":{\"color\":\"blue\",\"size\":5},\"mode\":\"markers\",\"name\":\"Nodes\",\"showlegend\":false,\"x\":[-11.15999984741211,-11.15999984741211,-11.15999984741211,-10.545000076293945,-10.545000076293945,-10.545000076293945,-10.380000114440918,-10.380000114440918,-10.380000114440918,-12.885000228881836,-12.885000228881836,-12.885000228881836,-11.085000038146973,-11.085000038146973,-11.085000038146973,-10.454999923706055,-10.454999923706055,-10.454999923706055,-14.850000381469727,-14.850000381469727,-14.850000381469727,-11.654999732971191,-11.654999732971191,-11.654999732971191,-10.425000190734863,-10.425000190734863,-10.425000190734863,-16.815000534057617,-16.815000534057617,-12.194999694824219,-12.194999694824219,-12.194999694824219,-12.194999694824219,-10.335000038146973,-10.335000038146973,-10.335000038146973,-21.959999084472656,-13.604999542236328,-13.604999542236328,-9.795000076293945,-9.795000076293945,-37.73999786376953,-17.5049991607666,-6.554999828338623],\"y\":[-10.483312606811523,1.821808099746704,5.423312187194824,-22.773056030273438,-10.467935562133789,-6.86643123626709,-26.07030487060547,-13.76518440246582,-10.163680076599121,-10.1821928024292,-46.19719696044922,-58.5023193359375,25.787805557250977,-10.227198600769043,-22.532320022583008,38.3773078918457,2.3623015880584717,-9.942818641662598,-11.175824165344238,53.351070404052734,79.16181182861328,-75.02257537841797,-10.495683670043945,15.315058708190918,-99.60206604003906,-35.075172424316406,-9.264429092407227,-10.684210777282715,-102.2223129272461,81.6387939453125,-9.899306297302246,-45.914310455322266,-42.31280517578125,27.269681930541992,-8.745323181152344,-5.1438188552856445,-11.653759956359863,-10.544450759887695,68.08829498291016,-86.6809310913086,-8.048181533813477,-12.261737823486328,-10.967020988464355,-6.13871431350708],\"z\":[7.779999732971191,7.779999732971191,7.779999732971191,7.779999732971191,7.779999732971191,7.779999732971191,7.779999732971191,7.779999732971191,7.779999732971191,22.779998779296875,22.779998779296875,22.779998779296875,22.779998779296875,22.779998779296875,22.779998779296875,22.779998779296875,22.779998779296875,22.779998779296875,38.779998779296875,38.779998779296875,38.779998779296875,38.779998779296875,38.779998779296875,38.779998779296875,38.779998779296875,38.779998779296875,38.779998779296875,53.779998779296875,53.779998779296875,53.779998779296875,53.779998779296875,53.779998779296875,53.779998779296875,53.779998779296875,53.779998779296875,53.779998779296875,89.77999877929688,89.77999877929688,89.77999877929688,89.77999877929688,89.77999877929688,180.27999877929688,180.27999877929688,180.27999877929688],\"type\":\"scatter3d\"},{\"line\":{\"color\":\"#965601\",\"dash\":\"solid\",\"width\":1},\"mode\":\"lines\",\"showlegend\":false,\"x\":[-12.194999694824219,-13.604999542236328],\"y\":[-9.899306297302246,-10.544450759887695],\"z\":[53.779998779296875,89.77999877929688],\"type\":\"scatter3d\"},{\"line\":{\"color\":\"#965601\",\"dash\":\"solid\",\"width\":1},\"mode\":\"lines\",\"showlegend\":false,\"x\":[-10.335000038146973,-9.795000076293945],\"y\":[-8.745323181152344,-8.048181533813477],\"z\":[53.779998779296875,89.77999877929688],\"type\":\"scatter3d\"},{\"line\":{\"color\":\"#965601\",\"dash\":\"solid\",\"width\":1},\"mode\":\"lines\",\"showlegend\":false,\"x\":[-13.604999542236328,-17.5049991607666],\"y\":[-10.544450759887695,-10.967020988464355],\"z\":[89.77999877929688,180.27999877929688],\"type\":\"scatter3d\"},{\"line\":{\"color\":\"#965601\",\"dash\":\"solid\",\"width\":1},\"mode\":\"lines\",\"showlegend\":false,\"x\":[-9.795000076293945,-6.554999828338623],\"y\":[-8.048181533813477,-6.13871431350708],\"z\":[89.77999877929688,180.27999877929688],\"type\":\"scatter3d\"}],                        {\"template\":{\"data\":{\"histogram2dcontour\":[{\"type\":\"histogram2dcontour\",\"colorbar\":{\"outlinewidth\":0,\"ticks\":\"\"},\"colorscale\":[[0.0,\"#0d0887\"],[0.1111111111111111,\"#46039f\"],[0.2222222222222222,\"#7201a8\"],[0.3333333333333333,\"#9c179e\"],[0.4444444444444444,\"#bd3786\"],[0.5555555555555556,\"#d8576b\"],[0.6666666666666666,\"#ed7953\"],[0.7777777777777778,\"#fb9f3a\"],[0.8888888888888888,\"#fdca26\"],[1.0,\"#f0f921\"]]}],\"choropleth\":[{\"type\":\"choropleth\",\"colorbar\":{\"outlinewidth\":0,\"ticks\":\"\"}}],\"histogram2d\":[{\"type\":\"histogram2d\",\"colorbar\":{\"outlinewidth\":0,\"ticks\":\"\"},\"colorscale\":[[0.0,\"#0d0887\"],[0.1111111111111111,\"#46039f\"],[0.2222222222222222,\"#7201a8\"],[0.3333333333333333,\"#9c179e\"],[0.4444444444444444,\"#bd3786\"],[0.5555555555555556,\"#d8576b\"],[0.6666666666666666,\"#ed7953\"],[0.7777777777777778,\"#fb9f3a\"],[0.8888888888888888,\"#fdca26\"],[1.0,\"#f0f921\"]]}],\"heatmap\":[{\"type\":\"heatmap\",\"colorbar\":{\"outlinewidth\":0,\"ticks\":\"\"},\"colorscale\":[[0.0,\"#0d0887\"],[0.1111111111111111,\"#46039f\"],[0.2222222222222222,\"#7201a8\"],[0.3333333333333333,\"#9c179e\"],[0.4444444444444444,\"#bd3786\"],[0.5555555555555556,\"#d8576b\"],[0.6666666666666666,\"#ed7953\"],[0.7777777777777778,\"#fb9f3a\"],[0.8888888888888888,\"#fdca26\"],[1.0,\"#f0f921\"]]}],\"heatmapgl\":[{\"type\":\"heatmapgl\",\"colorbar\":{\"outlinewidth\":0,\"ticks\":\"\"},\"colorscale\":[[0.0,\"#0d0887\"],[0.1111111111111111,\"#46039f\"],[0.2222222222222222,\"#7201a8\"],[0.3333333333333333,\"#9c179e\"],[0.4444444444444444,\"#bd3786\"],[0.5555555555555556,\"#d8576b\"],[0.6666666666666666,\"#ed7953\"],[0.7777777777777778,\"#fb9f3a\"],[0.8888888888888888,\"#fdca26\"],[1.0,\"#f0f921\"]]}],\"contourcarpet\":[{\"type\":\"contourcarpet\",\"colorbar\":{\"outlinewidth\":0,\"ticks\":\"\"}}],\"contour\":[{\"type\":\"contour\",\"colorbar\":{\"outlinewidth\":0,\"ticks\":\"\"},\"colorscale\":[[0.0,\"#0d0887\"],[0.1111111111111111,\"#46039f\"],[0.2222222222222222,\"#7201a8\"],[0.3333333333333333,\"#9c179e\"],[0.4444444444444444,\"#bd3786\"],[0.5555555555555556,\"#d8576b\"],[0.6666666666666666,\"#ed7953\"],[0.7777777777777778,\"#fb9f3a\"],[0.8888888888888888,\"#fdca26\"],[1.0,\"#f0f921\"]]}],\"surface\":[{\"type\":\"surface\",\"colorbar\":{\"outlinewidth\":0,\"ticks\":\"\"},\"colorscale\":[[0.0,\"#0d0887\"],[0.1111111111111111,\"#46039f\"],[0.2222222222222222,\"#7201a8\"],[0.3333333333333333,\"#9c179e\"],[0.4444444444444444,\"#bd3786\"],[0.5555555555555556,\"#d8576b\"],[0.6666666666666666,\"#ed7953\"],[0.7777777777777778,\"#fb9f3a\"],[0.8888888888888888,\"#fdca26\"],[1.0,\"#f0f921\"]]}],\"mesh3d\":[{\"type\":\"mesh3d\",\"colorbar\":{\"outlinewidth\":0,\"ticks\":\"\"}}],\"scatter\":[{\"fillpattern\":{\"fillmode\":\"overlay\",\"size\":10,\"solidity\":0.2},\"type\":\"scatter\"}],\"parcoords\":[{\"type\":\"parcoords\",\"line\":{\"colorbar\":{\"outlinewidth\":0,\"ticks\":\"\"}}}],\"scatterpolargl\":[{\"type\":\"scatterpolargl\",\"marker\":{\"colorbar\":{\"outlinewidth\":0,\"ticks\":\"\"}}}],\"bar\":[{\"error_x\":{\"color\":\"#2a3f5f\"},\"error_y\":{\"color\":\"#2a3f5f\"},\"marker\":{\"line\":{\"color\":\"#E5ECF6\",\"width\":0.5},\"pattern\":{\"fillmode\":\"overlay\",\"size\":10,\"solidity\":0.2}},\"type\":\"bar\"}],\"scattergeo\":[{\"type\":\"scattergeo\",\"marker\":{\"colorbar\":{\"outlinewidth\":0,\"ticks\":\"\"}}}],\"scatterpolar\":[{\"type\":\"scatterpolar\",\"marker\":{\"colorbar\":{\"outlinewidth\":0,\"ticks\":\"\"}}}],\"histogram\":[{\"marker\":{\"pattern\":{\"fillmode\":\"overlay\",\"size\":10,\"solidity\":0.2}},\"type\":\"histogram\"}],\"scattergl\":[{\"type\":\"scattergl\",\"marker\":{\"colorbar\":{\"outlinewidth\":0,\"ticks\":\"\"}}}],\"scatter3d\":[{\"type\":\"scatter3d\",\"line\":{\"colorbar\":{\"outlinewidth\":0,\"ticks\":\"\"}},\"marker\":{\"colorbar\":{\"outlinewidth\":0,\"ticks\":\"\"}}}],\"scattermapbox\":[{\"type\":\"scattermapbox\",\"marker\":{\"colorbar\":{\"outlinewidth\":0,\"ticks\":\"\"}}}],\"scatterternary\":[{\"type\":\"scatterternary\",\"marker\":{\"colorbar\":{\"outlinewidth\":0,\"ticks\":\"\"}}}],\"scattercarpet\":[{\"type\":\"scattercarpet\",\"marker\":{\"colorbar\":{\"outlinewidth\":0,\"ticks\":\"\"}}}],\"carpet\":[{\"aaxis\":{\"endlinecolor\":\"#2a3f5f\",\"gridcolor\":\"white\",\"linecolor\":\"white\",\"minorgridcolor\":\"white\",\"startlinecolor\":\"#2a3f5f\"},\"baxis\":{\"endlinecolor\":\"#2a3f5f\",\"gridcolor\":\"white\",\"linecolor\":\"white\",\"minorgridcolor\":\"white\",\"startlinecolor\":\"#2a3f5f\"},\"type\":\"carpet\"}],\"table\":[{\"cells\":{\"fill\":{\"color\":\"#EBF0F8\"},\"line\":{\"color\":\"white\"}},\"header\":{\"fill\":{\"color\":\"#C8D4E3\"},\"line\":{\"color\":\"white\"}},\"type\":\"table\"}],\"barpolar\":[{\"marker\":{\"line\":{\"color\":\"#E5ECF6\",\"width\":0.5},\"pattern\":{\"fillmode\":\"overlay\",\"size\":10,\"solidity\":0.2}},\"type\":\"barpolar\"}],\"pie\":[{\"automargin\":true,\"type\":\"pie\"}]},\"layout\":{\"autotypenumbers\":\"strict\",\"colorway\":[\"#636efa\",\"#EF553B\",\"#00cc96\",\"#ab63fa\",\"#FFA15A\",\"#19d3f3\",\"#FF6692\",\"#B6E880\",\"#FF97FF\",\"#FECB52\"],\"font\":{\"color\":\"#2a3f5f\"},\"hovermode\":\"closest\",\"hoverlabel\":{\"align\":\"left\"},\"paper_bgcolor\":\"white\",\"plot_bgcolor\":\"#E5ECF6\",\"polar\":{\"bgcolor\":\"#E5ECF6\",\"angularaxis\":{\"gridcolor\":\"white\",\"linecolor\":\"white\",\"ticks\":\"\"},\"radialaxis\":{\"gridcolor\":\"white\",\"linecolor\":\"white\",\"ticks\":\"\"}},\"ternary\":{\"bgcolor\":\"#E5ECF6\",\"aaxis\":{\"gridcolor\":\"white\",\"linecolor\":\"white\",\"ticks\":\"\"},\"baxis\":{\"gridcolor\":\"white\",\"linecolor\":\"white\",\"ticks\":\"\"},\"caxis\":{\"gridcolor\":\"white\",\"linecolor\":\"white\",\"ticks\":\"\"}},\"coloraxis\":{\"colorbar\":{\"outlinewidth\":0,\"ticks\":\"\"}},\"colorscale\":{\"sequential\":[[0.0,\"#0d0887\"],[0.1111111111111111,\"#46039f\"],[0.2222222222222222,\"#7201a8\"],[0.3333333333333333,\"#9c179e\"],[0.4444444444444444,\"#bd3786\"],[0.5555555555555556,\"#d8576b\"],[0.6666666666666666,\"#ed7953\"],[0.7777777777777778,\"#fb9f3a\"],[0.8888888888888888,\"#fdca26\"],[1.0,\"#f0f921\"]],\"sequentialminus\":[[0.0,\"#0d0887\"],[0.1111111111111111,\"#46039f\"],[0.2222222222222222,\"#7201a8\"],[0.3333333333333333,\"#9c179e\"],[0.4444444444444444,\"#bd3786\"],[0.5555555555555556,\"#d8576b\"],[0.6666666666666666,\"#ed7953\"],[0.7777777777777778,\"#fb9f3a\"],[0.8888888888888888,\"#fdca26\"],[1.0,\"#f0f921\"]],\"diverging\":[[0,\"#8e0152\"],[0.1,\"#c51b7d\"],[0.2,\"#de77ae\"],[0.3,\"#f1b6da\"],[0.4,\"#fde0ef\"],[0.5,\"#f7f7f7\"],[0.6,\"#e6f5d0\"],[0.7,\"#b8e186\"],[0.8,\"#7fbc41\"],[0.9,\"#4d9221\"],[1,\"#276419\"]]},\"xaxis\":{\"gridcolor\":\"white\",\"linecolor\":\"white\",\"ticks\":\"\",\"title\":{\"standoff\":15},\"zerolinecolor\":\"white\",\"automargin\":true,\"zerolinewidth\":2},\"yaxis\":{\"gridcolor\":\"white\",\"linecolor\":\"white\",\"ticks\":\"\",\"title\":{\"standoff\":15},\"zerolinecolor\":\"white\",\"automargin\":true,\"zerolinewidth\":2},\"scene\":{\"xaxis\":{\"backgroundcolor\":\"#E5ECF6\",\"gridcolor\":\"white\",\"linecolor\":\"white\",\"showbackground\":true,\"ticks\":\"\",\"zerolinecolor\":\"white\",\"gridwidth\":2},\"yaxis\":{\"backgroundcolor\":\"#E5ECF6\",\"gridcolor\":\"white\",\"linecolor\":\"white\",\"showbackground\":true,\"ticks\":\"\",\"zerolinecolor\":\"white\",\"gridwidth\":2},\"zaxis\":{\"backgroundcolor\":\"#E5ECF6\",\"gridcolor\":\"white\",\"linecolor\":\"white\",\"showbackground\":true,\"ticks\":\"\",\"zerolinecolor\":\"white\",\"gridwidth\":2}},\"shapedefaults\":{\"line\":{\"color\":\"#2a3f5f\"}},\"annotationdefaults\":{\"arrowcolor\":\"#2a3f5f\",\"arrowhead\":0,\"arrowwidth\":1},\"geo\":{\"bgcolor\":\"white\",\"landcolor\":\"#E5ECF6\",\"subunitcolor\":\"white\",\"showland\":true,\"showlakes\":true,\"lakecolor\":\"white\"},\"title\":{\"x\":0.05},\"mapbox\":{\"style\":\"light\"}}},\"scene\":{\"xaxis\":{\"gridcolor\":\"lightgrey\",\"zerolinecolor\":\"lightgrey\",\"showspikes\":false,\"range\":[-275,275],\"title\":{\"text\":\"X\"}},\"yaxis\":{\"gridcolor\":\"lightgrey\",\"zerolinecolor\":\"lightgrey\",\"showspikes\":false,\"range\":[-275,275],\"title\":{\"text\":\"Y\"}},\"zaxis\":{\"gridcolor\":\"lightgrey\",\"zerolinecolor\":\"lightgrey\",\"showspikes\":false,\"title\":{\"text\":\"Z\"}},\"bgcolor\":\"black\",\"camera\":{\"eye\":{\"x\":1,\"y\":1,\"z\":-2},\"up\":{\"x\":0,\"y\":1,\"z\":0},\"center\":{\"x\":0,\"y\":0,\"z\":0}}},\"margin\":{\"l\":0,\"r\":0,\"t\":0,\"b\":0},\"width\":1000,\"height\":1000},                        {\"responsive\": true}                    ).then(function(){\n                            \nvar gd = document.getElementById('348c4dde-f26d-436b-92b2-bf4017d1db1a');\nvar x = new MutationObserver(function (mutations, observer) {{\n        var display = window.getComputedStyle(gd).display;\n        if (!display || display === 'none') {{\n            console.log([gd, 'removed!']);\n            Plotly.purge(gd);\n            observer.disconnect();\n        }}\n}});\n\n// Listen for the removal of the full notebook cells\nvar notebookContainer = gd.closest('#notebook-container');\nif (notebookContainer) {{\n    x.observe(notebookContainer, {childList: true});\n}}\n\n// Listen for the clearing of the current output cell\nvar outputEl = gd.closest('.output');\nif (outputEl) {{\n    x.observe(outputEl, {childList: true});\n}}\n\n                        })                };                });            </script>        </div>"
     },
     "metadata": {},
     "output_type": "display_data"
    }
   ],
   "source": [
    "from scripts.plotting import plot_xyz_plotly_3d\n",
    "\n",
    "# Usage example\n",
    "plot_xyz_plotly_3d(df_node, df_edge, threshold=0.5)\n"
   ],
   "metadata": {
    "collapsed": false,
    "ExecuteTime": {
     "end_time": "2023-10-19T01:54:54.515118Z",
     "start_time": "2023-10-19T01:54:54.505869Z"
    }
   }
  },
  {
   "cell_type": "code",
   "execution_count": 6,
   "outputs": [
    {
     "data": {
      "text/plain": "      start  end  truth       predict  x_start  y_start     z_start  x_end  \\\n0         0   21    0.0  5.715887e-07   -6.735      0.0 -607.672485 -5.295   \n20        1   21    0.0  2.499768e-09    6.045      0.0 -607.672485 -5.295   \n40        2   21    0.0  2.181598e-08   -8.715      0.0 -607.672485 -5.295   \n60        3   21    0.0  6.316399e-06   -2.865      0.0 -607.672485 -5.295   \n80        4   21    0.0  1.456391e-07   -1.695      0.0 -607.672485 -5.295   \n...     ...  ...    ...           ...      ...      ...         ...    ...   \n2379    117  141    0.0  1.876460e-11   10.305      0.0 -107.672501  5.925   \n2399    118  141    0.0  1.832707e-09   -2.835      0.0 -107.672501  5.925   \n2419    119  141    0.0  2.563927e-06   -1.935      0.0 -107.672501  5.925   \n2439    120  141    0.0  2.125535e-02    6.795      0.0 -107.672501  5.925   \n2459    121  141    0.0  2.491240e-07   -2.595      0.0 -107.672501  5.925   \n\n      y_end       z_end  \n0       0.0 -507.672485  \n20      0.0 -507.672485  \n40      0.0 -507.672485  \n60      0.0 -507.672485  \n80      0.0 -507.672485  \n...     ...         ...  \n2379    0.0   -7.672500  \n2399    0.0   -7.672500  \n2419    0.0   -7.672500  \n2439    0.0   -7.672500  \n2459    0.0   -7.672500  \n\n[2460 rows x 10 columns]",
      "text/html": "<div>\n<style scoped>\n    .dataframe tbody tr th:only-of-type {\n        vertical-align: middle;\n    }\n\n    .dataframe tbody tr th {\n        vertical-align: top;\n    }\n\n    .dataframe thead th {\n        text-align: right;\n    }\n</style>\n<table border=\"1\" class=\"dataframe\">\n  <thead>\n    <tr style=\"text-align: right;\">\n      <th></th>\n      <th>start</th>\n      <th>end</th>\n      <th>truth</th>\n      <th>predict</th>\n      <th>x_start</th>\n      <th>y_start</th>\n      <th>z_start</th>\n      <th>x_end</th>\n      <th>y_end</th>\n      <th>z_end</th>\n    </tr>\n  </thead>\n  <tbody>\n    <tr>\n      <th>0</th>\n      <td>0</td>\n      <td>21</td>\n      <td>0.0</td>\n      <td>5.715887e-07</td>\n      <td>-6.735</td>\n      <td>0.0</td>\n      <td>-607.672485</td>\n      <td>-5.295</td>\n      <td>0.0</td>\n      <td>-507.672485</td>\n    </tr>\n    <tr>\n      <th>20</th>\n      <td>1</td>\n      <td>21</td>\n      <td>0.0</td>\n      <td>2.499768e-09</td>\n      <td>6.045</td>\n      <td>0.0</td>\n      <td>-607.672485</td>\n      <td>-5.295</td>\n      <td>0.0</td>\n      <td>-507.672485</td>\n    </tr>\n    <tr>\n      <th>40</th>\n      <td>2</td>\n      <td>21</td>\n      <td>0.0</td>\n      <td>2.181598e-08</td>\n      <td>-8.715</td>\n      <td>0.0</td>\n      <td>-607.672485</td>\n      <td>-5.295</td>\n      <td>0.0</td>\n      <td>-507.672485</td>\n    </tr>\n    <tr>\n      <th>60</th>\n      <td>3</td>\n      <td>21</td>\n      <td>0.0</td>\n      <td>6.316399e-06</td>\n      <td>-2.865</td>\n      <td>0.0</td>\n      <td>-607.672485</td>\n      <td>-5.295</td>\n      <td>0.0</td>\n      <td>-507.672485</td>\n    </tr>\n    <tr>\n      <th>80</th>\n      <td>4</td>\n      <td>21</td>\n      <td>0.0</td>\n      <td>1.456391e-07</td>\n      <td>-1.695</td>\n      <td>0.0</td>\n      <td>-607.672485</td>\n      <td>-5.295</td>\n      <td>0.0</td>\n      <td>-507.672485</td>\n    </tr>\n    <tr>\n      <th>...</th>\n      <td>...</td>\n      <td>...</td>\n      <td>...</td>\n      <td>...</td>\n      <td>...</td>\n      <td>...</td>\n      <td>...</td>\n      <td>...</td>\n      <td>...</td>\n      <td>...</td>\n    </tr>\n    <tr>\n      <th>2379</th>\n      <td>117</td>\n      <td>141</td>\n      <td>0.0</td>\n      <td>1.876460e-11</td>\n      <td>10.305</td>\n      <td>0.0</td>\n      <td>-107.672501</td>\n      <td>5.925</td>\n      <td>0.0</td>\n      <td>-7.672500</td>\n    </tr>\n    <tr>\n      <th>2399</th>\n      <td>118</td>\n      <td>141</td>\n      <td>0.0</td>\n      <td>1.832707e-09</td>\n      <td>-2.835</td>\n      <td>0.0</td>\n      <td>-107.672501</td>\n      <td>5.925</td>\n      <td>0.0</td>\n      <td>-7.672500</td>\n    </tr>\n    <tr>\n      <th>2419</th>\n      <td>119</td>\n      <td>141</td>\n      <td>0.0</td>\n      <td>2.563927e-06</td>\n      <td>-1.935</td>\n      <td>0.0</td>\n      <td>-107.672501</td>\n      <td>5.925</td>\n      <td>0.0</td>\n      <td>-7.672500</td>\n    </tr>\n    <tr>\n      <th>2439</th>\n      <td>120</td>\n      <td>141</td>\n      <td>0.0</td>\n      <td>2.125535e-02</td>\n      <td>6.795</td>\n      <td>0.0</td>\n      <td>-107.672501</td>\n      <td>5.925</td>\n      <td>0.0</td>\n      <td>-7.672500</td>\n    </tr>\n    <tr>\n      <th>2459</th>\n      <td>121</td>\n      <td>141</td>\n      <td>0.0</td>\n      <td>2.491240e-07</td>\n      <td>-2.595</td>\n      <td>0.0</td>\n      <td>-107.672501</td>\n      <td>5.925</td>\n      <td>0.0</td>\n      <td>-7.672500</td>\n    </tr>\n  </tbody>\n</table>\n<p>2460 rows × 10 columns</p>\n</div>"
     },
     "metadata": {},
     "output_type": "display_data"
    }
   ],
   "source": [
    "display(df_edge)"
   ],
   "metadata": {
    "collapsed": false,
    "ExecuteTime": {
     "start_time": "2023-04-05T10:37:17.194677Z",
     "end_time": "2023-04-05T10:37:17.197167Z"
    }
   }
  },
  {
   "cell_type": "code",
   "execution_count": null,
   "outputs": [],
   "source": [],
   "metadata": {
    "collapsed": false
   }
  }
 ],
 "metadata": {
  "kernelspec": {
   "display_name": "Python 3",
   "language": "python",
   "name": "python3"
  },
  "language_info": {
   "codemirror_mode": {
    "name": "ipython",
    "version": 2
   },
   "file_extension": ".py",
   "mimetype": "text/x-python",
   "name": "python",
   "nbconvert_exporter": "python",
   "pygments_lexer": "ipython2",
   "version": "2.7.6"
  }
 },
 "nbformat": 4,
 "nbformat_minor": 0
}
